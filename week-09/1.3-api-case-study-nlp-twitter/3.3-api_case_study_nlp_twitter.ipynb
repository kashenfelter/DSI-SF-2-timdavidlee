{
 "cells": [
  {
   "cell_type": "markdown",
   "metadata": {},
   "source": [
    "\n",
    "```\n",
    "---\n",
    "title: API Review with Foursquare API\n",
    "type:  lesson + lab + demo\n",
    "duration: \"1:25\"\n",
    "creator:\n",
    "    name: David Yerrington\n",
    "    city: SF\n",
    "---\n",
    "```\n",
    "<img src=\"https://ga-dash.s3.amazonaws.com/production/assets/logo-9f88ae6c9c3871690e33280fcf557f33.png\" style=\"float: left; margin: 10px\">\n",
    "\n",
    "#  API Demo / Lab + NLP\n",
    "Week 8 | 1.3\n",
    "\n",
    "\n",
    "<img src=\"https://snag.gy/RNAEgP.jpg\" width=\"600\">\n",
    "\n",
    "Can we correctly identify which of these two old men tweeted what?\n"
   ]
  },
  {
   "cell_type": "markdown",
   "metadata": {},
   "source": [
    "## (5 mins) Opening \n",
    "\n",
    "Today we are going to attempt to classify wether a tweet comes from Trump, or Sanders.  We are going to:\n",
    "\n",
    "- Create a developer account on Twitter\n",
    "- Create a method to pull a list of tweets from the Twitter API\n",
    "- Perform proper preprocessing on our text\n",
    "- Engineer sentiment feature in our dataset using TextBlob\n",
    "- Explore supervised classification techniques\n"
   ]
  },
  {
   "cell_type": "markdown",
   "metadata": {},
   "source": [
    "## Twitter API Developer Registration\n",
    "\n",
    "If you haven't registered a Twitter account yet, this is a requirement in order to have a \"developer\" account.\n",
    "\n",
    "[Twitter Rest API](https://dev.twitter.com/rest/public)\n",
    "\n"
   ]
  },
  {
   "cell_type": "markdown",
   "metadata": {},
   "source": [
    "## Create an \"App\"\n",
    "\n",
    "![](https://snag.gy/HPBQbJ.jpg)\n",
    "\n",
    "We now will now go to Twitter and register an \"app\" [apps.twitter.com](https://apps.twitter.com/), just like we did for Foursquare.  After we set up our app, we will only need to reference the cooresponding keys Twitter generates for our app.  These are the keys that we will use with our application to communicate with the Twitter API."
   ]
  },
  {
   "cell_type": "markdown",
   "metadata": {},
   "source": [
    "## Install Python Twitter API library\n",
    "\n",
    "Someone was nice enough to build a nice libary for us in Python that we only need to plug in our keys and start collecting data with.  The library we will be using is provided by [Python Twitter Tools](http://mike.verdone.ca/twitter/).\n",
    "\n",
    "To install it, just run the next frame (there is no conda package)."
   ]
  },
  {
   "cell_type": "code",
   "execution_count": 1,
   "metadata": {
    "collapsed": false
   },
   "outputs": [
    {
     "name": "stdout",
     "output_type": "stream",
     "text": [
      "Requirement already up-to-date: twitter in /usr/local/lib/python2.7/site-packages\n",
      "Requirement already up-to-date: python-twitter in /usr/local/lib/python2.7/site-packages\n",
      "Requirement already up-to-date: requests in /usr/local/lib/python2.7/site-packages (from python-twitter)\n",
      "Requirement already up-to-date: future in /usr/local/lib/python2.7/site-packages (from python-twitter)\n",
      "Requirement already up-to-date: requests-oauthlib in /usr/local/lib/python2.7/site-packages (from python-twitter)\n",
      "Requirement already up-to-date: oauthlib>=0.6.2 in /usr/local/lib/python2.7/site-packages (from requests-oauthlib->python-twitter)\n"
     ]
    }
   ],
   "source": [
    "!pip install twitter python-twitter --upgrade"
   ]
  },
  {
   "cell_type": "markdown",
   "metadata": {},
   "source": [
    "## Some Boring Twitter Rules\n",
    "\n",
    "Twitter says they will rate limit your requests:\n",
    "\n",
    ">When using application-only authentication, rate limits are determined globally for the entire application. If a method allows for 15 requests per rate limit window, then it allows you to make 15 requests per window — on behalf of your application. This limit is considered completely separately from per-user limits. https://dev.twitter.com/rest/public/rate-limiting\n",
    "\n",
    "Here's a quick overview of what Twitter says are \"the rulez\":\n",
    "\n",
    "![](https://snag.gy/yJ6vIH.jpg)\n"
   ]
  },
  {
   "cell_type": "markdown",
   "metadata": {},
   "source": [
    "## About those Keys: OAuth Review\n",
    "\n",
    "![](https://g.twimg.com/dev/documentation/image/appauth_0.png)"
   ]
  },
  {
   "cell_type": "markdown",
   "metadata": {},
   "source": [
    "## What's going on here?  Take a minute.."
   ]
  },
  {
   "cell_type": "markdown",
   "metadata": {},
   "source": [
    "## Our Application Keys\n",
    "\n",
    "Take note of our application keys that we will be using with our little application that will be connecting to Twitter and mining Tweets from the official Bernie Sanders and Donald Trump twitter accounts.\n",
    "\n",
    "![](https://snag.gy/H1djQK.jpg)"
   ]
  },
  {
   "cell_type": "code",
   "execution_count": 2,
   "metadata": {
    "collapsed": false
   },
   "outputs": [],
   "source": [
    "# import yaml\n",
    "# credentials = yaml.load(open('credentials.yml'))\n",
    "\n",
    "# twitter_key = credentials['twitter_key']\n",
    "# twitter_secret = credentials['twitter_secret']\n",
    "# token = credentials['twitter_token']\n",
    "# token_secret = credentials['twitter_tokensecret']\n",
    "\n",
    "# import twitter\n",
    "# auth = twitter.OAuth(token, token_secret, twitter_key, twitter_secret)\n",
    "# twitter_api = twitter.Twitter(auth=auth)"
   ]
  },
  {
   "cell_type": "code",
   "execution_count": 3,
   "metadata": {
    "collapsed": false
   },
   "outputs": [],
   "source": [
    "# def stwitter(search_string= '#ASC2016',count=10):\n",
    "#     search_results = twitter_api.search.tweets(\n",
    "#                                         q=search_string\n",
    "#                                         , count=count)\n",
    "#     data = []\n",
    "#     for item in search_results['statuses']:\n",
    "#         mined = {\n",
    "#             'tweet_id': item.id,\n",
    "#             'handle': item.user.name,\n",
    "#             'retweet_count': item.retweet_count,\n",
    "#             'text': item.text,\n",
    "#             'mined_at': datetime.datetime.now(),\n",
    "#             'created_at': item.created_at,\n",
    "#         }\n",
    "\n",
    "#         data.append(mined)\n",
    "#     return data"
   ]
  },
  {
   "cell_type": "markdown",
   "metadata": {},
   "source": [
    "## Tweet Miner Class Setup\n",
    "\n",
    "The following code is meant to get us up and running with connectivity to twitter, and the ability to make requests and easily transform the JSON responses to DataFrames.  We will be using object oriented Python in order to organize our code.  We may go into review since this was a topic we covered earlier in the class but we can review it during the lab for those who want to know more about it.\n",
    "\n",
    "\n",
    "> \"request_limit\" is used in this class to limit the number of tweets that are pulled per instance request.  Setting it to something lower until you've worked the bugs out of your request, and captured the data you want, is essential to avoiding any rate limit blocks.\n",
    "\n",
    "#### Key Setup\n",
    "\n",
    "- **consumer_key** - Find this in your app page under the \"Keys and Access Tokens\"\n",
    "- **consumer_secret** - Right under **consumer_key** in the \"Keys and Access Tokens\" tab\n",
    "- **access_token_key** - You will need to click the \"generate tokens\" button to get this\n",
    "- **access_token_secret** - Also available after \"generate tokens\" is pressed\n"
   ]
  },
  {
   "cell_type": "code",
   "execution_count": 4,
   "metadata": {
    "collapsed": false
   },
   "outputs": [],
   "source": [
    "# twitter_keys = {\n",
    "#     'consumer_key':        'NX0QYOJxZtCvA0AtZT6D8o4ku',\n",
    "#     'consumer_secret':     '4XwbCowqcmL5WxuWwDPMaqnSrcKmAxd17j5jgnekOAwPYqDpeR',\n",
    "#     'access_token_key':    '212421653-VRsbECJmLx5HqKriWMGrMBT7ZGgFlPz9wAzpnRoU',\n",
    "#     'access_token_secret': 'pmOcl0KZwy88ZT67eJb5ed5yzYpVxgZWxo1qcs9s4g0ji'\n",
    "# }\n",
    "\n",
    "\n",
    "# thisis = twitter.api(\n",
    "#             consumer_key         =   twitter_keys['consumer_key'],\n",
    "#             consumer_secret      =   twitter_keys['consumer_secret'],\n",
    "#             access_token_key     =   twitter_keys['access_token_key'],\n",
    "#             access_token_secret  =   twitter_keys['access_token_secret']\n",
    "#         )\n",
    "\n",
    "# twitter.api\n",
    "\n"
   ]
  },
  {
   "cell_type": "code",
   "execution_count": 73,
   "metadata": {
    "collapsed": false
   },
   "outputs": [],
   "source": [
    "import twitter, re, datetime, pandas as pd\n",
    "\n",
    "class twitterminer():\n",
    "\n",
    "    request_limit   =   20    \n",
    "    api             =   False\n",
    "    data            =   []\n",
    "    \n",
    "    twitter_keys = {\n",
    "        'consumer_key':        'NX0QYOJxZtCvA0AtZT6D8o4ku',\n",
    "        'consumer_secret':     '4XwbCowqcmL5WxuWwDPMaqnSrcKmAxd17j5jgnekOAwPYqDpeR',\n",
    "        'access_token_key':    '212421653-VRsbECJmLx5HqKriWMGrMBT7ZGgFlPz9wAzpnRoU',\n",
    "        'access_token_secret': 'pmOcl0KZwy88ZT67eJb5ed5yzYpVxgZWxo1qcs9s4g0ji'\n",
    "    }\n",
    "    \n",
    "    def __init__(self,  request_limit = 20):\n",
    "        \n",
    "        self.request_limit = request_limit\n",
    "        \n",
    "        # This sets the twitter API object for use internall within the class\n",
    "        self.set_api()\n",
    "        \n",
    "    def set_api(self):\n",
    "        \n",
    "        self.api = twitter.Api(\n",
    "            consumer_key         =   self.twitter_keys['consumer_key'],\n",
    "            consumer_secret      =   self.twitter_keys['consumer_secret'],\n",
    "            access_token_key     =   self.twitter_keys['access_token_key'],\n",
    "            access_token_secret  =   self.twitter_keys['access_token_secret']\n",
    "        )\n",
    "\n",
    "    def mine_user_tweets(self, user=\"dyerrington\", max_id=98924, mine_rewteets=False):\n",
    "\n",
    "        statuses   =   self.api.GetUserTimeline(screen_name=user, count=self.request_limit, max_id=max_id)\n",
    "        data       =   []\n",
    "        \n",
    "        for item in statuses:\n",
    "\n",
    "            mined = {\n",
    "                'tweet_id': item.id,\n",
    "                'handle': item.user.name,\n",
    "                'retweet_count': item.retweet_count,\n",
    "                'text': item.text,\n",
    "                'mined_at': datetime.datetime.now(),\n",
    "                'created_at': item.created_at,\n",
    "            }\n",
    "            \n",
    "            data.append(mined)\n",
    "            \n",
    "        return data\n",
    "    \n",
    "    def mine_user_tweets_CL(self, user=\"dyerrington\", mine_rewteets=False):\n",
    "        data       =   []\n",
    "        \n",
    "        for i in range (1,15):\n",
    "            if i == 1:\n",
    "                statuses   =   self.api.GetUserTimeline(screen_name=user, \n",
    "                                                count=self.request_limit)\n",
    "                for item in statuses:\n",
    "                    mined = {\n",
    "                        'tweet_id': item.id,\n",
    "                        'handle': item.user.name,\n",
    "                        'retweet_count': item.retweet_count,\n",
    "                        'text': item.text,\n",
    "                        'mined_at': datetime.datetime.now(),\n",
    "                        'created_at': item.created_at,\n",
    "                    }\n",
    "                    data.append(mined)\n",
    "            \n",
    "            else: \n",
    "                statuses   =   self.api.GetUserTimeline(screen_name=user, \n",
    "                                                count=self.request_limit,\n",
    "                                                max_id=data[-1]['tweet_id'])\n",
    "                for item in statuses:\n",
    "                    mined = {\n",
    "                        'tweet_id': item.id,\n",
    "                        'handle': item.user.name,\n",
    "                        'retweet_count': item.retweet_count,\n",
    "                        'text': item.text,\n",
    "                        'mined_at': datetime.datetime.now(),\n",
    "                        'created_at': item.created_at,\n",
    "                    }\n",
    "                    data.append(mined)\n",
    "        \n",
    "        return data"
   ]
  },
  {
   "cell_type": "code",
   "execution_count": null,
   "metadata": {
    "collapsed": true
   },
   "outputs": [],
   "source": []
  },
  {
   "cell_type": "markdown",
   "metadata": {},
   "source": [
    "## Does anyone remember how we \"instantiate\" a new instance of this class?\n",
    "\n",
    "**Bonus bonus** How do we call the method to *mine_user_tweets()*?"
   ]
  },
  {
   "cell_type": "code",
   "execution_count": 74,
   "metadata": {
    "collapsed": false
   },
   "outputs": [
    {
     "data": {
      "text/plain": [
       "[]"
      ]
     },
     "execution_count": 74,
     "metadata": {},
     "output_type": "execute_result"
    }
   ],
   "source": [
    "# twitter ids:  realDonaldTrump, berniesanders\n",
    "# Let's test this out here..\n",
    "tm = twitterminer()\n",
    "tm.mine_user_tweets()"
   ]
  },
  {
   "cell_type": "markdown",
   "metadata": {
    "collapsed": true
   },
   "source": [
    "##  Now we create some training data\n",
    "\n",
    "We will have to munge a little bit in order to get our \"mined\" data from the Twitter API.  \n",
    "\n",
    " - Mine Trump Tweets\n",
    " - Create DataFrame\n",
    " - Mine Sanders Tweets\n",
    " - Append to DataFrame"
   ]
  },
  {
   "cell_type": "code",
   "execution_count": 75,
   "metadata": {
    "collapsed": false
   },
   "outputs": [],
   "source": [
    "# we only need to \"instantiate\" once.  Then we can call mine_user_tweets as much as we want.\n",
    "miner = twitterminer(request_limit=400)\n",
    "trump_tweets = miner.mine_user_tweets(\"realDonaldTrump\")"
   ]
  },
  {
   "cell_type": "code",
   "execution_count": 42,
   "metadata": {
    "collapsed": false
   },
   "outputs": [
    {
     "data": {
      "text/html": [
       "<div>\n",
       "<table border=\"1\" class=\"dataframe\">\n",
       "  <thead>\n",
       "    <tr style=\"text-align: right;\">\n",
       "      <th></th>\n",
       "      <th>created_at</th>\n",
       "      <th>handle</th>\n",
       "      <th>mined_at</th>\n",
       "      <th>retweet_count</th>\n",
       "      <th>text</th>\n",
       "      <th>tweet_id</th>\n",
       "    </tr>\n",
       "  </thead>\n",
       "  <tbody>\n",
       "    <tr>\n",
       "      <th>0</th>\n",
       "      <td>Mon Sep 19 19:52:00 +0000 2016</td>\n",
       "      <td>Donald J. Trump</td>\n",
       "      <td>2016-09-19 15:23:27.789132</td>\n",
       "      <td>3644</td>\n",
       "      <td>Philly FOP Chief On Presidential Endorsement: ...</td>\n",
       "      <td>777958440211771392</td>\n",
       "    </tr>\n",
       "    <tr>\n",
       "      <th>1</th>\n",
       "      <td>Mon Sep 19 16:53:42 +0000 2016</td>\n",
       "      <td>Donald J. Trump</td>\n",
       "      <td>2016-09-19 15:23:27.789144</td>\n",
       "      <td>6501</td>\n",
       "      <td>Hillary Clinton's weakness while she was Secre...</td>\n",
       "      <td>777913567676866560</td>\n",
       "    </tr>\n",
       "    <tr>\n",
       "      <th>2</th>\n",
       "      <td>Mon Sep 19 16:41:15 +0000 2016</td>\n",
       "      <td>Donald J. Trump</td>\n",
       "      <td>2016-09-19 15:23:27.789148</td>\n",
       "      <td>10633</td>\n",
       "      <td>Once again someone we were told is ok turns ou...</td>\n",
       "      <td>777910435425226753</td>\n",
       "    </tr>\n",
       "    <tr>\n",
       "      <th>3</th>\n",
       "      <td>Mon Sep 19 16:32:32 +0000 2016</td>\n",
       "      <td>Donald J. Trump</td>\n",
       "      <td>2016-09-19 15:23:27.789151</td>\n",
       "      <td>10979</td>\n",
       "      <td>Great job once again by law enforcement! We ar...</td>\n",
       "      <td>777908242538196992</td>\n",
       "    </tr>\n",
       "    <tr>\n",
       "      <th>4</th>\n",
       "      <td>Mon Sep 19 12:27:28 +0000 2016</td>\n",
       "      <td>Donald J. Trump</td>\n",
       "      <td>2016-09-19 15:23:27.789154</td>\n",
       "      <td>6249</td>\n",
       "      <td>\"@TarukMatuk: @CNN @FoxNews @realDonaldTrump @...</td>\n",
       "      <td>777846568741441536</td>\n",
       "    </tr>\n",
       "    <tr>\n",
       "      <th>5</th>\n",
       "      <td>Mon Sep 19 12:14:59 +0000 2016</td>\n",
       "      <td>Donald J. Trump</td>\n",
       "      <td>2016-09-19 15:23:27.789158</td>\n",
       "      <td>3760</td>\n",
       "      <td>\"@AngPiazza: @foxandfriends  @realDonaldTrump ...</td>\n",
       "      <td>777843428449251328</td>\n",
       "    </tr>\n",
       "    <tr>\n",
       "      <th>6</th>\n",
       "      <td>Mon Sep 19 11:02:30 +0000 2016</td>\n",
       "      <td>Donald J. Trump</td>\n",
       "      <td>2016-09-19 15:23:27.789161</td>\n",
       "      <td>1796</td>\n",
       "      <td>Will be on @foxandfriends at 7:02 A.M.  Enjoy.</td>\n",
       "      <td>777825186758418432</td>\n",
       "    </tr>\n",
       "    <tr>\n",
       "      <th>7</th>\n",
       "      <td>Mon Sep 19 02:32:03 +0000 2016</td>\n",
       "      <td>Donald J. Trump</td>\n",
       "      <td>2016-09-19 15:23:27.789164</td>\n",
       "      <td>11574</td>\n",
       "      <td>Terrible attacks in NY, NJ and MN this weekend...</td>\n",
       "      <td>777696726933180416</td>\n",
       "    </tr>\n",
       "    <tr>\n",
       "      <th>8</th>\n",
       "      <td>Mon Sep 19 02:30:34 +0000 2016</td>\n",
       "      <td>Donald J. Trump</td>\n",
       "      <td>2016-09-19 15:23:27.789167</td>\n",
       "      <td>16461</td>\n",
       "      <td>Under the leadership of Obama &amp;amp; Clinton, A...</td>\n",
       "      <td>777696356211326976</td>\n",
       "    </tr>\n",
       "    <tr>\n",
       "      <th>9</th>\n",
       "      <td>Sun Sep 18 21:11:48 +0000 2016</td>\n",
       "      <td>Donald J. Trump</td>\n",
       "      <td>2016-09-19 15:23:27.789170</td>\n",
       "      <td>11006</td>\n",
       "      <td>HAPPY BIRTHDAY - to the United States Air Forc...</td>\n",
       "      <td>777616135856545792</td>\n",
       "    </tr>\n",
       "  </tbody>\n",
       "</table>\n",
       "</div>"
      ],
      "text/plain": [
       "                       created_at           handle                   mined_at  \\\n",
       "0  Mon Sep 19 19:52:00 +0000 2016  Donald J. Trump 2016-09-19 15:23:27.789132   \n",
       "1  Mon Sep 19 16:53:42 +0000 2016  Donald J. Trump 2016-09-19 15:23:27.789144   \n",
       "2  Mon Sep 19 16:41:15 +0000 2016  Donald J. Trump 2016-09-19 15:23:27.789148   \n",
       "3  Mon Sep 19 16:32:32 +0000 2016  Donald J. Trump 2016-09-19 15:23:27.789151   \n",
       "4  Mon Sep 19 12:27:28 +0000 2016  Donald J. Trump 2016-09-19 15:23:27.789154   \n",
       "5  Mon Sep 19 12:14:59 +0000 2016  Donald J. Trump 2016-09-19 15:23:27.789158   \n",
       "6  Mon Sep 19 11:02:30 +0000 2016  Donald J. Trump 2016-09-19 15:23:27.789161   \n",
       "7  Mon Sep 19 02:32:03 +0000 2016  Donald J. Trump 2016-09-19 15:23:27.789164   \n",
       "8  Mon Sep 19 02:30:34 +0000 2016  Donald J. Trump 2016-09-19 15:23:27.789167   \n",
       "9  Sun Sep 18 21:11:48 +0000 2016  Donald J. Trump 2016-09-19 15:23:27.789170   \n",
       "\n",
       "   retweet_count                                               text  \\\n",
       "0           3644  Philly FOP Chief On Presidential Endorsement: ...   \n",
       "1           6501  Hillary Clinton's weakness while she was Secre...   \n",
       "2          10633  Once again someone we were told is ok turns ou...   \n",
       "3          10979  Great job once again by law enforcement! We ar...   \n",
       "4           6249  \"@TarukMatuk: @CNN @FoxNews @realDonaldTrump @...   \n",
       "5           3760  \"@AngPiazza: @foxandfriends  @realDonaldTrump ...   \n",
       "6           1796     Will be on @foxandfriends at 7:02 A.M.  Enjoy.   \n",
       "7          11574  Terrible attacks in NY, NJ and MN this weekend...   \n",
       "8          16461  Under the leadership of Obama &amp; Clinton, A...   \n",
       "9          11006  HAPPY BIRTHDAY - to the United States Air Forc...   \n",
       "\n",
       "             tweet_id  \n",
       "0  777958440211771392  \n",
       "1  777913567676866560  \n",
       "2  777910435425226753  \n",
       "3  777908242538196992  \n",
       "4  777846568741441536  \n",
       "5  777843428449251328  \n",
       "6  777825186758418432  \n",
       "7  777696726933180416  \n",
       "8  777696356211326976  \n",
       "9  777616135856545792  "
      ]
     },
     "execution_count": 42,
     "metadata": {},
     "output_type": "execute_result"
    }
   ],
   "source": [
    "trump_df = pd.DataFrame(trump_tweets)\n",
    "trump_df.head(10)"
   ]
  },
  {
   "cell_type": "markdown",
   "metadata": {},
   "source": [
    "## Any interesting ngrams going on with Trump?"
   ]
  },
  {
   "cell_type": "code",
   "execution_count": 150,
   "metadata": {
    "collapsed": false
   },
   "outputs": [
    {
     "data": {
      "text/plain": [
       "[(u'https co', 1290),\n",
       " (u'thank you', 248),\n",
       " (u'will be', 214),\n",
       " (u'trump2016 https', 164),\n",
       " (u'crooked hillary', 156),\n",
       " (u'of the', 150),\n",
       " (u'hillary clinton', 129),\n",
       " (u'great again', 103),\n",
       " (u'make america', 94),\n",
       " (u'in the', 93),\n",
       " (u'america great', 90),\n",
       " (u'makeamericagreatagain https', 79),\n",
       " (u'ted cruz', 76),\n",
       " (u'makeamericagreatagain trump2016', 74),\n",
       " (u'for the', 73),\n",
       " (u'to the', 71),\n",
       " (u'to be', 68),\n",
       " (u'we will', 64),\n",
       " (u'the people', 54),\n",
       " (u'be interviewed', 54)]"
      ]
     },
     "execution_count": 150,
     "metadata": {},
     "output_type": "execute_result"
    }
   ],
   "source": [
    "from sklearn.feature_extraction.text import TfidfVectorizer, CountVectorizer\n",
    "from collections import Counter\n",
    "\n",
    "# We can use the TfidfVectorizer to find ngrams for us\n",
    "vect = TfidfVectorizer(ngram_range=(2,2))\n",
    "\n",
    "# Pulls all of trumps tweet text's into one giant string\n",
    "summaries = \"\".join(trump_df['text'])\n",
    "ngrams_summaries = vect.build_analyzer()(summaries)\n",
    "\n",
    "Counter(ngrams_summaries).most_common(20)"
   ]
  },
  {
   "cell_type": "markdown",
   "metadata": {},
   "source": [
    "## (10 mins) Try this exercize with Bernie Sanders.."
   ]
  },
  {
   "cell_type": "code",
   "execution_count": 44,
   "metadata": {
    "collapsed": true
   },
   "outputs": [],
   "source": [
    "sanders_tweets = miner.mine_user_tweets(\"berniesanders\")"
   ]
  },
  {
   "cell_type": "code",
   "execution_count": 45,
   "metadata": {
    "collapsed": true
   },
   "outputs": [],
   "source": [
    "all_tweets = pd.DataFrame(trump_tweets + sanders_tweets)"
   ]
  },
  {
   "cell_type": "markdown",
   "metadata": {},
   "source": [
    "## Preprocessing our Tweets\n",
    "\n",
    "In order to do classfication recall that we need a set of features.  Our features are literally what our presidential hopefulls say on Twitter. \n",
    "\n",
    "We will need to:\n",
    "- Vectorize input text data\n",
    "- Intialize a model (let's try Logistic regression)\n",
    "- Train / Predict / Cross Validate\n",
    "- Score / Evaluate\n"
   ]
  },
  {
   "cell_type": "code",
   "execution_count": 77,
   "metadata": {
    "collapsed": false
   },
   "outputs": [
    {
     "data": {
      "text/plain": [
       "LogisticRegression(C=1.0, class_weight=None, dual=False, fit_intercept=True,\n",
       "          intercept_scaling=1, max_iter=100, multi_class='ovr', n_jobs=1,\n",
       "          penalty='l2', random_state=None, solver='liblinear', tol=0.0001,\n",
       "          verbose=0, warm_start=False)"
      ]
     },
     "execution_count": 77,
     "metadata": {},
     "output_type": "execute_result"
    }
   ],
   "source": [
    "from sklearn.linear_model import LogisticRegression\n",
    "\n",
    "# Preprocess our text data to Tfidf\n",
    "tfv = TfidfVectorizer(lowercase=True, strip_accents='unicode')\n",
    "X_all = tfv.fit_transform(all_tweets['text'])\n",
    "\n",
    "# Setup logistic regression (or try another classification method here)\n",
    "estimator = LogisticRegression()\n",
    "estimator.fit(X_all, all_tweets['handle'])\n",
    "\n"
   ]
  },
  {
   "cell_type": "markdown",
   "metadata": {},
   "source": [
    "## Check Prediction vs Random Sanders Tweet"
   ]
  },
  {
   "cell_type": "code",
   "execution_count": 78,
   "metadata": {
    "collapsed": false
   },
   "outputs": [
    {
     "data": {
      "text/plain": [
       "array([[ 0.73956231,  0.26043769],\n",
       "       [ 0.3318663 ,  0.6681337 ]])"
      ]
     },
     "execution_count": 78,
     "metadata": {},
     "output_type": "execute_result"
    }
   ],
   "source": [
    "# Prep our source as TfIdf vectors\n",
    "source_test = [\n",
    "    \"Demanding that the wealthy and the powerful start paying their fair share of taxes that's exactly what the American people want.\",\n",
    "    \"Crooked Hillary is spending tremendous amounts of Wall Street money on false ads against me. She is a very dishonest person!\"\n",
    "]\n",
    "\n",
    "############\n",
    "# NOTE:  Do not re-initialize the tfidf vectorizor or the feature space willbe overwritten and\n",
    "# hence your transform will not match the number of features you trained your model on.\n",
    "#\n",
    "# This is why you only need to \"transform\" since you already \"fit\" previously\n",
    "#\n",
    "####\n",
    "\n",
    "X_all = tfv.transform(source_test)\n",
    "\n",
    "# Predict using previously trained logist regression `estimator`\n",
    "estimator.predict_proba(X_all)"
   ]
  },
  {
   "cell_type": "markdown",
   "metadata": {},
   "source": [
    "## Lab Time\n",
    "\n",
    "We would like you to perform an analysis using a proper cross validation.  Also, try classfication using other models."
   ]
  },
  {
   "cell_type": "markdown",
   "metadata": {},
   "source": [
    "### 1. Implement the same analysis using more data.\n",
    "\n",
    "Experiment with using more data.  The API may not like that you are blowing through their limits so definitely be careful.  Try to grab only what you need 1x, then work on the copy of the objects that are returned.  Read the documents about rate limits and see if you can get enough without hitting the rate limit.  Are there any options availabl in the API to avoid such a problem?"
   ]
  },
  {
   "cell_type": "code",
   "execution_count": null,
   "metadata": {
    "collapsed": true
   },
   "outputs": [],
   "source": []
  },
  {
   "cell_type": "code",
   "execution_count": 81,
   "metadata": {
    "collapsed": true
   },
   "outputs": [],
   "source": [
    "miner = twitterminer(request_limit=5000)\n",
    "trump_tweets = miner.mine_user_tweets_CL(\"realDonaldTrump\")\n",
    "bernie_tweets = miner.mine_user_tweets_CL(\"berniesanders\")"
   ]
  },
  {
   "cell_type": "code",
   "execution_count": 84,
   "metadata": {
    "collapsed": false
   },
   "outputs": [
    {
     "name": "stdout",
     "output_type": "stream",
     "text": [
      "2799\n",
      "2786\n",
      "692054432905850884\n",
      "777999965847220224\n"
     ]
    }
   ],
   "source": [
    "print len(trump_tweets)\n",
    "trump_df = pd.DataFrame(trump_tweets)\n",
    "bernie_df = pd.DataFrame(bernie_tweets)\n",
    "trump_df.head(10)\n",
    "\n",
    "print len(trump_df.tweet_id.unique())\n",
    "print trump_df.tweet_id.min()\n",
    "print trump_df.tweet_id.max()\n",
    "\n",
    "# trump_tweets2 = miner.mine_user_tweets_CL(\"realDonaldTrump\")\n",
    "# trump_df2 = pd.DataFrame(trump_tweets2)\n",
    "# print trump_df2.tweet_id.min()\n",
    "# print trump_df2.tweet_id.max()\n"
   ]
  },
  {
   "cell_type": "code",
   "execution_count": 128,
   "metadata": {
    "collapsed": false
   },
   "outputs": [
    {
     "data": {
      "text/plain": [
       "[(u'trump2016 https', 164),\n",
       " (u'crooked hillary', 156),\n",
       " (u'hillary clinton', 129),\n",
       " (u'make america', 94),\n",
       " (u'america great', 90),\n",
       " (u'makeamericagreatagain https', 79),\n",
       " (u'ted cruz', 76),\n",
       " (u'makeamericagreatagain trump2016', 74),\n",
       " (u'make america great', 74),\n",
       " (u'makeamericagreatagain trump2016 https', 68),\n",
       " (u'crooked hillary clinton', 61),\n",
       " (u'donald trump', 42),\n",
       " (u'south carolina', 39),\n",
       " (u'new hampshire', 39),\n",
       " (u'new york', 39),\n",
       " (u'americafirst https', 36),\n",
       " (u'imwithyou https', 35),\n",
       " (u'marco rubio', 34),\n",
       " (u'lyin ted', 34),\n",
       " (u'bernie sanders', 28)]"
      ]
     },
     "execution_count": 128,
     "metadata": {},
     "output_type": "execute_result"
    }
   ],
   "source": [
    "from sklearn.feature_extraction.text import TfidfVectorizer\n",
    "from collections import Counter\n",
    "\n",
    "# We can use the TfidfVectorizer to find ngrams for us\n",
    "vect = TfidfVectorizer(ngram_range=(2,3), stop_words='english')\n",
    "\n",
    "# Pulls all of trumps tweet text's into one giant string\n",
    "summaries = \"\".join(trump_df['text'])\n",
    "ngrams_summaries = vect.build_analyzer()(summaries)\n",
    "\n",
    "Counter(ngrams_summaries).most_common(20)"
   ]
  },
  {
   "cell_type": "code",
   "execution_count": 129,
   "metadata": {
    "collapsed": false,
    "scrolled": true
   },
   "outputs": [
    {
     "data": {
      "text/plain": [
       "[(u'political revolution', 89),\n",
       " (u'wall street', 81),\n",
       " (u'health care', 71),\n",
       " (u'bernie sanders', 70),\n",
       " (u'united states', 56),\n",
       " (u'https rt', 46),\n",
       " (u'new york', 44),\n",
       " (u'climate change', 42),\n",
       " (u'vote bernie', 38),\n",
       " (u'donald trump', 36),\n",
       " (u'puerto rico', 34),\n",
       " (u'social security', 32),\n",
       " (u'watch live', 31),\n",
       " (u'american people', 30),\n",
       " (u'feelthebern https', 29),\n",
       " (u'minimum wage', 29),\n",
       " (u'hillary clinton', 28),\n",
       " (u'middle class', 27),\n",
       " (u'tax breaks', 27),\n",
       " (u'billionaire class', 27)]"
      ]
     },
     "execution_count": 129,
     "metadata": {},
     "output_type": "execute_result"
    }
   ],
   "source": [
    "from sklearn.feature_extraction.text import TfidfVectorizer\n",
    "from collections import Counter\n",
    "\n",
    "# We can use the TfidfVectorizer to find ngrams for us\n",
    "vect = TfidfVectorizer(ngram_range=(2,3), stop_words='english')\n",
    "\n",
    "# Pulls all of trumps tweet text's into one giant string\n",
    "summaries = \"\".join(bernie_df['text'])\n",
    "ngrams_summaries = vect.build_analyzer()(summaries)\n",
    "\n",
    "Counter(ngrams_summaries).most_common(20)"
   ]
  },
  {
   "cell_type": "code",
   "execution_count": 133,
   "metadata": {
    "collapsed": false,
    "scrolled": true
   },
   "outputs": [
    {
     "name": "stdout",
     "output_type": "stream",
     "text": [
      "(5597, 84377) (5597,)\n"
     ]
    }
   ],
   "source": [
    "all_tweets = pd.DataFrame(bernie_tweets + trump_tweets)\n",
    "\n",
    "from sklearn.linear_model import LogisticRegression\n",
    "import numpy as np\n",
    "y_all = np.array([1 if x == 'Bernie Sanders' else 0 for x in all_tweets['handle'] ])\n",
    "print X_all.shape, y_all.shape\n",
    "\n",
    "# Preprocess our text data to Tfidf\n",
    "tfv = TfidfVectorizer(lowercase=True, strip_accents='unicode', stop_words='english', ngram_range=(1,1))\n",
    "X_all = tfv.fit_transform(all_tweets['text'])\n",
    "\n",
    "\n"
   ]
  },
  {
   "cell_type": "code",
   "execution_count": null,
   "metadata": {
    "collapsed": false
   },
   "outputs": [],
   "source": []
  },
  {
   "cell_type": "markdown",
   "metadata": {},
   "source": [
    "### 2. Implement K-Folds or test/train split.\n",
    "\n",
    "Double check that you are getting random data before moving forward.  What would happen if you over sample Trump more than Sanders?"
   ]
  },
  {
   "cell_type": "code",
   "execution_count": 153,
   "metadata": {
    "collapsed": false
   },
   "outputs": [
    {
     "name": "stdout",
     "output_type": "stream",
     "text": [
      "[ 0.91454082  0.93622449  0.93997446  0.91954023  0.9412516 ] 0.930306317929\n"
     ]
    }
   ],
   "source": [
    "from sklearn.cross_validation import train_test_split, cross_val_score\n",
    "X_train, X_test, y_train, y_test = train_test_split(X_all, y_all, test_size=0.3)\n",
    "\n",
    "# Setup logistic regression (or try another classification method here)\n",
    "estimator = LogisticRegression()\n",
    "estimator.fit(X_train, y_train)\n",
    "\n",
    "score = cross_val_score(estimator, X_train, y_train, cv=5)\n",
    "print score, np.mean(score)"
   ]
  },
  {
   "cell_type": "markdown",
   "metadata": {},
   "source": [
    "### 3. Mine more Tweets that aren't in your data set\n",
    "Or use the hold-out method to do a proper test.  Refer back to our advanced classification evaluation lesson if you need to."
   ]
  },
  {
   "cell_type": "code",
   "execution_count": 144,
   "metadata": {
    "collapsed": false
   },
   "outputs": [
    {
     "name": "stdout",
     "output_type": "stream",
     "text": [
      "(1680, 10957)\n",
      "(1680,)\n",
      "(1680,)\n"
     ]
    }
   ],
   "source": [
    "y_hat_test = estimator.predict(X_test)\n",
    "print X_test.shape\n",
    "print y_hat_test.shape\n",
    "print y_test.shape"
   ]
  },
  {
   "cell_type": "code",
   "execution_count": 145,
   "metadata": {
    "collapsed": false
   },
   "outputs": [
    {
     "name": "stdout",
     "output_type": "stream",
     "text": [
      "[1 0 1 ..., 0 0 1]\n"
     ]
    }
   ],
   "source": [
    "print y_hat_test"
   ]
  },
  {
   "cell_type": "markdown",
   "metadata": {},
   "source": [
    "### 4. Check your classification report\n",
    "How's precision / recall of your model?"
   ]
  },
  {
   "cell_type": "code",
   "execution_count": 151,
   "metadata": {
    "collapsed": false
   },
   "outputs": [
    {
     "name": "stdout",
     "output_type": "stream",
     "text": [
      "\n",
      "             precision    recall  f1-score   support\n",
      "\n",
      "          0       0.94      0.92      0.93       844\n",
      "          1       0.92      0.94      0.93       836\n",
      "\n",
      "avg / total       0.93      0.93      0.93      1680\n",
      "\n"
     ]
    }
   ],
   "source": [
    "from sklearn.metrics import classification_report\n",
    "print \n",
    "cls_rep = classification_report(np.ravel(y_test), np.ravel(y_hat_test))\n",
    "\n",
    "print cls_rep\n"
   ]
  },
  {
   "cell_type": "markdown",
   "metadata": {},
   "source": [
    "### 5.  Change out your TFIDF vectorizer for CountVectorizer.\n",
    "How has this impacted your mode performance at all?"
   ]
  },
  {
   "cell_type": "code",
   "execution_count": 154,
   "metadata": {
    "collapsed": false
   },
   "outputs": [
    {
     "name": "stdout",
     "output_type": "stream",
     "text": [
      "(5597, 10957) (5597,)\n",
      "[ 0.94394904  0.93997446  0.91315453  0.92975734  0.91954023] 0.929275121816\n"
     ]
    }
   ],
   "source": [
    "all_tweets = pd.DataFrame(bernie_tweets + trump_tweets)\n",
    "\n",
    "from sklearn.linear_model import LogisticRegression\n",
    "import numpy as np\n",
    "y_all = np.array([1 if x == 'Bernie Sanders' else 0 for x in all_tweets['handle'] ])\n",
    "print X_all.shape, y_all.shape\n",
    "\n",
    "# Preprocess our text data to Tfidf\n",
    "cv = CountVectorizer(lowercase=True, strip_accents='unicode', stop_words='english', ngram_range=(1,1))\n",
    "X_all = cv.fit_transform(all_tweets['text'])\n",
    "\n",
    "X_train, X_test, y_train, y_test = train_test_split(X_all, y_all, test_size=0.3)\n",
    "\n",
    "# Setup logistic regression (or try another classification method here)\n",
    "estimator = LogisticRegression()\n",
    "estimator.fit(X_train, y_train)\n",
    "\n",
    "score = cross_val_score(estimator, X_train, y_train, cv=5)\n",
    "print score, np.mean(score)\n"
   ]
  },
  {
   "cell_type": "markdown",
   "metadata": {},
   "source": [
    "### 6.  Implement a different classification method such as random forrests.\n",
    "Or pick one of your favorites"
   ]
  },
  {
   "cell_type": "code",
   "execution_count": 155,
   "metadata": {
    "collapsed": false
   },
   "outputs": [
    {
     "name": "stdout",
     "output_type": "stream",
     "text": [
      "[ 0.9044586   0.90038314  0.90166028  0.899106    0.899106  ] 0.900942805314\n"
     ]
    }
   ],
   "source": [
    "from sklearn.ensemble import RandomForestClassifier\n",
    "estimator = RandomForestClassifier()\n",
    "estimator.fit(X_train, y_train)\n",
    "\n",
    "score = cross_val_score(estimator, X_train, y_train, cv=5)\n",
    "print score, np.mean(score)\n"
   ]
  },
  {
   "cell_type": "markdown",
   "metadata": {},
   "source": [
    "### 7.  Try to remove stopwords from your text during your preprocessing step\n",
    "\n",
    "Then double check your classfication report.  Have things improved?"
   ]
  },
  {
   "cell_type": "code",
   "execution_count": null,
   "metadata": {
    "collapsed": true
   },
   "outputs": [],
   "source": []
  },
  {
   "cell_type": "markdown",
   "metadata": {},
   "source": [
    "### 8.  Try removing samples that have links or that are obviously just announcements or \"noise\" that doesn't appear to represent \"True\" tweets by the authors."
   ]
  },
  {
   "cell_type": "code",
   "execution_count": null,
   "metadata": {
    "collapsed": true
   },
   "outputs": [],
   "source": []
  },
  {
   "cell_type": "markdown",
   "metadata": {},
   "source": [
    "### 9. What are some contrasting words or phrases that you can see between the ngrams for each author?"
   ]
  },
  {
   "cell_type": "code",
   "execution_count": null,
   "metadata": {
    "collapsed": true
   },
   "outputs": [],
   "source": []
  },
  {
   "cell_type": "markdown",
   "metadata": {},
   "source": [
    "### 10.  What do you think you can do to improve the scores further?"
   ]
  },
  {
   "cell_type": "code",
   "execution_count": null,
   "metadata": {
    "collapsed": true
   },
   "outputs": [],
   "source": []
  },
  {
   "cell_type": "markdown",
   "metadata": {},
   "source": [
    "### 11. **BONUS** Using TextBlob, add a sentiment feature to your dataset."
   ]
  },
  {
   "cell_type": "code",
   "execution_count": null,
   "metadata": {
    "collapsed": true
   },
   "outputs": [],
   "source": []
  },
  {
   "cell_type": "markdown",
   "metadata": {},
   "source": [
    "### 12. BONUS BONUS Apply PCA to your text features\n",
    "Is this effective? (ie: we could talk about LDA here a little bit)"
   ]
  },
  {
   "cell_type": "code",
   "execution_count": null,
   "metadata": {
    "collapsed": true
   },
   "outputs": [],
   "source": []
  },
  {
   "cell_type": "markdown",
   "metadata": {},
   "source": [
    "## Closing\n",
    "\n",
    "- What where the most impactful changes that helped your models?\n",
    "- What do you think would happen if we had more Trump Tweets than Sanders?\n",
    "- What other projects might you think to apply these problems against?"
   ]
  }
 ],
 "metadata": {
  "anaconda-cloud": {},
  "kernelspec": {
   "display_name": "Python [dsi]",
   "language": "python",
   "name": "Python [dsi]"
  },
  "language_info": {
   "codemirror_mode": {
    "name": "ipython",
    "version": 2
   },
   "file_extension": ".py",
   "mimetype": "text/x-python",
   "name": "python",
   "nbconvert_exporter": "python",
   "pygments_lexer": "ipython2",
   "version": "2.7.12"
  }
 },
 "nbformat": 4,
 "nbformat_minor": 0
}
