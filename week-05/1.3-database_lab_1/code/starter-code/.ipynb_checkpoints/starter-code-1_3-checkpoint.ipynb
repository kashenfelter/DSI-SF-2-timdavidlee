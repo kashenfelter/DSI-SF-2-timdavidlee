{
 "cells": [
  {
   "cell_type": "markdown",
   "metadata": {},
   "source": [
    "# Multi-table Datasets - ENRON Archive"
   ]
  },
  {
   "cell_type": "markdown",
   "metadata": {},
   "source": [
    "## 1. Data import\n",
    "\n",
    "Connect to the file 'assets/datasets/enron.db' using one of these methods:\n",
    "\n",
    "- sqlite3 python package\n",
    "- pandas.read_sql\n",
    "- SQLite Manager Firefox extension\n",
    "\n",
    "Take a look at the database and query the master table. How many Tables are there in the db?"
   ]
  },
  {
   "cell_type": "code",
   "execution_count": 4,
   "metadata": {
    "collapsed": false
   },
   "outputs": [],
   "source": [
    "import sqlite3\n",
    "import pandas as pd\n",
    "import numpy as np\n",
    "#sqlite_db = './assets/datasets/test_db.sqlite'\n",
    "conn = sqlite3.connect('../../assets/datasets/enron.db') "
   ]
  },
  {
   "cell_type": "markdown",
   "metadata": {},
   "source": [
    "Query the `sqlite_master` table to retrieve the schema of the `EmployeeBase` table.\n",
    "\n",
    "1. What fields are there?\n",
    "1. What's the type of each of them?"
   ]
  },
  {
   "cell_type": "code",
   "execution_count": 22,
   "metadata": {
    "collapsed": false
   },
   "outputs": [
    {
     "data": {
      "text/html": [
       "<div>\n",
       "<table border=\"1\" class=\"dataframe\">\n",
       "  <thead>\n",
       "    <tr style=\"text-align: right;\">\n",
       "      <th></th>\n",
       "      <th>eid</th>\n",
       "      <th>name</th>\n",
       "      <th>department</th>\n",
       "      <th>longdepartment</th>\n",
       "      <th>title</th>\n",
       "      <th>gender</th>\n",
       "      <th>seniority</th>\n",
       "    </tr>\n",
       "  </thead>\n",
       "  <tbody>\n",
       "    <tr>\n",
       "      <th>0</th>\n",
       "      <td>1</td>\n",
       "      <td>John Arnold</td>\n",
       "      <td>Forestry</td>\n",
       "      <td>ENA Gas Financial</td>\n",
       "      <td>VP Trading</td>\n",
       "      <td>Male</td>\n",
       "      <td>Senior</td>\n",
       "    </tr>\n",
       "    <tr>\n",
       "      <th>1</th>\n",
       "      <td>2</td>\n",
       "      <td>Harry Arora</td>\n",
       "      <td>Forestry</td>\n",
       "      <td>ENA East Power</td>\n",
       "      <td>VP Trading</td>\n",
       "      <td>Male</td>\n",
       "      <td>Senior</td>\n",
       "    </tr>\n",
       "    <tr>\n",
       "      <th>2</th>\n",
       "      <td>3</td>\n",
       "      <td>Robert Badeer</td>\n",
       "      <td>Forestry</td>\n",
       "      <td>ENA West Power</td>\n",
       "      <td>Mgr Trading</td>\n",
       "      <td>Male</td>\n",
       "      <td>Junior</td>\n",
       "    </tr>\n",
       "    <tr>\n",
       "      <th>3</th>\n",
       "      <td>4</td>\n",
       "      <td>Susan Bailey</td>\n",
       "      <td>Legal</td>\n",
       "      <td>ENA Legal</td>\n",
       "      <td>Specialist Legal</td>\n",
       "      <td>Female</td>\n",
       "      <td>Junior</td>\n",
       "    </tr>\n",
       "    <tr>\n",
       "      <th>4</th>\n",
       "      <td>5</td>\n",
       "      <td>Eric Bass</td>\n",
       "      <td>Forestry</td>\n",
       "      <td>ENA Gas Texas</td>\n",
       "      <td>Trader</td>\n",
       "      <td>Male</td>\n",
       "      <td>Junior</td>\n",
       "    </tr>\n",
       "  </tbody>\n",
       "</table>\n",
       "</div>"
      ],
      "text/plain": [
       "   eid           name department     longdepartment             title  gender  \\\n",
       "0    1    John Arnold   Forestry  ENA Gas Financial        VP Trading    Male   \n",
       "1    2    Harry Arora   Forestry     ENA East Power        VP Trading    Male   \n",
       "2    3  Robert Badeer   Forestry     ENA West Power       Mgr Trading    Male   \n",
       "3    4   Susan Bailey      Legal          ENA Legal  Specialist Legal  Female   \n",
       "4    5      Eric Bass   Forestry      ENA Gas Texas            Trader    Male   \n",
       "\n",
       "  seniority  \n",
       "0    Senior  \n",
       "1    Senior  \n",
       "2    Junior  \n",
       "3    Junior  \n",
       "4    Junior  "
      ]
     },
     "execution_count": 22,
     "metadata": {},
     "output_type": "execute_result"
    }
   ],
   "source": [
    "sql_query = \"\"\"\n",
    "SELECT * FROM EmployeeBase\n",
    "limit 5\n",
    "\"\"\"\n",
    "pd.read_sql(sql_query, con=conn)\n",
    "\n"
   ]
  },
  {
   "cell_type": "markdown",
   "metadata": {},
   "source": [
    "1. Print the first 5 rows of EmployeeBase table\n",
    "1. Print the first 5 rows of MessageBase table\n",
    "1. Print the first 5 rows of RecipientBase table\n",
    "\n",
    "**Hint**  use `SELECT` and `LIMIT`."
   ]
  },
  {
   "cell_type": "code",
   "execution_count": 20,
   "metadata": {
    "collapsed": false
   },
   "outputs": [
    {
     "data": {
      "text/html": [
       "<div>\n",
       "<table border=\"1\" class=\"dataframe\">\n",
       "  <thead>\n",
       "    <tr style=\"text-align: right;\">\n",
       "      <th></th>\n",
       "      <th>mid</th>\n",
       "      <th>filename</th>\n",
       "      <th>unix_time</th>\n",
       "      <th>subject</th>\n",
       "      <th>from_eid</th>\n",
       "    </tr>\n",
       "  </thead>\n",
       "  <tbody>\n",
       "    <tr>\n",
       "      <th>0</th>\n",
       "      <td>1</td>\n",
       "      <td>taylor-m/sent/11</td>\n",
       "      <td>910930020</td>\n",
       "      <td>Cd$ CME letter</td>\n",
       "      <td>138</td>\n",
       "    </tr>\n",
       "    <tr>\n",
       "      <th>1</th>\n",
       "      <td>2</td>\n",
       "      <td>taylor-m/sent/17</td>\n",
       "      <td>911459940</td>\n",
       "      <td>Indemnification</td>\n",
       "      <td>138</td>\n",
       "    </tr>\n",
       "    <tr>\n",
       "      <th>2</th>\n",
       "      <td>3</td>\n",
       "      <td>taylor-m/sent/18</td>\n",
       "      <td>911463840</td>\n",
       "      <td>Re: Indemnification</td>\n",
       "      <td>138</td>\n",
       "    </tr>\n",
       "    <tr>\n",
       "      <th>3</th>\n",
       "      <td>4</td>\n",
       "      <td>taylor-m/sent/23</td>\n",
       "      <td>911874180</td>\n",
       "      <td>Re: Coral Energy, L.P.</td>\n",
       "      <td>138</td>\n",
       "    </tr>\n",
       "    <tr>\n",
       "      <th>4</th>\n",
       "      <td>5</td>\n",
       "      <td>taylor-m/sent/27</td>\n",
       "      <td>912396120</td>\n",
       "      <td>Bankruptcy Code revisions</td>\n",
       "      <td>138</td>\n",
       "    </tr>\n",
       "  </tbody>\n",
       "</table>\n",
       "</div>"
      ],
      "text/plain": [
       "   mid          filename  unix_time                    subject  from_eid\n",
       "0    1  taylor-m/sent/11  910930020             Cd$ CME letter       138\n",
       "1    2  taylor-m/sent/17  911459940            Indemnification       138\n",
       "2    3  taylor-m/sent/18  911463840        Re: Indemnification       138\n",
       "3    4  taylor-m/sent/23  911874180     Re: Coral Energy, L.P.       138\n",
       "4    5  taylor-m/sent/27  912396120  Bankruptcy Code revisions       138"
      ]
     },
     "execution_count": 20,
     "metadata": {},
     "output_type": "execute_result"
    }
   ],
   "source": [
    "sql_query = \"\"\"\n",
    "SELECT * FROM MessageBase\n",
    "limit 5\n",
    "\"\"\"\n",
    "\n",
    "pd.read_sql(sql_query, con=conn)"
   ]
  },
  {
   "cell_type": "code",
   "execution_count": 19,
   "metadata": {
    "collapsed": false
   },
   "outputs": [
    {
     "data": {
      "text/html": [
       "<div>\n",
       "<table border=\"1\" class=\"dataframe\">\n",
       "  <thead>\n",
       "    <tr style=\"text-align: right;\">\n",
       "      <th></th>\n",
       "      <th>mid</th>\n",
       "      <th>rno</th>\n",
       "      <th>to_eid</th>\n",
       "    </tr>\n",
       "  </thead>\n",
       "  <tbody>\n",
       "    <tr>\n",
       "      <th>0</th>\n",
       "      <td>1</td>\n",
       "      <td>1</td>\n",
       "      <td>59</td>\n",
       "    </tr>\n",
       "    <tr>\n",
       "      <th>1</th>\n",
       "      <td>2</td>\n",
       "      <td>1</td>\n",
       "      <td>15</td>\n",
       "    </tr>\n",
       "    <tr>\n",
       "      <th>2</th>\n",
       "      <td>3</td>\n",
       "      <td>1</td>\n",
       "      <td>15</td>\n",
       "    </tr>\n",
       "    <tr>\n",
       "      <th>3</th>\n",
       "      <td>4</td>\n",
       "      <td>1</td>\n",
       "      <td>109</td>\n",
       "    </tr>\n",
       "    <tr>\n",
       "      <th>4</th>\n",
       "      <td>4</td>\n",
       "      <td>2</td>\n",
       "      <td>49</td>\n",
       "    </tr>\n",
       "  </tbody>\n",
       "</table>\n",
       "</div>"
      ],
      "text/plain": [
       "   mid  rno  to_eid\n",
       "0    1    1      59\n",
       "1    2    1      15\n",
       "2    3    1      15\n",
       "3    4    1     109\n",
       "4    4    2      49"
      ]
     },
     "execution_count": 19,
     "metadata": {},
     "output_type": "execute_result"
    }
   ],
   "source": [
    "sql_query = \"\"\"\n",
    "SELECT * FROM RecipientBase\n",
    "limit 5\n",
    "\"\"\"\n",
    "\n",
    "pd.read_sql(sql_query, con=conn)"
   ]
  },
  {
   "cell_type": "markdown",
   "metadata": {},
   "source": [
    "Import each of the 3 tables to a Pandas Dataframes"
   ]
  },
  {
   "cell_type": "code",
   "execution_count": 23,
   "metadata": {
    "collapsed": false
   },
   "outputs": [],
   "source": [
    "sql_query = \"\"\"\n",
    "SELECT * FROM EmployeeBase\n",
    "\"\"\"\n",
    "pd_emp = pd.read_sql(sql_query, con=conn)\n",
    "\n",
    "sql_query = \"\"\"\n",
    "SELECT * FROM MessageBase\n",
    "\"\"\"\n",
    "pd_mess = pd.read_sql(sql_query, con=conn)\n",
    "\n",
    "sql_query = \"\"\"\n",
    "SELECT * FROM RecipientBase\n",
    "\"\"\"\n",
    "pd_recip = pd.read_sql(sql_query, con=conn)\n",
    "\n"
   ]
  },
  {
   "cell_type": "markdown",
   "metadata": {},
   "source": [
    "## 2. Data Exploration\n",
    "\n",
    "Use the 3 dataframes to answer the following questions:\n",
    "\n",
    "1. How many employees are there in the company?\n",
    "- How many messages are there in the database?\n",
    "- Convert the timestamp column in the messages. When was the oldest message sent? And the newest?\n",
    "- Some messages are sent to more than one recipient. Group the messages by message_id and count the number of recepients. Then look at the distribution of recepient numbers.\n",
    "    - how many messages have only one recepient?\n",
    "    - how many messages have >= 5 recepients?\n",
    "    - what's the highest number of recepients?\n",
    "    - who sent the message with the highest number of recepients?\n",
    "- Plot the distribution of recepient numbers"
   ]
  },
  {
   "cell_type": "code",
   "execution_count": 66,
   "metadata": {
    "collapsed": false
   },
   "outputs": [
    {
     "name": "stdout",
     "output_type": "stream",
     "text": [
      "#1 how many employees are there? 156\n",
      "#2 how many messages are there in the database (21635, 6)\n",
      "#3 convert the messages into time, whats the olders and youngest? \n",
      "2002-06-21 06:37:34\n",
      "1998-11-12 20:07:00\n",
      "#4a - how many messages have only one recepient?\n",
      "14985\n",
      "#4b - how many messages have >= 5 recepients?\n",
      "20966\n",
      "#4c - what's the highest number of recepients\n",
      "57\n",
      "#4d - who sent the message with the highest number of recepients\n",
      "                  name    mid  to_eid\n",
      "9169  John J. Lavorato  12116      57\n",
      "9171  John J. Lavorato  12151      57\n",
      "#5 plot the distribution\n"
     ]
    },
    {
     "data": {
      "text/plain": [
       "<matplotlib.axes._subplots.AxesSubplot at 0x11ef2eb90>"
      ]
     },
     "execution_count": 66,
     "metadata": {},
     "output_type": "execute_result"
    },
    {
     "data": {
      "image/png": "[encoded data removed]",
      "text/plain": [
       "<matplotlib.figure.Figure at 0x11edaded0>"
      ]
     },
     "metadata": {},
     "output_type": "display_data"
    }
   ],
   "source": [
    "#1 How many employees are there in the company?\n",
    "pd_emp.head()\n",
    "# distinct by name\n",
    "print '#1 how many employees are there?', len(pd_emp.name.unique())\n",
    "\n",
    "#2. How many messages are there in the database?\n",
    "print \"#2 how many messages are there in the database\", pd_mess.shape\n",
    "\n",
    "#3. How many messages are there in the database?\n",
    "pd_mess.head()\n",
    "import datetime\n",
    "pd_mess['clean_timestamp'] = pd_mess.unix_time.map(lambda x: datetime.datetime.fromtimestamp(\n",
    "        int(x)\n",
    "    ).strftime('%Y-%m-%d %H:%M:%S'))\n",
    "print \"#3 convert the messages into time, whats the olders and youngest? \"\n",
    "print pd_mess['clean_timestamp'].max()\n",
    "print pd_mess['clean_timestamp'].min()\n",
    "\n",
    "print \"#4a - how many messages have only one recepient?\"\n",
    "pd_merge1 = pd_mess.merge(pd_recip,on='mid',how='left')\n",
    "pd_merge = pd_merge1.merge(pd_emp,left_on='from_eid', right_on='eid',how='left')\n",
    "\n",
    "summarized = pd_merge.groupby(['name','mid'])[['to_eid']].count()\n",
    "summarized.reset_index(inplace=True)\n",
    "print len(summarized[summarized['to_eid'] ==1])\n",
    "\n",
    "print \"#4b - how many messages have >= 5 recepients?\"\n",
    "print len(summarized[summarized['to_eid'] <=5])\n",
    "\n",
    "print \"#4c - what's the highest number of recepients\"\n",
    "print summarized['to_eid'].max()\n",
    "\n",
    "print \"#4d - who sent the message with the highest number of recepients\"\n",
    "print summarized[summarized['to_eid'] ==summarized['to_eid'].max()]\n",
    "\n",
    "print \"#5 plot the distribution\"\n",
    "import matplotlib.pyplot as plt\n",
    "%matplotlib inline\n",
    "summarized.to_eid.hist()\n"
   ]
  },
  {
   "cell_type": "markdown",
   "metadata": {},
   "source": [
    "Rescale to investigate the tail of the curve"
   ]
  },
  {
   "cell_type": "code",
   "execution_count": null,
   "metadata": {
    "collapsed": false
   },
   "outputs": [],
   "source": []
  },
  {
   "cell_type": "markdown",
   "metadata": {},
   "source": [
    "## 3. Data Merging\n",
    "\n",
    "Use the pandas merge function to combine the information in the 3 dataframes to answer the following questions:\n",
    "\n",
    "1. Are there more Men or Women employees?\n",
    "- How is gender distributed across departments?\n",
    "- Who is sending more emails? Men or Women?\n",
    "- What's the average number of emails sent by each gender?\n",
    "- Are there more Juniors or Seniors?\n",
    "- Who is sending more emails? Juniors or Seniors?\n",
    "- Which department is sending more emails? How does that relate with the number of employees in the department?\n",
    "- Who are the top 3 senders of emails? (people who sent out the most emails)"
   ]
  },
  {
   "cell_type": "code",
   "execution_count": 88,
   "metadata": {
    "collapsed": false
   },
   "outputs": [
    {
     "data": {
      "text/html": [
       "<div>\n",
       "<table border=\"1\" class=\"dataframe\">\n",
       "  <thead>\n",
       "    <tr style=\"text-align: right;\">\n",
       "      <th></th>\n",
       "      <th>mid</th>\n",
       "      <th>filename</th>\n",
       "      <th>unix_time</th>\n",
       "      <th>subject</th>\n",
       "      <th>from_eid</th>\n",
       "      <th>clean_timestamp</th>\n",
       "      <th>rno</th>\n",
       "      <th>to_eid</th>\n",
       "      <th>eid</th>\n",
       "      <th>name</th>\n",
       "      <th>department</th>\n",
       "      <th>longdepartment</th>\n",
       "      <th>title</th>\n",
       "      <th>gender</th>\n",
       "      <th>seniority</th>\n",
       "    </tr>\n",
       "  </thead>\n",
       "  <tbody>\n",
       "    <tr>\n",
       "      <th>0</th>\n",
       "      <td>1</td>\n",
       "      <td>taylor-m/sent/11</td>\n",
       "      <td>910930020</td>\n",
       "      <td>Cd$ CME letter</td>\n",
       "      <td>138</td>\n",
       "      <td>1998-11-12 20:07:00</td>\n",
       "      <td>1</td>\n",
       "      <td>59</td>\n",
       "      <td>138</td>\n",
       "      <td>Mark E. Taylor</td>\n",
       "      <td>Legal</td>\n",
       "      <td>ENA Legal</td>\n",
       "      <td>VP &amp; Gen Cnsl</td>\n",
       "      <td>Male</td>\n",
       "      <td>Senior</td>\n",
       "    </tr>\n",
       "    <tr>\n",
       "      <th>1</th>\n",
       "      <td>2</td>\n",
       "      <td>taylor-m/sent/17</td>\n",
       "      <td>911459940</td>\n",
       "      <td>Indemnification</td>\n",
       "      <td>138</td>\n",
       "      <td>1998-11-18 23:19:00</td>\n",
       "      <td>1</td>\n",
       "      <td>15</td>\n",
       "      <td>138</td>\n",
       "      <td>Mark E. Taylor</td>\n",
       "      <td>Legal</td>\n",
       "      <td>ENA Legal</td>\n",
       "      <td>VP &amp; Gen Cnsl</td>\n",
       "      <td>Male</td>\n",
       "      <td>Senior</td>\n",
       "    </tr>\n",
       "    <tr>\n",
       "      <th>2</th>\n",
       "      <td>3</td>\n",
       "      <td>taylor-m/sent/18</td>\n",
       "      <td>911463840</td>\n",
       "      <td>Re: Indemnification</td>\n",
       "      <td>138</td>\n",
       "      <td>1998-11-19 00:24:00</td>\n",
       "      <td>1</td>\n",
       "      <td>15</td>\n",
       "      <td>138</td>\n",
       "      <td>Mark E. Taylor</td>\n",
       "      <td>Legal</td>\n",
       "      <td>ENA Legal</td>\n",
       "      <td>VP &amp; Gen Cnsl</td>\n",
       "      <td>Male</td>\n",
       "      <td>Senior</td>\n",
       "    </tr>\n",
       "  </tbody>\n",
       "</table>\n",
       "</div>"
      ],
      "text/plain": [
       "   mid          filename  unix_time              subject  from_eid  \\\n",
       "0    1  taylor-m/sent/11  910930020       Cd$ CME letter       138   \n",
       "1    2  taylor-m/sent/17  911459940      Indemnification       138   \n",
       "2    3  taylor-m/sent/18  911463840  Re: Indemnification       138   \n",
       "\n",
       "       clean_timestamp  rno  to_eid  eid            name department  \\\n",
       "0  1998-11-12 20:07:00    1      59  138  Mark E. Taylor      Legal   \n",
       "1  1998-11-18 23:19:00    1      15  138  Mark E. Taylor      Legal   \n",
       "2  1998-11-19 00:24:00    1      15  138  Mark E. Taylor      Legal   \n",
       "\n",
       "  longdepartment          title gender seniority  \n",
       "0      ENA Legal  VP & Gen Cnsl   Male    Senior  \n",
       "1      ENA Legal  VP & Gen Cnsl   Male    Senior  \n",
       "2      ENA Legal  VP & Gen Cnsl   Male    Senior  "
      ]
     },
     "execution_count": 88,
     "metadata": {},
     "output_type": "execute_result"
    }
   ],
   "source": [
    "pd_merge.head(3)"
   ]
  },
  {
   "cell_type": "code",
   "execution_count": 87,
   "metadata": {
    "collapsed": false
   },
   "outputs": [
    {
     "name": "stdout",
     "output_type": "stream",
     "text": [
      "#1 are there more men or women employees         gender\n",
      "gender        \n",
      "Female      43\n",
      "Male       113\n",
      "------------------------------------------------------------\n",
      "#2 How is gender distributed across departments                    gender\n",
      "gender department        \n",
      "Female Forestry        10\n",
      "       Legal           13\n",
      "       Other           20\n",
      "Male   Forestry        50\n",
      "       Legal           12\n",
      "       Other           51\n",
      "------------------------------------------------------------\n",
      "#3 Who is sending more emails? Men or Women?           mid\n",
      "gender       \n",
      "Female   8794\n",
      "Male    12841\n",
      "------------------------------------------------------------\n",
      "#4 What's the average number of emails sent by each gender?                  mid\n",
      "gender              \n",
      "Female  10424.010348\n",
      "Male    11087.818939\n",
      "------------------------------------------------------------\n",
      "#5 Are there more Juniors or Seniors?            eid\n",
      "seniority     \n",
      "Junior      82\n",
      "Senior      74\n",
      "------------------------------------------------------------\n",
      "#6 Who is sending more emails? Juniors or Seniors?              mid\n",
      "seniority       \n",
      "Junior      9196\n",
      "Senior     12439\n",
      "------------------------------------------------------------\n",
      "#7 Which department is sending more emails? How does that relate with the number of employees in the department?   department    mid  eid\n",
      "0   Forestry   4387   60\n",
      "1      Legal  10396   25\n",
      "2      Other   6852   71\n"
     ]
    }
   ],
   "source": [
    "pd_merge.head()\n",
    "print \"#1 are there more men or women employees\", pd_emp.groupby('gender')[['gender']].count()\n",
    "print '-'*60\n",
    "print \"#2 How is gender distributed across departments\", pd_emp.groupby(['gender','department'])[['gender']].count()\n",
    "print '-'*60\n",
    "mess_emp = pd_mess.merge(pd_emp, left_on = 'from_eid', right_on = 'eid',how='left')\n",
    "print \"#3 Who is sending more emails? Men or Women?\", mess_emp.groupby('gender')[['mid']].count()\n",
    "print '-'*60\n",
    "print \"#4 What's the average number of emails sent by each gender?\", mess_emp.groupby('gender')[['mid']].mean()\n",
    "print '-'*60\n",
    "print \"#5 Are there more Juniors or Seniors?\", pd_emp.groupby('seniority')[['eid']].count()\n",
    "print '-'*60\n",
    "print \"#6 Who is sending more emails? Juniors or Seniors?\", mess_emp.groupby('seniority')[['mid']].count()\n",
    "print '-'*60\n",
    "summary1 = mess_emp.groupby('department')[['mid']].count()\n",
    "summary2 = pd_emp.groupby('department')[['eid']].count()\n",
    "summary1.reset_index(inplace=True)\n",
    "summary2.reset_index(inplace=True)\n",
    "print \"#7 Which department is sending more emails? How does that relate with the number of employees in the department?\", summary1.merge(summary2, on ='department', how='inner') "
   ]
  },
  {
   "cell_type": "markdown",
   "metadata": {},
   "source": [
    "Also answer the following questions regarding received messages\n",
    "\n",
    "- Who is receiving more emails? Men or Women?\n",
    "- Who is receiving more emails? Juniors or Seniors?\n",
    "- Which department is receiving more emails? How does that relate with the number of employees in the department?\n",
    "- Who are the top 5 receivers of emails? (people who received the most emails)"
   ]
  },
  {
   "cell_type": "code",
   "execution_count": 112,
   "metadata": {
    "collapsed": false
   },
   "outputs": [
    {
     "name": "stdout",
     "output_type": "stream",
     "text": [
      "#1 who is receiving more emails?\n",
      "   gender    mid\n",
      "0  Female  15590\n",
      "1    Male  22798\n",
      "----------------------------------------------------------------------\n",
      "#2 who is receiving more emails?\n",
      "  seniority    mid\n",
      "0    Junior  15898\n",
      "1    Senior  22490\n",
      "----------------------------------------------------------------------\n",
      "#3 Which department is receiving more emails? How does that relate with the number of employees in the department?\n",
      "  department    mid  eid\n",
      "0   Forestry   7112   60\n",
      "1      Legal  19292   25\n",
      "2      Other  11984   71\n",
      "----------------------------------------------------------------------\n",
      "#4 Who are the top 5 receivers of emails? (people who received the most emails)?\n",
      "     to_eid              name   mid\n",
      "128     131  James D. Steffes  1797\n",
      "119     122   Richard Shapiro  1730\n",
      "135     138    Mark E. Taylor  1477\n",
      "58       61    Steven J. Kean  1290\n",
      "117     120   Sara Shackleton  1173\n",
      "----------------------------------------------------------------------\n"
     ]
    }
   ],
   "source": [
    "temp = pd_merge.groupby('gender')[['mid']].count()\n",
    "temp.reset_index(inplace=True)\n",
    "print \"#1 who is receiving more emails?\"\n",
    "print temp\n",
    "print '-'*70\n",
    "\n",
    "print \"#2 who is receiving more emails?\"\n",
    "temp = pd_merge.groupby('seniority')[['mid']].count()\n",
    "temp.reset_index(inplace=True)\n",
    "print temp\n",
    "print '-'*70\n",
    "\n",
    "print \"#3 Which department is receiving more emails? How does that relate with the number of employees in the department?\"\n",
    "temp = pd_merge.groupby('department')[['mid']].count()\n",
    "temp.reset_index(inplace=True)\n",
    "print temp.merge(summary2, on = 'department', how = 'inner')\n",
    "print '-'*70\n",
    "\n",
    "print \"#4 Who are the top 5 receivers of emails? (people who received the most emails)?\"\n",
    "temp2 = pd_recip.merge(pd_emp, left_on ='to_eid', right_on = 'eid', how = 'inner')\n",
    "temp2.reset_index(inplace=True)\n",
    "temp3 = temp2.groupby(['to_eid','name'])[['mid']].count()\n",
    "temp3.reset_index(inplace=True)\n",
    "temp3.sort_values('mid', ascending = False,inplace=True)\n",
    "print temp3.head(5)\n",
    "print '-'*70\n"
   ]
  },
  {
   "cell_type": "markdown",
   "metadata": {},
   "source": [
    "Which employees sent the most 'mass' emails?"
   ]
  },
  {
   "cell_type": "code",
   "execution_count": null,
   "metadata": {
    "collapsed": false
   },
   "outputs": [],
   "source": []
  },
  {
   "cell_type": "markdown",
   "metadata": {},
   "source": [
    "Keep exploring the dataset, which other questions would you ask?\n",
    "\n",
    "Work in pairs. Give each other a challenge and try to solve it."
   ]
  }
 ],
 "metadata": {
  "kernelspec": {
   "display_name": "Python [dsi]",
   "language": "python",
   "name": "Python [dsi]"
  },
  "language_info": {
   "codemirror_mode": {
    "name": "ipython",
    "version": 2
   },
   "file_extension": ".py",
   "mimetype": "text/x-python",
   "name": "python",
   "nbconvert_exporter": "python",
   "pygments_lexer": "ipython2",
   "version": "2.7.12"
  }
 },
 "nbformat": 4,
 "nbformat_minor": 0
}
