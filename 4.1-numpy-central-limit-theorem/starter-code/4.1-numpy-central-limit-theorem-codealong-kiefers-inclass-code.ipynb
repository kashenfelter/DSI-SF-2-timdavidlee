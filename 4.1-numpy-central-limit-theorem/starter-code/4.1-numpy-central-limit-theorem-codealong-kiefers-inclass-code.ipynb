{
 "cells": [
  {
   "cell_type": "markdown",
   "metadata": {},
   "source": [
    "<img src=\"http://imgur.com/1ZcRyrc.png\" style=\"float: left; margin: 15px; height: 80px\">\n",
    "\n",
    "# Numpy and the Central Limit Theorem\n",
    "\n",
    "Week 1 | Lesson 4.1\n",
    "\n",
    "---\n",
    "\n",
    "In this lesson we'll be looking at numpy data structures and functions, and then exploring the Central Limit Theorem.\n",
    "\n",
    "---\n",
    "\n",
    "### Load useful packages\n",
    "\n",
    "We are loading a few packages here.\n",
    "\n",
    "`csv` and `seaborn` you are not too familiar with yet, if at all. `seaborn` is a plotting package that we will be using a lot througout this class. We will cover it in much more detail as time goes on. For now we are loading and aliasing it as `sns`.\n",
    "\n",
    "The `.csv` package does what we have been doing manually thus far. We will use `pandas` to do this later, but its another example of how to load csv data. Basic usage looks like:\n",
    "\n",
    "```python\n",
    "import csv\n",
    "with open('some.csv', 'r') as f:\n",
    "    reader = csv.reader(f)\n",
    "    for row in reader:\n",
    "        print row\n",
    "```"
   ]
  },
  {
   "cell_type": "code",
   "execution_count": 15,
   "metadata": {
    "collapsed": true
   },
   "outputs": [],
   "source": [
    "import numpy as np\n",
    "import scipy.stats as stats\n",
    "import csv\n",
    "import seaborn as sns\n",
    "\n",
    "# this line tells jupyter notebook to put the plots in the notebook rather than saving them to file.\n",
    "%matplotlib inline\n",
    "\n",
    "# this line makes plots prettier on mac retina screens. If you don't have one it shouldn't do anything.\n",
    "%config InlineBackend.figure_format = 'retina'\n"
   ]
  },
  {
   "cell_type": "markdown",
   "metadata": {},
   "source": [
    "---\n",
    "\n",
    "### 1. Load in the highest paid athletes dataset\n",
    "\n",
    "The path to this dataset is wherever you copied it over to. You'll see my path below. If you use an absolute path you'll have less trouble with the fact that it is relative to where you started the jupyter notebook in the terminal."
   ]
  },
  {
   "cell_type": "code",
   "execution_count": 16,
   "metadata": {
    "collapsed": true
   },
   "outputs": [],
   "source": [
    "path_to_athletes_csv = '/Users/kiefer/github-repos/DSI-SF/datasets/highest_paid_athletes/Athletes.csv'\n",
    "\n",
    "athletes = []\n",
    "with open(path_to_athletes_csv, 'r') as f:\n",
    "    reader = csv.reader(f)\n",
    "    for row in reader:\n",
    "        athletes.append(row)"
   ]
  },
  {
   "cell_type": "markdown",
   "metadata": {},
   "source": [
    "---\n",
    "\n",
    "### 2. Put the data in a dictionary (rather than list) format\n",
    "\n",
    "We've again stored the data in a list of lists, where sublists are rows, and items of those sublists are column cells within rows.\n",
    "\n",
    "Another way to store data, which is more consistent with pandas, is in dictionary format, where the column headers are keys in a dictionary, and the columns themselves are the values associated with those keys.\n",
    "\n",
    "Convert the data to this dictionary format, keeping only the columns:\n",
    "\n",
    "```python\n",
    "['Rank','Name','Sport','Total Pay','Salary/Winnings','Endorsements','Nation','Gender','Year of birth', 'Height (cm)']\n",
    "```"
   ]
  },
  {
   "cell_type": "code",
   "execution_count": 17,
   "metadata": {
    "collapsed": false
   },
   "outputs": [],
   "source": [
    "wanted_cols = ['Rank','Name','Sport','Total Pay','Salary/Winnings',\n",
    "               'Endorsements','Nation','Gender','Year of birth', 'Height (cm)']\n",
    "\n",
    "ath = {k:[] for k in wanted_cols}"
   ]
  },
  {
   "cell_type": "code",
   "execution_count": 18,
   "metadata": {
    "collapsed": false
   },
   "outputs": [
    {
     "name": "stdout",
     "output_type": "stream",
     "text": [
      "Rank column index: 0\n",
      "Name column index: 1\n",
      "Sport column index: 2\n",
      "Total Pay column index: 3\n",
      "Salary/Winnings column index: 4\n",
      "Endorsements column index: 5\n",
      "Nation column index: 6\n",
      "Gender column index: 7\n",
      "Year of birth column index: 8\n",
      "Height (cm) column index: 11\n"
     ]
    }
   ],
   "source": [
    "header = athletes[0]\n",
    "data = athletes[1:]\n",
    "\n",
    "for index, column_name in enumerate(header):\n",
    "    \n",
    "    if column_name in wanted_cols:\n",
    "        print column_name, 'column index:', index\n",
    "\n",
    "        for row in data:\n",
    "            ath[column_name].append(row[index])\n"
   ]
  },
  {
   "cell_type": "code",
   "execution_count": 19,
   "metadata": {
    "collapsed": false
   },
   "outputs": [
    {
     "data": {
      "text/plain": [
       "{'Endorsements': ['$7,500,000', '$9,000,000', '$400,000', '$300,000'],\n",
       " 'Gender': ['Male', 'Male', 'Male', 'Male'],\n",
       " 'Height (cm)': ['188', '183', '188', '190'],\n",
       " 'Name': ['Aaron Rodgers', 'Adam Scott', 'Adrian Gonzalez', 'Alex Rodriguez'],\n",
       " 'Nation': ['United States', 'Australia', 'United States', 'United States'],\n",
       " 'Rank': ['55', '95', '60', '48'],\n",
       " 'Salary/Winnings': ['$14,500,000',\n",
       "  '$8,700,000',\n",
       "  '$21,100,000',\n",
       "  '$22,600,000'],\n",
       " 'Sport': ['Football', 'Golf', 'Baseball', 'Baseball'],\n",
       " 'Total Pay': ['$22,000,000', '$17,700,000', '$21,500,000', '$22,900,000'],\n",
       " 'Year of birth': ['1983', '1980', '1982', '1975']}"
      ]
     },
     "execution_count": 19,
     "metadata": {},
     "output_type": "execute_result"
    }
   ],
   "source": [
    "{k:v[0:4] for k,v in ath.items()}"
   ]
  },
  {
   "cell_type": "code",
   "execution_count": 20,
   "metadata": {
    "collapsed": false
   },
   "outputs": [
    {
     "name": "stdout",
     "output_type": "stream",
     "text": [
      "['188', '183', '188', '190', '185', '211', '188', '208', '196', '193']\n"
     ]
    },
    {
     "data": {
      "text/plain": [
       "['188', '183', '188', '190', '185', '211', '188', '208', '196', '193']"
      ]
     },
     "execution_count": 20,
     "metadata": {},
     "output_type": "execute_result"
    }
   ],
   "source": [
    "endor = ath['Endorsements']\n",
    "height = ath['Height (cm)']\n",
    "print height[0:10]\n",
    "[s.replace('$','').replace(',','') for s in height][0:10]"
   ]
  },
  {
   "cell_type": "markdown",
   "metadata": {},
   "source": [
    "Convert the numeric columns into float values. For the salary columns, you will need to remove the comma and dollar sign characters to properly convert to float."
   ]
  },
  {
   "cell_type": "code",
   "execution_count": 21,
   "metadata": {
    "collapsed": false
   },
   "outputs": [],
   "source": [
    "for column in ['Endorsements', 'Height (cm)', 'Rank', 'Salary/Winnings', 'Total Pay', 'Year of birth']:\n",
    "    string_row = ath[column]\n",
    "    float_row = [float(s.replace('$','').replace(',','')) for s in string_row]\n",
    "    ath[column] = float_row"
   ]
  },
  {
   "cell_type": "markdown",
   "metadata": {},
   "source": [
    "---\n",
    "\n",
    "### 3. Select numeric columns and convert to numpy arrays\n",
    "\n",
    "Pull out the three different salary columns and the height column into their own numpy arrays."
   ]
  },
  {
   "cell_type": "code",
   "execution_count": 22,
   "metadata": {
    "collapsed": true
   },
   "outputs": [],
   "source": [
    "# np.array(row) <-- converts to a numpy array\n",
    "total_pay = np.array(ath['Total Pay'])\n",
    "salary = np.array(ath['Salary/Winnings'])\n",
    "endorse = np.array(ath['Endorsements'])"
   ]
  },
  {
   "cell_type": "code",
   "execution_count": 28,
   "metadata": {
    "collapsed": false
   },
   "outputs": [
    {
     "name": "stdout",
     "output_type": "stream",
     "text": [
      "<type 'numpy.ndarray'>\n"
     ]
    },
    {
     "data": {
      "text/plain": [
       "array([  1.45000000e+07,   8.70000000e+06,   2.11000000e+07,\n",
       "         2.26000000e+07,   1.80000000e+07,   2.17000000e+07,\n",
       "         2.03000000e+07,   1.65000000e+07,   1.84000000e+07,\n",
       "         1.68000000e+07,   2.02000000e+07,   1.87000000e+07,\n",
       "         2.14000000e+07,   2.30000000e+07,   1.87000000e+07,\n",
       "         1.93000000e+07,   2.51000000e+07,   2.05000000e+07,\n",
       "         2.30000000e+07,   1.48000000e+07,   1.53000000e+07,\n",
       "         1.85000000e+07,   1.76000000e+07,   2.27000000e+07,\n",
       "         2.44000000e+07,   1.00000000e+07,   2.05000000e+07,\n",
       "         1.89000000e+07,   6.20000000e+06,   1.35000000e+07,\n",
       "         4.10000000e+07,   2.01000000e+07,   2.90000000e+07,\n",
       "         1.78000000e+07,   1.05000000e+08,   1.68000000e+07,\n",
       "         2.54000000e+07,   2.23000000e+07,   1.92000000e+07,\n",
       "         1.80000000e+07,   1.79000000e+07,   2.07000000e+07,\n",
       "         1.73000000e+07,   1.37000000e+07,   1.70000000e+07,\n",
       "         2.15000000e+07,   2.25000000e+07,   3.15000000e+07,\n",
       "         1.83000000e+07,   2.26000000e+07,   2.30000000e+07,\n",
       "         2.12000000e+07,   2.04000000e+07,   2.02000000e+07,\n",
       "         1.79000000e+07,   3.05000000e+07,   1.70000000e+07,\n",
       "         1.93000000e+07,   2.90000000e+07,   5.60000000e+06,\n",
       "         4.17000000e+07,   1.33000000e+07,   4.00000000e+06,\n",
       "         2.40000000e+06,   2.25000000e+07,   2.18000000e+07,\n",
       "         4.20000000e+07,   2.00000000e+07,   1.72000000e+07,\n",
       "         1.25000000e+07,   1.76000000e+07,   1.21000000e+07,\n",
       "         1.93000000e+07,   1.51000000e+07,   5.20000000e+06,\n",
       "         2.35000000e+07,   3.24000000e+07,   1.45000000e+07,\n",
       "         1.49000000e+07,   1.65000000e+07,   1.80000000e+07,\n",
       "         4.20000000e+06,   4.30000000e+06,   1.79000000e+07,\n",
       "         1.47000000e+07,   2.17000000e+07,   1.95000000e+07,\n",
       "         1.80000000e+07,   1.10000000e+07,   1.83000000e+07,\n",
       "         1.32000000e+07,   1.74000000e+07,   2.03000000e+07,\n",
       "         2.00000000e+05,   2.10000000e+07,   1.84000000e+07,\n",
       "         2.40000000e+07,   1.83000000e+07,   3.64000000e+07,\n",
       "         5.20000000e+07])"
      ]
     },
     "execution_count": 28,
     "metadata": {},
     "output_type": "execute_result"
    }
   ],
   "source": [
    "print type(salary)\n",
    "salary[0:10]\n",
    "salary"
   ]
  },
  {
   "cell_type": "markdown",
   "metadata": {},
   "source": [
    "---\n",
    "\n",
    "### 4. Plot the distributions of the numeric columns\n",
    "\n",
    "Use the distribution plotter function below to plot out the distributions for the four variables assigned above."
   ]
  },
  {
   "cell_type": "code",
   "execution_count": 24,
   "metadata": {
    "collapsed": true
   },
   "outputs": [],
   "source": [
    "def distribution_plotter(column, data):\n",
    "    sns.set(rc={\"figure.figsize\": (10, 7)})\n",
    "    sns.set_style('white')\n",
    "    dist = sns.distplot(data, kde=False, hist_kws={'alpha':0.2}, kde_kws={'linewidth':5})\n",
    "    dist.set_title('Distribution of ' + column + '\\n', fontsize=16)"
   ]
  },
  {
   "cell_type": "code",
   "execution_count": 25,
   "metadata": {
    "collapsed": false
   },
   "outputs": [
    {
     "data": {
      "image/png": "[encoded data removed]",
      "text/plain": [
       "<matplotlib.figure.Figure at 0x1174b5110>"
      ]
     },
     "metadata": {
      "image/png": {
       "height": 467,
       "width": 597
      }
     },
     "output_type": "display_data"
    }
   ],
   "source": [
    "distribution_plotter('salary', salary)"
   ]
  },
  {
   "cell_type": "markdown",
   "metadata": {},
   "source": [
    "---\n",
    "\n",
    "### 5. Basic linear algebra/matrix operations in numpy\n",
    "\n",
    "Overview of linear algebra/matrix operations in numpy.\n",
    "\n",
    "Numpy has an `np.matrix` and an `np.array`, what gives? Which should I use?\n",
    "\n",
    "Use `np.array`. This is the standard representation for matrices in numpy, and this is what we will use throughout the rest of the course. If you are interested you can read more about the differences online.\n",
    "\n",
    "#### 5.1 Indexing and slicing\n",
    "\n",
    "Subset the first 5 elements of total pay and height into new variables. Slicing (on 1D arrays) is the same as with python lists."
   ]
  },
  {
   "cell_type": "code",
   "execution_count": 38,
   "metadata": {
    "collapsed": false
   },
   "outputs": [
    {
     "name": "stdout",
     "output_type": "stream",
     "text": [
      "[ 22000000.  17700000.  21500000.  22900000.  18050000.]\n",
      "[ 14500000.   8700000.  21100000.  22600000.  18000000.]\n"
     ]
    }
   ],
   "source": [
    "salary_sub = salary[0:5]\n",
    "pay_sub = total_pay[0:5]\n",
    "print pay_sub\n",
    "print salary_sub"
   ]
  },
  {
   "cell_type": "code",
   "execution_count": 39,
   "metadata": {
    "collapsed": false
   },
   "outputs": [
    {
     "name": "stdout",
     "output_type": "stream",
     "text": [
      "[ 1.45  0.87  2.11  2.26  1.8 ]\n",
      "[ 2.2    1.77   2.15   2.29   1.805]\n"
     ]
    }
   ],
   "source": [
    "pay_sub = pay_sub / 10000000\n",
    "salary_sub = salary_sub / 10000000\n",
    "print salary_sub\n",
    "print pay_sub"
   ]
  },
  {
   "cell_type": "markdown",
   "metadata": {},
   "source": [
    "#### 5.2 Arithmetic operations\n",
    "\n",
    "Numpy allows easy \"vectorized\" arithmetic operations on arrays and matrices. Try:\n",
    "\n",
    "1. Dividing an array by a number with `/`\n",
    "2. Multiplying an array with `*`\n",
    "3. Adding and subtracting from an array with `+` and `-`"
   ]
  },
  {
   "cell_type": "markdown",
   "metadata": {},
   "source": [
    "You can also do these operations element-wise (as if using the `zip()` function) by using two arrays of the same length.\n",
    "\n",
    "Try dividing the 5-element total pay array by the 5-element height array."
   ]
  },
  {
   "cell_type": "code",
   "execution_count": 40,
   "metadata": {
    "collapsed": false
   },
   "outputs": [
    {
     "data": {
      "text/plain": [
       "array([ 3.65 ,  2.64 ,  4.26 ,  4.55 ,  3.605])"
      ]
     },
     "execution_count": 40,
     "metadata": {},
     "output_type": "execute_result"
    }
   ],
   "source": [
    "salary_sub + pay_sub"
   ]
  },
  {
   "cell_type": "code",
   "execution_count": 41,
   "metadata": {
    "collapsed": false
   },
   "outputs": [
    {
     "data": {
      "text/plain": [
       "17.690799999999999"
      ]
     },
     "execution_count": 41,
     "metadata": {},
     "output_type": "execute_result"
    }
   ],
   "source": []
  },
  {
   "cell_type": "markdown",
   "metadata": {},
   "source": [
    "We can also do the dot product of the arrays, which is for 1D-arrays the sum of the element-wise values multiplied together.\n",
    "\n",
    "Try it with `np.dot()`."
   ]
  },
  {
   "cell_type": "code",
   "execution_count": null,
   "metadata": {
    "collapsed": false
   },
   "outputs": [],
   "source": [
    "np.dot(salary_sub, pay_sub)"
   ]
  },
  {
   "cell_type": "markdown",
   "metadata": {},
   "source": [
    "#### 5.3 Matrices vs. arrays \n",
    "\n",
    "You can make matrices by using `np.array()` on lists of lists (or numpy arrays). Combine the small height and pay arrays together into a matrix."
   ]
  },
  {
   "cell_type": "code",
   "execution_count": 43,
   "metadata": {
    "collapsed": false
   },
   "outputs": [
    {
     "data": {
      "text/plain": [
       "array([[1, 2],\n",
       "       [3, 4],\n",
       "       [5, 6]])"
      ]
     },
     "execution_count": 43,
     "metadata": {},
     "output_type": "execute_result"
    }
   ],
   "source": [
    "mat = np.array([[1,2],[3,4],[5,6]])\n",
    "mat"
   ]
  },
  {
   "cell_type": "code",
   "execution_count": 44,
   "metadata": {
    "collapsed": false
   },
   "outputs": [
    {
     "data": {
      "text/plain": [
       "(3, 2)"
      ]
     },
     "execution_count": 44,
     "metadata": {},
     "output_type": "execute_result"
    }
   ],
   "source": [
    "mat.shape"
   ]
  },
  {
   "cell_type": "markdown",
   "metadata": {},
   "source": [
    "Transposition of a matrix is easy: just append a `.T` to the end of the matrix."
   ]
  },
  {
   "cell_type": "code",
   "execution_count": 45,
   "metadata": {
    "collapsed": false
   },
   "outputs": [
    {
     "data": {
      "text/plain": [
       "array([[1, 3, 5],\n",
       "       [2, 4, 6]])"
      ]
     },
     "execution_count": 45,
     "metadata": {},
     "output_type": "execute_result"
    }
   ],
   "source": [
    "mat.T"
   ]
  },
  {
   "cell_type": "markdown",
   "metadata": {},
   "source": [
    "You can create empty matrices of ones or zeros in numpy like so:\n",
    "\n",
    "```python\n",
    "# dimensions of the matrix (rows, cols, etc.):\n",
    "matrix_shape = (3,3)\n",
    "ones_mat = np.ones(matrix_shape)\n",
    "zeros_mat = np.zeros(matrix_shape)\n",
    "```\n",
    "\n",
    "Try it out with a matrix shape of your choice."
   ]
  },
  {
   "cell_type": "code",
   "execution_count": 47,
   "metadata": {
    "collapsed": false
   },
   "outputs": [
    {
     "data": {
      "text/plain": [
       "array([[ 0.,  0.,  0.,  0.],\n",
       "       [ 0.,  0.,  0.,  0.],\n",
       "       [ 0.,  0.,  0.,  0.]])"
      ]
     },
     "execution_count": 47,
     "metadata": {},
     "output_type": "execute_result"
    }
   ],
   "source": [
    "np.ones((3,3))\n",
    "np.zeros((3,4))"
   ]
  },
  {
   "cell_type": "markdown",
   "metadata": {},
   "source": [
    "#### 5.4 Slicing and indexing for matrices\n",
    "\n",
    "Numpy indexing and slicing of arrays/matrices greater than one dimension is easy once you get used to it. It is essentially the same as one dimensional selection or slicing, but you have an index or range for each dimension separated by commas in the brackets.\n",
    "\n",
    "For example, say I have matrix A:\n",
    "```python\n",
    "a = np.array([[1,2],[3,4],[5,6]])\n",
    "array([[1, 2],\n",
    "       [3, 4],\n",
    "       [5, 6]])\n",
    "```\n",
    "\n",
    "Get the first row:\n",
    "```python\n",
    "a[0,:]\n",
    "array([1, 2])\n",
    "```\n",
    "\n",
    "Get the second column:\n",
    "```python\n",
    "a[:,1]\n",
    "array([2, 4, 6])\n",
    "```\n",
    "\n",
    "Get the cell at row 3, column 1:\n",
    "```python\n",
    "a[2,0]\n",
    "5\n",
    "```\n",
    "\n",
    "Try it out yourself."
   ]
  },
  {
   "cell_type": "code",
   "execution_count": 53,
   "metadata": {
    "collapsed": false
   },
   "outputs": [
    {
     "data": {
      "text/plain": [
       "array([3, 4])"
      ]
     },
     "execution_count": 53,
     "metadata": {},
     "output_type": "execute_result"
    }
   ],
   "source": [
    "mat[1, 0:2]"
   ]
  },
  {
   "cell_type": "markdown",
   "metadata": {},
   "source": [
    "#### 5.5 The concept of \"masking\"\n",
    "\n",
    "Selecting and operating on arrays can also be done through a process called **masking**, which we will be using very frequently on datasets.\n",
    "\n",
    "Numpy arrays can be indexed and subset with conditional statements in the brackets. These conditional statements are converted to True/False boolean arrays, which are used to select elements of an array (or not, aka \"mask\" the parts you don't want.)\n",
    "\n",
    "For example, all elements from `a` greater than 3:\n",
    "```python\n",
    "a[a>3]\n",
    "array([4, 5, 6])\n",
    "```\n",
    "\n",
    "or columns and rows from `a` where the first column of `a` is less than 5:\n",
    "```python\n",
    "a[a[:,0] < 5, :]\n",
    "array([[1, 2],\n",
    "       [3, 4]])\n",
    "```\n",
    "\n",
    "Make a matrix with the first column as players' heights, and the second column as their total pay. Subset using this masking logic to find all of the heights with a total pay above 10 million dollars."
   ]
  },
  {
   "cell_type": "code",
   "execution_count": 91,
   "metadata": {
    "collapsed": false
   },
   "outputs": [
    {
     "name": "stdout",
     "output_type": "stream",
     "text": [
      "/Users/kiefer/github-repos/DSI-SF/datasets/highest_paid_athletes/Athletes.csv\n"
     ]
    }
   ],
   "source": [
    "import pandas as pd\n",
    "\n",
    "print path_to_athletes_csv\n",
    "athletes = pd.read_csv(path_to_athletes_csv)\n",
    "athletes.head()\n",
    "\n",
    "athletes.head()\n",
    "#athletes['Sport'] == 'Golf'\n",
    "\n",
    "golfletes = athletes[(athletes['Sport'] == 'Golf') & (athletes['Height (cm)'] < 180)]"
   ]
  },
  {
   "cell_type": "code",
   "execution_count": 92,
   "metadata": {
    "collapsed": false
   },
   "outputs": [
    {
     "data": {
      "text/html": [
       "<div>\n",
       "<table border=\"1\" class=\"dataframe\">\n",
       "  <thead>\n",
       "    <tr style=\"text-align: right;\">\n",
       "      <th></th>\n",
       "      <th>Rank</th>\n",
       "      <th>Name</th>\n",
       "      <th>Sport</th>\n",
       "      <th>Total Pay</th>\n",
       "      <th>Salary/Winnings</th>\n",
       "      <th>Endorsements</th>\n",
       "      <th>Nation</th>\n",
       "      <th>Gender</th>\n",
       "      <th>Year of birth</th>\n",
       "      <th>Birth Date</th>\n",
       "      <th>Place of Birth</th>\n",
       "      <th>Height (cm)</th>\n",
       "      <th>Wikipedia Page</th>\n",
       "      <th>dbpedia Page</th>\n",
       "      <th>Image</th>\n",
       "      <th>Description</th>\n",
       "    </tr>\n",
       "  </thead>\n",
       "  <tbody>\n",
       "    <tr>\n",
       "      <th>82</th>\n",
       "      <td>35</td>\n",
       "      <td>Rory McIlroy</td>\n",
       "      <td>Golf</td>\n",
       "      <td>$24,300,000</td>\n",
       "      <td>$4,300,000</td>\n",
       "      <td>$20,000,000</td>\n",
       "      <td>Northern Ireland</td>\n",
       "      <td>Male</td>\n",
       "      <td>1989</td>\n",
       "      <td>4/05/1989</td>\n",
       "      <td>County Down, Northern Ireland, United Kingdom</td>\n",
       "      <td>175</td>\n",
       "      <td>http://en.wikipedia.org/wiki/Rory_McIlroy</td>\n",
       "      <td>dbpedia.org/resource/Rory_McIlroy</td>\n",
       "      <td>http://commons.wikimedia.org/wiki/Special:File...</td>\n",
       "      <td>Rory McIlroy, MBE (born 4 May 1989) is a North...</td>\n",
       "    </tr>\n",
       "  </tbody>\n",
       "</table>\n",
       "</div>"
      ],
      "text/plain": [
       "    Rank          Name Sport    Total Pay Salary/Winnings Endorsements  \\\n",
       "82    35  Rory McIlroy  Golf  $24,300,000      $4,300,000  $20,000,000   \n",
       "\n",
       "              Nation Gender  Year of birth Birth Date  \\\n",
       "82  Northern Ireland   Male           1989  4/05/1989   \n",
       "\n",
       "                                   Place of Birth  Height (cm)  \\\n",
       "82  County Down, Northern Ireland, United Kingdom          175   \n",
       "\n",
       "                               Wikipedia Page  \\\n",
       "82  http://en.wikipedia.org/wiki/Rory_McIlroy   \n",
       "\n",
       "                         dbpedia Page  \\\n",
       "82  dbpedia.org/resource/Rory_McIlroy   \n",
       "\n",
       "                                                Image  \\\n",
       "82  http://commons.wikimedia.org/wiki/Special:File...   \n",
       "\n",
       "                                          Description  \n",
       "82  Rory McIlroy, MBE (born 4 May 1989) is a North...  "
      ]
     },
     "execution_count": 92,
     "metadata": {},
     "output_type": "execute_result"
    }
   ],
   "source": [
    "golfletes.head()"
   ]
  },
  {
   "cell_type": "markdown",
   "metadata": {},
   "source": [
    "Plot the distribution of heights with pay over 10,000,000."
   ]
  },
  {
   "cell_type": "code",
   "execution_count": null,
   "metadata": {
    "collapsed": false
   },
   "outputs": [],
   "source": []
  },
  {
   "cell_type": "markdown",
   "metadata": {},
   "source": [
    "---\n",
    "\n",
    "#### 5.6 Review\n",
    "\n",
    "These are the essential kinds of operations we'll be using. The main takeaway is to get used to these kind of **vectorized** operations: doing arithmetic operations on every element of an array, either with single values or element-wise with another array.  **Masking** operations will become extremely important tools as we move into pandas data manipulation.\n",
    "\n",
    "We'll be doing this on data all the time using pandas. For example, adding a year to everyone's age, or multiplying the age column by the height column for each person (element-wise).\n",
    "\n",
    "For more detailed information on the capabilities of numpy operations, see:\n",
    "\n",
    "http://www.python-course.eu/matrix_arithmetic.php\n",
    "\n",
    "https://docs.scipy.org/doc/numpy-dev/user/numpy-for-matlab-users.html"
   ]
  },
  {
   "cell_type": "markdown",
   "metadata": {},
   "source": [
    "---\n",
    "\n",
    "### 6. The Central Limit Theorem and the Law of Large Numbers\n",
    "\n",
    "The Central Limit Theorem (CLT) is one of the most important, if not **THE** most important theorems in statistics. While this lecture does not cover the implications so much as the theorem itself, know that this is the basis of Frequentist statistics.\n",
    "\n",
    "#### 6.1 The Law of Large Numbers\n",
    "\n",
    "But first... [The Law of Large Numbers (LLN)](https://en.wikipedia.org/wiki/Law_of_large_numbers)\n",
    "\n",
    "The LLN is (luckily) fairly straightforward, and a precursor to understanding the CLT. My simplified definition is:\n",
    "\n",
    "> Performing the same experiment a large number of times and taking the average of the results will result in a convergence to the true expected value of the experiment.\n",
    "\n",
    "Imagine, for example, you were to roll a die two times. In this case, the die is weighted, but you don't know how it is weighted. You get a 1 and a 5.\n",
    "\n",
    "From just these two experiments, our average is 3.0. If we were to stop here, we would assume that the expected value of the die is 3.0, and so slightly biased towards smaller numbers...\n",
    "\n",
    "#### 6.2 Numpy's `random` module and exploration of the LLN\n",
    "\n",
    "Before continuing, let's introduce a very important section of `numpy`: the `np.random` module.\n",
    "\n",
    "It is _very_ much worth reading over the documentation for the different functions available in `numpy.random`. Randomness is intrinsic to statistical theory, and, especially in a statistical course, we will be using it often.\n",
    "\n",
    "That's not to say you _won't_ be using it in practice. I guarantee that you will be consistently returning to these functions in your future jobs.\n",
    "\n",
    "For this example of the LLN, we will be using `np.random.choice()`, a function that samples from a provided array or list of elements. The arguments are:\n",
    "\n",
    "    a : the array from which to choose elements\n",
    "    size : the number of elements to draw\n",
    "    replace : whether to sample with replacement\n",
    "    p : a vector of probabilities equal to the number of elements in a which sums to one, specifying the probability of drawing the elements\n",
    "    \n",
    "Below are the _true_ probabilities of drawing each number on the die, or in other words the true weighting of the die:"
   ]
  },
  {
   "cell_type": "code",
   "execution_count": 95,
   "metadata": {
    "collapsed": false
   },
   "outputs": [
    {
     "data": {
      "text/plain": [
       "array([ 0.125,  0.875])"
      ]
     },
     "execution_count": 95,
     "metadata": {},
     "output_type": "execute_result"
    }
   ],
   "source": [
    "a = np.array([1,7])/8.\n",
    "a"
   ]
  },
  {
   "cell_type": "code",
   "execution_count": 93,
   "metadata": {
    "collapsed": true
   },
   "outputs": [],
   "source": [
    "die = [1,2,3,4,5,6]\n",
    "\n",
    "weight = np.array([13.5, 1.2, 3.3, 2.2, 3.9, 12.8])\n",
    "weight = weight/np.sum(weight)"
   ]
  },
  {
   "cell_type": "markdown",
   "metadata": {},
   "source": [
    "Explain what each step in defining the `weight` vector means. What is the difference in describing the `weight` vector before and after dividing it by its sum to get the probabilities for `np.random.choice()`?\n",
    "\n",
    "Now we will \"roll the die\" different numbers of times. Use `np.random.choice` with the `die` and `weight` vector to assign different die roll \"experiments\":\n",
    "\n",
    "    1. 2 die roles\n",
    "    2. 5 die roles\n",
    "    3. 10 die rolls\n",
    "    4. 100 die rolls\n",
    "    5. 10000 die rolls\n",
    "    \n",
    "**Make sure to set replace=True !! Just because you rolled a 6, for example, doesn't mean you can't roll a 6 again.** This is the difference between rolling a die and say choosing items out of a bag without putting them back in."
   ]
  },
  {
   "cell_type": "code",
   "execution_count": 97,
   "metadata": {
    "collapsed": false
   },
   "outputs": [],
   "source": [
    "roll2 = np.random.choice(die, size=2, replace=True, p=weight)\n",
    "roll5 = np.random.choice(die, size=5, replace=True, p=weight)\n",
    "roll10 = np.random.choice(die, size=10, replace=True, p=weight)\n",
    "roll100 = np.random.choice(die, size=100, replace=True, p=weight)\n",
    "roll10000 = np.random.choice(die, size=10000, replace=True, p=weight)\n"
   ]
  },
  {
   "cell_type": "markdown",
   "metadata": {},
   "source": [
    "#### 6.3 Visualization of the LLN\n",
    "\n",
    "Below I have defined a histogram plotting function. Use the function to plot the histograms of each of the die roll experiments.\n",
    "\n",
    "You can look up the seaborn function `distplot` on the [seaborn API documentation](https://stanford.edu/~mwaskom/software/seaborn/api.html) to see how the histogram plot function works. Again, we'll be going into seaborn in depth very soon, but getting accustomed to reading documentation now is essential.\n",
    "\n",
    "**DON'T WORRY ABOUT UNDERSTANDING THE PLOTTING CODE AT THIS POINT!** Matplotlib is very confusing at first. We will spend a lot of time on this."
   ]
  },
  {
   "cell_type": "code",
   "execution_count": 99,
   "metadata": {
    "collapsed": false
   },
   "outputs": [],
   "source": [
    "def histogram_plotter(title, data):\n",
    "    sns.set(rc={\"figure.figsize\": (10, 7)})\n",
    "    sns.set_style('white')\n",
    "    dist = sns.distplot(data, kde=False, bins=6)\n",
    "    \n",
    "    dist.axvline(np.mean(data), lw=5, c='darkred', ls='dashed')\n",
    "    average_roll = '{0:.2f}'.format(np.mean(data))\n",
    "    title = 'Distribution of ' + title + '; average = '  + average_roll + '\\n'\n",
    "    dist.set_title(title, fontsize=16)"
   ]
  },
  {
   "cell_type": "code",
   "execution_count": 100,
   "metadata": {
    "collapsed": false
   },
   "outputs": [
    {
     "data": {
      "image/png": "[encoded data removed]",
      "text/plain": [
       "<matplotlib.figure.Figure at 0x1175a0b90>"
      ]
     },
     "metadata": {
      "image/png": {
       "height": 454,
       "width": 600
      }
     },
     "output_type": "display_data"
    }
   ],
   "source": [
    "histogram_plotter('2 rolls', roll2)"
   ]
  },
  {
   "cell_type": "code",
   "execution_count": 101,
   "metadata": {
    "collapsed": false
   },
   "outputs": [
    {
     "data": {
      "image/png": "[encoded data removed]",
      "text/plain": [
       "<matplotlib.figure.Figure at 0x119414150>"
      ]
     },
     "metadata": {
      "image/png": {
       "height": 454,
       "width": 596
      }
     },
     "output_type": "display_data"
    }
   ],
   "source": [
    "histogram_plotter('5 rolls', roll5)"
   ]
  },
  {
   "cell_type": "code",
   "execution_count": 102,
   "metadata": {
    "collapsed": false
   },
   "outputs": [
    {
     "data": {
      "image/png": "[encoded data removed]",
      "text/plain": [
       "<matplotlib.figure.Figure at 0x1192f39d0>"
      ]
     },
     "metadata": {
      "image/png": {
       "height": 454,
       "width": 587
      }
     },
     "output_type": "display_data"
    }
   ],
   "source": [
    "histogram_plotter('10 rolls', roll10)"
   ]
  },
  {
   "cell_type": "code",
   "execution_count": 103,
   "metadata": {
    "collapsed": false
   },
   "outputs": [
    {
     "data": {
      "image/png": "[encoded data removed]",
      "text/plain": [
       "<matplotlib.figure.Figure at 0x107267250>"
      ]
     },
     "metadata": {
      "image/png": {
       "height": 454,
       "width": 593
      }
     },
     "output_type": "display_data"
    }
   ],
   "source": [
    "histogram_plotter('100 rolls', roll100)"
   ]
  },
  {
   "cell_type": "code",
   "execution_count": 104,
   "metadata": {
    "collapsed": false
   },
   "outputs": [
    {
     "data": {
      "image/png": "[encoded data removed]",
      "text/plain": [
       "<matplotlib.figure.Figure at 0x1192e95d0>"
      ]
     },
     "metadata": {
      "image/png": {
       "height": 454,
       "width": 604
      }
     },
     "output_type": "display_data"
    }
   ],
   "source": [
    "histogram_plotter('10000 rolls', roll10000)"
   ]
  },
  {
   "cell_type": "code",
   "execution_count": 105,
   "metadata": {
    "collapsed": false
   },
   "outputs": [
    {
     "data": {
      "text/plain": [
       "3.5474254742547426"
      ]
     },
     "execution_count": 105,
     "metadata": {},
     "output_type": "execute_result"
    }
   ],
   "source": []
  },
  {
   "cell_type": "code",
   "execution_count": 106,
   "metadata": {
    "collapsed": false
   },
   "outputs": [
    {
     "data": {
      "text/plain": [
       "3.5573000000000001"
      ]
     },
     "execution_count": 106,
     "metadata": {},
     "output_type": "execute_result"
    }
   ],
   "source": [
    "np.mean(roll10000)"
   ]
  },
  {
   "cell_type": "code",
   "execution_count": 108,
   "metadata": {
    "collapsed": false
   },
   "outputs": [
    {
     "data": {
      "text/plain": [
       "3.4100000000000001"
      ]
     },
     "execution_count": 108,
     "metadata": {},
     "output_type": "execute_result"
    }
   ],
   "source": [
    "np.mean(roll100)"
   ]
  },
  {
   "cell_type": "markdown",
   "metadata": {},
   "source": [
    "Calculate the **true expected value**. \n",
    "\n",
    "Hint: you can do this with the element-wise numpy array operations we covered earlier!"
   ]
  },
  {
   "cell_type": "code",
   "execution_count": 109,
   "metadata": {
    "collapsed": false
   },
   "outputs": [
    {
     "data": {
      "text/plain": [
       "3.5474254742547426"
      ]
     },
     "execution_count": 109,
     "metadata": {},
     "output_type": "execute_result"
    }
   ],
   "source": [
    "np.sum(weight*die)"
   ]
  },
  {
   "cell_type": "markdown",
   "metadata": {},
   "source": [
    "The expected value is very close to the expected value of an evenly weighted die, but 1 and 6 are rolled much more often than the other numbers. This is an example of a **bi-modal** distribution."
   ]
  },
  {
   "cell_type": "markdown",
   "metadata": {},
   "source": [
    "---\n",
    "\n",
    "#### 6.4 On to the CLT\n",
    "\n",
    "So, how does the LLN relate to the CLT? Below is the high-level definition of [the CLT, (which is lifted from Wikipedia, of course)](https://en.wikipedia.org/wiki/Central_limit_theorem):\n",
    "\n",
    "> In probability theory, the central limit theorem (CLT) states that, given certain conditions, the arithmetic mean of a sufficiently large number of iterates of independent random variables, each with a well-defined (finite) expected value and finite variance, will be approximately normally distributed, regardless of the underlying distribution.\n",
    "\n",
    "**WTF does this mean?**\n",
    "\n",
    "It means that if you compute a mean of samples from ANY _true population distribution_, that mean will be normally distributed with \n",
    "\n",
    "**mean = mean of true population mean** and \n",
    "\n",
    "**standard deviation = standard error of the population mean**\n",
    "\n",
    "where a **standard error = (standard deviation) / sqrt(N)**\n",
    "\n",
    "check out:\n",
    "\n",
    "http://blog.vctr.me/posts/central-limit-theorem.html\n",
    "\n",
    "and http://www.usablestats.com/lessons/central_limit\n",
    "\n",
    "for a couple of gentle explanations."
   ]
  },
  {
   "cell_type": "markdown",
   "metadata": {},
   "source": [
    "#### 6.5 Exploring the CLT in code - back to the dice\n",
    "\n",
    "Let's say now we have two different conditions:\n",
    "\n",
    "1. Rolling the die 5 times _in batches_ 20 different times. Each time we roll the die 5 times, we take the mean of the batch and append it to a list.\n",
    "2. Rolling the die 5 times _in batches_ 300 different times. Each time we roll the die 5 times, we take the mean of the batch and append it to a list.\n",
    "3. Rolling the die 100 times _in batches_ 300 different times. Each time we roll the die 100 times, we take the mean of the batch and append it to a list.\n",
    "\n",
    "Code out these different scenarios. You should have 3 different lists with the means of the batch die-rolling."
   ]
  },
  {
   "cell_type": "code",
   "execution_count": null,
   "metadata": {
    "collapsed": false
   },
   "outputs": [],
   "source": []
  },
  {
   "cell_type": "markdown",
   "metadata": {},
   "source": [
    "#### 6.6 Plot the realization of the CLT\n",
    "\n",
    "Now, plot out these different mean distributions using the histogram plotting function.\n",
    "\n",
    "Also print out the standard deviation of the sample means as well as the standard deviation of the sample means **multipled by the square root of the sample means.** \n",
    "\n",
    "Multiplying by the square root of the sample means is necessary is a correction. What does this correction do?"
   ]
  },
  {
   "cell_type": "code",
   "execution_count": null,
   "metadata": {
    "collapsed": false
   },
   "outputs": [],
   "source": []
  }
 ],
 "metadata": {
  "kernelspec": {
   "display_name": "Python 2",
   "language": "python",
   "name": "python2"
  },
  "language_info": {
   "codemirror_mode": {
    "name": "ipython",
    "version": 2
   },
   "file_extension": ".py",
   "mimetype": "text/x-python",
   "name": "python",
   "nbconvert_exporter": "python",
   "pygments_lexer": "ipython2",
   "version": "2.7.12"
  }
 },
 "nbformat": 4,
 "nbformat_minor": 0
}
