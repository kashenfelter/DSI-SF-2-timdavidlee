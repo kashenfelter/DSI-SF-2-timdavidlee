{
 "cells": [
  {
   "cell_type": "markdown",
   "metadata": {},
   "source": [
    "# Data visualization and EDA metrics with pandas\n",
    "\n",
    "In this lesson we will be using a boston housing market dataset. The columns of the dataset are coded as so:\n",
    "\n",
    "    CRIM: per capita crime rate by town \n",
    "    ZN: proportion of residential land zoned for lots over 25,000 sq.ft. \n",
    "    INDUS: proportion of non-retail business acres per town \n",
    "    CHAS: Charles River dummy variable (= 1 if tract bounds river; 0 otherwise) \n",
    "    NOX: nitric oxides concentration (parts per 10 million) \n",
    "    RM: average number of rooms per dwelling \n",
    "    AGE: proportion of owner-occupied units built prior to 1940 \n",
    "    DIS: weighted distances to five Boston employment centres \n",
    "    RAD: index of accessibility to radial highways \n",
    "    TAX: full-value property-tax rate per 10000 dollars\n",
    "    PTRATIO: pupil-teacher ratio by town \n",
    "    B: 1000(Bk - 0.63)^2 where Bk is the proportion of blacks by town \n",
    "    LSTAT: % lower status of the population \n",
    "    MEDV: Median value of owner-occupied homes in 1000's of dollars\n",
    "    \n",
    "Each row in the dataset is for a different suburb of Boston.\n",
    "\n",
    "These descriptions of shortened or coded variables are often described as \"codebooks\", or data dictionaries. They are the often found alongside datasets you might find online.\n",
    "\n",
    "---\n",
    "\n",
    "## 1. Load packages and data"
   ]
  },
  {
   "cell_type": "code",
   "execution_count": 23,
   "metadata": {
    "collapsed": false
   },
   "outputs": [],
   "source": [
    "import numpy as np\n",
    "import scipy.stats as stats\n",
    "import seaborn as sns\n",
    "import matplotlib.pyplot as plt\n",
    "import pandas as pd\n",
    "\n",
    "sns.set_style('darkgrid')\n",
    "\n",
    "%config InlineBackend.figure_format = 'retina'\n",
    "%matplotlib inline\n",
    "\n",
    "boston_file = '/Users/tlee010/desktop/DSI-SF-2/datasets/boston_housing_data/housing.csv'\n",
    "boston = pd.read_csv(boston_file)"
   ]
  },
  {
   "cell_type": "markdown",
   "metadata": {},
   "source": [
    "---\n",
    "\n",
    "## 2. Describe the basic format and variables in the data:\n",
    "\n",
    "As you recall, you can use `.head()` (and optionally pass in an integer for the number of rows you want to see) to examine what the loaded data looks like.\n",
    "\n",
    "The `.describe()` function will give you summary statistics for each of your variables.\n",
    "\n",
    "The numeric data in columns has been **pre-cleaned** for you for the sake of focusing the lesson on other things (no corrupt data or string values that need to be converted to numeric). This is rarely the case in reality."
   ]
  },
  {
   "cell_type": "code",
   "execution_count": 24,
   "metadata": {
    "collapsed": false
   },
   "outputs": [
    {
     "name": "stdout",
     "output_type": "stream",
     "text": [
      "0       0.00632\n",
      "1       0.02731\n",
      "2       0.02729\n",
      "3       0.03237\n",
      "4       0.06905\n",
      "5       0.02985\n",
      "6       0.08829\n",
      "7       0.14455\n",
      "8       0.21124\n",
      "9       0.17004\n",
      "10      0.22489\n",
      "11      0.11747\n",
      "12      0.09378\n",
      "13      0.62976\n",
      "14      0.63796\n",
      "15      0.62739\n",
      "16      1.05393\n",
      "17      0.78420\n",
      "18      0.80271\n",
      "19      0.72580\n",
      "20      1.25179\n",
      "21      0.85204\n",
      "22      1.23247\n",
      "23      0.98843\n",
      "24      0.75026\n",
      "25      0.84054\n",
      "26      0.67191\n",
      "27      0.95577\n",
      "28      0.77299\n",
      "29      1.00245\n",
      "         ...   \n",
      "476     4.87141\n",
      "477    15.02340\n",
      "478    10.23300\n",
      "479    14.33370\n",
      "480     5.82401\n",
      "481     5.70818\n",
      "482     5.73116\n",
      "483     2.81838\n",
      "484     2.37857\n",
      "485     3.67367\n",
      "486     5.69175\n",
      "487     4.83567\n",
      "488     0.15086\n",
      "489     0.18337\n",
      "490     0.20746\n",
      "491     0.10574\n",
      "492     0.11132\n",
      "493     0.17331\n",
      "494     0.27957\n",
      "495     0.17899\n",
      "496     0.28960\n",
      "497     0.26838\n",
      "498     0.23912\n",
      "499     0.17783\n",
      "500     0.22438\n",
      "501     0.06263\n",
      "502     0.04527\n",
      "503     0.06076\n",
      "504     0.10959\n",
      "505     0.04741\n",
      "Name: CRIM, dtype: float64\n"
     ]
    },
    {
     "data": {
      "text/html": [
       "<div>\n",
       "<table border=\"1\" class=\"dataframe\">\n",
       "  <thead>\n",
       "    <tr style=\"text-align: right;\">\n",
       "      <th></th>\n",
       "      <th>Unnamed: 0</th>\n",
       "      <th>CRIM</th>\n",
       "      <th>ZN</th>\n",
       "      <th>INDUS</th>\n",
       "      <th>CHAS</th>\n",
       "      <th>NOX</th>\n",
       "      <th>RM</th>\n",
       "      <th>AGE</th>\n",
       "      <th>DIS</th>\n",
       "      <th>RAD</th>\n",
       "      <th>TAX</th>\n",
       "      <th>PTRATIO</th>\n",
       "      <th>B</th>\n",
       "      <th>LSTAT</th>\n",
       "      <th>MEDV</th>\n",
       "    </tr>\n",
       "  </thead>\n",
       "  <tbody>\n",
       "    <tr>\n",
       "      <th>0</th>\n",
       "      <td>1</td>\n",
       "      <td>0.00632</td>\n",
       "      <td>18.0</td>\n",
       "      <td>2.31</td>\n",
       "      <td>0</td>\n",
       "      <td>0.538</td>\n",
       "      <td>6.575</td>\n",
       "      <td>65.2</td>\n",
       "      <td>4.0900</td>\n",
       "      <td>1</td>\n",
       "      <td>296</td>\n",
       "      <td>15.3</td>\n",
       "      <td>396.90</td>\n",
       "      <td>4.98</td>\n",
       "      <td>24.0</td>\n",
       "    </tr>\n",
       "    <tr>\n",
       "      <th>1</th>\n",
       "      <td>2</td>\n",
       "      <td>0.02731</td>\n",
       "      <td>0.0</td>\n",
       "      <td>7.07</td>\n",
       "      <td>0</td>\n",
       "      <td>0.469</td>\n",
       "      <td>6.421</td>\n",
       "      <td>78.9</td>\n",
       "      <td>4.9671</td>\n",
       "      <td>2</td>\n",
       "      <td>242</td>\n",
       "      <td>17.8</td>\n",
       "      <td>396.90</td>\n",
       "      <td>9.14</td>\n",
       "      <td>21.6</td>\n",
       "    </tr>\n",
       "    <tr>\n",
       "      <th>2</th>\n",
       "      <td>3</td>\n",
       "      <td>0.02729</td>\n",
       "      <td>0.0</td>\n",
       "      <td>7.07</td>\n",
       "      <td>0</td>\n",
       "      <td>0.469</td>\n",
       "      <td>7.185</td>\n",
       "      <td>61.1</td>\n",
       "      <td>4.9671</td>\n",
       "      <td>2</td>\n",
       "      <td>242</td>\n",
       "      <td>17.8</td>\n",
       "      <td>392.83</td>\n",
       "      <td>4.03</td>\n",
       "      <td>34.7</td>\n",
       "    </tr>\n",
       "    <tr>\n",
       "      <th>3</th>\n",
       "      <td>4</td>\n",
       "      <td>0.03237</td>\n",
       "      <td>0.0</td>\n",
       "      <td>2.18</td>\n",
       "      <td>0</td>\n",
       "      <td>0.458</td>\n",
       "      <td>6.998</td>\n",
       "      <td>45.8</td>\n",
       "      <td>6.0622</td>\n",
       "      <td>3</td>\n",
       "      <td>222</td>\n",
       "      <td>18.7</td>\n",
       "      <td>394.63</td>\n",
       "      <td>2.94</td>\n",
       "      <td>33.4</td>\n",
       "    </tr>\n",
       "  </tbody>\n",
       "</table>\n",
       "</div>"
      ],
      "text/plain": [
       "   Unnamed: 0     CRIM    ZN  INDUS  CHAS    NOX     RM   AGE     DIS  RAD  \\\n",
       "0           1  0.00632  18.0   2.31     0  0.538  6.575  65.2  4.0900    1   \n",
       "1           2  0.02731   0.0   7.07     0  0.469  6.421  78.9  4.9671    2   \n",
       "2           3  0.02729   0.0   7.07     0  0.469  7.185  61.1  4.9671    2   \n",
       "3           4  0.03237   0.0   2.18     0  0.458  6.998  45.8  6.0622    3   \n",
       "\n",
       "   TAX  PTRATIO       B  LSTAT  MEDV  \n",
       "0  296     15.3  396.90   4.98  24.0  \n",
       "1  242     17.8  396.90   9.14  21.6  \n",
       "2  242     17.8  392.83   4.03  34.7  \n",
       "3  222     18.7  394.63   2.94  33.4  "
      ]
     },
     "execution_count": 24,
     "metadata": {},
     "output_type": "execute_result"
    }
   ],
   "source": [
    "# print out the first 4 rows:\n",
    "print boston.iloc[:,1]\n",
    "boston.head(4)"
   ]
  },
  {
   "cell_type": "markdown",
   "metadata": {},
   "source": [
    "### Unwanted columns:\n",
    "\n",
    "The `.read_csv()` function has added a column called `Unnamed: 0`, which appears to be just the number of the rows. We already have the number id of the rows in the DataFrame's index."
   ]
  },
  {
   "cell_type": "code",
   "execution_count": 26,
   "metadata": {
    "collapsed": false
   },
   "outputs": [
    {
     "data": {
      "text/plain": [
       "Index([u'CRIM', u'ZN', u'INDUS', u'CHAS', u'NOX', u'RM', u'AGE', u'DIS',\n",
       "       u'RAD', u'TAX', u'PTRATIO', u'B', u'LSTAT', u'MEDV'],\n",
       "      dtype='object')"
      ]
     },
     "execution_count": 26,
     "metadata": {},
     "output_type": "execute_result"
    }
   ],
   "source": [
    "# print out the index object and the first 20 items in the DataFrame's index \n",
    "# to see that we have these row numbers already:\n",
    "type(boston)\n",
    "#pandas.core.frame.DataFrame\n",
    "type(boston.CRIM)\n",
    "#pandas.core.series.Series\n",
    "type(boston.CRIM.values)\n",
    "#numpy.ndarray\n",
    "boston.index\n",
    "#RangeIndex(start=0, stop=506, step=1)\n",
    "boston.shape\n",
    "#(506, 15)\n",
    "boston.columns\n",
    "#Index([u'CRIM', u'ZN', u'INDUS', u'CHAS', u'NOX', u'RM', u'AGE', u'DIS',\n",
    "#       u'RAD', u'TAX', u'PTRATIO', u'B', u'LSTAT', u'MEDV'],\n",
    "#      dtype='object')"
   ]
  },
  {
   "cell_type": "code",
   "execution_count": 25,
   "metadata": {
    "collapsed": false
   },
   "outputs": [
    {
     "data": {
      "text/plain": [
       "<bound method DataFrame.reset_index of          CRIM    ZN  INDUS  CHAS    NOX     RM    AGE     DIS  RAD  TAX  \\\n",
       "0     0.00632  18.0   2.31     0  0.538  6.575   65.2  4.0900    1  296   \n",
       "1     0.02731   0.0   7.07     0  0.469  6.421   78.9  4.9671    2  242   \n",
       "2     0.02729   0.0   7.07     0  0.469  7.185   61.1  4.9671    2  242   \n",
       "3     0.03237   0.0   2.18     0  0.458  6.998   45.8  6.0622    3  222   \n",
       "4     0.06905   0.0   2.18     0  0.458  7.147   54.2  6.0622    3  222   \n",
       "5     0.02985   0.0   2.18     0  0.458  6.430   58.7  6.0622    3  222   \n",
       "6     0.08829  12.5   7.87     0  0.524  6.012   66.6  5.5605    5  311   \n",
       "7     0.14455  12.5   7.87     0  0.524  6.172   96.1  5.9505    5  311   \n",
       "8     0.21124  12.5   7.87     0  0.524  5.631  100.0  6.0821    5  311   \n",
       "9     0.17004  12.5   7.87     0  0.524  6.004   85.9  6.5921    5  311   \n",
       "10    0.22489  12.5   7.87     0  0.524  6.377   94.3  6.3467    5  311   \n",
       "11    0.11747  12.5   7.87     0  0.524  6.009   82.9  6.2267    5  311   \n",
       "12    0.09378  12.5   7.87     0  0.524  5.889   39.0  5.4509    5  311   \n",
       "13    0.62976   0.0   8.14     0  0.538  5.949   61.8  4.7075    4  307   \n",
       "14    0.63796   0.0   8.14     0  0.538  6.096   84.5  4.4619    4  307   \n",
       "15    0.62739   0.0   8.14     0  0.538  5.834   56.5  4.4986    4  307   \n",
       "16    1.05393   0.0   8.14     0  0.538  5.935   29.3  4.4986    4  307   \n",
       "17    0.78420   0.0   8.14     0  0.538  5.990   81.7  4.2579    4  307   \n",
       "18    0.80271   0.0   8.14     0  0.538  5.456   36.6  3.7965    4  307   \n",
       "19    0.72580   0.0   8.14     0  0.538  5.727   69.5  3.7965    4  307   \n",
       "20    1.25179   0.0   8.14     0  0.538  5.570   98.1  3.7979    4  307   \n",
       "21    0.85204   0.0   8.14     0  0.538  5.965   89.2  4.0123    4  307   \n",
       "22    1.23247   0.0   8.14     0  0.538  6.142   91.7  3.9769    4  307   \n",
       "23    0.98843   0.0   8.14     0  0.538  5.813  100.0  4.0952    4  307   \n",
       "24    0.75026   0.0   8.14     0  0.538  5.924   94.1  4.3996    4  307   \n",
       "25    0.84054   0.0   8.14     0  0.538  5.599   85.7  4.4546    4  307   \n",
       "26    0.67191   0.0   8.14     0  0.538  5.813   90.3  4.6820    4  307   \n",
       "27    0.95577   0.0   8.14     0  0.538  6.047   88.8  4.4534    4  307   \n",
       "28    0.77299   0.0   8.14     0  0.538  6.495   94.4  4.4547    4  307   \n",
       "29    1.00245   0.0   8.14     0  0.538  6.674   87.3  4.2390    4  307   \n",
       "..        ...   ...    ...   ...    ...    ...    ...     ...  ...  ...   \n",
       "476   4.87141   0.0  18.10     0  0.614  6.484   93.6  2.3053   24  666   \n",
       "477  15.02340   0.0  18.10     0  0.614  5.304   97.3  2.1007   24  666   \n",
       "478  10.23300   0.0  18.10     0  0.614  6.185   96.7  2.1705   24  666   \n",
       "479  14.33370   0.0  18.10     0  0.614  6.229   88.0  1.9512   24  666   \n",
       "480   5.82401   0.0  18.10     0  0.532  6.242   64.7  3.4242   24  666   \n",
       "481   5.70818   0.0  18.10     0  0.532  6.750   74.9  3.3317   24  666   \n",
       "482   5.73116   0.0  18.10     0  0.532  7.061   77.0  3.4106   24  666   \n",
       "483   2.81838   0.0  18.10     0  0.532  5.762   40.3  4.0983   24  666   \n",
       "484   2.37857   0.0  18.10     0  0.583  5.871   41.9  3.7240   24  666   \n",
       "485   3.67367   0.0  18.10     0  0.583  6.312   51.9  3.9917   24  666   \n",
       "486   5.69175   0.0  18.10     0  0.583  6.114   79.8  3.5459   24  666   \n",
       "487   4.83567   0.0  18.10     0  0.583  5.905   53.2  3.1523   24  666   \n",
       "488   0.15086   0.0  27.74     0  0.609  5.454   92.7  1.8209    4  711   \n",
       "489   0.18337   0.0  27.74     0  0.609  5.414   98.3  1.7554    4  711   \n",
       "490   0.20746   0.0  27.74     0  0.609  5.093   98.0  1.8226    4  711   \n",
       "491   0.10574   0.0  27.74     0  0.609  5.983   98.8  1.8681    4  711   \n",
       "492   0.11132   0.0  27.74     0  0.609  5.983   83.5  2.1099    4  711   \n",
       "493   0.17331   0.0   9.69     0  0.585  5.707   54.0  2.3817    6  391   \n",
       "494   0.27957   0.0   9.69     0  0.585  5.926   42.6  2.3817    6  391   \n",
       "495   0.17899   0.0   9.69     0  0.585  5.670   28.8  2.7986    6  391   \n",
       "496   0.28960   0.0   9.69     0  0.585  5.390   72.9  2.7986    6  391   \n",
       "497   0.26838   0.0   9.69     0  0.585  5.794   70.6  2.8927    6  391   \n",
       "498   0.23912   0.0   9.69     0  0.585  6.019   65.3  2.4091    6  391   \n",
       "499   0.17783   0.0   9.69     0  0.585  5.569   73.5  2.3999    6  391   \n",
       "500   0.22438   0.0   9.69     0  0.585  6.027   79.7  2.4982    6  391   \n",
       "501   0.06263   0.0  11.93     0  0.573  6.593   69.1  2.4786    1  273   \n",
       "502   0.04527   0.0  11.93     0  0.573  6.120   76.7  2.2875    1  273   \n",
       "503   0.06076   0.0  11.93     0  0.573  6.976   91.0  2.1675    1  273   \n",
       "504   0.10959   0.0  11.93     0  0.573  6.794   89.3  2.3889    1  273   \n",
       "505   0.04741   0.0  11.93     0  0.573  6.030   80.8  2.5050    1  273   \n",
       "\n",
       "     PTRATIO       B  LSTAT  MEDV  \n",
       "0       15.3  396.90   4.98  24.0  \n",
       "1       17.8  396.90   9.14  21.6  \n",
       "2       17.8  392.83   4.03  34.7  \n",
       "3       18.7  394.63   2.94  33.4  \n",
       "4       18.7  396.90   5.33  36.2  \n",
       "5       18.7  394.12   5.21  28.7  \n",
       "6       15.2  395.60  12.43  22.9  \n",
       "7       15.2  396.90  19.15  27.1  \n",
       "8       15.2  386.63  29.93  16.5  \n",
       "9       15.2  386.71  17.10  18.9  \n",
       "10      15.2  392.52  20.45  15.0  \n",
       "11      15.2  396.90  13.27  18.9  \n",
       "12      15.2  390.50  15.71  21.7  \n",
       "13      21.0  396.90   8.26  20.4  \n",
       "14      21.0  380.02  10.26  18.2  \n",
       "15      21.0  395.62   8.47  19.9  \n",
       "16      21.0  386.85   6.58  23.1  \n",
       "17      21.0  386.75  14.67  17.5  \n",
       "18      21.0  288.99  11.69  20.2  \n",
       "19      21.0  390.95  11.28  18.2  \n",
       "20      21.0  376.57  21.02  13.6  \n",
       "21      21.0  392.53  13.83  19.6  \n",
       "22      21.0  396.90  18.72  15.2  \n",
       "23      21.0  394.54  19.88  14.5  \n",
       "24      21.0  394.33  16.30  15.6  \n",
       "25      21.0  303.42  16.51  13.9  \n",
       "26      21.0  376.88  14.81  16.6  \n",
       "27      21.0  306.38  17.28  14.8  \n",
       "28      21.0  387.94  12.80  18.4  \n",
       "29      21.0  380.23  11.98  21.0  \n",
       "..       ...     ...    ...   ...  \n",
       "476     20.2  396.21  18.68  16.7  \n",
       "477     20.2  349.48  24.91  12.0  \n",
       "478     20.2  379.70  18.03  14.6  \n",
       "479     20.2  383.32  13.11  21.4  \n",
       "480     20.2  396.90  10.74  23.0  \n",
       "481     20.2  393.07   7.74  23.7  \n",
       "482     20.2  395.28   7.01  25.0  \n",
       "483     20.2  392.92  10.42  21.8  \n",
       "484     20.2  370.73  13.34  20.6  \n",
       "485     20.2  388.62  10.58  21.2  \n",
       "486     20.2  392.68  14.98  19.1  \n",
       "487     20.2  388.22  11.45  20.6  \n",
       "488     20.1  395.09  18.06  15.2  \n",
       "489     20.1  344.05  23.97   7.0  \n",
       "490     20.1  318.43  29.68   8.1  \n",
       "491     20.1  390.11  18.07  13.6  \n",
       "492     20.1  396.90  13.35  20.1  \n",
       "493     19.2  396.90  12.01  21.8  \n",
       "494     19.2  396.90  13.59  24.5  \n",
       "495     19.2  393.29  17.60  23.1  \n",
       "496     19.2  396.90  21.14  19.7  \n",
       "497     19.2  396.90  14.10  18.3  \n",
       "498     19.2  396.90  12.92  21.2  \n",
       "499     19.2  395.77  15.10  17.5  \n",
       "500     19.2  396.90  14.33  16.8  \n",
       "501     21.0  391.99   9.67  22.4  \n",
       "502     21.0  396.90   9.08  20.6  \n",
       "503     21.0  396.90   5.64  23.9  \n",
       "504     21.0  393.45   6.48  22.0  \n",
       "505     21.0  396.90   7.88  11.9  \n",
       "\n",
       "[506 rows x 14 columns]>"
      ]
     },
     "execution_count": 25,
     "metadata": {},
     "output_type": "execute_result"
    }
   ],
   "source": [
    "# Remove the unneccesary column:\n",
    "#one way to drop a column\n",
    "boston.drop('Unnamed: 0', axis=1, inplace=True)\n",
    "# axis = 0 === rows <-- if you needed to wipe rows, or the row number\n",
    "# axis = 1 === columns <-- if you needed to wipe columns\n",
    "# inplace --> True to save data memory\n",
    "boston.reset_index"
   ]
  },
  {
   "cell_type": "code",
   "execution_count": 43,
   "metadata": {
    "collapsed": false
   },
   "outputs": [
    {
     "name": "stdout",
     "output_type": "stream",
     "text": [
      "       NOX    AGE     DIS  RAD  TAX\n",
      "208  0.489   59.1  4.2392    4  277\n",
      "209  0.489  100.0  3.8750    4  277\n",
      "210  0.489   92.1  3.8771    4  277\n",
      "[[ 1.  1.  1.  1.  1.]\n",
      " [ 1.  1.  1.  1.  1.]\n",
      " [ 1.  1.  1.  1.  1.]]\n",
      "     NOX  AGE  DIS  RAD  TAX\n",
      "208  1.0  1.0  1.0  1.0  1.0\n",
      "209  1.0  1.0  1.0  1.0  1.0\n",
      "210  1.0  1.0  1.0  1.0  1.0\n",
      "     NOX  AGE  DIS  RAD  TAX\n",
      "208  4.0  4.0  4.0  4.0  4.0\n",
      "209  4.0  4.0  4.0  4.0  4.0\n",
      "210  4.0  4.0  4.0  4.0  4.0\n",
      "     NOX  AGE  DIS  RAD  TAX\n",
      "208    1  4.0  4.0  4.0  4.0\n",
      "209    2  4.0  4.0  4.0  4.0\n",
      "210    3  4.0  4.0  4.0  4.0\n"
     ]
    }
   ],
   "source": [
    "boston.head()\n",
    "charles_river_only = (boston.CHAS == 1) & (boston.TAX<400)\n",
    "column_mask = [col for col in boston.columns if len(col) == 3]\n",
    "\n",
    "tmp = boston.loc[charles_river_only, column_mask].head(3)\n",
    "print tmp\n",
    "ones = np.ones((3,5))\n",
    "print ones\n",
    "\n",
    "tmp.iloc[:,:] = ones\n",
    "print tmp\n",
    "tmp.iloc[:,:] =4\n",
    "print tmp\n",
    "tmp.iloc[:,0] = np.array([1,2,3])\n",
    "print tmp"
   ]
  },
  {
   "cell_type": "markdown",
   "metadata": {},
   "source": [
    "### Make the column names more descriptive\n",
    "\n",
    "The codes are fine for some people, but I don't like having to memorize or reference the codebook whenever I want to know the meaning of a variable.\n",
    "\n",
    "There is more than one way to do this. I am going to use the explicit `.rename()` function.\n",
    "\n",
    "    CRIM: per capita crime rate by town \n",
    "    ZN: proportion of residential land zoned for lots over 25,000 sq.ft. \n",
    "    INDUS: proportion of non-retail business acres per town \n",
    "    CHAS: Charles River dummy variable (= 1 if tract bounds river; 0 otherwise) \n",
    "    NOX: nitric oxides concentration (parts per 10 million) \n",
    "    RM: average number of rooms per dwelling \n",
    "    AGE: proportion of owner-occupied units built prior to 1940 \n",
    "    DIS: weighted distances to five Boston employment centres \n",
    "    RAD: index of accessibility to radial highways \n",
    "    TAX: full-value property-tax rate per 10000 dollars\n",
    "    PTRATIO: pupil-teacher ratio by town \n",
    "    B: 1000(Bk - 0.63)^2 where Bk is the proportion of blacks by town \n",
    "    LSTAT: % lower status of the population \n",
    "    MEDV: Median value of owner-occupied homes in 1000's of dollars"
   ]
  },
  {
   "cell_type": "code",
   "execution_count": 44,
   "metadata": {
    "collapsed": false
   },
   "outputs": [
    {
     "data": {
      "text/html": [
       "<div>\n",
       "<table border=\"1\" class=\"dataframe\">\n",
       "  <thead>\n",
       "    <tr style=\"text-align: right;\">\n",
       "      <th></th>\n",
       "      <th>CRIM</th>\n",
       "      <th>ZN</th>\n",
       "      <th>INDUS</th>\n",
       "      <th>CHAS</th>\n",
       "      <th>NOX</th>\n",
       "      <th>RM</th>\n",
       "      <th>AGE</th>\n",
       "      <th>DIS</th>\n",
       "      <th>RAD</th>\n",
       "      <th>TAX</th>\n",
       "      <th>PTRATIO</th>\n",
       "      <th>B</th>\n",
       "      <th>LSTAT</th>\n",
       "      <th>MEDV</th>\n",
       "    </tr>\n",
       "  </thead>\n",
       "  <tbody>\n",
       "    <tr>\n",
       "      <th>0</th>\n",
       "      <td>0.00632</td>\n",
       "      <td>18.0</td>\n",
       "      <td>2.31</td>\n",
       "      <td>0</td>\n",
       "      <td>0.538</td>\n",
       "      <td>6.575</td>\n",
       "      <td>65.2</td>\n",
       "      <td>4.0900</td>\n",
       "      <td>1</td>\n",
       "      <td>296</td>\n",
       "      <td>15.3</td>\n",
       "      <td>396.90</td>\n",
       "      <td>4.98</td>\n",
       "      <td>24.0</td>\n",
       "    </tr>\n",
       "    <tr>\n",
       "      <th>1</th>\n",
       "      <td>0.02731</td>\n",
       "      <td>0.0</td>\n",
       "      <td>7.07</td>\n",
       "      <td>0</td>\n",
       "      <td>0.469</td>\n",
       "      <td>6.421</td>\n",
       "      <td>78.9</td>\n",
       "      <td>4.9671</td>\n",
       "      <td>2</td>\n",
       "      <td>242</td>\n",
       "      <td>17.8</td>\n",
       "      <td>396.90</td>\n",
       "      <td>9.14</td>\n",
       "      <td>21.6</td>\n",
       "    </tr>\n",
       "    <tr>\n",
       "      <th>2</th>\n",
       "      <td>0.02729</td>\n",
       "      <td>0.0</td>\n",
       "      <td>7.07</td>\n",
       "      <td>0</td>\n",
       "      <td>0.469</td>\n",
       "      <td>7.185</td>\n",
       "      <td>61.1</td>\n",
       "      <td>4.9671</td>\n",
       "      <td>2</td>\n",
       "      <td>242</td>\n",
       "      <td>17.8</td>\n",
       "      <td>392.83</td>\n",
       "      <td>4.03</td>\n",
       "      <td>34.7</td>\n",
       "    </tr>\n",
       "  </tbody>\n",
       "</table>\n",
       "</div>"
      ],
      "text/plain": [
       "      CRIM    ZN  INDUS  CHAS    NOX     RM   AGE     DIS  RAD  TAX  PTRATIO  \\\n",
       "0  0.00632  18.0   2.31     0  0.538  6.575  65.2  4.0900    1  296     15.3   \n",
       "1  0.02731   0.0   7.07     0  0.469  6.421  78.9  4.9671    2  242     17.8   \n",
       "2  0.02729   0.0   7.07     0  0.469  7.185  61.1  4.9671    2  242     17.8   \n",
       "\n",
       "        B  LSTAT  MEDV  \n",
       "0  396.90   4.98  24.0  \n",
       "1  396.90   9.14  21.6  \n",
       "2  392.83   4.03  34.7  "
      ]
     },
     "execution_count": 44,
     "metadata": {},
     "output_type": "execute_result"
    }
   ],
   "source": [
    "boston.head(3)"
   ]
  },
  {
   "cell_type": "code",
   "execution_count": 45,
   "metadata": {
    "collapsed": false
   },
   "outputs": [],
   "source": [
    "boston.rename(columns={\n",
    "        'CRIM':'rate_of_crime',\n",
    "        'ZN':'residential_zone_pct',\n",
    "        'INDUS':'business_zone_pct',\n",
    "        'CHAS':'borders_river',\n",
    "        'NOX':'oxide_concentration',\n",
    "        'RM':'average_rooms',\n",
    "        'AGE':'owner_occup_pct',\n",
    "        'DIS':'dist_to_work',\n",
    "        'RAD':'access_to_highway',\n",
    "        'TAX':'property_tax',\n",
    "        'PTRATIO':'student_teacher_ratio',\n",
    "        'B':'black_stat',\n",
    "        'LSTAT':'pct_underclass',\n",
    "        'MEDV':'home_median_value'\n",
    "    }, inplace=True)\n"
   ]
  },
  {
   "cell_type": "markdown",
   "metadata": {},
   "source": [
    "### Describe the variables\n",
    "\n",
    "Use the `.describe()` function here. What are some, if any, oddities you notice about the variables."
   ]
  },
  {
   "cell_type": "code",
   "execution_count": 46,
   "metadata": {
    "collapsed": false
   },
   "outputs": [
    {
     "data": {
      "text/html": [
       "<div>\n",
       "<table border=\"1\" class=\"dataframe\">\n",
       "  <thead>\n",
       "    <tr style=\"text-align: right;\">\n",
       "      <th></th>\n",
       "      <th>rate_of_crime</th>\n",
       "      <th>residential_zone_pct</th>\n",
       "      <th>business_zone_pct</th>\n",
       "      <th>borders_river</th>\n",
       "      <th>oxide_concentration</th>\n",
       "      <th>average_rooms</th>\n",
       "      <th>owner_occup_pct</th>\n",
       "      <th>dist_to_work</th>\n",
       "      <th>access_to_highway</th>\n",
       "      <th>property_tax</th>\n",
       "      <th>student_teacher_ratio</th>\n",
       "      <th>black_stat</th>\n",
       "      <th>pct_underclass</th>\n",
       "      <th>home_median_value</th>\n",
       "    </tr>\n",
       "  </thead>\n",
       "  <tbody>\n",
       "    <tr>\n",
       "      <th>count</th>\n",
       "      <td>506.000000</td>\n",
       "      <td>506.000000</td>\n",
       "      <td>506.000000</td>\n",
       "      <td>506.000000</td>\n",
       "      <td>506.000000</td>\n",
       "      <td>506.000000</td>\n",
       "      <td>506.000000</td>\n",
       "      <td>506.000000</td>\n",
       "      <td>506.000000</td>\n",
       "      <td>506.000000</td>\n",
       "      <td>506.000000</td>\n",
       "      <td>506.000000</td>\n",
       "      <td>506.000000</td>\n",
       "      <td>506.000000</td>\n",
       "    </tr>\n",
       "    <tr>\n",
       "      <th>mean</th>\n",
       "      <td>3.613524</td>\n",
       "      <td>11.363636</td>\n",
       "      <td>11.136779</td>\n",
       "      <td>0.069170</td>\n",
       "      <td>0.554695</td>\n",
       "      <td>6.284634</td>\n",
       "      <td>68.574901</td>\n",
       "      <td>3.795043</td>\n",
       "      <td>9.549407</td>\n",
       "      <td>408.237154</td>\n",
       "      <td>18.455534</td>\n",
       "      <td>356.674032</td>\n",
       "      <td>12.653063</td>\n",
       "      <td>22.532806</td>\n",
       "    </tr>\n",
       "    <tr>\n",
       "      <th>std</th>\n",
       "      <td>8.601545</td>\n",
       "      <td>23.322453</td>\n",
       "      <td>6.860353</td>\n",
       "      <td>0.253994</td>\n",
       "      <td>0.115878</td>\n",
       "      <td>0.702617</td>\n",
       "      <td>28.148861</td>\n",
       "      <td>2.105710</td>\n",
       "      <td>8.707259</td>\n",
       "      <td>168.537116</td>\n",
       "      <td>2.164946</td>\n",
       "      <td>91.294864</td>\n",
       "      <td>7.141062</td>\n",
       "      <td>9.197104</td>\n",
       "    </tr>\n",
       "    <tr>\n",
       "      <th>min</th>\n",
       "      <td>0.006320</td>\n",
       "      <td>0.000000</td>\n",
       "      <td>0.460000</td>\n",
       "      <td>0.000000</td>\n",
       "      <td>0.385000</td>\n",
       "      <td>3.561000</td>\n",
       "      <td>2.900000</td>\n",
       "      <td>1.129600</td>\n",
       "      <td>1.000000</td>\n",
       "      <td>187.000000</td>\n",
       "      <td>12.600000</td>\n",
       "      <td>0.320000</td>\n",
       "      <td>1.730000</td>\n",
       "      <td>5.000000</td>\n",
       "    </tr>\n",
       "    <tr>\n",
       "      <th>25%</th>\n",
       "      <td>0.082045</td>\n",
       "      <td>0.000000</td>\n",
       "      <td>5.190000</td>\n",
       "      <td>0.000000</td>\n",
       "      <td>0.449000</td>\n",
       "      <td>5.885500</td>\n",
       "      <td>45.025000</td>\n",
       "      <td>2.100175</td>\n",
       "      <td>4.000000</td>\n",
       "      <td>279.000000</td>\n",
       "      <td>17.400000</td>\n",
       "      <td>375.377500</td>\n",
       "      <td>6.950000</td>\n",
       "      <td>17.025000</td>\n",
       "    </tr>\n",
       "    <tr>\n",
       "      <th>50%</th>\n",
       "      <td>0.256510</td>\n",
       "      <td>0.000000</td>\n",
       "      <td>9.690000</td>\n",
       "      <td>0.000000</td>\n",
       "      <td>0.538000</td>\n",
       "      <td>6.208500</td>\n",
       "      <td>77.500000</td>\n",
       "      <td>3.207450</td>\n",
       "      <td>5.000000</td>\n",
       "      <td>330.000000</td>\n",
       "      <td>19.050000</td>\n",
       "      <td>391.440000</td>\n",
       "      <td>11.360000</td>\n",
       "      <td>21.200000</td>\n",
       "    </tr>\n",
       "    <tr>\n",
       "      <th>75%</th>\n",
       "      <td>3.677082</td>\n",
       "      <td>12.500000</td>\n",
       "      <td>18.100000</td>\n",
       "      <td>0.000000</td>\n",
       "      <td>0.624000</td>\n",
       "      <td>6.623500</td>\n",
       "      <td>94.075000</td>\n",
       "      <td>5.188425</td>\n",
       "      <td>24.000000</td>\n",
       "      <td>666.000000</td>\n",
       "      <td>20.200000</td>\n",
       "      <td>396.225000</td>\n",
       "      <td>16.955000</td>\n",
       "      <td>25.000000</td>\n",
       "    </tr>\n",
       "    <tr>\n",
       "      <th>max</th>\n",
       "      <td>88.976200</td>\n",
       "      <td>100.000000</td>\n",
       "      <td>27.740000</td>\n",
       "      <td>1.000000</td>\n",
       "      <td>0.871000</td>\n",
       "      <td>8.780000</td>\n",
       "      <td>100.000000</td>\n",
       "      <td>12.126500</td>\n",
       "      <td>24.000000</td>\n",
       "      <td>711.000000</td>\n",
       "      <td>22.000000</td>\n",
       "      <td>396.900000</td>\n",
       "      <td>37.970000</td>\n",
       "      <td>50.000000</td>\n",
       "    </tr>\n",
       "  </tbody>\n",
       "</table>\n",
       "</div>"
      ],
      "text/plain": [
       "       rate_of_crime  residential_zone_pct  business_zone_pct  borders_river  \\\n",
       "count     506.000000            506.000000         506.000000     506.000000   \n",
       "mean        3.613524             11.363636          11.136779       0.069170   \n",
       "std         8.601545             23.322453           6.860353       0.253994   \n",
       "min         0.006320              0.000000           0.460000       0.000000   \n",
       "25%         0.082045              0.000000           5.190000       0.000000   \n",
       "50%         0.256510              0.000000           9.690000       0.000000   \n",
       "75%         3.677082             12.500000          18.100000       0.000000   \n",
       "max        88.976200            100.000000          27.740000       1.000000   \n",
       "\n",
       "       oxide_concentration  average_rooms  owner_occup_pct  dist_to_work  \\\n",
       "count           506.000000     506.000000       506.000000    506.000000   \n",
       "mean              0.554695       6.284634        68.574901      3.795043   \n",
       "std               0.115878       0.702617        28.148861      2.105710   \n",
       "min               0.385000       3.561000         2.900000      1.129600   \n",
       "25%               0.449000       5.885500        45.025000      2.100175   \n",
       "50%               0.538000       6.208500        77.500000      3.207450   \n",
       "75%               0.624000       6.623500        94.075000      5.188425   \n",
       "max               0.871000       8.780000       100.000000     12.126500   \n",
       "\n",
       "       access_to_highway  property_tax  student_teacher_ratio  black_stat  \\\n",
       "count         506.000000    506.000000             506.000000  506.000000   \n",
       "mean            9.549407    408.237154              18.455534  356.674032   \n",
       "std             8.707259    168.537116               2.164946   91.294864   \n",
       "min             1.000000    187.000000              12.600000    0.320000   \n",
       "25%             4.000000    279.000000              17.400000  375.377500   \n",
       "50%             5.000000    330.000000              19.050000  391.440000   \n",
       "75%            24.000000    666.000000              20.200000  396.225000   \n",
       "max            24.000000    711.000000              22.000000  396.900000   \n",
       "\n",
       "       pct_underclass  home_median_value  \n",
       "count      506.000000         506.000000  \n",
       "mean        12.653063          22.532806  \n",
       "std          7.141062           9.197104  \n",
       "min          1.730000           5.000000  \n",
       "25%          6.950000          17.025000  \n",
       "50%         11.360000          21.200000  \n",
       "75%         16.955000          25.000000  \n",
       "max         37.970000          50.000000  "
      ]
     },
     "execution_count": 46,
     "metadata": {},
     "output_type": "execute_result"
    }
   ],
   "source": [
    "boston.describe()"
   ]
  },
  {
   "cell_type": "markdown",
   "metadata": {},
   "source": [
    "There are some potential outliers in variables here:\n",
    "\n",
    "1. black_stat has at least one outlier at the min end of the range.\n",
    "2. owner_occup_pct has at least one outlier at the min end.\n",
    "3. business_zone_pct might have an outlier at the min end.\n",
    "4. rate_of_crime has at least one outlier at the max end."
   ]
  },
  {
   "cell_type": "markdown",
   "metadata": {},
   "source": [
    "---\n",
    "\n",
    "## 3. Plot variables with potential outliers using seaborn boxplots.\n",
    "\n",
    "Some notes on seaborn's boxplot keyword argument options that I'm going to use:\n",
    "\n",
    "    orient: can be 'v' or 'h' for vertical and horizontal, respectively\n",
    "    fliersize: the size of the outlier points (pixels I think)\n",
    "    linewidth: the width of line outlining the boxplot\n",
    "    notch: show the confidence interval for the median (calculated by seaborn/plt.boxplot)\n",
    "    saturation: saturate the colors to an extent\n",
    "    \n",
    "    "
   ]
  },
  {
   "cell_type": "code",
   "execution_count": 61,
   "metadata": {
    "collapsed": false
   },
   "outputs": [
    {
     "data": {
      "image/png": "[encoded data removed]",
      "text/plain": [
       "<matplotlib.figure.Figure at 0x11f9e3190>"
      ]
     },
     "metadata": {
      "image/png": {
       "height": 247,
       "width": 438
      }
     },
     "output_type": "display_data"
    }
   ],
   "source": [
    "# rate of crime\n",
    "fig = plt.figure(figsize = (7,4))\n",
    "ax = fig.gca()\n",
    "ax = sns.boxplot(boston.rate_of_crime, orient='v', fliersize =8, linewidth = 1.5, notch=True, saturation = 0.5, ax=ax)\n",
    "ax.set_ylabel('rate of crime')\n",
    "\n",
    "plt.show()\n",
    "\n",
    "# notches tell you the closeness of data to the median\n",
    "# the confidence - how certain are you about data. notch will be smaller and smaller the more data you have."
   ]
  },
  {
   "cell_type": "markdown",
   "metadata": {
    "collapsed": false
   },
   "source": [
    "# percent owner occupied"
   ]
  },
  {
   "cell_type": "code",
   "execution_count": 62,
   "metadata": {
    "collapsed": false
   },
   "outputs": [
    {
     "data": {
      "image/png": "[encoded data removed]",
      "text/plain": [
       "<matplotlib.figure.Figure at 0x11fc54a10>"
      ]
     },
     "metadata": {
      "image/png": {
       "height": 247,
       "width": 438
      }
     },
     "output_type": "display_data"
    }
   ],
   "source": [
    "# business zone percent\n",
    "fig = plt.figure(figsize = (7,4))\n",
    "ax = fig.gca()\n",
    "ax = sns.boxplot(boston.business_zone_pct, orient='v', fliersize =8, linewidth = 1.5, notch=True, saturation = 0.5, ax=ax)\n",
    "ax.set_ylabel('business_zone_pct')\n",
    "plt.show()"
   ]
  },
  {
   "cell_type": "code",
   "execution_count": 65,
   "metadata": {
    "collapsed": false
   },
   "outputs": [
    {
     "data": {
      "image/png": "[encoded data removed]",
      "text/plain": [
       "<matplotlib.figure.Figure at 0x12026cb10>"
      ]
     },
     "metadata": {
      "image/png": {
       "height": 247,
       "width": 443
      }
     },
     "output_type": "display_data"
    }
   ],
   "source": [
    "# black population statistic\n",
    "\n",
    "fig = plt.figure(figsize = (7,4))\n",
    "ax = fig.gca()\n",
    "ax = sns.boxplot(boston.black_stat, orient='v', fliersize =8, linewidth = 1.5, notch=True, saturation = 0.5, ax=ax)\n",
    "ax.set_ylabel('black_stat')\n",
    "plt.show()"
   ]
  },
  {
   "cell_type": "markdown",
   "metadata": {},
   "source": [
    "From the boxplots, it looks like rate of crime and the proportion black people statistic have real outliers. The other variables actually look OK to me."
   ]
  },
  {
   "cell_type": "markdown",
   "metadata": {},
   "source": [
    "---\n",
    "\n",
    "## 4. Plot all the variables on boxplots together.\n",
    "\n",
    "Let's try this first with the variables as they are, using a horizontal boxplot with seaborn."
   ]
  },
  {
   "cell_type": "code",
   "execution_count": 71,
   "metadata": {
    "collapsed": false
   },
   "outputs": [
    {
     "data": {
      "image/png": "[encoded data removed]",
      "text/plain": [
       "<matplotlib.figure.Figure at 0x11ea5c5d0>"
      ]
     },
     "metadata": {
      "image/png": {
       "height": 379,
       "width": 978
      }
     },
     "output_type": "display_data"
    }
   ],
   "source": [
    "fig = plt.figure(figsize = (15,6))\n",
    "ax = fig.gca()\n",
    "ax = sns.boxplot(boston, orient='h', fliersize =8, linewidth = 1.5, notch=True, saturation = 0.5, ax=ax)\n",
    "ax.set_ylabel('Variables')\n",
    "ax.set_title('Boston housing variables boxplots')\n",
    "plt.show()"
   ]
  },
  {
   "cell_type": "markdown",
   "metadata": {},
   "source": [
    "The boxplots are hard to visualize since all of these variables are on different scales.\n",
    "\n",
    "---\n",
    "\n",
    "## 5. Rescaling variables and plotting again.\n",
    "\n",
    "Rescaling of variables is very common, and in fact when we get to regularization in models during upcoming weeks the rescaling procedure is actually going to become essential for the regularization to work.\n",
    "\n",
    "Let's rescale the variables using a procedure called \"standardization\" or alternatively \"normalization\".\n",
    "\n",
    "Normalization is a concise process:\n",
    "\n",
    "    normalized_variable = (variable - mean_of_variable) / std_dev_of_variable\n",
    "    \n",
    "What does this do, exactly? It forces the variable's values to have a mean of 0 and a standard deviation of 1. Nothing else is changed about the distribution of the variable. It doesn't become \"normal\" or anything. \n",
    "\n",
    "### 5.1 Extract rate of crime and plot the distribution \n",
    "\n",
    "Also print out the mean and standard deviation of the original variable."
   ]
  },
  {
   "cell_type": "code",
   "execution_count": 100,
   "metadata": {
    "collapsed": false
   },
   "outputs": [
    {
     "name": "stdout",
     "output_type": "stream",
     "text": [
      "3.61352355731 8.5930413513\n"
     ]
    }
   ],
   "source": [
    "#sns.distplot(boston.rate_of_crime)\n",
    "roc = boston.rate_of_crime.values\n",
    "roc_mean = np.mean(roc)\n",
    "roc_std = np.std(roc)\n",
    "print roc_mean, roc_std"
   ]
  },
  {
   "cell_type": "markdown",
   "metadata": {},
   "source": [
    "Normalize the rate_of_crime variable and plot again. Notice the new mean is centered at 0."
   ]
  },
  {
   "cell_type": "code",
   "execution_count": 101,
   "metadata": {
    "collapsed": false
   },
   "outputs": [],
   "source": [
    "#print boston.rate_of_crime\n",
    "roc_norm = (roc - roc_mean)/roc_std"
   ]
  },
  {
   "cell_type": "markdown",
   "metadata": {},
   "source": [
    "Print the normalized variable with outliers removed. Let's set the criteria for outliers to be any values that are above 4 * the std_dev of the variable (which is now just 4, since we have forced the standard deviation to be 1 through normalization!)"
   ]
  },
  {
   "cell_type": "code",
   "execution_count": 103,
   "metadata": {
    "collapsed": false
   },
   "outputs": [
    {
     "data": {
      "image/png": "[encoded data removed]",
      "text/plain": [
       "<matplotlib.figure.Figure at 0x11f341090>"
      ]
     },
     "metadata": {
      "image/png": {
       "height": 314,
       "width": 490
      }
     },
     "output_type": "display_data"
    },
    {
     "data": {
      "image/png": "[encoded data removed]",
      "text/plain": [
       "<matplotlib.figure.Figure at 0x11f3dedd0>"
      ]
     },
     "metadata": {
      "image/png": {
       "height": 314,
       "width": 490
      }
     },
     "output_type": "display_data"
    }
   ],
   "source": [
    "fig = plt.figure(figsize = (8,5))\n",
    "ax = fig.gca()\n",
    "ax = sns.distplot(roc, bins=30, kde=False)\n",
    "plt.show()\n",
    "\n",
    "fig = plt.figure(figsize = (8,5))\n",
    "ax = fig.gca()\n",
    "ax = sns.distplot(roc_norm, bins=30, kde=False)\n",
    "plt.show()"
   ]
  },
  {
   "cell_type": "markdown",
   "metadata": {},
   "source": [
    "The variable is still extremely skewed. Dealing with this is a more difficult issue and we will explore this at a later time! (One of your challege/expert problems in Project 2 teaches one method to try and deal with skewness in a variable – keep in mind, however, no method to get rid of skewness is perfect.)"
   ]
  },
  {
   "cell_type": "markdown",
   "metadata": {},
   "source": [
    "---\n",
    "\n",
    "## 6. Normalize all the variables and plot the full boxplot again.\n",
    "\n",
    "Pandas DataFrames actually make it extremely easy to normalize columns all at once. Say we have a DataFrame `data`, then we can normalize all the columns like so:\n",
    "\n",
    "    data_norm = (data_norm - data_norm.mean()) / data_norm.std()"
   ]
  },
  {
   "cell_type": "code",
   "execution_count": 109,
   "metadata": {
    "collapsed": false
   },
   "outputs": [
    {
     "data": {
      "image/png": "[encoded data removed]",
      "text/plain": [
       "<matplotlib.figure.Figure at 0x11f001f90>"
      ]
     },
     "metadata": {
      "image/png": {
       "height": 309,
       "width": 793
      }
     },
     "output_type": "display_data"
    }
   ],
   "source": [
    "boston_norm  = (boston - boston.mean())/boston.std() # .mean() and .std() gives vector columns\n",
    "fig = plt.figure(figsize = (12,5))\n",
    "ax = fig.gca()\n",
    "ax = sns.boxplot(boston_norm, orient = 'h', fliersize = 6, linewidth =2, notch = True, saturation=0.5, ax=ax)\n",
    "plt.show()"
   ]
  },
  {
   "cell_type": "markdown",
   "metadata": {},
   "source": [
    "---\n",
    "\n",
    "## 6. Covariance and correlation of variables\n",
    "\n",
    "A great way to immediately get a feel for relationships between your variables is with a correlation matrix.\n",
    "\n",
    "Let's first examine the covariance and the correlation and calculate these by hand.\n",
    "\n",
    "### 6.1 Covariance of variables\n",
    "\n",
    "Given sample size $N$ variables $X$ and $Y$, with means $\\bar{X}$ and $\\bar{Y}$:\n",
    "\n",
    "### $$ \\text{covariance}(X, Y) = \\sum_{i=1}^N \\frac{(X - \\bar{X})(Y - \\bar{Y})}{N}$$\n",
    "\n",
    "The covariance is a measure of \"relatedness\" between variables. It is literally the sum of deviations from the mean of $X$ times deviations from the mean of $Y$ adjusted by the sample size $N$.\n",
    "\n",
    "Code the covariance between `pct_underclass` and `home_median_value` below by hand. Verify that you got the correct result using `np.cov()`. Set the keyword argument `bias=True` in `np.cov()` to have it use the same covariance calculation.\n",
    "\n",
    "Note: `np.cov` returns a covariance _matrix_, which will be each values covariance with itself and the other variable in matrix format."
   ]
  },
  {
   "cell_type": "code",
   "execution_count": 117,
   "metadata": {
    "collapsed": false
   },
   "outputs": [
    {
     "name": "stdout",
     "output_type": "stream",
     "text": [
      "-48.3517921933\n",
      "[[ 50.89397935 -48.35179219]\n",
      " [-48.35179219  84.41955616]]\n"
     ]
    }
   ],
   "source": [
    "# covariance - lower numbers means not related , higher numbers mean larger relationship\n",
    "# if its positive its directly proportional\n",
    "# if its negative its inversely proportional\n",
    "pct_under = boston.pct_underclass.values\n",
    "med_val = boston.home_median_value.values\n",
    "\n",
    "under_val_cov = np.sum((pct_under - np.mean(pct_under))*(med_val - np.mean(med_val)))/len(pct_under)\n",
    "print under_val_cov\n",
    "# you have to subtract, otherwise, in some cases the values may always be positive, leading to only positive COV\n",
    "\n",
    "print np.cov(pct_under, med_val, bias =True) # if bias = false, then it uses n-1, which means we have a subset"
   ]
  },
  {
   "cell_type": "markdown",
   "metadata": {},
   "source": [
    "### 6.2 Correlation of variables\n",
    "\n",
    "What's the problem with covariance? Well, its not very interpretable. The values are difficult to read because they are relative to the variance of the variables.\n",
    "\n",
    "A much more common metric, and one easily calculable from the covariance, is the correlation.\n",
    "\n",
    "Again, let $X$ and $Y$ be our two variables, with covariance $cov(X, Y)$ that we calculated above:\n",
    "\n",
    "### $$ \\text{pearson correlation}\\;r = cor(X, Y) =\\frac{cov(X, Y)}{std(X)std(Y)}$$\n",
    "\n",
    "What the pearson correlation does is in fact directly related to what we did above during the normalization procedure. We are taking the covariance and dividing it by the product of the standard deviations of X and Y. This adjusts the value we get out by the variance of the variables so that $r$ must fall between -1 and 1.\n",
    "\n",
    "Calculate the correlation between `pct_under` and `med_value` by hand below. Check that it is the same as `np.corrcoef()` with `bias=True`:\n"
   ]
  },
  {
   "cell_type": "code",
   "execution_count": 121,
   "metadata": {
    "collapsed": false
   },
   "outputs": [
    {
     "name": "stdout",
     "output_type": "stream",
     "text": [
      "-0.737662726174\n",
      "[[ 1.         -0.73766273]\n",
      " [-0.73766273  1.        ]]\n"
     ]
    }
   ],
   "source": [
    "# by hand again\n",
    "uv_corr = under_val_cov / (np.std(pct_under) * np.std(med_val))\n",
    "print uv_corr\n",
    "print np.corrcoef(pct_under, med_val, bias = True)"
   ]
  },
  {
   "cell_type": "markdown",
   "metadata": {},
   "source": [
    "### 6.3 The correlation matrix\n",
    "\n",
    "We can see the correlation between all the numeric variables in our dataset by using pandas DataFrame's built in `.corr()` function. Use it below on the boston dataset.\n",
    "\n",
    "It is very useful to get a feel for what is related and what is not, which can help you decide what is worth investigating further (though with a lot of variables, the matrix can be a bit overwhelming...)"
   ]
  },
  {
   "cell_type": "code",
   "execution_count": 122,
   "metadata": {
    "collapsed": false
   },
   "outputs": [
    {
     "data": {
      "text/html": [
       "<div>\n",
       "<table border=\"1\" class=\"dataframe\">\n",
       "  <thead>\n",
       "    <tr style=\"text-align: right;\">\n",
       "      <th></th>\n",
       "      <th>rate_of_crime</th>\n",
       "      <th>residential_zone_pct</th>\n",
       "      <th>business_zone_pct</th>\n",
       "      <th>borders_river</th>\n",
       "      <th>oxide_concentration</th>\n",
       "      <th>average_rooms</th>\n",
       "      <th>owner_occup_pct</th>\n",
       "      <th>dist_to_work</th>\n",
       "      <th>access_to_highway</th>\n",
       "      <th>property_tax</th>\n",
       "      <th>student_teacher_ratio</th>\n",
       "      <th>black_stat</th>\n",
       "      <th>pct_underclass</th>\n",
       "      <th>home_median_value</th>\n",
       "    </tr>\n",
       "  </thead>\n",
       "  <tbody>\n",
       "    <tr>\n",
       "      <th>rate_of_crime</th>\n",
       "      <td>1.000000</td>\n",
       "      <td>-0.200469</td>\n",
       "      <td>0.406583</td>\n",
       "      <td>-0.055892</td>\n",
       "      <td>0.420972</td>\n",
       "      <td>-0.219247</td>\n",
       "      <td>0.352734</td>\n",
       "      <td>-0.379670</td>\n",
       "      <td>0.625505</td>\n",
       "      <td>0.582764</td>\n",
       "      <td>0.289946</td>\n",
       "      <td>-0.385064</td>\n",
       "      <td>0.455621</td>\n",
       "      <td>-0.388305</td>\n",
       "    </tr>\n",
       "    <tr>\n",
       "      <th>residential_zone_pct</th>\n",
       "      <td>-0.200469</td>\n",
       "      <td>1.000000</td>\n",
       "      <td>-0.533828</td>\n",
       "      <td>-0.042697</td>\n",
       "      <td>-0.516604</td>\n",
       "      <td>0.311991</td>\n",
       "      <td>-0.569537</td>\n",
       "      <td>0.664408</td>\n",
       "      <td>-0.311948</td>\n",
       "      <td>-0.314563</td>\n",
       "      <td>-0.391679</td>\n",
       "      <td>0.175520</td>\n",
       "      <td>-0.412995</td>\n",
       "      <td>0.360445</td>\n",
       "    </tr>\n",
       "    <tr>\n",
       "      <th>business_zone_pct</th>\n",
       "      <td>0.406583</td>\n",
       "      <td>-0.533828</td>\n",
       "      <td>1.000000</td>\n",
       "      <td>0.062938</td>\n",
       "      <td>0.763651</td>\n",
       "      <td>-0.391676</td>\n",
       "      <td>0.644779</td>\n",
       "      <td>-0.708027</td>\n",
       "      <td>0.595129</td>\n",
       "      <td>0.720760</td>\n",
       "      <td>0.383248</td>\n",
       "      <td>-0.356977</td>\n",
       "      <td>0.603800</td>\n",
       "      <td>-0.483725</td>\n",
       "    </tr>\n",
       "    <tr>\n",
       "      <th>borders_river</th>\n",
       "      <td>-0.055892</td>\n",
       "      <td>-0.042697</td>\n",
       "      <td>0.062938</td>\n",
       "      <td>1.000000</td>\n",
       "      <td>0.091203</td>\n",
       "      <td>0.091251</td>\n",
       "      <td>0.086518</td>\n",
       "      <td>-0.099176</td>\n",
       "      <td>-0.007368</td>\n",
       "      <td>-0.035587</td>\n",
       "      <td>-0.121515</td>\n",
       "      <td>0.048788</td>\n",
       "      <td>-0.053929</td>\n",
       "      <td>0.175260</td>\n",
       "    </tr>\n",
       "    <tr>\n",
       "      <th>oxide_concentration</th>\n",
       "      <td>0.420972</td>\n",
       "      <td>-0.516604</td>\n",
       "      <td>0.763651</td>\n",
       "      <td>0.091203</td>\n",
       "      <td>1.000000</td>\n",
       "      <td>-0.302188</td>\n",
       "      <td>0.731470</td>\n",
       "      <td>-0.769230</td>\n",
       "      <td>0.611441</td>\n",
       "      <td>0.668023</td>\n",
       "      <td>0.188933</td>\n",
       "      <td>-0.380051</td>\n",
       "      <td>0.590879</td>\n",
       "      <td>-0.427321</td>\n",
       "    </tr>\n",
       "    <tr>\n",
       "      <th>average_rooms</th>\n",
       "      <td>-0.219247</td>\n",
       "      <td>0.311991</td>\n",
       "      <td>-0.391676</td>\n",
       "      <td>0.091251</td>\n",
       "      <td>-0.302188</td>\n",
       "      <td>1.000000</td>\n",
       "      <td>-0.240265</td>\n",
       "      <td>0.205246</td>\n",
       "      <td>-0.209847</td>\n",
       "      <td>-0.292048</td>\n",
       "      <td>-0.355501</td>\n",
       "      <td>0.128069</td>\n",
       "      <td>-0.613808</td>\n",
       "      <td>0.695360</td>\n",
       "    </tr>\n",
       "    <tr>\n",
       "      <th>owner_occup_pct</th>\n",
       "      <td>0.352734</td>\n",
       "      <td>-0.569537</td>\n",
       "      <td>0.644779</td>\n",
       "      <td>0.086518</td>\n",
       "      <td>0.731470</td>\n",
       "      <td>-0.240265</td>\n",
       "      <td>1.000000</td>\n",
       "      <td>-0.747881</td>\n",
       "      <td>0.456022</td>\n",
       "      <td>0.506456</td>\n",
       "      <td>0.261515</td>\n",
       "      <td>-0.273534</td>\n",
       "      <td>0.602339</td>\n",
       "      <td>-0.376955</td>\n",
       "    </tr>\n",
       "    <tr>\n",
       "      <th>dist_to_work</th>\n",
       "      <td>-0.379670</td>\n",
       "      <td>0.664408</td>\n",
       "      <td>-0.708027</td>\n",
       "      <td>-0.099176</td>\n",
       "      <td>-0.769230</td>\n",
       "      <td>0.205246</td>\n",
       "      <td>-0.747881</td>\n",
       "      <td>1.000000</td>\n",
       "      <td>-0.494588</td>\n",
       "      <td>-0.534432</td>\n",
       "      <td>-0.232471</td>\n",
       "      <td>0.291512</td>\n",
       "      <td>-0.496996</td>\n",
       "      <td>0.249929</td>\n",
       "    </tr>\n",
       "    <tr>\n",
       "      <th>access_to_highway</th>\n",
       "      <td>0.625505</td>\n",
       "      <td>-0.311948</td>\n",
       "      <td>0.595129</td>\n",
       "      <td>-0.007368</td>\n",
       "      <td>0.611441</td>\n",
       "      <td>-0.209847</td>\n",
       "      <td>0.456022</td>\n",
       "      <td>-0.494588</td>\n",
       "      <td>1.000000</td>\n",
       "      <td>0.910228</td>\n",
       "      <td>0.464741</td>\n",
       "      <td>-0.444413</td>\n",
       "      <td>0.488676</td>\n",
       "      <td>-0.381626</td>\n",
       "    </tr>\n",
       "    <tr>\n",
       "      <th>property_tax</th>\n",
       "      <td>0.582764</td>\n",
       "      <td>-0.314563</td>\n",
       "      <td>0.720760</td>\n",
       "      <td>-0.035587</td>\n",
       "      <td>0.668023</td>\n",
       "      <td>-0.292048</td>\n",
       "      <td>0.506456</td>\n",
       "      <td>-0.534432</td>\n",
       "      <td>0.910228</td>\n",
       "      <td>1.000000</td>\n",
       "      <td>0.460853</td>\n",
       "      <td>-0.441808</td>\n",
       "      <td>0.543993</td>\n",
       "      <td>-0.468536</td>\n",
       "    </tr>\n",
       "    <tr>\n",
       "      <th>student_teacher_ratio</th>\n",
       "      <td>0.289946</td>\n",
       "      <td>-0.391679</td>\n",
       "      <td>0.383248</td>\n",
       "      <td>-0.121515</td>\n",
       "      <td>0.188933</td>\n",
       "      <td>-0.355501</td>\n",
       "      <td>0.261515</td>\n",
       "      <td>-0.232471</td>\n",
       "      <td>0.464741</td>\n",
       "      <td>0.460853</td>\n",
       "      <td>1.000000</td>\n",
       "      <td>-0.177383</td>\n",
       "      <td>0.374044</td>\n",
       "      <td>-0.507787</td>\n",
       "    </tr>\n",
       "    <tr>\n",
       "      <th>black_stat</th>\n",
       "      <td>-0.385064</td>\n",
       "      <td>0.175520</td>\n",
       "      <td>-0.356977</td>\n",
       "      <td>0.048788</td>\n",
       "      <td>-0.380051</td>\n",
       "      <td>0.128069</td>\n",
       "      <td>-0.273534</td>\n",
       "      <td>0.291512</td>\n",
       "      <td>-0.444413</td>\n",
       "      <td>-0.441808</td>\n",
       "      <td>-0.177383</td>\n",
       "      <td>1.000000</td>\n",
       "      <td>-0.366087</td>\n",
       "      <td>0.333461</td>\n",
       "    </tr>\n",
       "    <tr>\n",
       "      <th>pct_underclass</th>\n",
       "      <td>0.455621</td>\n",
       "      <td>-0.412995</td>\n",
       "      <td>0.603800</td>\n",
       "      <td>-0.053929</td>\n",
       "      <td>0.590879</td>\n",
       "      <td>-0.613808</td>\n",
       "      <td>0.602339</td>\n",
       "      <td>-0.496996</td>\n",
       "      <td>0.488676</td>\n",
       "      <td>0.543993</td>\n",
       "      <td>0.374044</td>\n",
       "      <td>-0.366087</td>\n",
       "      <td>1.000000</td>\n",
       "      <td>-0.737663</td>\n",
       "    </tr>\n",
       "    <tr>\n",
       "      <th>home_median_value</th>\n",
       "      <td>-0.388305</td>\n",
       "      <td>0.360445</td>\n",
       "      <td>-0.483725</td>\n",
       "      <td>0.175260</td>\n",
       "      <td>-0.427321</td>\n",
       "      <td>0.695360</td>\n",
       "      <td>-0.376955</td>\n",
       "      <td>0.249929</td>\n",
       "      <td>-0.381626</td>\n",
       "      <td>-0.468536</td>\n",
       "      <td>-0.507787</td>\n",
       "      <td>0.333461</td>\n",
       "      <td>-0.737663</td>\n",
       "      <td>1.000000</td>\n",
       "    </tr>\n",
       "  </tbody>\n",
       "</table>\n",
       "</div>"
      ],
      "text/plain": [
       "                       rate_of_crime  residential_zone_pct  business_zone_pct  \\\n",
       "rate_of_crime               1.000000             -0.200469           0.406583   \n",
       "residential_zone_pct       -0.200469              1.000000          -0.533828   \n",
       "business_zone_pct           0.406583             -0.533828           1.000000   \n",
       "borders_river              -0.055892             -0.042697           0.062938   \n",
       "oxide_concentration         0.420972             -0.516604           0.763651   \n",
       "average_rooms              -0.219247              0.311991          -0.391676   \n",
       "owner_occup_pct             0.352734             -0.569537           0.644779   \n",
       "dist_to_work               -0.379670              0.664408          -0.708027   \n",
       "access_to_highway           0.625505             -0.311948           0.595129   \n",
       "property_tax                0.582764             -0.314563           0.720760   \n",
       "student_teacher_ratio       0.289946             -0.391679           0.383248   \n",
       "black_stat                 -0.385064              0.175520          -0.356977   \n",
       "pct_underclass              0.455621             -0.412995           0.603800   \n",
       "home_median_value          -0.388305              0.360445          -0.483725   \n",
       "\n",
       "                       borders_river  oxide_concentration  average_rooms  \\\n",
       "rate_of_crime              -0.055892             0.420972      -0.219247   \n",
       "residential_zone_pct       -0.042697            -0.516604       0.311991   \n",
       "business_zone_pct           0.062938             0.763651      -0.391676   \n",
       "borders_river               1.000000             0.091203       0.091251   \n",
       "oxide_concentration         0.091203             1.000000      -0.302188   \n",
       "average_rooms               0.091251            -0.302188       1.000000   \n",
       "owner_occup_pct             0.086518             0.731470      -0.240265   \n",
       "dist_to_work               -0.099176            -0.769230       0.205246   \n",
       "access_to_highway          -0.007368             0.611441      -0.209847   \n",
       "property_tax               -0.035587             0.668023      -0.292048   \n",
       "student_teacher_ratio      -0.121515             0.188933      -0.355501   \n",
       "black_stat                  0.048788            -0.380051       0.128069   \n",
       "pct_underclass             -0.053929             0.590879      -0.613808   \n",
       "home_median_value           0.175260            -0.427321       0.695360   \n",
       "\n",
       "                       owner_occup_pct  dist_to_work  access_to_highway  \\\n",
       "rate_of_crime                 0.352734     -0.379670           0.625505   \n",
       "residential_zone_pct         -0.569537      0.664408          -0.311948   \n",
       "business_zone_pct             0.644779     -0.708027           0.595129   \n",
       "borders_river                 0.086518     -0.099176          -0.007368   \n",
       "oxide_concentration           0.731470     -0.769230           0.611441   \n",
       "average_rooms                -0.240265      0.205246          -0.209847   \n",
       "owner_occup_pct               1.000000     -0.747881           0.456022   \n",
       "dist_to_work                 -0.747881      1.000000          -0.494588   \n",
       "access_to_highway             0.456022     -0.494588           1.000000   \n",
       "property_tax                  0.506456     -0.534432           0.910228   \n",
       "student_teacher_ratio         0.261515     -0.232471           0.464741   \n",
       "black_stat                   -0.273534      0.291512          -0.444413   \n",
       "pct_underclass                0.602339     -0.496996           0.488676   \n",
       "home_median_value            -0.376955      0.249929          -0.381626   \n",
       "\n",
       "                       property_tax  student_teacher_ratio  black_stat  \\\n",
       "rate_of_crime              0.582764               0.289946   -0.385064   \n",
       "residential_zone_pct      -0.314563              -0.391679    0.175520   \n",
       "business_zone_pct          0.720760               0.383248   -0.356977   \n",
       "borders_river             -0.035587              -0.121515    0.048788   \n",
       "oxide_concentration        0.668023               0.188933   -0.380051   \n",
       "average_rooms             -0.292048              -0.355501    0.128069   \n",
       "owner_occup_pct            0.506456               0.261515   -0.273534   \n",
       "dist_to_work              -0.534432              -0.232471    0.291512   \n",
       "access_to_highway          0.910228               0.464741   -0.444413   \n",
       "property_tax               1.000000               0.460853   -0.441808   \n",
       "student_teacher_ratio      0.460853               1.000000   -0.177383   \n",
       "black_stat                -0.441808              -0.177383    1.000000   \n",
       "pct_underclass             0.543993               0.374044   -0.366087   \n",
       "home_median_value         -0.468536              -0.507787    0.333461   \n",
       "\n",
       "                       pct_underclass  home_median_value  \n",
       "rate_of_crime                0.455621          -0.388305  \n",
       "residential_zone_pct        -0.412995           0.360445  \n",
       "business_zone_pct            0.603800          -0.483725  \n",
       "borders_river               -0.053929           0.175260  \n",
       "oxide_concentration          0.590879          -0.427321  \n",
       "average_rooms               -0.613808           0.695360  \n",
       "owner_occup_pct              0.602339          -0.376955  \n",
       "dist_to_work                -0.496996           0.249929  \n",
       "access_to_highway            0.488676          -0.381626  \n",
       "property_tax                 0.543993          -0.468536  \n",
       "student_teacher_ratio        0.374044          -0.507787  \n",
       "black_stat                  -0.366087           0.333461  \n",
       "pct_underclass               1.000000          -0.737663  \n",
       "home_median_value           -0.737663           1.000000  "
      ]
     },
     "execution_count": 122,
     "metadata": {},
     "output_type": "execute_result"
    }
   ],
   "source": [
    "boston.corr()\n",
    "\n",
    "# spearman correlation"
   ]
  },
  {
   "cell_type": "markdown",
   "metadata": {},
   "source": [
    "---\n",
    "\n",
    "## 7. Scatterplots\n",
    "\n",
    "Choose two variables that appear very related and two variables that appear to be unrelated.\n",
    "\n",
    "Use seaborns `regplot` to plot a scatter plot between the pairs of variables. `regplot` will also plot a regression line by default – we will go into regressions next week. They are, as you might expect, very related to correlations. You can turn this off with `fit_reg=False` if you want."
   ]
  },
  {
   "cell_type": "code",
   "execution_count": null,
   "metadata": {
    "collapsed": true
   },
   "outputs": [],
   "source": []
  },
  {
   "cell_type": "code",
   "execution_count": null,
   "metadata": {
    "collapsed": false
   },
   "outputs": [],
   "source": []
  },
  {
   "cell_type": "code",
   "execution_count": null,
   "metadata": {
    "collapsed": true
   },
   "outputs": [],
   "source": []
  }
 ],
 "metadata": {
  "anaconda-cloud": {},
  "kernelspec": {
   "display_name": "Python [dsi]",
   "language": "python",
   "name": "Python [dsi]"
  },
  "language_info": {
   "codemirror_mode": {
    "name": "ipython",
    "version": 2
   },
   "file_extension": ".py",
   "mimetype": "text/x-python",
   "name": "python",
   "nbconvert_exporter": "python",
   "pygments_lexer": "ipython2",
   "version": "2.7.12"
  }
 },
 "nbformat": 4,
 "nbformat_minor": 0
}
