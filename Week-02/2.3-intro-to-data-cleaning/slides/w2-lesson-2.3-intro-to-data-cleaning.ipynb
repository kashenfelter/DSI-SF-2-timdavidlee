{
 "cells": [
  {
   "cell_type": "markdown",
   "metadata": {
    "nbpresent": {
     "id": "5784d54d-e600-414c-b6ef-bf5c0ac28b18"
    },
    "slideshow": {
     "slide_type": "slide"
    }
   },
   "source": [
    "<img src=\"https://ga-dash.s3.amazonaws.com/production/assets/logo-9f88ae6c9c3871690e33280fcf557f33.png\" style=\"float: left; margin: 15px;\">\n",
    "\n",
    "# Intro to Data Cleaning\n",
    "\n",
    "Week 2 | Lesson 2.3\n",
    "\n",
    "<img src=\"https://snag.gy/ywU34V.jpg\" width=\"250\">"
   ]
  },
  {
   "cell_type": "markdown",
   "metadata": {
    "nbpresent": {
     "id": "02781438-d8f5-4f79-a352-1a1621aec0b8"
    },
    "slideshow": {
     "slide_type": "slide"
    }
   },
   "source": [
    "### LEARNING OBJECTIVES\n",
    "*After this lesson, you will be able to:*\n",
    "- Inspect data types\n",
    "- Clean up a column using df.apply()\n",
    "- Know what situations to use .value_counts() in your code"
   ]
  },
  {
   "cell_type": "markdown",
   "metadata": {
    "nbpresent": {
     "id": "a0f8b8e7-b00b-4e32-8356-01ba7f140cc8"
    },
    "slideshow": {
     "slide_type": "slide"
    }
   },
   "source": [
    "### LESSON GUIDE\n",
    "| TIMING  | TYPE  | TOPIC  |\n",
    "|:-:|---|---|\n",
    "| 5 min  | [Introduction](#introduction)   | Inpsect data types, df.apply(), .value_counts()  |\n",
    "| 20 min  | [Demo /Guided Practice](#demo)  | Inpsect data types |\n",
    "| 20 min  | [Demo /Guided Practice](#demo)  | df.apply() |\n",
    "| 20 min  | [Demo /Guided Practice](#demo)  | .value_counts() |\n",
    "| 20 min  | [Independent Practice](#ind-practice)  |   |\n",
    "| 5 min  | [Conclusion](#conclusion)  |   |"
   ]
  },
  {
   "cell_type": "markdown",
   "metadata": {
    "nbpresent": {
     "id": "bc0bcd03-2800-48ae-8b68-247901dbd31f"
    },
    "slideshow": {
     "slide_type": "slide"
    }
   },
   "source": [
    "<a name=\"introduction\"></a>\n",
    "## Introduction: Topic (5 mins)\n",
    "\n",
    "Since we're starting to get pretty comfortable with using pandas to do EDA, let's add a\n",
    "couple more tools to our toolbox. \n",
    "\n",
    "The main data types stored in pandas objects are **float, int, bool, datetime64, timedelta, \n",
    "category,** and **object****. \n",
    "\n",
    "df**.apply()** will apply a function along any axis of the DataFrame. We'll see it in action below. \n",
    "\n",
    "pandas.Series**.value_counts** returns _Series_ containing counts of unique values. The resulting \n",
    "Series will be in descending order so that the first element is the most frequently-occurring \n",
    "element. Excludes NA values.\n",
    "\n",
    "[Pandas: dtypes](http://pandas.pydata.org/pandas-docs/stable/pandas.pdf)\n",
    "\n",
    "[Pandas Series: value_counts](http://nullege.com/codes/search/pandas.Series.value_counts)\n"
   ]
  },
  {
   "cell_type": "markdown",
   "metadata": {
    "nbpresent": {
     "id": "3f739a95-6a6e-4fc3-816c-19b9ee4c5da9"
    },
    "slideshow": {
     "slide_type": "slide"
    }
   },
   "source": [
    "### Common Operations\n",
    "\n",
    "- **float**: precision specific math operations\n",
    "- **int**: mathatical operations using whole numbers\n",
    "- **bool**: control flow conditions\n",
    "- **datetime64**: resampling, slicing/selection, frequency back/front filling, on date range\n",
    "- **timedelta**: date comparisons\n",
    "- **category**: is like a set type, allowing to capture categorical day as a set, with ordinal\n",
    "- **object**: all types can be represented as an object but math, date operations are not possible.  Limited control flow possibilities unless you are comparing strings."
   ]
  },
  {
   "cell_type": "markdown",
   "metadata": {
    "nbpresent": {
     "id": "c42c2cff-37cb-49b4-a9b7-59dec7aacc59"
    },
    "slideshow": {
     "slide_type": "slide"
    }
   },
   "source": [
    "<a name=\"Inpsect data types \"></a>\n",
    "## Demo /Guided Practice: Inspect data types  (20 mins)\n",
    "\n",
    "Let's create a small dictionary with different data types in it. \n",
    "\n",
    "> [demo code](https://github.com/generalassembly-studio/dsi-course-materials/blob/W2-L2.3/curriculum/04-lessons/week-02/2.3-lesson/code/W2%20L2.3%20Intro%20to%20Data%20Cleaning%20demo%20code.ipynb)\n",
    "can be found in the code folder and contains all the code in this lesson in a Jupyter\n",
    "notebook. Follow along or create a new notebook.\n"
   ]
  },
  {
   "cell_type": "markdown",
   "metadata": {
    "nbpresent": {
     "id": "9aed7305-1e92-4257-9e77-78a4f56c3f3f"
    },
    "slideshow": {
     "slide_type": "slide"
    }
   },
   "source": [
    "### Import Pandas + Numpy"
   ]
  },
  {
   "cell_type": "code",
   "execution_count": 2,
   "metadata": {
    "collapsed": true,
    "nbpresent": {
     "id": "321a4c7c-1f11-4f82-8827-f30b959f825e"
    }
   },
   "outputs": [],
   "source": [
    "import pandas as pd\n",
    "import numpy as np"
   ]
  },
  {
   "cell_type": "markdown",
   "metadata": {
    "nbpresent": {
     "id": "08b27edf-33a8-460d-824f-bfa4e462aa7f"
    },
    "slideshow": {
     "slide_type": "slide"
    }
   },
   "source": [
    "### Create Test Data"
   ]
  },
  {
   "cell_type": "code",
   "execution_count": 3,
   "metadata": {
    "collapsed": false,
    "nbpresent": {
     "id": "1e4f2cf7-abba-49d4-9531-914e202cc181"
    }
   },
   "outputs": [],
   "source": [
    "test_data = dict( \n",
    "    A = np.random.rand(3),\n",
    "    B = 1,\n",
    "    C = 'foo',\n",
    "    D = pd.Timestamp('20010102'),\n",
    "    E = pd.Series([1.0]*3).astype('float32'),\n",
    "    F = False,\n",
    "    G = pd.Series([1]*3,dtype='int8')\n",
    ")"
   ]
  },
  {
   "cell_type": "code",
   "execution_count": 4,
   "metadata": {
    "collapsed": false,
    "nbpresent": {
     "id": "25f75d49-c97c-4657-98dc-0590f29d7dad"
    },
    "slideshow": {
     "slide_type": "slide"
    }
   },
   "outputs": [
    {
     "data": {
      "text/plain": [
       "{'A': array([ 0.72984486,  0.81514571,  0.54726853]),\n",
       " 'B': 1,\n",
       " 'C': 'foo',\n",
       " 'D': Timestamp('2001-01-02 00:00:00'),\n",
       " 'E': 0    1.0\n",
       " 1    1.0\n",
       " 2    1.0\n",
       " dtype: float32,\n",
       " 'F': False,\n",
       " 'G': 0    1\n",
       " 1    1\n",
       " 2    1\n",
       " dtype: int8}"
      ]
     },
     "execution_count": 4,
     "metadata": {},
     "output_type": "execute_result"
    }
   ],
   "source": [
    "test_data"
   ]
  },
  {
   "cell_type": "markdown",
   "metadata": {
    "nbpresent": {
     "id": "3cb5f3be-3537-4983-9edd-fadea806620d"
    },
    "slideshow": {
     "slide_type": "slide"
    }
   },
   "source": [
    "### Create our DataFrame"
   ]
  },
  {
   "cell_type": "code",
   "execution_count": 5,
   "metadata": {
    "collapsed": false,
    "nbpresent": {
     "id": "f1445ae8-73fc-48e8-9ff5-7c8242c329f4"
    }
   },
   "outputs": [
    {
     "data": {
      "text/html": [
       "<div>\n",
       "<table border=\"1\" class=\"dataframe\">\n",
       "  <thead>\n",
       "    <tr style=\"text-align: right;\">\n",
       "      <th></th>\n",
       "      <th>A</th>\n",
       "      <th>B</th>\n",
       "      <th>C</th>\n",
       "      <th>D</th>\n",
       "      <th>E</th>\n",
       "      <th>F</th>\n",
       "      <th>G</th>\n",
       "    </tr>\n",
       "  </thead>\n",
       "  <tbody>\n",
       "    <tr>\n",
       "      <th>0</th>\n",
       "      <td>0.729845</td>\n",
       "      <td>1</td>\n",
       "      <td>foo</td>\n",
       "      <td>2001-01-02</td>\n",
       "      <td>1.0</td>\n",
       "      <td>False</td>\n",
       "      <td>1</td>\n",
       "    </tr>\n",
       "    <tr>\n",
       "      <th>1</th>\n",
       "      <td>0.815146</td>\n",
       "      <td>1</td>\n",
       "      <td>foo</td>\n",
       "      <td>2001-01-02</td>\n",
       "      <td>1.0</td>\n",
       "      <td>False</td>\n",
       "      <td>1</td>\n",
       "    </tr>\n",
       "    <tr>\n",
       "      <th>2</th>\n",
       "      <td>0.547269</td>\n",
       "      <td>1</td>\n",
       "      <td>foo</td>\n",
       "      <td>2001-01-02</td>\n",
       "      <td>1.0</td>\n",
       "      <td>False</td>\n",
       "      <td>1</td>\n",
       "    </tr>\n",
       "  </tbody>\n",
       "</table>\n",
       "</div>"
      ],
      "text/plain": [
       "          A  B    C          D    E      F  G\n",
       "0  0.729845  1  foo 2001-01-02  1.0  False  1\n",
       "1  0.815146  1  foo 2001-01-02  1.0  False  1\n",
       "2  0.547269  1  foo 2001-01-02  1.0  False  1"
      ]
     },
     "execution_count": 5,
     "metadata": {},
     "output_type": "execute_result"
    }
   ],
   "source": [
    "dft = pd.DataFrame(test_data)\n",
    "dft"
   ]
  },
  {
   "cell_type": "code",
   "execution_count": 14,
   "metadata": {
    "collapsed": false,
    "nbpresent": {
     "id": "461a33cc-77ab-4b5d-8eee-2b93b5f69316"
    }
   },
   "outputs": [
    {
     "data": {
      "text/plain": [
       "A           float64\n",
       "B             int64\n",
       "C            object\n",
       "D    datetime64[ns]\n",
       "E           float32\n",
       "F              bool\n",
       "G              int8\n",
       "dtype: object"
      ]
     },
     "execution_count": 14,
     "metadata": {},
     "output_type": "execute_result"
    }
   ],
   "source": [
    "dft.dtypes"
   ]
  },
  {
   "cell_type": "markdown",
   "metadata": {
    "nbpresent": {
     "id": "efc96cae-9bed-444e-a165-e312ef8be896"
    },
    "slideshow": {
     "slide_type": "slide"
    }
   },
   "source": [
    "**What might we expect dtypes in the case of mixed type values in a single dimension?**\n",
    "\n",
    "ie:  [2, 3, 4, 5, 6, 7, 8.9]"
   ]
  },
  {
   "cell_type": "markdown",
   "metadata": {
    "nbpresent": {
     "id": "94eb2de0-31c0-4bc5-887f-49d3fc26b545"
    },
    "slideshow": {
     "slide_type": "fragment"
    }
   },
   "source": [
    "If a pandas object contains data multiple dtypes IN A SINGLE COLUMN, the dtype of the column will be chosen to accommodate all of the data types (object is the most general)."
   ]
  },
  {
   "cell_type": "markdown",
   "metadata": {
    "nbpresent": {
     "id": "42bdbce6-4bce-48ad-91d2-17a8a580a217"
    },
    "slideshow": {
     "slide_type": "slide"
    }
   },
   "source": [
    "### Ints are cast to floats"
   ]
  },
  {
   "cell_type": "code",
   "execution_count": 18,
   "metadata": {
    "collapsed": false,
    "nbpresent": {
     "id": "510a8e74-c281-4881-8491-242b353dc539"
    }
   },
   "outputs": [
    {
     "data": {
      "text/plain": [
       "0    1.0\n",
       "1    2.0\n",
       "2    3.0\n",
       "3    4.0\n",
       "4    5.0\n",
       "5    6.0\n",
       "dtype: float64"
      ]
     },
     "execution_count": 18,
     "metadata": {},
     "output_type": "execute_result"
    }
   ],
   "source": [
    "pd.Series([1, 2, 3, 4, 5, 6.])"
   ]
  },
  {
   "cell_type": "markdown",
   "metadata": {
    "nbpresent": {
     "id": "2c8ce9d3-120a-4e79-b809-491fa7fc2909"
    },
    "slideshow": {
     "slide_type": "slide"
    }
   },
   "source": [
    "### String elements are cast to ``object`` dtype"
   ]
  },
  {
   "cell_type": "code",
   "execution_count": 56,
   "metadata": {
    "collapsed": false,
    "nbpresent": {
     "id": "b2c71ce0-692e-4d2b-8f3f-778ef6d81082"
    },
    "scrolled": true
   },
   "outputs": [
    {
     "data": {
      "text/plain": [
       "0      1\n",
       "1      2\n",
       "2      3\n",
       "3    foo\n",
       "dtype: object"
      ]
     },
     "execution_count": 56,
     "metadata": {},
     "output_type": "execute_result"
    }
   ],
   "source": [
    "pd.Series([1, 2, 3, 'foo'])"
   ]
  },
  {
   "cell_type": "code",
   "execution_count": 63,
   "metadata": {
    "collapsed": false,
    "nbpresent": {
     "id": "07553dfa-dca4-4ee7-b503-9c0873e7d0ca"
    },
    "slideshow": {
     "slide_type": "slide"
    }
   },
   "outputs": [
    {
     "data": {
      "text/plain": [
       "bool              1\n",
       "datetime64[ns]    1\n",
       "float32           1\n",
       "float64           1\n",
       "int64             1\n",
       "int8              1\n",
       "object            1\n",
       "dtype: object"
      ]
     },
     "execution_count": 63,
     "metadata": {},
     "output_type": "execute_result"
    }
   ],
   "source": [
    "dft.get_dtype_counts().astype(list)"
   ]
  },
  {
   "cell_type": "markdown",
   "metadata": {
    "nbpresent": {
     "id": "527767e2-36e9-45bf-8e0d-43f5922e36db"
    },
    "slideshow": {
     "slide_type": "slide"
    }
   },
   "source": [
    "### With a partner, take 3 minutes to discus:\n",
    "\n",
    "*Without* running this code with a Python interpreter, what types would you expect the common `dtype` to be selected?\n",
    "\n",
    "    [1, 3, 9, .33, False, '03-20-1978', np.arange(22)]\n",
    "\n"
   ]
  },
  {
   "cell_type": "markdown",
   "metadata": {
    "nbpresent": {
     "id": "24bf8a93-7bba-48eb-81e5-d71760c3c9c5"
    },
    "slideshow": {
     "slide_type": "slide"
    }
   },
   "source": [
    "You can do a lot more with dtypes.  Check out \n",
    "[Pandas Documentation](http://pandas.pydata.org/pandas-docs/stable/pandas.pdf)."
   ]
  },
  {
   "cell_type": "markdown",
   "metadata": {
    "nbpresent": {
     "id": "927e091e-6bd1-499d-9a9a-cd3da9d0fe26"
    },
    "slideshow": {
     "slide_type": "slide"
    }
   },
   "source": [
    "## Why do you think it might be important to know what kind of dtypes you're working with? "
   ]
  },
  {
   "cell_type": "markdown",
   "metadata": {
    "nbpresent": {
     "id": "27e6bef8-f3a7-4639-a10e-7d4812f8c0e9"
    },
    "slideshow": {
     "slide_type": "slide"
    }
   },
   "source": [
    "<a name=\" df.apply()\"></a>\n",
    "## Demo /Guided Practice:  df.apply() (20 mins)\n",
    "\n",
    "Generally, df.apply(), will apply a singlular function to every cell of the dataframe you use it with.  \n",
    "\n",
    "Conversely: df.map(), is available when you only want to work with a single dimension of your dataset, ie:  df['a'].map(my_func)"
   ]
  },
  {
   "cell_type": "code",
   "execution_count": 28,
   "metadata": {
    "collapsed": false,
    "nbpresent": {
     "id": "986962c8-73ae-427f-895a-bf005c4b4dc1"
    },
    "slideshow": {
     "slide_type": "slide"
    }
   },
   "outputs": [
    {
     "data": {
      "text/html": [
       "<div>\n",
       "<table border=\"1\" class=\"dataframe\">\n",
       "  <thead>\n",
       "    <tr style=\"text-align: right;\">\n",
       "      <th></th>\n",
       "      <th>a</th>\n",
       "      <th>b</th>\n",
       "      <th>c</th>\n",
       "      <th>d</th>\n",
       "    </tr>\n",
       "  </thead>\n",
       "  <tbody>\n",
       "    <tr>\n",
       "      <th>0</th>\n",
       "      <td>-1.369438</td>\n",
       "      <td>0.080447</td>\n",
       "      <td>-1.224570</td>\n",
       "      <td>0.422078</td>\n",
       "    </tr>\n",
       "    <tr>\n",
       "      <th>1</th>\n",
       "      <td>-0.765415</td>\n",
       "      <td>0.407583</td>\n",
       "      <td>0.385544</td>\n",
       "      <td>0.834827</td>\n",
       "    </tr>\n",
       "    <tr>\n",
       "      <th>2</th>\n",
       "      <td>1.758356</td>\n",
       "      <td>0.449190</td>\n",
       "      <td>-1.435722</td>\n",
       "      <td>-0.234399</td>\n",
       "    </tr>\n",
       "    <tr>\n",
       "      <th>3</th>\n",
       "      <td>1.172705</td>\n",
       "      <td>-1.596128</td>\n",
       "      <td>-0.821374</td>\n",
       "      <td>0.892523</td>\n",
       "    </tr>\n",
       "    <tr>\n",
       "      <th>4</th>\n",
       "      <td>0.026303</td>\n",
       "      <td>-0.749009</td>\n",
       "      <td>-0.940387</td>\n",
       "      <td>0.117611</td>\n",
       "    </tr>\n",
       "  </tbody>\n",
       "</table>\n",
       "</div>"
      ],
      "text/plain": [
       "          a         b         c         d\n",
       "0 -1.369438  0.080447 -1.224570  0.422078\n",
       "1 -0.765415  0.407583  0.385544  0.834827\n",
       "2  1.758356  0.449190 -1.435722 -0.234399\n",
       "3  1.172705 -1.596128 -0.821374  0.892523\n",
       "4  0.026303 -0.749009 -0.940387  0.117611"
      ]
     },
     "execution_count": 28,
     "metadata": {},
     "output_type": "execute_result"
    }
   ],
   "source": [
    "# Create some more test data\n",
    "df = pd.DataFrame(np.random.randn(5, 4), columns=['a', 'b', 'c', 'd'])\n",
    "df"
   ]
  },
  {
   "cell_type": "markdown",
   "metadata": {
    "nbpresent": {
     "id": "725e5d94-40b5-45b1-aeb8-0f8431b3ee59"
    },
    "slideshow": {
     "slide_type": "slide"
    }
   },
   "source": [
    "### Some Examples"
   ]
  },
  {
   "cell_type": "code",
   "execution_count": 30,
   "metadata": {
    "collapsed": false,
    "nbpresent": {
     "id": "af4d650a-2e0e-44b9-ad15-5d9b73396368"
    }
   },
   "outputs": [
    {
     "data": {
      "text/html": [
       "<div>\n",
       "<table border=\"1\" class=\"dataframe\">\n",
       "  <thead>\n",
       "    <tr style=\"text-align: right;\">\n",
       "      <th></th>\n",
       "      <th>a</th>\n",
       "      <th>b</th>\n",
       "      <th>c</th>\n",
       "      <th>d</th>\n",
       "    </tr>\n",
       "  </thead>\n",
       "  <tbody>\n",
       "    <tr>\n",
       "      <th>0</th>\n",
       "      <td>NaN</td>\n",
       "      <td>0.283631</td>\n",
       "      <td>NaN</td>\n",
       "      <td>0.649675</td>\n",
       "    </tr>\n",
       "    <tr>\n",
       "      <th>1</th>\n",
       "      <td>NaN</td>\n",
       "      <td>0.638422</td>\n",
       "      <td>0.620922</td>\n",
       "      <td>0.913689</td>\n",
       "    </tr>\n",
       "    <tr>\n",
       "      <th>2</th>\n",
       "      <td>1.326030</td>\n",
       "      <td>0.670216</td>\n",
       "      <td>NaN</td>\n",
       "      <td>NaN</td>\n",
       "    </tr>\n",
       "    <tr>\n",
       "      <th>3</th>\n",
       "      <td>1.082915</td>\n",
       "      <td>NaN</td>\n",
       "      <td>NaN</td>\n",
       "      <td>0.944734</td>\n",
       "    </tr>\n",
       "    <tr>\n",
       "      <th>4</th>\n",
       "      <td>0.162181</td>\n",
       "      <td>NaN</td>\n",
       "      <td>NaN</td>\n",
       "      <td>0.342944</td>\n",
       "    </tr>\n",
       "  </tbody>\n",
       "</table>\n",
       "</div>"
      ],
      "text/plain": [
       "          a         b         c         d\n",
       "0       NaN  0.283631       NaN  0.649675\n",
       "1       NaN  0.638422  0.620922  0.913689\n",
       "2  1.326030  0.670216       NaN       NaN\n",
       "3  1.082915       NaN       NaN  0.944734\n",
       "4  0.162181       NaN       NaN  0.342944"
      ]
     },
     "execution_count": 30,
     "metadata": {},
     "output_type": "execute_result"
    }
   ],
   "source": [
    "# square root ALL CELLS (NaN == Not a Number)\n",
    "df.apply(np.sqrt)"
   ]
  },
  {
   "cell_type": "markdown",
   "metadata": {
    "nbpresent": {
     "id": "0d4cec93-c9d4-4a4c-b088-3803d95ea9ca"
    },
    "slideshow": {
     "slide_type": "notes"
    }
   },
   "source": [
    "_Note: Illustrate with whiteboard DataFrame, with blank axis labels._"
   ]
  },
  {
   "cell_type": "markdown",
   "metadata": {
    "nbpresent": {
     "id": "1cbabc02-3d34-4c83-9bae-14762111fb81"
    },
    "slideshow": {
     "slide_type": "slide"
    }
   },
   "source": [
    "### Apply method to only one axis, 0 (columns)\n",
    "ie:  `df['a'] == [-1.369438  , -0.76541512,  1.75835588,  1.17270527,  0.02630271]`"
   ]
  },
  {
   "cell_type": "code",
   "execution_count": 31,
   "metadata": {
    "collapsed": false,
    "nbpresent": {
     "id": "7a1d54d4-67bc-41f7-aa06-667cc828549c"
    },
    "slideshow": {
     "slide_type": "slide"
    }
   },
   "outputs": [
    {
     "data": {
      "text/plain": [
       "a    0.164502\n",
       "b   -0.281584\n",
       "c   -0.807302\n",
       "d    0.406528\n",
       "dtype: float64"
      ]
     },
     "execution_count": 31,
     "metadata": {},
     "output_type": "execute_result"
    }
   ],
   "source": [
    "df.apply(np.mean, axis=0)"
   ]
  },
  {
   "cell_type": "markdown",
   "metadata": {
    "nbpresent": {
     "id": "4b288736-62a7-469d-b4c4-ddf0c902553d"
    },
    "slideshow": {
     "slide_type": "slide"
    }
   },
   "source": [
    "### Apply method to only axis 1 (rows)\n",
    "This is what the data slice would look like if we were to select only rows.  Here is the slice of the first row that would be affected with axis #1 with .apply():\n",
    "\n",
    "`df.iloc[0].values == [-1.369438  ,  0.0804468 , -1.22457047,  0.42207757]`\n",
    "\n",
    "_We are calculating the mean of lists of \"rows\", not \"columns\"._"
   ]
  },
  {
   "cell_type": "code",
   "execution_count": 32,
   "metadata": {
    "collapsed": false,
    "nbpresent": {
     "id": "542fc474-8048-4b09-9407-3a7432d866f5"
    },
    "slideshow": {
     "slide_type": "fragment"
    }
   },
   "outputs": [
    {
     "data": {
      "text/plain": [
       "0   -0.522871\n",
       "1    0.215635\n",
       "2    0.134356\n",
       "3   -0.088068\n",
       "4   -0.386371\n",
       "dtype: float64"
      ]
     },
     "execution_count": 32,
     "metadata": {},
     "output_type": "execute_result"
    }
   ],
   "source": [
    "df.apply(np.mean, axis=1)"
   ]
  },
  {
   "cell_type": "markdown",
   "metadata": {
    "nbpresent": {
     "id": "881d61c2-c37c-4a89-86a5-68c48ee02386"
    },
    "slideshow": {
     "slide_type": "slide"
    }
   },
   "source": [
    "### Further Reading\n",
    "\n",
    "For more advanced `.apply` usage, check out these links:\n",
    "\n",
    "[\"Why Not\"'s Gist Examples](https://gist.github.com/why-not/4582705)\n",
    "\n",
    "[Chris Albon's Map + Apply Examples](http://chrisalbon.com/python/pandas_apply_operations_to_dataframes.html)\n"
   ]
  },
  {
   "cell_type": "markdown",
   "metadata": {
    "nbpresent": {
     "id": "600acecb-a4b1-4546-8d44-464fb60fe063"
    },
    "slideshow": {
     "slide_type": "slide"
    }
   },
   "source": [
    "### **Check:** How would find the std of the columns and rows? "
   ]
  },
  {
   "cell_type": "markdown",
   "metadata": {
    "nbpresent": {
     "id": "af8d9b3d-1dd8-4da3-85a2-a8a5dd27fc2a"
    },
    "slideshow": {
     "slide_type": "slide"
    }
   },
   "source": [
    "<a name=\".value_counts()\"></a>\n",
    "## Demo /Guided Practice: .value_counts() (< 20 mins)\n",
    "\n",
    "Why is this important?  Basically, this tells us the count of unique values that exist.  It's helpful to identify anything unexpected.  Looking at value_counts(), per series, can give us a quick overview of values expressed in our data.\n",
    "\n",
    " - Strings inside of mostly numeric / continious data\n",
    " - Non-numeric values\n",
    " - General counts of values that we might expect to see\n",
    " - Most common / least common values"
   ]
  },
  {
   "cell_type": "markdown",
   "metadata": {
    "nbpresent": {
     "id": "6ff70406-02d6-4d1d-b88f-9279d7753aff"
    },
    "slideshow": {
     "slide_type": "slide"
    }
   },
   "source": [
    "Let's create some random data"
   ]
  },
  {
   "cell_type": "code",
   "execution_count": 10,
   "metadata": {
    "collapsed": false,
    "nbpresent": {
     "id": "4b1614db-c25d-4151-8756-42b463a519d9"
    }
   },
   "outputs": [
    {
     "data": {
      "text/plain": [
       "array([2, 6, 0, 3, 0, 6, 0, 1, 1, 0, 6, 5, 4, 6, 6, 6, 2, 5, 3, 3, 5, 4, 6,\n",
       "       6, 2, 6, 4, 1, 0, 3, 1, 6, 3, 0, 2, 3, 3, 4, 5, 5, 4, 2, 1, 2, 1, 1,\n",
       "       3, 3, 5, 1])"
      ]
     },
     "execution_count": 10,
     "metadata": {},
     "output_type": "execute_result"
    }
   ],
   "source": [
    "data = np.random.randint(0, 7, size = 50)\n",
    "data"
   ]
  },
  {
   "cell_type": "code",
   "execution_count": 8,
   "metadata": {
    "collapsed": false,
    "nbpresent": {
     "id": "1bc73c34-a50c-4c8e-9563-9639b2227fa3"
    }
   },
   "outputs": [
    {
     "data": {
      "text/plain": [
       "0    5\n",
       "1    3\n",
       "2    5\n",
       "3    4\n",
       "4    5\n",
       "dtype: int64"
      ]
     },
     "execution_count": 8,
     "metadata": {},
     "output_type": "execute_result"
    }
   ],
   "source": [
    "s = pd.Series(data)\n",
    "s.head()"
   ]
  },
  {
   "cell_type": "code",
   "execution_count": 30,
   "metadata": {
    "collapsed": false,
    "nbpresent": {
     "id": "00f51daa-f5b6-4bae-8406-ab6efb78b933"
    },
    "slideshow": {
     "slide_type": "slide"
    }
   },
   "outputs": [
    {
     "data": {
      "text/plain": [
       "5    14\n",
       "2    10\n",
       "4     9\n",
       "3     7\n",
       "0     4\n",
       "6     3\n",
       "1     3\n",
       "dtype: int64"
      ]
     },
     "execution_count": 30,
     "metadata": {},
     "output_type": "execute_result"
    }
   ],
   "source": [
    "# The counts of each number that occurs in our array is listed\n",
    "pd.value_counts(s)"
   ]
  },
  {
   "cell_type": "code",
   "execution_count": null,
   "metadata": {
    "collapsed": true
   },
   "outputs": [],
   "source": []
  },
  {
   "cell_type": "markdown",
   "metadata": {
    "nbpresent": {
     "id": "1b94c3c2-be3c-448d-9406-b98348a253c7"
    },
    "slideshow": {
     "slide_type": "slide"
    }
   },
   "source": [
    "<a name=\"ind-practice\"></a>\n",
    "## Independent Practice: Topic (20+ minutes)\n",
    "- Use the sales.csv data set, we've seen this a few times in previous lessons\n",
    "- Inspect the data types\n",
    "- You've found out that all your values in column 1 are off by 1. Use df.apply to add 1 to column 1 of the dataset\n",
    "- Use .value_counts to count the values of 1 column of the dataset\n",
    "\n",
    "**Bonus** \n",
    "- Add 3 to column 2\n",
    "- Use .value_counts for each column of the dataset\n",
    "\n",
    "**Bonus Bonus -- COMPLETELY OPTIONAL!!!**\n",
    "<img src=\"http://vignette3.wikia.nocookie.net/erbparodies/images/a/a3/Troll_Based_On.png/revision/latest?cb=20151109194505\" style=\"width: 100px;\">\n",
    "\n",
    "Ruining data should give you a better sense of how to clean it.  Don't feel like you need to attempt this as it's completely optional and it's meant to be _extranious_.  Real-life datasets will not be like this.  The solution isn't as important as the process and thinking behind your approach.  Another way you might want to try to do this, is map out how you would do this with pseudo code with a step-by-step plan, without actually coding anything.\n",
    "\n",
    "- Add an extra column to your dataframe that is a copy of an existing column with continious data\n",
    "    - Randomly change the value of continious data cells within it to the following:\n",
    "      - NaN\n",
    "      - A blank string\n",
    "      - A numeric string\n",
    "      - The same value\n",
    "    - Report value_counts post-\"random data troll\" processing. Does it seem random?\n",
    "    - Convert blank strings and NaN values to float(0)\n",
    "    - Convert numeric strings to floats with 2f precision\n",
    "    - Divide by 2 if cell value is prime, use remainder as value\n",
    "    - Post solution as Gist with comments to Slack"
   ]
  },
  {
   "cell_type": "code",
   "execution_count": 29,
   "metadata": {
    "collapsed": false
   },
   "outputs": [
    {
     "name": "stdout",
     "output_type": "stream",
     "text": [
      "<class 'pandas.core.frame.DataFrame'>\n",
      "RangeIndex: 200 entries, 0 to 199\n",
      "Data columns (total 4 columns):\n",
      "volume_sold      200 non-null float64\n",
      "2015_margin      200 non-null float64\n",
      "2015_q1_sales    200 non-null float64\n",
      "2016_q1_sales    200 non-null float64\n",
      "dtypes: float64(4)\n",
      "memory usage: 6.3 KB\n",
      "   volume_sold  2015_margin  2015_q1_sales  2016_q1_sales\n",
      "0    18.420760    93.802281      337166.53      337804.05\n",
      "1     4.776510    21.082425       22351.86       21736.63\n",
      "2    16.602401    93.612494      277764.46      306942.27\n",
      "3     4.296111    16.824704       16805.11        9307.75\n",
      "4     8.156023    35.011457       54411.42       58939.90\n",
      "   volume_sold  2015_margin  2015_q1_sales  2016_q1_sales\n",
      "0    19.420760    95.802281      337166.53      337804.05\n",
      "1     5.776510    23.082425       22351.86       21736.63\n",
      "2    17.602401    95.612494      277764.46      306942.27\n",
      "3     5.296111    18.824704       16805.11        9307.75\n",
      "4     9.156023    37.011457       54411.42       58939.90\n",
      "7.841363     1\n",
      "11.086030    1\n",
      "9.176668     1\n",
      "7.792889     1\n",
      "8.196779     1\n",
      "8.824354     1\n",
      "8.124444     1\n",
      "7.433606     1\n",
      "9.783937     1\n",
      "10.849660    1\n",
      "11.270185    1\n",
      "11.637769    1\n",
      "6.781266     1\n",
      "4.147741     1\n",
      "12.505838    1\n",
      "7.657733     1\n",
      "7.618174     1\n",
      "11.252870    1\n",
      "7.309813     1\n",
      "9.555078     1\n",
      "8.785867     1\n",
      "6.882779     1\n",
      "8.200364     1\n",
      "46.556096    1\n",
      "11.118018    1\n",
      "11.331430    1\n",
      "8.682494     1\n",
      "9.453647     1\n",
      "10.421713    1\n",
      "8.560549     1\n",
      "            ..\n",
      "16.697651    1\n",
      "9.124182     1\n",
      "12.826536    1\n",
      "10.347349    1\n",
      "11.260836    1\n",
      "8.611698     1\n",
      "12.129382    1\n",
      "8.930415     1\n",
      "8.343509     1\n",
      "52.800686    1\n",
      "5.904447     1\n",
      "8.695312     1\n",
      "9.092883     1\n",
      "7.447040     1\n",
      "13.581695    1\n",
      "6.965175     1\n",
      "4.725095     1\n",
      "8.211490     1\n",
      "8.790503     1\n",
      "9.500445     1\n",
      "5.296111     1\n",
      "6.324497     1\n",
      "9.753142     1\n",
      "9.686518     1\n",
      "12.019652    1\n",
      "7.686406     1\n",
      "13.076785    1\n",
      "15.439435    1\n",
      "5.557712     1\n",
      "8.437252     1\n",
      "Name: volume_sold, dtype: int64\n",
      "34.732539     1\n",
      "41.111647     1\n",
      "47.598653     1\n",
      "22.000646     1\n",
      "38.282033     1\n",
      "26.476655     1\n",
      "37.087835     1\n",
      "66.743906     1\n",
      "18.043269     1\n",
      "257.153235    1\n",
      "36.222954     1\n",
      "46.345418     1\n",
      "54.187977     1\n",
      "38.715759     1\n",
      "28.935335     1\n",
      "13.996118     1\n",
      "47.872212     1\n",
      "35.223011     1\n",
      "16.144793     1\n",
      "35.602314     1\n",
      "39.108555     1\n",
      "33.292393     1\n",
      "59.288624     1\n",
      "30.711580     1\n",
      "37.887044     1\n",
      "48.299260     1\n",
      "41.530065     1\n",
      "24.948176     1\n",
      "37.494941     1\n",
      "30.259220     1\n",
      "             ..\n",
      "37.270180     1\n",
      "39.407112     1\n",
      "51.162032     1\n",
      "237.730678    1\n",
      "46.706360     1\n",
      "74.464257     1\n",
      "46.534832     1\n",
      "60.940439     1\n",
      "45.808956     1\n",
      "33.877437     1\n",
      "23.811659     1\n",
      "39.156932     1\n",
      "25.823065     1\n",
      "78.518973     1\n",
      "34.623592     1\n",
      "42.974879     1\n",
      "38.408528     1\n",
      "42.009303     1\n",
      "37.222361     1\n",
      "27.766675     1\n",
      "44.031199     1\n",
      "45.444194     1\n",
      "41.752970     1\n",
      "22.051366     1\n",
      "107.035207    1\n",
      "48.217509     1\n",
      "20.706055     1\n",
      "48.700709     1\n",
      "35.995630     1\n",
      "36.760422     1\n",
      "Name: 2015_margin, dtype: int64\n",
      "192089.46    1\n",
      "156513.07    1\n",
      "163324.44    1\n",
      "25575.88     1\n",
      "21535.87     1\n",
      "280506.28    1\n",
      "145742.16    1\n",
      "68077.30     1\n",
      "88008.31     1\n",
      "39867.38     1\n",
      "32698.19     1\n",
      "102794.01    1\n",
      "133081.37    1\n",
      "381036.91    1\n",
      "5742.23      1\n",
      "147242.83    1\n",
      "208389.88    1\n",
      "306947.29    1\n",
      "130512.99    1\n",
      "72185.66     1\n",
      "157591.18    1\n",
      "55538.11     1\n",
      "7305.46      1\n",
      "327334.28    1\n",
      "110552.94    1\n",
      "361865.13    1\n",
      "176720.07    1\n",
      "8458.20      1\n",
      "407738.79    1\n",
      "146850.63    1\n",
      "            ..\n",
      "89736.70     1\n",
      "167606.75    1\n",
      "89053.08     1\n",
      "27043.54     1\n",
      "52054.10     1\n",
      "49163.01     1\n",
      "60986.22     1\n",
      "13141.20     1\n",
      "46509.65     1\n",
      "5577.61      1\n",
      "119287.76    1\n",
      "45340.33     1\n",
      "84998.58     1\n",
      "332692.67    1\n",
      "169131.81    1\n",
      "108362.38    1\n",
      "157981.20    1\n",
      "19089.74     1\n",
      "321983.24    1\n",
      "87115.74     1\n",
      "20335.03     1\n",
      "247716.78    1\n",
      "136167.32    1\n",
      "51427.05     1\n",
      "105046.24    1\n",
      "286763.37    1\n",
      "54655.98     1\n",
      "134589.33    1\n",
      "66097.53     1\n",
      "29637.75     1\n",
      "Name: 2015_q1_sales, dtype: int64\n",
      "91213.98     1\n",
      "234926.02    1\n",
      "8041.09      1\n",
      "78706.47     1\n",
      "166847.54    1\n",
      "6402.78      1\n",
      "58332.41     1\n",
      "343447.68    1\n",
      "50434.54     1\n",
      "256707.10    1\n",
      "128500.31    1\n",
      "156730.02    1\n",
      "37179.58     1\n",
      "7499.47      1\n",
      "137697.56    1\n",
      "218335.21    1\n",
      "25302.92     1\n",
      "30441.76     1\n",
      "40160.26     1\n",
      "4258.14      1\n",
      "94229.41     1\n",
      "37858.67     1\n",
      "171119.44    1\n",
      "31184.18     1\n",
      "160278.07    1\n",
      "58122.85     1\n",
      "115591.86    1\n",
      "20817.32     1\n",
      "302592.88    1\n",
      "61560.70     1\n",
      "            ..\n",
      "433832.28    1\n",
      "12707.72     1\n",
      "274752.60    1\n",
      "11367.40     1\n",
      "24206.67     1\n",
      "535381.86    1\n",
      "139676.38    1\n",
      "382790.84    1\n",
      "47217.40     1\n",
      "115993.15    1\n",
      "125731.51    1\n",
      "268226.70    1\n",
      "6367.76      1\n",
      "298889.32    1\n",
      "111207.97    1\n",
      "149791.31    1\n",
      "33324.36     1\n",
      "53182.55     1\n",
      "21834.49     1\n",
      "305851.47    1\n",
      "94158.15     1\n",
      "130377.49    1\n",
      "79554.12     1\n",
      "129489.89    1\n",
      "332979.03    1\n",
      "242057.36    1\n",
      "103958.63    1\n",
      "151934.45    1\n",
      "22130.31     1\n",
      "9307.75      1\n",
      "Name: 2016_q1_sales, dtype: int64\n"
     ]
    }
   ],
   "source": [
    "import pandas as pd\n",
    "import numpy as np\n",
    "sales_path = '/Users/tlee010/desktop/dsi-sf-2-timdavidlee/datasets/sales_data_simple/sales.csv'\n",
    "sales_data = pd.read_csv(sales_path)\n",
    "sales_data.info()\n",
    "print sales_data.head(5)\n",
    "def addone(in_data):\n",
    "    return in_data+1\n",
    "def addtwo(in_data):\n",
    "    return in_data+2\n",
    "sales_data_adj = sales_data.copy()\n",
    "sales_data_adj.iloc[:,0] = sales_data.iloc[:,0].map(addone)\n",
    "sales_data_adj.iloc[:,1] = sales_data.iloc[:,1].map(addtwo)\n",
    "print sales_data_adj.head(5)\n",
    "\n",
    "print sales_data_adj['volume_sold'].value_counts()\n",
    "print sales_data_adj['2015_margin'].value_counts()\n",
    "print sales_data_adj['2015_q1_sales'].value_counts()\n",
    "print sales_data_adj['2016_q1_sales'].value_counts()\n",
    "\n"
   ]
  },
  {
   "cell_type": "markdown",
   "metadata": {
    "nbpresent": {
     "id": "43134fa0-d29a-4085-bbda-0f7f870a35ca"
    },
    "slideshow": {
     "slide_type": "slide"
    }
   },
   "source": [
    "<a name=\"conclusion\"></a>\n",
    "## Conclusion (5 mins)\n",
    "So far we've used pandas to look at the head and tail of a data set. We've also taken a look at summary stats and different\n",
    "types of data types. We've selected and sliced data too. Today we added inspecting data types, df.apply, .value_counts to\n",
    "our pandas arsenal. Nice!"
   ]
  },
  {
   "cell_type": "code",
   "execution_count": null,
   "metadata": {
    "collapsed": true
   },
   "outputs": [],
   "source": []
  }
 ],
 "metadata": {
  "celltoolbar": "Slideshow",
  "kernelspec": {
   "display_name": "Python [dsi]",
   "language": "python",
   "name": "Python [dsi]"
  },
  "language_info": {
   "codemirror_mode": {
    "name": "ipython",
    "version": 2
   },
   "file_extension": ".py",
   "mimetype": "text/x-python",
   "name": "python",
   "nbconvert_exporter": "python",
   "pygments_lexer": "ipython2",
   "version": "2.7.12"
  }
 },
 "nbformat": 4,
 "nbformat_minor": 0
}
