{
 "cells": [
  {
   "cell_type": "markdown",
   "metadata": {},
   "source": [
    "# Week 1 review\n",
    "\n",
    "---\n",
    "\n",
    "### Topics (ranked by pain):\n",
    "\n"
   ]
  },
  {
   "cell_type": "markdown",
   "metadata": {},
   "source": [
    "---\n",
    "\n",
    "### Packages"
   ]
  },
  {
   "cell_type": "code",
   "execution_count": 9,
   "metadata": {
    "collapsed": true
   },
   "outputs": [],
   "source": [
    "import csv\n",
    "import numpy as np\n",
    "import pandas as pd\n",
    "from pprint import pprint"
   ]
  },
  {
   "cell_type": "markdown",
   "metadata": {},
   "source": [
    "## Car dataset"
   ]
  },
  {
   "cell_type": "code",
   "execution_count": 2,
   "metadata": {
    "collapsed": true
   },
   "outputs": [],
   "source": [
    "# my path - put your specific one in place of this"
   ]
  },
  {
   "cell_type": "code",
   "execution_count": 1,
   "metadata": {
    "collapsed": true
   },
   "outputs": [],
   "source": [
    "car_filename = '/Users/tlee010/desktop/DSI-SF-2-timdavidlee/datasets/used_cars/used_cars.csv'"
   ]
  },
  {
   "cell_type": "code",
   "execution_count": 2,
   "metadata": {
    "collapsed": false
   },
   "outputs": [
    {
     "name": "stdout",
     "output_type": "stream",
     "text": [
      "22\n"
     ]
    }
   ],
   "source": [
    "students = ['Denise','Alex','Alex K', 'Carlos', 'Vanessa','Ryan','Cecilia','Tim',\n",
    "           'Kat','Kyle','Divya','Amos','Caitlin','Lenny','Ovid','Chris',\n",
    "           'Nick','Paul','Daniel','Edward','Nivetha','Nicholle']\n",
    "\n",
    "print len(students)"
   ]
  },
  {
   "cell_type": "markdown",
   "metadata": {},
   "source": [
    "### The order of cold-calls:"
   ]
  },
  {
   "cell_type": "code",
   "execution_count": 5,
   "metadata": {
    "collapsed": false
   },
   "outputs": [],
   "source": [
    "victims = np.random.choice(students, size=len(students), replace=False)"
   ]
  },
  {
   "cell_type": "code",
   "execution_count": 11,
   "metadata": {
    "collapsed": false
   },
   "outputs": [
    {
     "name": "stdout",
     "output_type": "stream",
     "text": [
      "[['price', 'year', 'miles', 'doors', 'type'],\n",
      " ['22000', '2012', '13000', '2', 'car'],\n",
      " ['14000', '2010', '30000', '2', 'car'],\n",
      " ['13000', '2010', '73500', '4', 'car'],\n",
      " ['9500', '2009', '78000', '4', 'car'],\n",
      " ['9000', '2007', '47000', '4', 'car'],\n",
      " ['4000', '2006', '124000', '2', 'car'],\n",
      " ['3000', '2004', '177000', '4', 'car'],\n",
      " ['2000', '2004', '209000', '4', 'truck'],\n",
      " ['3000', '2003', '138000', '2', 'car'],\n",
      " ['1900', '2003', '160000', '4', 'car'],\n",
      " ['2500', '2003', '190000', '2', 'truck'],\n",
      " ['5000', '2001', '62000', '4', 'car'],\n",
      " ['1800', '1999', '163000', '2', 'truck'],\n",
      " ['1300', '1997', '138000', '4', 'car']]\n"
     ]
    }
   ],
   "source": [
    "with open (car_filename, 'r') as f:\n",
    "    reader = csv.reader(f)\n",
    "    rows = [row for row in reader]\n",
    "pprint(rows) "
   ]
  },
  {
   "cell_type": "code",
   "execution_count": 13,
   "metadata": {
    "collapsed": false
   },
   "outputs": [
    {
     "name": "stdout",
     "output_type": "stream",
     "text": [
      "{'doors': [], 'miles': [], 'price': [], 'type': [], 'year': []}\n"
     ]
    }
   ],
   "source": [
    "# long way:\n",
    "\n",
    "master_dict = {\n",
    "    'price':[]\n",
    "    ,'year':[]\n",
    "    ,'miles':[]\n",
    "    ,'doors':[]\n",
    "}\n",
    "\n",
    "# dynamic way\n",
    "for field in ['price','year','miles','doors']:\n",
    "    master_dict[field] = []\n",
    "\n",
    "#more dynamic way\n",
    "for field in rows[0]:\n",
    "    master_dict[field] = []\n",
    "\n",
    "pprint(master_dict)"
   ]
  },
  {
   "cell_type": "code",
   "execution_count": 57,
   "metadata": {
    "collapsed": false
   },
   "outputs": [
    {
     "name": "stdout",
     "output_type": "stream",
     "text": [
      "C\n",
      "B\n",
      "B\n",
      "C\n",
      "A\n",
      "B\n",
      "A\n",
      "A\n",
      "B\n",
      "C\n",
      "A\n",
      "C\n",
      "C\n",
      "A\n",
      "B\n"
     ]
    }
   ],
   "source": [
    "A = ['A','B','C']\n",
    "\n",
    "# permutation \n",
    "def rotate(instr):\n",
    "    newstr = [instr[-1]]\n",
    "    newstr.extend(instr[:-1])\n",
    "    return newstr\n",
    "\n",
    "def perm(A):\n",
    "    out = []\n",
    "    for i in xrange(len(A)):\n",
    "        \n",
    "        perm(A[1:])\n",
    "        print A[0]\n",
    "        A = rotate(A)\n",
    "        \n",
    "\n",
    "perm(A)"
   ]
  },
  {
   "cell_type": "code",
   "execution_count": null,
   "metadata": {
    "collapsed": true
   },
   "outputs": [],
   "source": []
  }
 ],
 "metadata": {
  "anaconda-cloud": {},
  "kernelspec": {
   "display_name": "Python [dsi]",
   "language": "python",
   "name": "Python [dsi]"
  },
  "language_info": {
   "codemirror_mode": {
    "name": "ipython",
    "version": 2
   },
   "file_extension": ".py",
   "mimetype": "text/x-python",
   "name": "python",
   "nbconvert_exporter": "python",
   "pygments_lexer": "ipython2",
   "version": "2.7.12"
  }
 },
 "nbformat": 4,
 "nbformat_minor": 0
}
