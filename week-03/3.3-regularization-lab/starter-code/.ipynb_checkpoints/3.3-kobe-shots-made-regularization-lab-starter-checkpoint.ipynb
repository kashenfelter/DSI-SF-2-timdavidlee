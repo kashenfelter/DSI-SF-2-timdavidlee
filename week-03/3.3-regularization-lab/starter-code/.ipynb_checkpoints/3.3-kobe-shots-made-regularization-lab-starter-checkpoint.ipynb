{
 "cells": [
  {
   "cell_type": "markdown",
   "metadata": {},
   "source": [
    "# Predicting shots made per game by Kobe Bryant\n",
    "\n",
    "In this lab you'll be using regularization techniques Ridge, Lasso, and Elastic Net to try and predict well how many shots Kobe Bryant made per game in his career.\n",
    "\n",
    "---\n",
    "\n",
    "### 1. Load packages and data"
   ]
  },
  {
   "cell_type": "code",
   "execution_count": 1,
   "metadata": {
    "collapsed": true
   },
   "outputs": [],
   "source": [
    "import numpy as np\n",
    "import pandas as pd\n",
    "import patsy\n",
    "\n",
    "from sklearn.linear_model import Ridge, Lasso, ElasticNet, LinearRegression, RidgeCV, LassoCV, ElasticNetCV\n",
    "from sklearn.cross_validation import cross_val_score\n",
    "\n",
    "import matplotlib\n",
    "import matplotlib.pyplot as plt\n",
    "import seaborn as sns\n",
    "plt.style.use('fivethirtyeight')\n",
    "\n",
    "%config InlineBackend.figure_format = 'retina'\n",
    "%matplotlib inline"
   ]
  },
  {
   "cell_type": "code",
   "execution_count": 2,
   "metadata": {
    "collapsed": true
   },
   "outputs": [],
   "source": [
    "kobe = pd.read_csv('/Users/tlee010/desktop/DSI-SF-2-timdavidlee/datasets/kobe_bryant/kobe_superwide_games.csv')"
   ]
  },
  {
   "cell_type": "markdown",
   "metadata": {},
   "source": [
    "---\n",
    "\n",
    "### 2. Examine the data\n",
    "\n",
    "- How many columns are there?\n",
    "- Infer what the observations (rows) and columns represent.\n",
    "- Why is this data that regularization might be particularly useful for?"
   ]
  },
  {
   "cell_type": "code",
   "execution_count": 11,
   "metadata": {
    "collapsed": false
   },
   "outputs": [
    {
     "data": {
      "text/html": [
       "<div>\n",
       "<table border=\"1\" class=\"dataframe\">\n",
       "  <thead>\n",
       "    <tr style=\"text-align: right;\">\n",
       "      <th></th>\n",
       "      <th>SHOTS_MADE</th>\n",
       "      <th>AWAY_GAME</th>\n",
       "      <th>SEASON_OPPONENT:atl:1996-97</th>\n",
       "      <th>SEASON_OPPONENT:atl:1997-98</th>\n",
       "      <th>SEASON_OPPONENT:atl:1999-00</th>\n",
       "      <th>SEASON_OPPONENT:atl:2000-01</th>\n",
       "      <th>SEASON_OPPONENT:atl:2001-02</th>\n",
       "      <th>SEASON_OPPONENT:atl:2002-03</th>\n",
       "      <th>SEASON_OPPONENT:atl:2003-04</th>\n",
       "      <th>SEASON_OPPONENT:atl:2004-05</th>\n",
       "      <th>...</th>\n",
       "      <th>ACTION_TYPE:tip_layup_shot</th>\n",
       "      <th>ACTION_TYPE:tip_shot</th>\n",
       "      <th>ACTION_TYPE:turnaround_bank_shot</th>\n",
       "      <th>ACTION_TYPE:turnaround_fadeaway_bank_jump_shot</th>\n",
       "      <th>ACTION_TYPE:turnaround_fadeaway_shot</th>\n",
       "      <th>ACTION_TYPE:turnaround_finger_roll_shot</th>\n",
       "      <th>ACTION_TYPE:turnaround_hook_shot</th>\n",
       "      <th>ACTION_TYPE:turnaround_jump_shot</th>\n",
       "      <th>SEASON_GAME_NUMBER</th>\n",
       "      <th>CAREER_GAME_NUMBER</th>\n",
       "    </tr>\n",
       "  </thead>\n",
       "  <tbody>\n",
       "    <tr>\n",
       "      <th>0</th>\n",
       "      <td>0.0</td>\n",
       "      <td>0</td>\n",
       "      <td>0.0</td>\n",
       "      <td>0.0</td>\n",
       "      <td>0.0</td>\n",
       "      <td>0.0</td>\n",
       "      <td>0.0</td>\n",
       "      <td>0.0</td>\n",
       "      <td>0.0</td>\n",
       "      <td>0.0</td>\n",
       "      <td>...</td>\n",
       "      <td>0.0</td>\n",
       "      <td>0.0</td>\n",
       "      <td>0.0</td>\n",
       "      <td>0.0</td>\n",
       "      <td>0.0</td>\n",
       "      <td>0.0</td>\n",
       "      <td>0.0</td>\n",
       "      <td>0.0</td>\n",
       "      <td>1</td>\n",
       "      <td>1</td>\n",
       "    </tr>\n",
       "    <tr>\n",
       "      <th>1</th>\n",
       "      <td>0.0</td>\n",
       "      <td>1</td>\n",
       "      <td>0.0</td>\n",
       "      <td>0.0</td>\n",
       "      <td>0.0</td>\n",
       "      <td>0.0</td>\n",
       "      <td>0.0</td>\n",
       "      <td>0.0</td>\n",
       "      <td>0.0</td>\n",
       "      <td>0.0</td>\n",
       "      <td>...</td>\n",
       "      <td>0.0</td>\n",
       "      <td>0.0</td>\n",
       "      <td>0.0</td>\n",
       "      <td>0.0</td>\n",
       "      <td>0.0</td>\n",
       "      <td>0.0</td>\n",
       "      <td>0.0</td>\n",
       "      <td>0.0</td>\n",
       "      <td>2</td>\n",
       "      <td>2</td>\n",
       "    </tr>\n",
       "  </tbody>\n",
       "</table>\n",
       "<p>2 rows × 645 columns</p>\n",
       "</div>"
      ],
      "text/plain": [
       "   SHOTS_MADE  AWAY_GAME  SEASON_OPPONENT:atl:1996-97  \\\n",
       "0         0.0          0                          0.0   \n",
       "1         0.0          1                          0.0   \n",
       "\n",
       "   SEASON_OPPONENT:atl:1997-98  SEASON_OPPONENT:atl:1999-00  \\\n",
       "0                          0.0                          0.0   \n",
       "1                          0.0                          0.0   \n",
       "\n",
       "   SEASON_OPPONENT:atl:2000-01  SEASON_OPPONENT:atl:2001-02  \\\n",
       "0                          0.0                          0.0   \n",
       "1                          0.0                          0.0   \n",
       "\n",
       "   SEASON_OPPONENT:atl:2002-03  SEASON_OPPONENT:atl:2003-04  \\\n",
       "0                          0.0                          0.0   \n",
       "1                          0.0                          0.0   \n",
       "\n",
       "   SEASON_OPPONENT:atl:2004-05         ...          \\\n",
       "0                          0.0         ...           \n",
       "1                          0.0         ...           \n",
       "\n",
       "   ACTION_TYPE:tip_layup_shot  ACTION_TYPE:tip_shot  \\\n",
       "0                         0.0                   0.0   \n",
       "1                         0.0                   0.0   \n",
       "\n",
       "   ACTION_TYPE:turnaround_bank_shot  \\\n",
       "0                               0.0   \n",
       "1                               0.0   \n",
       "\n",
       "   ACTION_TYPE:turnaround_fadeaway_bank_jump_shot  \\\n",
       "0                                             0.0   \n",
       "1                                             0.0   \n",
       "\n",
       "   ACTION_TYPE:turnaround_fadeaway_shot  \\\n",
       "0                                   0.0   \n",
       "1                                   0.0   \n",
       "\n",
       "   ACTION_TYPE:turnaround_finger_roll_shot  ACTION_TYPE:turnaround_hook_shot  \\\n",
       "0                                      0.0                               0.0   \n",
       "1                                      0.0                               0.0   \n",
       "\n",
       "   ACTION_TYPE:turnaround_jump_shot  SEASON_GAME_NUMBER  CAREER_GAME_NUMBER  \n",
       "0                               0.0                   1                   1  \n",
       "1                               0.0                   2                   2  \n",
       "\n",
       "[2 rows x 645 columns]"
      ]
     },
     "execution_count": 11,
     "metadata": {},
     "output_type": "execute_result"
    }
   ],
   "source": [
    "len(kobe.columns)\n",
    "# 645 columns\n",
    "all_columns = kobe.columns\n",
    "kobe.head(2)"
   ]
  },
  {
   "cell_type": "markdown",
   "metadata": {},
   "source": [
    "---\n",
    "\n",
    "### Make predictor and target variables. Normalize the predictors.\n",
    "\n",
    "Why is normalization necessary for regularized regressions?\n",
    "\n",
    "There is a class in sklearn.preprocessing called `StandardScaler`. Look it up and figure out how to use it to normalize your predictor matrix. "
   ]
  },
  {
   "cell_type": "code",
   "execution_count": 37,
   "metadata": {
    "collapsed": false
   },
   "outputs": [
    {
     "data": {
      "text/html": [
       "<div>\n",
       "<table border=\"1\" class=\"dataframe\">\n",
       "  <thead>\n",
       "    <tr style=\"text-align: right;\">\n",
       "      <th></th>\n",
       "      <th>AWAY_GAME</th>\n",
       "      <th>SEASON_OPPONENT:atl:1996-97</th>\n",
       "      <th>SEASON_OPPONENT:atl:1997-98</th>\n",
       "      <th>SEASON_OPPONENT:atl:1999-00</th>\n",
       "      <th>SEASON_OPPONENT:atl:2000-01</th>\n",
       "      <th>SEASON_OPPONENT:atl:2001-02</th>\n",
       "      <th>SEASON_OPPONENT:atl:2002-03</th>\n",
       "      <th>SEASON_OPPONENT:atl:2003-04</th>\n",
       "      <th>SEASON_OPPONENT:atl:2004-05</th>\n",
       "      <th>SEASON_OPPONENT:atl:2005-06</th>\n",
       "      <th>...</th>\n",
       "      <th>ACTION_TYPE:step_back_jump_shot</th>\n",
       "      <th>ACTION_TYPE:tip_layup_shot</th>\n",
       "      <th>ACTION_TYPE:tip_shot</th>\n",
       "      <th>ACTION_TYPE:turnaround_bank_shot</th>\n",
       "      <th>ACTION_TYPE:turnaround_fadeaway_bank_jump_shot</th>\n",
       "      <th>ACTION_TYPE:turnaround_fadeaway_shot</th>\n",
       "      <th>ACTION_TYPE:turnaround_finger_roll_shot</th>\n",
       "      <th>ACTION_TYPE:turnaround_hook_shot</th>\n",
       "      <th>ACTION_TYPE:turnaround_jump_shot</th>\n",
       "      <th>SEASON_GAME_NUMBER</th>\n",
       "    </tr>\n",
       "  </thead>\n",
       "  <tbody>\n",
       "    <tr>\n",
       "      <th>0</th>\n",
       "      <td>-1.001285</td>\n",
       "      <td>-0.035852</td>\n",
       "      <td>-0.035852</td>\n",
       "      <td>-0.025343</td>\n",
       "      <td>-0.025343</td>\n",
       "      <td>-0.035852</td>\n",
       "      <td>-0.035852</td>\n",
       "      <td>-0.025343</td>\n",
       "      <td>-0.025343</td>\n",
       "      <td>-0.035852</td>\n",
       "      <td>...</td>\n",
       "      <td>-0.23895</td>\n",
       "      <td>-0.035852</td>\n",
       "      <td>-0.281806</td>\n",
       "      <td>-0.183922</td>\n",
       "      <td>-0.025343</td>\n",
       "      <td>-0.342591</td>\n",
       "      <td>-0.035746</td>\n",
       "      <td>-0.088428</td>\n",
       "      <td>-0.643218</td>\n",
       "      <td>-1.610867</td>\n",
       "    </tr>\n",
       "    <tr>\n",
       "      <th>1</th>\n",
       "      <td>0.998717</td>\n",
       "      <td>-0.035852</td>\n",
       "      <td>-0.035852</td>\n",
       "      <td>-0.025343</td>\n",
       "      <td>-0.025343</td>\n",
       "      <td>-0.035852</td>\n",
       "      <td>-0.035852</td>\n",
       "      <td>-0.025343</td>\n",
       "      <td>-0.025343</td>\n",
       "      <td>-0.035852</td>\n",
       "      <td>...</td>\n",
       "      <td>-0.23895</td>\n",
       "      <td>-0.035852</td>\n",
       "      <td>-0.281806</td>\n",
       "      <td>-0.183922</td>\n",
       "      <td>-0.025343</td>\n",
       "      <td>-0.342591</td>\n",
       "      <td>-0.035746</td>\n",
       "      <td>-0.088428</td>\n",
       "      <td>-0.643218</td>\n",
       "      <td>-1.572464</td>\n",
       "    </tr>\n",
       "    <tr>\n",
       "      <th>2</th>\n",
       "      <td>0.998717</td>\n",
       "      <td>-0.035852</td>\n",
       "      <td>-0.035852</td>\n",
       "      <td>-0.025343</td>\n",
       "      <td>-0.025343</td>\n",
       "      <td>-0.035852</td>\n",
       "      <td>-0.035852</td>\n",
       "      <td>-0.025343</td>\n",
       "      <td>-0.025343</td>\n",
       "      <td>-0.035852</td>\n",
       "      <td>...</td>\n",
       "      <td>-0.23895</td>\n",
       "      <td>-0.035852</td>\n",
       "      <td>-0.281806</td>\n",
       "      <td>-0.183922</td>\n",
       "      <td>-0.025343</td>\n",
       "      <td>-0.342591</td>\n",
       "      <td>-0.035746</td>\n",
       "      <td>-0.088428</td>\n",
       "      <td>-0.643218</td>\n",
       "      <td>-1.534062</td>\n",
       "    </tr>\n",
       "    <tr>\n",
       "      <th>3</th>\n",
       "      <td>0.998717</td>\n",
       "      <td>-0.035852</td>\n",
       "      <td>-0.035852</td>\n",
       "      <td>-0.025343</td>\n",
       "      <td>-0.025343</td>\n",
       "      <td>-0.035852</td>\n",
       "      <td>-0.035852</td>\n",
       "      <td>-0.025343</td>\n",
       "      <td>-0.025343</td>\n",
       "      <td>-0.035852</td>\n",
       "      <td>...</td>\n",
       "      <td>-0.23895</td>\n",
       "      <td>-0.035852</td>\n",
       "      <td>-0.281806</td>\n",
       "      <td>-0.183922</td>\n",
       "      <td>-0.025343</td>\n",
       "      <td>-0.342591</td>\n",
       "      <td>-0.035746</td>\n",
       "      <td>-0.088428</td>\n",
       "      <td>-0.643218</td>\n",
       "      <td>-1.495659</td>\n",
       "    </tr>\n",
       "    <tr>\n",
       "      <th>4</th>\n",
       "      <td>-1.001285</td>\n",
       "      <td>27.892651</td>\n",
       "      <td>-0.035852</td>\n",
       "      <td>-0.025343</td>\n",
       "      <td>-0.025343</td>\n",
       "      <td>-0.035852</td>\n",
       "      <td>-0.035852</td>\n",
       "      <td>-0.025343</td>\n",
       "      <td>-0.025343</td>\n",
       "      <td>-0.035852</td>\n",
       "      <td>...</td>\n",
       "      <td>-0.23895</td>\n",
       "      <td>-0.035852</td>\n",
       "      <td>-0.281806</td>\n",
       "      <td>-0.183922</td>\n",
       "      <td>-0.025343</td>\n",
       "      <td>-0.342591</td>\n",
       "      <td>-0.035746</td>\n",
       "      <td>-0.088428</td>\n",
       "      <td>-0.643218</td>\n",
       "      <td>-1.457256</td>\n",
       "    </tr>\n",
       "  </tbody>\n",
       "</table>\n",
       "<p>5 rows × 643 columns</p>\n",
       "</div>"
      ],
      "text/plain": [
       "   AWAY_GAME  SEASON_OPPONENT:atl:1996-97  SEASON_OPPONENT:atl:1997-98  \\\n",
       "0  -1.001285                    -0.035852                    -0.035852   \n",
       "1   0.998717                    -0.035852                    -0.035852   \n",
       "2   0.998717                    -0.035852                    -0.035852   \n",
       "3   0.998717                    -0.035852                    -0.035852   \n",
       "4  -1.001285                    27.892651                    -0.035852   \n",
       "\n",
       "   SEASON_OPPONENT:atl:1999-00  SEASON_OPPONENT:atl:2000-01  \\\n",
       "0                    -0.025343                    -0.025343   \n",
       "1                    -0.025343                    -0.025343   \n",
       "2                    -0.025343                    -0.025343   \n",
       "3                    -0.025343                    -0.025343   \n",
       "4                    -0.025343                    -0.025343   \n",
       "\n",
       "   SEASON_OPPONENT:atl:2001-02  SEASON_OPPONENT:atl:2002-03  \\\n",
       "0                    -0.035852                    -0.035852   \n",
       "1                    -0.035852                    -0.035852   \n",
       "2                    -0.035852                    -0.035852   \n",
       "3                    -0.035852                    -0.035852   \n",
       "4                    -0.035852                    -0.035852   \n",
       "\n",
       "   SEASON_OPPONENT:atl:2003-04  SEASON_OPPONENT:atl:2004-05  \\\n",
       "0                    -0.025343                    -0.025343   \n",
       "1                    -0.025343                    -0.025343   \n",
       "2                    -0.025343                    -0.025343   \n",
       "3                    -0.025343                    -0.025343   \n",
       "4                    -0.025343                    -0.025343   \n",
       "\n",
       "   SEASON_OPPONENT:atl:2005-06         ...          \\\n",
       "0                    -0.035852         ...           \n",
       "1                    -0.035852         ...           \n",
       "2                    -0.035852         ...           \n",
       "3                    -0.035852         ...           \n",
       "4                    -0.035852         ...           \n",
       "\n",
       "   ACTION_TYPE:step_back_jump_shot  ACTION_TYPE:tip_layup_shot  \\\n",
       "0                         -0.23895                   -0.035852   \n",
       "1                         -0.23895                   -0.035852   \n",
       "2                         -0.23895                   -0.035852   \n",
       "3                         -0.23895                   -0.035852   \n",
       "4                         -0.23895                   -0.035852   \n",
       "\n",
       "   ACTION_TYPE:tip_shot  ACTION_TYPE:turnaround_bank_shot  \\\n",
       "0             -0.281806                         -0.183922   \n",
       "1             -0.281806                         -0.183922   \n",
       "2             -0.281806                         -0.183922   \n",
       "3             -0.281806                         -0.183922   \n",
       "4             -0.281806                         -0.183922   \n",
       "\n",
       "   ACTION_TYPE:turnaround_fadeaway_bank_jump_shot  \\\n",
       "0                                       -0.025343   \n",
       "1                                       -0.025343   \n",
       "2                                       -0.025343   \n",
       "3                                       -0.025343   \n",
       "4                                       -0.025343   \n",
       "\n",
       "   ACTION_TYPE:turnaround_fadeaway_shot  \\\n",
       "0                             -0.342591   \n",
       "1                             -0.342591   \n",
       "2                             -0.342591   \n",
       "3                             -0.342591   \n",
       "4                             -0.342591   \n",
       "\n",
       "   ACTION_TYPE:turnaround_finger_roll_shot  ACTION_TYPE:turnaround_hook_shot  \\\n",
       "0                                -0.035746                         -0.088428   \n",
       "1                                -0.035746                         -0.088428   \n",
       "2                                -0.035746                         -0.088428   \n",
       "3                                -0.035746                         -0.088428   \n",
       "4                                -0.035746                         -0.088428   \n",
       "\n",
       "   ACTION_TYPE:turnaround_jump_shot  SEASON_GAME_NUMBER  \n",
       "0                         -0.643218           -1.610867  \n",
       "1                         -0.643218           -1.572464  \n",
       "2                         -0.643218           -1.534062  \n",
       "3                         -0.643218           -1.495659  \n",
       "4                         -0.643218           -1.457256  \n",
       "\n",
       "[5 rows x 643 columns]"
      ]
     },
     "execution_count": 37,
     "metadata": {},
     "output_type": "execute_result"
    }
   ],
   "source": [
    "from sklearn.preprocessing import StandardScaler\n",
    "import patsy\n",
    "\n",
    "\n",
    "\n",
    "y = kobe['SHOTS_MADE']\n",
    "X = kobe.iloc[:,range(1,len(all_columns)-1)]\n",
    "\n",
    "# scalar =StandardScalar()\n",
    "# columns = ['ship_value','ship_speed']\n",
    "# X[columns] = scalar.fit_transform(X[columns])\n",
    "\n",
    "\n",
    "\n",
    "scalar = StandardScaler()\n",
    "columns = X.columns\n",
    "X.loc[:,columns] = scalar.fit_transform(X[columns])\n"
   ]
  },
  {
   "cell_type": "code",
   "execution_count": 38,
   "metadata": {
    "collapsed": false
   },
   "outputs": [
    {
     "data": {
      "text/plain": [
       "pandas.core.frame.DataFrame"
      ]
     },
     "execution_count": 38,
     "metadata": {},
     "output_type": "execute_result"
    }
   ],
   "source": []
  },
  {
   "cell_type": "markdown",
   "metadata": {},
   "source": [
    "---\n",
    "\n",
    "### Build a linear regression predicting `SHOTS_MADE` from the rest of the columns.\n",
    "\n",
    "Cross-validate the $R^2$ of a linear regression model with 10 cross-validation folds.\n",
    "\n",
    "How does it perform?"
   ]
  },
  {
   "cell_type": "code",
   "execution_count": 47,
   "metadata": {
    "collapsed": false
   },
   "outputs": [
    {
     "name": "stdout",
     "output_type": "stream",
     "text": [
      "[ -8.22376340e+28  -7.93743755e+27  -1.04187826e+28  -8.65980687e+27\n",
      "  -2.16768907e+28  -1.63017938e+27  -3.58499758e+27  -5.35762870e+27\n",
      "  -2.28580652e+28  -2.06840823e+28]\n"
     ]
    }
   ],
   "source": [
    "from sklearn.linear_model import LinearRegression\n",
    "from sklearn.cross_validation import cross_val_predict as CVP, train_test_split as tts, cross_val_score as CVS\n",
    "\n",
    "lm = LinearRegression()\n",
    "\n",
    "scores = CVS(lm,X,y, cv = 10)\n",
    "print scores"
   ]
  },
  {
   "cell_type": "markdown",
   "metadata": {},
   "source": [
    "---\n",
    "\n",
    "### Find an optimal value for Ridge regression alpha using RidgeCV\n",
    "\n",
    "[Go to the documentation and read how RidgeCV works.](http://scikit-learn.org/stable/modules/generated/sklearn.linear_model.RidgeCV.html)\n",
    "\n",
    "Hint: once the RidgeCV is fit, the attribute `.alpha_` contains the best alpha parameter it found through cross-validation.\n",
    "\n",
    "Recall that Ridge performs best searching alphas through logarithmic space (`np.logspace`).\n"
   ]
  },
  {
   "cell_type": "code",
   "execution_count": 99,
   "metadata": {
    "collapsed": false
   },
   "outputs": [
    {
     "name": "stdout",
     "output_type": "stream",
     "text": [
      "0.771851775303 1000.0\n"
     ]
    }
   ],
   "source": [
    "from sklearn.linear_model import Ridge, RidgeCV\n",
    "#RidgeCV(alphas=(0.1, 1.0, 10.0), fit_intercept=True, normalize=False, scoring=None, cv=None, gcv_mode=None, store_cv_values=False)\n",
    "\n",
    "ridgelm = RidgeCV(alphas = np.logspace(-2,6,base=10,num=9), normalize=False,fit_intercept =True, cv = 10)\n",
    "ridgemodel = ridgelm.fit(X,y)\n",
    "y_hat_ridge = ridgemodel.predict(X)\n",
    "score = ridgemodel.score(X,y)\n",
    "print score, ridgemodel.alpha_"
   ]
  },
  {
   "cell_type": "code",
   "execution_count": 78,
   "metadata": {
    "collapsed": false
   },
   "outputs": [
    {
     "name": "stdout",
     "output_type": "stream",
     "text": [
      "[  1.00000000e-02   1.00000000e-01   1.00000000e+00   1.00000000e+01\n",
      "   1.00000000e+02   1.00000000e+03   1.00000000e+04   1.00000000e+05\n",
      "   1.00000000e+06]\n"
     ]
    }
   ],
   "source": [
    "print np.logspace(-2,6,base=10,num=9)"
   ]
  },
  {
   "cell_type": "markdown",
   "metadata": {},
   "source": [
    "---\n",
    "\n",
    "### Cross-validate the Ridge $R^2$ with the optimal alpha.\n",
    "\n",
    "Is it better than the Linear regression? If so, why would this be?"
   ]
  },
  {
   "cell_type": "code",
   "execution_count": 90,
   "metadata": {
    "collapsed": false
   },
   "outputs": [
    {
     "name": "stdout",
     "output_type": "stream",
     "text": [
      "5 0.547790731408\n",
      "7 0.526480733469\n",
      "10 0.504172612314\n"
     ]
    }
   ],
   "source": [
    "ridgelm_noncv = Ridge(alpha = 1000.0, fit_intercept = True, normalize=False)\n",
    "for i in ([5,7,10]):\n",
    "    scores = CVS(ridgelm_noncv,X,y, cv = i)\n",
    "    print i,  np.mean(scores) #, scores"
   ]
  },
  {
   "cell_type": "markdown",
   "metadata": {},
   "source": [
    "# ---\n",
    "\n",
    "### Find an optimal value for Lasso regression alpha using LassoCV\n",
    "\n",
    "[Go to the documentation and read how LassoCV works.](http://scikit-learn.org/stable/modules/generated/sklearn.linear_model.LassoCV.html) It is very similar to RidgeCV.\n",
    "\n",
    "Hint: again, once the LassoCV is fit, the attribute `.alpha_` contains the best alpha parameter it found through cross-validation.\n",
    "\n",
    "Recall that Lasso, unlike Ridge, performs best searching alphas through linear space (`np.linspace`). However, you can actually let the LassoCV decide itself what alphas to use by instead setting the keyword argument `n_alphas=` to however many alphas you want it to search over."
   ]
  },
  {
   "cell_type": "code",
   "execution_count": 100,
   "metadata": {
    "collapsed": false
   },
   "outputs": [
    {
     "name": "stdout",
     "output_type": "stream",
     "text": [
      "0.708477662692 0.0697141735762\n"
     ]
    }
   ],
   "source": [
    "from sklearn.linear_model import LassoCV\n",
    "#RidgeCV(alphas=(0.1, 1.0, 10.0), fit_intercept=True, normalize=False, scoring=None, cv=None, gcv_mode=None, store_cv_values=False)\n",
    "\n",
    "lassolm = LassoCV(n_alphas = 100, normalize=False,fit_intercept =True, cv = 10)\n",
    "lassomodel = lassolm.fit(X,y)\n",
    "y_hat_lasso = lassomodel.predict(X)\n",
    "score = lassomodel.score(X,y)\n",
    "print score, lassomodel.alpha_"
   ]
  },
  {
   "cell_type": "markdown",
   "metadata": {},
   "source": [
    "---\n",
    "\n",
    "### Cross-validate the Lasso $R^2$ with the optimal alpha.\n",
    "\n",
    "Is it better than the Linear regression? Is it better than Ridge? For each, why would this be?\n",
    "\n",
    "Depending on which $R^2$ is better between the Ridge and Lasso, what can you infer about the primary issue in the data?"
   ]
  },
  {
   "cell_type": "code",
   "execution_count": 91,
   "metadata": {
    "collapsed": false
   },
   "outputs": [
    {
     "name": "stdout",
     "output_type": "stream",
     "text": [
      "5 0.57225036307\n",
      "7 0.552225658595\n",
      "10 0.535413926012\n"
     ]
    }
   ],
   "source": [
    "lassolm_noncv = Lasso(alpha = 0.0697141735762, fit_intercept = True, normalize=False)\n",
    "for i in ([5,7,10]):\n",
    "    scores = CVS(lassolm_noncv,X,y, cv = i)\n",
    "    print i,  np.mean(scores) #, scores"
   ]
  },
  {
   "cell_type": "markdown",
   "metadata": {},
   "source": [
    "---\n",
    "\n",
    "### Look at the coefficients for variables in the Lasso.\n",
    "\n",
    "1. Show the coefficient for variables, ordered from largest to smallest coefficient by absolute value.\n",
    "2. What percent of the variables in the original dataset are \"zeroed-out\" by the lasso?\n",
    "3. What are the most important predictors for how many shots kobe made in a game?\n",
    "\n",
    "Note: if you only fit the Lasso within cross_val_score, you will have to refit it outside of that\n",
    "function to pull out the coefficients."
   ]
  },
  {
   "cell_type": "code",
   "execution_count": 77,
   "metadata": {
    "collapsed": false
   },
   "outputs": [
    {
     "name": "stdout",
     "output_type": "stream",
     "text": [
      "[[ -2.70241969e-01   1.00000000e+00]\n",
      " [ -1.28125324e-01   1.00000000e+00]\n",
      " [ -1.13634022e-01   1.00000000e+00]\n",
      " [ -9.56625074e-02   1.00000000e+00]\n",
      " [ -8.74131030e-02   1.00000000e+00]\n",
      " [ -7.34786069e-02   1.00000000e+00]\n",
      " [ -6.97076562e-02   1.00000000e+00]\n",
      " [ -6.69062776e-02   1.00000000e+00]\n",
      " [ -5.75246223e-02   1.00000000e+00]\n",
      " [ -5.04615815e-02   1.00000000e+00]\n",
      " [ -4.28842049e-02   1.00000000e+00]\n",
      " [ -4.06292728e-02   1.00000000e+00]\n",
      " [ -4.05604534e-02   1.00000000e+00]\n",
      " [ -3.88186779e-02   1.00000000e+00]\n",
      " [ -3.30220917e-02   1.00000000e+00]\n",
      " [ -3.06797597e-02   1.00000000e+00]\n",
      " [ -3.03726904e-02   1.00000000e+00]\n",
      " [ -2.90224370e-02   1.00000000e+00]\n",
      " [ -2.81502051e-02   1.00000000e+00]\n",
      " [ -2.75089937e-02   1.00000000e+00]\n",
      " [ -2.63170712e-02   1.00000000e+00]\n",
      " [ -2.61554835e-02   1.00000000e+00]\n",
      " [ -2.57264403e-02   1.00000000e+00]\n",
      " [ -2.55670295e-02   1.00000000e+00]\n",
      " [ -2.48098127e-02   1.00000000e+00]\n",
      " [ -2.37285902e-02   1.00000000e+00]\n",
      " [ -2.36237805e-02   1.00000000e+00]\n",
      " [ -2.24303638e-02   1.00000000e+00]\n",
      " [ -2.22396164e-02   1.00000000e+00]\n",
      " [ -2.07234530e-02   1.00000000e+00]\n",
      " [ -1.97643836e-02   1.00000000e+00]\n",
      " [ -1.83461692e-02   1.00000000e+00]\n",
      " [ -1.62606821e-02   1.00000000e+00]\n",
      " [ -1.58907068e-02   1.00000000e+00]\n",
      " [ -1.44796834e-02   1.00000000e+00]\n",
      " [ -1.43857344e-02   1.00000000e+00]\n",
      " [ -1.43040841e-02   1.00000000e+00]\n",
      " [ -1.35262594e-02   1.00000000e+00]\n",
      " [ -1.25458840e-02   1.00000000e+00]\n",
      " [ -1.24874125e-02   1.00000000e+00]\n",
      " [ -1.08921859e-02   1.00000000e+00]\n",
      " [ -9.12968631e-03   1.00000000e+00]\n",
      " [ -8.88691515e-03   1.00000000e+00]\n",
      " [ -7.66917067e-03   1.00000000e+00]\n",
      " [ -6.94199239e-03   1.00000000e+00]\n",
      " [ -6.90156414e-03   1.00000000e+00]\n",
      " [ -6.79196621e-03   1.00000000e+00]\n",
      " [ -6.68085209e-03   1.00000000e+00]\n",
      " [ -6.53455303e-03   1.00000000e+00]\n",
      " [ -5.35896777e-03   1.00000000e+00]\n",
      " [ -4.90403613e-03   1.00000000e+00]\n",
      " [ -4.37019738e-03   1.00000000e+00]\n",
      " [ -2.43259032e-03   1.00000000e+00]\n",
      " [ -1.95871515e-03   1.00000000e+00]\n",
      " [ -1.33249260e-04   1.00000000e+00]\n",
      " [ -0.00000000e+00   5.14000000e+02]\n",
      " [  1.72503721e-04   1.00000000e+00]\n",
      " [  6.01766639e-04   1.00000000e+00]\n",
      " [  1.04350174e-03   1.00000000e+00]\n",
      " [  1.40880678e-03   1.00000000e+00]\n",
      " [  3.00706732e-03   1.00000000e+00]\n",
      " [  3.04849143e-03   1.00000000e+00]\n",
      " [  3.08952767e-03   1.00000000e+00]\n",
      " [  3.22832357e-03   1.00000000e+00]\n",
      " [  4.23956597e-03   1.00000000e+00]\n",
      " [  4.38785653e-03   1.00000000e+00]\n",
      " [  4.67945142e-03   1.00000000e+00]\n",
      " [  4.68732827e-03   1.00000000e+00]\n",
      " [  5.46702216e-03   1.00000000e+00]\n",
      " [  5.86412666e-03   1.00000000e+00]\n",
      " [  6.06701203e-03   1.00000000e+00]\n",
      " [  9.55586609e-03   1.00000000e+00]\n",
      " [  9.93139735e-03   1.00000000e+00]\n",
      " [  1.04965351e-02   1.00000000e+00]\n",
      " [  1.10695166e-02   1.00000000e+00]\n",
      " [  1.11456217e-02   1.00000000e+00]\n",
      " [  1.20766065e-02   1.00000000e+00]\n",
      " [  1.28062426e-02   1.00000000e+00]\n",
      " [  1.40210829e-02   1.00000000e+00]\n",
      " [  1.42960293e-02   1.00000000e+00]\n",
      " [  1.48107600e-02   1.00000000e+00]\n",
      " [  1.73807223e-02   1.00000000e+00]\n",
      " [  1.93493475e-02   1.00000000e+00]\n",
      " [  1.95022322e-02   1.00000000e+00]\n",
      " [  2.05042805e-02   1.00000000e+00]\n",
      " [  2.10517083e-02   1.00000000e+00]\n",
      " [  2.34598948e-02   1.00000000e+00]\n",
      " [  2.41310465e-02   1.00000000e+00]\n",
      " [  2.47307559e-02   1.00000000e+00]\n",
      " [  2.52104405e-02   1.00000000e+00]\n",
      " [  2.56696363e-02   1.00000000e+00]\n",
      " [  2.58841963e-02   1.00000000e+00]\n",
      " [  2.59313850e-02   1.00000000e+00]\n",
      " [  2.68954795e-02   1.00000000e+00]\n",
      " [  2.74771492e-02   1.00000000e+00]\n",
      " [  2.81450028e-02   1.00000000e+00]\n",
      " [  2.91848117e-02   1.00000000e+00]\n",
      " [  3.06268496e-02   1.00000000e+00]\n",
      " [  3.35570567e-02   1.00000000e+00]\n",
      " [  3.41058066e-02   1.00000000e+00]\n",
      " [  3.41131612e-02   1.00000000e+00]\n",
      " [  3.41560886e-02   1.00000000e+00]\n",
      " [  3.63859565e-02   1.00000000e+00]\n",
      " [  3.85417711e-02   1.00000000e+00]\n",
      " [  4.06894919e-02   1.00000000e+00]\n",
      " [  4.56065406e-02   1.00000000e+00]\n",
      " [  4.74396069e-02   1.00000000e+00]\n",
      " [  4.85509576e-02   1.00000000e+00]\n",
      " [  5.10243276e-02   1.00000000e+00]\n",
      " [  5.17057391e-02   1.00000000e+00]\n",
      " [  5.18013418e-02   1.00000000e+00]\n",
      " [  5.38033260e-02   1.00000000e+00]\n",
      " [  6.08536856e-02   1.00000000e+00]\n",
      " [  6.38909876e-02   1.00000000e+00]\n",
      " [  6.64619806e-02   1.00000000e+00]\n",
      " [  6.96381002e-02   1.00000000e+00]\n",
      " [  7.60636252e-02   1.00000000e+00]\n",
      " [  9.33237018e-02   1.00000000e+00]\n",
      " [  9.77650696e-02   1.00000000e+00]\n",
      " [  1.03524032e-01   1.00000000e+00]\n",
      " [  1.09678206e-01   1.00000000e+00]\n",
      " [  1.15162365e-01   1.00000000e+00]\n",
      " [  1.18005623e-01   1.00000000e+00]\n",
      " [  1.24849754e-01   1.00000000e+00]\n",
      " [  1.33761071e-01   1.00000000e+00]\n",
      " [  1.42447682e-01   1.00000000e+00]\n",
      " [  2.74256232e-01   1.00000000e+00]\n",
      " [  4.49805135e-01   1.00000000e+00]\n",
      " [  8.75899881e-01   1.00000000e+00]\n",
      " [  1.22599642e+00   1.00000000e+00]]\n"
     ]
    }
   ],
   "source": [
    "lasso_coef = lassomodel.coef_\n",
    "lasso_coef\n",
    "\n",
    "unique, counts = np.unique(lasso_coef, return_counts=True)\n",
    "print np.asarray((unique, counts)).T\n",
    "\n",
    "#512 variables have been zerod out\n"
   ]
  },
  {
   "cell_type": "markdown",
   "metadata": {},
   "source": [
    "---\n",
    "\n",
    "### Find an optimal value for Elastic Net regression alpha using ElasticNetCV\n",
    "\n",
    "[Go to the documentation and read how LassoCV works.](http://scikit-learn.org/stable/modules/generated/sklearn.linear_model.ElasticNetCV.html).\n",
    "\n",
    "Note here that you will be optimizing both the alpha parameter and the l1_ratio:\n",
    "\n",
    "    alpha: strength of regularization\n",
    "    l1_ratio: amount of ridge vs. lasso (0 = all ridge, 1 = all lasso)\n",
    "    \n",
    "Do not include 0 in the search for l1_ratio: it will not allow it and break!\n",
    "\n",
    "You can use n_alphas for the alpha parameters instead of setting your own values: highly recommended!\n",
    "\n",
    "Also - be careful setting too many l1_ratios over cross-validation folds in your search. It can take a very long time if you choose too many combinations and for the most part there are diminishing returns in this data."
   ]
  },
  {
   "cell_type": "code",
   "execution_count": 101,
   "metadata": {
    "collapsed": false
   },
   "outputs": [
    {
     "name": "stdout",
     "output_type": "stream",
     "text": [
      "0.708019565542 0.0774601928624\n"
     ]
    }
   ],
   "source": [
    "from sklearn.linear_model import ElasticNet, ElasticNetCV\n",
    "#RidgeCV(alphas=(0.1, 1.0, 10.0), fit_intercept=True, normalize=False, scoring=None, cv=None, gcv_mode=None, store_cv_values=False)\n",
    "\n",
    "ENClm = ElasticNetCV(l1_ratio = [0.1,0.25,0.5,0.75,0.9], n_alphas=100,cv=10)\n",
    "ENCmodel = ENClm.fit(X,y)\n",
    "y_hat_ENC = ENCmodel.predict(X)\n",
    "score = ENCmodel.score(X,y)\n",
    "print score, ENCmodel.alpha_"
   ]
  },
  {
   "cell_type": "code",
   "execution_count": 94,
   "metadata": {
    "collapsed": false
   },
   "outputs": [
    {
     "name": "stdout",
     "output_type": "stream",
     "text": [
      "0.708019565542 0.0774601928624 [0.1, 0.25, 0.5, 0.75, 0.9] 0.9\n"
     ]
    }
   ],
   "source": [
    "print score, ENCmodel.alpha_, ENCmodel.l1_ratio, ENCmodel.l1_ratio_"
   ]
  },
  {
   "cell_type": "markdown",
   "metadata": {},
   "source": [
    "---\n",
    "\n",
    "### Cross-validate the ElasticNet $R^2$ with the optimal alpha and l1_ratio.\n",
    "\n",
    "How does it compare to the other regularized regressions?"
   ]
  },
  {
   "cell_type": "code",
   "execution_count": 96,
   "metadata": {
    "collapsed": false
   },
   "outputs": [
    {
     "name": "stdout",
     "output_type": "stream",
     "text": [
      "5 0.571948675808\n",
      "7 0.552294887601\n",
      "10 0.535588703371\n"
     ]
    }
   ],
   "source": [
    "ENClm_noncv = ElasticNet(l1_ratio = .9 , alpha =0.0774601928624)\n",
    "for i in ([5,7,10]):\n",
    "    scores = CVS(ENClm_noncv,X,y, cv = i)\n",
    "    print i,  np.mean(scores) #, scores\n",
    "\n",
    "# more of the lasso answer since l1 = 90%. The answers are very similar to Lasso's"
   ]
  },
  {
   "cell_type": "markdown",
   "metadata": {},
   "source": [
    "---\n",
    "\n",
    "### Plot the residuals for the ridge, lasso, and elastic net on histograms\n",
    "\n",
    "This is another way to look at the performance of your model.\n",
    "\n",
    "The tighter the distribution of residuals around zero, the better your model has performed!"
   ]
  },
  {
   "cell_type": "code",
   "execution_count": 110,
   "metadata": {
    "collapsed": false
   },
   "outputs": [
    {
     "data": {
      "text/plain": [
       "(array([  15.,   41.,  117.,  212.,  341.,  399.,  262.,  114.,   47.,   10.]),\n",
       " array([-5.77264839, -4.62866594, -3.48468349, -2.34070105, -1.1967186 ,\n",
       "        -0.05273615,  1.09124629,  2.23522874,  3.37921119,  4.52319363,\n",
       "         5.66717608]),\n",
       " <a list of 10 Patch objects>)"
      ]
     },
     "execution_count": 110,
     "metadata": {},
     "output_type": "execute_result"
    },
    {
     "data": {
      "image/png": "[encoded data removed]",
      "text/plain": [
       "<matplotlib.figure.Figure at 0x11de528d0>"
      ]
     },
     "metadata": {
      "image/png": {
       "height": 370,
       "width": 667
      }
     },
     "output_type": "display_data"
    }
   ],
   "source": [
    "import matplotlib.pyplot as plt\n",
    "fig, array = plt.subplots(1,3,figsize = (10,6))\n",
    "\n",
    "array[0].hist(y_hat_ridge - y,color=\"Red\", alpha = 0.6)\n",
    "array[1].hist(y_hat_lasso - y,color=\"Purple\", alpha = 0.6)\n",
    "array[2].hist(y_hat_ENC - y,color=\"Green\", alpha = 0.6)\n",
    "\n"
   ]
  },
  {
   "cell_type": "code",
   "execution_count": null,
   "metadata": {
    "collapsed": true
   },
   "outputs": [],
   "source": []
  }
 ],
 "metadata": {
  "anaconda-cloud": {},
  "kernelspec": {
   "display_name": "Python [dsi]",
   "language": "python",
   "name": "Python [dsi]"
  },
  "language_info": {
   "codemirror_mode": {
    "name": "ipython",
    "version": 2
   },
   "file_extension": ".py",
   "mimetype": "text/x-python",
   "name": "python",
   "nbconvert_exporter": "python",
   "pygments_lexer": "ipython2",
   "version": "2.7.12"
  }
 },
 "nbformat": 4,
 "nbformat_minor": 0
}
