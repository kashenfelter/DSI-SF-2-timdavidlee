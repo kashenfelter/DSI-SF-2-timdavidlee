{
 "cells": [
  {
   "cell_type": "markdown",
   "metadata": {},
   "source": [
    "# Coding linear regression by hand\n",
    "\n",
    "---\n",
    "\n",
    "Start by creating the \"simple linear regression\" which means the prediction of an target variable by one predictor variable.\n",
    "\n",
    "If $Y$ is our target variable and $X$ is our predictor variable, then the function defining the relationship between $X$ and $Y$ is:\n",
    "\n",
    "### $$y = \\beta_0 + \\beta_1*x_1 + \\epsilon_1$$\n",
    "\n",
    "Where $\\beta_0$, the first coefficient, is an offset commonly known as the intercept. Without the intercept term the regression line would always have to pass through the origin, which is almost never an optimal fit.\n",
    "\n",
    "$\\beta_1$ is the coefficient that multiplies the values of $X_1$ to estimate as close as possible the values of $Y$. Each value of $X_1$ is multiplied by the same coefficient as linear regression models a _linear_ relationship between our predictor and target variable. I've denoted $X$ as $X_1$ here to indicate it is the \"first\" variable we are modeling $Y$ with. In multiple regression there would be more than one $X$.\n",
    "\n",
    "$\\epsilon_1$ is the noise, or error. This is the difference between the predicted and true values that are unexplained by $X$ in the regression.\n",
    "\n",
    "---\n",
    "\n",
    "### Load real estate data\n",
    "\n",
    "For this lab you'll be using a very simple dataset on housing prices. Load it from wherever you've put in on your computer. My path is below.\n",
    "\n",
    "The variables are:\n",
    "\n",
    "    sqft: the size of the house in sq. ft\n",
    "    bdrms: number of bedrooms\n",
    "    age: age in years of house\n",
    "    price: the price of the house\n",
    "    \n",
    "I recommend converting price into units of 1000."
   ]
  },
  {
   "cell_type": "code",
   "execution_count": 3,
   "metadata": {
    "collapsed": true
   },
   "outputs": [],
   "source": [
    "import pandas as pd\n",
    "import numpy as np\n",
    "import matplotlib\n",
    "import matplotlib.pyplot as plt\n",
    "import seaborn as sns\n",
    "\n",
    "sns.set_style('darkgrid')\n",
    "%config InlineBackend.figure_format = 'retina'\n",
    "%matplotlib inline"
   ]
  },
  {
   "cell_type": "code",
   "execution_count": 4,
   "metadata": {
    "collapsed": false
   },
   "outputs": [],
   "source": [
    "house = '/Users/tlee010/desktop/DSI-SF-2-timdavidlee/datasets/housing_data/housing-data.csv'\n",
    "house = pd.read_csv(house)"
   ]
  },
  {
   "cell_type": "markdown",
   "metadata": {},
   "source": [
    "---\n",
    "\n",
    "### Target and predictor variables\n",
    "\n",
    "Define a target variable and predictor variable from the dataset. Often target and predictor are called dependent and independent variables in the context of linear regression. There are many different names for variables in models, but I generally stick to target and predictor."
   ]
  },
  {
   "cell_type": "code",
   "execution_count": 5,
   "metadata": {
    "collapsed": true
   },
   "outputs": [],
   "source": [
    "pred = 0\n",
    "targ = 0\n",
    "price = house.price.values/1000\n",
    "sqft = house.sqft.values"
   ]
  },
  {
   "cell_type": "markdown",
   "metadata": {},
   "source": [
    "---\n",
    "\n",
    "### Simple linear regression equation\n",
    "\n",
    "Our equation for the predicted values of our target variable is:\n",
    "\n",
    "### $$\\hat{y} = \\beta_0 + \\beta_1*x$$\n",
    "\n",
    "$\\hat{y}$ is the commonly used notation for the _predicted_ value of $y$.\n",
    "\n",
    "(The $\\epsilon$ error term is gone - it is an unknowable variable (if we knew what it was, we could perfectly model our target variable).\n",
    "\n",
    "Write a function that will calculate a predicted $y$ ($\\hat{y}$) from your $x$ variable and $\\beta$ coefficients. \n"
   ]
  },
  {
   "cell_type": "code",
   "execution_count": 6,
   "metadata": {
    "collapsed": true
   },
   "outputs": [],
   "source": [
    "def calculate_yhat( x, b0, b1):\n",
    "    return b0+b1*x"
   ]
  },
  {
   "cell_type": "markdown",
   "metadata": {},
   "source": [
    "---\n",
    "\n",
    "### Plot a regression line\n",
    "\n",
    "Set $\\beta_0$ to be 0 and $\\beta_1$ to be 1. This will create a regression line that passes through the origin (0,0) at a 45 degree angle.\n",
    "\n",
    "#### Plot your target variable points and your currently poorly predicted points and regression line. \n",
    "\n",
    "Use your function above to calculate the predicted points."
   ]
  },
  {
   "cell_type": "code",
   "execution_count": 7,
   "metadata": {
    "collapsed": false
   },
   "outputs": [
    {
     "data": {
      "image/png": "[encoded data removed]",
      "text/plain": [
       "<matplotlib.figure.Figure at 0x119ab2f50>"
      ]
     },
     "metadata": {
      "image/png": {
       "height": 314,
       "width": 451
      }
     },
     "output_type": "display_data"
    }
   ],
   "source": [
    "#plt.scatter(sqft, price)\n",
    "#plt.plot(sqft, calculate_yhat(sqft, b0,b1))\n",
    "#b0 = 0\n",
    "#b1 = 1\n",
    "\n",
    "def plot_regression(x, y, b0=0,b1=1):\n",
    "    fig = plt.figure(figsize = (7,5))\n",
    "    ax = fig.gca()\n",
    "    ax.scatter(x, y, color = 'steelblue', s=50)\n",
    "    ax.plot(x, calculate_yhat(x, b0,b1), color = 'darkred', linewidth = 1.5, alpha = 0.3)\n",
    "    ax.x_label = 'sqft'\n",
    "    ax.y_label = 'price'\n",
    "plot_regression(sqft,price,0,1)\n"
   ]
  },
  {
   "cell_type": "markdown",
   "metadata": {},
   "source": [
    "(You may not even be able to see the slope of the line if the magnitude of one of your variables is significantly greater than the other!)"
   ]
  },
  {
   "cell_type": "markdown",
   "metadata": {},
   "source": [
    "---\n",
    "\n",
    "### Residuals\n",
    "\n",
    "The definition of \"residuals\" in linear regression is:\n",
    "\n",
    "### $$ residual = y - \\hat{y}$$\n",
    "\n",
    "Where $y$ is the true value of our target at this observation, and $\\hat{y}$ is the predicted value of our target. Simple enough. \n",
    "\n",
    "#### Write a function to calculate residuals below.\n"
   ]
  },
  {
   "cell_type": "code",
   "execution_count": 8,
   "metadata": {
    "collapsed": true
   },
   "outputs": [],
   "source": [
    "def calc_residuals(y,yhat):\n",
    "    return y-yhat  "
   ]
  },
  {
   "cell_type": "markdown",
   "metadata": {},
   "source": [
    "---\n",
    "\n",
    "### Sum of squared errors and \"least squares\" estimation\n",
    "\n",
    "Residuals are also referred to as errors: the amount \"off\" you were in your predictions.\n",
    "\n",
    "Simple linear regression is an \"ordinary least squares\" method for solving linear relationships between variables. Here the [\"least squares\"](https://en.wikipedia.org/wiki/Least_squares) means that it _minimizes the sum of the squared residuals._\n",
    "\n",
    "Why the squared residuals instead of just the absolute value of the residuals? Well, both are used – absolute value of residuals is often used when there are large outliers or other abnormalities in variables. \n",
    "\n",
    "However, [under assumptions that are typically met](https://en.wikibooks.org/wiki/Econometric_Theory/Assumptions_of_Classical_Linear_Regression_Model) minimizing the sum of squared errors is equivalent to estimating the [maximum likelihood](https://en.wikipedia.org/wiki/Maximum_likelihood_estimation).\n",
    "\n",
    "#### Write a function to calculate the sum of squared errors/residuals."
   ]
  },
  {
   "cell_type": "code",
   "execution_count": 9,
   "metadata": {
    "collapsed": true
   },
   "outputs": [],
   "source": [
    "def sos(residuals):\n",
    "    return sum(residuals**2)"
   ]
  },
  {
   "cell_type": "markdown",
   "metadata": {},
   "source": [
    "#### Calculate the sum of squared errors from your initial regression line above where $\\beta_0$ equalled 0 and $\\beta_1$ equalled 1."
   ]
  },
  {
   "cell_type": "code",
   "execution_count": 10,
   "metadata": {
    "collapsed": false
   },
   "outputs": [
    {
     "name": "stdout",
     "output_type": "stream",
     "text": [
      "151603680\n",
      "151603680\n",
      "151603680\n"
     ]
    }
   ],
   "source": [
    "b0 = 0\n",
    "b1 = 1\n",
    "yhat = calculate_yhat(sqft, b0,b1)\n",
    "y = price\n",
    "print sos(calc_residuals(y,yhat))\n",
    "\n",
    "def sse(x,y, b0,b1):\n",
    "    yhat = calculate_yhat(x, b0,b1)\n",
    "    y = price\n",
    "    print sos(calc_residuals(y,yhat))\n",
    "    return sos(calc_residuals(y,yhat))\n",
    "\n",
    "print sse(sqft, price, 0,1)"
   ]
  },
  {
   "cell_type": "markdown",
   "metadata": {},
   "source": [
    "#### Plot again with a new $\\beta_0$ and $\\beta_1$ you think might be better, and calculate the SSE"
   ]
  },
  {
   "cell_type": "code",
   "execution_count": 11,
   "metadata": {
    "collapsed": false
   },
   "outputs": [
    {
     "name": "stdout",
     "output_type": "stream",
     "text": [
      "1789422.375\n"
     ]
    },
    {
     "data": {
      "image/png": "[encoded data removed]",
      "text/plain": [
       "<matplotlib.figure.Figure at 0x119ab2b10>"
      ]
     },
     "metadata": {
      "image/png": {
       "height": 314,
       "width": 439
      }
     },
     "output_type": "display_data"
    }
   ],
   "source": [
    "b0 = 0\n",
    "b1 = .25\n",
    "yhat = calculate_yhat(sqft, b0,b1)\n",
    "y = price\n",
    "print sos(calc_residuals(y,yhat))\n",
    "plot_regression(sqft, price, 0, .15)"
   ]
  },
  {
   "cell_type": "markdown",
   "metadata": {},
   "source": [
    "---\n",
    "\n",
    "### Minimizing the sum of squared errors\n",
    "\n",
    "Deriving the equation that minimizes the sum of squared errors in simple linear regression can be done using calculus. [See here](http://web.cocc.edu/srule/MTH244/other/LRJ.PDF) or [here](https://en.wikipedia.org/wiki/Simple_linear_regression) for descriptions of the derivation.\n",
    "\n",
    "Skipping the partial derivitaves, the formulas for the $\\beta_0$ and $\\beta_1$ that minimize the sum of squares are:\n",
    "\n",
    "### $$ \\beta_1 = \\frac{\\sum_{i=1}^n (y_i - \\bar{y} ) (x_i - \\bar{x} )}{\\sum_{i=1}^n (x_i - \\bar{x})^2} $$\n",
    "\n",
    "and\n",
    "\n",
    "### $$ \\beta_0 = \\bar{y} - \\beta_1\\bar{x} $$\n",
    "\n",
    "where $\\bar{x}$ and $\\bar{y}$ are the mean of $x$ and $y$, respectively.\n",
    "\n",
    "\n",
    "#### Write functions below to calculate $\\beta_0$ and $\\beta_1$"
   ]
  },
  {
   "cell_type": "code",
   "execution_count": 12,
   "metadata": {
    "collapsed": false
   },
   "outputs": [
    {
     "name": "stdout",
     "output_type": "stream",
     "text": [
      "70.5116035098 0.134591996714\n"
     ]
    }
   ],
   "source": [
    "def MSE(x,y):\n",
    "    y_residual = y - np.mean(y)\n",
    "    x_residual = x - np.mean(x)\n",
    "\n",
    "    b1 = sum(x_residual*y_residual) / sum(x_residual*x_residual)\n",
    "    b0 = np.mean(y) - b1*np.mean(x)\n",
    "    return b0, b1\n",
    "\n",
    "m0,m1 = MSE(sqft, price)\n",
    "print m0, m1"
   ]
  },
  {
   "cell_type": "markdown",
   "metadata": {},
   "source": [
    "$\\beta_1$ is in fact also equivalent to:\n",
    "\n",
    "### $$ \\beta_1 = \\frac{cov(x, y)}{var(x)} $$"
   ]
  },
  {
   "cell_type": "markdown",
   "metadata": {},
   "source": [
    "#### Calculate the optimal $\\beta_1$ and $\\beta_0$. Confirm the two equations for $\\beta_1$ are (essentially) the same."
   ]
  },
  {
   "cell_type": "code",
   "execution_count": 13,
   "metadata": {
    "collapsed": false
   },
   "outputs": [
    {
     "name": "stdout",
     "output_type": "stream",
     "text": [
      "618114.557718\n",
      "[[ 631551.8307123    85001.82192414]\n",
      " [  85001.82192414   15647.51896392]]\n",
      "0.137517909686\n"
     ]
    }
   ],
   "source": [
    "print np.var(sqft)\n",
    "print np.cov(sqft, price)\n",
    "\n",
    "print np.cov(sqft, price)[1,0]/np.var(sqft)"
   ]
  },
  {
   "cell_type": "code",
   "execution_count": null,
   "metadata": {
    "collapsed": false
   },
   "outputs": [],
   "source": []
  },
  {
   "cell_type": "markdown",
   "metadata": {},
   "source": [
    "#### Plot the regression with the optimal parameters and calculate the SSE."
   ]
  },
  {
   "cell_type": "code",
   "execution_count": 14,
   "metadata": {
    "collapsed": false
   },
   "outputs": [
    {
     "data": {
      "image/png": "[encoded data removed]",
      "text/plain": [
       "<matplotlib.figure.Figure at 0x11d3cbd90>"
      ]
     },
     "metadata": {
      "image/png": {
       "height": 314,
       "width": 439
      }
     },
     "output_type": "display_data"
    }
   ],
   "source": [
    "plot_regression(sqft, price, m0,m1)"
   ]
  },
  {
   "cell_type": "code",
   "execution_count": 15,
   "metadata": {
    "collapsed": false
   },
   "outputs": [
    {
     "name": "stdout",
     "output_type": "stream",
     "text": [
      "193519.885233\n",
      "193519.885233\n"
     ]
    }
   ],
   "source": [
    "print sse(sqft, price, m0,m1)"
   ]
  },
  {
   "cell_type": "code",
   "execution_count": 16,
   "metadata": {
    "collapsed": false
   },
   "outputs": [
    {
     "name": "stdout",
     "output_type": "stream",
     "text": [
      "6146188.0\n",
      "5793007.91515\n",
      "5450686.8006\n",
      "5119224.65635\n",
      "4798621.4824\n",
      "4488877.27875\n",
      "4189992.0454\n",
      "3901965.78235\n",
      "3624798.4896\n",
      "3358490.16715\n",
      "3103040.815\n",
      "2858450.43315\n",
      "2624719.0216\n",
      "2401846.58035\n",
      "2189833.1094\n",
      "1988678.60875\n",
      "1798383.0784\n",
      "1618946.51835\n",
      "1450368.9286\n",
      "1292650.30915\n",
      "1145790.66\n",
      "1009789.98115\n",
      "884648.2726\n",
      "770365.53435\n",
      "666941.7664\n",
      "574376.96875\n",
      "492671.1414\n",
      "421824.28435\n",
      "361836.3976\n",
      "312707.48115\n",
      "274437.535\n",
      "247026.55915\n",
      "230474.5536\n",
      "224781.51835\n",
      "229947.4534\n",
      "245972.35875\n",
      "272856.2344\n",
      "310599.08035\n",
      "359200.8966\n",
      "418661.68315\n",
      "488981.44\n",
      "570160.16715\n",
      "662197.8646\n",
      "765094.53235\n",
      "878850.1704\n",
      "1003464.77875\n",
      "1138938.3574\n",
      "1285270.90635\n",
      "1442462.4256\n",
      "1610512.91515\n",
      "1789422.375\n",
      "1979190.80515\n",
      "2179818.2056\n",
      "2391304.57635\n",
      "2613649.9174\n",
      "2846854.22875\n",
      "3090917.5104\n",
      "3345839.76235\n",
      "3611620.9846\n",
      "3888261.17715\n",
      "4175760.34\n",
      "4474118.47315\n",
      "4783335.5766\n",
      "5103411.65035\n",
      "5434346.6944\n",
      "5776140.70875\n",
      "6128793.6934\n",
      "6492305.64835\n",
      "6866676.5736\n",
      "7251906.46915\n",
      "7647995.335\n",
      "8054943.17115\n",
      "8472749.9776\n",
      "8901415.75435\n",
      "9340940.5014\n",
      "9791324.21875\n",
      "10252566.9064\n",
      "10724668.5643\n",
      "11207629.1926\n",
      "11701448.7912\n",
      "12206127.36\n",
      "12721664.8992\n",
      "13248061.4086\n",
      "13785316.8883\n",
      "14333431.3384\n",
      "14892404.7587\n",
      "15462237.1494\n",
      "16042928.5103\n",
      "16634478.8416\n",
      "17236888.1432\n",
      "17850156.415\n",
      "18474283.6572\n",
      "19109269.8696\n",
      "19755115.0523\n",
      "20411819.2054\n",
      "21079382.3287\n",
      "21757804.4224\n",
      "22447085.4863\n",
      "23147225.5206\n",
      "23858224.5252\n",
      "24580082.5\n",
      "25312799.4452\n",
      "26056375.3606\n",
      "26810810.2464\n",
      "27576104.1024\n",
      "28352256.9287\n",
      "29139268.7254\n",
      "29937139.4924\n",
      "30745869.2296\n",
      "31565457.9372\n",
      "32395905.615\n",
      "33237212.2632\n",
      "34089377.8816\n",
      "34952402.4703\n",
      "35826286.0294\n",
      "36711028.5587\n",
      "37606630.0584\n",
      "38513090.5283\n",
      "39430409.9686\n",
      "40358588.3792\n",
      "41297625.76\n",
      "42247522.1112\n",
      "43208277.4326\n",
      "44179891.7243\n",
      "45162364.9864\n",
      "46155697.2188\n",
      "47159888.4214\n",
      "48174938.5943\n",
      "49200847.7376\n",
      "50237615.8512\n",
      "51285242.935\n",
      "52343728.9892\n",
      "53413074.0136\n",
      "54493278.0083\n",
      "55584340.9734\n",
      "56686262.9088\n",
      "57799043.8144\n",
      "58922683.6904\n",
      "60057182.5366\n",
      "61202540.3531\n",
      "62358757.14\n",
      "63525832.8971\n",
      "64703767.6246\n",
      "65892561.3223\n",
      "67092213.9904\n",
      "68302725.6287\n",
      "69524096.2374\n",
      "70756325.8163\n",
      "71999414.3656\n",
      "73253361.8852\n",
      "74518168.375\n",
      "75793833.8351\n",
      "77080358.2656\n",
      "78377741.6663\n",
      "79685984.0374\n",
      "81005085.3788\n",
      "82335045.6904\n",
      "83675864.9724\n",
      "85027543.2246\n",
      "86390080.4472\n",
      "87763476.64\n",
      "89147731.8032\n",
      "90542845.9366\n",
      "91948819.0403\n",
      "93365651.1144\n",
      "94793342.1587\n",
      "96231892.1734\n",
      "97681301.1584\n",
      "99141569.1136\n",
      "100612696.039\n",
      "102094681.935\n",
      "103587526.801\n",
      "105091230.638\n",
      "106605793.444\n",
      "108131215.221\n",
      "109667495.969\n",
      "111214635.686\n",
      "112772634.374\n",
      "114341492.033\n",
      "115921208.661\n",
      "117511784.26\n",
      "119113218.829\n",
      "120725512.369\n",
      "122348664.878\n",
      "123982676.358\n",
      "125627546.809\n",
      "127283276.229\n",
      "128949864.62\n",
      "130627311.982\n",
      "132315618.313\n",
      "134014783.615\n",
      "135724807.887\n",
      "137445691.13\n",
      "139177433.342\n",
      "140920034.525\n",
      "142673494.679\n",
      "144437813.802\n",
      "146212991.896\n",
      "147999028.961\n",
      "149795924.995\n",
      "[6146188.0, 5793007.9151499998, 5450686.8005999988, 5119224.6563499989, 4798621.482400002, 4488877.2787499987, 4189992.0454000002, 3901965.7823500009, 3624798.489599999, 3358490.1671499987, 3103040.8150000009, 2858450.4331500004, 2624719.0216000001, 2401846.5803499995, 2189833.1093999995, 1988678.6087500001, 1798383.0784000002, 1618946.5183499998, 1450368.9285999998, 1292650.3091499999, 1145790.6599999997, 1009789.9811500002, 884648.27260000003, 770365.53434999997, 666941.76640000008, 574376.96875, 492671.14140000002, 421824.28434999997, 361836.39759999985, 312707.48115000001, 274437.53500000009, 247026.55914999999, 230474.55360000004, 224781.51835, 229947.45340000006, 245972.35874999996, 272856.23439999996, 310599.08034999995, 359200.89660000009, 418661.68315000017, 488981.44000000012, 570160.16714999964, 662197.86459999997, 765094.53234999999, 878850.17040000006, 1003464.7787500003, 1138938.3574000001, 1285270.9063500001, 1442462.4255999993, 1610512.9151500002, 1789422.375, 1979190.8051500004, 2179818.2056000005, 2391304.5763500016, 2613649.9174000011, 2846854.2287500002, 3090917.5104000005, 3345839.7623499976, 3611620.9845999978, 3888261.1771499999, 4175760.3399999999, 4474118.4731499981, 4783335.5766000003, 5103411.6503499998, 5434346.6944000004, 5776140.7087500021, 6128793.6934000002, 6492305.6483500041, 6866676.5736000016, 7251906.4691499965, 7647995.334999999, 8054943.1711499989, 8472749.9775999989, 8901415.7543499991, 9340940.5014000013, 9791324.21875, 10252566.906399999, 10724668.564349998, 11207629.192600004, 11701448.791150004, 12206127.359999999, 12721664.899150005, 13248061.408599999, 13785316.888349999, 14333431.338400001, 14892404.758749999, 15462237.149400001, 16042928.510349998, 16634478.841600001, 17236888.143150002, 17850156.415000007, 18474283.65715, 19109269.869600002, 19755115.05235, 20411819.205399998, 21079382.328749999, 21757804.422399994, 22447085.48635, 23147225.520599991, 23858224.525150001, 24580082.5, 25312799.445150003, 26056375.360600002, 26810810.246350002, 27576104.102399997, 28352256.92874999, 29139268.725400008, 29937139.492350008, 30745869.229600005, 31565457.937150013, 32395905.615000013, 33237212.26315001, 34089377.881600007, 34952402.470349997, 35826286.029399991, 36711028.558749996, 37606630.058399983, 38513090.528349973, 39430409.968599983, 40358588.379150011, 41297625.759999983, 42247522.111150004, 43208277.432600006, 44179891.72434999, 45162364.986400008, 46155697.21875, 47159888.421400003, 48174938.594349995, 49200847.737599999, 50237615.851150014, 51285242.935000002, 52343728.98915001, 53413074.013600014, 54493278.00835, 55584340.973400004, 56686262.90875002, 57799043.814400025, 58922683.690350004, 60057182.536599994, 61202540.353149988, 62358757.139999993, 63525832.897149995, 64703767.624599978, 65892561.322349988, 67092213.990400001, 68302725.628749996, 69524096.237399995, 70756325.816349998, 71999414.365600005, 73253361.88515003, 74518168.375, 75793833.835149989, 77080358.265600026, 78377741.666349992, 79685984.037399992, 81005085.378750026, 82335045.690400004, 83675864.972350016, 85027543.224599987, 86390080.447150022, 87763476.640000001, 89147731.803150028, 90542845.936600029, 91948819.04034999, 93365651.114400014, 94793342.158749968, 96231892.173399955, 97681301.158350021, 99141569.113599986, 100612696.03915, 102094681.935, 103587526.80115001, 105091230.63760003, 106605793.44434997, 108131215.22139996, 109667495.96875, 111214635.6864, 112772634.37434997, 114341492.03260002, 115921208.66114999, 117511784.26000001, 119113218.82915001, 120725512.36860006, 122348664.87835, 123982676.35840003, 125627546.80875002, 127283276.22940001, 128949864.62035, 130627311.98160002, 132315618.31315, 134014783.61499996, 135724807.88714999, 137445691.12959999, 139177433.34235001, 140920034.52540004, 142673494.67874998, 144437813.80239999, 146212991.89635, 147999028.96060002, 149795924.99514997]\n",
      "224781.51835 33\n",
      "0.165\n"
     ]
    }
   ],
   "source": [
    "b1_values = []\n",
    "sse_results = []\n",
    "for x in range(200):\n",
    "    b1 = x/200.0\n",
    "    #print b1, sse(sqft, price, 0, b1)\n",
    "    b1_values.append(b1)\n",
    "    sse_results.append(sse(sqft, price, 0, b1))\n",
    "print sse_results\n",
    "print min(sse_results), sse_results.index(min(sse_results))\n",
    "print b1_values[sse_results.index(min(sse_results))]"
   ]
  },
  {
   "cell_type": "markdown",
   "metadata": {},
   "source": [
    "---\n",
    "\n",
    "### Pearson's r and how it relates to simple linear regression\n",
    "\n",
    "Reall that the Pearson correlation coefficient, or Pearson's r, is defined as:\n",
    "\n",
    "### $$ cor(x, y) =\\frac{cov(x, y)}{std(x)std(y)} = \\frac{\\sum_{i=1}^n (y_i - \\bar{y} ) (x_i - \\bar{x} )}{\\sqrt{\\sum_{i=1}^n (x_i - \\bar{x})^2}\\sqrt{\\sum_{i=1}^n (y_i - \\bar{y})^2}} $$\n",
    "\n",
    "If that looks similar to the equation for $\\beta_1$ above, well, it's because it is.\n",
    "\n",
    "#### Calculate the Pearson's r between your target and predictor below\n",
    "\n",
    "For now, write your own function according to the equation above."
   ]
  },
  {
   "cell_type": "code",
   "execution_count": 17,
   "metadata": {
    "collapsed": false
   },
   "outputs": [
    {
     "name": "stdout",
     "output_type": "stream",
     "text": [
      "0.873657115219\n",
      "0.855068665959\n",
      "0.855068665959\n"
     ]
    }
   ],
   "source": [
    "def pearsons_long( x,y):\n",
    "    mean_y = np.mean(y)\n",
    "    mean_x = np.mean(x)\n",
    "    numerator = sum((y-mean_y)*(x-mean_x))\n",
    "    denominator = np.sqrt(sum((x-mean_x)**2))*np.sqrt(sum((y-mean_y)**2))\n",
    "    return numerator/denominator\n",
    "\n",
    "def pearsons_short_unadj(x,y):\n",
    "    return np.cov(x,y)[1,0]/np.std(x)/np.std(y)\n",
    "\n",
    "def pearsons_short(x,y):\n",
    "    return np.cov(x,y, ddof=1)[1,0]/np.std(x,ddof=1)/np.std(y,ddof=1)\n",
    "\n",
    "y_hat = calculate_yhat(sqft,m0,m1)\n",
    "print pearsons_short_unadj(y,y_hat)\n",
    "print pearsons_short(y, y_hat)\n",
    "print pearsons_long(y,y_hat)\n",
    "# 0.87365711521910672\n",
    "# 1 is a perfect relationship"
   ]
  },
  {
   "cell_type": "markdown",
   "metadata": {},
   "source": [
    "#### Create normalized versions of your target and predictor variables"
   ]
  },
  {
   "cell_type": "code",
   "execution_count": null,
   "metadata": {
    "collapsed": false
   },
   "outputs": [],
   "source": []
  },
  {
   "cell_type": "markdown",
   "metadata": {},
   "source": [
    "#### Calculate new $\\beta_0$ and $\\beta_1$ for the normalized variables and plot the regression"
   ]
  },
  {
   "cell_type": "code",
   "execution_count": null,
   "metadata": {
    "collapsed": false
   },
   "outputs": [],
   "source": []
  },
  {
   "cell_type": "markdown",
   "metadata": {},
   "source": [
    "You can see that the $\\beta_0$ coefficient and Pearson's r are _nearly_ the same, but not quite..."
   ]
  },
  {
   "cell_type": "markdown",
   "metadata": {},
   "source": [
    "---\n",
    "\n",
    "### Pearson's r and \"degrees of freedom\"\n",
    "\n",
    "The concept of \"degrees of freedom\" comes up a lot in statistics, and can be a source of a lot of confusion. \n",
    "\n",
    "A simplified definition of degrees of freedom is: \n",
    "\n",
    "> The number of final calculations in a statistical estimate that are allowed to vary. This restriction is necessary when the statistical estimate requires one or more other statistical estimates to be measured from the sample first.\n",
    "\n",
    "Degrees of freedom lets you adjust for the size of your sample: estimates from smaller samples are adjusted more. Why do we do this, and how?\n",
    "\n",
    "Take the formula for Pearson's r for the overall population $X$ and $Y$:\n",
    "\n",
    "### $$ cor(X, Y) =\\frac{cov(X, Y)}{std(X)std(Y)}$$\n",
    "\n",
    "This is equivalent to the formula above, but imagine we had _all_ the data. When we are talking about the overall (infinite) population, there are now guaranteed properties of statistical estimates that aren't guaranteed for the sample estimate.\n",
    "\n",
    "For example, in the full population the sum of deviations from the mean are guaranteed to sum to 0. But with a small sample from this population, this is obviously not guaranteed.\n",
    "\n",
    "If we want to estimate what Pearson's r would be for the _population_ but from our _sample_, then we need to take into account these guaranteed properties of the population statistic.\n",
    "\n",
    "Because we using the mean of $x$ and the mean of $y$ to measure variance and standard deviation, to ensure that our deviations from the mean actually sum to zero we have to \"leave one measurement out\" in the calculation of the deviations. The last measurement of the deviation from the means has to make the deviations sum to zero!\n",
    "\n",
    "This means that Pearson's r has **X,Y pairs - 2 degrees of freedom**, since we lose one degree of freedom for each of the two variables to adjust their mean deviations to sum to zero.\n",
    "\n",
    "#### Calculate the Pearson's r between target and dependent variables, using keyword argument `ddof=1` in both `np.var` and `np.std`"
   ]
  },
  {
   "cell_type": "code",
   "execution_count": 18,
   "metadata": {
    "collapsed": false
   },
   "outputs": [
    {
     "name": "stdout",
     "output_type": "stream",
     "text": [
      "0.873657115219\n",
      "0.855068665959\n",
      "0.855068665959\n"
     ]
    }
   ],
   "source": [
    "print pearsons_short_unadj(y,y_hat)\n",
    "# degrees of freedom not adjustedin the one above\n",
    "print pearsons_short(y, y_hat)\n",
    "print pearsons_long(y,y_hat)\n",
    "# 0.87365711521910672\n",
    "# 1 is a perfect relationship\n",
    "# this mainly addresses statistics of smaller sample sizes, because there is\n",
    "# a higher chance of variance (what if you got the only 3 outliers in your set of 4)"
   ]
  },
  {
   "cell_type": "markdown",
   "metadata": {},
   "source": [
    "For simple linear regression where there is just one predictor, the correlation coefficient is equivalent to the $\\beta_1$ slope on $x_1$."
   ]
  },
  {
   "cell_type": "markdown",
   "metadata": {},
   "source": [
    "---\n",
    "\n",
    "### $R^2$: the \"coefficient of determination\"\n",
    "\n",
    "Though we will talk about evaluation metrics for regression in more detail in a later lecture, it is worth looking at the concept of $R^2$ while we are exploring the pieces of regression in granular detail.\n",
    "\n",
    "$R^2$ is the **amount of variance explained above baseline in your target $y$ by predictor $x$**.\n",
    "\n",
    "It is comprised of two parts: the total sum of squares and the residual sum of squares.\n",
    "\n",
    "The total sum of squares is defined:\n",
    "\n",
    "### $$ SS_{tot} = \\sum_{i=1}^n \\left(y_i - \\bar{y}\\right)^2 $$\n",
    "\n",
    "The residual sum of squares is defined:\n",
    "\n",
    "### $$ SS_{res} = \\sum_{i=1}^n \\left(y_i - f_i\\right)^2 $$\n",
    "\n",
    "Where $f_i$ is the prediction by your regression for $y$ at observation $i$.\n",
    "\n",
    "$R^2$ is then calculated:\n",
    "\n",
    "### $$ R^2 = 1 - \\frac{SS_{res}}{SS_{tot}} $$\n",
    "\n",
    "The total sum of squares is the **baseline model**: the amount of variance in $y$ we would explain if we were to predict each point of $y$ with just the mean of $y$.\n",
    "\n",
    "This is equivalent to estimating $y$ with nothing but the intercept term $\\beta_0$, which becomes the mean of $y$ (the best possible estimator of $y$ with a single value: maximum likelihood):\n",
    "\n",
    "### $$ \\hat{y} = \\beta_0 = \\bar{y} $$\n",
    "\n",
    "\n",
    "#### Plot your regression again, with a new regression line representing the baseline model\n",
    "\n",
    "Print out the SSE for the baseline and model with predictor."
   ]
  },
  {
   "cell_type": "code",
   "execution_count": 19,
   "metadata": {
    "collapsed": false
   },
   "outputs": [
    {
     "data": {
      "image/png": "[encoded data removed]",
      "text/plain": [
       "<matplotlib.figure.Figure at 0x11d50ba90>"
      ]
     },
     "metadata": {
      "image/png": {
       "height": 314,
       "width": 439
      }
     },
     "output_type": "display_data"
    }
   ],
   "source": [
    "y_hat = calculate_yhat(sqft,m0,m1)\n",
    "def plot_regression2(x, y, b0=0,b1=1):\n",
    "    fig = plt.figure(figsize = (7,5))\n",
    "    ax = fig.gca()\n",
    "    ax.scatter(x, y, color = 'steelblue', s=50)\n",
    "    ax.plot(x, np.mean(y)*np.ones([len(x),1]), color = 'darkred', linewidth = 1.5, alpha = 0.3)\n",
    "    ax.plot(x, calculate_yhat(x, b0,b1), color = 'darkred', linewidth = 1.5, alpha = 0.3)\n",
    "    ax.x_label = 'sqft'\n",
    "    ax.y_label = 'price'\n",
    "plot_regression2(sqft,price,m0,m1)\n"
   ]
  },
  {
   "cell_type": "markdown",
   "metadata": {},
   "source": [
    "#### Write a function to calculate $R^2$ for baseline and regression models and print them out"
   ]
  },
  {
   "cell_type": "code",
   "execution_count": 20,
   "metadata": {
    "collapsed": false
   },
   "outputs": [
    {
     "name": "stdout",
     "output_type": "stream",
     "text": [
      "526265.987108\n",
      "193519.885233\n",
      "0.632277422495\n",
      "\t\t719785.87234\n",
      "\t\t193519.885233\n",
      "0.731142423505\n"
     ]
    }
   ],
   "source": [
    "print sum((y_hat-np.mean(price))**2)\n",
    "print sum((price-y_hat)**2)\n",
    "print 1 - np.sum((price-y_hat)**2)/np.sum((y_hat-np.mean(price))**2)\n",
    "\n",
    "#1 = explained all the variance\n",
    "#0 = explained none of hte variance\n",
    "y = price\n",
    "y_hat = calculate_yhat(sqft,m0,m1)\n",
    "\n",
    "def calculate_r2(y,y_hat):\n",
    "    err_total = (y-np.mean(y))**2\n",
    "    err_resid = (y-y_hat)**2 \n",
    "    ss_total = np.sum(err_total)\n",
    "    print '\\t\\t',ss_total    \n",
    "    ss_resid = np.sum(err_resid)\n",
    "    print '\\t\\t',ss_resid\n",
    "    return 1-(ss_resid/ss_total)\n",
    "\n",
    "\n",
    "print calculate_r2(price,y_hat)"
   ]
  },
  {
   "cell_type": "markdown",
   "metadata": {},
   "source": [
    "#### Print out the Pearson's r squared:"
   ]
  },
  {
   "cell_type": "code",
   "execution_count": null,
   "metadata": {
    "collapsed": false
   },
   "outputs": [],
   "source": []
  },
  {
   "cell_type": "markdown",
   "metadata": {},
   "source": [
    "In the case of simple linear regression, where there is only one predictor, the correlation coefficient squared is equal to $R^2$.\n",
    "\n",
    "Another formula, which is in my opinion clearer, explicitly calculates $R^2$ from the variance explained:\n",
    "\n",
    "### $$ R^2 = 1 - \\frac{var(residuals)}{var(y)} $$\n",
    "\n",
    "#### Calculate the $R^2$ with the \"variance explained\" formula below"
   ]
  },
  {
   "cell_type": "code",
   "execution_count": null,
   "metadata": {
    "collapsed": false
   },
   "outputs": [],
   "source": []
  },
  {
   "cell_type": "markdown",
   "metadata": {},
   "source": [
    "---\n",
    "\n",
    "### Multiple linear regression\n",
    "\n",
    "It is of course rare in regression that you will only want to predict $y$ from a single predictor $x$. Multiple linear regression predicts $y$ from more than 1 $x$ variable.\n",
    "\n",
    "The formula for computing the $\\beta$ values in multiple regression is best done with linear algebra. I'm not going to go into the details of the _reason_ that this works, but if you want to see the explanation [these slides are a great resource](http://statweb.stanford.edu/~nzhang/191_web/lecture4_handout.pdf).\n",
    "\n",
    "The linear algebra formula is as follows, where $X$ is a _matrix_ of predictors $x_1$ through $x_i$ (with each column a predictor), and $y$ are the true values of $y$. There is still only 1 predicted variable:\n",
    "\n",
    "### $$ \\hat{y} = \\beta X $$\n",
    "\n",
    "_The intercept term is part of $X$! It is a column of all ones added to the columns of predictors._\n",
    "\n",
    "Written out more simply, without the linear algebra, $\\hat{y}$ is calculated:\n",
    "\n",
    "### $$ \\hat{y} = \\beta_0 + \\beta_1 x_1 + \\beta_2 x_2 + ... + \\beta_n x_n $$\n",
    "\n",
    "The calculation of the $\\beta$ values is done with the linear algebra matrix multiplication formula:\n",
    "\n",
    "### $$ \\beta = (X'X)^{-1}X'Y $$\n",
    "\n",
    "Where $X'$ is the _transposed matrix of original matrix $X$_ and $(X'X)^-1$ is the _inverted matrix_ of $X'X$.\n",
    "\n",
    "Don't worry about the linear algebra here if you don't have experience with it. It's not so important to understand. Just remember that $y$ is estimated with an intercept term and each $x$ predictor multiplied by it's own $\\beta$ value.\n",
    "\n",
    "#### Create a \"design matrix\" with the first column a column of all 1s (intercept column) and the other columns the variables in the dataset that are not the target variable\n",
    "\n",
    "This is easiest to do with pandas: add a column for the intercept first, then extract the matrix with `.values`"
   ]
  },
  {
   "cell_type": "code",
   "execution_count": 32,
   "metadata": {
    "collapsed": false
   },
   "outputs": [
    {
     "ename": "AttributeError",
     "evalue": "'numpy.ndarray' object has no attribute 'head'",
     "output_type": "error",
     "traceback": [
      "\u001b[0;31m---------------------------------------------------------------------------\u001b[0m",
      "\u001b[0;31mAttributeError\u001b[0m                            Traceback (most recent call last)",
      "\u001b[0;32m<ipython-input-32-aff6c933357a>\u001b[0m in \u001b[0;36m<module>\u001b[0;34m()\u001b[0m\n\u001b[1;32m      3\u001b[0m \u001b[0mdesign\u001b[0m\u001b[0;34m.\u001b[0m\u001b[0mhead\u001b[0m\u001b[0;34m(\u001b[0m\u001b[0;34m)\u001b[0m\u001b[0;34m\u001b[0m\u001b[0m\n\u001b[1;32m      4\u001b[0m \u001b[0mdesign\u001b[0m \u001b[0;34m=\u001b[0m \u001b[0mdesign\u001b[0m\u001b[0;34m.\u001b[0m\u001b[0mvalues\u001b[0m\u001b[0;34m\u001b[0m\u001b[0m\n\u001b[0;32m----> 5\u001b[0;31m \u001b[0mdesign\u001b[0m\u001b[0;34m.\u001b[0m\u001b[0mhead\u001b[0m\u001b[0;34m(\u001b[0m\u001b[0;34m)\u001b[0m\u001b[0;34m\u001b[0m\u001b[0m\n\u001b[0m",
      "\u001b[0;31mAttributeError\u001b[0m: 'numpy.ndarray' object has no attribute 'head'"
     ]
    }
   ],
   "source": [
    "house['intercept'] = 1\n",
    "design = house [['intercept','sqft','bdrms','age']]\n",
    "design.head()\n",
    "design = design.values"
   ]
  },
  {
   "cell_type": "code",
   "execution_count": null,
   "metadata": {
    "collapsed": false
   },
   "outputs": [],
   "source": []
  },
  {
   "cell_type": "markdown",
   "metadata": {},
   "source": [
    "#### Compute the beta values using the formula above\n",
    "\n",
    "**The transpose of a matrix is calculated by appending `.T` to the matrix:**\n",
    "\n",
    "    X.T\n",
    "\n",
    "**Matrices multipled in the formula should be done as the \"dot product\" with:**\n",
    "\n",
    "    np.dot(mat1, mat2)\n",
    "\n",
    "**Inverting a matrix is done with the function:**\n",
    "\n",
    "    np.linalg.inv()"
   ]
  },
  {
   "cell_type": "code",
   "execution_count": 22,
   "metadata": {
    "collapsed": false
   },
   "outputs": [
    {
     "name": "stdout",
     "output_type": "stream",
     "text": [
      "[  9.18774604e+01   1.39437157e-01  -8.68118128e+00  -8.27771855e-02]\n"
     ]
    }
   ],
   "source": [
    "x = design\n",
    "beta_vec = np.dot(x.T,x)\n",
    "beta_vec = np.linalg.inv(beta_vec)\n",
    "beta_vec = np.dot(beta_vec, x.T)\n",
    "beta_vec = np.dot(beta_vec, price)\n",
    "print beta_vec"
   ]
  },
  {
   "cell_type": "markdown",
   "metadata": {},
   "source": [
    "#### Print out the vector of betas:"
   ]
  },
  {
   "cell_type": "code",
   "execution_count": 23,
   "metadata": {
    "collapsed": false
   },
   "outputs": [
    {
     "name": "stdout",
     "output_type": "stream",
     "text": [
      "[  9.18774604e+01   1.39437157e-01  -8.68118128e+00  -8.27771855e-02]\n"
     ]
    }
   ],
   "source": [
    "print beta_vec"
   ]
  },
  {
   "cell_type": "code",
   "execution_count": 34,
   "metadata": {
    "collapsed": false
   },
   "outputs": [
    {
     "data": {
      "text/plain": [
       "array([2104, 1600, 2400, 1416, 3000, 1985, 1534, 1427, 1380, 1494, 1940,\n",
       "       2000, 1890, 4478, 1268, 2300, 1320, 1236, 2609, 3031, 1767, 1888,\n",
       "       1604, 1962, 3890, 1100, 1458, 2526, 2200, 2637, 1839, 1000, 2040,\n",
       "       3137, 1811, 1437, 1239, 2132, 4215, 2162, 1664, 2238, 2567, 1200,\n",
       "        852, 1852, 1203])"
      ]
     },
     "execution_count": 34,
     "metadata": {},
     "output_type": "execute_result"
    }
   ],
   "source": [
    "x = design\n",
    "x[:,1]"
   ]
  },
  {
   "cell_type": "markdown",
   "metadata": {},
   "source": [
    "#### Calculate predicted $\\hat{y}$ with your predictors and $\\beta$ coefficients"
   ]
  },
  {
   "cell_type": "raw",
   "metadata": {
    "collapsed": true
   },
   "source": [
    "print x[0,0]\n",
    "#yhat = beta_vec[0] + x[:,1]*beta_vec[1] + x[:,2]*beta_vec[2] + x[:,3] * beta_vec[3]"
   ]
  },
  {
   "cell_type": "raw",
   "metadata": {},
   "source": [
    "print "
   ]
  },
  {
   "cell_type": "markdown",
   "metadata": {},
   "source": [
    "#### Plot the predicted values $\\hat{y}$ against the true values $y$\n",
    "\n",
    "Also plot a line through the origin at a 45 degree angle (positive slope)."
   ]
  },
  {
   "cell_type": "code",
   "execution_count": null,
   "metadata": {
    "collapsed": false
   },
   "outputs": [],
   "source": []
  },
  {
   "cell_type": "markdown",
   "metadata": {},
   "source": [
    "#### Calculate the $R^2$ of the multiple regression model"
   ]
  },
  {
   "cell_type": "code",
   "execution_count": null,
   "metadata": {
    "collapsed": false
   },
   "outputs": [],
   "source": []
  }
 ],
 "metadata": {
  "kernelspec": {
   "display_name": "Python [dsi]",
   "language": "python",
   "name": "Python [dsi]"
  },
  "language_info": {
   "codemirror_mode": {
    "name": "ipython",
    "version": 2
   },
   "file_extension": ".py",
   "mimetype": "text/x-python",
   "name": "python",
   "nbconvert_exporter": "python",
   "pygments_lexer": "ipython2",
   "version": "2.7.12"
  }
 },
 "nbformat": 4,
 "nbformat_minor": 0
}
