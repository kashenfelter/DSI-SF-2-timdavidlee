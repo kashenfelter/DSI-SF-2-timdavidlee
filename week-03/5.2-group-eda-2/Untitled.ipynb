{
 "cells": [
  {
   "cell_type": "code",
   "execution_count": 9,
   "metadata": {
    "collapsed": false
   },
   "outputs": [],
   "source": [
    "# The overlords of marathon planning committees have petitioned a group of DSI students to help with their decision to plan future sites for marathons. The the marathon super-pac believes that people who engage with events are drawn to the challenege aspects of the event as a core value (harder marathons == better value). However, a small contingency within the ranks of the marathon super-pac believe that the spirit of events supercedes the element of difficulty because of the phenomena of spectatorship.\n",
    "\n",
    "# Goals\n",
    "# Suggest qualities of high performing events\n",
    "# Engineer new features / metrics to evaluate\n",
    "# The goal of the committee is to use these metrics to decide future sites for events\n",
    "# Settle the dispute within the committee about the value of challenege vs popularity\n",
    "# Which is most important?\n",
    "# Are they valuable for different reasons?\n",
    "# Presentation requirements:\n",
    "# %75 of presentation must address a non-technical audience\n",
    "# Someone who hasn't presented yet must take lead on presentation\n",
    "\n",
    "\n",
    "import pandas as pd\n",
    "import numpy as np\n",
    "\n",
    "df = pd.read_csv(\"/Users/tlee010/desktop/DSI-SF-2-timdavidlee/datasets/marathons/Winners.csv\")\n"
   ]
  },
  {
   "cell_type": "code",
   "execution_count": 10,
   "metadata": {
    "collapsed": false
   },
   "outputs": [
    {
     "name": "stdout",
     "output_type": "stream",
     "text": [
      "<class 'pandas.core.frame.DataFrame'>\n",
      "RangeIndex: 290 entries, 0 to 289\n",
      "Data columns (total 10 columns):\n",
      "Winner                                 290 non-null object\n",
      "Country                                290 non-null object\n",
      "Category                               290 non-null object\n",
      "Marathons                              290 non-null object\n",
      "Wikipedia Page                         230 non-null object\n",
      "Image                                  103 non-null object\n",
      "Description                            230 non-null object\n",
      "Date of birth                          228 non-null float64\n",
      "Year of first major marathon win       230 non-null float64\n",
      "Age of first major marathon victory    228 non-null float64\n",
      "dtypes: float64(3), object(7)\n",
      "memory usage: 22.7+ KB\n"
     ]
    }
   ],
   "source": [
    "df.info()"
   ]
  },
  {
   "cell_type": "code",
   "execution_count": 11,
   "metadata": {
    "collapsed": false
   },
   "outputs": [
    {
     "data": {
      "text/html": [
       "<div>\n",
       "<table border=\"1\" class=\"dataframe\">\n",
       "  <thead>\n",
       "    <tr style=\"text-align: right;\">\n",
       "      <th></th>\n",
       "      <th>Date of birth</th>\n",
       "      <th>Year of first major marathon win</th>\n",
       "      <th>Age of first major marathon victory</th>\n",
       "    </tr>\n",
       "  </thead>\n",
       "  <tbody>\n",
       "    <tr>\n",
       "      <th>count</th>\n",
       "      <td>228.000000</td>\n",
       "      <td>230.000000</td>\n",
       "      <td>228.000000</td>\n",
       "    </tr>\n",
       "    <tr>\n",
       "      <th>mean</th>\n",
       "      <td>1956.881579</td>\n",
       "      <td>1984.347826</td>\n",
       "      <td>28.223684</td>\n",
       "    </tr>\n",
       "    <tr>\n",
       "      <th>std</th>\n",
       "      <td>26.311067</td>\n",
       "      <td>27.996270</td>\n",
       "      <td>4.199639</td>\n",
       "    </tr>\n",
       "    <tr>\n",
       "      <th>min</th>\n",
       "      <td>1874.000000</td>\n",
       "      <td>1897.000000</td>\n",
       "      <td>19.000000</td>\n",
       "    </tr>\n",
       "    <tr>\n",
       "      <th>25%</th>\n",
       "      <td>NaN</td>\n",
       "      <td>NaN</td>\n",
       "      <td>NaN</td>\n",
       "    </tr>\n",
       "    <tr>\n",
       "      <th>50%</th>\n",
       "      <td>NaN</td>\n",
       "      <td>NaN</td>\n",
       "      <td>NaN</td>\n",
       "    </tr>\n",
       "    <tr>\n",
       "      <th>75%</th>\n",
       "      <td>NaN</td>\n",
       "      <td>NaN</td>\n",
       "      <td>NaN</td>\n",
       "    </tr>\n",
       "    <tr>\n",
       "      <th>max</th>\n",
       "      <td>1990.000000</td>\n",
       "      <td>2014.000000</td>\n",
       "      <td>44.000000</td>\n",
       "    </tr>\n",
       "  </tbody>\n",
       "</table>\n",
       "</div>"
      ],
      "text/plain": [
       "       Date of birth  Year of first major marathon win  \\\n",
       "count     228.000000                        230.000000   \n",
       "mean     1956.881579                       1984.347826   \n",
       "std        26.311067                         27.996270   \n",
       "min      1874.000000                       1897.000000   \n",
       "25%              NaN                               NaN   \n",
       "50%              NaN                               NaN   \n",
       "75%              NaN                               NaN   \n",
       "max      1990.000000                       2014.000000   \n",
       "\n",
       "       Age of first major marathon victory  \n",
       "count                           228.000000  \n",
       "mean                             28.223684  \n",
       "std                               4.199639  \n",
       "min                              19.000000  \n",
       "25%                                    NaN  \n",
       "50%                                    NaN  \n",
       "75%                                    NaN  \n",
       "max                              44.000000  "
      ]
     },
     "execution_count": 11,
     "metadata": {},
     "output_type": "execute_result"
    }
   ],
   "source": [
    "df.describe()"
   ]
  },
  {
   "cell_type": "code",
   "execution_count": 12,
   "metadata": {
    "collapsed": false
   },
   "outputs": [
    {
     "data": {
      "text/html": [
       "<div>\n",
       "<table border=\"1\" class=\"dataframe\">\n",
       "  <thead>\n",
       "    <tr style=\"text-align: right;\">\n",
       "      <th></th>\n",
       "      <th>Winner</th>\n",
       "      <th>Country</th>\n",
       "      <th>Category</th>\n",
       "      <th>Marathons</th>\n",
       "      <th>Wikipedia Page</th>\n",
       "      <th>Image</th>\n",
       "      <th>Description</th>\n",
       "      <th>Date of birth</th>\n",
       "      <th>Year of first major marathon win</th>\n",
       "      <th>Age of first major marathon victory</th>\n",
       "    </tr>\n",
       "  </thead>\n",
       "  <tbody>\n",
       "    <tr>\n",
       "      <th>0</th>\n",
       "      <td>Beth Bonner</td>\n",
       "      <td>United States</td>\n",
       "      <td>Female Winner</td>\n",
       "      <td>New York City 1971</td>\n",
       "      <td>http://en.wikipedia.org/wiki/Beth_Bonner</td>\n",
       "      <td>NaN</td>\n",
       "      <td>Beth Bonner (Elizabeth Bonner; June 9, 1952 - ...</td>\n",
       "      <td>1952.0</td>\n",
       "      <td>1971.0</td>\n",
       "      <td>19.0</td>\n",
       "    </tr>\n",
       "    <tr>\n",
       "      <th>1</th>\n",
       "      <td>Hitomi Niiya</td>\n",
       "      <td>Japan</td>\n",
       "      <td>Female Winner</td>\n",
       "      <td>Tokyo 2007</td>\n",
       "      <td>http://en.wikipedia.org/wiki/Hitomi_Niiya</td>\n",
       "      <td>//upload.wikimedia.org/wikipedia/commons/thumb...</td>\n",
       "      <td>Hitomi Niiya(新谷 仁美,Niiya Hitomi?, born 26 Febr...</td>\n",
       "      <td>1988.0</td>\n",
       "      <td>2007.0</td>\n",
       "      <td>19.0</td>\n",
       "    </tr>\n",
       "    <tr>\n",
       "      <th>2</th>\n",
       "      <td>Ham Kee-Yong</td>\n",
       "      <td>South Korea</td>\n",
       "      <td>Male Winner</td>\n",
       "      <td>Boston 1950</td>\n",
       "      <td>http://en.wikipedia.org/wiki/Ham_Kee-Yong</td>\n",
       "      <td>NaN</td>\n",
       "      <td>Ham Kee-yong (born November 14, 1930) is a for...</td>\n",
       "      <td>1930.0</td>\n",
       "      <td>1950.0</td>\n",
       "      <td>20.0</td>\n",
       "    </tr>\n",
       "  </tbody>\n",
       "</table>\n",
       "</div>"
      ],
      "text/plain": [
       "         Winner        Country       Category           Marathons  \\\n",
       "0   Beth Bonner  United States  Female Winner  New York City 1971   \n",
       "1  Hitomi Niiya          Japan  Female Winner          Tokyo 2007   \n",
       "2  Ham Kee-Yong    South Korea    Male Winner         Boston 1950   \n",
       "\n",
       "                              Wikipedia Page  \\\n",
       "0   http://en.wikipedia.org/wiki/Beth_Bonner   \n",
       "1  http://en.wikipedia.org/wiki/Hitomi_Niiya   \n",
       "2  http://en.wikipedia.org/wiki/Ham_Kee-Yong   \n",
       "\n",
       "                                               Image  \\\n",
       "0                                                NaN   \n",
       "1  //upload.wikimedia.org/wikipedia/commons/thumb...   \n",
       "2                                                NaN   \n",
       "\n",
       "                                         Description  Date of birth  \\\n",
       "0  Beth Bonner (Elizabeth Bonner; June 9, 1952 - ...         1952.0   \n",
       "1  Hitomi Niiya(新谷 仁美,Niiya Hitomi?, born 26 Febr...         1988.0   \n",
       "2  Ham Kee-yong (born November 14, 1930) is a for...         1930.0   \n",
       "\n",
       "   Year of first major marathon win  Age of first major marathon victory  \n",
       "0                            1971.0                                 19.0  \n",
       "1                            2007.0                                 19.0  \n",
       "2                            1950.0                                 20.0  "
      ]
     },
     "execution_count": 12,
     "metadata": {},
     "output_type": "execute_result"
    }
   ],
   "source": [
    "df.head(3)"
   ]
  },
  {
   "cell_type": "code",
   "execution_count": 40,
   "metadata": {
    "collapsed": false
   },
   "outputs": [
    {
     "data": {
      "text/plain": [
       "Winner                                 0\n",
       "Country                                0\n",
       "Category                               0\n",
       "Marathons                              0\n",
       "Wikipedia Page                         0\n",
       "Image                                  0\n",
       "Description                            0\n",
       "Date of birth                          0\n",
       "Year of first major marathon win       0\n",
       "Age of first major marathon victory    0\n",
       "dtype: int64"
      ]
     },
     "execution_count": 40,
     "metadata": {},
     "output_type": "execute_result"
    }
   ],
   "source": [
    "df.shape\n",
    "df.dropna(inplace=True)\n",
    "\n",
    "df.isnull().sum()"
   ]
  },
  {
   "cell_type": "code",
   "execution_count": 27,
   "metadata": {
    "collapsed": false
   },
   "outputs": [
    {
     "data": {
      "text/plain": [
       "Male Winner      184\n",
       "Female Winner    106\n",
       "Name: Category, dtype: int64"
      ]
     },
     "execution_count": 27,
     "metadata": {},
     "output_type": "execute_result"
    }
   ],
   "source": [
    "df.Marathons.value_counts()\n",
    "\n",
    "df.Category.value_counts()\n"
   ]
  },
  {
   "cell_type": "code",
   "execution_count": 35,
   "metadata": {
    "collapsed": true
   },
   "outputs": [],
   "source": [
    "df_clean = df[['Winner','Country','Marathons', 'Date of birth','Year of first major marathon win', 'Age of first major marathon victory']]\n",
    "\n"
   ]
  },
  {
   "cell_type": "code",
   "execution_count": 55,
   "metadata": {
    "collapsed": false
   },
   "outputs": [],
   "source": [
    "df_clean.loc['marathon-city'] = df_clean['Marathons'].map(lambda val: ' '.join(str(val).split(' ')[:-1]))"
   ]
  },
  {
   "cell_type": "code",
   "execution_count": 56,
   "metadata": {
    "collapsed": false
   },
   "outputs": [
    {
     "data": {
      "text/html": [
       "<div>\n",
       "<table border=\"1\" class=\"dataframe\">\n",
       "  <thead>\n",
       "    <tr style=\"text-align: right;\">\n",
       "      <th></th>\n",
       "      <th>Winner</th>\n",
       "      <th>Country</th>\n",
       "      <th>Marathons</th>\n",
       "      <th>Date of birth</th>\n",
       "      <th>Year of first major marathon win</th>\n",
       "      <th>Age of first major marathon victory</th>\n",
       "      <th>marathon-city</th>\n",
       "    </tr>\n",
       "  </thead>\n",
       "  <tbody>\n",
       "    <tr>\n",
       "      <th>0</th>\n",
       "      <td>Beth Bonner</td>\n",
       "      <td>United States</td>\n",
       "      <td>New York City 1971</td>\n",
       "      <td>1952.0</td>\n",
       "      <td>1971.0</td>\n",
       "      <td>19.0</td>\n",
       "      <td>[New, York, City]</td>\n",
       "    </tr>\n",
       "    <tr>\n",
       "      <th>1</th>\n",
       "      <td>Hitomi Niiya</td>\n",
       "      <td>Japan</td>\n",
       "      <td>Tokyo 2007</td>\n",
       "      <td>1988.0</td>\n",
       "      <td>2007.0</td>\n",
       "      <td>19.0</td>\n",
       "      <td>[Tokyo]</td>\n",
       "    </tr>\n",
       "    <tr>\n",
       "      <th>2</th>\n",
       "      <td>Ham Kee-Yong</td>\n",
       "      <td>South Korea</td>\n",
       "      <td>Boston 1950</td>\n",
       "      <td>1930.0</td>\n",
       "      <td>1950.0</td>\n",
       "      <td>20.0</td>\n",
       "      <td>[Boston]</td>\n",
       "    </tr>\n",
       "    <tr>\n",
       "      <th>3</th>\n",
       "      <td>Kim Merritt</td>\n",
       "      <td>United States</td>\n",
       "      <td>Boston 1976, New York City 1975</td>\n",
       "      <td>1955.0</td>\n",
       "      <td>1975.0</td>\n",
       "      <td>20.0</td>\n",
       "      <td>[Boston, 1976,, New, York, City]</td>\n",
       "    </tr>\n",
       "    <tr>\n",
       "      <th>4</th>\n",
       "      <td>Shigeki Tanaka</td>\n",
       "      <td>Japan</td>\n",
       "      <td>Boston 1951</td>\n",
       "      <td>1931.0</td>\n",
       "      <td>1951.0</td>\n",
       "      <td>20.0</td>\n",
       "      <td>[Boston]</td>\n",
       "    </tr>\n",
       "  </tbody>\n",
       "</table>\n",
       "</div>"
      ],
      "text/plain": [
       "           Winner        Country                        Marathons  \\\n",
       "0     Beth Bonner  United States               New York City 1971   \n",
       "1    Hitomi Niiya          Japan                       Tokyo 2007   \n",
       "2    Ham Kee-Yong    South Korea                      Boston 1950   \n",
       "3     Kim Merritt  United States  Boston 1976, New York City 1975   \n",
       "4  Shigeki Tanaka          Japan                      Boston 1951   \n",
       "\n",
       "   Date of birth  Year of first major marathon win  \\\n",
       "0         1952.0                            1971.0   \n",
       "1         1988.0                            2007.0   \n",
       "2         1930.0                            1950.0   \n",
       "3         1955.0                            1975.0   \n",
       "4         1931.0                            1951.0   \n",
       "\n",
       "   Age of first major marathon victory                     marathon-city  \n",
       "0                                 19.0                 [New, York, City]  \n",
       "1                                 19.0                           [Tokyo]  \n",
       "2                                 20.0                          [Boston]  \n",
       "3                                 20.0  [Boston, 1976,, New, York, City]  \n",
       "4                                 20.0                          [Boston]  "
      ]
     },
     "execution_count": 56,
     "metadata": {},
     "output_type": "execute_result"
    }
   ],
   "source": [
    "df_clean.head()"
   ]
  },
  {
   "cell_type": "code",
   "execution_count": 110,
   "metadata": {
    "collapsed": false
   },
   "outputs": [
    {
     "name": "stderr",
     "output_type": "stream",
     "text": [
      "/Users/tlee010/anaconda/lib/python2.7/site-packages/ipykernel/__main__.py:2: SettingWithCopyWarning: \n",
      "A value is trying to be set on a copy of a slice from a DataFrame\n",
      "\n",
      "See the caveats in the documentation: http://pandas.pydata.org/pandas-docs/stable/indexing.html#indexing-view-versus-copy\n",
      "  from ipykernel import kernelapp as app\n",
      "/Users/tlee010/anaconda/lib/python2.7/site-packages/ipykernel/__main__.py:19: SettingWithCopyWarning: \n",
      "A value is trying to be set on a copy of a slice from a DataFrame.\n",
      "Try using .loc[row_indexer,col_indexer] = value instead\n",
      "\n",
      "See the caveats in the documentation: http://pandas.pydata.org/pandas-docs/stable/indexing.html#indexing-view-versus-copy\n"
     ]
    },
    {
     "ename": "TypeError",
     "evalue": "melt() got an unexpected keyword argument 'value'",
     "output_type": "error",
     "traceback": [
      "\u001b[0;31m---------------------------------------------------------------------------\u001b[0m",
      "\u001b[0;31mTypeError\u001b[0m                                 Traceback (most recent call last)",
      "\u001b[0;32m<ipython-input-110-1542f5acbf9a>\u001b[0m in \u001b[0;36m<module>\u001b[0;34m()\u001b[0m\n\u001b[1;32m     30\u001b[0m \u001b[0;34m\u001b[0m\u001b[0m\n\u001b[1;32m     31\u001b[0m \u001b[0mdf_clean\u001b[0m\u001b[0;34m.\u001b[0m\u001b[0mcolumns\u001b[0m\u001b[0;34m\u001b[0m\u001b[0m\n\u001b[0;32m---> 32\u001b[0;31m \u001b[0mdf_long\u001b[0m \u001b[0;34m=\u001b[0m \u001b[0mpd\u001b[0m\u001b[0;34m.\u001b[0m\u001b[0mmelt\u001b[0m\u001b[0;34m(\u001b[0m\u001b[0mdf_clean\u001b[0m\u001b[0;34m,\u001b[0m \u001b[0mid_vars\u001b[0m \u001b[0;34m=\u001b[0m \u001b[0;34m[\u001b[0m\u001b[0;34m'Winner'\u001b[0m\u001b[0;34m,\u001b[0m\u001b[0;34m'Country'\u001b[0m\u001b[0;34m,\u001b[0m\u001b[0;34m'Marathons'\u001b[0m\u001b[0;34m,\u001b[0m \u001b[0;34m'Date of birth'\u001b[0m\u001b[0;34m,\u001b[0m\u001b[0;34m'Year of first major marathon win'\u001b[0m\u001b[0;34m,\u001b[0m \u001b[0;34m'Age of first major marathon victory'\u001b[0m\u001b[0;34m]\u001b[0m\u001b[0;34m,\u001b[0m \u001b[0mvalue_vars\u001b[0m \u001b[0;34m=\u001b[0m \u001b[0mtrue_unique\u001b[0m\u001b[0;34m.\u001b[0m\u001b[0mvalues\u001b[0m\u001b[0;34m(\u001b[0m\u001b[0;34m)\u001b[0m\u001b[0;34m,\u001b[0m \u001b[0mvalue\u001b[0m \u001b[0;34m=\u001b[0m \u001b[0msum\u001b[0m \u001b[0;34m)\u001b[0m\u001b[0;34m\u001b[0m\u001b[0m\n\u001b[0m",
      "\u001b[0;31mTypeError\u001b[0m: melt() got an unexpected keyword argument 'value'"
     ]
    }
   ],
   "source": [
    "df_clean = df[['Winner','Country','Marathons', 'Date of birth','Year of first major marathon win', 'Age of first major marathon victory']]\n",
    "df_clean.loc['marathon-city'] = df_clean['Marathons'].map(lambda val: ' '.join(str(val).split(' ')[:-1]))\n",
    "\n",
    "#df_clean.loc[:,'Marathons'].dropna(axis = 0,inplace=True)\n",
    "rawunique = list(df_clean.loc[:,'Marathons'].unique())\n",
    "true_unique = {} \n",
    "for x in rawunique:\n",
    "    for y in str(x).split(','):\n",
    "        true_unique[y.strip()] = 0\n",
    "\n",
    "\n",
    "for x in true_unique.keys():\n",
    "    true_unique[x] = x.replace(' ','_')\n",
    "\n",
    "from pprint import pprint\n",
    "#pprint(true_unique)\n",
    "\n",
    "for xx in true_unique.values():\n",
    "    df_clean[xx] = 0\n",
    "    \n",
    "def unpack(x):\n",
    "    local_list = []\n",
    "    local_list = [y.strip() for y in str(x['Marathons']).split(',')]\n",
    "    for z in local_list:\n",
    "        x[true_unique[z]] = 1\n",
    "    return x\n",
    "    \n",
    "df_clean = df_clean.apply(unpack, axis=1)\n",
    "df_clean.head()\n",
    "\n"
   ]
  },
  {
   "cell_type": "code",
   "execution_count": 113,
   "metadata": {
    "collapsed": false
   },
   "outputs": [],
   "source": [
    "df_clean.columns\n",
    "df_long = pd.melt(df_clean, id_vars = ['Winner','Country','Marathons', 'Date of birth','Year of first major marathon win', 'Age of first major marathon victory'], value_vars = true_unique.values() )"
   ]
  },
  {
   "cell_type": "code",
   "execution_count": 115,
   "metadata": {
    "collapsed": false
   },
   "outputs": [],
   "source": [
    "df_long.head()\n",
    "df_long_clean = df_long[df_long['value']!=0]"
   ]
  },
  {
   "cell_type": "code",
   "execution_count": 116,
   "metadata": {
    "collapsed": false
   },
   "outputs": [
    {
     "data": {
      "text/html": [
       "<div>\n",
       "<table border=\"1\" class=\"dataframe\">\n",
       "  <thead>\n",
       "    <tr style=\"text-align: right;\">\n",
       "      <th></th>\n",
       "      <th>Winner</th>\n",
       "      <th>Country</th>\n",
       "      <th>Marathons</th>\n",
       "      <th>Date of birth</th>\n",
       "      <th>Year of first major marathon win</th>\n",
       "      <th>Age of first major marathon victory</th>\n",
       "      <th>variable</th>\n",
       "      <th>value</th>\n",
       "    </tr>\n",
       "  </thead>\n",
       "  <tbody>\n",
       "    <tr>\n",
       "      <th>38</th>\n",
       "      <td>Khalid Khannouchi</td>\n",
       "      <td>Morocco, United States</td>\n",
       "      <td>Chicago 2000, Chicago 1999, Chicago 1997, Chic...</td>\n",
       "      <td>1971.0</td>\n",
       "      <td>1997.0</td>\n",
       "      <td>26.0</td>\n",
       "      <td>Chicago_1999</td>\n",
       "      <td>1</td>\n",
       "    </tr>\n",
       "    <tr>\n",
       "      <th>45</th>\n",
       "      <td>Joyce Chepchumba</td>\n",
       "      <td>Kenya</td>\n",
       "      <td>Chicago 1999, Chicago 1998, London 1999, Londo...</td>\n",
       "      <td>1970.0</td>\n",
       "      <td>1997.0</td>\n",
       "      <td>27.0</td>\n",
       "      <td>Chicago_1999</td>\n",
       "      <td>1</td>\n",
       "    </tr>\n",
       "    <tr>\n",
       "      <th>116</th>\n",
       "      <td>Dire Tune</td>\n",
       "      <td>Ethiopia</td>\n",
       "      <td>Boston 2008</td>\n",
       "      <td>1985.0</td>\n",
       "      <td>2008.0</td>\n",
       "      <td>23.0</td>\n",
       "      <td>Boston_2008</td>\n",
       "      <td>1</td>\n",
       "    </tr>\n",
       "    <tr>\n",
       "      <th>135</th>\n",
       "      <td>Robert Kipkoech Cheruiyot</td>\n",
       "      <td>Kenya</td>\n",
       "      <td>Chicago 2006, Boston 2008, Boston 2007, Boston...</td>\n",
       "      <td>1978.0</td>\n",
       "      <td>2003.0</td>\n",
       "      <td>25.0</td>\n",
       "      <td>Boston_2008</td>\n",
       "      <td>1</td>\n",
       "    </tr>\n",
       "    <tr>\n",
       "      <th>266</th>\n",
       "      <td>Deriba Merga</td>\n",
       "      <td>Ethiopia</td>\n",
       "      <td>Boston 2009</td>\n",
       "      <td>1980.0</td>\n",
       "      <td>2009.0</td>\n",
       "      <td>29.0</td>\n",
       "      <td>Boston_2009</td>\n",
       "      <td>1</td>\n",
       "    </tr>\n",
       "  </tbody>\n",
       "</table>\n",
       "</div>"
      ],
      "text/plain": [
       "                        Winner                 Country  \\\n",
       "38           Khalid Khannouchi  Morocco, United States   \n",
       "45            Joyce Chepchumba                   Kenya   \n",
       "116                  Dire Tune                Ethiopia   \n",
       "135  Robert Kipkoech Cheruiyot                   Kenya   \n",
       "266               Deriba Merga                Ethiopia   \n",
       "\n",
       "                                             Marathons  Date of birth  \\\n",
       "38   Chicago 2000, Chicago 1999, Chicago 1997, Chic...         1971.0   \n",
       "45   Chicago 1999, Chicago 1998, London 1999, Londo...         1970.0   \n",
       "116                                        Boston 2008         1985.0   \n",
       "135  Chicago 2006, Boston 2008, Boston 2007, Boston...         1978.0   \n",
       "266                                        Boston 2009         1980.0   \n",
       "\n",
       "     Year of first major marathon win  Age of first major marathon victory  \\\n",
       "38                             1997.0                                 26.0   \n",
       "45                             1997.0                                 27.0   \n",
       "116                            2008.0                                 23.0   \n",
       "135                            2003.0                                 25.0   \n",
       "266                            2009.0                                 29.0   \n",
       "\n",
       "         variable  value  \n",
       "38   Chicago_1999      1  \n",
       "45   Chicago_1999      1  \n",
       "116   Boston_2008      1  \n",
       "135   Boston_2008      1  \n",
       "266   Boston_2009      1  "
      ]
     },
     "execution_count": 116,
     "metadata": {},
     "output_type": "execute_result"
    }
   ],
   "source": [
    "df_long_clean.head()"
   ]
  },
  {
   "cell_type": "code",
   "execution_count": null,
   "metadata": {
    "collapsed": true
   },
   "outputs": [],
   "source": []
  }
 ],
 "metadata": {
  "kernelspec": {
   "display_name": "Python 2",
   "language": "python",
   "name": "python2"
  },
  "language_info": {
   "codemirror_mode": {
    "name": "ipython",
    "version": 2
   },
   "file_extension": ".py",
   "mimetype": "text/x-python",
   "name": "python",
   "nbconvert_exporter": "python",
   "pygments_lexer": "ipython2",
   "version": "2.7.11"
  }
 },
 "nbformat": 4,
 "nbformat_minor": 0
}
