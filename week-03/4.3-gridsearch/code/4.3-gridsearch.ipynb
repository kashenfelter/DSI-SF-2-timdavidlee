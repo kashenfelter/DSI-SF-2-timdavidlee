{
 "cells": [
  {
   "cell_type": "markdown",
   "metadata": {},
   "source": [
    "```---\n",
    "title: Gridsearch\n",
    "duration: \"1:25+\"\n",
    "creator:\n",
    "    name: David Yerrington\n",
    "    city: SF\n",
    "---```\n",
    "\n",
    "<img src=\"https://ga-dash.s3.amazonaws.com/production/assets/logo-9f88ae6c9c3871690e33280fcf557f33.png\" style=\"float: left; margin: 15px;\">\n",
    "# GridSearch\n",
    "Week 3 | Lesson 4.3\n",
    "***\n",
    "\n",
    "\n",
    "![](https://snag.gy/aYcCt2.jpg)\n"
   ]
  },
  {
   "cell_type": "markdown",
   "metadata": {},
   "source": [
    "## Discussion (5 mins)\n",
    "\n",
    "So far we have learned about linear regression and regularization.  _Given what you know about linear regression and how it's implemented in sklearn:_\n",
    "<br><br>\n",
    "## How would you approach tuning your model?\n",
    "<br><br>"
   ]
  },
  {
   "cell_type": "markdown",
   "metadata": {},
   "source": [
    "## Recap:  EDA, Analysis Strategy\n",
    "\n",
    "When doing exploratory analysis and starting to think about model selection, we have a few good starting points.\n",
    "\n",
    "- **Look at your data through subsetting and summary statistics**\n",
    "- Looking at coeficient matrices\n",
    "- Selecting features (variables) to use in our models\n",
    "- Considering parameters that might work, in a broad sense\n",
    "- Validation strategy\n",
    "\n",
    "A correlation matrix is used to investigate the **dependence between multiple variables at the same time**. The result is a table containing the correlation coefficients between each variable and the others. This is ideal for feature selection when deciding which features to use in a predictive model."
   ]
  },
  {
   "cell_type": "code",
   "execution_count": null,
   "metadata": {
    "collapsed": true
   },
   "outputs": [],
   "source": [
    "LinearRegression()"
   ]
  },
  {
   "cell_type": "markdown",
   "metadata": {},
   "source": [
    "## Anyone use Gridsearch before?\n",
    "\n",
    "How / what / why?"
   ]
  },
  {
   "cell_type": "markdown",
   "metadata": {},
   "source": [
    "## Intro to Gridsearch (10 mins)\n",
    "\n",
    "What is \"gridsearch\"? **Gridsearch** is the process of searching for the optimal set of tuning parameters for a model. **Gridsearch** is a scikit-learn method.  We use **Gridsearch** for searching across values of parameters, in combination with models, also using cross-validation to evaluate the effect to find the **best model**. It's called gridsearch because the idea is that there is a \"grid\" of parameters that are iteratively searched."
   ]
  },
  {
   "cell_type": "markdown",
   "metadata": {},
   "source": [
    "## An Example\n",
    "\n",
    "So far we haven't really done much with tuning linear regression, other than regularization.  The prime example we will look at will be regularization, but let's first look at the mechanics of our model to establish some basic assumptions.\n",
    "\n",
    "### Linear Regression Parameters\n",
    "| Parameter | Potential Values |\n",
    "| --- | ---|\n",
    "| **fit_intercept** | bool: True/False |\n",
    "| **normalize** | bool:  True/False |\n",
    "\n",
    "> The normalize parameter:  If **True**, the regressors X will be normalized before  regression (they are talking about doing _standardization_ actually).\n"
   ]
  },
  {
   "cell_type": "markdown",
   "metadata": {},
   "source": [
    "This is as if we where to run, and score the following code, using all combinations of the specified parameters:\n",
    "\n",
    "```python\n",
    "\n",
    "# Case 1\n",
    "lm = LinearRegression(fit_itercept=True, normalize=False)\n",
    "model = lm.fit(X, y)\n",
    "score = model.score(X,y)\n",
    "\n",
    "# Case 2\n",
    "lm = LinearRegression(fit_itercept=False, normalize=False)\n",
    "model = lm.fit(X, y)\n",
    "score = model.score(X,y)\n",
    "\n",
    "# Case 3\n",
    "lm = LinearRegression(fit_itercept=True, normalize=True)\n",
    "model = lm.fit(X, y)\n",
    "score = model.score(X,y)\n",
    "\n",
    "# Case 4\n",
    "lm = LinearRegression(fit_itercept=False, normalize=False)\n",
    "model = lm.fit(X, y)\n",
    "score = model.score(X,y)\n",
    "\n",
    "```"
   ]
  },
  {
   "cell_type": "markdown",
   "metadata": {},
   "source": [
    "## A More Sophisticated Example\n",
    "\n",
    "We haven't yet learned the intuition behind K-Nearest Neighbors, it's going to be introduced next week. So try to curb your curiousity for a moment about how this model works, and let's just talk about workflow and the programming mechanics for this example.\n",
    "\n",
    "Since **Gridsearch** is a method with a broad range of utility beyond regression problems, it's great for testing a combination of parameters on models that offer a broader range of **hyperparamters**.\n",
    "\n",
    "> Lingo guide:  **hyperparameter** is used interchangably with **parameter**, which is used with a given model. We are referring to the parameters we pass to our models to control their behavior."
   ]
  },
  {
   "cell_type": "markdown",
   "metadata": {},
   "source": [
    "| Parameter | Potential Values |\n",
    "| --- | ---|\n",
    "| **n_neighbors** | int range 1-150 |\n",
    "| **weights** | strs:  \"uniform\", \"distance\" or user defined function |\n",
    "| **algorithm** | strs: \"ball_tree\", \"kd_tree\", \"brute\", \"auto\" |\n",
    "| **leaf_size** | int range 0-150 |\n",
    "| **metric** | str: \"minkowski\" or DistanceObject type |\n",
    "| **p** | int: 1=manhattan_distance, 2= euclidean_distance |\n",
    "\n",
    "### What is GridSearch doing?\n",
    "\n",
    "```python\n",
    "from sklearn import neighbors\n",
    "\n",
    "# Search - 1\n",
    "neighbors.KNeighborsClassifier(\n",
    "    n_neighbors   =  1, \n",
    "    weights       =  \"uniform\", \n",
    "    algorithm     =  \"ball_tree\", \n",
    "    leaf_size     =  30, \n",
    "    etc...\n",
    ")\n",
    "# Search - 2\n",
    "neighbors.KNeighborsClassifier(\n",
    "    n_neighbors   =  2, \n",
    "    weights       =  \"uniform\", \n",
    "    algorithm     =  \"ball_tree\", \n",
    "    leaf_size     =  30, \n",
    "    etc...\n",
    ")\n",
    "# Search - 3\n",
    "neighbors.KNeighborsClassifier(\n",
    "    n_neighbors   =  3, \n",
    "    weights       =  \"uniform\", \n",
    "    algorithm     =  \"ball_tree\", \n",
    "    leaf_size     =  30, \n",
    "    etc...\n",
    ")\n",
    "\n",
    "...\n",
    "... ** chunk chunk chunk -- [searching intensifies] -- hours later **\n",
    "...\n",
    "\n",
    "# Searching combinations of 300,000+\n",
    "neighbors.KNeighborsClassifier(\n",
    "    n_neighbors   =  150, \n",
    "    weights       =  \"distance\", \n",
    "    algorithm     =  \"auto\", \n",
    "    leaf_size     =  150, \n",
    "    etc...\n",
    ")\n",
    "\n",
    "```"
   ]
  },
  {
   "cell_type": "code",
   "execution_count": null,
   "metadata": {
    "collapsed": true
   },
   "outputs": [],
   "source": []
  },
  {
   "cell_type": "markdown",
   "metadata": {},
   "source": [
    "## How many models will be built and tested on a KNN model with the following parameters? (5 mins)\n",
    "\n",
    "- **n_neighbors**:  1-25\n",
    "- **algorithm**: \"ball_tree\", \"kd_tree\", \"brute\", \"auto\""
   ]
  },
  {
   "cell_type": "markdown",
   "metadata": {},
   "source": [
    "## Models Have Parameters\n",
    "\n",
    "Every model we will be learning have a predefined set of parameters.  If it has parameters, we can test a variety of parameters using gridsearch, to see the performance of various sets of parameters to get a sense of how they work in relation to our dataset and model.\n"
   ]
  },
  {
   "cell_type": "markdown",
   "metadata": {},
   "source": [
    "<br><br><br>\n",
    "## Do you remember which parameter CV was used for?\n",
    "<Br><Br><br><br>"
   ]
  },
  {
   "cell_type": "markdown",
   "metadata": {},
   "source": [
    "## Implementing GridsearchCV\n",
    "\n",
    "By default the `cv` parameter is `3`.  You can set this as high as you want!  Keep in mind how it works and why it's used.  If this is a mystery, please review our material on K-Folds validation."
   ]
  },
  {
   "cell_type": "code",
   "execution_count": 2,
   "metadata": {
    "collapsed": false
   },
   "outputs": [],
   "source": [
    "# Load gridsearch, libraries, test data\n",
    "from sklearn import grid_search, datasets\n",
    "from sklearn.linear_model import LinearRegression\n",
    "import pandas as pd, patsy\n",
    "\n",
    "columns =  \"age sex bmi map tc ldl hdl tch ltg glu\".split()\n",
    "\n",
    "data    =  datasets.load_diabetes()\n",
    "df      =  pd.DataFrame(data.data, columns=columns)\n",
    "df['target'] = data.target\n",
    "\n",
    "# Setup patsy design matrix\n",
    "y, X    =  patsy.dmatrices(\"target ~ age + sex + bmi + map + tc + ldl + glu\", data=df, return_type=\"dataframe\")"
   ]
  },
  {
   "cell_type": "markdown",
   "metadata": {},
   "source": [
    "### Setup GridSearchCV Parameters"
   ]
  },
  {
   "cell_type": "code",
   "execution_count": 3,
   "metadata": {
    "collapsed": true
   },
   "outputs": [],
   "source": [
    "# Setup our GridSearch Parmaters\n",
    "search_parameters = {\n",
    "    'fit_intercept':  [True, False], \n",
    "    'normalize':      [False, True]\n",
    "}\n",
    "\n",
    "# Intialize a blank model object\n",
    "lm = LinearRegression()\n",
    "\n",
    "# Initialize gridsearch\n",
    "estimator = grid_search.GridSearchCV(lm, search_parameters, cv=5)\n",
    "\n",
    "# Fit some data!\n",
    "results = estimator.fit(X, y)"
   ]
  },
  {
   "cell_type": "markdown",
   "metadata": {},
   "source": [
    "### Review Results\n",
    "\n",
    "There are a number of interesting result properties to explore.\n",
    "\n",
    "| Property | Use |\n",
    "| --- | ---|\n",
    "| **`results.param_grid`** | Displays parameters used |\n",
    "| **`results.best_score_`** | Best score achieved |\n",
    "| **`results.best_estimator_`** | Reference to model with best score.  Is usable / callable. |\n",
    "| **`results.best_params_`** | The parameters that have been found to perform with the best score. |\n",
    "| **`results.grid_scores_`** | Display score attributes with cooresponding parameters | "
   ]
  },
  {
   "cell_type": "code",
   "execution_count": 4,
   "metadata": {
    "collapsed": false
   },
   "outputs": [
    {
     "name": "stdout",
     "output_type": "stream",
     "text": [
      "Best Score:\n",
      "0.370689510527\n",
      "\n",
      "Best Params:\n",
      "{'normalize': False, 'fit_intercept': False}\n"
     ]
    }
   ],
   "source": [
    "print \"Best Score:\"\n",
    "print results.best_score_\n",
    "\n",
    "print\n",
    "\n",
    "print \"Best Params:\"\n",
    "print results.best_params_"
   ]
  },
  {
   "cell_type": "markdown",
   "metadata": {},
   "source": [
    "### Find All Tested Params with Scores\n",
    "_In the case of linear regression, the R2 isn't displayed, which is annoying.  You should at least know how where to look for the future use cases when you use other models_.\n",
    "\n",
    "It's not applicable now, but this is a great place to get data to plot your parameter values and their impact on your score as they change.  We will explore this possibility in the future."
   ]
  },
  {
   "cell_type": "code",
   "execution_count": 5,
   "metadata": {
    "collapsed": false,
    "scrolled": true
   },
   "outputs": [
    {
     "data": {
      "text/plain": [
       "[mean: 0.37069, std: 0.07662, params: {'normalize': False, 'fit_intercept': True},\n",
       " mean: 0.37069, std: 0.07662, params: {'normalize': True, 'fit_intercept': True},\n",
       " mean: 0.37069, std: 0.07662, params: {'normalize': False, 'fit_intercept': False},\n",
       " mean: 0.37069, std: 0.07662, params: {'normalize': True, 'fit_intercept': False}]"
      ]
     },
     "execution_count": 5,
     "metadata": {},
     "output_type": "execute_result"
    }
   ],
   "source": [
    "results.grid_scores_"
   ]
  },
  {
   "cell_type": "markdown",
   "metadata": {},
   "source": [
    "<br><br><br>\n",
    "\n",
    "## (5 mins) How do you think we can use gridsearch to avoid overfitting?\n",
    "<br><br><br>"
   ]
  },
  {
   "cell_type": "markdown",
   "metadata": {},
   "source": [
    "# (20 mins)  Idependent Practice\n",
    "\n",
    "Setup a basic gridsearch with all potential parameters for **fit_intercept**, and **normalize** parameters for linear regression using the boston housing dataset.\n",
    "\n",
    "1. Select a set of predictors\n",
    "1. Use the provided target as your response\n",
    "1. Setup and perform a basic gridsearch on a blank linear model object\n",
    "1. Print our your results\n",
    "\n",
    "> _The actual results won't be that interesting but the important thing is that you understand the implementation._"
   ]
  },
  {
   "cell_type": "code",
   "execution_count": 44,
   "metadata": {
    "collapsed": false
   },
   "outputs": [
    {
     "name": "stdout",
     "output_type": "stream",
     "text": [
      "['data', 'feature_names', 'DESCR', 'target']\n",
      "['CRIM' 'ZN' 'INDUS' 'CHAS' 'NOX' 'RM' 'AGE' 'DIS' 'RAD' 'TAX' 'PTRATIO'\n",
      " 'B' 'LSTAT']\n",
      "GridSearchCV(cv=5, error_score='raise',\n",
      "       estimator=LinearRegression(copy_X=True, fit_intercept=True, n_jobs=1, normalize=False),\n",
      "       fit_params={}, iid=True, n_jobs=1,\n",
      "       param_grid={'normalize': [False, True], 'fit_intercept': [True, False]},\n",
      "       pre_dispatch='2*n_jobs', refit=True, scoring=None, verbose=0)\n",
      "LinearRegression(copy_X=True, fit_intercept=False, n_jobs=1, normalize=False)\n",
      "0.408547740845\n"
     ]
    }
   ],
   "source": [
    "data = datasets.load_boston()\n",
    "print data.keys()\n",
    "print data.feature_names\n",
    "x = data.data\n",
    "y = data.target\n",
    "\n",
    "lm = LinearRegression()\n",
    "search_parameters = {\n",
    "    'fit_intercept':  [True, False], \n",
    "    'normalize':      [False, True]\n",
    "}\n",
    "\n",
    "# Initialize gridsearch\n",
    "estimator = grid_search.GridSearchCV(lm, search_parameters, cv=5)\n",
    "\n",
    "# Fit some data!\n",
    "results = estimator.fit(x, y)\n",
    "print results\n",
    "print results.best_estimator_\n",
    "print results.best_score_"
   ]
  },
  {
   "cell_type": "markdown",
   "metadata": {},
   "source": [
    "<br><Br>\n",
    "\n",
    "# (5 mins)  What are some disadvantages to GridSearch that you can think of?\n",
    "\n",
    "<br><Br>"
   ]
  },
  {
   "cell_type": "markdown",
   "metadata": {},
   "source": [
    "# Summary Check-in\n",
    "\n",
    "- What is the most difficult thing to understand about GridSearch?\n",
    "- How many parameters can be searched?\n",
    "- How do we know if our best score is good or not?\n",
    "- Which models can we use with Gridsearch?\n",
    "\n",
    "---"
   ]
  },
  {
   "cell_type": "markdown",
   "metadata": {},
   "source": [
    "## (60 mins) Independent/Group Practice\n",
    "\n",
    "Feel free to partner up or work within your group.  Use gridsearch to setup a basic pipeline on to search for `alpha` parameters for Lasso regularized regression.\n",
    "\n",
    "1.  Load up the winedataset used from our regularization lab yesterday.\n",
    "1.  Import Lasso, patsy\n",
    "1.  Use patsy to setup a design matrix\n",
    "1.  Setup a range of alphas to test _(hint: numpy generator)_\n",
    "1.  Setup gridsearch parameters with your range of alphas\n",
    "1.  Initialize and gridsearch\n",
    "1.  Review / print performance metrics and decide on an optimal parameter for alpha\n",
    "\n",
    "Remember:  _Alphas for the Lasso tend to effect regularization linearly rather than by orders of magnitude like in the ridge. A linear series of alphas is sufficient. Don't worry about the warning for Lasso at alpha 0._"
   ]
  },
  {
   "cell_type": "code",
   "execution_count": 17,
   "metadata": {
    "collapsed": false
   },
   "outputs": [
    {
     "name": "stdout",
     "output_type": "stream",
     "text": [
      "array(['fixed acidity', 'volatile acidity', 'citric acid',\n",
      "       'residual sugar', 'chlorides', 'free sulfur dioxide',\n",
      "       'total sulfur dioxide', 'density', 'pH', 'sulphates', 'alcohol',\n",
      "       'quality', 'red_wine'], dtype=object)\n",
      "{'residual sugar': 'residual_sugar', 'alcohol': 'alcohol', 'chlorides': 'chlorides', 'density': 'density', 'sulphates': 'sulphates', 'red_wine': 'red_wine', 'total sulfur dioxide': 'total_sulfur_dioxide', 'fixed acidity': 'fixed_acidity', 'citric acid': 'citric_acid', 'pH': 'pH', 'quality': 'quality', 'volatile acidity': 'volatile_acidity', 'free sulfur dioxide': 'free_sulfur_dioxide'}\n"
     ]
    },
    {
     "data": {
      "text/html": [
       "<div>\n",
       "<table border=\"1\" class=\"dataframe\">\n",
       "  <thead>\n",
       "    <tr style=\"text-align: right;\">\n",
       "      <th></th>\n",
       "      <th>fixed_acidity</th>\n",
       "      <th>volatile_acidity</th>\n",
       "      <th>citric_acid</th>\n",
       "      <th>residual_sugar</th>\n",
       "      <th>chlorides</th>\n",
       "      <th>free_sulfur_dioxide</th>\n",
       "      <th>total_sulfur_dioxide</th>\n",
       "      <th>density</th>\n",
       "      <th>pH</th>\n",
       "      <th>sulphates</th>\n",
       "      <th>alcohol</th>\n",
       "      <th>quality</th>\n",
       "      <th>red_wine</th>\n",
       "    </tr>\n",
       "  </thead>\n",
       "  <tbody>\n",
       "    <tr>\n",
       "      <th>0</th>\n",
       "      <td>7.4</td>\n",
       "      <td>0.70</td>\n",
       "      <td>0.00</td>\n",
       "      <td>1.9</td>\n",
       "      <td>0.076</td>\n",
       "      <td>11.0</td>\n",
       "      <td>34.0</td>\n",
       "      <td>0.9978</td>\n",
       "      <td>3.51</td>\n",
       "      <td>0.56</td>\n",
       "      <td>9.4</td>\n",
       "      <td>5</td>\n",
       "      <td>1</td>\n",
       "    </tr>\n",
       "    <tr>\n",
       "      <th>1</th>\n",
       "      <td>7.8</td>\n",
       "      <td>0.88</td>\n",
       "      <td>0.00</td>\n",
       "      <td>2.6</td>\n",
       "      <td>0.098</td>\n",
       "      <td>25.0</td>\n",
       "      <td>67.0</td>\n",
       "      <td>0.9968</td>\n",
       "      <td>3.20</td>\n",
       "      <td>0.68</td>\n",
       "      <td>9.8</td>\n",
       "      <td>5</td>\n",
       "      <td>1</td>\n",
       "    </tr>\n",
       "    <tr>\n",
       "      <th>2</th>\n",
       "      <td>7.8</td>\n",
       "      <td>0.76</td>\n",
       "      <td>0.04</td>\n",
       "      <td>2.3</td>\n",
       "      <td>0.092</td>\n",
       "      <td>15.0</td>\n",
       "      <td>54.0</td>\n",
       "      <td>0.9970</td>\n",
       "      <td>3.26</td>\n",
       "      <td>0.65</td>\n",
       "      <td>9.8</td>\n",
       "      <td>5</td>\n",
       "      <td>1</td>\n",
       "    </tr>\n",
       "    <tr>\n",
       "      <th>3</th>\n",
       "      <td>11.2</td>\n",
       "      <td>0.28</td>\n",
       "      <td>0.56</td>\n",
       "      <td>1.9</td>\n",
       "      <td>0.075</td>\n",
       "      <td>17.0</td>\n",
       "      <td>60.0</td>\n",
       "      <td>0.9980</td>\n",
       "      <td>3.16</td>\n",
       "      <td>0.58</td>\n",
       "      <td>9.8</td>\n",
       "      <td>6</td>\n",
       "      <td>1</td>\n",
       "    </tr>\n",
       "    <tr>\n",
       "      <th>4</th>\n",
       "      <td>7.4</td>\n",
       "      <td>0.70</td>\n",
       "      <td>0.00</td>\n",
       "      <td>1.9</td>\n",
       "      <td>0.076</td>\n",
       "      <td>11.0</td>\n",
       "      <td>34.0</td>\n",
       "      <td>0.9978</td>\n",
       "      <td>3.51</td>\n",
       "      <td>0.56</td>\n",
       "      <td>9.4</td>\n",
       "      <td>5</td>\n",
       "      <td>1</td>\n",
       "    </tr>\n",
       "  </tbody>\n",
       "</table>\n",
       "</div>"
      ],
      "text/plain": [
       "   fixed_acidity  volatile_acidity  citric_acid  residual_sugar  chlorides  \\\n",
       "0            7.4              0.70         0.00             1.9      0.076   \n",
       "1            7.8              0.88         0.00             2.6      0.098   \n",
       "2            7.8              0.76         0.04             2.3      0.092   \n",
       "3           11.2              0.28         0.56             1.9      0.075   \n",
       "4            7.4              0.70         0.00             1.9      0.076   \n",
       "\n",
       "   free_sulfur_dioxide  total_sulfur_dioxide  density    pH  sulphates  \\\n",
       "0                 11.0                  34.0   0.9978  3.51       0.56   \n",
       "1                 25.0                  67.0   0.9968  3.20       0.68   \n",
       "2                 15.0                  54.0   0.9970  3.26       0.65   \n",
       "3                 17.0                  60.0   0.9980  3.16       0.58   \n",
       "4                 11.0                  34.0   0.9978  3.51       0.56   \n",
       "\n",
       "   alcohol  quality  red_wine  \n",
       "0      9.4        5         1  \n",
       "1      9.8        5         1  \n",
       "2      9.8        5         1  \n",
       "3      9.8        6         1  \n",
       "4      9.4        5         1  "
      ]
     },
     "execution_count": 17,
     "metadata": {},
     "output_type": "execute_result"
    }
   ],
   "source": [
    "from sklearn import grid_search, datasets\n",
    "from \n",
    "from sklearn.linear_model import LinearRegression, Lasso\n",
    "from sklearn.cross_validation import cross_val_score as CVS\n",
    "import matplotlib.pyplot as plt\n",
    "import pandas as pd, patsy\n",
    "import numpy as np\n",
    "import math as m\n",
    "\n",
    "from pprint import pprint\n",
    "wine_path = '/Users/tlee010/desktop/dsi-sf-2-timdavidlee/datasets/wine_quality/winequality_merged.csv'\n",
    "wine = pd.read_csv(wine_path)\n",
    "pprint(wine.columns.values)\n",
    "columns_rename = { x: x.replace(' ','_') for x in wine.columns.values}\n",
    "print columns_rename\n",
    "wine.rename(columns = columns_rename, inplace=True)\n",
    "wine.head()\n"
   ]
  },
  {
   "cell_type": "code",
   "execution_count": 38,
   "metadata": {
    "collapsed": false
   },
   "outputs": [
    {
     "name": "stdout",
     "output_type": "stream",
     "text": [
      "quality ~ fixed_acidity + volatile_acidity + citric_acid + residual_sugar + chlorides + free_sulfur_dioxide + total_sulfur_dioxide + density + pH + sulphates + alcohol + quality + red_wine\n",
      "   Intercept  fixed_acidity  volatile_acidity  citric_acid  residual_sugar  \\\n",
      "0        0.0       0.142473          2.188833    -2.192833       -0.744778   \n",
      "1        0.0       0.451036          3.282235    -2.192833       -0.597640   \n",
      "2        0.0       0.451036          2.553300    -1.917553       -0.660699   \n",
      "\n",
      "   chlorides  free_sulfur_dioxide  total_sulfur_dioxide   density        pH  \\\n",
      "0   0.569958            -1.100140             -1.446359  1.034993  1.813090   \n",
      "1   1.197975            -0.311320             -0.862469  0.701486 -0.115073   \n",
      "2   1.026697            -0.874763             -1.092486  0.768188  0.258120   \n",
      "\n",
      "   sulphates   alcohol  quality  red_wine  \n",
      "0   0.193097 -0.915464 -0.93723   1.75019  \n",
      "1   0.999579 -0.580068 -0.93723   1.75019  \n",
      "2   0.797958 -0.580068 -0.93723   1.75019  \n",
      "GridSearchCV(cv=10, error_score='raise',\n",
      "       estimator=Lasso(alpha=1.0, copy_X=True, fit_intercept=True, max_iter=1000,\n",
      "   normalize=False, positive=False, precompute=False, random_state=None,\n",
      "   selection='cyclic', tol=0.0001, warm_start=False),\n",
      "       fit_params={}, iid=True, n_jobs=1,\n",
      "       param_grid={'normalize': [True, False], 'alpha': array([  1.00000e-04,   2.63665e-04,   6.95193e-04,   1.83298e-03,\n",
      "         4.83293e-03,   1.27427e-02,   3.35982e-02,   8.85867e-02,\n",
      "         2.33572e-01,   6.15848e-01,   1.62378e+00,   4.28133e+00,\n",
      "         1.12884e+01,   2.97635e+01,   7.84760e+01,   2.06914e+02,\n",
      "         5.45559e+02,   1.43845e+03,   3.79269e+03,   1.00000e+04]), 'fit_intercept': [True, False]},\n",
      "       pre_dispatch='2*n_jobs', refit=True, scoring=None, verbose=0)\n",
      "--------------- BEST ESTIMATOR ---------------------\n",
      "Lasso(alpha=0.0001, copy_X=True, fit_intercept=True, max_iter=1000,\n",
      "   normalize=False, positive=False, precompute=False, random_state=None,\n",
      "   selection='cyclic', tol=0.0001, warm_start=False)\n",
      "0.999999986405\n"
     ]
    }
   ],
   "source": [
    "formula = 'quality ~ ' + ' + '.join(wine.columns)\n",
    "print formula\n",
    "y, x = patsy.dmatrices(formula, data=wine, return_type = \"dataframe\")\n",
    "\n",
    "from sklearn.preprocessing import StandardScaler\n",
    "\n",
    "scalar = StandardScaler()\n",
    "Columns = x.columns\n",
    "x[Columns] = scalar.fit_transform(x[Columns])\n",
    "print x.head(3)\n",
    "\n",
    "test_alpha = np.logspace(start=-4,stop=4,num=20,base=10)\n",
    "\n",
    "\n",
    "lasso = Lasso()\n",
    "search_parameters = {\n",
    "    'alpha':  test_alpha\n",
    "    ,'fit_intercept': [True, False]\n",
    "    ,'normalize':[True, False]\n",
    "}\n",
    "\n",
    "# Initialize gridsearch\n",
    "estimator = grid_search.GridSearchCV(lasso, search_parameters, cv=10)\n",
    "\n",
    "# Fit some data!\n",
    "results = estimator.fit(x, y)\n",
    "print results\n",
    "print '--------------- BEST ESTIMATOR ---------------------'\n",
    "print results.best_estimator_\n",
    "print results.best_score_\n",
    "\n",
    "plot_x = []\n",
    "plot_y = []\n",
    "for x in results.grid_scores_:\n",
    "    plot_y.append(x[1])\n",
    "    plot_x.append(m.log(x[0]['alpha'],10))\n",
    "\n",
    "npplotx = np.array(plot_x)\n",
    "npploty = np.array(plot_y)\n"
   ]
  },
  {
   "cell_type": "code",
   "execution_count": 39,
   "metadata": {
    "collapsed": false
   },
   "outputs": [
    {
     "data": {
      "text/plain": [
       "<matplotlib.collections.PathCollection at 0x11f702f10>"
      ]
     },
     "execution_count": 39,
     "metadata": {},
     "output_type": "execute_result"
    },
    {
     "data": {
      "image/png": "[encoded data removed]",
      "text/plain": [
       "<matplotlib.figure.Figure at 0x11f078850>"
      ]
     },
     "metadata": {},
     "output_type": "display_data"
    }
   ],
   "source": [
    "import math\n",
    "#print plot_x, plot_y\n",
    "plotdf = pd.DataFrame( {'alpha': npplotx, 'score': npploty})\n",
    "%matplotlib inline\n",
    "plt.scatter(plotdf.alpha, plotdf.score)\n"
   ]
  },
  {
   "cell_type": "markdown",
   "metadata": {},
   "source": [
    "> _Don't feel like you need to tackle these in any particular order!  The coef / plotting challenge is actually pretty tricky._"
   ]
  },
  {
   "cell_type": "markdown",
   "metadata": {},
   "source": [
    "## Bonus Challenge #1\n",
    "Figure out how to plot the impact of your score given the range of parameters used."
   ]
  },
  {
   "cell_type": "code",
   "execution_count": 58,
   "metadata": {
    "collapsed": false
   },
   "outputs": [
    {
     "name": "stdout",
     "output_type": "stream",
     "text": [
      "GridSearchCV(cv=5, error_score='raise',\n",
      "       estimator=Lasso(alpha=1.0, copy_X=True, fit_intercept=True, max_iter=1000,\n",
      "   normalize=False, positive=False, precompute=False, random_state=None,\n",
      "   selection='cyclic', tol=0.0001, warm_start=False),\n",
      "       fit_params={}, iid=True, n_jobs=1,\n",
      "       param_grid={'normalize': [True, False], 'alpha': array([  1.00000e-06,   1.00000e-05,   1.00000e-04,   1.00000e-03,\n",
      "         1.00000e-02,   1.00000e-01,   1.00000e+00,   1.00000e+01,\n",
      "         1.00000e+02,   1.00000e+03,   1.00000e+04,   1.00000e+05,\n",
      "         1.00000e+06]), 'fit_intercept': [True, False]},\n",
      "       pre_dispatch='2*n_jobs', refit=True, scoring=None, verbose=0)\n",
      "--------------- BEST ESTIMATOR ---------------------\n",
      "Lasso(alpha=0.001, copy_X=True, fit_intercept=True, max_iter=1000,\n",
      "   normalize=True, positive=False, precompute=False, random_state=None,\n",
      "   selection='cyclic', tol=0.0001, warm_start=False)\n",
      "0.00943737109217\n"
     ]
    }
   ],
   "source": [
    "\n"
   ]
  },
  {
   "cell_type": "markdown",
   "metadata": {},
   "source": [
    "## Bonus Challenge #2\n",
    "\n",
    "Investigate the effect of coefficients given the range of alphas used, in addition to scores.  You might try to plot a few of these within a range of parameters used.  How can you evaluate this?  There is more than one way.\n"
   ]
  },
  {
   "cell_type": "code",
   "execution_count": 61,
   "metadata": {
    "collapsed": false
   },
   "outputs": [
    {
     "name": "stdout",
     "output_type": "stream",
     "text": [
      "{9.9999999999999995e-07: array([-0.22300432,  0.07281332,  0.01524277,  0.02923753,  0.03055007]),\n",
      " 4.2813323987193961e-06: array([-0.22259372,  0.07279919,  0.01525206,  0.02921341,  0.03054357]),\n",
      " 1.8329807108324375e-05: array([-0.22084059,  0.07273841,  0.01529167,  0.02910993,  0.03051557]),\n",
      " 7.8475997035146064e-05: array([-0.21342722,  0.07247337,  0.01545792,  0.02866461,  0.0303926 ]),\n",
      " 0.00033598182862837811: array([-0.18331778,  0.07124893,  0.01610946,  0.02670802,  0.02980942]),\n",
      " 0.0014384498882876629: array([-0.0842873 ,  0.06436613,  0.01779515,  0.01744912,  0.02627652]),\n",
      " 0.0061584821106602603: array([-0.06262462,  0.0179932 ,  0.00554067, -0.03194548, -0.00546724]),\n",
      " 0.026366508987303555: array([-0.15499667, -0.01315125, -0.00779557, -0.08873227, -0.04283888]),\n",
      " 0.11288378916846883: array([-5.0369714 , -0.28651176, -0.22313139, -0.52736848, -0.58889777]),\n",
      " 0.48329302385717521: array([-5.74292222, -1.076458  , -0.87354526, -1.4829389 , -1.98150378]),\n",
      " 2.0691380811147901: array([-4.43126501, -1.24537829, -0.89256041, -1.82062288, -2.60374693]),\n",
      " 8.8586679041008143: array([-1.62678169, -3.37443363, -2.69868091, -4.62810981, -6.51624181]),\n",
      " 37.92690190732246: array([-41.72978061, -33.14760501, -34.76002141, -35.50811794, -43.99902685]),\n",
      " 162.37767391887175: array([-48.44167869, -40.55832624, -42.0426663 , -42.75934818, -53.83732496]),\n",
      " 695.1927961775591: array([-48.44167869, -40.55832624, -42.0426663 , -42.75934818, -53.83732496]),\n",
      " 2976.3514416313133: array([-48.44167869, -40.55832624, -42.0426663 , -42.75934818, -53.83732496]),\n",
      " 12742.749857031322: array([-48.44167869, -40.55832624, -42.0426663 , -42.75934818, -53.83732496]),\n",
      " 54555.947811685146: array([-48.44167869, -40.55832624, -42.0426663 , -42.75934818, -53.83732496]),\n",
      " 233572.14690901214: array([-48.44167869, -40.55832624, -42.0426663 , -42.75934818, -53.83732496]),\n",
      " 1000000.0: array([-48.44167869, -40.55832624, -42.0426663 , -42.75934818, -53.83732496])}\n"
     ]
    },
    {
     "data": {
      "text/html": [
       "<div>\n",
       "<table border=\"1\" class=\"dataframe\">\n",
       "  <thead>\n",
       "    <tr style=\"text-align: right;\">\n",
       "      <th></th>\n",
       "      <th>1e-06</th>\n",
       "      <th>4.28133239872e-06</th>\n",
       "      <th>1.83298071083e-05</th>\n",
       "      <th>7.84759970351e-05</th>\n",
       "      <th>0.000335981828628</th>\n",
       "      <th>0.00143844988829</th>\n",
       "      <th>0.00615848211066</th>\n",
       "      <th>0.0263665089873</th>\n",
       "      <th>0.112883789168</th>\n",
       "      <th>0.483293023857</th>\n",
       "      <th>2.06913808111</th>\n",
       "      <th>8.8586679041</th>\n",
       "      <th>37.9269019073</th>\n",
       "      <th>162.377673919</th>\n",
       "      <th>695.192796178</th>\n",
       "      <th>2976.35144163</th>\n",
       "      <th>12742.749857</th>\n",
       "      <th>54555.9478117</th>\n",
       "      <th>233572.146909</th>\n",
       "      <th>1000000.0</th>\n",
       "    </tr>\n",
       "  </thead>\n",
       "  <tbody>\n",
       "    <tr>\n",
       "      <th>0</th>\n",
       "      <td>-0.223004</td>\n",
       "      <td>-0.222594</td>\n",
       "      <td>-0.220841</td>\n",
       "      <td>-0.213427</td>\n",
       "      <td>-0.183318</td>\n",
       "      <td>-0.084287</td>\n",
       "      <td>-0.062625</td>\n",
       "      <td>-0.154997</td>\n",
       "      <td>-5.036971</td>\n",
       "      <td>-5.742922</td>\n",
       "      <td>-4.431265</td>\n",
       "      <td>-1.626782</td>\n",
       "      <td>-41.729781</td>\n",
       "      <td>-48.441679</td>\n",
       "      <td>-48.441679</td>\n",
       "      <td>-48.441679</td>\n",
       "      <td>-48.441679</td>\n",
       "      <td>-48.441679</td>\n",
       "      <td>-48.441679</td>\n",
       "      <td>-48.441679</td>\n",
       "    </tr>\n",
       "    <tr>\n",
       "      <th>1</th>\n",
       "      <td>0.072813</td>\n",
       "      <td>0.072799</td>\n",
       "      <td>0.072738</td>\n",
       "      <td>0.072473</td>\n",
       "      <td>0.071249</td>\n",
       "      <td>0.064366</td>\n",
       "      <td>0.017993</td>\n",
       "      <td>-0.013151</td>\n",
       "      <td>-0.286512</td>\n",
       "      <td>-1.076458</td>\n",
       "      <td>-1.245378</td>\n",
       "      <td>-3.374434</td>\n",
       "      <td>-33.147605</td>\n",
       "      <td>-40.558326</td>\n",
       "      <td>-40.558326</td>\n",
       "      <td>-40.558326</td>\n",
       "      <td>-40.558326</td>\n",
       "      <td>-40.558326</td>\n",
       "      <td>-40.558326</td>\n",
       "      <td>-40.558326</td>\n",
       "    </tr>\n",
       "    <tr>\n",
       "      <th>2</th>\n",
       "      <td>0.015243</td>\n",
       "      <td>0.015252</td>\n",
       "      <td>0.015292</td>\n",
       "      <td>0.015458</td>\n",
       "      <td>0.016109</td>\n",
       "      <td>0.017795</td>\n",
       "      <td>0.005541</td>\n",
       "      <td>-0.007796</td>\n",
       "      <td>-0.223131</td>\n",
       "      <td>-0.873545</td>\n",
       "      <td>-0.892560</td>\n",
       "      <td>-2.698681</td>\n",
       "      <td>-34.760021</td>\n",
       "      <td>-42.042666</td>\n",
       "      <td>-42.042666</td>\n",
       "      <td>-42.042666</td>\n",
       "      <td>-42.042666</td>\n",
       "      <td>-42.042666</td>\n",
       "      <td>-42.042666</td>\n",
       "      <td>-42.042666</td>\n",
       "    </tr>\n",
       "    <tr>\n",
       "      <th>3</th>\n",
       "      <td>0.029238</td>\n",
       "      <td>0.029213</td>\n",
       "      <td>0.029110</td>\n",
       "      <td>0.028665</td>\n",
       "      <td>0.026708</td>\n",
       "      <td>0.017449</td>\n",
       "      <td>-0.031945</td>\n",
       "      <td>-0.088732</td>\n",
       "      <td>-0.527368</td>\n",
       "      <td>-1.482939</td>\n",
       "      <td>-1.820623</td>\n",
       "      <td>-4.628110</td>\n",
       "      <td>-35.508118</td>\n",
       "      <td>-42.759348</td>\n",
       "      <td>-42.759348</td>\n",
       "      <td>-42.759348</td>\n",
       "      <td>-42.759348</td>\n",
       "      <td>-42.759348</td>\n",
       "      <td>-42.759348</td>\n",
       "      <td>-42.759348</td>\n",
       "    </tr>\n",
       "    <tr>\n",
       "      <th>4</th>\n",
       "      <td>0.030550</td>\n",
       "      <td>0.030544</td>\n",
       "      <td>0.030516</td>\n",
       "      <td>0.030393</td>\n",
       "      <td>0.029809</td>\n",
       "      <td>0.026277</td>\n",
       "      <td>-0.005467</td>\n",
       "      <td>-0.042839</td>\n",
       "      <td>-0.588898</td>\n",
       "      <td>-1.981504</td>\n",
       "      <td>-2.603747</td>\n",
       "      <td>-6.516242</td>\n",
       "      <td>-43.999027</td>\n",
       "      <td>-53.837325</td>\n",
       "      <td>-53.837325</td>\n",
       "      <td>-53.837325</td>\n",
       "      <td>-53.837325</td>\n",
       "      <td>-53.837325</td>\n",
       "      <td>-53.837325</td>\n",
       "      <td>-53.837325</td>\n",
       "    </tr>\n",
       "  </tbody>\n",
       "</table>\n",
       "</div>"
      ],
      "text/plain": [
       "   0.000001        0.000004        0.000018        0.000078        \\\n",
       "0       -0.223004       -0.222594       -0.220841       -0.213427   \n",
       "1        0.072813        0.072799        0.072738        0.072473   \n",
       "2        0.015243        0.015252        0.015292        0.015458   \n",
       "3        0.029238        0.029213        0.029110        0.028665   \n",
       "4        0.030550        0.030544        0.030516        0.030393   \n",
       "\n",
       "   0.000336        0.001438        0.006158        0.026367        \\\n",
       "0       -0.183318       -0.084287       -0.062625       -0.154997   \n",
       "1        0.071249        0.064366        0.017993       -0.013151   \n",
       "2        0.016109        0.017795        0.005541       -0.007796   \n",
       "3        0.026708        0.017449       -0.031945       -0.088732   \n",
       "4        0.029809        0.026277       -0.005467       -0.042839   \n",
       "\n",
       "   0.112884        0.483293        2.069138        8.858668        \\\n",
       "0       -5.036971       -5.742922       -4.431265       -1.626782   \n",
       "1       -0.286512       -1.076458       -1.245378       -3.374434   \n",
       "2       -0.223131       -0.873545       -0.892560       -2.698681   \n",
       "3       -0.527368       -1.482939       -1.820623       -4.628110   \n",
       "4       -0.588898       -1.981504       -2.603747       -6.516242   \n",
       "\n",
       "   37.926902       162.377674      695.192796      2976.351442     \\\n",
       "0      -41.729781      -48.441679      -48.441679      -48.441679   \n",
       "1      -33.147605      -40.558326      -40.558326      -40.558326   \n",
       "2      -34.760021      -42.042666      -42.042666      -42.042666   \n",
       "3      -35.508118      -42.759348      -42.759348      -42.759348   \n",
       "4      -43.999027      -53.837325      -53.837325      -53.837325   \n",
       "\n",
       "   12742.749857    54555.947812    233572.146909   1000000.000000  \n",
       "0      -48.441679      -48.441679      -48.441679      -48.441679  \n",
       "1      -40.558326      -40.558326      -40.558326      -40.558326  \n",
       "2      -42.042666      -42.042666      -42.042666      -42.042666  \n",
       "3      -42.759348      -42.759348      -42.759348      -42.759348  \n",
       "4      -53.837325      -53.837325      -53.837325      -53.837325  "
      ]
     },
     "execution_count": 61,
     "metadata": {},
     "output_type": "execute_result"
    }
   ],
   "source": [
    "master_scores = {}\n",
    "for i_alpha in np.logspace(-6,6,20,10):\n",
    "    lasso = Lasso(alpha = i_alpha, fit_intercept = False, normalize = True)\n",
    "    lassoml = lasso.fit(x,y)\n",
    "    scores = CVS(lasso,x,y, cv =5)\n",
    "    master_scores[i_alpha] = scores\n",
    "\n",
    "pprint(master_scores)\n",
    "\n",
    "mscore = pd.DataFrame(master_scores)\n",
    "mscore.head()"
   ]
  },
  {
   "cell_type": "markdown",
   "metadata": {},
   "source": [
    "## Bonus Challenge #3\n",
    "\n",
    "Attempt the same exercize using ridge and/or elasticnet, adjusting parameters for appropriate range/scale.  Also, attempt scaling."
   ]
  },
  {
   "cell_type": "code",
   "execution_count": null,
   "metadata": {
    "collapsed": true
   },
   "outputs": [],
   "source": []
  }
 ],
 "metadata": {
  "anaconda-cloud": {},
  "kernelspec": {
   "display_name": "Python [dsi]",
   "language": "python",
   "name": "Python [dsi]"
  },
  "language_info": {
   "codemirror_mode": {
    "name": "ipython",
    "version": 2
   },
   "file_extension": ".py",
   "mimetype": "text/x-python",
   "name": "python",
   "nbconvert_exporter": "python",
   "pygments_lexer": "ipython2",
   "version": "2.7.12"
  }
 },
 "nbformat": 4,
 "nbformat_minor": 0
}
