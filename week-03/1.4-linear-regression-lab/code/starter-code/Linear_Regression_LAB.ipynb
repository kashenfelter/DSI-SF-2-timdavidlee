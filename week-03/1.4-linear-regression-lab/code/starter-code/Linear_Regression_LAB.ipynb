{
 "cells": [
  {
   "cell_type": "markdown",
   "metadata": {},
   "source": [
    "# Linear Regression Practice\n",
    "\n",
    "In this lab we are going to use a 1994 dataset that has detailed prices on items sold at over 400 Burguer King, Wendy's, KFC and Roy Roger restaurants in New Jersey and Pennsivania.\n",
    "\n",
    "Roy Roger https://en.wikipedia.org/wiki/Roy_Rogers_Restaurants\n",
    "\n",
    "\n",
    "The data set has zip-code level data on various items prices, characterisitics of the zip code population.\n",
    "\n",
    "The idea with this exercise is to see wheter fast-food restaurants charge higher prices in areas with a larger concentration of African Americans. "
   ]
  },
  {
   "cell_type": "markdown",
   "metadata": {},
   "source": [
    "### Data Set Characteristics:  \n",
    "K. Graddy (1997), \"Do Fast-Food Chains Price Discriminate on the Race and Income Characteristics of an Area?\" Journal of Business and Economic Statistics 15, 391-401.\n",
    "http://people.brandeis.edu/~kgraddy/published%20papers/GraddyK_jbes1997.pdf\n",
    "\n",
    "    :Number of Instances: 410\n",
    "    \n",
    "    :Attribute Information\n",
    "    \n",
    "    psoda         price of medium soda, 1st wave\n",
    "    pfries        price of small fries, 1st wave\n",
    "    pentree       price entree (burger or chicken), 1st wave\n",
    "    wagest        starting wage, 1st wave\n",
    "    nmgrs         number of managers, 1st wave\n",
    "    nregs         number of registers, 1st wave\n",
    "    hrsopen       hours open, 1st wave\n",
    "    emp           number of employees, 1st wave\n",
    "    psoda2        price of medium soday, 2nd wave\n",
    "    pfries2       price of small fries, 2nd wave\n",
    "    pentree2      price entree, 2nd wave\n",
    "    wagest2       starting wage, 2nd wave\n",
    "    nmgrs2        number of managers, 2nd wave\n",
    "    nregs2        number of registers, 2nd wave\n",
    "    hrsopen2      hours open, 2nd wave\n",
    "    emp2          number of employees, 2nd wave\n",
    "    compown       =1 if company owned\n",
    "    chain         BK = 1, KFC = 2, Roy Rogers = 3, Wendy's = 4\n",
    "    density       population density, town\n",
    "    crmrte        crime rate, town\n",
    "    state         NJ = 1, PA = 2\n",
    "    prpblck       proportion black, zipcode\n",
    "    prppov        proportion in poverty, zipcode\n",
    "    prpncar       proportion no car, zipcode\n",
    "    hseval        median housing value, zipcode\n",
    "    nstores       number of stores, zipcode\n",
    "    income        median family income, zipcode\n",
    "    county        county label\n",
    "    lpsoda        log(psoda)\n",
    "    lpfries       log(pfries)\n",
    "    lhseval       log(hseval)\n",
    "    lincome       log(income)\n",
    "    ldensity      log(density)\n",
    "    NJ            =1 for New Jersey\n",
    "    BK            =1 if Burger King\n",
    "    KFC           =1 if Kentucky Fried Chicken\n",
    "    RR            =1 if Roy Rogers\n"
   ]
  },
  {
   "cell_type": "code",
   "execution_count": 1,
   "metadata": {
    "collapsed": true
   },
   "outputs": [],
   "source": [
    "# data modules\n",
    "import numpy as np\n",
    "import scipy.stats as stats\n",
    "import pandas as pd\n",
    "\n",
    "# plotting modules\n",
    "import matplotlib.pyplot as plt\n",
    "import seaborn as sns\n",
    "sns.set_style('whitegrid')\n",
    "\n",
    "# Stats/Regresions Packages\n",
    "from sklearn import linear_model\n",
    "from sklearn.metrics import mean_squared_error\n",
    "\n",
    "# make sure charts appear in the notebook:\n",
    "%matplotlib inline\n",
    "%config InlineBackend.figure_format ='retina'"
   ]
  },
  {
   "cell_type": "markdown",
   "metadata": {},
   "source": [
    "#### 1. Read the data, print the last 5 rows, perform EDA (missing values, data types, describe)"
   ]
  },
  {
   "cell_type": "code",
   "execution_count": 2,
   "metadata": {
    "collapsed": false
   },
   "outputs": [
    {
     "data": {
      "text/html": [
       "<div>\n",
       "<table border=\"1\" class=\"dataframe\">\n",
       "  <thead>\n",
       "    <tr style=\"text-align: right;\">\n",
       "      <th></th>\n",
       "      <th>psoda</th>\n",
       "      <th>pfries</th>\n",
       "      <th>pentree</th>\n",
       "      <th>wagest</th>\n",
       "      <th>nmgrs</th>\n",
       "      <th>nregs</th>\n",
       "      <th>hrsopen</th>\n",
       "      <th>emp</th>\n",
       "      <th>psoda2</th>\n",
       "      <th>pfries2</th>\n",
       "      <th>...</th>\n",
       "      <th>county</th>\n",
       "      <th>lpsoda</th>\n",
       "      <th>lpfries</th>\n",
       "      <th>lhseval</th>\n",
       "      <th>lincome</th>\n",
       "      <th>ldensity</th>\n",
       "      <th>NJ</th>\n",
       "      <th>BK</th>\n",
       "      <th>KFC</th>\n",
       "      <th>RR</th>\n",
       "    </tr>\n",
       "  </thead>\n",
       "  <tbody>\n",
       "    <tr>\n",
       "      <th>0</th>\n",
       "      <td>1.12</td>\n",
       "      <td>1.06</td>\n",
       "      <td>1.02</td>\n",
       "      <td>4.25</td>\n",
       "      <td>3.0</td>\n",
       "      <td>5.0</td>\n",
       "      <td>16.0</td>\n",
       "      <td>27.5</td>\n",
       "      <td>1.11</td>\n",
       "      <td>1.11</td>\n",
       "      <td>...</td>\n",
       "      <td>18</td>\n",
       "      <td>0.113329</td>\n",
       "      <td>0.058269</td>\n",
       "      <td>11.90699</td>\n",
       "      <td>10.70401</td>\n",
       "      <td>8.301521</td>\n",
       "      <td>1</td>\n",
       "      <td>0</td>\n",
       "      <td>0</td>\n",
       "      <td>1</td>\n",
       "    </tr>\n",
       "    <tr>\n",
       "      <th>1</th>\n",
       "      <td>1.06</td>\n",
       "      <td>0.91</td>\n",
       "      <td>0.95</td>\n",
       "      <td>4.75</td>\n",
       "      <td>3.0</td>\n",
       "      <td>3.0</td>\n",
       "      <td>16.5</td>\n",
       "      <td>21.5</td>\n",
       "      <td>1.05</td>\n",
       "      <td>0.89</td>\n",
       "      <td>...</td>\n",
       "      <td>18</td>\n",
       "      <td>0.058269</td>\n",
       "      <td>-0.094311</td>\n",
       "      <td>11.90699</td>\n",
       "      <td>10.70401</td>\n",
       "      <td>8.301521</td>\n",
       "      <td>1</td>\n",
       "      <td>1</td>\n",
       "      <td>0</td>\n",
       "      <td>0</td>\n",
       "    </tr>\n",
       "    <tr>\n",
       "      <th>2</th>\n",
       "      <td>1.06</td>\n",
       "      <td>0.91</td>\n",
       "      <td>0.98</td>\n",
       "      <td>4.25</td>\n",
       "      <td>3.0</td>\n",
       "      <td>5.0</td>\n",
       "      <td>18.0</td>\n",
       "      <td>30.0</td>\n",
       "      <td>1.05</td>\n",
       "      <td>0.94</td>\n",
       "      <td>...</td>\n",
       "      <td>12</td>\n",
       "      <td>0.058269</td>\n",
       "      <td>-0.094311</td>\n",
       "      <td>12.03884</td>\n",
       "      <td>10.62532</td>\n",
       "      <td>9.341369</td>\n",
       "      <td>1</td>\n",
       "      <td>1</td>\n",
       "      <td>0</td>\n",
       "      <td>0</td>\n",
       "    </tr>\n",
       "    <tr>\n",
       "      <th>3</th>\n",
       "      <td>1.12</td>\n",
       "      <td>1.02</td>\n",
       "      <td>1.06</td>\n",
       "      <td>5.00</td>\n",
       "      <td>4.0</td>\n",
       "      <td>5.0</td>\n",
       "      <td>16.0</td>\n",
       "      <td>27.5</td>\n",
       "      <td>1.15</td>\n",
       "      <td>1.05</td>\n",
       "      <td>...</td>\n",
       "      <td>10</td>\n",
       "      <td>0.113329</td>\n",
       "      <td>0.019803</td>\n",
       "      <td>12.05292</td>\n",
       "      <td>10.82707</td>\n",
       "      <td>9.029418</td>\n",
       "      <td>1</td>\n",
       "      <td>0</td>\n",
       "      <td>0</td>\n",
       "      <td>1</td>\n",
       "    </tr>\n",
       "    <tr>\n",
       "      <th>4</th>\n",
       "      <td>1.12</td>\n",
       "      <td>NaN</td>\n",
       "      <td>0.49</td>\n",
       "      <td>5.00</td>\n",
       "      <td>3.0</td>\n",
       "      <td>3.0</td>\n",
       "      <td>16.0</td>\n",
       "      <td>5.0</td>\n",
       "      <td>1.04</td>\n",
       "      <td>1.01</td>\n",
       "      <td>...</td>\n",
       "      <td>10</td>\n",
       "      <td>0.113329</td>\n",
       "      <td>NaN</td>\n",
       "      <td>12.42561</td>\n",
       "      <td>11.18840</td>\n",
       "      <td>6.579251</td>\n",
       "      <td>1</td>\n",
       "      <td>1</td>\n",
       "      <td>0</td>\n",
       "      <td>0</td>\n",
       "    </tr>\n",
       "  </tbody>\n",
       "</table>\n",
       "<p>5 rows × 37 columns</p>\n",
       "</div>"
      ],
      "text/plain": [
       "   psoda  pfries  pentree  wagest  nmgrs  nregs  hrsopen   emp  psoda2  \\\n",
       "0   1.12    1.06     1.02    4.25    3.0    5.0     16.0  27.5    1.11   \n",
       "1   1.06    0.91     0.95    4.75    3.0    3.0     16.5  21.5    1.05   \n",
       "2   1.06    0.91     0.98    4.25    3.0    5.0     18.0  30.0    1.05   \n",
       "3   1.12    1.02     1.06    5.00    4.0    5.0     16.0  27.5    1.15   \n",
       "4   1.12     NaN     0.49    5.00    3.0    3.0     16.0   5.0    1.04   \n",
       "\n",
       "   pfries2 ...  county    lpsoda   lpfries   lhseval   lincome  ldensity  NJ  \\\n",
       "0     1.11 ...      18  0.113329  0.058269  11.90699  10.70401  8.301521   1   \n",
       "1     0.89 ...      18  0.058269 -0.094311  11.90699  10.70401  8.301521   1   \n",
       "2     0.94 ...      12  0.058269 -0.094311  12.03884  10.62532  9.341369   1   \n",
       "3     1.05 ...      10  0.113329  0.019803  12.05292  10.82707  9.029418   1   \n",
       "4     1.01 ...      10  0.113329       NaN  12.42561  11.18840  6.579251   1   \n",
       "\n",
       "   BK  KFC  RR  \n",
       "0   0    0   1  \n",
       "1   1    0   0  \n",
       "2   1    0   0  \n",
       "3   0    0   1  \n",
       "4   1    0   0  \n",
       "\n",
       "[5 rows x 37 columns]"
      ]
     },
     "execution_count": 2,
     "metadata": {},
     "output_type": "execute_result"
    }
   ],
   "source": [
    "path_to_file = '/Users/tlee010/desktop/dsi-sf-2-timdavidlee/datasets/fast_food_chains/discrim.csv' ## Change it to your path\n",
    "fast_food = pd.read_csv(path_to_file)\n",
    "fast_food.head()"
   ]
  },
  {
   "cell_type": "markdown",
   "metadata": {},
   "source": [
    "#### 2. The variable/feature psoda has eight missing observations. Replace those missing observations with the average price of soda per chain ( you will have to find which chain is missing psoda values)"
   ]
  },
  {
   "cell_type": "code",
   "execution_count": 3,
   "metadata": {
    "collapsed": false
   },
   "outputs": [
    {
     "name": "stderr",
     "output_type": "stream",
     "text": [
      "/Users/tlee010/anaconda/lib/python2.7/site-packages/numpy/lib/function_base.py:3823: RuntimeWarning: Invalid value encountered in percentile\n",
      "  RuntimeWarning)\n"
     ]
    },
    {
     "data": {
      "text/html": [
       "<div>\n",
       "<table border=\"1\" class=\"dataframe\">\n",
       "  <thead>\n",
       "    <tr style=\"text-align: right;\">\n",
       "      <th></th>\n",
       "      <th>psoda</th>\n",
       "      <th>pfries</th>\n",
       "      <th>pentree</th>\n",
       "      <th>wagest</th>\n",
       "      <th>nmgrs</th>\n",
       "      <th>nregs</th>\n",
       "      <th>hrsopen</th>\n",
       "      <th>emp</th>\n",
       "      <th>psoda2</th>\n",
       "      <th>pfries2</th>\n",
       "      <th>...</th>\n",
       "      <th>county</th>\n",
       "      <th>lpsoda</th>\n",
       "      <th>lpfries</th>\n",
       "      <th>lhseval</th>\n",
       "      <th>lincome</th>\n",
       "      <th>ldensity</th>\n",
       "      <th>NJ</th>\n",
       "      <th>BK</th>\n",
       "      <th>KFC</th>\n",
       "      <th>RR</th>\n",
       "    </tr>\n",
       "  </thead>\n",
       "  <tbody>\n",
       "    <tr>\n",
       "      <th>count</th>\n",
       "      <td>410.000000</td>\n",
       "      <td>393.000000</td>\n",
       "      <td>398.000000</td>\n",
       "      <td>390.000000</td>\n",
       "      <td>404.000000</td>\n",
       "      <td>388.000000</td>\n",
       "      <td>410.000000</td>\n",
       "      <td>404.000000</td>\n",
       "      <td>388.000000</td>\n",
       "      <td>382.000000</td>\n",
       "      <td>...</td>\n",
       "      <td>410.000000</td>\n",
       "      <td>402.000000</td>\n",
       "      <td>393.000000</td>\n",
       "      <td>409.000000</td>\n",
       "      <td>409.000000</td>\n",
       "      <td>409.000000</td>\n",
       "      <td>410.000000</td>\n",
       "      <td>410.000000</td>\n",
       "      <td>410.000000</td>\n",
       "      <td>410.000000</td>\n",
       "    </tr>\n",
       "    <tr>\n",
       "      <th>mean</th>\n",
       "      <td>1.045437</td>\n",
       "      <td>0.921985</td>\n",
       "      <td>1.322186</td>\n",
       "      <td>4.615641</td>\n",
       "      <td>3.420297</td>\n",
       "      <td>3.608247</td>\n",
       "      <td>14.439024</td>\n",
       "      <td>17.621906</td>\n",
       "      <td>1.044948</td>\n",
       "      <td>0.941230</td>\n",
       "      <td>...</td>\n",
       "      <td>13.658537</td>\n",
       "      <td>0.040321</td>\n",
       "      <td>-0.087813</td>\n",
       "      <td>11.828533</td>\n",
       "      <td>10.719937</td>\n",
       "      <td>7.958750</td>\n",
       "      <td>0.807317</td>\n",
       "      <td>0.417073</td>\n",
       "      <td>0.195122</td>\n",
       "      <td>0.241463</td>\n",
       "    </tr>\n",
       "    <tr>\n",
       "      <th>std</th>\n",
       "      <td>0.087976</td>\n",
       "      <td>0.105881</td>\n",
       "      <td>0.643085</td>\n",
       "      <td>0.347015</td>\n",
       "      <td>1.018408</td>\n",
       "      <td>1.243540</td>\n",
       "      <td>2.809987</td>\n",
       "      <td>9.423264</td>\n",
       "      <td>0.093567</td>\n",
       "      <td>0.109304</td>\n",
       "      <td>...</td>\n",
       "      <td>8.045439</td>\n",
       "      <td>0.084730</td>\n",
       "      <td>0.115152</td>\n",
       "      <td>0.389349</td>\n",
       "      <td>0.284479</td>\n",
       "      <td>0.995858</td>\n",
       "      <td>0.394888</td>\n",
       "      <td>0.493678</td>\n",
       "      <td>0.396779</td>\n",
       "      <td>0.428493</td>\n",
       "    </tr>\n",
       "    <tr>\n",
       "      <th>min</th>\n",
       "      <td>0.730000</td>\n",
       "      <td>0.670000</td>\n",
       "      <td>0.490000</td>\n",
       "      <td>4.250000</td>\n",
       "      <td>1.000000</td>\n",
       "      <td>1.000000</td>\n",
       "      <td>7.000000</td>\n",
       "      <td>3.000000</td>\n",
       "      <td>0.410000</td>\n",
       "      <td>0.690000</td>\n",
       "      <td>...</td>\n",
       "      <td>1.000000</td>\n",
       "      <td>-0.314711</td>\n",
       "      <td>-0.400477</td>\n",
       "      <td>10.431170</td>\n",
       "      <td>9.675268</td>\n",
       "      <td>5.093750</td>\n",
       "      <td>0.000000</td>\n",
       "      <td>0.000000</td>\n",
       "      <td>0.000000</td>\n",
       "      <td>0.000000</td>\n",
       "    </tr>\n",
       "    <tr>\n",
       "      <th>25%</th>\n",
       "      <td>0.982500</td>\n",
       "      <td>NaN</td>\n",
       "      <td>NaN</td>\n",
       "      <td>NaN</td>\n",
       "      <td>NaN</td>\n",
       "      <td>NaN</td>\n",
       "      <td>12.000000</td>\n",
       "      <td>NaN</td>\n",
       "      <td>NaN</td>\n",
       "      <td>NaN</td>\n",
       "      <td>...</td>\n",
       "      <td>6.000000</td>\n",
       "      <td>NaN</td>\n",
       "      <td>NaN</td>\n",
       "      <td>NaN</td>\n",
       "      <td>NaN</td>\n",
       "      <td>NaN</td>\n",
       "      <td>1.000000</td>\n",
       "      <td>0.000000</td>\n",
       "      <td>0.000000</td>\n",
       "      <td>0.000000</td>\n",
       "    </tr>\n",
       "    <tr>\n",
       "      <th>50%</th>\n",
       "      <td>1.060000</td>\n",
       "      <td>NaN</td>\n",
       "      <td>NaN</td>\n",
       "      <td>NaN</td>\n",
       "      <td>NaN</td>\n",
       "      <td>NaN</td>\n",
       "      <td>15.500000</td>\n",
       "      <td>NaN</td>\n",
       "      <td>NaN</td>\n",
       "      <td>NaN</td>\n",
       "      <td>...</td>\n",
       "      <td>14.000000</td>\n",
       "      <td>NaN</td>\n",
       "      <td>NaN</td>\n",
       "      <td>NaN</td>\n",
       "      <td>NaN</td>\n",
       "      <td>NaN</td>\n",
       "      <td>1.000000</td>\n",
       "      <td>0.000000</td>\n",
       "      <td>0.000000</td>\n",
       "      <td>0.000000</td>\n",
       "    </tr>\n",
       "    <tr>\n",
       "      <th>75%</th>\n",
       "      <td>1.090000</td>\n",
       "      <td>NaN</td>\n",
       "      <td>NaN</td>\n",
       "      <td>NaN</td>\n",
       "      <td>NaN</td>\n",
       "      <td>NaN</td>\n",
       "      <td>16.000000</td>\n",
       "      <td>NaN</td>\n",
       "      <td>NaN</td>\n",
       "      <td>NaN</td>\n",
       "      <td>...</td>\n",
       "      <td>20.000000</td>\n",
       "      <td>NaN</td>\n",
       "      <td>NaN</td>\n",
       "      <td>NaN</td>\n",
       "      <td>NaN</td>\n",
       "      <td>NaN</td>\n",
       "      <td>1.000000</td>\n",
       "      <td>1.000000</td>\n",
       "      <td>0.000000</td>\n",
       "      <td>0.000000</td>\n",
       "    </tr>\n",
       "    <tr>\n",
       "      <th>max</th>\n",
       "      <td>1.490000</td>\n",
       "      <td>1.270000</td>\n",
       "      <td>3.950000</td>\n",
       "      <td>5.750000</td>\n",
       "      <td>10.000000</td>\n",
       "      <td>8.000000</td>\n",
       "      <td>24.000000</td>\n",
       "      <td>80.000000</td>\n",
       "      <td>1.400000</td>\n",
       "      <td>1.370000</td>\n",
       "      <td>...</td>\n",
       "      <td>29.000000</td>\n",
       "      <td>0.398776</td>\n",
       "      <td>0.239017</td>\n",
       "      <td>13.067700</td>\n",
       "      <td>11.824290</td>\n",
       "      <td>10.631930</td>\n",
       "      <td>1.000000</td>\n",
       "      <td>1.000000</td>\n",
       "      <td>1.000000</td>\n",
       "      <td>1.000000</td>\n",
       "    </tr>\n",
       "  </tbody>\n",
       "</table>\n",
       "<p>8 rows × 37 columns</p>\n",
       "</div>"
      ],
      "text/plain": [
       "            psoda      pfries     pentree      wagest       nmgrs       nregs  \\\n",
       "count  410.000000  393.000000  398.000000  390.000000  404.000000  388.000000   \n",
       "mean     1.045437    0.921985    1.322186    4.615641    3.420297    3.608247   \n",
       "std      0.087976    0.105881    0.643085    0.347015    1.018408    1.243540   \n",
       "min      0.730000    0.670000    0.490000    4.250000    1.000000    1.000000   \n",
       "25%      0.982500         NaN         NaN         NaN         NaN         NaN   \n",
       "50%      1.060000         NaN         NaN         NaN         NaN         NaN   \n",
       "75%      1.090000         NaN         NaN         NaN         NaN         NaN   \n",
       "max      1.490000    1.270000    3.950000    5.750000   10.000000    8.000000   \n",
       "\n",
       "          hrsopen         emp      psoda2     pfries2     ...          county  \\\n",
       "count  410.000000  404.000000  388.000000  382.000000     ...      410.000000   \n",
       "mean    14.439024   17.621906    1.044948    0.941230     ...       13.658537   \n",
       "std      2.809987    9.423264    0.093567    0.109304     ...        8.045439   \n",
       "min      7.000000    3.000000    0.410000    0.690000     ...        1.000000   \n",
       "25%     12.000000         NaN         NaN         NaN     ...        6.000000   \n",
       "50%     15.500000         NaN         NaN         NaN     ...       14.000000   \n",
       "75%     16.000000         NaN         NaN         NaN     ...       20.000000   \n",
       "max     24.000000   80.000000    1.400000    1.370000     ...       29.000000   \n",
       "\n",
       "           lpsoda     lpfries     lhseval     lincome    ldensity          NJ  \\\n",
       "count  402.000000  393.000000  409.000000  409.000000  409.000000  410.000000   \n",
       "mean     0.040321   -0.087813   11.828533   10.719937    7.958750    0.807317   \n",
       "std      0.084730    0.115152    0.389349    0.284479    0.995858    0.394888   \n",
       "min     -0.314711   -0.400477   10.431170    9.675268    5.093750    0.000000   \n",
       "25%           NaN         NaN         NaN         NaN         NaN    1.000000   \n",
       "50%           NaN         NaN         NaN         NaN         NaN    1.000000   \n",
       "75%           NaN         NaN         NaN         NaN         NaN    1.000000   \n",
       "max      0.398776    0.239017   13.067700   11.824290   10.631930    1.000000   \n",
       "\n",
       "               BK         KFC          RR  \n",
       "count  410.000000  410.000000  410.000000  \n",
       "mean     0.417073    0.195122    0.241463  \n",
       "std      0.493678    0.396779    0.428493  \n",
       "min      0.000000    0.000000    0.000000  \n",
       "25%      0.000000    0.000000    0.000000  \n",
       "50%      0.000000    0.000000    0.000000  \n",
       "75%      1.000000    0.000000    0.000000  \n",
       "max      1.000000    1.000000    1.000000  \n",
       "\n",
       "[8 rows x 37 columns]"
      ]
     },
     "execution_count": 3,
     "metadata": {},
     "output_type": "execute_result"
    }
   ],
   "source": [
    "#print fast_food.isnull().sum()\n",
    "\n",
    "# need to dump 8 values\n",
    "def map_avg_psoda_values(x):\n",
    "    print '------'\n",
    "    local_mean = x.mean()\n",
    "    x.fillna(local_mean)\n",
    "    return x\n",
    "#     if x.isnull():\n",
    "#         print x\n",
    "#fast_food.groupby('chain')[['psoda']].apply(map_avg_psoda_values)\n",
    "\n",
    "fast_food[\"psoda\"] = fast_food.groupby(\"chain\").transform(lambda x: x.fillna(x.mean()))\n",
    "fast_food.describe()"
   ]
  },
  {
   "cell_type": "markdown",
   "metadata": {},
   "source": [
    "#### 3. In one graph, plot the distribution of 'psoda' for each chain (4 histograms in one graph) add different colors per histogram, label each histogram, locate the legend on the 'upper left' side of your chart. Are there any similarities or differences in their distributions?\n",
    "\n"
   ]
  },
  {
   "cell_type": "code",
   "execution_count": 4,
   "metadata": {
    "collapsed": false
   },
   "outputs": [
    {
     "data": {
      "image/png": "[encoded data removed]",
      "text/plain": [
       "<matplotlib.figure.Figure at 0x119e191d0>"
      ]
     },
     "metadata": {
      "image/png": {
       "height": 370,
       "width": 597
      }
     },
     "output_type": "display_data"
    }
   ],
   "source": [
    "fig = plt.figure(figsize=(10,6))\n",
    "fast_food[fast_food['chain']==1]['psoda'].hist(color='r', label='Price of Soda, BK')\n",
    "fast_food[fast_food['chain']==2]['psoda'].hist(color='g', label='Price of Soda, KFC')\n",
    "fast_food[fast_food['chain']==3]['psoda'].hist(color='y', label='Price of Soda, Roy Rogers')\n",
    "fast_food[fast_food['chain']==4]['psoda'].hist(color='b', label= \"Price of Soda, Wendy's\")\n",
    "\n",
    "plt.legend(loc='upper left')\n",
    "plt.show()"
   ]
  },
  {
   "cell_type": "markdown",
   "metadata": {},
   "source": [
    "#### 4. The variable income has one missing value. First, identify to what state \"NJ=1 or PA=2\" this missing value belongs to. Then drop the \"row \" that corresponds to this missing value fast_food.drop(\"row_number\", axis=0)"
   ]
  },
  {
   "cell_type": "code",
   "execution_count": 5,
   "metadata": {
    "collapsed": false
   },
   "outputs": [],
   "source": [
    "fast_food.loc[fast_food['income'].isnull()] \n",
    "fast_food = fast_food.drop(384, axis=0) "
   ]
  },
  {
   "cell_type": "markdown",
   "metadata": {},
   "source": [
    "#### 5. Graph the distribution of psoda for the entire dataset and include a line for the average in your graph."
   ]
  },
  {
   "cell_type": "code",
   "execution_count": 6,
   "metadata": {
    "collapsed": false
   },
   "outputs": [
    {
     "data": {
      "text/plain": [
       "<matplotlib.lines.Line2D at 0x119e12ad0>"
      ]
     },
     "execution_count": 6,
     "metadata": {},
     "output_type": "execute_result"
    },
    {
     "data": {
      "image/png": "[encoded data removed]",
      "text/plain": [
       "<matplotlib.figure.Figure at 0x119e12650>"
      ]
     },
     "metadata": {
      "image/png": {
       "height": 370,
       "width": 603
      }
     },
     "output_type": "display_data"
    }
   ],
   "source": [
    "ig = plt.figure(figsize=(10,6))\n",
    "result = plt.hist(fast_food['psoda'], bins=20, color='r')\n",
    "plt.axvline(fast_food['psoda'].mean(), color='b', linestyle='dotted', linewidth=5)"
   ]
  },
  {
   "cell_type": "markdown",
   "metadata": {},
   "source": [
    "#### 6. Find the average values of _prpblck_ and _income_ in the sample, along with their standard deviations. Can you infer the units of measurement of these two variables (Get used to do this, these are your baseline values)"
   ]
  },
  {
   "cell_type": "code",
   "execution_count": 7,
   "metadata": {
    "collapsed": false
   },
   "outputs": [
    {
     "name": "stdout",
     "output_type": "stream",
     "text": [
      "0.113486395844\n",
      "47053.7848411\n"
     ]
    }
   ],
   "source": [
    "print fast_food['prpblck'].mean()\n",
    "# proportion of black folks %\n",
    "print fast_food['income'].mean()\n",
    "# income in $"
   ]
  },
  {
   "cell_type": "markdown",
   "metadata": {},
   "source": [
    "\n",
    "### Linear Regressions"
   ]
  },
  {
   "cell_type": "markdown",
   "metadata": {},
   "source": [
    "#### 7.  Consider a model to explain the price of soda _psoda_, in terms of the proportion of the African American population and the median income\n",
    "    \n",
    "    psoda = β0 + β1prpblck + β2income + e\n"
   ]
  },
  {
   "cell_type": "code",
   "execution_count": 18,
   "metadata": {
    "collapsed": false
   },
   "outputs": [
    {
     "name": "stdout",
     "output_type": "stream",
     "text": [
      "(409,)\n",
      "(409, 2)\n",
      "      prpblck   income\n",
      "0    0.171154  44534.0\n",
      "1    0.171154  44534.0\n",
      "2    0.047360  41164.0\n",
      "3    0.052839  50366.0\n",
      "4    0.034480  72287.0\n",
      "5    0.059133  44515.0\n",
      "6    0.018677  62056.0\n",
      "7    0.004906  53655.0\n",
      "8    0.921056  31314.0\n",
      "9    0.921056  31314.0\n",
      "10   0.921056  31314.0\n",
      "11   0.921056  31314.0\n",
      "12   0.921056  31314.0\n",
      "13   0.013911  38569.0\n",
      "14   0.010212  60657.0\n",
      "15   0.010212  60657.0\n",
      "16   0.006090  47891.0\n",
      "17   0.003541  36705.0\n",
      "18   0.010452  43022.0\n",
      "19   0.007387  79025.0\n",
      "20   0.007387  79025.0\n",
      "21   0.120063  65296.0\n",
      "22   0.433610  56893.0\n",
      "23   0.022127  40719.0\n",
      "24   0.022127  40719.0\n",
      "25   0.696365  33306.0\n",
      "26   0.055731  59266.0\n",
      "27   0.055731  59266.0\n",
      "28   0.032352  57424.0\n",
      "29   0.032352  57424.0\n",
      "..        ...      ...\n",
      "379  0.052368  46886.0\n",
      "380  0.011523  45160.0\n",
      "381  0.022145  40648.0\n",
      "382  0.008476  46705.0\n",
      "383  0.061870  43047.0\n",
      "385  0.121059  45763.0\n",
      "386  0.121059  45763.0\n",
      "387  0.185530  40370.0\n",
      "388  0.185530  40370.0\n",
      "389  0.185530  40370.0\n",
      "390  0.185530  40370.0\n",
      "391  0.039339  53087.0\n",
      "392  0.039339  53087.0\n",
      "393  0.005568  35453.0\n",
      "394  0.030252  54252.0\n",
      "395  0.030252  54252.0\n",
      "396  0.047533  70037.0\n",
      "397  0.056807  37830.0\n",
      "398  0.033835  83379.0\n",
      "399  0.022458  51025.0\n",
      "400  0.022458  51025.0\n",
      "401  0.022458  51025.0\n",
      "402  0.034673  42298.0\n",
      "403  0.039269  46988.0\n",
      "404  0.039269  46988.0\n",
      "405  0.029728  54632.0\n",
      "406  0.058840  40585.0\n",
      "407  0.058840  40585.0\n",
      "408  0.058840  40585.0\n",
      "409  0.001022  37477.0\n",
      "\n",
      "[409 rows x 2 columns]\n"
     ]
    }
   ],
   "source": [
    "# Define your linear model \n",
    "lm = linear_model.LinearRegression()\n",
    "\n",
    "base_data = fast_food[['prpblck','income']].copy()\n",
    "target = fast_food['psoda'].copy()\n",
    "\n",
    "# Define the target variable, called it y\n",
    "y = target\n",
    "print y.shape\n",
    "\n",
    "# Define your predictors, called them X\n",
    "x = base_data\n",
    "print x.shape\n",
    "\n",
    "# Print the shapes of your y and X\n",
    "\n",
    "print base_data"
   ]
  },
  {
   "cell_type": "code",
   "execution_count": 19,
   "metadata": {
    "collapsed": false
   },
   "outputs": [
    {
     "name": "stdout",
     "output_type": "stream",
     "text": [
      "(409,)\n"
     ]
    }
   ],
   "source": [
    "# Fit your model\n",
    "mymodel = lm.fit(x,y)\n",
    "\n",
    "# Predict your y, call them predictions, print the shape of predictions\n",
    "y_pred = mymodel.predict(x)\n",
    "\n",
    "# Print the shape of predictions\n",
    "print y_pred.shape\n",
    "\n",
    "\n",
    "\n"
   ]
  },
  {
   "cell_type": "code",
   "execution_count": 20,
   "metadata": {
    "collapsed": false
   },
   "outputs": [
    {
     "data": {
      "text/plain": [
       "<matplotlib.collections.PathCollection at 0x11dca4b10>"
      ]
     },
     "execution_count": 20,
     "metadata": {},
     "output_type": "execute_result"
    },
    {
     "data": {
      "image/png": "[encoded data removed]",
      "text/plain": [
       "<matplotlib.figure.Figure at 0x119d24a90>"
      ]
     },
     "metadata": {
      "image/png": {
       "height": 258,
       "width": 379
      }
     },
     "output_type": "display_data"
    }
   ],
   "source": [
    "## Is there a difference between the means for actual values (psoda) and your predictions\n",
    "\n"
   ]
  },
  {
   "cell_type": "code",
   "execution_count": 29,
   "metadata": {
    "collapsed": false,
    "scrolled": false
   },
   "outputs": [
    {
     "name": "stdout",
     "output_type": "stream",
     "text": [
      "<class 'pandas.core.series.Series'> (409,)\n",
      "<type 'numpy.ndarray'> (409,)\n",
      "0.00724966165558\n",
      "(409,)\n",
      "(409,)\n"
     ]
    }
   ],
   "source": [
    "## Construct a scatter plot of your model. Use your predicted values as your y axis and your y values as your x axis\n",
    "\n",
    "## Print the Mean Square error see/read this link \n",
    "from sklearn.metrics import mean_squared_error\n",
    "print mean_squared_error(y, y_pred)\n",
    "\n",
    "## http://mste.illinois.edu/patel/amar430/meansquare.html\n",
    "\n",
    "\n",
    "\n",
    "\n"
   ]
  },
  {
   "cell_type": "code",
   "execution_count": 30,
   "metadata": {
    "collapsed": false
   },
   "outputs": [
    {
     "name": "stdout",
     "output_type": "stream",
     "text": [
      "0.0633197857093\n"
     ]
    }
   ],
   "source": [
    "## What is the coefficient of determination (R^2) of the prediction. In other words,what is the accuracy of your model?\n",
    "score = mymodel.score(x,y)\n",
    "print score"
   ]
  },
  {
   "cell_type": "code",
   "execution_count": 35,
   "metadata": {
    "collapsed": false
   },
   "outputs": [
    {
     "name": "stdout",
     "output_type": "stream",
     "text": [
      "[  1.13185366e-01   1.59318232e-06]\n"
     ]
    }
   ],
   "source": [
    "## Print the estimated coefficients of your model.\n",
    "print mymodel.coef_"
   ]
  },
  {
   "cell_type": "code",
   "execution_count": 36,
   "metadata": {
    "collapsed": false
   },
   "outputs": [
    {
     "name": "stdout",
     "output_type": "stream",
     "text": [
      "0.957615682412\n"
     ]
    }
   ],
   "source": [
    "## What is the intercept of your model.\n",
    "print mymodel.intercept_"
   ]
  },
  {
   "cell_type": "code",
   "execution_count": 42,
   "metadata": {
    "collapsed": false
   },
   "outputs": [
    {
     "name": "stdout",
     "output_type": "stream",
     "text": [
      "          prpblck         income\n",
      "count  409.000000     409.000000\n",
      "mean     0.113486   47053.784841\n",
      "std      0.182416   13179.286069\n",
      "min      0.000000   15919.000000\n",
      "25%      0.011649   37883.000000\n",
      "50%      0.041444   46272.000000\n",
      "75%      0.121059   54981.000000\n",
      "max      0.981658  136529.000000\n",
      "0.012769\n",
      "0.07473\n"
     ]
    }
   ],
   "source": [
    "## Write your results in equation form, include the sample size and R^2\n",
    "## Interpret the coefficient on prpblck\n",
    "\n",
    "#y = 0.957 + 0.113 x1 + 0.00000159 x2\n",
    "print x.describe()\n",
    "# mean of x1(prpblk) = 0.113\n",
    "# mean of x2(income) = ~47000k\n",
    "\n",
    "# the coefficient of prpblk is almost exactly the mean of the data\n",
    "# .113 X .113 = 0.012769\n",
    "# .00000159 * 47000 = 0.07473\n",
    "\n",
    "# the intercept is the dominant value\n"
   ]
  },
  {
   "cell_type": "markdown",
   "metadata": {},
   "source": [
    "### 8.  Compare the estimate from question 7 with a simple regression estimate from _psoda_ on _prpblck_. Is the discrimination effect larger or smaller when you control/include income on your predictors?\n",
    "    \n",
    "    psoda = β0 + β1prpblck + e"
   ]
  },
  {
   "cell_type": "code",
   "execution_count": 45,
   "metadata": {
    "collapsed": false
   },
   "outputs": [
    {
     "name": "stdout",
     "output_type": "stream",
     "text": [
      "(409, 1)\n",
      "(409,)\n"
     ]
    }
   ],
   "source": [
    "# Define your predictors and called them X\n",
    "base_data2 = fast_food[['prpblck']].copy()\n",
    "\n",
    "# Print the shapes of your y and X\n",
    "x2 = base_data2.copy()\n",
    "print x2.shape\n",
    "print y.shape\n"
   ]
  },
  {
   "cell_type": "code",
   "execution_count": 46,
   "metadata": {
    "collapsed": true
   },
   "outputs": [],
   "source": [
    "# Fit your model\n",
    "mymodel2 = lm.fit(x2,y)\n"
   ]
  },
  {
   "cell_type": "code",
   "execution_count": 48,
   "metadata": {
    "collapsed": false
   },
   "outputs": [
    {
     "name": "stdout",
     "output_type": "stream",
     "text": [
      "(409,)\n"
     ]
    }
   ],
   "source": [
    "# find the predictors and called them predictions\n",
    "# print the shape of predictions\n",
    "y_pred2 = mymodel2.predict(x2)\n",
    "print y_pred2.shape\n"
   ]
  },
  {
   "cell_type": "code",
   "execution_count": 49,
   "metadata": {
    "collapsed": false
   },
   "outputs": [
    {
     "name": "stdout",
     "output_type": "stream",
     "text": [
      "1.0454259397\n",
      "1.0454259397\n"
     ]
    }
   ],
   "source": [
    "## Is there a difference between the means for actual values (psoda) and your predictions\n",
    "print y_pred2.mean()\n",
    "print y.mean()\n",
    "\n",
    "# no difference"
   ]
  },
  {
   "cell_type": "code",
   "execution_count": 52,
   "metadata": {
    "collapsed": false
   },
   "outputs": [
    {
     "name": "stdout",
     "output_type": "stream",
     "text": [
      "0.00760680000723\n"
     ]
    },
    {
     "data": {
      "image/png": "[encoded data removed]",
      "text/plain": [
       "<matplotlib.figure.Figure at 0x11ea66590>"
      ]
     },
     "metadata": {
      "image/png": {
       "height": 258,
       "width": 379
      }
     },
     "output_type": "display_data"
    }
   ],
   "source": [
    "## Construct a scatter plot of your model. Use your predicted values as your y axis and your y values as your x axis\n",
    "## Print the Mean Square error \n",
    "plt.scatter(y_pred2, y)\n",
    "print mean_squared_error(y, y_pred2)"
   ]
  },
  {
   "cell_type": "code",
   "execution_count": 55,
   "metadata": {
    "collapsed": false
   },
   "outputs": [
    {
     "name": "stdout",
     "output_type": "stream",
     "text": [
      "0.0171763318978\n"
     ]
    }
   ],
   "source": [
    "## What is the accuracy of your model?\n",
    "score2 = mymodel2.score(x2,y)\n",
    "print score2"
   ]
  },
  {
   "cell_type": "code",
   "execution_count": 57,
   "metadata": {
    "collapsed": false
   },
   "outputs": [
    {
     "name": "stdout",
     "output_type": "stream",
     "text": [
      "[ 0.06328429]\n"
     ]
    }
   ],
   "source": [
    "## Print the estimated coefficients for the linear regression problem\n",
    "print mymodel2.coef_\n"
   ]
  },
  {
   "cell_type": "code",
   "execution_count": 56,
   "metadata": {
    "collapsed": false
   },
   "outputs": [
    {
     "name": "stdout",
     "output_type": "stream",
     "text": [
      "1.03824403319\n"
     ]
    }
   ],
   "source": [
    "## What is the intercept of your model.\n",
    "print mymodel2.intercept_\n"
   ]
  },
  {
   "cell_type": "code",
   "execution_count": 58,
   "metadata": {
    "collapsed": false
   },
   "outputs": [
    {
     "name": "stdout",
     "output_type": "stream",
     "text": [
      "409\n"
     ]
    }
   ],
   "source": [
    "## Write your results in equation form, include the sample size and R^2\n",
    "#y = 1.038 + 0.0633 prpblk\n",
    "# 409 samples\n",
    "# scoe: 0.017\n",
    "print len(x2)\n"
   ]
  },
  {
   "cell_type": "markdown",
   "metadata": {},
   "source": [
    "#### 9.  Now Use StatsModel and repeat questions 7 and 8\n",
    "http://statsmodels.sourceforge.net/devel/example_formulas.html\n",
    "\n",
    "##### Helpful Notes to Keep in mind:\n",
    "1. P value for a coefficient says nothing about the size of the effect that variable is having on your dependent variable - it is possible to have a highly significant result (very small P-value) for a miniscule effect.\n",
    "2. With a P value of 5% (or .05) there is only a 5% chance that results you are seeing would have come up in a \n",
    "random distribution, so you can say with a 95% probability of being correct that the variable is having some effect, assuming your model is specified correctly.\n",
    "3. In simple or multiple linear regression, the size of the coefficient for each independent variable gives you \n",
    "the size of the effect that variable is having on your dependent/target (y) variable, and the sign on the coefficient \n",
    "(positive or negative) gives you the direction of the effect. In regression with a single independent/predictor variable, the coefficient tells you how much the dependent variable is expected to increase (if the coefficient is positive) or decrease (if the coefficient is negative) when that independent variable increases by one unit. \n",
    "4. In regression with multiple independent/predictors variables, the coefficient tells you how much the dependent variable is expected to increase when that independent variable increases by one unit, \"_holding all the other independent variables constant_\". Remember to keep in mind the units which your variables are measured in."
   ]
  },
  {
   "cell_type": "code",
   "execution_count": null,
   "metadata": {
    "collapsed": false
   },
   "outputs": [],
   "source": [
    "import statsmodels.formula.api as smf\n"
   ]
  },
  {
   "cell_type": "code",
   "execution_count": null,
   "metadata": {
    "collapsed": false
   },
   "outputs": [],
   "source": []
  },
  {
   "cell_type": "markdown",
   "metadata": {},
   "source": [
    "#### 10. There is one fundamental step that I have \"purposely\" left out? Can you guess what this step is, and implement it. Use Matplotlib and Seaborn (regplot) to graph hem."
   ]
  },
  {
   "cell_type": "code",
   "execution_count": null,
   "metadata": {
    "collapsed": false
   },
   "outputs": [],
   "source": []
  },
  {
   "cell_type": "markdown",
   "metadata": {},
   "source": [
    "### Before you move to the next question, read this article \"Why I'm not a fan of R-Squared\"\n",
    "http://www.johnmyleswhite.com/notebook/2016/07/23/why-im-not-a-fan-of-r-squared/"
   ]
  },
  {
   "cell_type": "markdown",
   "metadata": {},
   "source": [
    "### Bonus\n",
    "#### 11. Report the estimates of the follwing model (use sklearn):\n",
    "    log(psoda) = β0 + β1prpblck + β2log(income) + e\n"
   ]
  },
  {
   "cell_type": "code",
   "execution_count": null,
   "metadata": {
    "collapsed": false
   },
   "outputs": [],
   "source": [
    "## If there are missing observations on any of the log variables, would you dropped them\n",
    "## from the dataset, if so how does this impact your calculations?\n",
    "## Fill the missing values of lpsoda with 0\n"
   ]
  },
  {
   "cell_type": "code",
   "execution_count": null,
   "metadata": {
    "collapsed": false
   },
   "outputs": [],
   "source": [
    "## Plot a histogram that will have 2 histograms showing the distribution of psoda and lpsoda\n",
    "## Are they the same?\n"
   ]
  },
  {
   "cell_type": "code",
   "execution_count": null,
   "metadata": {
    "collapsed": false
   },
   "outputs": [],
   "source": [
    "## Plot a histogram of the variable log of income (lincome)\n"
   ]
  },
  {
   "cell_type": "code",
   "execution_count": null,
   "metadata": {
    "collapsed": false
   },
   "outputs": [],
   "source": [
    "## Plot a histogram of the variable income \n"
   ]
  },
  {
   "cell_type": "code",
   "execution_count": null,
   "metadata": {
    "collapsed": true
   },
   "outputs": [],
   "source": [
    "## Can you explain what log is doing to the variables (income, and price of soda (psoda))"
   ]
  },
  {
   "cell_type": "code",
   "execution_count": null,
   "metadata": {
    "collapsed": false
   },
   "outputs": [],
   "source": [
    "## In one graph use seaborn regplot to graph\n",
    "## graph psoda, vs lincome\n",
    "## graph lpsoda vs income\n",
    "## graph lpsoda vs lincome\n"
   ]
  },
  {
   "cell_type": "code",
   "execution_count": null,
   "metadata": {
    "collapsed": false
   },
   "outputs": [],
   "source": [
    "## graph lpsoda vs income\n"
   ]
  },
  {
   "cell_type": "code",
   "execution_count": null,
   "metadata": {
    "collapsed": false
   },
   "outputs": [],
   "source": [
    "# graph lpsoda vs lincome\n"
   ]
  },
  {
   "cell_type": "code",
   "execution_count": null,
   "metadata": {
    "collapsed": false
   },
   "outputs": [],
   "source": [
    "# Define your linear model \n",
    "\n",
    "\n",
    "# Define the target variable, called it y\n",
    "\n",
    "\n",
    "\n",
    "# Define your predictors, called them X\n",
    "\n",
    "\n",
    "# Print the shapes of your y and X\n",
    "\n",
    "\n"
   ]
  },
  {
   "cell_type": "code",
   "execution_count": null,
   "metadata": {
    "collapsed": false
   },
   "outputs": [],
   "source": [
    "# Fit your model\n",
    "\n",
    "\n",
    "# Predict your y, call them predictions, print the shape of predictions\n",
    "# Print the shape of predictions\n"
   ]
  },
  {
   "cell_type": "code",
   "execution_count": null,
   "metadata": {
    "collapsed": false
   },
   "outputs": [],
   "source": [
    "## Graph your predicted and y values\n"
   ]
  },
  {
   "cell_type": "code",
   "execution_count": null,
   "metadata": {
    "collapsed": false
   },
   "outputs": [],
   "source": [
    "## Print the coefficients, and R2, interpret your result \n",
    "## See/read this link for interpretation of results/coeficients: \n",
    "## http://www.ats.ucla.edu/stat/mult_pkg/faq/general/log_transformed_regression.htm\n",
    "\n",
    "\n",
    "\n",
    "## Do you think that is model is more appropriate? "
   ]
  },
  {
   "cell_type": "code",
   "execution_count": null,
   "metadata": {
    "collapsed": false
   },
   "outputs": [],
   "source": [
    "## Now add the variable prppov to the regression in question 11, What happened with prpblck?\n",
    "\n",
    "# Define your linear model \n",
    "\n",
    "\n",
    "# Define the target variable, called it y\n",
    "\n",
    "\n",
    "\n",
    "# Define your predictors, called them X\n",
    "\n",
    "\n",
    "# Print the shapes of your y and X\n"
   ]
  },
  {
   "cell_type": "code",
   "execution_count": null,
   "metadata": {
    "collapsed": false
   },
   "outputs": [],
   "source": [
    "# Fit your model\n",
    "\n",
    "\n",
    "# Predict your y, call them predictions, print the shape of predictions\n",
    "# Print the shape of predictions\n",
    "\n",
    "## Print the coefficients, and R2, interpret your result\n"
   ]
  },
  {
   "cell_type": "code",
   "execution_count": null,
   "metadata": {
    "collapsed": false
   },
   "outputs": [],
   "source": [
    "## Find the correlatoion between log(income) and prpov. Is it close to what you expected?\n"
   ]
  },
  {
   "cell_type": "code",
   "execution_count": null,
   "metadata": {
    "collapsed": true
   },
   "outputs": [],
   "source": [
    "## What are your thoughts on this statement:\n",
    "## \"Because log(income) and prppov are so highky correlated, they have no business in being \n",
    "## included in the same regression\""
   ]
  },
  {
   "cell_type": "code",
   "execution_count": null,
   "metadata": {
    "collapsed": false
   },
   "outputs": [],
   "source": []
  },
  {
   "cell_type": "code",
   "execution_count": null,
   "metadata": {
    "collapsed": true
   },
   "outputs": [],
   "source": []
  }
 ],
 "metadata": {
  "anaconda-cloud": {},
  "kernelspec": {
   "display_name": "Python [Root]",
   "language": "python",
   "name": "Python [Root]"
  },
  "language_info": {
   "codemirror_mode": {
    "name": "ipython",
    "version": 2
   },
   "file_extension": ".py",
   "mimetype": "text/x-python",
   "name": "python",
   "nbconvert_exporter": "python",
   "pygments_lexer": "ipython2",
   "version": "2.7.11"
  }
 },
 "nbformat": 4,
 "nbformat_minor": 0
}
