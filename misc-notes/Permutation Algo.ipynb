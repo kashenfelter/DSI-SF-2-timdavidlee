{
 "cells": [
  {
   "cell_type": "code",
   "execution_count": 53,
   "metadata": {
    "collapsed": false
   },
   "outputs": [
    {
     "name": "stdout",
     "output_type": "stream",
     "text": [
      "\t4 loop\n",
      "\t\t3 loop\n",
      "\t\t\t2 loop\n",
      "\t\t\t\t1 loop\n",
      "['A', 'B', 'C', 'D']\n",
      "\t\t\t\t1 loop\n",
      "['B', 'A', 'C', 'D']\n",
      "\t\t\t2 loop\n",
      "\t\t\t\t1 loop\n",
      "['C', 'A', 'B', 'D']\n",
      "\t\t\t\t1 loop\n",
      "['A', 'C', 'B', 'D']\n",
      "\t\t\t2 loop\n",
      "\t\t\t\t1 loop\n",
      "['B', 'C', 'A', 'D']\n",
      "\t\t\t\t1 loop\n",
      "['C', 'B', 'A', 'D']\n",
      "\t\t3 loop\n",
      "\t\t\t2 loop\n",
      "\t\t\t\t1 loop\n",
      "['D', 'B', 'A', 'C']\n",
      "\t\t\t\t1 loop\n",
      "['B', 'D', 'A', 'C']\n",
      "\t\t\t2 loop\n",
      "\t\t\t\t1 loop\n",
      "['A', 'D', 'B', 'C']\n",
      "\t\t\t\t1 loop\n",
      "['D', 'A', 'B', 'C']\n",
      "\t\t\t2 loop\n",
      "\t\t\t\t1 loop\n",
      "['B', 'A', 'D', 'C']\n",
      "\t\t\t\t1 loop\n",
      "['A', 'B', 'D', 'C']\n",
      "\t\t3 loop\n",
      "\t\t\t2 loop\n",
      "\t\t\t\t1 loop\n",
      "['A', 'C', 'D', 'B']\n",
      "\t\t\t\t1 loop\n",
      "['C', 'A', 'D', 'B']\n",
      "\t\t\t2 loop\n",
      "\t\t\t\t1 loop\n",
      "['D', 'A', 'C', 'B']\n",
      "\t\t\t\t1 loop\n",
      "['A', 'D', 'C', 'B']\n",
      "\t\t\t2 loop\n",
      "\t\t\t\t1 loop\n",
      "['C', 'D', 'A', 'B']\n",
      "\t\t\t\t1 loop\n",
      "['D', 'C', 'A', 'B']\n",
      "\t\t3 loop\n",
      "\t\t\t2 loop\n",
      "\t\t\t\t1 loop\n",
      "['D', 'C', 'B', 'A']\n",
      "\t\t\t\t1 loop\n",
      "['C', 'D', 'B', 'A']\n",
      "\t\t\t2 loop\n",
      "\t\t\t\t1 loop\n",
      "['B', 'D', 'C', 'A']\n",
      "\t\t\t\t1 loop\n",
      "['D', 'B', 'C', 'A']\n",
      "\t\t\t2 loop\n",
      "\t\t\t\t1 loop\n",
      "['C', 'B', 'D', 'A']\n",
      "\t\t\t\t1 loop\n",
      "['B', 'C', 'D', 'A']\n",
      "None\n"
     ]
    }
   ],
   "source": [
    "A = ['A','B','C','D']\n",
    "\n",
    "def swap(i,j):\n",
    "    A[i], A[j] = A[j], A[i]\n",
    "\n",
    "def perm(n,A):\n",
    "    print (5-n)*'\\t',n,'loop'\n",
    "    if n == 1:\n",
    "        print A\n",
    "    else:\n",
    "        for i in range(n-1):\n",
    "            perm(n-1,A)\n",
    "            if n % 2 == 0: # if is even\n",
    "                swap(i,n-1)\n",
    "            else:\n",
    "                swap(0,n-1)\n",
    "        perm(n-1,A)\n",
    "\n",
    "print perm(len(A),A)"
   ]
  },
  {
   "cell_type": "code",
   "execution_count": 4,
   "metadata": {
    "collapsed": false
   },
   "outputs": [
    {
     "name": "stdout",
     "output_type": "stream",
     "text": [
      "['A', 'B', 'C', 'D']\n",
      "['A', 'D', 'C', 'B']\n"
     ]
    }
   ],
   "source": []
  },
  {
   "cell_type": "code",
   "execution_count": null,
   "metadata": {
    "collapsed": true
   },
   "outputs": [],
   "source": []
  }
 ],
 "metadata": {
  "kernelspec": {
   "display_name": "Python [dsi]",
   "language": "python",
   "name": "Python [dsi]"
  },
  "language_info": {
   "codemirror_mode": {
    "name": "ipython",
    "version": 2
   },
   "file_extension": ".py",
   "mimetype": "text/x-python",
   "name": "python",
   "nbconvert_exporter": "python",
   "pygments_lexer": "ipython2",
   "version": "2.7.12"
  }
 },
 "nbformat": 4,
 "nbformat_minor": 0
}
