{
 "cells": [
  {
   "cell_type": "code",
   "execution_count": 23,
   "metadata": {
    "collapsed": false
   },
   "outputs": [],
   "source": [
    "from dplython import (DplyFrame, X, diamonds, select, sift, sample_n\n",
    "                      , sample_frac, head, arrange, mutate, group_by\n",
    "                      , summarize, DelayFunction)\n",
    "import pandas as pd\n",
    "import numpy as np"
   ]
  },
  {
   "cell_type": "code",
   "execution_count": 5,
   "metadata": {
    "collapsed": true
   },
   "outputs": [],
   "source": [
    "'''\n",
    "uses piping. \n",
    "'''\n",
    "\n",
    "path = '/Users/tlee010/desktop/dsi-sf-2-timdavidlee/datasets/football_combine/combine.csv'"
   ]
  },
  {
   "cell_type": "code",
   "execution_count": 7,
   "metadata": {
    "collapsed": false
   },
   "outputs": [
    {
     "name": "stderr",
     "output_type": "stream",
     "text": [
      "/Users/tlee010/anaconda/envs/dsi/lib/python2.7/site-packages/IPython/core/formatters.py:92: DeprecationWarning: DisplayFormatter._ipython_display_formatter_default is deprecated: use @default decorator instead.\n",
      "  def _ipython_display_formatter_default(self):\n",
      "/Users/tlee010/anaconda/envs/dsi/lib/python2.7/site-packages/IPython/core/formatters.py:98: DeprecationWarning: DisplayFormatter._formatters_default is deprecated: use @default decorator instead.\n",
      "  def _formatters_default(self):\n",
      "/Users/tlee010/anaconda/envs/dsi/lib/python2.7/site-packages/IPython/core/formatters.py:677: DeprecationWarning: PlainTextFormatter._deferred_printers_default is deprecated: use @default decorator instead.\n",
      "  def _deferred_printers_default(self):\n",
      "/Users/tlee010/anaconda/envs/dsi/lib/python2.7/site-packages/IPython/core/formatters.py:669: DeprecationWarning: PlainTextFormatter._singleton_printers_default is deprecated: use @default decorator instead.\n",
      "  def _singleton_printers_default(self):\n",
      "/Users/tlee010/anaconda/envs/dsi/lib/python2.7/site-packages/IPython/core/formatters.py:672: DeprecationWarning: PlainTextFormatter._type_printers_default is deprecated: use @default decorator instead.\n",
      "  def _type_printers_default(self):\n"
     ]
    },
    {
     "data": {
      "text/html": [
       "<div>\n",
       "<table border=\"1\" class=\"dataframe\">\n",
       "  <thead>\n",
       "    <tr style=\"text-align: right;\">\n",
       "      <th></th>\n",
       "      <th>id</th>\n",
       "      <th>Year</th>\n",
       "      <th>Name</th>\n",
       "      <th>Position</th>\n",
       "      <th>HeightFeet</th>\n",
       "      <th>HeightInches</th>\n",
       "      <th>Weight</th>\n",
       "      <th>Arms</th>\n",
       "      <th>Hands</th>\n",
       "      <th>FortyYD</th>\n",
       "      <th>...</th>\n",
       "      <th>Bench</th>\n",
       "      <th>Round</th>\n",
       "      <th>College</th>\n",
       "      <th>Pick</th>\n",
       "      <th>PickRound</th>\n",
       "      <th>PickTotal</th>\n",
       "      <th>FirstName</th>\n",
       "      <th>LastName</th>\n",
       "      <th>HeightInchesTotal</th>\n",
       "      <th>Wonderlic</th>\n",
       "    </tr>\n",
       "  </thead>\n",
       "  <tbody>\n",
       "    <tr>\n",
       "      <th>0</th>\n",
       "      <td>8984</td>\n",
       "      <td>2013</td>\n",
       "      <td>Quanterus Smith</td>\n",
       "      <td>DE</td>\n",
       "      <td>6</td>\n",
       "      <td>5.0</td>\n",
       "      <td>250</td>\n",
       "      <td>33.25</td>\n",
       "      <td>10.375</td>\n",
       "      <td>0.0</td>\n",
       "      <td>...</td>\n",
       "      <td>0</td>\n",
       "      <td>5</td>\n",
       "      <td>Western Kentucky</td>\n",
       "      <td>13(146)</td>\n",
       "      <td>13</td>\n",
       "      <td>146</td>\n",
       "      <td>Quanterus</td>\n",
       "      <td>Smith</td>\n",
       "      <td>77.0</td>\n",
       "      <td>0</td>\n",
       "    </tr>\n",
       "    <tr>\n",
       "      <th>1</th>\n",
       "      <td>9002</td>\n",
       "      <td>2013</td>\n",
       "      <td>Abry Jones</td>\n",
       "      <td>DT</td>\n",
       "      <td>6</td>\n",
       "      <td>3.0</td>\n",
       "      <td>313</td>\n",
       "      <td>35.00</td>\n",
       "      <td>9.750</td>\n",
       "      <td>0.0</td>\n",
       "      <td>...</td>\n",
       "      <td>30</td>\n",
       "      <td>0</td>\n",
       "      <td>NaN</td>\n",
       "      <td>NaN</td>\n",
       "      <td>0</td>\n",
       "      <td>0</td>\n",
       "      <td>Abry</td>\n",
       "      <td>Jones</td>\n",
       "      <td>75.0</td>\n",
       "      <td>0</td>\n",
       "    </tr>\n",
       "  </tbody>\n",
       "</table>\n",
       "<p>2 rows × 26 columns</p>\n",
       "</div>"
      ],
      "text/plain": [
       "     id  Year             Name Position  HeightFeet  HeightInches  Weight  \\\n",
       "0  8984  2013  Quanterus Smith       DE           6           5.0     250   \n",
       "1  9002  2013       Abry Jones       DT           6           3.0     313   \n",
       "\n",
       "    Arms   Hands  FortyYD    ...     Bench  Round           College     Pick  \\\n",
       "0  33.25  10.375      0.0    ...         0      5  Western Kentucky  13(146)   \n",
       "1  35.00   9.750      0.0    ...        30      0               NaN      NaN   \n",
       "\n",
       "   PickRound  PickTotal  FirstName  LastName HeightInchesTotal Wonderlic  \n",
       "0         13        146  Quanterus     Smith              77.0         0  \n",
       "1          0          0       Abry     Jones              75.0         0  \n",
       "\n",
       "[2 rows x 26 columns]"
      ]
     },
     "execution_count": 7,
     "metadata": {},
     "output_type": "execute_result"
    }
   ],
   "source": [
    "combine = DplyFrame(pd.read_csv(path))\n",
    "combine.head(2)"
   ]
  },
  {
   "cell_type": "code",
   "execution_count": 8,
   "metadata": {
    "collapsed": false
   },
   "outputs": [
    {
     "name": "stdout",
     "output_type": "stream",
     "text": [
      "  Position\n",
      "0       DE\n",
      "1       DT\n",
      "2       DT\n",
      "3       FS\n",
      "4       FS\n"
     ]
    }
   ],
   "source": [
    "#position = combine['Position']\n",
    "position = combine >> select(X.Position)\n",
    "print position[0:5]"
   ]
  },
  {
   "cell_type": "code",
   "execution_count": 9,
   "metadata": {
    "collapsed": true
   },
   "outputs": [],
   "source": [
    "players = combine[['Name','Weight']]"
   ]
  },
  {
   "cell_type": "code",
   "execution_count": 10,
   "metadata": {
    "collapsed": false
   },
   "outputs": [
    {
     "data": {
      "text/html": [
       "<div>\n",
       "<table border=\"1\" class=\"dataframe\">\n",
       "  <thead>\n",
       "    <tr style=\"text-align: right;\">\n",
       "      <th></th>\n",
       "      <th>Name</th>\n",
       "      <th>Weight</th>\n",
       "    </tr>\n",
       "  </thead>\n",
       "  <tbody>\n",
       "    <tr>\n",
       "      <th>15</th>\n",
       "      <td>Brandon Boykin</td>\n",
       "      <td>182</td>\n",
       "    </tr>\n",
       "    <tr>\n",
       "      <th>49</th>\n",
       "      <td>Foswhitt Whittaker</td>\n",
       "      <td>193</td>\n",
       "    </tr>\n",
       "    <tr>\n",
       "      <th>55</th>\n",
       "      <td>Ryan Broyles</td>\n",
       "      <td>192</td>\n",
       "    </tr>\n",
       "    <tr>\n",
       "      <th>56</th>\n",
       "      <td>Chase Minnifield</td>\n",
       "      <td>183</td>\n",
       "    </tr>\n",
       "    <tr>\n",
       "      <th>58</th>\n",
       "      <td>Shaun Prater</td>\n",
       "      <td>190</td>\n",
       "    </tr>\n",
       "  </tbody>\n",
       "</table>\n",
       "</div>"
      ],
      "text/plain": [
       "                  Name  Weight\n",
       "15      Brandon Boykin     182\n",
       "49  Foswhitt Whittaker     193\n",
       "55        Ryan Broyles     192\n",
       "56    Chase Minnifield     183\n",
       "58        Shaun Prater     190"
      ]
     },
     "execution_count": 10,
     "metadata": {},
     "output_type": "execute_result"
    }
   ],
   "source": [
    "players = players[players.Weight < 200]\n",
    "players.head()"
   ]
  },
  {
   "cell_type": "code",
   "execution_count": 11,
   "metadata": {
    "collapsed": false
   },
   "outputs": [
    {
     "data": {
      "text/html": [
       "<div>\n",
       "<table border=\"1\" class=\"dataframe\">\n",
       "  <thead>\n",
       "    <tr style=\"text-align: right;\">\n",
       "      <th></th>\n",
       "      <th>Name</th>\n",
       "      <th>Weight</th>\n",
       "    </tr>\n",
       "  </thead>\n",
       "  <tbody>\n",
       "    <tr>\n",
       "      <th>15</th>\n",
       "      <td>Brandon Boykin</td>\n",
       "      <td>182</td>\n",
       "    </tr>\n",
       "    <tr>\n",
       "      <th>49</th>\n",
       "      <td>Foswhitt Whittaker</td>\n",
       "      <td>193</td>\n",
       "    </tr>\n",
       "    <tr>\n",
       "      <th>55</th>\n",
       "      <td>Ryan Broyles</td>\n",
       "      <td>192</td>\n",
       "    </tr>\n",
       "    <tr>\n",
       "      <th>56</th>\n",
       "      <td>Chase Minnifield</td>\n",
       "      <td>183</td>\n",
       "    </tr>\n",
       "    <tr>\n",
       "      <th>58</th>\n",
       "      <td>Shaun Prater</td>\n",
       "      <td>190</td>\n",
       "    </tr>\n",
       "  </tbody>\n",
       "</table>\n",
       "</div>"
      ],
      "text/plain": [
       "                  Name  Weight\n",
       "15      Brandon Boykin     182\n",
       "49  Foswhitt Whittaker     193\n",
       "55        Ryan Broyles     192\n",
       "56    Chase Minnifield     183\n",
       "58        Shaun Prater     190"
      ]
     },
     "execution_count": 11,
     "metadata": {},
     "output_type": "execute_result"
    }
   ],
   "source": [
    "dply_players = (combine >> sift(X.Weight <200) >> select(X.Name, X.Weight))\n",
    "dply_players.head()"
   ]
  },
  {
   "cell_type": "code",
   "execution_count": 19,
   "metadata": {
    "collapsed": false
   },
   "outputs": [
    {
     "data": {
      "text/html": [
       "<div>\n",
       "<table border=\"1\" class=\"dataframe\">\n",
       "  <thead>\n",
       "    <tr style=\"text-align: right;\">\n",
       "      <th></th>\n",
       "      <th>Name</th>\n",
       "      <th>Weight</th>\n",
       "    </tr>\n",
       "  </thead>\n",
       "  <tbody>\n",
       "    <tr>\n",
       "      <th>1254</th>\n",
       "      <td>Larry Johnson</td>\n",
       "      <td>228</td>\n",
       "    </tr>\n",
       "    <tr>\n",
       "      <th>932</th>\n",
       "      <td>Curtis Brown</td>\n",
       "      <td>185</td>\n",
       "    </tr>\n",
       "    <tr>\n",
       "      <th>3201</th>\n",
       "      <td>Kenny Iwebema</td>\n",
       "      <td>274</td>\n",
       "    </tr>\n",
       "    <tr>\n",
       "      <th>170</th>\n",
       "      <td>Michael Smith</td>\n",
       "      <td>207</td>\n",
       "    </tr>\n",
       "    <tr>\n",
       "      <th>3911</th>\n",
       "      <td>Hebron Fangupo</td>\n",
       "      <td>323</td>\n",
       "    </tr>\n",
       "  </tbody>\n",
       "</table>\n",
       "</div>"
      ],
      "text/plain": [
       "                Name  Weight\n",
       "1254   Larry Johnson     228\n",
       "932     Curtis Brown     185\n",
       "3201   Kenny Iwebema     274\n",
       "170    Michael Smith     207\n",
       "3911  Hebron Fangupo     323"
      ]
     },
     "execution_count": 19,
     "metadata": {},
     "output_type": "execute_result"
    }
   ],
   "source": [
    "# PANDAS\n",
    "# Take a random sample of 5% and take out the Name and Weight \n",
    "sample = combine[[\"Name\",\"Weight\"]]\n",
    "sample = sample.sample(frac=.05)\n",
    "sample.head()"
   ]
  },
  {
   "cell_type": "code",
   "execution_count": 20,
   "metadata": {
    "collapsed": false
   },
   "outputs": [
    {
     "data": {
      "text/html": [
       "<div>\n",
       "<table border=\"1\" class=\"dataframe\">\n",
       "  <thead>\n",
       "    <tr style=\"text-align: right;\">\n",
       "      <th></th>\n",
       "      <th>Name</th>\n",
       "      <th>Weight</th>\n",
       "    </tr>\n",
       "  </thead>\n",
       "  <tbody>\n",
       "    <tr>\n",
       "      <th>4055</th>\n",
       "      <td>Jeff Smith</td>\n",
       "      <td>286</td>\n",
       "    </tr>\n",
       "    <tr>\n",
       "      <th>111</th>\n",
       "      <td>Cairo Santos</td>\n",
       "      <td>164</td>\n",
       "    </tr>\n",
       "  </tbody>\n",
       "</table>\n",
       "</div>"
      ],
      "text/plain": [
       "              Name  Weight\n",
       "4055    Jeff Smith     286\n",
       "111   Cairo Santos     164"
      ]
     },
     "execution_count": 20,
     "metadata": {},
     "output_type": "execute_result"
    }
   ],
   "source": [
    "# DPLYTHON\n",
    "\n",
    "dply_sample = (combine >> sample_frac(0.05)>> select (X.Name, X.Weight))\n",
    "dply_sample.head(2)"
   ]
  },
  {
   "cell_type": "code",
   "execution_count": 25,
   "metadata": {
    "collapsed": false
   },
   "outputs": [
    {
     "data": {
      "text/html": [
       "<div>\n",
       "<table border=\"1\" class=\"dataframe\">\n",
       "  <thead>\n",
       "    <tr style=\"text-align: right;\">\n",
       "      <th></th>\n",
       "      <th>Position</th>\n",
       "      <th>Year</th>\n",
       "      <th>0</th>\n",
       "    </tr>\n",
       "  </thead>\n",
       "  <tbody>\n",
       "    <tr>\n",
       "      <th>0</th>\n",
       "      <td>C</td>\n",
       "      <td>2014</td>\n",
       "      <td>307.166667</td>\n",
       "    </tr>\n",
       "    <tr>\n",
       "      <th>1</th>\n",
       "      <td>CB</td>\n",
       "      <td>1999</td>\n",
       "      <td>184.807692</td>\n",
       "    </tr>\n",
       "    <tr>\n",
       "      <th>2</th>\n",
       "      <td>CB</td>\n",
       "      <td>2000</td>\n",
       "      <td>191.750000</td>\n",
       "    </tr>\n",
       "    <tr>\n",
       "      <th>3</th>\n",
       "      <td>CB</td>\n",
       "      <td>2001</td>\n",
       "      <td>193.655172</td>\n",
       "    </tr>\n",
       "    <tr>\n",
       "      <th>4</th>\n",
       "      <td>CB</td>\n",
       "      <td>2002</td>\n",
       "      <td>194.333333</td>\n",
       "    </tr>\n",
       "  </tbody>\n",
       "</table>\n",
       "</div>"
      ],
      "text/plain": [
       "  Position  Year           0\n",
       "0        C  2014  307.166667\n",
       "1       CB  1999  184.807692\n",
       "2       CB  2000  191.750000\n",
       "3       CB  2001  193.655172\n",
       "4       CB  2002  194.333333"
      ]
     },
     "execution_count": 25,
     "metadata": {},
     "output_type": "execute_result"
    }
   ],
   "source": [
    "# Group by postion year and weight and marms\n",
    "# return the mean of that column\n",
    "\n",
    "def weight_plus_arms_mean(df):\n",
    "    summed = df['Weight'] + df['Arms']\n",
    "    df['weight_arms_mean'] = np.mean(summed)\n",
    "    return df.loc[:,'weight_arms_mean'].iloc[0]\n",
    "\n",
    "combine.groupby(['Position','Year']).apply(weight_plus_arms_mean).reset_index().head()\n"
   ]
  },
  {
   "cell_type": "code",
   "execution_count": 29,
   "metadata": {
    "collapsed": false
   },
   "outputs": [
    {
     "data": {
      "text/html": [
       "<div>\n",
       "<table border=\"1\" class=\"dataframe\">\n",
       "  <thead>\n",
       "    <tr style=\"text-align: right;\">\n",
       "      <th></th>\n",
       "      <th>Position</th>\n",
       "      <th>Year</th>\n",
       "      <th>weight_arms_mean</th>\n",
       "    </tr>\n",
       "  </thead>\n",
       "  <tbody>\n",
       "    <tr>\n",
       "      <th>0</th>\n",
       "      <td>C</td>\n",
       "      <td>2014</td>\n",
       "      <td>307.166667</td>\n",
       "    </tr>\n",
       "    <tr>\n",
       "      <th>1</th>\n",
       "      <td>CB</td>\n",
       "      <td>1999</td>\n",
       "      <td>184.807692</td>\n",
       "    </tr>\n",
       "    <tr>\n",
       "      <th>2</th>\n",
       "      <td>CB</td>\n",
       "      <td>2000</td>\n",
       "      <td>191.750000</td>\n",
       "    </tr>\n",
       "  </tbody>\n",
       "</table>\n",
       "</div>"
      ],
      "text/plain": [
       "  Position  Year  weight_arms_mean\n",
       "0        C  2014        307.166667\n",
       "1       CB  1999        184.807692\n",
       "2       CB  2000        191.750000"
      ]
     },
     "execution_count": 29,
     "metadata": {},
     "output_type": "execute_result"
    }
   ],
   "source": [
    "# dplyr version:\n",
    "wa_mean = (combine >> \n",
    "                    group_by(X.Position, X.Year) >> \n",
    "                    mutate(weight_arms_sum=X.Weight + X.Arms) >>\n",
    "                    summarize(weight_arms_mean=X.weight_arms_sum.mean())\n",
    "                   )\n",
    "wa_mean.head(3)"
   ]
  },
  {
   "cell_type": "code",
   "execution_count": 31,
   "metadata": {
    "collapsed": false
   },
   "outputs": [
    {
     "data": {
      "text/html": [
       "<div>\n",
       "<table border=\"1\" class=\"dataframe\">\n",
       "  <thead>\n",
       "    <tr style=\"text-align: right;\">\n",
       "      <th></th>\n",
       "      <th>Name</th>\n",
       "      <th>Weight</th>\n",
       "      <th>Year</th>\n",
       "      <th>Hands</th>\n",
       "      <th>mean_of_ywh</th>\n",
       "    </tr>\n",
       "  </thead>\n",
       "  <tbody>\n",
       "    <tr>\n",
       "      <th>0</th>\n",
       "      <td>Quanterus Smith</td>\n",
       "      <td>250</td>\n",
       "      <td>2013</td>\n",
       "      <td>10.375</td>\n",
       "      <td>757.791667</td>\n",
       "    </tr>\n",
       "    <tr>\n",
       "      <th>1</th>\n",
       "      <td>Abry Jones</td>\n",
       "      <td>313</td>\n",
       "      <td>2013</td>\n",
       "      <td>9.750</td>\n",
       "      <td>778.583333</td>\n",
       "    </tr>\n",
       "    <tr>\n",
       "      <th>2</th>\n",
       "      <td>Bennie Logan</td>\n",
       "      <td>309</td>\n",
       "      <td>2013</td>\n",
       "      <td>10.250</td>\n",
       "      <td>777.416667</td>\n",
       "    </tr>\n",
       "    <tr>\n",
       "      <th>3</th>\n",
       "      <td>John Boyett</td>\n",
       "      <td>204</td>\n",
       "      <td>2013</td>\n",
       "      <td>8.500</td>\n",
       "      <td>741.833333</td>\n",
       "    </tr>\n",
       "    <tr>\n",
       "      <th>4</th>\n",
       "      <td>Bacarri Rambo</td>\n",
       "      <td>211</td>\n",
       "      <td>2013</td>\n",
       "      <td>9.250</td>\n",
       "      <td>744.416667</td>\n",
       "    </tr>\n",
       "  </tbody>\n",
       "</table>\n",
       "</div>"
      ],
      "text/plain": [
       "              Name  Weight  Year   Hands  mean_of_ywh\n",
       "0  Quanterus Smith     250  2013  10.375   757.791667\n",
       "1       Abry Jones     313  2013   9.750   778.583333\n",
       "2     Bennie Logan     309  2013  10.250   777.416667\n",
       "3      John Boyett     204  2013   8.500   741.833333\n",
       "4    Bacarri Rambo     211  2013   9.250   744.416667"
      ]
     },
     "execution_count": 31,
     "metadata": {},
     "output_type": "execute_result"
    }
   ],
   "source": [
    "@DelayFunction\n",
    "def mean_of_columns(df):\n",
    "    meancol = df.mean(axis=1)\n",
    "    return meancol\n",
    "\n",
    "# mean of year weight and hands columns:\n",
    "ywh_mean = (combine >>\n",
    "            select(X.Name, X.Weight, X.Year, X.Hands) >>\n",
    "            mutate(mean_of_ywh = (combine >>\n",
    "                                 select (X.Year, X.Weight, X.Hands)>>\n",
    "                                 mean_of_columns(X)\n",
    "                                 )\n",
    "                  )\n",
    "           )\n",
    "\n",
    "ywh_mean.head()"
   ]
  },
  {
   "cell_type": "code",
   "execution_count": null,
   "metadata": {
    "collapsed": true
   },
   "outputs": [],
   "source": []
  }
 ],
 "metadata": {
  "anaconda-cloud": {},
  "kernelspec": {
   "display_name": "Python [dsi]",
   "language": "python",
   "name": "Python [dsi]"
  },
  "language_info": {
   "codemirror_mode": {
    "name": "ipython",
    "version": 2
   },
   "file_extension": ".py",
   "mimetype": "text/x-python",
   "name": "python",
   "nbconvert_exporter": "python",
   "pygments_lexer": "ipython2",
   "version": "2.7.12"
  }
 },
 "nbformat": 4,
 "nbformat_minor": 0
}
