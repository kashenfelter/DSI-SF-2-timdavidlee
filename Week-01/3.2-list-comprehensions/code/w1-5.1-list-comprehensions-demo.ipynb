{
 "cells": [
  {
   "cell_type": "markdown",
   "metadata": {},
   "source": [
    "### Practice List Comprehensions\n",
    "\n",
    "This guided demo follows the lecture on list comprehensions!\n",
    "\n",
    "#### Section 1: Basic list comprehensions"
   ]
  },
  {
   "cell_type": "code",
   "execution_count": 4,
   "metadata": {
    "collapsed": true
   },
   "outputs": [],
   "source": [
    "import numpy as np\n",
    "import pandas as pd\n",
    "import string"
   ]
  },
  {
   "cell_type": "markdown",
   "metadata": {},
   "source": [
    "##### 1-A) Add 1 to every element in the list"
   ]
  },
  {
   "cell_type": "code",
   "execution_count": 2,
   "metadata": {
    "collapsed": false
   },
   "outputs": [
    {
     "name": "stdout",
     "output_type": "stream",
     "text": [
      "[1, 2, 3, 4, 5, 6, 7, 8, 9, 10]\n"
     ]
    }
   ],
   "source": [
    "numbers = [0,1,2,3,4,5,6,7,8,9]\n",
    "print [x+1 for x in numbers]"
   ]
  },
  {
   "cell_type": "markdown",
   "metadata": {},
   "source": [
    "#### Section 2: List comprehension conditional logic\n",
    "\n",
    "##### 2-A) \"Binarize\" n so that any value greater than or equal to the mean of n is 1, otherwise 0"
   ]
  },
  {
   "cell_type": "code",
   "execution_count": 7,
   "metadata": {
    "collapsed": false
   },
   "outputs": [
    {
     "name": "stdout",
     "output_type": "stream",
     "text": [
      "this is the mean 19\n",
      "[0, 0, 0, 1, 0, 0, 1, 0, 1, 0, 1, 1, 0, 0, 0]\n"
     ]
    }
   ],
   "source": [
    "n = [1, 2, 7, 21, 3, 1, 62, 3, 34, 12, 73, 44, 12, 11, 9]\n",
    "mean = np.mean(n)\n",
    "print 'this is the mean %d' % mean\n",
    "print [1 if x >= mean else 0 for x in n]"
   ]
  },
  {
   "cell_type": "markdown",
   "metadata": {},
   "source": [
    "##### 2-B) Swap 1s to 0s and 0s to 1s. If the element is neither a 0 nor 1, make it None"
   ]
  },
  {
   "cell_type": "code",
   "execution_count": 8,
   "metadata": {
    "collapsed": false
   },
   "outputs": [
    {
     "name": "stdout",
     "output_type": "stream",
     "text": [
      "[1, 0, 1, 0, None, None, None, None, 0, 1]\n"
     ]
    }
   ],
   "source": [
    "n = [0, 1, 0, 1, 2, 3, 5, 2, 1, 0]\n",
    "print [0 if x ==1 else 1 if x == 0 else None for x in n]\n"
   ]
  },
  {
   "cell_type": "markdown",
   "metadata": {},
   "source": [
    "#### Section 3: Nested list comprehensions\n",
    "\n",
    "##### 3-A) Get the square and square root of all non-negative numbers in the list"
   ]
  },
  {
   "cell_type": "code",
   "execution_count": 13,
   "metadata": {
    "collapsed": false
   },
   "outputs": [
    {
     "name": "stdout",
     "output_type": "stream",
     "text": [
      "[[0, 0.0], [1, 1.0], [2500, 7.0710678118654755], [5625, 8.6602540378443873]]\n"
     ]
    }
   ],
   "source": [
    "n = [0, 1, 50, -23, -1, 75, -3]\n",
    "print [[x**2,np.sqrt(x)] for x in n if x >=0]"
   ]
  },
  {
   "cell_type": "markdown",
   "metadata": {},
   "source": [
    "#### Section 4: Functions in list comprehensions\n",
    "\n",
    "##### 4-A) Combine elements of these two lists item by item into list pairs"
   ]
  },
  {
   "cell_type": "code",
   "execution_count": 14,
   "metadata": {
    "collapsed": false
   },
   "outputs": [
    {
     "name": "stdout",
     "output_type": "stream",
     "text": [
      "[['a', 'z'], ['b', 'y'], ['c', 'x'], ['d', 'w']]\n"
     ]
    }
   ],
   "source": [
    "#enumerate\n",
    "#zip\n",
    "\n",
    "a = ['a','b','c','d']\n",
    "z = ['z','y','x','w']\n",
    "print [[x,y] for x,y in zip(a,z)]"
   ]
  },
  {
   "cell_type": "markdown",
   "metadata": {},
   "source": [
    "##### 4-B) Pair each index and element of this list into list pairs"
   ]
  },
  {
   "cell_type": "code",
   "execution_count": 21,
   "metadata": {
    "collapsed": false
   },
   "outputs": [
    {
     "name": "stdout",
     "output_type": "stream",
     "text": [
      "[['a', 0], ['b', 1], ['c', 2], ['d', 3]]\n",
      "[[0, 'a'], [1, 'b'], [2, 'c'], [3, 'd']]\n"
     ]
    }
   ],
   "source": [
    "a = ['a','b','c','d']\n",
    "print [[x,a.index(x)] for x in a]\n",
    "print [[x,y] for x,y in enumerate(a)]"
   ]
  },
  {
   "cell_type": "markdown",
   "metadata": {},
   "source": [
    "##### 4-C) For each element of each list, calculate the first list element times the index divided by the element of the second list"
   ]
  },
  {
   "cell_type": "code",
   "execution_count": 20,
   "metadata": {
    "collapsed": false
   },
   "outputs": [
    {
     "data": {
      "text/plain": [
       "[(0.0, 0.0),\n",
       " (7.5, 0.13333333333333333),\n",
       " (13.333333333333334, 0.3),\n",
       " (18.75, 0.48),\n",
       " (32.0, 0.5)]"
      ]
     },
     "execution_count": 20,
     "metadata": {},
     "output_type": "execute_result"
    }
   ],
   "source": [
    "list_one = [10, 15, 20, 25, 40]\n",
    "list_two = [1, 2, 3, 4, 5]\n",
    "[(x*list_one.index(x)/float(y),y*list_two.index(y)/float(x)) for x,y in zip(list_one, list_two)]\n",
    "\n"
   ]
  },
  {
   "cell_type": "markdown",
   "metadata": {},
   "source": [
    "#### Section 5: Nested list comprehensions\n",
    "\n",
    "##### 5-A) Create all the alphabet \"syllables\" defined as consonant-vowel pairs in a flattened list [USING FOR LOOP ITERATION]"
   ]
  },
  {
   "cell_type": "code",
   "execution_count": 28,
   "metadata": {
    "collapsed": false
   },
   "outputs": [
    {
     "name": "stdout",
     "output_type": "stream",
     "text": [
      "['ba', 'be', 'bi', 'bo', 'bu', 'ca', 'ce', 'ci', 'co', 'cu', 'da', 'de', 'di', 'do', 'du', 'fa', 'fe', 'fi', 'fo', 'fu', 'ga', 'ge', 'gi', 'go', 'gu', 'ha', 'he', 'hi', 'ho', 'hu', 'ja', 'je', 'ji', 'jo', 'ju', 'ka', 'ke', 'ki', 'ko', 'ku', 'la', 'le', 'li', 'lo', 'lu', 'ma', 'me', 'mi', 'mo', 'mu', 'na', 'ne', 'ni', 'no', 'nu', 'pa', 'pe', 'pi', 'po', 'pu', 'qa', 'qe', 'qi', 'qo', 'qu', 'ra', 're', 'ri', 'ro', 'ru', 'sa', 'se', 'si', 'so', 'su', 'ta', 'te', 'ti', 'to', 'tu', 'va', 've', 'vi', 'vo', 'vu', 'wa', 'we', 'wi', 'wo', 'wu', 'xa', 'xe', 'xi', 'xo', 'xu', 'ya', 'ye', 'yi', 'yo', 'yu', 'za', 'ze', 'zi', 'zo', 'zu']\n"
     ]
    }
   ],
   "source": [
    "vowels = ['a', 'e', 'i', 'o', 'u']\n",
    "alphabet = string.ascii_lowercase\n",
    "newlist = []\n",
    "\n",
    "for x in alphabet:\n",
    "    if x not in vowels:\n",
    "        for y in vowels:\n",
    "            newlist.append(x+y)\n",
    "print newlist\n"
   ]
  },
  {
   "cell_type": "markdown",
   "metadata": {},
   "source": [
    "##### 5-B) Create all the alphabet \"syllables\" defined as consonant-vowel pairs in a flattened list [USING A LIST COMPREHENSION]"
   ]
  },
  {
   "cell_type": "code",
   "execution_count": 29,
   "metadata": {
    "collapsed": false
   },
   "outputs": [
    {
     "name": "stdout",
     "output_type": "stream",
     "text": [
      "['ba', 'ca', 'da', 'fa', 'ga', 'ha', 'ja', 'ka', 'la', 'ma', 'na', 'pa', 'qa', 'ra', 'sa', 'ta', 'va', 'wa', 'xa', 'ya', 'za', 'be', 'ce', 'de', 'fe', 'ge', 'he', 'je', 'ke', 'le', 'me', 'ne', 'pe', 'qe', 're', 'se', 'te', 've', 'we', 'xe', 'ye', 'ze', 'bi', 'ci', 'di', 'fi', 'gi', 'hi', 'ji', 'ki', 'li', 'mi', 'ni', 'pi', 'qi', 'ri', 'si', 'ti', 'vi', 'wi', 'xi', 'yi', 'zi', 'bo', 'co', 'do', 'fo', 'go', 'ho', 'jo', 'ko', 'lo', 'mo', 'no', 'po', 'qo', 'ro', 'so', 'to', 'vo', 'wo', 'xo', 'yo', 'zo', 'bu', 'cu', 'du', 'fu', 'gu', 'hu', 'ju', 'ku', 'lu', 'mu', 'nu', 'pu', 'qu', 'ru', 'su', 'tu', 'vu', 'wu', 'xu', 'yu', 'zu']\n"
     ]
    }
   ],
   "source": [
    "vowels = ['a', 'e', 'i', 'o', 'u']\n",
    "alphabet = string.ascii_lowercase\n",
    "print [ x+y for y in vowels for x in alphabet if x not in vowels]"
   ]
  },
  {
   "cell_type": "code",
   "execution_count": 39,
   "metadata": {
    "collapsed": false
   },
   "outputs": [
    {
     "name": "stdout",
     "output_type": "stream",
     "text": [
      "[3, 3, 4, 4]\n",
      "[1, 2, 3, 4]\n"
     ]
    }
   ],
   "source": [
    "listoflist = [[1,2],[3,4]]\n",
    "print [x for x in y for y in listoflist]\n",
    "print [x for y in listoflist for x in y] #correct "
   ]
  },
  {
   "cell_type": "markdown",
   "metadata": {},
   "source": [
    "#### Section 6: Dictionary comprehensions\n",
    "\n",
    "##### 6-A) Make a dictionary where keys are animals and values are lists with the number value of each character in the key\n",
    "\n",
    "Hint: use the **ord()** function to convert characters to numbers."
   ]
  },
  {
   "cell_type": "code",
   "execution_count": 35,
   "metadata": {
    "collapsed": false
   },
   "outputs": [
    {
     "data": {
      "text/plain": [
       "{'bird': [98, 105, 114, 100],\n",
       " 'cat': [99, 97, 116],\n",
       " 'dog': [100, 111, 103],\n",
       " 'horse': [104, 111, 114, 115, 101]}"
      ]
     },
     "execution_count": 35,
     "metadata": {},
     "output_type": "execute_result"
    }
   ],
   "source": [
    "keys = ['dog', 'cat', 'bird', 'horse']\n",
    "{ x : [ord(y) for y in x] for x in keys}"
   ]
  },
  {
   "cell_type": "markdown",
   "metadata": {},
   "source": [
    "##### 6-B) Create a dictionary with these column names and corresponding column values"
   ]
  },
  {
   "cell_type": "code",
   "execution_count": 40,
   "metadata": {
    "collapsed": false
   },
   "outputs": [
    {
     "data": {
      "text/plain": [
       "{'height': [62, 54, 60, 50],\n",
       " 'is_male': [True, False, True, False],\n",
       " 'weight': [180, 120, 200, 100]}"
      ]
     },
     "execution_count": 40,
     "metadata": {},
     "output_type": "execute_result"
    }
   ],
   "source": [
    "column_names = ['height','weight','is_male']\n",
    "values = [[62, 54, 60, 50], [180, 120, 200, 100], [True, False, True, False]]\n",
    "\n",
    "{ x : y for x,y in zip(column_names, values)}\n"
   ]
  },
  {
   "cell_type": "code",
   "execution_count": null,
   "metadata": {
    "collapsed": true
   },
   "outputs": [],
   "source": []
  }
 ],
 "metadata": {
  "kernelspec": {
   "display_name": "Python [dsi]",
   "language": "python",
   "name": "Python [dsi]"
  },
  "language_info": {
   "codemirror_mode": {
    "name": "ipython",
    "version": 2
   },
   "file_extension": ".py",
   "mimetype": "text/x-python",
   "name": "python",
   "nbconvert_exporter": "python",
   "pygments_lexer": "ipython2",
   "version": "2.7.12"
  }
 },
 "nbformat": 4,
 "nbformat_minor": 0
}
