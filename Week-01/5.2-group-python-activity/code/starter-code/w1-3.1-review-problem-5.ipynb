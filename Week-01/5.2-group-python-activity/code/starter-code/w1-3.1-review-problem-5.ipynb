{
 "cells": [
  {
   "cell_type": "markdown",
   "metadata": {},
   "source": [
    "### Review problem 5 (hard)\n",
    "\n",
    "In this problem you will be defining a function that calculates the **pearson correlation coefficient** between two lists of numbers.\n",
    "\n",
    "Your function should:\n",
    "\n",
    "- Accept two arguments that are the provided lists ```X``` and ```Y```.\n",
    "- Print the length of ```X``` and ```Y``` using the ```len()``` function, like so:\n",
    "    ```python\n",
    "    Length of X: 40\n",
    "    Length of Y: 40\n",
    "    ```\n",
    "- Calculate the **pearson correlation** between the two lists and assign the value to variable ```pearson_r```.\n",
    "    - Create a variable ```X_deviation``` that is each element of ```X``` minus the **mean** of ```X```. You can use ```np.mean()``` to calculate the mean.\n",
    "    - Create a variable ```Y_deviation``` that is each element of ```Y``` minus the **mean** of ```Y```.\n",
    "    - Create a variable ```sqrt_X_deviation_sq``` that is the **square root** of the **sum** of the **square** of each element of ```X_deviation```. Ive partially completed it below, for clarification:\n",
    "        ```python\n",
    "        sqrt_X_deviation_sq = np.sqrt(np.sum(\"each element of X_deviation squared\"))\n",
    "        ```\n",
    "    - Create a variable ```sqrt_Y_deviation_sq``` that is the same thing you just did for ```X_deviation``` but for ```Y_deviation```.\n",
    "    - Create a variable ```sum_XY_deviation``` that is the **sum** of each element of X and Y multiplied by each other, in order. You can use the ```zip()``` function to iterate through two lists at the same time:\n",
    "        ```python\n",
    "        for x_d, y_d in zip(X_deviation, Y_deviation):\n",
    "        ```\n",
    "    - ```pearson_r``` is equal to ```sum_XY_deviation``` divided by ```(sqrt_X_deviation_sq * sqrt_Y_deviation_sq)```\n",
    "- Print ```pearson_r```\n",
    "- Check if it is the same as numpys correlation function. Print ```np.corrcoef(X, Y)[0,1]```\n",
    "    "
   ]
  },
  {
   "cell_type": "code",
   "execution_count": 4,
   "metadata": {
    "collapsed": true
   },
   "outputs": [],
   "source": [
    "import numpy as np\n",
    "\n",
    "X = [14.2,5.8,4.8,12.7,5.6,-1.2,5.3,11.9,4.8,8.1,1.5,8.5,14.9,6.1,\n",
    "     6.8,12.6,15.5,24.3,15.6,16.8,22.3,22.6,26.2,19.0,24.3,26.3,\n",
    "     25.3,31.6,27.3,33.0,32.6,30.7,29.6,34.7,32.7,43.1,40.1,35.4,49.6,38.6]\n",
    "\n",
    "Y = [-15.5,-8.5,0.8,-3.9,4.9,12.7,10.0,16.5,5.7,13.1,10.3,12.4,-1.5,\n",
    "     1.7,26.0,14.3,30.3,21.7,27.5,38.2,18.9,21.2,18.2,26.1,14.7,16.4,\n",
    "     22.8,34.3,37.1,38.9,39.1,33.8,52.2,36.5,20.7,21.6,14.5,33.6,44.5,44.2]\n"
   ]
  },
  {
   "cell_type": "code",
   "execution_count": 25,
   "metadata": {
    "collapsed": false
   },
   "outputs": [
    {
     "name": "stdout",
     "output_type": "stream",
     "text": [
      "20.49\n",
      "20.15\n",
      "[ -6.29 -14.69 -15.69  -7.79 -14.89 -21.69 -15.19  -8.59 -15.69 -12.39\n",
      " -18.99 -11.99  -5.59 -14.39 -13.69  -7.89  -4.99   3.81  -4.89  -3.69\n",
      "   1.81   2.11   5.71  -1.49   3.81   5.81   4.81  11.11   6.81  12.51\n",
      "  12.11  10.21   9.11  14.21  12.21  22.61  19.61  14.91  29.11  18.11]\n",
      "[-35.65 -28.65 -19.35 -24.05 -15.25  -7.45 -10.15  -3.65 -14.45  -7.05\n",
      "  -9.85  -7.75 -21.65 -18.45   5.85  -5.85  10.15   1.55   7.35  18.05\n",
      "  -1.25   1.05  -1.95   5.95  -5.45  -3.75   2.65  14.15  16.95  18.75\n",
      "  18.95  13.65  32.05  16.35   0.55   1.45  -5.65  13.45  24.35  24.05]\n",
      "80.2901986546\n",
      "96.8795127981\n",
      "5133.72\n",
      "0.659990523006\n",
      "0.659990523006\n"
     ]
    }
   ],
   "source": [
    "# Define your pearson correlation function here:\n",
    "\n",
    "print np.mean(X)\n",
    "print np.mean(Y)\n",
    "\n",
    "X_deviation = np.array(X) - np.mean(X)\n",
    "print X_deviation\n",
    "\n",
    "Y_deviation = np.array(Y) - np.mean(Y)\n",
    "print Y_deviation\n",
    "\n",
    "sqrt_X_deviation_sq = np.sqrt(np.sum(X_deviation**2))\n",
    "print sqrt_X_deviation_sq\n",
    "\n",
    "sqrt_Y_deviation_sq = np.sqrt(np.sum(Y_deviation**2))\n",
    "print sqrt_Y_deviation_sq\n",
    "\n",
    "\n",
    "sum_XY_deviation = sum(np.array(X_deviation) * np.array(Y_deviation))\n",
    "print sum_XY_deviation \n",
    "\n",
    "pearson_r=(sum_XY_deviation/(sqrt_X_deviation_sq)/sqrt_Y_deviation_sq)\n",
    "print pearson_r\n",
    "\n",
    "print np.corrcoef(X, Y)[0,1]"
   ]
  },
  {
   "cell_type": "code",
   "execution_count": null,
   "metadata": {
    "collapsed": true
   },
   "outputs": [],
   "source": []
  }
 ],
 "metadata": {
  "kernelspec": {
   "display_name": "Python [dsi]",
   "language": "python",
   "name": "Python [dsi]"
  },
  "language_info": {
   "codemirror_mode": {
    "name": "ipython",
    "version": 2
   },
   "file_extension": ".py",
   "mimetype": "text/x-python",
   "name": "python",
   "nbconvert_exporter": "python",
   "pygments_lexer": "ipython2",
   "version": "2.7.12"
  }
 },
 "nbformat": 4,
 "nbformat_minor": 0
}
