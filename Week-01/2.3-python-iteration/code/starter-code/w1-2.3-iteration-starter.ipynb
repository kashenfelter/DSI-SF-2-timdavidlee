{
 "cells": [
  {
   "cell_type": "markdown",
   "metadata": {},
   "source": [
    "# Iteration in python\n",
    "\n",
    "To practice iteration (and more) in python, we will first load in a dataset on coffee ratings from the datasets folder. This way, you can start getting practice dealing with data files while also refreshing your memory of python programming.\n",
    "\n",
    "---\n",
    "\n",
    "### 1. Load in the data\n",
    "\n",
    "The code to load in the data is provided below. \n",
    "\n",
    "The `with open(..., 'r') as f:` opens up a file in \"read\" mode (rather than \"write\"), and assigns this opened file to `f`. \n",
    "\n",
    "We can then use the `.readlines()` built-in function to split the csv file on newlines and assign it to the variable `lines`."
   ]
  },
  {
   "cell_type": "code",
   "execution_count": 1,
   "metadata": {
    "collapsed": false
   },
   "outputs": [],
   "source": [
    "with open('../../../datasets/coffee_preferences/dat12-coffee-preferences.csv','r') as f:\n",
    "    lines = f.readlines()"
   ]
  },
  {
   "cell_type": "markdown",
   "metadata": {},
   "source": [
    "---\n",
    "\n",
    "### 2. Examine the `lines` object\n",
    "\n",
    "Print out lines (if you just run the cell with `lines` and no `print` statement it will format it better). \n",
    "\n",
    "What things we can see right off the bat about the data?"
   ]
  },
  {
   "cell_type": "code",
   "execution_count": 2,
   "metadata": {
    "collapsed": false
   },
   "outputs": [
    {
     "name": "stdout",
     "output_type": "stream",
     "text": [
      "['Timestamp,Name,Starbucks,PhilzCoffee,BlueBottleCoffee,PeetsTea,CaffeTrieste,GrandCoffee,RitualCoffee,FourBarrel,WorkshopCafe\\n',\n",
      " '3/17/2015 18:37:58,Alison,3,5,4,3,,,5,5,\\n',\n",
      " '3/17/2015 18:38:09,April,4,5,5,3,,,3,,5\\n',\n",
      " '3/17/2015 18:38:25,Vijay,3,5,5,5,3,2,1,1,1\\n',\n",
      " '3/17/2015 18:38:28,Vanessa,1,5,5,2,,,3,2,3\\n',\n",
      " '3/17/2015 18:38:46,Isabel,1,4,4,2,4,,4,4,\\n',\n",
      " '3/17/2015 18:39:01,India,5,3,3,3,3,1,,,3\\n',\n",
      " '3/17/2015 18:39:01,Dave H,4,5,,5,,,,,\\n',\n",
      " '3/17/2015 18:39:05,Deepthi,3,5,,2,,,,,2\\n',\n",
      " '3/17/2015 18:39:14,Ramesh,3,4,,3,,,,,4\\n',\n",
      " '3/17/2015 18:39:23,Hugh Jass,1,5,5,4,5,2,5,4,1\\n',\n",
      " '3/17/2015 18:39:23,Alex,4,5,,3,,,,,\\n',\n",
      " '3/17/2015 18:39:30,Ajay Anand,3,4,4,3,5,,,,\\n',\n",
      " '3/17/2015 18:39:35,David Feng,2,3,4,2,2,,5,4,3\\n',\n",
      " '3/17/2015 18:39:42,Zach,3,4,4,3,,,,,5\\n',\n",
      " '3/17/2015 18:40:44,Matt,3,5,4,3,2,2,4,3,2\\n',\n",
      " '3/17/2015 18:40:49,Markus,3,5,,3,,,4,,\\n',\n",
      " '3/17/2015 18:41:18,Otto,4,2,2,5,,,3,3,3\\n',\n",
      " '3/17/2015 18:41:23,Alessandro,1,5,3,2,,,4,3,\\n',\n",
      " '3/17/2015 18:41:35,Rocky,3,5,4,3,3,3,4,4,3\\n',\n",
      " '3/17/2015 18:42:01,cheong-tseng eng,3,1,,,,,4,,']\n",
      "['Timestamp,Name,Starbucks,PhilzCoffee,BlueBottleCoffee,PeetsTea,CaffeTrieste,GrandCoffee,RitualCoffee,FourBarrel,WorkshopCafe\\n', '3/17/2015 18:37:58,Alison,3,5,4,3,,,5,5,\\n', '3/17/2015 18:38:09,April,4,5,5,3,,,3,,5\\n', '3/17/2015 18:38:25,Vijay,3,5,5,5,3,2,1,1,1\\n', '3/17/2015 18:38:28,Vanessa,1,5,5,2,,,3,2,3\\n', '3/17/2015 18:38:46,Isabel,1,4,4,2,4,,4,4,\\n', '3/17/2015 18:39:01,India,5,3,3,3,3,1,,,3\\n', '3/17/2015 18:39:01,Dave H,4,5,,5,,,,,\\n', '3/17/2015 18:39:05,Deepthi,3,5,,2,,,,,2\\n', '3/17/2015 18:39:14,Ramesh,3,4,,3,,,,,4\\n', '3/17/2015 18:39:23,Hugh Jass,1,5,5,4,5,2,5,4,1\\n', '3/17/2015 18:39:23,Alex,4,5,,3,,,,,\\n', '3/17/2015 18:39:30,Ajay Anand,3,4,4,3,5,,,,\\n', '3/17/2015 18:39:35,David Feng,2,3,4,2,2,,5,4,3\\n', '3/17/2015 18:39:42,Zach,3,4,4,3,,,,,5\\n', '3/17/2015 18:40:44,Matt,3,5,4,3,2,2,4,3,2\\n', '3/17/2015 18:40:49,Markus,3,5,,3,,,4,,\\n', '3/17/2015 18:41:18,Otto,4,2,2,5,,,3,3,3\\n', '3/17/2015 18:41:23,Alessandro,1,5,3,2,,,4,3,\\n', '3/17/2015 18:41:35,Rocky,3,5,4,3,3,3,4,4,3\\n', '3/17/2015 18:42:01,cheong-tseng eng,3,1,,,,,4,,']\n"
     ]
    }
   ],
   "source": [
    "from pprint import pprint\n",
    "pprint(lines)"
   ]
  },
  {
   "cell_type": "markdown",
   "metadata": {},
   "source": [
    "---\n",
    "\n",
    "### 3. Remove the remaining newline `'\\n'` characters with a for-loop\n",
    "\n",
    "Iterate through the lines of the data and remove the unwanted newline characters.\n",
    "\n",
    "**`.replace('\\n', '')`** is a built-in string function that will take as the first argument the substring you want to replace, and as its second argument the string you want to replace it with.\n"
   ]
  },
  {
   "cell_type": "code",
   "execution_count": 3,
   "metadata": {
    "collapsed": false
   },
   "outputs": [
    {
     "name": "stdout",
     "output_type": "stream",
     "text": [
      "['Timestamp,Name,Starbucks,PhilzCoffee,BlueBottleCoffee,PeetsTea,CaffeTrieste,GrandCoffee,RitualCoffee,FourBarrel,WorkshopCafe',\n",
      " '3/17/2015 18:37:58,Alison,3,5,4,3,,,5,5,',\n",
      " '3/17/2015 18:38:09,April,4,5,5,3,,,3,,5',\n",
      " '3/17/2015 18:38:25,Vijay,3,5,5,5,3,2,1,1,1',\n",
      " '3/17/2015 18:38:28,Vanessa,1,5,5,2,,,3,2,3',\n",
      " '3/17/2015 18:38:46,Isabel,1,4,4,2,4,,4,4,',\n",
      " '3/17/2015 18:39:01,India,5,3,3,3,3,1,,,3',\n",
      " '3/17/2015 18:39:01,Dave H,4,5,,5,,,,,',\n",
      " '3/17/2015 18:39:05,Deepthi,3,5,,2,,,,,2',\n",
      " '3/17/2015 18:39:14,Ramesh,3,4,,3,,,,,4',\n",
      " '3/17/2015 18:39:23,Hugh Jass,1,5,5,4,5,2,5,4,1',\n",
      " '3/17/2015 18:39:23,Alex,4,5,,3,,,,,',\n",
      " '3/17/2015 18:39:30,Ajay Anand,3,4,4,3,5,,,,',\n",
      " '3/17/2015 18:39:35,David Feng,2,3,4,2,2,,5,4,3',\n",
      " '3/17/2015 18:39:42,Zach,3,4,4,3,,,,,5',\n",
      " '3/17/2015 18:40:44,Matt,3,5,4,3,2,2,4,3,2',\n",
      " '3/17/2015 18:40:49,Markus,3,5,,3,,,4,,',\n",
      " '3/17/2015 18:41:18,Otto,4,2,2,5,,,3,3,3',\n",
      " '3/17/2015 18:41:23,Alessandro,1,5,3,2,,,4,3,',\n",
      " '3/17/2015 18:41:35,Rocky,3,5,4,3,3,3,4,4,3',\n",
      " '3/17/2015 18:42:01,cheong-tseng eng,3,1,,,,,4,,']\n"
     ]
    }
   ],
   "source": [
    "cleanlines =[]\n",
    "for line in lines:\n",
    "    cleanlines.append(line.replace('\\n',''))\n",
    "pprint(cleanlines)"
   ]
  },
  {
   "cell_type": "markdown",
   "metadata": {},
   "source": [
    "---\n",
    "\n",
    "### 4. Split the lines into \"header\" and \"data\" variables\n",
    "\n",
    "The header is the first string in the list of strings. It contains the column names of our data."
   ]
  },
  {
   "cell_type": "code",
   "execution_count": 4,
   "metadata": {
    "collapsed": false
   },
   "outputs": [
    {
     "name": "stdout",
     "output_type": "stream",
     "text": [
      "'Timestamp,Name,Starbucks,PhilzCoffee,BlueBottleCoffee,PeetsTea,CaffeTrieste,GrandCoffee,RitualCoffee,FourBarrel,WorkshopCafe'\n",
      "['3/17/2015 18:37:58,Alison,3,5,4,3,,,5,5,',\n",
      " '3/17/2015 18:38:09,April,4,5,5,3,,,3,,5',\n",
      " '3/17/2015 18:38:25,Vijay,3,5,5,5,3,2,1,1,1',\n",
      " '3/17/2015 18:38:28,Vanessa,1,5,5,2,,,3,2,3',\n",
      " '3/17/2015 18:38:46,Isabel,1,4,4,2,4,,4,4,',\n",
      " '3/17/2015 18:39:01,India,5,3,3,3,3,1,,,3',\n",
      " '3/17/2015 18:39:01,Dave H,4,5,,5,,,,,',\n",
      " '3/17/2015 18:39:05,Deepthi,3,5,,2,,,,,2',\n",
      " '3/17/2015 18:39:14,Ramesh,3,4,,3,,,,,4',\n",
      " '3/17/2015 18:39:23,Hugh Jass,1,5,5,4,5,2,5,4,1',\n",
      " '3/17/2015 18:39:23,Alex,4,5,,3,,,,,',\n",
      " '3/17/2015 18:39:30,Ajay Anand,3,4,4,3,5,,,,',\n",
      " '3/17/2015 18:39:35,David Feng,2,3,4,2,2,,5,4,3',\n",
      " '3/17/2015 18:39:42,Zach,3,4,4,3,,,,,5',\n",
      " '3/17/2015 18:40:44,Matt,3,5,4,3,2,2,4,3,2',\n",
      " '3/17/2015 18:40:49,Markus,3,5,,3,,,4,,',\n",
      " '3/17/2015 18:41:18,Otto,4,2,2,5,,,3,3,3',\n",
      " '3/17/2015 18:41:23,Alessandro,1,5,3,2,,,4,3,',\n",
      " '3/17/2015 18:41:35,Rocky,3,5,4,3,3,3,4,4,3',\n",
      " '3/17/2015 18:42:01,cheong-tseng eng,3,1,,,,,4,,']\n"
     ]
    }
   ],
   "source": [
    "header = str(cleanlines[0])\n",
    "data = cleanlines[1:]\n",
    "pprint(header)\n",
    "pprint(data)"
   ]
  },
  {
   "cell_type": "markdown",
   "metadata": {},
   "source": [
    "---\n",
    "\n",
    "### 5. Split the header and the data strings on commas\n",
    "\n",
    "To split a string on the comma character, use the **`.split(',')`** built-in function. \n",
    "\n",
    "Split the header on commas first and print it. You can see that the original string is now a list, with items that were originally separated by commas."
   ]
  },
  {
   "cell_type": "code",
   "execution_count": 5,
   "metadata": {
    "collapsed": false
   },
   "outputs": [
    {
     "name": "stdout",
     "output_type": "stream",
     "text": [
      "['Timestamp',\n",
      " 'Name',\n",
      " 'Starbucks',\n",
      " 'PhilzCoffee',\n",
      " 'BlueBottleCoffee',\n",
      " 'PeetsTea',\n",
      " 'CaffeTrieste',\n",
      " 'GrandCoffee',\n",
      " 'RitualCoffee',\n",
      " 'FourBarrel',\n",
      " 'WorkshopCafe']\n",
      "[['3/17/2015 18:37:58', 'Alison', '3', '5', '4', '3', '', '', '5', '5', ''],\n",
      " ['3/17/2015 18:38:09', 'April', '4', '5', '5', '3', '', '', '3', '', '5'],\n",
      " ['3/17/2015 18:38:25', 'Vijay', '3', '5', '5', '5', '3', '2', '1', '1', '1'],\n",
      " ['3/17/2015 18:38:28', 'Vanessa', '1', '5', '5', '2', '', '', '3', '2', '3'],\n",
      " ['3/17/2015 18:38:46', 'Isabel', '1', '4', '4', '2', '4', '', '4', '4', ''],\n",
      " ['3/17/2015 18:39:01', 'India', '5', '3', '3', '3', '3', '1', '', '', '3'],\n",
      " ['3/17/2015 18:39:01', 'Dave H', '4', '5', '', '5', '', '', '', '', ''],\n",
      " ['3/17/2015 18:39:05', 'Deepthi', '3', '5', '', '2', '', '', '', '', '2'],\n",
      " ['3/17/2015 18:39:14', 'Ramesh', '3', '4', '', '3', '', '', '', '', '4'],\n",
      " ['3/17/2015 18:39:23',\n",
      "  'Hugh Jass',\n",
      "  '1',\n",
      "  '5',\n",
      "  '5',\n",
      "  '4',\n",
      "  '5',\n",
      "  '2',\n",
      "  '5',\n",
      "  '4',\n",
      "  '1'],\n",
      " ['3/17/2015 18:39:23', 'Alex', '4', '5', '', '3', '', '', '', '', ''],\n",
      " ['3/17/2015 18:39:30', 'Ajay Anand', '3', '4', '4', '3', '5', '', '', '', ''],\n",
      " ['3/17/2015 18:39:35',\n",
      "  'David Feng',\n",
      "  '2',\n",
      "  '3',\n",
      "  '4',\n",
      "  '2',\n",
      "  '2',\n",
      "  '',\n",
      "  '5',\n",
      "  '4',\n",
      "  '3'],\n",
      " ['3/17/2015 18:39:42', 'Zach', '3', '4', '4', '3', '', '', '', '', '5'],\n",
      " ['3/17/2015 18:40:44', 'Matt', '3', '5', '4', '3', '2', '2', '4', '3', '2'],\n",
      " ['3/17/2015 18:40:49', 'Markus', '3', '5', '', '3', '', '', '4', '', ''],\n",
      " ['3/17/2015 18:41:18', 'Otto', '4', '2', '2', '5', '', '', '3', '3', '3'],\n",
      " ['3/17/2015 18:41:23',\n",
      "  'Alessandro',\n",
      "  '1',\n",
      "  '5',\n",
      "  '3',\n",
      "  '2',\n",
      "  '',\n",
      "  '',\n",
      "  '4',\n",
      "  '3',\n",
      "  ''],\n",
      " ['3/17/2015 18:41:35', 'Rocky', '3', '5', '4', '3', '3', '3', '4', '4', '3'],\n",
      " ['3/17/2015 18:42:01',\n",
      "  'cheong-tseng eng',\n",
      "  '3',\n",
      "  '1',\n",
      "  '',\n",
      "  '',\n",
      "  '',\n",
      "  '',\n",
      "  '4',\n",
      "  '',\n",
      "  '']]\n"
     ]
    }
   ],
   "source": [
    "splitheader = header.split(',')\n",
    "splitdata = [x.split(',') for x in data]\n",
    "pprint(splitheader)\n",
    "pprint(splitdata)"
   ]
  },
  {
   "cell_type": "markdown",
   "metadata": {},
   "source": [
    "---\n",
    "\n",
    "### 6. Remove the \"Timestamp\" column\n",
    "\n",
    "We aren't interested in the Timestamp column in our data, so remove it from the header and the data list.\n",
    "\n",
    "Removing the Timestamp from the header is simple and can be done with list functions or slicing. To remove the header column from the data, use a for-loop.\n",
    "\n",
    "Print out the new data object with the timestamps removed."
   ]
  },
  {
   "cell_type": "code",
   "execution_count": 6,
   "metadata": {
    "collapsed": false
   },
   "outputs": [
    {
     "name": "stdout",
     "output_type": "stream",
     "text": [
      "['Name',\n",
      " 'Starbucks',\n",
      " 'PhilzCoffee',\n",
      " 'BlueBottleCoffee',\n",
      " 'PeetsTea',\n",
      " 'CaffeTrieste',\n",
      " 'GrandCoffee',\n",
      " 'RitualCoffee',\n",
      " 'FourBarrel',\n",
      " 'WorkshopCafe']\n",
      "[['Alison', '3', '5', '4', '3', '', '', '5', '5', ''],\n",
      " ['April', '4', '5', '5', '3', '', '', '3', '', '5'],\n",
      " ['Vijay', '3', '5', '5', '5', '3', '2', '1', '1', '1'],\n",
      " ['Vanessa', '1', '5', '5', '2', '', '', '3', '2', '3'],\n",
      " ['Isabel', '1', '4', '4', '2', '4', '', '4', '4', ''],\n",
      " ['India', '5', '3', '3', '3', '3', '1', '', '', '3'],\n",
      " ['Dave H', '4', '5', '', '5', '', '', '', '', ''],\n",
      " ['Deepthi', '3', '5', '', '2', '', '', '', '', '2'],\n",
      " ['Ramesh', '3', '4', '', '3', '', '', '', '', '4'],\n",
      " ['Hugh Jass', '1', '5', '5', '4', '5', '2', '5', '4', '1'],\n",
      " ['Alex', '4', '5', '', '3', '', '', '', '', ''],\n",
      " ['Ajay Anand', '3', '4', '4', '3', '5', '', '', '', ''],\n",
      " ['David Feng', '2', '3', '4', '2', '2', '', '5', '4', '3'],\n",
      " ['Zach', '3', '4', '4', '3', '', '', '', '', '5'],\n",
      " ['Matt', '3', '5', '4', '3', '2', '2', '4', '3', '2'],\n",
      " ['Markus', '3', '5', '', '3', '', '', '4', '', ''],\n",
      " ['Otto', '4', '2', '2', '5', '', '', '3', '3', '3'],\n",
      " ['Alessandro', '1', '5', '3', '2', '', '', '4', '3', ''],\n",
      " ['Rocky', '3', '5', '4', '3', '3', '3', '4', '4', '3'],\n",
      " ['cheong-tseng eng', '3', '1', '', '', '', '', '4', '', '']]\n",
      "[['Alison', '3', '5', '4', '3', '', '', '5', '5', ''],\n",
      " ['April', '4', '5', '5', '3', '', '', '3', '', '5'],\n",
      " ['Vijay', '3', '5', '5', '5', '3', '2', '1', '1', '1'],\n",
      " ['Vanessa', '1', '5', '5', '2', '', '', '3', '2', '3'],\n",
      " ['Isabel', '1', '4', '4', '2', '4', '', '4', '4', ''],\n",
      " ['India', '5', '3', '3', '3', '3', '1', '', '', '3'],\n",
      " ['Dave H', '4', '5', '', '5', '', '', '', '', ''],\n",
      " ['Deepthi', '3', '5', '', '2', '', '', '', '', '2'],\n",
      " ['Ramesh', '3', '4', '', '3', '', '', '', '', '4'],\n",
      " ['Hugh Jass', '1', '5', '5', '4', '5', '2', '5', '4', '1'],\n",
      " ['Alex', '4', '5', '', '3', '', '', '', '', ''],\n",
      " ['Ajay Anand', '3', '4', '4', '3', '5', '', '', '', ''],\n",
      " ['David Feng', '2', '3', '4', '2', '2', '', '5', '4', '3'],\n",
      " ['Zach', '3', '4', '4', '3', '', '', '', '', '5'],\n",
      " ['Matt', '3', '5', '4', '3', '2', '2', '4', '3', '2'],\n",
      " ['Markus', '3', '5', '', '3', '', '', '4', '', ''],\n",
      " ['Otto', '4', '2', '2', '5', '', '', '3', '3', '3'],\n",
      " ['Alessandro', '1', '5', '3', '2', '', '', '4', '3', ''],\n",
      " ['Rocky', '3', '5', '4', '3', '3', '3', '4', '4', '3'],\n",
      " ['cheong-tseng eng', '3', '1', '', '', '', '', '4', '', '']]\n"
     ]
    }
   ],
   "source": [
    "step6_header = splitheader[1:]\n",
    "step6_data = []\n",
    "for line in splitdata:\n",
    "    step6_data.append(line[1:])\n",
    "pprint (step6_header)\n",
    "pprint (step6_data)\n",
    "\n",
    "#practicing list comprehension\n",
    "step6a_data = [x[1:] for x in splitdata]\n",
    "pprint(step6a_data)"
   ]
  },
  {
   "cell_type": "markdown",
   "metadata": {},
   "source": [
    "---\n",
    "\n",
    "### 7. Convert numeric columns to floats and empty fields to None\n",
    "\n",
    "Iterate through the data and construct a new data list of lists that has the numeric ratings converted from strings to floats, and the empty fields (which are empty strings `''`) replaced with the `None` object.\n",
    "\n",
    "Use a nested for-loop (for-loop within another for-loop) to get the job done. You will likely need to use if/else conditional statements as well!\n",
    "\n",
    "Print out the new data object to make sure it worked.\n"
   ]
  },
  {
   "cell_type": "code",
   "execution_count": 7,
   "metadata": {
    "collapsed": false
   },
   "outputs": [
    {
     "name": "stdout",
     "output_type": "stream",
     "text": [
      "[['Alison', 3.0, 5.0, 4.0, 3.0, None, None, 5.0, 5.0, None],\n",
      " ['April', 4.0, 5.0, 5.0, 3.0, None, None, 3.0, None, 5.0],\n",
      " ['Vijay', 3.0, 5.0, 5.0, 5.0, 3.0, 2.0, 1.0, 1.0, 1.0],\n",
      " ['Vanessa', 1.0, 5.0, 5.0, 2.0, None, None, 3.0, 2.0, 3.0],\n",
      " ['Isabel', 1.0, 4.0, 4.0, 2.0, 4.0, None, 4.0, 4.0, None],\n",
      " ['India', 5.0, 3.0, 3.0, 3.0, 3.0, 1.0, None, None, 3.0],\n",
      " ['Dave H', 4.0, 5.0, None, 5.0, None, None, None, None, None],\n",
      " ['Deepthi', 3.0, 5.0, None, 2.0, None, None, None, None, 2.0],\n",
      " ['Ramesh', 3.0, 4.0, None, 3.0, None, None, None, None, 4.0],\n",
      " ['Hugh Jass', 1.0, 5.0, 5.0, 4.0, 5.0, 2.0, 5.0, 4.0, 1.0],\n",
      " ['Alex', 4.0, 5.0, None, 3.0, None, None, None, None, None],\n",
      " ['Ajay Anand', 3.0, 4.0, 4.0, 3.0, 5.0, None, None, None, None],\n",
      " ['David Feng', 2.0, 3.0, 4.0, 2.0, 2.0, None, 5.0, 4.0, 3.0],\n",
      " ['Zach', 3.0, 4.0, 4.0, 3.0, None, None, None, None, 5.0],\n",
      " ['Matt', 3.0, 5.0, 4.0, 3.0, 2.0, 2.0, 4.0, 3.0, 2.0],\n",
      " ['Markus', 3.0, 5.0, None, 3.0, None, None, 4.0, None, None],\n",
      " ['Otto', 4.0, 2.0, 2.0, 5.0, None, None, 3.0, 3.0, 3.0],\n",
      " ['Alessandro', 1.0, 5.0, 3.0, 2.0, None, None, 4.0, 3.0, None],\n",
      " ['Rocky', 3.0, 5.0, 4.0, 3.0, 3.0, 3.0, 4.0, 4.0, 3.0],\n",
      " ['cheong-tseng eng', 3.0, 1.0, None, None, None, None, 4.0, None, None]]\n",
      "[['Alison', 3.0, 5.0, 4.0, 3.0, None, None, 5.0, 5.0, None],\n",
      " ['April', 4.0, 5.0, 5.0, 3.0, None, None, 3.0, None, 5.0],\n",
      " ['Vijay', 3.0, 5.0, 5.0, 5.0, 3.0, 2.0, 1.0, 1.0, 1.0],\n",
      " ['Vanessa', 1.0, 5.0, 5.0, 2.0, None, None, 3.0, 2.0, 3.0],\n",
      " ['Isabel', 1.0, 4.0, 4.0, 2.0, 4.0, None, 4.0, 4.0, None],\n",
      " ['India', 5.0, 3.0, 3.0, 3.0, 3.0, 1.0, None, None, 3.0],\n",
      " ['Dave H', 4.0, 5.0, None, 5.0, None, None, None, None, None],\n",
      " ['Deepthi', 3.0, 5.0, None, 2.0, None, None, None, None, 2.0],\n",
      " ['Ramesh', 3.0, 4.0, None, 3.0, None, None, None, None, 4.0],\n",
      " ['Hugh Jass', 1.0, 5.0, 5.0, 4.0, 5.0, 2.0, 5.0, 4.0, 1.0],\n",
      " ['Alex', 4.0, 5.0, None, 3.0, None, None, None, None, None],\n",
      " ['Ajay Anand', 3.0, 4.0, 4.0, 3.0, 5.0, None, None, None, None],\n",
      " ['David Feng', 2.0, 3.0, 4.0, 2.0, 2.0, None, 5.0, 4.0, 3.0],\n",
      " ['Zach', 3.0, 4.0, 4.0, 3.0, None, None, None, None, 5.0],\n",
      " ['Matt', 3.0, 5.0, 4.0, 3.0, 2.0, 2.0, 4.0, 3.0, 2.0],\n",
      " ['Markus', 3.0, 5.0, None, 3.0, None, None, 4.0, None, None],\n",
      " ['Otto', 4.0, 2.0, 2.0, 5.0, None, None, 3.0, 3.0, 3.0],\n",
      " ['Alessandro', 1.0, 5.0, 3.0, 2.0, None, None, 4.0, 3.0, None],\n",
      " ['Rocky', 3.0, 5.0, 4.0, 3.0, 3.0, 3.0, 4.0, 4.0, 3.0],\n",
      " ['cheong-tseng eng', 3.0, 1.0, None, None, None, None, 4.0, None, None]]\n"
     ]
    }
   ],
   "source": [
    "step7_data = []\n",
    "for line in step6_data:\n",
    "    new_line = []\n",
    "    for item in line:\n",
    "        new_value = None\n",
    "        if item.isdigit():\n",
    "            new_value = float(item)\n",
    "        elif item == '':\n",
    "            new_value = None\n",
    "        elif not item.isdigit():\n",
    "            new_value = item\n",
    "        new_line.append(new_value)\n",
    "    step7_data.append(new_line)\n",
    "pprint(step7_data)\n",
    "# list comprehension\n",
    "\n",
    "step7a_data = [[float(item) if item.isdigit() else None if item == '' else item for item in line] for line in step6a_data]\n",
    "pprint(step7a_data)"
   ]
  },
  {
   "cell_type": "markdown",
   "metadata": {},
   "source": [
    "---\n",
    "\n",
    "### 8. Count the `None` values per person\n",
    "\n",
    "Use a for loop to count the number of `None` values per person. Create a dictionary with the names of the people as keys, and the counts of `None` as values.\n",
    "\n",
    "Who rated the most coffee brands? Who rated the least?"
   ]
  },
  {
   "cell_type": "code",
   "execution_count": 8,
   "metadata": {
    "collapsed": false
   },
   "outputs": [
    {
     "name": "stdout",
     "output_type": "stream",
     "text": [
      "{'Ajay Anand': 4,\n",
      " 'Alessandro': 3,\n",
      " 'Alex': 6,\n",
      " 'Alison': 3,\n",
      " 'April': 3,\n",
      " 'Dave H': 6,\n",
      " 'David Feng': 1,\n",
      " 'Deepthi': 5,\n",
      " 'Hugh Jass': 0,\n",
      " 'India': 2,\n",
      " 'Isabel': 2,\n",
      " 'Markus': 5,\n",
      " 'Matt': 0,\n",
      " 'Otto': 2,\n",
      " 'Ramesh': 5,\n",
      " 'Rocky': 0,\n",
      " 'Vanessa': 2,\n",
      " 'Vijay': 0,\n",
      " 'Zach': 4,\n",
      " 'cheong-tseng eng': 6}\n"
     ]
    }
   ],
   "source": [
    "nonect_dict = {}\n",
    "for line in step7a_data:\n",
    "    #print line[0], 'has',len([x for x in line if x == None]),'number of Nones.'\n",
    "    nonect_dict[line[0]] = len([x for x in line if x == None])\n",
    "pprint(nonect_dict)"
   ]
  },
  {
   "cell_type": "markdown",
   "metadata": {},
   "source": [
    "---\n",
    "\n",
    "### 9. Calculate average rating per coffee brand\n",
    "\n",
    "**Excluding `None` values**, calculate the average rating per brand of coffee.\n",
    "\n",
    "The final output should be a dictionary with keys as the coffee brand names, and their average rating as the values.\n",
    "\n",
    "Remember that average can be calculated as the sum of the ratings over the number of ratings:\n",
    "\n",
    "```python\n",
    "average_rating = sum(ratings_list)/len(ratings_list)\n",
    "```\n",
    "\n",
    "Print your dictionary to see the average brand ratings."
   ]
  },
  {
   "cell_type": "code",
   "execution_count": 9,
   "metadata": {
    "collapsed": false
   },
   "outputs": [
    {
     "name": "stdout",
     "output_type": "stream",
     "text": [
      "Brand: Starbucks \t average rating 2.85\n",
      "Brand: PhilzCoffee \t average rating 4.25\n",
      "Brand: BlueBottleCoffee \t average rating 4.0\n",
      "Brand: PeetsTea \t average rating 3.10526315789\n",
      "Brand: CaffeTrieste \t average rating 3.375\n",
      "Brand: GrandCoffee \t average rating 2.0\n",
      "Brand: RitualCoffee \t average rating 3.76923076923\n",
      "Brand: FourBarrel \t average rating 3.3\n",
      "Brand: WorkshopCafe \t average rating 2.91666666667\n",
      "{'BlueBottleCoffee': 4.0,\n",
      " 'CaffeTrieste': 3.375,\n",
      " 'FourBarrel': 3.3,\n",
      " 'GrandCoffee': 2.0,\n",
      " 'PeetsTea': 3.1052631578947367,\n",
      " 'PhilzCoffee': 4.25,\n",
      " 'RitualCoffee': 3.769230769230769,\n",
      " 'Starbucks': 2.85,\n",
      " 'WorkshopCafe': 2.9166666666666665}\n"
     ]
    }
   ],
   "source": [
    "score_list = []\n",
    "avg_dict = {}\n",
    "for header in step6_header[1:]:\n",
    "    score_list.append([header,[]])\n",
    "for line in step7_data:\n",
    "    for i,rating in enumerate(line[1:]):\n",
    "        if rating != None:\n",
    "            score_list[i][1].append(rating)\n",
    "\n",
    "for x in score_list:\n",
    "    print 'Brand:',x[0],'\\t average rating',sum(x[1])/len(x[1])\n",
    "\n",
    "    \n",
    "# solution set:\n",
    "header = step6_header[1:]\n",
    "data = step7_data\n",
    "for i,j in enumerate(header):\n",
    "    avg_dict[j] = sum([x[i+1] for x in data if x[i+1]!=None])/len([x[i+1] for x in data if x[i+1]!=None])\n",
    "pprint(avg_dict)"
   ]
  },
  {
   "cell_type": "markdown",
   "metadata": {},
   "source": [
    "---\n",
    "\n",
    "### 10. Create a list of just the people\n",
    "\n",
    "This will be a list of the peoples' names. We are going to use this in the section below. This can be done with a for-loop."
   ]
  },
  {
   "cell_type": "code",
   "execution_count": 19,
   "metadata": {
    "collapsed": false
   },
   "outputs": [
    {
     "name": "stdout",
     "output_type": "stream",
     "text": [
      "['Alison',\n",
      " 'April',\n",
      " 'Vijay',\n",
      " 'Vanessa',\n",
      " 'Isabel',\n",
      " 'India',\n",
      " 'Dave H',\n",
      " 'Deepthi',\n",
      " 'Ramesh',\n",
      " 'Hugh Jass',\n",
      " 'Alex',\n",
      " 'Ajay Anand',\n",
      " 'David Feng',\n",
      " 'Zach',\n",
      " 'Matt',\n",
      " 'Markus',\n",
      " 'Otto',\n",
      " 'Alessandro',\n",
      " 'Rocky',\n",
      " 'cheong-tseng eng']\n"
     ]
    }
   ],
   "source": [
    "people = [x[0] for x in step7_data]\n",
    "pprint(people)\n",
    "\n",
    "for x in step7_data:\n",
    "    x[0]"
   ]
  },
  {
   "cell_type": "markdown",
   "metadata": {},
   "source": [
    "---\n",
    "\n",
    "### 11. Intro to `while`-loops\n",
    "\n",
    "We'll start with a basic while-loop. Create a while loop that iterates through the list of names over and over again until a stopping condition is met:\n",
    "\n",
    "1. Set up two counters variables that start at 0. One of them will be for counting the number of iterations through the while-loop. Call the first counter `vowels` and the second counter `iterations`.\n",
    "2. Construct a while-loop with the condition `while vowels < 1000:`\n",
    "3. Inside each iteration of the while loop, go through the list of names with a for-loop. On each name, count the number of vowels inside the string and add it to `vowels` (you can use another nested for-loop through the characters of the string!)\n",
    "4. Keep track of how many while-loop iterations have happened by adding 1 to `iterations` each time the for-loop runs.\n",
    "\n",
    "Strings can be conveniently converted to lowercase with the built-in function:\n",
    "\n",
    "```python\n",
    "'HELLO'.lower()\n",
    "'hello'\n",
    "```\n",
    "\n",
    "Checking to see if a character is one of multiple vowels can be done concisely with `in`:\n",
    "\n",
    "```python\n",
    "if char in ['a','e','i','o','u']:\n",
    "    vowels += 1\n",
    "```\n",
    "\n",
    "Remember, strings are iterable like lists. In fact, you could do the above code like so with the same result:\n",
    "\n",
    "```python\n",
    "if char in 'aeiou':\n",
    "    vowels += 1\n",
    "```\n",
    "\n",
    "Lastly, print out the number iterations through the for-loop it took to reach a count of 1000 vowels."
   ]
  },
  {
   "cell_type": "code",
   "execution_count": 20,
   "metadata": {
    "collapsed": false
   },
   "outputs": [
    {
     "name": "stdout",
     "output_type": "stream",
     "text": [
      "1000\n",
      "25\n"
     ]
    }
   ],
   "source": [
    "vowels = 0\n",
    "iterations = 0\n",
    "\n",
    "while vowels < 1000:\n",
    "    for current_name in people:\n",
    "        for i in current_name:\n",
    "            if i in 'aeiou':\n",
    "                vowels+=1\n",
    "    iterations +=1\n",
    "    \n",
    "\n",
    "print vowels\n",
    "print iterations"
   ]
  },
  {
   "cell_type": "markdown",
   "metadata": {},
   "source": [
    "---\n",
    "\n",
    "### 12. Picking a name at random: odds of choosing the same name 3 times in a row\n",
    "\n",
    "Now we'll use a while-loop to \"brute force\" the odds of choosing the same name 3 times in a row randomly from the list of names.\n",
    "\n",
    "Below I've imported the **`random`** package, which has the essential function for this code **`random.choice()`**.\n",
    "The function takes a list as an argument, and returns one of the elements of that list at random."
   ]
  },
  {
   "cell_type": "code",
   "execution_count": 21,
   "metadata": {
    "collapsed": false,
    "scrolled": true
   },
   "outputs": [
    {
     "name": "stdout",
     "output_type": "stream",
     "text": [
      "{'Alessandro': 1,\n",
      " 'Alex': 1,\n",
      " 'Alison': 1,\n",
      " 'April': 2,\n",
      " 'Dave H': 3,\n",
      " 'Matt': 1,\n",
      " 'Otto': 2,\n",
      " 'Ramesh': 2,\n",
      " 'Rocky': 1,\n",
      " 'Vanessa': 2}\n",
      "[3, 2, 1, 1, 2, 1, 2, 1, 2, 1]\n",
      "0.0625\n"
     ]
    }
   ],
   "source": [
    "import random\n",
    "\n",
    "count_dict = {'default':0}\n",
    "while max(count_dict.values()) <3:\n",
    "    if count_dict.get('default') != None:\n",
    "        del count_dict['default']\n",
    "    choice = random.choice(people)\n",
    "    if count_dict.get(choice) == None:\n",
    "        count_dict[choice] = 1\n",
    "    else :\n",
    "        count_dict[choice] = count_dict[choice] + 1\n",
    "\n",
    "pprint(count_dict)\n",
    "pprint(count_dict.values())\n",
    "print 1.0/ sum(count_dict.values())"
   ]
  },
  {
   "cell_type": "markdown",
   "metadata": {},
   "source": [
    "---\n",
    "\n",
    "### 12.1 Write a function to choose a person from the list randomly 3 times and check if they are all the same\n",
    "\n",
    "Define a function that has the following properties:\n",
    "\n",
    "1. Takes a list (your list of names) as an argument.\n",
    "2. Selects a name using `random.choice(people)` three separate times.\n",
    "3. Returns `True` if the name was the same all three times. Otherwise returns `False`."
   ]
  },
  {
   "cell_type": "code",
   "execution_count": 16,
   "metadata": {
    "collapsed": false
   },
   "outputs": [
    {
     "name": "stdout",
     "output_type": "stream",
     "text": [
      "False\n"
     ]
    }
   ],
   "source": [
    "def triple_pull(list_of_names):\n",
    "    return random.choice(list_of_names) == random.choice(list_of_names) == random.choice(list_of_names)\n",
    "\n",
    "print triple_pull(people)"
   ]
  },
  {
   "cell_type": "markdown",
   "metadata": {},
   "source": [
    "---\n",
    "\n",
    "### 12.2 Construct a while loop to run the choosing function until it returns True\n",
    "\n",
    "Run the function until you draw the same person 3 times using a while-loop. Keep track of how many tries it took and print out the number of tries after it runs."
   ]
  },
  {
   "cell_type": "code",
   "execution_count": 22,
   "metadata": {
    "collapsed": false
   },
   "outputs": [
    {
     "name": "stdout",
     "output_type": "stream",
     "text": [
      "768\n"
     ]
    }
   ],
   "source": [
    "counter = 0\n",
    "while not triple_pull(people):\n",
    "    counter+=1\n",
    "print counter"
   ]
  },
  {
   "cell_type": "markdown",
   "metadata": {},
   "source": [
    "---\n",
    "\n",
    "### 12.3 Write a function to see on average how many tries your choosing function takes\n",
    "\n",
    "Your function will run the while-loop logic you constructed above a specified number of times, then average how many iterations it took across the different while-loops. \n",
    "\n",
    "1. The function takes one argument, the number of iterations.\n",
    "2. Keep track of the number of tries across iterations in a list.\n",
    "3. Write a for-loop that runs the number of specified iterations.\n",
    "4. Inside the for-loop logic you will put the while-loop logic above, appending the number of tries it took on the current iteration to your list.\n",
    "5. Return the average number of tries it took across iterations.\n",
    "\n",
    "A very common python pattern for for-loops with a specified number of iterations uses the `range()` function, which when given an integer as an argument returns a list from `0` up to that integer (the length of which is, of course, the integer you provided):\n",
    "\n",
    "```python\n",
    "print range(10)\n",
    "[0, 1, 2, 3, 4, 5, 6, 7, 8, 9]\n",
    "\n",
    "for i in range(10):\n",
    "    # will run 10 times\n",
    "```\n",
    "\n",
    "Once your function is completed, see how many tries on average it takes with 1, 5, 10, 100, 1000, and 10000 iterations, printing out each call to the function. You can see it converge with more and more iterations!"
   ]
  },
  {
   "cell_type": "code",
   "execution_count": 23,
   "metadata": {
    "collapsed": false
   },
   "outputs": [
    {
     "name": "stdout",
     "output_type": "stream",
     "text": [
      "1 iterations 236 average tries\n",
      "5 iterations 242 average tries\n",
      "10 iterations 277 average tries\n",
      "100 iterations 362 average tries\n",
      "1000 iterations 411 average tries\n",
      "10000 iterations 401 average tries\n"
     ]
    }
   ],
   "source": [
    "def avg_tries(iterations):\n",
    "    attempts = []\n",
    "    for i in range(iterations):\n",
    "        counter = 0\n",
    "        while not triple_pull(people):\n",
    "            counter+=1\n",
    "        attempts.append(counter)\n",
    "    return sum(attempts)/iterations\n",
    "\n",
    "for x in [1,5,10,100,1000,10000]:\n",
    "    print x,'iterations', avg_tries(x), 'average tries'\n",
    "\n",
    "        "
   ]
  },
  {
   "cell_type": "markdown",
   "metadata": {},
   "source": [
    "---\n",
    "\n",
    "### 13. [Challenge] Reorder the people by similarity of rating\n",
    "\n",
    "Imagine you are seating the 20 people at a very large, round coffee table. You want them to have as similar taste in coffee as possible so that they can small-talk effortlessly with each other. \n",
    "\n",
    "### 13.1 Write a function to calculate a \"similarity score\"\n",
    "\n",
    "First we need to define the similarity score between people. The score will be the average of the absolute values of the differences between their non-None ratings. \n",
    "\n",
    "That's a mouthful. Iterate through the coffee ratings of two different people. If they are both not `None`, then subtract one from the other and take the absolute value. This is the \"rating difference\" for that coffee brand between two people. The average rating difference will be the average of these ratings across all the coffee brands they both rated.\n",
    "\n",
    "You can use the handy `zip()` function to iterate through two lists at the same time:\n",
    "\n",
    "```python\n",
    "for person1_rating, person2_rating in zip(person1_coffee_ratings, person2_coffee_ratings):\n",
    "    rating_difference = abs(person1_rating1 - person2_rating1)\n",
    "    rating_differences.append(rating_difference)\n",
    "```\n",
    "\n",
    "In this case, **lower scores mean more similar!**\n",
    "\n",
    "Check your function out on the first and second person in the data, printing their similarity score."
   ]
  },
  {
   "cell_type": "code",
   "execution_count": 26,
   "metadata": {
    "collapsed": false
   },
   "outputs": [
    {
     "name": "stdout",
     "output_type": "stream",
     "text": [
      "[0.0, 1.0, 5.0, 2.0, 3.0, 2.0, 1.0, 1.0, 3.0]\n",
      "2.0\n",
      "['Vijay', 3.0, 5.0, 5.0, 5.0, 3.0, 2.0, 1.0, 1.0, 1.0] ['Ramesh', 3.0, 4.0, None, 3.0, None, None, None, None, 4.0]\n"
     ]
    }
   ],
   "source": [
    "#pprint(step7a_data)\n",
    "\n",
    "def similarity_score(person1,person2):\n",
    "    abs_diff = []\n",
    "    for rating1,rating2 in zip(person1[1:],person2[1:]):\n",
    "        if not(rating1 == None and rating2 == None):\n",
    "            if rating1 == None:\n",
    "                clean_rating1 = 0\n",
    "            else: \n",
    "                clean_rating1 = rating1\n",
    "            if rating2 == None:\n",
    "                clean_rating2 = 0\n",
    "            else: \n",
    "                clean_rating2 = rating2        \n",
    "            abs_diff.append(abs(clean_rating1-clean_rating2))\n",
    "    #print abs_diff\n",
    "    return sum(abs_diff)/len(abs_diff)\n",
    "\n",
    "print(similarity_score(step7_data[2],step7_data[8]))\n",
    "print step7_data[2], step7_data[8]"
   ]
  },
  {
   "cell_type": "markdown",
   "metadata": {},
   "source": [
    "---\n",
    "\n",
    "### 13.2 Find the total similarity across all neighbors\n",
    "\n",
    "You're given code for a list of lists titled `neighbors` that has all of the pairs of people sitting next to each other at this round table by index in your dataset. The indexes are the row numbers.\n",
    "\n",
    "Write a function to calculate the total similarity score for the dataset:\n",
    "\n",
    "1. The function should take the list of lists (your person rating data) and the neighbors list of lists as arguments.\n",
    "2. Iterate through the neighbor index pairs and use your similarity score function above to calculate the similarity score for each neighbor pair.\n",
    "3. Return the total similarity score for the dataset in the current order.\n",
    "\n",
    "Print out the total similarity score for the dataset in its current order."
   ]
  },
  {
   "cell_type": "code",
   "execution_count": 91,
   "metadata": {
    "collapsed": true
   },
   "outputs": [],
   "source": [
    "indices = range(len(data))\n",
    "shifted = range(1, len(data)+1)\n",
    "shifted[-1] = 0\n",
    "neighbors = zip(indices, shifted)\n"
   ]
  },
  {
   "cell_type": "code",
   "execution_count": null,
   "metadata": {
    "collapsed": false
   },
   "outputs": [],
   "source": [
    "def neighbor_scores(neighbors, data):\n",
    "    info = []\n",
    "    scores = []\n",
    "    for combo in neighbors:\n",
    "        info.append([combo,data[combo[0]][0], data[combo[1]][0]])\n",
    "        scores.append(similarity_score(data[combo[0]],data[combo[1]]))\n",
    "    for j,k in zip(info, scores):\n",
    "        print j,k\n",
    "    return(sum(scores))\n",
    "\n",
    "print neighbor_scores(neighbors, step7_data)"
   ]
  },
  {
   "cell_type": "markdown",
   "metadata": {},
   "source": [
    "---\n",
    "\n",
    "### 13.3 \"Brute force\" an optimal ordering. \n",
    "\n",
    "The number of possible seating permutations with even 20 people is 2,432,902,008,176,640,000. We can't search them all, so instead we'll randomly shuffle the dataset iteratively and select the new random shuffle when the similarity score for the newer ordering is lower than the current best.\n",
    "\n",
    "Here is your process:\n",
    "\n",
    "1. Create a copy of the dataset called `reordered`. (Details on how to do this below).\n",
    "2. Calculate the similarity score and assign it to variable `current_similarity`.\n",
    "3. Create a variable `iteration = 0`.\n",
    "4. Construct a while-loop that will use the logic `while True:` ... we will break out of this with the `break` command when our condition is met. More on this in a second.\n",
    " - Inside the while-loop, create a `shuffled` dataset that is a copy of `reordered`.\n",
    " - Use `random.shuffle(shuffled)` to reorder the rows. This function operates **in place**, so do not assign it to a variable.\n",
    " - Calculate the similarity score for the newly shuffled dataset.\n",
    " - If the similarity score for the shuffled dataset is lower than the current:\n",
    "   - Set the current similarity score to the shuffled similarity score\n",
    "   - set `reordered = shuffled`\n",
    "   - print out the current iteration and the new best similarity score\n",
    " - If the current_similarity drops below 16 (or 15 if you want to wait longer), use `break` to break out of the while-loop.\n",
    " \n",
    "Lastly, print the `reordered` dataset to see the (more) optimal ordering of people according to how similar their ratings were!\n",
    "\n",
    "To copy lists, you can just take a \"slice\" of everything:\n",
    "\n",
    "```python\n",
    "data_copy = data[:]\n",
    "```\n",
    "\n",
    "\n",
    "If you were to just type `data_copy = data`, they will actually reference the same thing, and you wouldn't be able to do this optimization correctly."
   ]
  },
  {
   "cell_type": "code",
   "execution_count": null,
   "metadata": {
    "collapsed": false
   },
   "outputs": [],
   "source": [
    "'''current_similarity = 100\n",
    "iteration_ct = 0\n",
    "reordered = step7_data[:]\n",
    "while current_similarity >16 and iteration_cd <100:\n",
    "    current_similarity = neighbor_scores(neighbors, reordered)\n",
    "    print current_similarity\n",
    "    shuffled  = reordered[:]\n",
    "    random.shuffle(shuffled)\n",
    "    reordered = shuffled[:]\n",
    "    iteration_ct +=1\n",
    "pprint(reordered)\n",
    "print iteration_ct\n",
    "'''\n",
    "\n",
    "\n",
    "\n"
   ]
  },
  {
   "cell_type": "code",
   "execution_count": null,
   "metadata": {
    "collapsed": true
   },
   "outputs": [],
   "source": []
  }
 ],
 "metadata": {
  "kernelspec": {
   "display_name": "Python 2",
   "language": "python",
   "name": "python2"
  },
  "language_info": {
   "codemirror_mode": {
    "name": "ipython",
    "version": 2
   },
   "file_extension": ".py",
   "mimetype": "text/x-python",
   "name": "python",
   "nbconvert_exporter": "python",
   "pygments_lexer": "ipython2",
   "version": "2.7.11"
  }
 },
 "nbformat": 4,
 "nbformat_minor": 0
}
