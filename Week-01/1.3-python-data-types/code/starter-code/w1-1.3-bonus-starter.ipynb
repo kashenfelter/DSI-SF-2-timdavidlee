{
 "cells": [
  {
   "cell_type": "markdown",
   "metadata": {},
   "source": [
    "# Alternate Code Challenges #1\n",
    "\n",
    "While the rest of the class learns about types, you've already known about types and have at least a basic level of experience working with Python.  We think there are plenty of algorithms and data structures that are important to know about, which are outside the scope of our class but fall under year 1-2 computer science fundamentals.  However, with these alternate exercises, we feel are at least somehow supportive of what you might find in job interviews and Python code challenges.\n",
    "\n",
    "These are completely **optional**, but if you are unable to complete these in the beginning, come back to them once you're ready.\n",
    "\n",
    "## Requirements\n",
    "For these challenges, you will need to have a basic working knowledge of Python and be comfortable with fundamental usage.  To get the most out of these exercises you should avoid using libraries (but feel free to use buil-in types ie: zip()) as much as possible and try to construct solutions by hand as much as possible.  Also, if solutions are available, try not to peek to get the most out of this.  \n",
    "\n",
    "Feel free to search and use resources on the web but try to figure as much of these out with careful thought."
   ]
  },
  {
   "cell_type": "markdown",
   "metadata": {},
   "source": [
    "## Optional Challenege 1 - Counting Types\n",
    "\n",
    "Given a list of mixed input, implement a method that counts types of elements (given a list) and reports the quantity of items found in the input.  Output can also be an object representation (ie: dictionary).\n",
    "\n",
    "**Input:**\n",
    "\n",
    "\n",
    "    [5, \"Foo\", (2, 4, 5, 100), {\"fox\": \"mammal\"}, False, True, 2.987, \"Bar\"]\n",
    "\n",
    "\n",
    "\n",
    "**Output:**\n",
    "\n",
    "    int: 1\n",
    "    float: 1\n",
    "    string: 2\n",
    "    tuple: 1\n",
    "    dict: 1\n",
    "    boolean: 2\n"
   ]
  },
  {
   "cell_type": "code",
   "execution_count": 48,
   "metadata": {
    "collapsed": false
   },
   "outputs": [
    {
     "name": "stdout",
     "output_type": "stream",
     "text": [
      "printing dictionary\n",
      "('tuple', 1)\n",
      "('int', 5)\n",
      "('float', 3)\n",
      "('list', 1)\n",
      "('dict', 1)\n",
      "('str', 4)\n",
      "('bool', 1)\n",
      "tuple 1\n",
      "list 1\n",
      "dict 1\n",
      "bool 1\n"
     ]
    }
   ],
   "source": [
    "# Here's a bit of starter code to get you started:\n",
    "def count_types(input):\n",
    "    # Feel free to use this method or not.\n",
    "    type_dict = {}\n",
    "    for i in input:\n",
    "        \n",
    "        str_type = str(type(i)).split(\"'\")[1]\n",
    "        #print i, str_type\n",
    "        if str_type not in type_dict.keys() and str_type != \"NoneType\":\n",
    "            type_dict[str_type] = 1\n",
    "        elif str_type != \"NoneType\":\n",
    "            type_dict[str_type] = type_dict[str_type]+1\n",
    "    print \"printing dictionary\"\n",
    "    for pair in type_dict.items():\n",
    "        print pair\n",
    "    \n",
    "    # max counts of types \n",
    "    max_ct = type_dict[max(type_dict, key = type_dict.get)]\n",
    "    #-------------------\n",
    "    \n",
    "    for i in type_dict:\n",
    "        if type_dict[i] == max_ct:\n",
    "            print i, type_dict[i]\n",
    "    \n",
    "example_input = [\n",
    "    True, \n",
    "    5, \n",
    "    23.234, \n",
    "    3.55, \n",
    "    \"Kiefer is a nerd\", \n",
    "    {\"steve\": \"jobs\"}, \n",
    "    (5, 23, 55), \n",
    "    max([1, 0, 1, 1]), \n",
    "    abs(-234), \n",
    "    (5 + 3.01), \n",
    "    \"\",\n",
    "    None,\n",
    "    [5] * 20,\n",
    "    \"343434\",\n",
    "    \"5\" + \"aaaaaa2\",\n",
    "    55 % 3,\n",
    "    5^2\n",
    "]\n",
    "\n",
    "count_types(example_input)\n"
   ]
  },
  {
   "cell_type": "markdown",
   "metadata": {},
   "source": [
    "## Optional Challenge 2 - Printing Max Type\n",
    "\n",
    "Given an list input of mixed element types (ie: *example_input*), print the most common type and count.  \n",
    "\n",
    "_If there are more than one common types, print both out._\n",
    "\n",
    "**Input:**\n",
    "\n",
    "    [5, \"Foo\", (2, 4, 5, 100), {\"fox\": \"mammal\"}, False, True, 2.987, \"Bar\"]\n",
    "    \n",
    "**Output:**\n",
    "\n",
    "    string: 2\n",
    "    boolean: 2\n",
    "    \n",
    "    # String and boolean have the greatest count: 2"
   ]
  },
  {
   "cell_type": "code",
   "execution_count": 8,
   "metadata": {
    "collapsed": true
   },
   "outputs": [],
   "source": [
    "## Solution hedef count_types(input):\n",
    "    # Feel free to use this method or not.\n",
    "    type_dict = {}\n",
    "    for i in input:\n",
    "        \n",
    "        str_type = str(type(i)).split(\"'\")[1]\n",
    "        #print i, str_type\n",
    "        if str_type not in type_dict.keys() and str_type != \"NoneType\":\n",
    "            type_dict[str_type] = 1\n",
    "        elif str_type != \"NoneType\":\n",
    "            type_dict[str_type] = type_dict[str_type]+1\n",
    "    print \"printing dictionary\"\n",
    "    for pair in type_dict.items():\n",
    "        print pair\n",
    "    \n",
    "    # max counts of types \n",
    "    max_ct = type_dict[max(type_dict, key = type_dict.get)]\n",
    "    #-------------------\n",
    "    \n",
    "    for i in type_dict:\n",
    "        if type_dict[i] == max_ct:\n",
    "            print i, type_dict[i]\n",
    "    \n"
   ]
  },
  {
   "cell_type": "markdown",
   "metadata": {},
   "source": [
    "## Optional Challenge 3 - Intersection of Counts\n",
    "\n",
    "Given a 2 lists inputs with mixed element types (ie: _example_input_), print types that have the same counts from each list. \n",
    "\n",
    "_If there are more than one common types, print both out._\n",
    "\n",
    "**Input:**\n",
    "\n",
    "    Input 1:  [5, \"Foo\", (2, 4, 5, 100), {\"monkey\": \"mammal\"}, False, True, 2.987, \"Bar\", {\"snake\": \"reptile\"}]\n",
    "    Input 2:  [\"335\", False, True, \"Maybe\", 105.3, {\"kiefer\": \"nerd\"}, {234: \"value\"}]\n",
    "    \n",
    "**Output:**\n",
    "\n",
    "    strings: 2\n",
    "    booleans: 2\n",
    "    dictionaries: 2\n",
    "    floats: 2\n",
    "    \n",
    "\n",
    "** Explanation **\n",
    "* The first input has 1 int, **1 float**, **2 strings**, 1 tuple, **2 dictionaries**, **2 booleans**.\n",
    "* The second input as **2 strings**, **2 booleans**, **1 float**, **2 dictionaries**.\n",
    "* The quantities that match are **strings, booleans, dictionaries,** and **floats**.\n",
    "    \n",
    " "
   ]
  },
  {
   "cell_type": "code",
   "execution_count": 66,
   "metadata": {
    "collapsed": false
   },
   "outputs": [
    {
     "name": "stdout",
     "output_type": "stream",
     "text": [
      "\n",
      "Input1:  [True, 5, 23.234, 3.55, 'Kiefer is a nerd', {'steve': 'jobs'}, (5, 23, 55), 1, 234, 8.01, '', None, [5, 5, 5, 5, 5, 5, 5, 5, 5, 5, 5, 5, 5, 5, 5, 5, 5, 5, 5, 5], '343434', '5aaaaaa2', 1, 7] \n",
      "\n",
      "Input 2:  ['335', False, 'Maybe', 105.3, {'kiefer': 'nerd'}, 4, 12345]\n",
      "printing dictionary\n",
      "['tuple:1', 'int:5', 'float:3', 'list:1', 'dict:1', 'str:4', 'bool:1']\n",
      "printing dictionary\n",
      "['int:2', 'dict:1', 'float:1', 'bool:1', 'str:2']\n",
      "['dict:1', 'bool:1']\n"
     ]
    }
   ],
   "source": [
    "## Reuse example_input\n",
    "\n",
    "def count_types(input):\n",
    "    # Feel free to use this method or not.\n",
    "    type_dict = {}\n",
    "    for i in input:\n",
    "        \n",
    "        str_type = str(type(i)).split(\"'\")[1]\n",
    "        #print i, str_type\n",
    "        if str_type not in type_dict.keys() and str_type != \"NoneType\":\n",
    "            type_dict[str_type] = 1\n",
    "        elif str_type != \"NoneType\":\n",
    "            type_dict[str_type] = type_dict[str_type]+1\n",
    "    print \"printing dictionary\"\n",
    "    outlist = []\n",
    "    for pair in type_dict.items():\n",
    "        outlist.append(str(list(pair)[0])+\":\"+str(list(pair)[1]))\n",
    "    return outlist\n",
    "\n",
    "def count_matching_quanities(input1, input2):\n",
    "    # update code here\n",
    "    print \"\\nInput1: \", input1, \"\\n\\nInput 2: \", input2\n",
    "    sublist1 = count_types(input1)\n",
    "    print sublist1\n",
    "    sublist2 = count_types(input2)\n",
    "    print sublist2\n",
    "    print [x2 for x1 in sublist1 for x2 in sublist2 if x1==x2]\n",
    "\n",
    "example_input2 = [\n",
    "    \"335\", \n",
    "    False, \n",
    "    \"Maybe\", \n",
    "    105.3, \n",
    "    {\"kiefer\": \"nerd\"}, \n",
    "    4,\n",
    "    12345\n",
    "]\n",
    "\n",
    "count_matching_quanities(example_input, example_input2)"
   ]
  },
  {
   "cell_type": "code",
   "execution_count": null,
   "metadata": {
    "collapsed": true
   },
   "outputs": [],
   "source": []
  }
 ],
 "metadata": {
  "kernelspec": {
   "display_name": "Python 2",
   "language": "python",
   "name": "python2"
  },
  "language_info": {
   "codemirror_mode": {
    "name": "ipython",
    "version": 2
   },
   "file_extension": ".py",
   "mimetype": "text/x-python",
   "name": "python",
   "nbconvert_exporter": "python",
   "pygments_lexer": "ipython2",
   "version": "2.7.11"
  }
 },
 "nbformat": 4,
 "nbformat_minor": 0
}
