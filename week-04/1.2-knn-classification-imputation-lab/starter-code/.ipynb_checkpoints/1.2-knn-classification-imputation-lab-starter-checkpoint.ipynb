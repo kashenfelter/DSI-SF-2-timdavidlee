{
 "cells": [
  {
   "cell_type": "markdown",
   "metadata": {},
   "source": [
    "# KNN for classification and imputation\n",
    "\n",
    "In this lab you'll practice using KNN for classification first, then explore how it can be used for effective variable imputation."
   ]
  },
  {
   "cell_type": "markdown",
   "metadata": {},
   "source": [
    "---\n",
    "\n",
    "### 1. Load packages"
   ]
  },
  {
   "cell_type": "code",
   "execution_count": 1,
   "metadata": {
    "collapsed": true
   },
   "outputs": [],
   "source": [
    "import matplotlib.pyplot as plt\n",
    "import numpy as np\n",
    "import pandas as pd\n",
    "\n",
    "import seaborn as sns\n",
    "\n",
    "\n",
    "%matplotlib inline\n",
    "%config InlineBackend.figure_format = 'retina'\n",
    "\n",
    "from sklearn.neighbors import KNeighborsClassifier"
   ]
  },
  {
   "cell_type": "code",
   "execution_count": 2,
   "metadata": {
    "collapsed": false
   },
   "outputs": [],
   "source": [
    "import imp\n",
    "plotter = imp.load_source('plotter', '/Users/tlee010/desktop/DSI-SF-2-timdavidlee/utils/plotting/knn_plotter.py')\n",
    "from plotter import KNNBoundaryPlotter"
   ]
  },
  {
   "cell_type": "markdown",
   "metadata": {},
   "source": [
    "---\n",
    "\n",
    "### 3. Load datasets\n"
   ]
  },
  {
   "cell_type": "code",
   "execution_count": 27,
   "metadata": {
    "collapsed": true
   },
   "outputs": [],
   "source": [
    "affair = pd.read_csv('/Users/tlee010/desktop/DSI-SF-2-timdavidlee/datasets/affairs/affair.csv')\n",
    "churn = pd.read_csv('/Users/tlee010/desktop/DSI-SF-2-timdavidlee/datasets/cell_phone_churn/cell_phone_churn.csv')\n",
    "coffee = pd.read_csv('/Users/tlee010/desktop/DSI-SF-2-timdavidlee/datasets/coffee_preferences/dat12-coffee-preferences.csv')"
   ]
  },
  {
   "cell_type": "markdown",
   "metadata": {},
   "source": [
    "---\n",
    "\n",
    "### 4. Encode affairs vs. not in affair dataset \n",
    "\n",
    "This will be your binary target class variable."
   ]
  },
  {
   "cell_type": "code",
   "execution_count": 28,
   "metadata": {
    "collapsed": false
   },
   "outputs": [],
   "source": [
    "affair.head()\n",
    "#bcw['malignant'] = bcw['malignant'].map(lambda x: 0 if x == \"B\" else 1)\n",
    "\n",
    "affair.nbaffairs.unique()\n",
    "affair['had_affair'] = affair['nbaffairs'].map(lambda x: 1 if x > 0 else 0)\n",
    "\n"
   ]
  },
  {
   "cell_type": "markdown",
   "metadata": {},
   "source": [
    "---\n",
    "\n",
    "### 5. Clean and convert string variables"
   ]
  },
  {
   "cell_type": "code",
   "execution_count": 29,
   "metadata": {
    "collapsed": false
   },
   "outputs": [],
   "source": [
    "affair['sex'] = affair['sex'].map(lambda x: 1 if x == 'male' else 0)\n",
    "affair['child'] = affair['child'].map(lambda x: 1 if x == 'yes' else 0)\n",
    "affair.drop('Unnamed: 0', axis = 1, inplace=True)\n",
    "\n",
    "\n"
   ]
  },
  {
   "cell_type": "code",
   "execution_count": 30,
   "metadata": {
    "collapsed": false
   },
   "outputs": [
    {
     "data": {
      "text/html": [
       "<div>\n",
       "<table border=\"1\" class=\"dataframe\">\n",
       "  <thead>\n",
       "    <tr style=\"text-align: right;\">\n",
       "      <th></th>\n",
       "      <th>sex</th>\n",
       "      <th>age</th>\n",
       "      <th>ym</th>\n",
       "      <th>child</th>\n",
       "      <th>religious</th>\n",
       "      <th>education</th>\n",
       "      <th>occupation</th>\n",
       "      <th>rate</th>\n",
       "      <th>nbaffairs</th>\n",
       "      <th>had_affair</th>\n",
       "    </tr>\n",
       "  </thead>\n",
       "  <tbody>\n",
       "    <tr>\n",
       "      <th>0</th>\n",
       "      <td>1</td>\n",
       "      <td>37.0</td>\n",
       "      <td>10.00</td>\n",
       "      <td>0</td>\n",
       "      <td>3</td>\n",
       "      <td>18</td>\n",
       "      <td>7</td>\n",
       "      <td>4</td>\n",
       "      <td>0</td>\n",
       "      <td>0</td>\n",
       "    </tr>\n",
       "    <tr>\n",
       "      <th>1</th>\n",
       "      <td>0</td>\n",
       "      <td>27.0</td>\n",
       "      <td>4.00</td>\n",
       "      <td>0</td>\n",
       "      <td>4</td>\n",
       "      <td>14</td>\n",
       "      <td>6</td>\n",
       "      <td>4</td>\n",
       "      <td>0</td>\n",
       "      <td>0</td>\n",
       "    </tr>\n",
       "    <tr>\n",
       "      <th>2</th>\n",
       "      <td>0</td>\n",
       "      <td>32.0</td>\n",
       "      <td>15.00</td>\n",
       "      <td>1</td>\n",
       "      <td>1</td>\n",
       "      <td>12</td>\n",
       "      <td>1</td>\n",
       "      <td>4</td>\n",
       "      <td>0</td>\n",
       "      <td>0</td>\n",
       "    </tr>\n",
       "    <tr>\n",
       "      <th>3</th>\n",
       "      <td>1</td>\n",
       "      <td>57.0</td>\n",
       "      <td>15.00</td>\n",
       "      <td>1</td>\n",
       "      <td>5</td>\n",
       "      <td>18</td>\n",
       "      <td>6</td>\n",
       "      <td>5</td>\n",
       "      <td>0</td>\n",
       "      <td>0</td>\n",
       "    </tr>\n",
       "    <tr>\n",
       "      <th>4</th>\n",
       "      <td>1</td>\n",
       "      <td>22.0</td>\n",
       "      <td>0.75</td>\n",
       "      <td>0</td>\n",
       "      <td>2</td>\n",
       "      <td>17</td>\n",
       "      <td>6</td>\n",
       "      <td>3</td>\n",
       "      <td>0</td>\n",
       "      <td>0</td>\n",
       "    </tr>\n",
       "  </tbody>\n",
       "</table>\n",
       "</div>"
      ],
      "text/plain": [
       "   sex   age     ym  child  religious  education  occupation  rate  nbaffairs  \\\n",
       "0    1  37.0  10.00      0          3         18           7     4          0   \n",
       "1    0  27.0   4.00      0          4         14           6     4          0   \n",
       "2    0  32.0  15.00      1          1         12           1     4          0   \n",
       "3    1  57.0  15.00      1          5         18           6     5          0   \n",
       "4    1  22.0   0.75      0          2         17           6     3          0   \n",
       "\n",
       "   had_affair  \n",
       "0           0  \n",
       "1           0  \n",
       "2           0  \n",
       "3           0  \n",
       "4           0  "
      ]
     },
     "execution_count": 30,
     "metadata": {},
     "output_type": "execute_result"
    }
   ],
   "source": [
    "affair.head()"
   ]
  },
  {
   "cell_type": "code",
   "execution_count": 31,
   "metadata": {
    "collapsed": false
   },
   "outputs": [
    {
     "data": {
      "text/plain": [
       "<matplotlib.axes._subplots.AxesSubplot at 0x11e9e71d0>"
      ]
     },
     "execution_count": 31,
     "metadata": {},
     "output_type": "execute_result"
    },
    {
     "data": {
      "image/png": "[encoded data removed]",
      "text/plain": [
       "<matplotlib.figure.Figure at 0x11e9df210>"
      ]
     },
     "metadata": {
      "image/png": {
       "height": 292,
       "width": 392
      }
     },
     "output_type": "display_data"
    }
   ],
   "source": [
    "aff_corr = affair.corr()\n",
    "\n",
    "# Generate a mask for the upper triangle (taken from seaborn example gallery)\n",
    "mask = np.zeros_like(aff_corr, dtype=np.bool)\n",
    "mask[np.triu_indices_from(mask)] = True\n",
    "\n",
    "sns.heatmap(aff_corr, mask=mask)\n",
    "\n"
   ]
  },
  {
   "cell_type": "markdown",
   "metadata": {},
   "source": [
    "---\n",
    "\n",
    "### 6. Fit a `KNeighborsClassifier` with `weights='uniform'` and `n_neighbors=3`\n",
    "\n",
    "You should choose **2 predictor variables** to predict had affair vs. not"
   ]
  },
  {
   "cell_type": "code",
   "execution_count": 35,
   "metadata": {
    "collapsed": false
   },
   "outputs": [
    {
     "name": "stdout",
     "output_type": "stream",
     "text": [
      "    age  education\n",
      "0  37.0         18\n",
      "1  27.0         14\n",
      "2  32.0         12\n",
      "3  57.0         18\n",
      "4  22.0         17\n",
      "0    0\n",
      "1    0\n",
      "2    0\n",
      "3    0\n",
      "4    0\n",
      "Name: had_affair, dtype: int64\n"
     ]
    }
   ],
   "source": [
    "# will choose Age and education\n",
    "X_all = affair.loc[:,['age','education']]\n",
    "y_all = affair.loc[:,'had_affair']\n",
    "\n",
    "print X_all.head()\n",
    "print y_all.head()\n",
    "\n",
    "knn_n3 = KNeighborsClassifier(n_neighbors=3,\n",
    "                                   weights='uniform')\n",
    "\n",
    "knn_model = knn_n3.fit(X_all,y_all)\n",
    "y_hat = knn_n3.predict(X_all)"
   ]
  },
  {
   "cell_type": "markdown",
   "metadata": {},
   "source": [
    "---\n",
    "\n",
    "### 7. Cross-validate the classifier with `StratifiedKFold`\n",
    "\n"
   ]
  },
  {
   "cell_type": "code",
   "execution_count": 42,
   "metadata": {
    "collapsed": false
   },
   "outputs": [
    {
     "name": "stdout",
     "output_type": "stream",
     "text": [
      "('Fold accuracy:', 0.72139303482587069)\n",
      "('Fold accuracy:', 0.72999999999999998)\n",
      "('Fold accuracy:', 0.72999999999999998)\n",
      "('Mean CV accuracy:', 0.72713101160862348)\n"
     ]
    }
   ],
   "source": [
    "from sklearn.cross_validation import StratifiedKFold\n",
    "\n",
    "#split the data \n",
    "knn_n3 = KNeighborsClassifier(n_neighbors=3,\n",
    "                                   weights='uniform')\n",
    "cv_indices = StratifiedKFold(y_all, n_folds=3)\n",
    "\n",
    "y_np = y_all.values\n",
    "X_np = X_all.values\n",
    "\n",
    "\n",
    "def accuracy_crossvalidator(X, Y, knn, cv_indices):\n",
    "    \n",
    "    # list to store the scores/accuracy of folds\n",
    "    scores = []\n",
    "    \n",
    "    # iterate through the training and testing folds in cv_indices\n",
    "    for train_i, test_i in cv_indices:\n",
    "        \n",
    "        # get the current X train & test subsets of X\n",
    "        X_train = X[train_i, :]\n",
    "        X_test = X[test_i, :]\n",
    "\n",
    "        # get the Y train & test subsets of Y\n",
    "        Y_train = Y[train_i]\n",
    "        Y_test = Y[test_i]\n",
    "\n",
    "        # fit the knn model on the training data\n",
    "        knn.fit(X_train, Y_train)\n",
    "        \n",
    "        # get the accuracy predicting the testing data\n",
    "        acc = knn.score(X_test, Y_test)\n",
    "        scores.append(acc)\n",
    "        \n",
    "        print('Fold accuracy:', acc)\n",
    "        \n",
    "    print('Mean CV accuracy:', np.mean(scores))\n",
    "\n",
    "accuracy_crossvalidator(X_np, y_np,  knn_n3, cv_indices)\n"
   ]
  },
  {
   "cell_type": "markdown",
   "metadata": {},
   "source": [
    "---\n",
    "\n",
    "### 8. Do the same but with  `n_neighbors=11`\n",
    "\n",
    "Use the same predictor variables and cv folds."
   ]
  },
  {
   "cell_type": "code",
   "execution_count": 43,
   "metadata": {
    "collapsed": false
   },
   "outputs": [
    {
     "name": "stdout",
     "output_type": "stream",
     "text": [
      "('Fold accuracy:', 0.74545454545454548)\n",
      "('Fold accuracy:', 0.72727272727272729)\n",
      "('Fold accuracy:', 0.69090909090909092)\n",
      "('Fold accuracy:', 0.74545454545454548)\n",
      "('Fold accuracy:', 0.74545454545454548)\n",
      "('Fold accuracy:', 0.74545454545454548)\n",
      "('Fold accuracy:', 0.74545454545454548)\n",
      "('Fold accuracy:', 0.7592592592592593)\n",
      "('Fold accuracy:', 0.72222222222222221)\n",
      "('Fold accuracy:', 0.7592592592592593)\n",
      "('Fold accuracy:', 0.7407407407407407)\n",
      "('Mean CV accuracy:', 0.73881236608509337)\n"
     ]
    }
   ],
   "source": [
    "knn_n3 = KNeighborsClassifier(n_neighbors=11,\n",
    "                                   weights='uniform')\n",
    "cv_indices = StratifiedKFold(y_all, n_folds=11)\n",
    "\n",
    "y_np = y_all.values\n",
    "X_np = X_all.values\n",
    "\n",
    "\n",
    "def accuracy_crossvalidator(X, Y, knn, cv_indices):\n",
    "    \n",
    "    # list to store the scores/accuracy of folds\n",
    "    scores = []\n",
    "    \n",
    "    # iterate through the training and testing folds in cv_indices\n",
    "    for train_i, test_i in cv_indices:\n",
    "        \n",
    "        # get the current X train & test subsets of X\n",
    "        X_train = X[train_i, :]\n",
    "        X_test = X[test_i, :]\n",
    "\n",
    "        # get the Y train & test subsets of Y\n",
    "        Y_train = Y[train_i]\n",
    "        Y_test = Y[test_i]\n",
    "\n",
    "        # fit the knn model on the training data\n",
    "        knn.fit(X_train, Y_train)\n",
    "        \n",
    "        # get the accuracy predicting the testing data\n",
    "        acc = knn.score(X_test, Y_test)\n",
    "        scores.append(acc)\n",
    "        \n",
    "        print('Fold accuracy:', acc)\n",
    "        \n",
    "    print('Mean CV accuracy:', np.mean(scores))\n",
    "\n",
    "accuracy_crossvalidator(X_np, y_np,  knn_n3, cv_indices)\n",
    "\n"
   ]
  },
  {
   "cell_type": "markdown",
   "metadata": {},
   "source": [
    "---\n",
    "\n",
    "### 9. Cross-validate a model with  `n_neighbors=11` and `weights='distance'`"
   ]
  },
  {
   "cell_type": "code",
   "execution_count": 44,
   "metadata": {
    "collapsed": false
   },
   "outputs": [
    {
     "name": "stdout",
     "output_type": "stream",
     "text": [
      "('Fold accuracy:', 0.72727272727272729)\n",
      "('Fold accuracy:', 0.72727272727272729)\n",
      "('Fold accuracy:', 0.72727272727272729)\n",
      "('Fold accuracy:', 0.74545454545454548)\n",
      "('Fold accuracy:', 0.74545454545454548)\n",
      "('Fold accuracy:', 0.70909090909090911)\n",
      "('Fold accuracy:', 0.72727272727272729)\n",
      "('Fold accuracy:', 0.7592592592592593)\n",
      "('Fold accuracy:', 0.72222222222222221)\n",
      "('Fold accuracy:', 0.70370370370370372)\n",
      "('Fold accuracy:', 0.70370370370370372)\n",
      "('Mean CV accuracy:', 0.7270890725436181)\n"
     ]
    }
   ],
   "source": [
    "knn_n3 = KNeighborsClassifier(n_neighbors=11,\n",
    "                                   weights='distance')\n",
    "cv_indices = StratifiedKFold(y_all, n_folds=11)\n",
    "\n",
    "y_np = y_all.values\n",
    "X_np = X_all.values\n",
    "\n",
    "\n",
    "def accuracy_crossvalidator(X, Y, knn, cv_indices):\n",
    "    \n",
    "    # list to store the scores/accuracy of folds\n",
    "    scores = []\n",
    "    \n",
    "    # iterate through the training and testing folds in cv_indices\n",
    "    for train_i, test_i in cv_indices:\n",
    "        \n",
    "        # get the current X train & test subsets of X\n",
    "        X_train = X[train_i, :]\n",
    "        X_test = X[test_i, :]\n",
    "\n",
    "        # get the Y train & test subsets of Y\n",
    "        Y_train = Y[train_i]\n",
    "        Y_test = Y[test_i]\n",
    "\n",
    "        # fit the knn model on the training data\n",
    "        knn.fit(X_train, Y_train)\n",
    "        \n",
    "        # get the accuracy predicting the testing data\n",
    "        acc = knn.score(X_test, Y_test)\n",
    "        scores.append(acc)\n",
    "        \n",
    "        print('Fold accuracy:', acc)\n",
    "        \n",
    "    print('Mean CV accuracy:', np.mean(scores))\n",
    "\n",
    "accuracy_crossvalidator(X_np, y_np,  knn_n3, cv_indices)"
   ]
  },
  {
   "cell_type": "markdown",
   "metadata": {},
   "source": [
    "---\n",
    "\n",
    "### 10. [Optional] Explore the model visually with the `KNNBoundaryPlotter`"
   ]
  },
  {
   "cell_type": "code",
   "execution_count": 47,
   "metadata": {
    "collapsed": false
   },
   "outputs": [
    {
     "data": {
      "image/png": "[encoded data removed]",
      "text/plain": [
       "<matplotlib.figure.Figure at 0x11ea09f50>"
      ]
     },
     "metadata": {
      "image/png": {
       "height": 484,
       "width": 611
      }
     },
     "output_type": "display_data"
    }
   ],
   "source": [
    "import imp\n",
    "plotter = imp.load_source('plotter', '/Users/tlee010/Desktop/DSI-SF-2-timdavidlee/utils/plotting/knn_plotter.py')\n",
    "from plotter import KNNBoundaryPlotter\n",
    "\n",
    "kbp = KNNBoundaryPlotter(affair, 'age', 'education', 'had_affair', nn_range=range(1,101))\n",
    "kbp.knn_mesh_runner()\n",
    "\n",
    "kbp.knn_interact()"
   ]
  },
  {
   "cell_type": "markdown",
   "metadata": {},
   "source": [
    "---\n",
    "\n",
    "### 11. With the churn dataset, find the optimal neighbors and weighting to predict churn using gridsearch\n",
    "\n",
    "Show the cross-validated accuracy of the model."
   ]
  },
  {
   "cell_type": "code",
   "execution_count": 62,
   "metadata": {
    "collapsed": false
   },
   "outputs": [
    {
     "data": {
      "text/html": [
       "<div>\n",
       "<table border=\"1\" class=\"dataframe\">\n",
       "  <thead>\n",
       "    <tr style=\"text-align: right;\">\n",
       "      <th></th>\n",
       "      <th>state</th>\n",
       "      <th>account_length</th>\n",
       "      <th>area_code</th>\n",
       "      <th>intl_plan</th>\n",
       "      <th>vmail_plan</th>\n",
       "      <th>vmail_message</th>\n",
       "      <th>day_mins</th>\n",
       "      <th>day_calls</th>\n",
       "      <th>day_charge</th>\n",
       "      <th>eve_mins</th>\n",
       "      <th>...</th>\n",
       "      <th>night_calls</th>\n",
       "      <th>night_charge</th>\n",
       "      <th>intl_mins</th>\n",
       "      <th>intl_calls</th>\n",
       "      <th>intl_charge</th>\n",
       "      <th>custserv_calls</th>\n",
       "      <th>churn</th>\n",
       "      <th>churn_clean</th>\n",
       "      <th>intl_plan_clean</th>\n",
       "      <th>state_clean</th>\n",
       "    </tr>\n",
       "  </thead>\n",
       "  <tbody>\n",
       "    <tr>\n",
       "      <th>0</th>\n",
       "      <td>KS</td>\n",
       "      <td>128</td>\n",
       "      <td>415</td>\n",
       "      <td>no</td>\n",
       "      <td>yes</td>\n",
       "      <td>25</td>\n",
       "      <td>265.1</td>\n",
       "      <td>110</td>\n",
       "      <td>45.07</td>\n",
       "      <td>197.4</td>\n",
       "      <td>...</td>\n",
       "      <td>91</td>\n",
       "      <td>11.01</td>\n",
       "      <td>10.0</td>\n",
       "      <td>3</td>\n",
       "      <td>2.70</td>\n",
       "      <td>1</td>\n",
       "      <td>False</td>\n",
       "      <td>0</td>\n",
       "      <td>0</td>\n",
       "      <td>0</td>\n",
       "    </tr>\n",
       "    <tr>\n",
       "      <th>1</th>\n",
       "      <td>OH</td>\n",
       "      <td>107</td>\n",
       "      <td>415</td>\n",
       "      <td>no</td>\n",
       "      <td>yes</td>\n",
       "      <td>26</td>\n",
       "      <td>161.6</td>\n",
       "      <td>123</td>\n",
       "      <td>27.47</td>\n",
       "      <td>195.5</td>\n",
       "      <td>...</td>\n",
       "      <td>103</td>\n",
       "      <td>11.45</td>\n",
       "      <td>13.7</td>\n",
       "      <td>3</td>\n",
       "      <td>3.70</td>\n",
       "      <td>1</td>\n",
       "      <td>False</td>\n",
       "      <td>0</td>\n",
       "      <td>0</td>\n",
       "      <td>1</td>\n",
       "    </tr>\n",
       "    <tr>\n",
       "      <th>2</th>\n",
       "      <td>NJ</td>\n",
       "      <td>137</td>\n",
       "      <td>415</td>\n",
       "      <td>no</td>\n",
       "      <td>no</td>\n",
       "      <td>0</td>\n",
       "      <td>243.4</td>\n",
       "      <td>114</td>\n",
       "      <td>41.38</td>\n",
       "      <td>121.2</td>\n",
       "      <td>...</td>\n",
       "      <td>104</td>\n",
       "      <td>7.32</td>\n",
       "      <td>12.2</td>\n",
       "      <td>5</td>\n",
       "      <td>3.29</td>\n",
       "      <td>0</td>\n",
       "      <td>False</td>\n",
       "      <td>0</td>\n",
       "      <td>0</td>\n",
       "      <td>2</td>\n",
       "    </tr>\n",
       "    <tr>\n",
       "      <th>3</th>\n",
       "      <td>OH</td>\n",
       "      <td>84</td>\n",
       "      <td>408</td>\n",
       "      <td>yes</td>\n",
       "      <td>no</td>\n",
       "      <td>0</td>\n",
       "      <td>299.4</td>\n",
       "      <td>71</td>\n",
       "      <td>50.90</td>\n",
       "      <td>61.9</td>\n",
       "      <td>...</td>\n",
       "      <td>89</td>\n",
       "      <td>8.86</td>\n",
       "      <td>6.6</td>\n",
       "      <td>7</td>\n",
       "      <td>1.78</td>\n",
       "      <td>2</td>\n",
       "      <td>False</td>\n",
       "      <td>0</td>\n",
       "      <td>1</td>\n",
       "      <td>1</td>\n",
       "    </tr>\n",
       "    <tr>\n",
       "      <th>4</th>\n",
       "      <td>OK</td>\n",
       "      <td>75</td>\n",
       "      <td>415</td>\n",
       "      <td>yes</td>\n",
       "      <td>no</td>\n",
       "      <td>0</td>\n",
       "      <td>166.7</td>\n",
       "      <td>113</td>\n",
       "      <td>28.34</td>\n",
       "      <td>148.3</td>\n",
       "      <td>...</td>\n",
       "      <td>121</td>\n",
       "      <td>8.41</td>\n",
       "      <td>10.1</td>\n",
       "      <td>3</td>\n",
       "      <td>2.73</td>\n",
       "      <td>3</td>\n",
       "      <td>False</td>\n",
       "      <td>0</td>\n",
       "      <td>1</td>\n",
       "      <td>4</td>\n",
       "    </tr>\n",
       "  </tbody>\n",
       "</table>\n",
       "<p>5 rows × 23 columns</p>\n",
       "</div>"
      ],
      "text/plain": [
       "  state  account_length  area_code intl_plan vmail_plan  vmail_message  \\\n",
       "0    KS             128        415        no        yes             25   \n",
       "1    OH             107        415        no        yes             26   \n",
       "2    NJ             137        415        no         no              0   \n",
       "3    OH              84        408       yes         no              0   \n",
       "4    OK              75        415       yes         no              0   \n",
       "\n",
       "   day_mins  day_calls  day_charge  eve_mins     ...      night_calls  \\\n",
       "0     265.1        110       45.07     197.4     ...               91   \n",
       "1     161.6        123       27.47     195.5     ...              103   \n",
       "2     243.4        114       41.38     121.2     ...              104   \n",
       "3     299.4         71       50.90      61.9     ...               89   \n",
       "4     166.7        113       28.34     148.3     ...              121   \n",
       "\n",
       "   night_charge  intl_mins  intl_calls  intl_charge  custserv_calls  churn  \\\n",
       "0         11.01       10.0           3         2.70               1  False   \n",
       "1         11.45       13.7           3         3.70               1  False   \n",
       "2          7.32       12.2           5         3.29               0  False   \n",
       "3          8.86        6.6           7         1.78               2  False   \n",
       "4          8.41       10.1           3         2.73               3  False   \n",
       "\n",
       "   churn_clean  intl_plan_clean state_clean  \n",
       "0            0                0           0  \n",
       "1            0                0           1  \n",
       "2            0                0           2  \n",
       "3            0                1           1  \n",
       "4            0                1           4  \n",
       "\n",
       "[5 rows x 23 columns]"
      ]
     },
     "execution_count": 62,
     "metadata": {},
     "output_type": "execute_result"
    }
   ],
   "source": [
    "import patsy\n",
    "from sklearn import grid_search, datasets\n",
    "\n",
    "churn = pd.read_csv('/Users/tlee010/desktop/DSI-SF-2-timdavidlee/datasets/cell_phone_churn/cell_phone_churn.csv')\n",
    "churn['churn_clean'] = churn['churn'].map(lambda x: 1 if x == True else 0)\n",
    "churn['intl_plan_clean'] = churn['intl_plan'].map(lambda x: 1 if x == 'yes' else 0)\n",
    "state_list = list(churn.state.values)\n",
    "churn['state_clean'] = churn['state'].map(lambda x: state_list.index(x))\n",
    "churn.head()"
   ]
  },
  {
   "cell_type": "code",
   "execution_count": 63,
   "metadata": {
    "collapsed": false
   },
   "outputs": [
    {
     "data": {
      "text/plain": [
       "array([128, 107, 137,  84,  75, 118, 121, 147, 117, 141,  65,  74, 168,\n",
       "        95,  62, 161,  85,  93,  76,  73,  77, 130, 111, 132, 174,  57,\n",
       "        54,  20,  49, 142, 172,  12,  72,  36,  78, 136, 149,  98, 135,\n",
       "        34, 160,  64,  59, 119,  97,  52,  60,  10,  96,  87,  81,  68,\n",
       "       125, 116,  38,  40,  43, 113, 126, 150, 138, 162,  90,  50,  82,\n",
       "       144,  46,  70,  55, 106,  94, 155,  80, 104,  99, 120, 108, 122,\n",
       "       157, 103,  63, 112,  41, 193,  61,  92, 131, 163,  91, 127, 110,\n",
       "       140,  83, 145,  56, 151, 139,   6, 115, 146, 185, 148,  32,  25,\n",
       "       179,  67,  19, 170, 164,  51, 208,  53, 105,  66,  86,  35,  88,\n",
       "       123,  45, 100, 215,  22,  33, 114,  24, 101, 143,  48,  71, 167,\n",
       "        89, 199, 166, 158, 196, 209,  16,  39, 173, 129,  44,  79,  31,\n",
       "       124,  37, 159, 194, 154,  21, 133, 224,  58,  11, 109, 102, 165,\n",
       "        18,  30, 176,  47, 190, 152,  26,  69, 186, 171,  28, 153, 169,\n",
       "        13,  27,   3,  42, 189, 156, 134, 243,  23,   1, 205, 200,   5,\n",
       "         9, 178, 181, 182, 217, 177, 210,  29, 180,   2,  17,   7, 212,\n",
       "       232, 192, 195, 197, 225, 184, 191, 201,  15, 183, 202,   8, 175,\n",
       "         4, 188, 204, 221])"
      ]
     },
     "execution_count": 63,
     "metadata": {},
     "output_type": "execute_result"
    }
   ],
   "source": [
    "churn.account_length.unique()"
   ]
  },
  {
   "cell_type": "code",
   "execution_count": 84,
   "metadata": {
    "collapsed": false
   },
   "outputs": [
    {
     "name": "stdout",
     "output_type": "stream",
     "text": [
      "(3333, 2) (3333, 1)\n",
      "0.855085508551\n",
      "{'n_neighbors': 20, 'weights': 'uniform'}\n",
      "('Fold accuracy:', 0.8532934131736527)\n",
      "('Fold accuracy:', 0.8532934131736527)\n",
      "('Fold accuracy:', 0.8532934131736527)\n",
      "('Fold accuracy:', 0.85585585585585588)\n",
      "('Fold accuracy:', 0.85585585585585588)\n",
      "('Fold accuracy:', 0.85585585585585588)\n",
      "('Fold accuracy:', 0.85585585585585588)\n",
      "('Fold accuracy:', 0.85585585585585588)\n",
      "('Fold accuracy:', 0.85585585585585588)\n",
      "('Fold accuracy:', 0.85585585585585588)\n",
      "('Mean CV accuracy:', 0.85508712305119483)\n"
     ]
    }
   ],
   "source": [
    "\n",
    "\n",
    "# make a blank knn model\n",
    "knn_blank = KNeighborsClassifier()\n",
    "\n",
    "y, X    =  patsy.dmatrices(\"churn_clean ~ state_clean + account_length -1\", data=churn, return_type=\"dataframe\")\n",
    "\n",
    "search_parameters = {\n",
    "    'n_neighbors':  [1,3,5,10,20,30,50], \n",
    "    'weights':      ['distance', 'uniform']\n",
    "}\n",
    "\n",
    "print X.shape, y.shape\n",
    "\n",
    "# Initialize gridsearch\n",
    "estimator = grid_search.GridSearchCV(knn_blank, search_parameters, cv=10)\n",
    "\n",
    "# Fit some data!\n",
    "results = estimator.fit(X.values, y.values.ravel())\n",
    "\n",
    "print results.best_score_\n",
    "print results.best_params_\n",
    "# (3333, 2) (3333, 1)\n",
    "# 0.855085508551\n",
    "# {'n_neighbors': 20, 'weights': 'uniform'}\n",
    "\n",
    "knn_opt = KNeighborsClassifier(n_neighbors = 30, weights = 'uniform')\n",
    "\n",
    "\n",
    "cv_indices = StratifiedKFold(y.values.ravel(), n_folds=10)\n",
    "accuracy_crossvalidator(X.values, y.values.ravel(),  knn_opt, cv_indices)"
   ]
  },
  {
   "cell_type": "markdown",
   "metadata": {},
   "source": [
    "---\n",
    "\n",
    "## Variable imputation with KNeighbors\n",
    "\n",
    "You can actually do both classification _and_ regression with KNN. It is quite flexible due to its simplicity. One of it's most useful features is the ability to perform very nice imputation.\n",
    "\n",
    "---\n",
    "\n",
    "### 12. Look at the coffee data, count the missing values"
   ]
  },
  {
   "cell_type": "code",
   "execution_count": 94,
   "metadata": {
    "collapsed": false
   },
   "outputs": [
    {
     "name": "stdout",
     "output_type": "stream",
     "text": [
      "            Timestamp     Name  Starbucks  PhilzCoffee  BlueBottleCoffee  \\\n",
      "0  3/17/2015 18:37:58   Alison          3            5               4.0   \n",
      "1  3/17/2015 18:38:09    April          4            5               5.0   \n",
      "2  3/17/2015 18:38:25    Vijay          3            5               5.0   \n",
      "3  3/17/2015 18:38:28  Vanessa          1            5               5.0   \n",
      "4  3/17/2015 18:38:46   Isabel          1            4               4.0   \n",
      "\n",
      "   PeetsTea  CaffeTrieste  GrandCoffee  RitualCoffee  FourBarrel  WorkshopCafe  \n",
      "0       3.0           NaN          NaN           5.0         5.0           NaN  \n",
      "1       3.0           NaN          NaN           3.0         NaN           5.0  \n",
      "2       5.0           3.0          2.0           1.0         1.0           1.0  \n",
      "3       2.0           NaN          NaN           3.0         2.0           3.0  \n",
      "4       2.0           4.0          NaN           4.0         4.0           NaN   (20, 11)\n"
     ]
    },
    {
     "data": {
      "text/plain": [
       "Timestamp            0\n",
       "Name                 0\n",
       "Starbucks            0\n",
       "PhilzCoffee          0\n",
       "BlueBottleCoffee     6\n",
       "PeetsTea             1\n",
       "CaffeTrieste        12\n",
       "GrandCoffee         15\n",
       "RitualCoffee         7\n",
       "FourBarrel          10\n",
       "WorkshopCafe         8\n",
       "dtype: int64"
      ]
     },
     "execution_count": 94,
     "metadata": {},
     "output_type": "execute_result"
    }
   ],
   "source": [
    "coffee = pd.read_csv('/Users/tlee010/desktop/DSI-SF-2-timdavidlee/datasets/coffee_preferences/dat12-coffee-preferences.csv')\n",
    "print coffee.head(), coffee.shape\n",
    "coffee.isnull().sum()"
   ]
  },
  {
   "cell_type": "markdown",
   "metadata": {},
   "source": [
    "---\n",
    "\n",
    "### 13. For each of the missing columns, build a `KNeighborsClassifier` to predict rating for that column based on the other columns\n",
    "\n",
    "Another great benefit of KNN is the ease with which it can do multi-class problems like this.\n",
    "\n",
    "[Note: there is a more complicated way to do this, but I am doing it the simple way in the solutions.]"
   ]
  },
  {
   "cell_type": "code",
   "execution_count": 93,
   "metadata": {
    "collapsed": false
   },
   "outputs": [
    {
     "name": "stdout",
     "output_type": "stream",
     "text": [
      "(20, 11) (14, 11) (6, 11)\n",
      "            Timestamp     Name  Starbucks  PhilzCoffee  BlueBottleCoffee  \\\n",
      "0  3/17/2015 18:37:58   Alison          3            5               4.0   \n",
      "1  3/17/2015 18:38:09    April          4            5               5.0   \n",
      "2  3/17/2015 18:38:25    Vijay          3            5               5.0   \n",
      "3  3/17/2015 18:38:28  Vanessa          1            5               5.0   \n",
      "4  3/17/2015 18:38:46   Isabel          1            4               4.0   \n",
      "\n",
      "   PeetsTea  CaffeTrieste  GrandCoffee  RitualCoffee  FourBarrel  WorkshopCafe  \n",
      "0       3.0           NaN          NaN           5.0         5.0           NaN  \n",
      "1       3.0           NaN          NaN           3.0         NaN           5.0  \n",
      "2       5.0           3.0          2.0           1.0         1.0           1.0  \n",
      "3       2.0           NaN          NaN           3.0         2.0           3.0  \n",
      "4       2.0           4.0          NaN           4.0         4.0           NaN  \n"
     ]
    }
   ],
   "source": [
    "#BlueBottleCoffee\n",
    "train = coffee[coffee['BlueBottleCoffee'].isnull()==False]\n",
    "test = coffee[coffee['BlueBottleCoffee'].isnull()==True]\n",
    "\n",
    "print coffee.shape, train.shape, test.shape\n",
    "print train.head()"
   ]
  },
  {
   "cell_type": "code",
   "execution_count": 100,
   "metadata": {
    "collapsed": false
   },
   "outputs": [
    {
     "name": "stdout",
     "output_type": "stream",
     "text": [
      "(14, 3) (14, 1)\n",
      "0.5\n",
      "{'n_neighbors': 5, 'weights': 'uniform'}\n"
     ]
    }
   ],
   "source": [
    "knn_blank = KNeighborsClassifier()\n",
    "search_parameters = {\n",
    "    'n_neighbors':  [1,3,5], \n",
    "    'weights':      ['distance', 'uniform']\n",
    "}\n",
    "y, X    =  patsy.dmatrices(\"BlueBottleCoffee ~ Starbucks + PhilzCoffee + PeetsTea-1\", data=train, return_type=\"dataframe\")\n",
    "\n",
    "print X.shape, y.shape\n",
    "\n",
    "# Initialize gridsearch\n",
    "estimator = grid_search.GridSearchCV(knn_blank, search_parameters, cv=2)\n",
    "results = estimator.fit(X.values, y.values.ravel())\n",
    "\n",
    "print results.best_score_\n",
    "print results.best_params_\n",
    "\n",
    "knn_blank = KNeighborsClassifier(n_neighbors = 5, weights='uniform')\n",
    "\n"
   ]
  },
  {
   "cell_type": "code",
   "execution_count": null,
   "metadata": {
    "collapsed": true
   },
   "outputs": [],
   "source": []
  }
 ],
 "metadata": {
  "anaconda-cloud": {},
  "kernelspec": {
   "display_name": "Python [dsi]",
   "language": "python",
   "name": "Python [dsi]"
  },
  "language_info": {
   "codemirror_mode": {
    "name": "ipython",
    "version": 2
   },
   "file_extension": ".py",
   "mimetype": "text/x-python",
   "name": "python",
   "nbconvert_exporter": "python",
   "pygments_lexer": "ipython2",
   "version": "2.7.12"
  },
  "widgets": {
   "state": {
    "f8a71e0becc64ac4b014f3edfcb689bd": {
     "views": [
      {
       "cell_index": 21
      }
     ]
    }
   },
   "version": "1.2.0"
  }
 },
 "nbformat": 4,
 "nbformat_minor": 0
}
