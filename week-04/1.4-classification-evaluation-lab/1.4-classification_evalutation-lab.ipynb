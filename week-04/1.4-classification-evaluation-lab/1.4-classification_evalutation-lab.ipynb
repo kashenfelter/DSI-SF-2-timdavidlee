{
 "cells": [
  {
   "cell_type": "markdown",
   "metadata": {},
   "source": [
    "<img src=\"https://ga-dash.s3.amazonaws.com/production/assets/logo-9f88ae6c9c3871690e33280fcf557f33.png\" style=\"float: left; margin: 15px\">\n",
    "# Classification Evaluation Lab\n",
    "Week 4 | Lab 1.4\n",
    "***\n",
    "\n",
    "The goal of our first classifcation evaluation lab is to understand working with the common tools and methods we use when we evaluate prediction in terms of classification.  Also, we will explore the possibility of engineering features with continious variables, that can be used for classifcation."
   ]
  },
  {
   "cell_type": "code",
   "execution_count": 104,
   "metadata": {
    "collapsed": true
   },
   "outputs": [],
   "source": [
    "import pandas as pd, numpy as np\n",
    "import patsy\n",
    "\n",
    "%matplotlib inline"
   ]
  },
  {
   "cell_type": "code",
   "execution_count": 105,
   "metadata": {
    "collapsed": true
   },
   "outputs": [],
   "source": [
    "\n",
    "def accuracy_crossvalidator(X, Y, knn, cv_indices):\n",
    "    \n",
    "    # list to store the scores/accuracy of folds\n",
    "    scores = []\n",
    "    \n",
    "    # iterate through the training and testing folds in cv_indices\n",
    "    for train_i, test_i in cv_indices:\n",
    "        \n",
    "        # get the current X train & test subsets of X\n",
    "        X_train = X[train_i, :]\n",
    "        X_test = X[test_i, :]\n",
    "\n",
    "        # get the Y train & test subsets of Y\n",
    "        Y_train = Y[train_i]\n",
    "        Y_test = Y[test_i]\n",
    "\n",
    "        # fit the knn model on the training data\n",
    "        knn.fit(X_train, Y_train)\n",
    "        \n",
    "        # get the accuracy predicting the testing data\n",
    "        acc = knn.score(X_test, Y_test)\n",
    "        scores.append(acc)\n",
    "        \n",
    "        print('Fold accuracy:', acc)\n",
    "        \n",
    "    print('Mean CV accuracy:', np.mean(scores))\n",
    "\n"
   ]
  },
  {
   "cell_type": "markdown",
   "metadata": {},
   "source": [
    "## Load the \"Sacramento Realestate Transactions\" housing dataset"
   ]
  },
  {
   "cell_type": "code",
   "execution_count": 106,
   "metadata": {
    "collapsed": false
   },
   "outputs": [],
   "source": [
    "df = pd.read_csv(\"/Users/tlee010/desktop/dsi-sf-2-timdavidlee/datasets/sacramento_real_estate/Sacramentorealestatetransactions.csv\")"
   ]
  },
  {
   "cell_type": "code",
   "execution_count": 107,
   "metadata": {
    "collapsed": false
   },
   "outputs": [
    {
     "data": {
      "text/html": [
       "<div>\n",
       "<table border=\"1\" class=\"dataframe\">\n",
       "  <thead>\n",
       "    <tr style=\"text-align: right;\">\n",
       "      <th></th>\n",
       "      <th>street</th>\n",
       "      <th>city</th>\n",
       "      <th>zip</th>\n",
       "      <th>state</th>\n",
       "      <th>beds</th>\n",
       "      <th>baths</th>\n",
       "      <th>sq__ft</th>\n",
       "      <th>type</th>\n",
       "      <th>sale_date</th>\n",
       "      <th>price</th>\n",
       "      <th>latitude</th>\n",
       "      <th>longitude</th>\n",
       "    </tr>\n",
       "  </thead>\n",
       "  <tbody>\n",
       "    <tr>\n",
       "      <th>0</th>\n",
       "      <td>3526 HIGH ST</td>\n",
       "      <td>SACRAMENTO</td>\n",
       "      <td>95838</td>\n",
       "      <td>CA</td>\n",
       "      <td>2</td>\n",
       "      <td>1</td>\n",
       "      <td>836</td>\n",
       "      <td>Residential</td>\n",
       "      <td>Wed May 21 00:00:00 EDT 2008</td>\n",
       "      <td>59222</td>\n",
       "      <td>38.631913</td>\n",
       "      <td>-121.434879</td>\n",
       "    </tr>\n",
       "    <tr>\n",
       "      <th>1</th>\n",
       "      <td>51 OMAHA CT</td>\n",
       "      <td>SACRAMENTO</td>\n",
       "      <td>95823</td>\n",
       "      <td>CA</td>\n",
       "      <td>3</td>\n",
       "      <td>1</td>\n",
       "      <td>1167</td>\n",
       "      <td>Residential</td>\n",
       "      <td>Wed May 21 00:00:00 EDT 2008</td>\n",
       "      <td>68212</td>\n",
       "      <td>38.478902</td>\n",
       "      <td>-121.431028</td>\n",
       "    </tr>\n",
       "    <tr>\n",
       "      <th>2</th>\n",
       "      <td>2796 BRANCH ST</td>\n",
       "      <td>SACRAMENTO</td>\n",
       "      <td>95815</td>\n",
       "      <td>CA</td>\n",
       "      <td>2</td>\n",
       "      <td>1</td>\n",
       "      <td>796</td>\n",
       "      <td>Residential</td>\n",
       "      <td>Wed May 21 00:00:00 EDT 2008</td>\n",
       "      <td>68880</td>\n",
       "      <td>38.618305</td>\n",
       "      <td>-121.443839</td>\n",
       "    </tr>\n",
       "    <tr>\n",
       "      <th>3</th>\n",
       "      <td>2805 JANETTE WAY</td>\n",
       "      <td>SACRAMENTO</td>\n",
       "      <td>95815</td>\n",
       "      <td>CA</td>\n",
       "      <td>2</td>\n",
       "      <td>1</td>\n",
       "      <td>852</td>\n",
       "      <td>Residential</td>\n",
       "      <td>Wed May 21 00:00:00 EDT 2008</td>\n",
       "      <td>69307</td>\n",
       "      <td>38.616835</td>\n",
       "      <td>-121.439146</td>\n",
       "    </tr>\n",
       "    <tr>\n",
       "      <th>4</th>\n",
       "      <td>6001 MCMAHON DR</td>\n",
       "      <td>SACRAMENTO</td>\n",
       "      <td>95824</td>\n",
       "      <td>CA</td>\n",
       "      <td>2</td>\n",
       "      <td>1</td>\n",
       "      <td>797</td>\n",
       "      <td>Residential</td>\n",
       "      <td>Wed May 21 00:00:00 EDT 2008</td>\n",
       "      <td>81900</td>\n",
       "      <td>38.519470</td>\n",
       "      <td>-121.435768</td>\n",
       "    </tr>\n",
       "  </tbody>\n",
       "</table>\n",
       "</div>"
      ],
      "text/plain": [
       "             street        city    zip state  beds  baths  sq__ft  \\\n",
       "0      3526 HIGH ST  SACRAMENTO  95838    CA     2      1     836   \n",
       "1       51 OMAHA CT  SACRAMENTO  95823    CA     3      1    1167   \n",
       "2    2796 BRANCH ST  SACRAMENTO  95815    CA     2      1     796   \n",
       "3  2805 JANETTE WAY  SACRAMENTO  95815    CA     2      1     852   \n",
       "4   6001 MCMAHON DR  SACRAMENTO  95824    CA     2      1     797   \n",
       "\n",
       "          type                     sale_date  price   latitude   longitude  \n",
       "0  Residential  Wed May 21 00:00:00 EDT 2008  59222  38.631913 -121.434879  \n",
       "1  Residential  Wed May 21 00:00:00 EDT 2008  68212  38.478902 -121.431028  \n",
       "2  Residential  Wed May 21 00:00:00 EDT 2008  68880  38.618305 -121.443839  \n",
       "3  Residential  Wed May 21 00:00:00 EDT 2008  69307  38.616835 -121.439146  \n",
       "4  Residential  Wed May 21 00:00:00 EDT 2008  81900  38.519470 -121.435768  "
      ]
     },
     "execution_count": 107,
     "metadata": {},
     "output_type": "execute_result"
    }
   ],
   "source": [
    "df.head()"
   ]
  },
  {
   "cell_type": "markdown",
   "metadata": {},
   "source": [
    "### 1. Create a binary variable where 1 indicates a house sold for over 200,000 and 0 indicates a house sold for equal to or less than 200,000."
   ]
  },
  {
   "cell_type": "code",
   "execution_count": 108,
   "metadata": {
    "collapsed": false,
    "scrolled": false
   },
   "outputs": [
    {
     "data": {
      "text/html": [
       "<div>\n",
       "<table border=\"1\" class=\"dataframe\">\n",
       "  <thead>\n",
       "    <tr style=\"text-align: right;\">\n",
       "      <th></th>\n",
       "      <th>street</th>\n",
       "      <th>city</th>\n",
       "      <th>zip</th>\n",
       "      <th>state</th>\n",
       "      <th>beds</th>\n",
       "      <th>baths</th>\n",
       "      <th>sq__ft</th>\n",
       "      <th>type</th>\n",
       "      <th>sale_date</th>\n",
       "      <th>price</th>\n",
       "      <th>latitude</th>\n",
       "      <th>longitude</th>\n",
       "      <th>target_200</th>\n",
       "      <th>target_100</th>\n",
       "    </tr>\n",
       "  </thead>\n",
       "  <tbody>\n",
       "    <tr>\n",
       "      <th>0</th>\n",
       "      <td>3526 HIGH ST</td>\n",
       "      <td>SACRAMENTO</td>\n",
       "      <td>95838</td>\n",
       "      <td>CA</td>\n",
       "      <td>2</td>\n",
       "      <td>1</td>\n",
       "      <td>836</td>\n",
       "      <td>Residential</td>\n",
       "      <td>Wed May 21 00:00:00 EDT 2008</td>\n",
       "      <td>59222</td>\n",
       "      <td>38.631913</td>\n",
       "      <td>-121.434879</td>\n",
       "      <td>0</td>\n",
       "      <td>0</td>\n",
       "    </tr>\n",
       "    <tr>\n",
       "      <th>1</th>\n",
       "      <td>51 OMAHA CT</td>\n",
       "      <td>SACRAMENTO</td>\n",
       "      <td>95823</td>\n",
       "      <td>CA</td>\n",
       "      <td>3</td>\n",
       "      <td>1</td>\n",
       "      <td>1167</td>\n",
       "      <td>Residential</td>\n",
       "      <td>Wed May 21 00:00:00 EDT 2008</td>\n",
       "      <td>68212</td>\n",
       "      <td>38.478902</td>\n",
       "      <td>-121.431028</td>\n",
       "      <td>0</td>\n",
       "      <td>0</td>\n",
       "    </tr>\n",
       "    <tr>\n",
       "      <th>2</th>\n",
       "      <td>2796 BRANCH ST</td>\n",
       "      <td>SACRAMENTO</td>\n",
       "      <td>95815</td>\n",
       "      <td>CA</td>\n",
       "      <td>2</td>\n",
       "      <td>1</td>\n",
       "      <td>796</td>\n",
       "      <td>Residential</td>\n",
       "      <td>Wed May 21 00:00:00 EDT 2008</td>\n",
       "      <td>68880</td>\n",
       "      <td>38.618305</td>\n",
       "      <td>-121.443839</td>\n",
       "      <td>0</td>\n",
       "      <td>0</td>\n",
       "    </tr>\n",
       "    <tr>\n",
       "      <th>3</th>\n",
       "      <td>2805 JANETTE WAY</td>\n",
       "      <td>SACRAMENTO</td>\n",
       "      <td>95815</td>\n",
       "      <td>CA</td>\n",
       "      <td>2</td>\n",
       "      <td>1</td>\n",
       "      <td>852</td>\n",
       "      <td>Residential</td>\n",
       "      <td>Wed May 21 00:00:00 EDT 2008</td>\n",
       "      <td>69307</td>\n",
       "      <td>38.616835</td>\n",
       "      <td>-121.439146</td>\n",
       "      <td>0</td>\n",
       "      <td>0</td>\n",
       "    </tr>\n",
       "    <tr>\n",
       "      <th>4</th>\n",
       "      <td>6001 MCMAHON DR</td>\n",
       "      <td>SACRAMENTO</td>\n",
       "      <td>95824</td>\n",
       "      <td>CA</td>\n",
       "      <td>2</td>\n",
       "      <td>1</td>\n",
       "      <td>797</td>\n",
       "      <td>Residential</td>\n",
       "      <td>Wed May 21 00:00:00 EDT 2008</td>\n",
       "      <td>81900</td>\n",
       "      <td>38.519470</td>\n",
       "      <td>-121.435768</td>\n",
       "      <td>0</td>\n",
       "      <td>0</td>\n",
       "    </tr>\n",
       "  </tbody>\n",
       "</table>\n",
       "</div>"
      ],
      "text/plain": [
       "             street        city    zip state  beds  baths  sq__ft  \\\n",
       "0      3526 HIGH ST  SACRAMENTO  95838    CA     2      1     836   \n",
       "1       51 OMAHA CT  SACRAMENTO  95823    CA     3      1    1167   \n",
       "2    2796 BRANCH ST  SACRAMENTO  95815    CA     2      1     796   \n",
       "3  2805 JANETTE WAY  SACRAMENTO  95815    CA     2      1     852   \n",
       "4   6001 MCMAHON DR  SACRAMENTO  95824    CA     2      1     797   \n",
       "\n",
       "          type                     sale_date  price   latitude   longitude  \\\n",
       "0  Residential  Wed May 21 00:00:00 EDT 2008  59222  38.631913 -121.434879   \n",
       "1  Residential  Wed May 21 00:00:00 EDT 2008  68212  38.478902 -121.431028   \n",
       "2  Residential  Wed May 21 00:00:00 EDT 2008  68880  38.618305 -121.443839   \n",
       "3  Residential  Wed May 21 00:00:00 EDT 2008  69307  38.616835 -121.439146   \n",
       "4  Residential  Wed May 21 00:00:00 EDT 2008  81900  38.519470 -121.435768   \n",
       "\n",
       "   target_200  target_100  \n",
       "0           0           0  \n",
       "1           0           0  \n",
       "2           0           0  \n",
       "3           0           0  \n",
       "4           0           0  "
      ]
     },
     "execution_count": 108,
     "metadata": {},
     "output_type": "execute_result"
    }
   ],
   "source": [
    "df['target_200'] = df['price'].map(lambda x: 1 if x > 200000 else 0)\n",
    "df['target_100'] = df['price'].map(lambda x: 1 if x > 100000 else 0)\n",
    "df.head()"
   ]
  },
  {
   "cell_type": "markdown",
   "metadata": {},
   "source": [
    "### 2. Subset the data to just contain the number of beds, baths, the sq ft, and the over 200k indicator / response variable.\n",
    "\n",
    "Use patsy for this please!"
   ]
  },
  {
   "cell_type": "code",
   "execution_count": 109,
   "metadata": {
    "collapsed": false
   },
   "outputs": [],
   "source": [
    "formula = 'target_200 ~ beds + baths + sq__ft-1'\n",
    "y, x = patsy.dmatrices(formula,data=df,return_type =\"dataframe\")\n",
    "formula = 'target_100 ~ beds + baths + sq__ft-1'\n",
    "y2, x2 = patsy.dmatrices(formula,data=df,return_type =\"dataframe\")"
   ]
  },
  {
   "cell_type": "markdown",
   "metadata": {},
   "source": [
    "### 3. Load your design matrix.  Split your data into training and testing sets.  Setup KNN.\n",
    "\n",
    "The predictors are the beds, baths, and sq ft. The feature is the over 200k class variable you just created. Make the test size 33% (and optionally stratify).\n",
    "\n",
    "> _Research the stratify parameter.  Why could this be important?_"
   ]
  },
  {
   "cell_type": "code",
   "execution_count": 58,
   "metadata": {
    "collapsed": false
   },
   "outputs": [
    {
     "name": "stdout",
     "output_type": "stream",
     "text": [
      "<class 'pandas.core.frame.DataFrame'> (659, 3) <class 'pandas.core.frame.DataFrame'> (659, 3)\n",
      "<class 'pandas.core.frame.DataFrame'> (659, 1) <class 'pandas.core.frame.DataFrame'> (659, 1)\n"
     ]
    }
   ],
   "source": [
    "# x_train2, x_test2, y_train2, y_test2 = tts(x2,y2,test_size = 0.33)\n",
    "# x_train3, x_test3, y_train3, y_test3 = tts(x2,y2,test_size = 0.33, stratify=y)\n",
    "\n",
    "# print type(x_train3), x_train3.shape, type(x_train2), x_train2.shape\n",
    "# print type(y_train3), y_train3.shape, type(y_train2), y_train2.shape"
   ]
  },
  {
   "cell_type": "code",
   "execution_count": 111,
   "metadata": {
    "collapsed": false
   },
   "outputs": [
    {
     "name": "stdout",
     "output_type": "stream",
     "text": [
      "(985, 3) (985, 1)\n",
      "0.734010152284\n",
      "{'n_neighbors': 30, 'weights': 'uniform'}\n",
      "0.879187817259\n",
      "{'n_neighbors': 20, 'weights': 'distance'}\n",
      "('Fold accuracy:', 0.82828282828282829)\n",
      "('Fold accuracy:', 0.77777777777777779)\n",
      "('Fold accuracy:', 0.75757575757575757)\n",
      "('Fold accuracy:', 0.87878787878787878)\n",
      "('Fold accuracy:', 0.70707070707070707)\n",
      "('Fold accuracy:', 0.47474747474747475)\n",
      "('Fold accuracy:', 0.6767676767676768)\n",
      "('Fold accuracy:', 0.7142857142857143)\n",
      "('Fold accuracy:', 0.865979381443299)\n",
      "('Fold accuracy:', 0.60824742268041232)\n",
      "('Mean CV accuracy:', 0.72895226194195273)\n",
      "('Fold accuracy:', 0.87)\n",
      "('Fold accuracy:', 0.89000000000000001)\n",
      "('Fold accuracy:', 0.86868686868686873)\n",
      "('Fold accuracy:', 0.81632653061224492)\n",
      "('Fold accuracy:', 0.87755102040816324)\n",
      "('Fold accuracy:', 0.84693877551020413)\n",
      "('Fold accuracy:', 0.86734693877551017)\n",
      "('Fold accuracy:', 0.88775510204081631)\n",
      "('Fold accuracy:', 0.88775510204081631)\n",
      "('Fold accuracy:', 0.8571428571428571)\n",
      "('Mean CV accuracy:', 0.86695031952174806)\n"
     ]
    }
   ],
   "source": [
    "from sklearn.cross_validation import train_test_split as tts\n",
    "\n",
    "x_train, x_test, y_train, y_test = tts(x,y,test_size = 0.33) \n",
    "x_train2, x_test2, y_train2, y_test2 = tts(x2,y2,test_size = 0.33) \n",
    "\n",
    "from sklearn.neighbors import KNeighborsClassifier\n",
    "from sklearn import grid_search, datasets\n",
    "\n",
    "\n",
    "# from sklearn.cross_validation import StratifiedKFold\n",
    "# cv_indices = StratifiedKFold(y.values.ravel(), n_folds=3)\n",
    "\n",
    "\n",
    "# make a blank knn model\n",
    "knn_blank = KNeighborsClassifier()\n",
    "\n",
    "search_parameters = {\n",
    "    'n_neighbors':  [1,3,5,10,20,30,50], \n",
    "    'weights':      ['distance', 'uniform']\n",
    "}\n",
    "\n",
    "print x.shape, y.shape\n",
    "\n",
    "# Initialize gridsearch\n",
    "estimator = grid_search.GridSearchCV(knn_blank, search_parameters, cv=5)\n",
    "\n",
    "# Fit some data!\n",
    "results = estimator.fit(x.values, y.values.ravel())\n",
    "\n",
    "knn_blank2 = KNeighborsClassifier()\n",
    "estimator2 = grid_search.GridSearchCV(knn_blank2, search_parameters, cv=5)\n",
    "results2 = estimator2.fit(x2.values, y2.values.ravel())\n",
    "\n",
    "print results.best_score_\n",
    "print results.best_params_\n",
    "# (985, 3) (985, 1)\n",
    "# 0.734010152284\n",
    "# {'n_neighbors': 30, 'weights': 'uniform'}\n",
    "\n",
    "\n",
    "print results2.best_score_\n",
    "print results2.best_params_\n",
    "\n",
    "knn_opt = KNeighborsClassifier(n_neighbors = 30, weights = 'uniform')\n",
    "knn_opt2 = KNeighborsClassifier(n_neighbors = 20, weights = 'distance')\n",
    "\n",
    "cv_indices = StratifiedKFold(y.values.ravel(), n_folds=10)\n",
    "cv_indices2 = StratifiedKFold(y2.values.ravel(), n_folds=10)\n",
    "\n",
    "accuracy_crossvalidator(x.values, y.values.ravel(),  knn_opt, cv_indices)\n",
    "accuracy_crossvalidator(x2.values, y2.values.ravel(),  knn_opt, cv_indices2)\n",
    "\n"
   ]
  },
  {
   "cell_type": "code",
   "execution_count": null,
   "metadata": {
    "collapsed": true
   },
   "outputs": [],
   "source": []
  },
  {
   "cell_type": "markdown",
   "metadata": {},
   "source": [
    "### 4. Print out the confusion matrix\n",
    "What do these mean?"
   ]
  },
  {
   "cell_type": "code",
   "execution_count": 112,
   "metadata": {
    "collapsed": false
   },
   "outputs": [
    {
     "name": "stdout",
     "output_type": "stream",
     "text": [
      "             precision    recall  f1-score   support\n",
      "\n",
      "        0.0       0.70      0.79      0.74       150\n",
      "        1.0       0.80      0.71      0.75       176\n",
      "\n",
      "avg / total       0.75      0.75      0.75       326\n",
      "\n",
      "              pred is under 200  pred is over 200\n",
      "is under 200                118                32\n",
      "is over 200                  51               125\n",
      "             precision    recall  f1-score   support\n",
      "\n",
      "        0.0       0.93      0.57      0.71        47\n",
      "        1.0       0.93      0.99      0.96       279\n",
      "\n",
      "avg / total       0.93      0.93      0.93       326\n",
      "\n",
      "              pred is under 100  pred is over 100\n",
      "is under 100                 27                20\n",
      "is over 100                   2               277\n"
     ]
    }
   ],
   "source": [
    "knn_opt_model = knn_opt.fit(x_test, y_test.values.ravel())\n",
    "yhat = knn_opt_model.predict(x_test)\n",
    "\n",
    "knn_opt_model2 = knn_opt2.fit(x_test2, y_test2.values.ravel())\n",
    "yhat2 = knn_opt_model2.predict(x_test2)\n",
    "\n",
    "from sklearn.metrics import classification_report\n",
    "\n",
    "cls_rep = classification_report(y_test, yhat)\n",
    "print cls_rep \n",
    "\n",
    "from sklearn.metrics import confusion_matrix\n",
    "confmat = confusion_matrix(y_true=y_test, y_pred=yhat)\n",
    "confusion = pd.DataFrame(confmat, index=['is under 200', 'is over 200'],\n",
    "                         columns=['pred is under 200','pred is over 200'])\n",
    "print(confusion)\n",
    "\n",
    "cls_rep = classification_report(y_test2, yhat2)\n",
    "print cls_rep \n",
    "\n",
    "confmat = confusion_matrix(y_true=y_test2, y_pred=yhat2)\n",
    "confusion = pd.DataFrame(confmat, index=['is under 100', 'is over 100'],\n",
    "                         columns=['pred is under 100','pred is over 100'])\n",
    "print(confusion)"
   ]
  },
  {
   "cell_type": "markdown",
   "metadata": {},
   "source": [
    "### 5. Change the response threshold (price) for your target.\n",
    "\n",
    "Currently, you should be encoding a binary price variable based on prices > 200.  How does adjusting that threashold affect the false positive rate of your prediction?  Print out your confusion matrix."
   ]
  },
  {
   "cell_type": "code",
   "execution_count": null,
   "metadata": {
    "collapsed": false,
    "scrolled": false
   },
   "outputs": [],
   "source": [
    "\n",
    "    "
   ]
  },
  {
   "cell_type": "markdown",
   "metadata": {},
   "source": [
    "### 6. Plot your confusion matrix metrics through a range of K from 1-10.\n",
    "Iterate through a list of numbers containing a range of N from 1-10.  Plot your false positive rate.\n",
    "\n",
    "> **Optionally** Plot the scores from the rest of the confusion matrix and plot their values, _true_positives, false_negatives, false_positives, true_negatives_, over this range for **K** (n_neighbors).\n",
    "\n",
    "How do they change?  Why do they change?"
   ]
  },
  {
   "cell_type": "code",
   "execution_count": 113,
   "metadata": {
    "collapsed": false
   },
   "outputs": [
    {
     "name": "stdout",
     "output_type": "stream",
     "text": [
      "K / Accuracy / Precision / Recall\n"
     ]
    },
    {
     "data": {
      "text/plain": [
       "[<matplotlib.lines.Line2D at 0x11b69b750>]"
      ]
     },
     "execution_count": 113,
     "metadata": {},
     "output_type": "execute_result"
    },
    {
     "data": {
      "image/png": "[encoded data removed]",
      "text/plain": [
       "<matplotlib.figure.Figure at 0x11b268990>"
      ]
     },
     "metadata": {},
     "output_type": "display_data"
    }
   ],
   "source": [
    "from sklearn.metrics import accuracy_score, precision_score, recall_score, confusion_matrix\n",
    "import matplotlib.pyplot as plt\n",
    "\n",
    "def runknn(x,y,x_test,y_test,K):\n",
    "    knn_current =  KNeighborsClassifier(n_neighbors = K, weights = 'uniform')\n",
    "    knn_current_model = knn_current.fit(x, y.values.ravel())\n",
    "    y_hat = knn_current_model.predict(x_test)\n",
    "    return accuracy_score(y_test,y_hat ), precision_score(y_test,y_hat), recall_score(y_test,y_hat)\n",
    "\n",
    "def runknn1(x,y,x_test,y_test,K):\n",
    "    knn_current =  KNeighborsClassifier(n_neighbors = K, weights = 'uniform')\n",
    "    knn_current_model = knn_current.fit(x, y.values.ravel())\n",
    "    y_hat = knn_current_model.predict(x_test)\n",
    "    \n",
    "    confmat = confusion_matrix(y_true=y_test, y_pred=y_hat)\n",
    "\n",
    "    confusion = pd.DataFrame(confmat, index=['is_not_spam_email', 'is_spam_email'],\n",
    "                         columns=['predicted_is_not_spam_email','predicted_is_spam_email'])\n",
    "\n",
    "    TP = confusion.ix['is_not_spam_email', 'predicted_is_not_spam_email']  \n",
    "\n",
    "    FP = confusion.ix['is_spam_email', 'predicted_is_not_spam_email']\n",
    "\n",
    "    TN = confusion.ix['is_spam_email', 'predicted_is_spam_email']\n",
    "\n",
    "    FN = confusion.ix['is_not_spam_email', 'predicted_is_spam_email']\n",
    "\n",
    "    #output = zip(['True Positives','False Positives','True Negatives','False Negatives'], [TP, FP, TN, FN])\n",
    "    \n",
    "    output = [TP, FP, TN, FN]\n",
    "    \n",
    "    return output\n",
    "\n",
    "\n",
    "\n",
    "\n",
    "print 'K / Accuracy / Precision / Recall'\n",
    "res = []\n",
    "K_max = 10\n",
    "for K in range(1,K_max):\n",
    "    #acc, prec, recall = runknn(x_train2,y_train2,x_test2,y_test2,K)\n",
    "    #print K,acc, prec,recall\n",
    "    res.append(runknn1(x_train2,y_train2,x_test2,y_test2,K))\n",
    "\n",
    "plt.plot(range(1,K_max),[x[0] for x in res], color = 'red')\n",
    "plt.plot(range(1,K_max),[x[1] for x in res], color = 'orange')\n",
    "plt.plot(range(1,K_max),[x[2] for x in res], color = 'green')\n",
    "plt.plot(range(1,K_max),[x[3] for x in res], color = 'purple')\n",
    "\n",
    "\n",
    "    "
   ]
  },
  {
   "cell_type": "code",
   "execution_count": 114,
   "metadata": {
    "collapsed": false
   },
   "outputs": [
    {
     "name": "stdout",
     "output_type": "stream",
     "text": [
      "K / Accuracy / Precision / Recall\n"
     ]
    },
    {
     "data": {
      "text/plain": [
       "[<matplotlib.lines.Line2D at 0x11bcd2290>]"
      ]
     },
     "execution_count": 114,
     "metadata": {},
     "output_type": "execute_result"
    },
    {
     "data": {
      "image/png": "[encoded data removed]",
      "text/plain": [
       "<matplotlib.figure.Figure at 0x11b695510>"
      ]
     },
     "metadata": {},
     "output_type": "display_data"
    }
   ],
   "source": [
    "\n",
    "\n",
    "\n",
    "print 'K / Accuracy / Precision / Recall'\n",
    "res = []\n",
    "K_max = 10\n",
    "for K in range(1,K_max):\n",
    "    #acc, prec, recall = runknn(x_train2,y_train2,x_test2,y_test2,K)\n",
    "    #print K,acc, prec,recall\n",
    "    res.append(runknn1(x_train,y_train,x_test,y_test,K))\n",
    "\n",
    "plt.plot(range(1,K_max),[x[0] for x in res], color = 'red')\n",
    "plt.plot(range(1,K_max),[x[1] for x in res], color = 'orange')\n",
    "plt.plot(range(1,K_max),[x[2] for x in res], color = 'green')\n",
    "plt.plot(range(1,K_max),[x[3] for x in res], color = 'purple')\n",
    "\n"
   ]
  },
  {
   "cell_type": "markdown",
   "metadata": {},
   "source": [
    "### 7.  Can you think on any reasons changing this threashold is bad / good?\n",
    "\n",
    "Find someone you've not talked with much in class then discuss this with them.  Seriously, get out and talk to someone you haven't talked with much."
   ]
  },
  {
   "cell_type": "code",
   "execution_count": null,
   "metadata": {
    "collapsed": true
   },
   "outputs": [],
   "source": [
    "[change this cell to markdown type and write some notes here]"
   ]
  },
  {
   "cell_type": "markdown",
   "metadata": {},
   "source": [
    "### 8. If you were a real-estate agent, and you wanted to minimize false positives, because you would lose money, what would you be trading off in terms of business value?\n",
    "\n",
    "Discuss this with a few others as well and come up with at least 2 ideas that are actionable and optionally explore one of them through further analysis."
   ]
  },
  {
   "cell_type": "code",
   "execution_count": null,
   "metadata": {
    "collapsed": true
   },
   "outputs": [],
   "source": []
  },
  {
   "cell_type": "markdown",
   "metadata": {},
   "source": [
    "### Challenge #1:  Gridsearch + plot for an optimal value for K with KNN\n",
    "Plot the value of K from Gridsearch params scored over the range to find an optimal value for K, for score.\n",
    "\n",
    "> **Optionally**, can you find a configuration that minimizes false positives?  What is the tradeoff if so?"
   ]
  },
  {
   "cell_type": "code",
   "execution_count": null,
   "metadata": {
    "collapsed": true
   },
   "outputs": [],
   "source": []
  },
  {
   "cell_type": "markdown",
   "metadata": {},
   "source": [
    "### Challenge #2:  Gridsearch optimal parameters for score for KNN\n",
    "Can you find optimal parameters for KNN?  K will have the biggest impact, but you might be able to sqeeze a little bit more out using the other parameters."
   ]
  },
  {
   "cell_type": "code",
   "execution_count": null,
   "metadata": {
    "collapsed": false
   },
   "outputs": [],
   "source": []
  },
  {
   "cell_type": "markdown",
   "metadata": {},
   "source": [
    "### Challenge #3: Plot TP, FP, TN, FN in a single plot over a range of K\n",
    "\n",
    "Manually plot a figure with 4 sub plots, 2x2, which plots the the range of K, by these 4 metrics.  Iterate through a range of K, from 1, 50 by steps of 2, fitting and scoring your classification through confusion matrix.\n",
    "\n",
    "ASCII prototype:\n",
    "\n",
    "```\n",
    "|----------------- figure 1 -------------------|\n",
    "|                      |                       |\n",
    "|  [TP line plot #1]   |   [FP line graph #1]  |\n",
    "|                      |                       |\n",
    "|----------------------|-----------------------|\n",
    "|                      |                       |\n",
    "|  [TN line plot #1]   |   [FN line graph #1]  |\n",
    "|                      |                       |\n",
    "------------------------------------------------\n",
    "\n",
    "```"
   ]
  },
  {
   "cell_type": "code",
   "execution_count": null,
   "metadata": {
    "collapsed": true
   },
   "outputs": [],
   "source": []
  }
 ],
 "metadata": {
  "anaconda-cloud": {},
  "kernelspec": {
   "display_name": "Python [dsi]",
   "language": "python",
   "name": "Python [dsi]"
  },
  "language_info": {
   "codemirror_mode": {
    "name": "ipython",
    "version": 2
   },
   "file_extension": ".py",
   "mimetype": "text/x-python",
   "name": "python",
   "nbconvert_exporter": "python",
   "pygments_lexer": "ipython2",
   "version": "2.7.12"
  }
 },
 "nbformat": 4,
 "nbformat_minor": 0
}
