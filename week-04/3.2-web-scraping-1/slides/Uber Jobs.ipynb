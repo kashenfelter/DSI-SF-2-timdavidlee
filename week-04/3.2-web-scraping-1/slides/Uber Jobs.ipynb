{
 "cells": [
  {
   "cell_type": "code",
   "execution_count": 3,
   "metadata": {
    "collapsed": true
   },
   "outputs": [],
   "source": [
    "from scrapy.selector import Selector\n",
    "from scrapy.http import HtmlResponse\n",
    "from pprint import pprint\n",
    "from bs4 import BeautifulSoup as bs\n",
    "\n",
    "import requests\n",
    "\n",
    "target_url = 'https://www.uber.com/careers/list/?city=all&country=all&keywords=&subteam=all&team=all'\n",
    "base_domain = 'https://www.uber.com'\n",
    "response = requests.get(target_url)\n",
    "HTML = response.text   "
   ]
  },
  {
   "cell_type": "code",
   "execution_count": 14,
   "metadata": {
    "collapsed": false
   },
   "outputs": [],
   "source": [
    "#soup = bs(HTML)\n",
    "#print soup.prettify()\n",
    "base_domain = 'https://www.uber.com'\n",
    "\n",
    "joblinks = Selector(text=HTML).xpath(\"//a[@class='layout display--block']/@href\").extract()\n",
    "#print joblinks\n",
    "\n",
    "for x in joblinks[0:2]:\n",
    "    target_url = base_domain+x\n",
    "    response = requests.get(target_url)\n",
    "    HTML = response.text  "
   ]
  },
  {
   "cell_type": "code",
   "execution_count": 28,
   "metadata": {
    "collapsed": false
   },
   "outputs": [
    {
     "name": "stdout",
     "output_type": "stream",
     "text": [
      "https://www.uber.com/careers/list/21224/\n",
      "['Careers',\n",
      " 'Search open roles',\n",
      " 'Open Roles',\n",
      " 'We\\xe2\\x80\\x99re recruiting Columbus\\xe2\\x80\\x99 best salespeople for an exciting new project at Uber in Ohio!',\n",
      " 'Uber has grown rapidly in Ohio since our launch here in 2013. We have a hub office in Columbus with over 20 professionals, and we\\xe2\\x80\\x99re about to break some awesome new ground for the business. That\\xe2\\x80\\x99s why we\\xe2\\x80\\x99re looking for passionate self-starters to join our team. This position starts as a 3-month contract role (with possibility of extension). Students and new graduates are encouraged to apply.',\n",
      " 'WHO YOU ARE',\n",
      " 'We need someone who thrives in a fast-paced environment with big goals. The ideal candidate has a great attitude, hustles hard, possesses natural sales ability, keeps themselves organized, and is an exceptional communicator. We\\xe2\\x80\\x99ll need you to dive into your work with a never-takes-no-for-an-answer attitude, staying positive even if you do receive some \\xe2\\x80\\x9cno\\xe2\\x80\\x99s.\\xe2\\x80\\x9d Past experience in sales, community relations, and customer service would serve as a strong foundation for this role.',\n",
      " 'WHAT YOU\\xe2\\x80\\x99LL DO',\n",
      " 'Follow up on warm leads and engage in cold outreach to potential business partners.',\n",
      " 'Develop a killer sales pitch, using a combination of charisma and business case presentation to generate buy-in from business partners.',\n",
      " 'Diligently follow-up with business partners to ensure they are set up for success.',\n",
      " 'Regularly share knowledge across the Uber team. Codify best practices and refine processes to help us all constantly improve.',\n",
      " 'Build lasting relationships between Uber and our business partners so that we win together.',\n",
      " 'WHEN & WHERE',\n",
      " 'This is a part-time role, but hours are flexible ranging from 15-40 hours (based on your availability and business need).',\n",
      " 'You will work in an energetic, open concept atmosphere in the Italian Village neighborhood of Columbus, OH, although there is opportunity for field work and travel to Ohio cities outside of Columbus.',\n",
      " 'WHY YOU\\xe2\\x80\\x99LL SUCCEED',\n",
      " \"You bring positive vibes: when people speak with you, they can't help but smile.\",\n",
      " 'You thrive in a fast-paced environment and work with relentless enthusiasm.',\n",
      " 'You are a logical thinker, who naturally looks to build efficient processes where there are none.',\n",
      " 'You are reliable and diligent in follow-through.',\n",
      " 'You are exceptionally well organized and detail-oriented.',\n",
      " 'You are superpumped and a great team player.',\n",
      " 'You are tech savvy: \\xc2\\xa0Google Docs proficiency & Uber love are musts. Salesforce tools knowledge is a plus.']\n"
     ]
    }
   ],
   "source": [
    "print target_url\n",
    "soup = bs(HTML)\n",
    "#print HTML\n",
    "text_lines = Selector(text=HTML).xpath(\"//div[@class='desk-wrapper desk-and-up-soft-large--right soft-huge--ends']//span/text()\").extract()\n",
    "pprint([ x.encode('utf-8') for x in text_lines])\n"
   ]
  },
  {
   "cell_type": "code",
   "execution_count": null,
   "metadata": {
    "collapsed": true
   },
   "outputs": [],
   "source": []
  }
 ],
 "metadata": {
  "kernelspec": {
   "display_name": "Python [dsi]",
   "language": "python",
   "name": "Python [dsi]"
  },
  "language_info": {
   "codemirror_mode": {
    "name": "ipython",
    "version": 2
   },
   "file_extension": ".py",
   "mimetype": "text/x-python",
   "name": "python",
   "nbconvert_exporter": "python",
   "pygments_lexer": "ipython2",
   "version": "2.7.12"
  }
 },
 "nbformat": 4,
 "nbformat_minor": 0
}
