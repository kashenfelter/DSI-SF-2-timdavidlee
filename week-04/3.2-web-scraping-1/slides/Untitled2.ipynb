{
 "cells": [
  {
   "cell_type": "code",
   "execution_count": 2,
   "metadata": {
    "collapsed": false
   },
   "outputs": [
    {
     "name": "stdout",
     "output_type": "stream",
     "text": [
      "\n",
      "First part of HTML document fetched as string:\n",
      "\n",
      "<!DOCTYPE html>\n",
      "<html class=\"no-js\">\n",
      "<head>\n",
      "<title>STOP - LOOK - LEASE!</title>\n",
      "\t<link rel=\"canonical\" href=\"http://sfbay.craigslist.org/nby/apa/5738580190.html\">\n",
      "\t<meta name=\"description\" content=\"Is it time for a change? Why not make it a change for the better? You deserve first class living and we have it! This spacious, newly renovated 2 bedroom, 1 bathroom apartment home features granite...\">\n",
      "\t<meta name=\"robots\" content=\"noarchive,nofollow,unavailable_after:Thursday, 25-Aug-16 09:40:24 PDT\n"
     ]
    }
   ],
   "source": [
    "import requests\n",
    "from bs4 import BeautifulSoup\n",
    "# from lxml import html\n",
    "\n",
    "url = \"http://sfbay.craigslist.org/nby/apa/5738580190.html\"\n",
    "response = requests.get(url)\n",
    "\n",
    "# Pull HTML string out of requests\n",
    "html = response.text\n",
    "\n",
    "# The first 500 characters of the content\n",
    "print \"\\nFirst part of HTML document fetched as string:\\n\"\n",
    "print html[:500]\n"
   ]
  },
  {
   "cell_type": "code",
   "execution_count": null,
   "metadata": {
    "collapsed": true
   },
   "outputs": [],
   "source": []
  }
 ],
 "metadata": {
  "kernelspec": {
   "display_name": "Python [dsi]",
   "language": "python",
   "name": "Python [dsi]"
  },
  "language_info": {
   "codemirror_mode": {
    "name": "ipython",
    "version": 2
   },
   "file_extension": ".py",
   "mimetype": "text/x-python",
   "name": "python",
   "nbconvert_exporter": "python",
   "pygments_lexer": "ipython2",
   "version": "2.7.12"
  }
 },
 "nbformat": 4,
 "nbformat_minor": 0
}
