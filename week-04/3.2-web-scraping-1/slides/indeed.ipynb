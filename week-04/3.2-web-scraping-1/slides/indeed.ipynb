{
 "cells": [
  {
   "cell_type": "code",
   "execution_count": 1,
   "metadata": {
    "collapsed": true
   },
   "outputs": [],
   "source": [
    "from scrapy.selector import Selector\n",
    "from scrapy.http import HtmlResponse\n",
    "from pprint import pprint\n",
    "from bs4 import BeautifulSoup as bs\n",
    "\n",
    "import requests\n",
    "\n",
    "#indeed job site:\n",
    "\n",
    "target_url = 'http://www.indeed.com/jobs?q=data+analyst&l=San+Francisco%2C+CA'\n",
    "response = requests.get(target_url)\n",
    "HTML = response.text   "
   ]
  },
  {
   "cell_type": "code",
   "execution_count": 12,
   "metadata": {
    "collapsed": false,
    "scrolled": false
   },
   "outputs": [],
   "source": [
    "#print HTML\n",
    "\n"
   ]
  },
  {
   "cell_type": "code",
   "execution_count": 13,
   "metadata": {
    "collapsed": false
   },
   "outputs": [
    {
     "name": "stdout",
     "output_type": "stream",
     "text": [
      "[u'/jobs?q=data+analyst&l=San+Francisco%2C+CA&sort=date',\n",
      " u'/jobs?q=data+analyst&l=San+Francisco,+CA&jt=fulltime',\n",
      " u'/jobs?q=data+analyst&l=San+Francisco,+CA&jt=contract',\n",
      " u'/jobs?q=data+analyst&l=San+Francisco,+CA&jt=temporary',\n",
      " u'/jobs?q=data+analyst&l=San+Francisco,+CA&jt=parttime',\n",
      " u'/jobs?q=data+analyst&l=San+Francisco,+CA&jt=commission',\n",
      " u'/jobs?q=data+analyst&l=San+Francisco,+CA&jt=internship',\n",
      " u'/jobs?q=data+analyst&l=San+Francisco,+CA&rbl=San+Francisco,+CA&jlid=6cf5e6d389fd6d6b',\n",
      " u'/jobs?q=data+analyst&l=San+Francisco,+CA&rbl=Oakland,+CA&jlid=c9722299f228be48',\n",
      " u'/jobs?q=data+analyst&l=San+Francisco,+CA&rbl=Redwood+City,+CA&jlid=d65d54729a60bc32',\n",
      " u'/jobs?q=data+analyst&l=San+Francisco,+CA&rbl=San+Mateo,+CA&jlid=aa83db85e983c6b6',\n",
      " u'/jobs?q=data+analyst&l=San+Francisco,+CA&rbl=San+Ramon,+CA&jlid=ee4bc9c2b1c9d8b5',\n",
      " u'/jobs?q=data+analyst&l=San+Francisco,+CA&rbl=Walnut+Creek,+CA&jlid=4f9cca4d30e48019',\n",
      " u'/jobs?q=data+analyst&l=San+Francisco,+CA&rbl=South+San+Francisco,+CA&jlid=0baeb5b4b6b0c7f9',\n",
      " u'/jobs?q=data+analyst&l=San+Francisco,+CA&rbl=Foster+City,+CA&jlid=37261b69cd4e6e5c',\n",
      " u'/jobs?q=data+analyst&l=San+Francisco,+CA&rbl=San+Bruno,+CA&jlid=88b24eea9468e0e5',\n",
      " u'/jobs?q=data+analyst&l=San+Francisco,+CA&rbl=San+Francisco+Bay+Area,+CA&jlid=7136762d065a5ad7',\n",
      " u'/jobs?q=data+analyst&l=San+Francisco,+CA&rbl=Berkeley,+CA&jlid=c0e8867001be3afc',\n",
      " u'/jobs?q=data+analyst&l=San+Francisco,+CA&rbl=Emeryville,+CA&jlid=d6a20c835e723f81',\n",
      " u'/jobs?q=data+analyst&l=San+Francisco,+CA&rbl=Redwood+Shores,+CA&jlid=d1c88e8123275624',\n",
      " u'/jobs?q=data+analyst&l=San+Francisco,+CA&rbl=San+Rafael,+CA&jlid=643b8ffcffa609e6',\n",
      " u'/jobs?q=data+analyst&l=San+Francisco,+CA&rbl=Hercules,+CA&jlid=0dcf55eb97954767',\n",
      " u'/jobs?q=data+analyst&l=San+Francisco,+CA&rbc=Kaiser+Permanente&jcid=48ecd526e3aa3225',\n",
      " u'/jobs?q=data+analyst&l=San+Francisco,+CA&rbc=University+of+California+San+Francisco&jcid=b35f2f337f0edcdd',\n",
      " u'/jobs?q=data+analyst&l=San+Francisco,+CA&rbc=City+%26+County+of+San+Francisco&jcid=ea2725d0fe2238fd',\n",
      " u'/jobs?q=data+analyst&l=San+Francisco,+CA&rbc=First+Republic+Bank&jcid=e228a3c78d0f7f13',\n",
      " u'/jobs?q=data+analyst&l=San+Francisco,+CA&rbc=BNP+Paribas&jcid=1392500f835bba92',\n",
      " u'/jobs?q=data+analyst&l=San+Francisco,+CA&rbc=Gap+Inc.&jcid=76644a33987f2488',\n",
      " u'/jobs?q=data+analyst&l=San+Francisco,+CA&rbc=Oracle&jcid=cd22d01053af7669',\n",
      " u'/jobs?q=data+analyst&l=San+Francisco,+CA&rbc=Pacific+Gas+%26+Electric&jcid=847695104283f570',\n",
      " u'/jobs?q=data+analyst&l=San+Francisco,+CA&rbc=Bank+of+the+West&jcid=772dcd74d92a6864',\n",
      " u'/jobs?q=data+analyst&l=San+Francisco,+CA&rbc=Uber&jcid=f766f8bfbc3effb7',\n",
      " u'/jobs?q=data+analyst&l=San+Francisco,+CA&rbc=Blue+Shield+of+California&jcid=104dac531ec80260',\n",
      " u'/jobs?q=data+analyst&l=San+Francisco,+CA&rbc=County+of+San+Mateo&jcid=fb5a210114ef791d',\n",
      " u'/jobs?q=data+analyst&l=San+Francisco,+CA&rbc=Elevate+Recruiting+Group&jcid=ea0afd5c2a813ac2',\n",
      " u'/jobs?q=data+analyst&l=San+Francisco,+CA&rbc=University+of+California+Berkeley&jcid=db52f1353185d77b',\n",
      " u'/jobs?q=data+analyst&l=San+Francisco,+CA&rbc=Salesforce&jcid=4027cfd917e1ee29',\n",
      " u'/jobs?q=data+analyst&l=San+Francisco,+CA&explvl=mid_level',\n",
      " u'/jobs?q=data+analyst&l=San+Francisco,+CA&explvl=entry_level',\n",
      " u'/jobs?q=data+analyst&l=San+Francisco,+CA&explvl=senior_level',\n",
      " u'/cmp/Super-Evil-Mega-Corp/jobs/Junior-Data-Analyst-d354d9afefc0eeb8?r=1&fccid=09d32e7d45e6d158',\n",
      " u'/jobs?q=Ebates+Inc&l=San+Francisco,+CA&nc=jasx',\n",
      " u'/jobs?q=Ebates+Inc&l=San+Francisco,+CA&nc=jasx',\n",
      " u'/jobs?q=data+analyst&l=San+Francisco%2C+CA&start=10',\n",
      " u'/jobs?q=data+analyst&l=San+Francisco%2C+CA&start=20',\n",
      " u'/jobs?q=data+analyst&l=San+Francisco%2C+CA&start=30',\n",
      " u'/jobs?q=data+analyst&l=San+Francisco%2C+CA&start=40',\n",
      " u'/jobs?q=data+analyst&l=San+Francisco%2C+CA&start=10',\n",
      " u'/jobs?q=company%3A%22Pathways+Personnel%22&l=San+Francisco%2C+CA',\n",
      " u'/tools/jobseeker/']\n"
     ]
    }
   ],
   "source": [
    "#print Selector(text=HTML).xpath(\"//h2//@title\").extract()\n",
    "#print Selector(text=HTML).xpath(\"//span[@class='company']//text()\").extract()\n",
    "#t2 links \n",
    "# print Selector(text=HTML).xpath(\"//a/@href\").extract()\n",
    "l2_url = Selector(text=HTML).xpath(\"//a/@href\").extract()\n",
    "l2_url = [x for x in l2_url if '/jobs' in x.encode('utf-8')]\n",
    "pprint(l2_url)"
   ]
  },
  {
   "cell_type": "code",
   "execution_count": null,
   "metadata": {
    "collapsed": true
   },
   "outputs": [],
   "source": []
  }
 ],
 "metadata": {
  "kernelspec": {
   "display_name": "Python [dsi]",
   "language": "python",
   "name": "Python [dsi]"
  },
  "language_info": {
   "codemirror_mode": {
    "name": "ipython",
    "version": 2
   },
   "file_extension": ".py",
   "mimetype": "text/x-python",
   "name": "python",
   "nbconvert_exporter": "python",
   "pygments_lexer": "ipython2",
   "version": "2.7.12"
  }
 },
 "nbformat": 4,
 "nbformat_minor": 0
}
