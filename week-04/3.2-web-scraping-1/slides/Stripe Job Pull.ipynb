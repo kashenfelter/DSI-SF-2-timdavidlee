{
 "cells": [
  {
   "cell_type": "code",
   "execution_count": 19,
   "metadata": {
    "collapsed": false
   },
   "outputs": [],
   "source": [
    "from scrapy.selector import Selector\n",
    "from scrapy.http import HtmlResponse\n",
    "import requests\n",
    "\n",
    "target_domain = \"https://stripe.com/jobs\"\n",
    "base_domain = \"https://stripe.com/jobs\"\n",
    "response = requests.get(target_domain)\n",
    "HTML = response.text        \n"
   ]
  },
  {
   "cell_type": "code",
   "execution_count": 28,
   "metadata": {
    "collapsed": false
   },
   "outputs": [],
   "source": [
    "from pprint import pprint\n",
    "from bs4 import BeautifulSoup as bs\n",
    "#pprint(HTML)\n",
    "soup = bs(HTML)\n",
    "#print soup.prettify()\n",
    "joblinks = Selector(text=HTML).xpath(\"//li/a/@href\").extract()\n",
    "joblinks = [x.encode('utf-8') for x in joblinks if '/jobs/positions' in x.encode('utf-8')] "
   ]
  },
  {
   "cell_type": "code",
   "execution_count": 40,
   "metadata": {
    "collapsed": false
   },
   "outputs": [
    {
     "name": "stdout",
     "output_type": "stream",
     "text": [
      "['/jobs/positions/data-scientist',\n",
      " '/jobs/positions/business-operations',\n",
      " '/jobs/positions/media-relations-berlin',\n",
      " '/jobs/positions/compliance-operations-manager',\n",
      " '/jobs/positions/designer',\n",
      " '/jobs/positions/android-engineer',\n",
      " '/jobs/positions/engineer',\n",
      " '/jobs/positions/engineer-intern',\n",
      " '/jobs/positions/engineer-new-grad',\n",
      " '/jobs/positions/engineering-manager',\n",
      " '/jobs/positions/engineering-manager-infrastructure',\n",
      " '/jobs/positions/engineering-manager-payments-experience',\n",
      " '/jobs/positions/engineering-manager-product',\n",
      " '/jobs/positions/engineering-manager-security',\n",
      " '/jobs/positions/frontend-engineer',\n",
      " '/jobs/positions/product-manager',\n",
      " '/jobs/positions/security-engineer',\n",
      " '/jobs/positions/site-reliability-engineer',\n",
      " '/jobs/positions/support-engineer-japanese-tokyo',\n",
      " '/jobs/positions/support-engineering-manager',\n",
      " '/jobs/positions/payroll-administrator',\n",
      " '/jobs/positions/strategic-planning-analysis',\n",
      " '/jobs/positions/financial-stack-program-manager-san-francisco',\n",
      " '/jobs/positions/security-policy-relations',\n",
      " '/jobs/positions/account-manager-dublin',\n",
      " '/jobs/positions/country-lead-london',\n",
      " '/jobs/positions/internal-systems-lead',\n",
      " '/jobs/positions/international-regulatory-affairs-lawyer-dublin',\n",
      " '/jobs/positions/product-marketing-san-francisco',\n",
      " '/jobs/positions/sales-marketing',\n",
      " '/jobs/positions/business-development',\n",
      " '/jobs/positions/partner-manager-san-francisco',\n",
      " '/jobs/positions/benefits-administrator',\n",
      " '/jobs/positions/compensation-analyst',\n",
      " '/jobs/positions/hr-business-partner',\n",
      " '/jobs/positions/recruiting-coordinator',\n",
      " '/jobs/positions/recruiting-coordinator-dublin',\n",
      " '/jobs/positions/risk-underwriter-contract',\n",
      " '/jobs/positions/account-executive-berlin',\n",
      " '/jobs/positions/account-executive-dublin',\n",
      " '/jobs/positions/account-executive-dutch-dublin',\n",
      " '/jobs/positions/account-executive-french-dublin',\n",
      " '/jobs/positions/account-executive-german-dublin',\n",
      " '/jobs/positions/account-executive-italian-dublin',\n",
      " '/jobs/positions/account-executive-london',\n",
      " '/jobs/positions/account-executive-melbourne',\n",
      " '/jobs/positions/account-executive-spanish-dublin',\n",
      " '/jobs/positions/account-manager',\n",
      " '/jobs/positions/account-manager-dutch-dublin',\n",
      " '/jobs/positions/account-manager-french-dublin',\n",
      " '/jobs/positions/account-manager-german-dublin',\n",
      " '/jobs/positions/account-manager-italian-dublin',\n",
      " '/jobs/positions/account-manager-london',\n",
      " '/jobs/positions/account-manager-melbourne',\n",
      " '/jobs/positions/account-manager-nordics-dublin',\n",
      " '/jobs/positions/account-manager-singapore',\n",
      " '/jobs/positions/account-manager-spanish-dublin',\n",
      " '/jobs/positions/new-business-associate',\n",
      " '/jobs/positions/sales-strategy-and-operations',\n",
      " '/jobs/positions/sales-support-systems-and-tools-san-francisco',\n",
      " '/jobs/positions/account-support-dublin',\n",
      " '/jobs/positions/account-support-dutch-dublin',\n",
      " '/jobs/positions/account-support-french-dublin',\n",
      " '/jobs/positions/account-support-german-dublin',\n",
      " '/jobs/positions/account-support-japanese-tokyo',\n",
      " '/jobs/positions/account-support-nordic-languages-dublin',\n",
      " '/jobs/positions/account-support-portland',\n",
      " '/jobs/positions/site-lead-portland',\n",
      " '/jobs/positions/support-manager',\n",
      " '/jobs/positions/support-manager-dublin',\n",
      " '/jobs/positions/support-manager-phone',\n",
      " '/jobs/positions/user-operations-quality-lead']\n"
     ]
    }
   ],
   "source": [
    "pprint(joblinks)\n",
    "\n",
    "base_domain = \"https://stripe.com\"\n",
    "for y in joblinks[0:1]:\n",
    "    target_domain = base_domain + y\n",
    "    response = requests.get(target_domain)\n",
    "    HTML = response.text"
   ]
  },
  {
   "cell_type": "code",
   "execution_count": 54,
   "metadata": {
    "collapsed": false
   },
   "outputs": [
    {
     "name": "stdout",
     "output_type": "stream",
     "text": [
      "https://stripe.com/jobs/positions/data-scientist\n",
      "[u'\\n            ', u'\\n            ', u'\\n        ', u'\\n          ', u'\\n        ', u'Work closely with product and business teams to identify important questions and answer them with data.', u'Apply statistical and econometric models on large datasets to: i) measure results and outcomes, ii) identify causal impact and attribution, iii) predict future performance of users or products.', u'Design, analyze, and interpret the results of experiments.', u'Drive the collection of new data and the refinement of existing data sources.', u'Create analyses that tell a \\u201cstory\\u201d focused on insights, not just data. ', u'3+ years experience working with and analyzing large data sets to solve problems.', u'A PhD or MS in a quantitative field (e.g., Economics, Statistics, Eng, Natural Sciences, CS).', u'Knowledge of a scientific computing language (such as R or Python) and SQL.', u'Strong knowledge of statistics and experimental design.', u'The ability to communicate results clearly and a focus on driving impact.', u'Prior experience with data-distributed tools (Scalding, Hadoop, Pig, etc).', u'A resume and LinkedIn profile.', u'Description of the most interesting data analysis you\\u2019ve done, key findings and its impact.', u'Link or attachment of code you\\u2019ve written related to data analysis.', u'\\n                ', u'\\n              ', u'\\n                ', u'\\n              ', u'\\n                ', u'\\n              ', u'\\n                ', u'\\n              ', u'\\n                ', u'\\n              ', u'\\n                ', u'\\n              ', u'\\n                ', u'\\n              ', u'\\n                ', u'\\n              ', u'\\n                ', u'\\n              ', u'\\n                ', u'\\n              ', u'\\n                ', u'\\n              ', u'\\n                ', u'\\n              ', u'\\n                ', u'\\n              ', u'\\n                ', u'\\n              ', u'\\n                ', u'\\n              ', u'\\n                ', u'\\n              ', u'\\n                ', u'\\n              ', u'\\n                ', u'\\n              ', u'\\n                ', u'\\n              ', u'\\n                ', u'\\n              ', u'\\n                ', u'\\n              ', u'\\n                ', u'\\n              ', u'\\n                ', u'\\n              ', u'\\n                ', u'\\n              ', u'\\n                ', u'\\n              ', u'\\n              ', u'\\n            ', u'\\n                ', u'\\n              ', u'\\n                ', u'\\n              ']\n"
     ]
    }
   ],
   "source": [
    "print target_domain\n",
    "#print HTML\n",
    "print Selector(text=HTML).xpath(\"//ul/li/text()\").extract()"
   ]
  },
  {
   "cell_type": "code",
   "execution_count": null,
   "metadata": {
    "collapsed": true
   },
   "outputs": [],
   "source": []
  },
  {
   "cell_type": "code",
   "execution_count": null,
   "metadata": {
    "collapsed": true
   },
   "outputs": [],
   "source": []
  }
 ],
 "metadata": {
  "anaconda-cloud": {},
  "kernelspec": {
   "display_name": "Python [dsi]",
   "language": "python",
   "name": "Python [dsi]"
  },
  "language_info": {
   "codemirror_mode": {
    "name": "ipython",
    "version": 2
   },
   "file_extension": ".py",
   "mimetype": "text/x-python",
   "name": "python",
   "nbconvert_exporter": "python",
   "pygments_lexer": "ipython2",
   "version": "2.7.12"
  }
 },
 "nbformat": 4,
 "nbformat_minor": 0
}
