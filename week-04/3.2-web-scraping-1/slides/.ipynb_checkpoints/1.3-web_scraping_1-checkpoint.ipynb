{
 "cells": [
  {
   "cell_type": "markdown",
   "metadata": {},
   "source": [
    "<img src=\"https://ga-dash.s3.amazonaws.com/production/assets/logo-9f88ae6c9c3871690e33280fcf557f33.png\" style=\"float: left; margin: 10px;\">\n",
    "\n",
    "# 1.3 - Intro to Web Scraping\n",
    "\n",
    "---\n",
    "\n",
    "Week 4 - 1.3\n",
    "\n",
    "### LEARNING OBJECTIVES\n",
    "*After this lesson, you will be able to:*\n",
    "- Understand scraping basics\n",
    "- Familiarity with import.io service\n",
    "- XPath basics"
   ]
  },
  {
   "cell_type": "markdown",
   "metadata": {},
   "source": [
    "### STUDENT PRE-WORK\n",
    "*Before this lesson, you should already be able to:*\n",
    "- Understand basic HTML concepts\n",
    "- Worked with Beautiful Soup\n",
    "- Signed up for import.io"
   ]
  },
  {
   "cell_type": "markdown",
   "metadata": {},
   "source": [
    "### LESSON GUIDE\n",
    "| TIMING  | TYPE  | TOPIC  |\n",
    "|:-:|---|---|\n",
    "| 5 min  | [Opening](#opening)  | Overview of what scraping is/does |\n",
    "| 10 min  | [Introduction](#introduction)   | Explain what scraping is |\n",
    "| 15 min  | [Demo](#demo)  | Python Library BeautifulSoup |\n",
    "| 25 min  | [Guided Practice](#guided-practice)  | Import.io |\n",
    "| 25 min  | [Independent Practice](#ind-practice)  | Import.io  |\n",
    "| 5 min  | [Conclusion](#conclusion)  |  How it works with Import.IO |\n",
    "\n",
    "---"
   ]
  },
  {
   "cell_type": "markdown",
   "metadata": {},
   "source": [
    "## Introduction: Scraping Overview (10 mins)\n",
    "\n",
    "Web scraping is a technique of extracting information from websites. It focuses on transformation of unstructured data on the web, into structured data that can be stored and analyzed.\n",
    "\n",
    "There are a variety of ways to \"scrape\" what we want from the web:\n",
    "\n",
    "- 3rd Party Services (import.io)\n",
    "- Write our own Python apps that pull HTML documents and parse them\n",
    "  - Mechanize\n",
    "  - Scrapy\n",
    "  - Requests\n",
    "  - libxml / XPath\n",
    "  - Regular expressions"
   ]
  },
  {
   "cell_type": "markdown",
   "metadata": {},
   "source": [
    "## (3 mins) What is hardest to understand about scraping?\n",
    "_ie: If you were asked to scrape craigslist property listings and put them in a DataFrame(), what would hold you up?_"
   ]
  },
  {
   "cell_type": "markdown",
   "metadata": {},
   "source": [
    "## HTML Review\n",
    "\n",
    "In the HTML DOM (Document Object Model), everything is a node:\n",
    " * The document itself is a document node.\n",
    " * All HTML elements are element nodes.\n",
    " * All HTML attributes are attribute nodes.\n",
    " * Text inside HTML elements are text nodes.\n",
    " * Comments are comment nodes."
   ]
  },
  {
   "cell_type": "markdown",
   "metadata": {},
   "source": [
    "## Elements\n",
    "Elements begin and end with **open and close \"tags\"**, which are defined by namespaced, encapsulated strings. \n",
    "\n",
    "```html\n",
    "<title>I am a title.</title>\n",
    "<p>I am a paragraph.</p>\n",
    "<strong>I am bold.</strong>\n",
    "```\n",
    "\n",
    "_note: the tags **title, p, and strong** are represented here._"
   ]
  },
  {
   "cell_type": "markdown",
   "metadata": {},
   "source": [
    "## Element Parent / Child Relationships\n",
    "\n",
    "<img src=\"http://www.htmlgoodies.com/img/2007/06/flowChart2.gif\" width=\"250\">\n",
    "\n",
    "**Elements begin and end in the same namespace like so:**  `<p></p>`\n",
    "\n",
    "**Elements can have parents and children:**\n",
    "\n",
    "```html\n",
    "<body>\n",
    "    <div>I am inside the parent element\n",
    "        <div>I am inside a child element</div>\n",
    "        <div>I am inside another child element</div>\n",
    "        <div>I am inside yet another child element</div>\n",
    "    </div>\n",
    "</body>\n",
    "```"
   ]
  },
  {
   "cell_type": "markdown",
   "metadata": {},
   "source": [
    "## Element Attributes\n",
    "\n",
    "Elements can also have attributes!  Attributes are defined inside **element tags** and can contain data that may be useful to scrape.\n",
    "\n",
    "```html\n",
    "<a href=\"http://lmgtfy.com/?q=html+element+attributes\" title=\"A title\" id=\"web-link\" name=\"hal\">A Simple Link</a>\n",
    "```\n",
    "\n",
    "The **element attributes** of this `<a>` tag element are:\n",
    "- id\n",
    "- href\n",
    "- title\n",
    "- name\n",
    "\n",
    "This `<a>` tag example will render in your browser like this:\n",
    "> <a href=\"https://www.youtube.com/watch?v=dQw4w9WgXcQ\">A Simple Link</a>\n"
   ]
  },
  {
   "cell_type": "markdown",
   "metadata": {},
   "source": [
    "## (3 mins) Can you identify an attribute, an element, a text item, and a child element?\n",
    "\n",
    "```HTML\n",
    "<html>\n",
    "   <title id=\"main-title\">All this scraping is making me itch!</title>\n",
    "   <body>\n",
    "       <h1>Welcome to my Homepage</h1>\n",
    "       <p id=\"welcome-paragraph\" class=\"strong-paragraph\">\n",
    "           <span>Hello friends, let me tell you about this cool hair product..</span>\n",
    "           <ul>\n",
    "              <li>It's cool</li>\n",
    "              <li>It's fresh</li>\n",
    "              <li>It can tell the future</li>\n",
    "              <li>Always be closing</li>\n",
    "           </ul>\n",
    "       </p>\n",
    "   </body>\n",
    "```\n",
    "\n",
    "**Bonus: What's missing?** "
   ]
  },
  {
   "cell_type": "markdown",
   "metadata": {},
   "source": [
    "## Enter XPath\n",
    "\n",
    "XPath uses path expressions to select nodes or node-sets in an HTML/XML document. These path expressions look very much like the expressions you see when you work with a traditional computer file system."
   ]
  },
  {
   "cell_type": "markdown",
   "metadata": {},
   "source": [
    "## XPath Features\n",
    "\n",
    "XPath includes over 100 built-in functions to help us select and manipulate HTML (or XML) documents. XPath has functions for:\n",
    "\n",
    "- string values\n",
    "- numeric values\n",
    "- date and time comparison\n",
    "- sequence manipulation\n",
    "- Boolean values\n",
    "- and more!"
   ]
  },
  {
   "cell_type": "markdown",
   "metadata": {},
   "source": [
    "## Basic XPath Expressions\n",
    "\n",
    "XPath comes with a wide array of features but the basics of selecting data are the most common problems that XPath can help you solve.\n",
    "\n",
    "The most common task you'll use **XPath** for is selecting data from HTML documents.  There are two ways you can **select elements** within HTML using **XPath**:\n",
    "\n",
    "- Absolute reference\n",
    "- Relative reference"
   ]
  },
  {
   "cell_type": "markdown",
   "metadata": {},
   "source": [
    "# XPath:  Absolute References\n",
    "\n",
    "_For our XPath demonstration, we will use Scrapy, which is using libxml under the hood.  Libxml provides the basic functionality for XPath expressions._"
   ]
  },
  {
   "cell_type": "code",
   "execution_count": 10,
   "metadata": {
    "collapsed": false
   },
   "outputs": [
    {
     "data": {
      "text/plain": [
       "[u'good']"
      ]
     },
     "execution_count": 10,
     "metadata": {},
     "output_type": "execute_result"
    }
   ],
   "source": [
    "#!pip install scrapy\n",
    "#pip install --upgrade zope2\n",
    "from scrapy.selector import Selector\n",
    "from scrapy.http import HtmlResponse\n",
    "\n",
    "HTML = \"\"\"\n",
    "<html>\n",
    "    <body>\n",
    "        <span id=\"only-span\">good</span>\n",
    "    </body>\n",
    "</html>\n",
    "\"\"\"\n",
    "# The same thing but \"absolute\" reference\n",
    "Selector(text=HTML).xpath('/html/body/span/text()').extract()\n"
   ]
  },
  {
   "cell_type": "markdown",
   "metadata": {},
   "source": [
    "## Relative Reference\n",
    "\n",
    "Relative references in XPath match the \"ends\" of structures.  Since there is only a single \"span\" element, `//span/text()` matches **one element**."
   ]
  },
  {
   "cell_type": "code",
   "execution_count": null,
   "metadata": {
    "collapsed": false
   },
   "outputs": [],
   "source": [
    "Selector(text=HTML).xpath('//span/text()').extract()"
   ]
  },
  {
   "cell_type": "markdown",
   "metadata": {},
   "source": [
    "## Selecting Attributes\n",
    "\n",
    "Attributes **within a tag**, such as `id=\"only-span\"` within our span attribute.  We can get the attribute by using `@` symbol **after** the **element reference**.\n"
   ]
  },
  {
   "cell_type": "code",
   "execution_count": 78,
   "metadata": {
    "collapsed": false
   },
   "outputs": [
    {
     "data": {
      "text/plain": [
       "[u'only-span']"
      ]
     },
     "execution_count": 78,
     "metadata": {},
     "output_type": "execute_result"
    }
   ],
   "source": [
    "Selector(text=HTML).xpath('//span/@id').extract()"
   ]
  },
  {
   "cell_type": "markdown",
   "metadata": {},
   "source": [
    "## (~10 mins) Where's Waldo - \"XPath Edition\"\n",
    "\n",
    "In this example, we will find Waldo together.  Find Waldo as:\n",
    "\n",
    "- Element\n",
    "- Attribute\n",
    "- Text element"
   ]
  },
  {
   "cell_type": "code",
   "execution_count": 9,
   "metadata": {
    "collapsed": false
   },
   "outputs": [
    {
     "name": "stdout",
     "output_type": "stream",
     "text": [
      "[u'waldo']\n",
      "[u'Name:  Waldo', u'Height:  ???', u'Weight:  ???', u'Last Location:  ???']\n",
      "[u'Name:  Waldo', u'Height:  ???', u'Weight:  ???', u'Last Location:  ???']\n",
      "[u'waldo', u'waldo', u'waldo', u'waldo']\n",
      "[u'\\n    ', u'\\n        \\n        ', u'\\n            ', u'Name:  Waldo', u'\\n            ', u'Height:  ???', u'\\n            ', u'Weight:  ???', u'\\n            ', u'Last Location:  ???', u'\\n        ', u'\\n        \\n        ', u'Waldo', u'\\n    ', u'\\n']\n"
     ]
    }
   ],
   "source": [
    "HTML = \"\"\"\n",
    "<html>\n",
    "    <body>\n",
    "        \n",
    "        <ul id=\"waldo\">\n",
    "            <li class=\"waldo\">Name:  Waldo</li>\n",
    "            <li class=\"waldo\">Height:  ???</li>\n",
    "            <li class=\"waldo\">Weight:  ???</li>\n",
    "            <li class=\"waldo\">Last Location:  ???</li>\n",
    "        </ul>\n",
    "        \n",
    "        <waldo>Waldo</waldo>\n",
    "    </body>\n",
    "</html>\n",
    "\"\"\"\n",
    "\n",
    "print Selector(text=HTML).xpath('//ul/@id').extract()\n",
    "print Selector(text=HTML).xpath('//ul/li/text()').extract()\n",
    "print Selector(text=HTML).xpath('//li/text()').extract()\n",
    "print Selector(text=HTML).xpath('//@class').extract()\n",
    "print Selector(text=HTML).xpath('//text()').extract()"
   ]
  },
  {
   "cell_type": "code",
   "execution_count": 99,
   "metadata": {
    "collapsed": false
   },
   "outputs": [
    {
     "data": {
      "text/plain": [
       "[u'waldo']"
      ]
     },
     "execution_count": 99,
     "metadata": {},
     "output_type": "execute_result"
    }
   ],
   "source": [
    "# Find absolute element\n",
    "#Selector(text=HTML).xpath('/html/body/waldo/text()').extract()\n",
    "# Selector(text=HTML).xpath('/html/body/ul/li/text()').extract()\n",
    "\n",
    "# Find relative element\n",
    "# Selector(text=HTML).xpath('//li').extract()\n",
    "\n",
    "# Find element attribute\n",
    "# Selector(text=HTML).xpath('////@class').extract()\n",
    "# Selector(text=HTML).xpath('//ul/@id').extract()\n",
    "\n",
    "\n",
    "# Find element text\n",
    "# Selector(text=HTML).xpath('').extract()"
   ]
  },
  {
   "cell_type": "markdown",
   "metadata": {},
   "source": [
    "## 1 vs N Selections\n",
    "\n",
    "When selecting elements via relative reference, it's possible that you will select multiple items.  It's still possible to select single items, if you're specfic enough.\n",
    "\n",
    "**Singular Reference**\n",
    "- **Index** starts at **1**\n",
    "- Selections by offset\n",
    "- Selections by \"first\" or \"last\"\n",
    "- Selections by **unique attribute value**\n"
   ]
  },
  {
   "cell_type": "code",
   "execution_count": 136,
   "metadata": {
    "collapsed": true
   },
   "outputs": [],
   "source": [
    "HTML = \"\"\"\n",
    "<html>\n",
    "    <body>\n",
    "    \n",
    "        <!-- Search Results -->\n",
    "        <div class=\"search-result\">\n",
    "           <a href=\"https://www.youtube.com/watch?v=751hUX_q0Do\" title=\"Rappin with Gas\">Rapping with gas</a>\n",
    "           <span class=\"link-details\">This is a great video about gas.</span>\n",
    "        </div>\n",
    "        <div class=\"search-result\">\n",
    "           <a href=\"https://www.youtube.com/watch?v=97byWqi-zsI\" title=\"Casio Rapmap\">The Rapmaster</a>\n",
    "           <span class=\"link-details\">My first synth ever.</span>\n",
    "        </div>\n",
    "        <div class=\"search-result\">\n",
    "           <a href=\"https://www.youtube.com/watch?v=TSwqnR327fk\" title=\"Cinco Products\">Cinco Midi Organizer</a>\n",
    "           <span class=\"link-details\">Midi files at the speed of light.</span>\n",
    "        </div>\n",
    "        <div class=\"search-result\">\n",
    "           <a href=\"https://www.youtube.com/watch?v=8TCxE0bWQeQ\" title=\"Baddest Gates\">BBG Baddest Moments</a>\n",
    "           <span class=\"link-details\">It's tough to be a gangster.</span>\n",
    "        </div>\n",
    "        \n",
    "        <!-- Page stats -->\n",
    "        <div class=\"page-stats-container\">\n",
    "            <li class=\"item\" id=\"pageviews\">1,333,443</li>\n",
    "            <li class=\"item\" id=\"last-viewed\">01-22-2016</li>\n",
    "            <li class=\"item\" id=\"views-per-hour\">1,532</li>\n",
    "            <li class=\"item\" id=\"kiefer-views-per-hour\">5,233.42</li>\n",
    "        </div>\n",
    "        \n",
    "    </body>\n",
    "</html>\n",
    "\"\"\""
   ]
  },
  {
   "cell_type": "markdown",
   "metadata": {},
   "source": [
    "#### Selecting the first element in a series of elements"
   ]
  },
  {
   "cell_type": "code",
   "execution_count": 112,
   "metadata": {
    "collapsed": false
   },
   "outputs": [
    {
     "data": {
      "text/plain": [
       "[u'<span class=\"link-details\">It\\'s tough to be a gangster.</span>']"
      ]
     },
     "execution_count": 112,
     "metadata": {},
     "output_type": "execute_result"
    }
   ],
   "source": [
    "Selector(text=HTML).xpath('//span[4]').extract()"
   ]
  },
  {
   "cell_type": "markdown",
   "metadata": {},
   "source": [
    "#### Selecting the last element in a series of elements"
   ]
  },
  {
   "cell_type": "code",
   "execution_count": 109,
   "metadata": {
    "collapsed": false
   },
   "outputs": [
    {
     "data": {
      "text/plain": [
       "[u'<span class=\"link-details\">It\\'s tough to be a gangster.</span>']"
      ]
     },
     "execution_count": 109,
     "metadata": {},
     "output_type": "execute_result"
    }
   ],
   "source": [
    "Selector(text=HTML).xpath('//span[last()]').extract()"
   ]
  },
  {
   "cell_type": "markdown",
   "metadata": {},
   "source": [
    "#### Selecting all elements matching a selection"
   ]
  },
  {
   "cell_type": "code",
   "execution_count": 110,
   "metadata": {
    "collapsed": false,
    "scrolled": true
   },
   "outputs": [
    {
     "data": {
      "text/plain": [
       "[u'<span class=\"link-details\">This is a great video about gas.</span>',\n",
       " u'<span class=\"link-details\">My first synth ever.</span>',\n",
       " u'<span class=\"link-details\">Midi files at the speed of light.</span>',\n",
       " u'<span class=\"link-details\">It\\'s tough to be a gangster.</span>']"
      ]
     },
     "execution_count": 110,
     "metadata": {},
     "output_type": "execute_result"
    }
   ],
   "source": [
    "Selector(text=HTML).xpath('//span').extract()"
   ]
  },
  {
   "cell_type": "markdown",
   "metadata": {},
   "source": [
    "#### Selecting elements matching an _attribute_\n",
    "\n",
    "This will be one of the most common ways you will select items.  HTML DOM elements will be more differentiated based on their \"class\" and \"id\" variables.  Mainly, these types of attributes are used by web developers to refer to specfic elements or a broad set of elements to apply visual characteristics using CSS.\n",
    "\n",
    "```HTML \n",
    "//element[@attribute=\"value\"]\n",
    "```\n",
    "\n",
    "**Generally**\n",
    "\n",
    "- \"class\" attributes within elements usually refer to multiple items\n",
    "- \"id\" attributes are supposed to be unique, but not always\n",
    "\n",
    "_CSS stands for cascading style sheets.  These are used to abstract the definition of visual elements on a micro and macro scale for the web.  They are also our best friend as data miners.  They give us strong hints and cues as to how a web document is structured._"
   ]
  },
  {
   "cell_type": "code",
   "execution_count": 133,
   "metadata": {
    "collapsed": false
   },
   "outputs": [
    {
     "data": {
      "text/plain": [
       "[u'<li class=\"item\" id=\"pageviews\">1,333,443</li>']"
      ]
     },
     "execution_count": 133,
     "metadata": {},
     "output_type": "execute_result"
    }
   ],
   "source": [
    "Selector(text=HTML).xpath('//div[@class=\"page-stats-container\"]/li[@id=\"pageviews\"][@class = \"item\"]').extract()"
   ]
  },
  {
   "cell_type": "markdown",
   "metadata": {},
   "source": [
    "## Let's Code:\n",
    "\n",
    " - How can we get a series of only text items for the page statistics section of our page?\n",
    " - We want to know only how many times Kiefer views my Youtube videos page per hour?"
   ]
  },
  {
   "cell_type": "code",
   "execution_count": 122,
   "metadata": {
    "collapsed": false
   },
   "outputs": [
    {
     "data": {
      "text/plain": [
       "[u'<li class=\"item\" id=\"pageviews\">1,333,443</li>',\n",
       " u'<li class=\"item\" id=\"last-viewed\">01-22-2016</li>',\n",
       " u'<li class=\"item\" id=\"views-per-hour\">1,532</li>',\n",
       " u'<li class=\"item\" id=\"kiefer-views-per-hour\">5,233.42</li>',\n",
       " u'<li class=\"item2\" id=\"pageviews\">1,333,443 - 2</li>',\n",
       " u'<li class=\"item2\" id=\"last-viewed\">01-22-2016 - 2</li>',\n",
       " u'<li class=\"item2\" id=\"views-per-hour\">1,532 - 2</li>',\n",
       " u'<li class=\"item2\" id=\"kiefer-views-per-hour\">5,233.42 - 2</li>']"
      ]
     },
     "execution_count": 122,
     "metadata": {},
     "output_type": "execute_result"
    }
   ],
   "source": [
    "# Get all text elements for the page statistics section\n",
    "Selector(text=HTML).xpath('//li[@id]').extract()"
   ]
  },
  {
   "cell_type": "code",
   "execution_count": 139,
   "metadata": {
    "collapsed": false
   },
   "outputs": [
    {
     "data": {
      "text/plain": [
       "[u'5,233.42']"
      ]
     },
     "execution_count": 139,
     "metadata": {},
     "output_type": "execute_result"
    }
   ],
   "source": [
    "# Get only the text for \"Kiefer's\" number of views per hour\n",
    "# Selector(text=HTML).xpath('//div[@class=\"page-stats-container\"]/li[4]/text()').extract()\n",
    "\n",
    "# Get only the text for \"Kiefer's\" number of views per hour\n",
    "Selector(text=HTML).xpath('//li[@id=\"kiefer-views-per-hour\"]/text()').extract()"
   ]
  },
  {
   "cell_type": "markdown",
   "metadata": {},
   "source": [
    "## A Quick Note:  Requests\n",
    "\n",
    "The requests module is the gateway to interacting with the web using Python.  We can:\n",
    "\n",
    " - Fetch web documents as strings\n",
    " - Decode JSON\n",
    " - Basic data munging with Web Documents\n",
    " - Download static files that are not text\n",
    "  - Images\n",
    "  - Videos\n",
    "  - Binary data\n",
    "\n",
    "\n",
    "Take some time and read up on Requests:\n",
    "\n",
    "http://docs.python-requests.org/en/master/user/quickstart/"
   ]
  },
  {
   "cell_type": "markdown",
   "metadata": {},
   "source": [
    "## Let's Scrape Data Tau Headlines\n",
    "\n",
    "DataTau is a great site for data science news. Let's take their headlines using Python **requests**, and practice selecting various elements.\n",
    "\n",
    "Using <a href=\"https://chrome.google.com/webstore/detail/xpath-helper/hgimnogjllphhhkhlmebbmlgjoejdpjl?hl=en\">XPath helper Chrome plugin</a> _(cmd-shift-x)_ and the Chrome \"inspect\" feature, let's explore the structure of the page.\n",
    "\n",
    "_Here's a <a href=\"https://www.youtube.com/watch?v=i2Li1vnv09U\">concise video</a> that demonstrates the basic inspect feature within Chrome._"
   ]
  },
  {
   "cell_type": "code",
   "execution_count": 18,
   "metadata": {
    "collapsed": false
   },
   "outputs": [
    {
     "data": {
      "text/plain": [
       "u'<html><head><link rel=\"stylesheet\" type=\"text/css\" href=\"news.css\">\\n<link rel=\"shortcut icon\" href=\"http://www.iconj.com/ico/d/x/dxo02ap56v.ico\">\\n<script>\\nfunction byId(id) {\\n  return document.getElementById(id);\\n}\\n\\nfunction vote(node) {\\n  var v = node.id.split(/_/);   // {\\'up\\', \\'123\\'}\\n  var item = v[1]; \\n\\n  // adjust score\\n  var score = byId(\\'score_\\' + item);\\n  var newscore = parseInt(score.innerHTML) + (v[0] == \\'up\\' ? 1 : -1);\\n  score.innerHTML = newscore + (newscore == 1 ? \\' point\\' : \\' points'"
      ]
     },
     "execution_count": 18,
     "metadata": {},
     "output_type": "execute_result"
    }
   ],
   "source": [
    "# Please only run this frame once to avoid hitting the site too hard all at once\n",
    "import requests\n",
    "\n",
    "response = requests.get(\"http://www.datatau.com\")\n",
    "HTML = response.text  \n",
    "HTML[0:500]           # view the first 500 characters of the HTML index document for DataTau"
   ]
  },
  {
   "cell_type": "markdown",
   "metadata": {},
   "source": [
    "#### Selecting Only The Headlines\n",
    "\n",
    "We will use the XPath helper tool to inspect the markup that comprises the **title** to find any pattern.  Since there are more than one **titles**, we expect to find a series of elements representing the **title** data that we are interested in.\n",
    "\n",
    "![](https://snag.gy/m4K3UE.jpg)\n",
    "\n",
    "In this example, we are referencing the the **1st center**, **3rd table row (`tr[3]`)**, within the 2nd **td having a class of \"title\" (`td[@class=\"title\"][2]`)**, and the anchor tag within a **(`a/text()`)**.\n"
   ]
  },
  {
   "cell_type": "code",
   "execution_count": 19,
   "metadata": {
    "collapsed": false
   },
   "outputs": [
    {
     "data": {
      "text/plain": [
       "[u'What We Learned Analyzing Hundreds of Data Science Interviews',\n",
       " u'Forget Python vs. R: how they can work together',\n",
       " u'A Product similarity space with doc2vec',\n",
       " u'70+ Resources for Transitioning to a Data Science Career',\n",
       " u'Occam razor vs. machine learning']"
      ]
     },
     "execution_count": 19,
     "metadata": {},
     "output_type": "execute_result"
    }
   ],
   "source": [
    "titles = Selector(text=HTML).xpath('//td[@class=\"title\"]/a/text()').extract()\n",
    "titles[0:5] # the first 5 titles"
   ]
  },
  {
   "cell_type": "markdown",
   "metadata": {},
   "source": [
    "## How do we get the urls from the titles?"
   ]
  },
  {
   "cell_type": "code",
   "execution_count": 20,
   "metadata": {
    "collapsed": false
   },
   "outputs": [
    {
     "data": {
      "text/plain": [
       "[u'https://www.springboard.com/blog/data-science-interviews-lessons/',\n",
       " u'https://civisanalytics.com/blog/data-science/2016/08/15/python-r/',\n",
       " u'http://www.bookspace.co/search/?query_book=The+Communist+Manifesto+%28Penguin+Classics%29&plus=liberty&minus=communism',\n",
       " u'https://blog.modeanalytics.com/data-science-career/',\n",
       " u'http://arogozhnikov.github.io/2016/07/12/secret-of-ml.html']"
      ]
     },
     "execution_count": 20,
     "metadata": {},
     "output_type": "execute_result"
    }
   ],
   "source": [
    "urls = Selector(text=HTML).xpath('//td[@class=\"title\"]/a/@href').extract()\n",
    "urls[0:5]\n",
    "#<a href=\"http://tech.marksblogg.com/faster-queries-google-cloud-dataproc.html\">33x Faster Queries on Google Cloud's Dataproc using Facebook's Presto</a>\n",
    "# titles[0:5] # the first 5 titles"
   ]
  },
  {
   "cell_type": "markdown",
   "metadata": {},
   "source": [
    "#### How can we get the site domain, after the title within the parentheses (ie: stitchfix.com)?"
   ]
  },
  {
   "cell_type": "code",
   "execution_count": 21,
   "metadata": {
    "collapsed": false
   },
   "outputs": [],
   "source": [
    "domains = Selector(text=HTML).xpath('//td[@class=\"title\"]/span/text()').extract()"
   ]
  },
  {
   "cell_type": "code",
   "execution_count": 22,
   "metadata": {
    "collapsed": false
   },
   "outputs": [
    {
     "data": {
      "text/plain": [
       "[u' (springboard.com) ',\n",
       " u' (civisanalytics.com) ',\n",
       " u' (bookspace.co) ',\n",
       " u' (modeanalytics.com) ',\n",
       " u' (github.io) ']"
      ]
     },
     "execution_count": 22,
     "metadata": {},
     "output_type": "execute_result"
    }
   ],
   "source": [
    "domains[0:5]"
   ]
  },
  {
   "cell_type": "markdown",
   "metadata": {},
   "source": [
    "#### How about the points?"
   ]
  },
  {
   "cell_type": "code",
   "execution_count": 23,
   "metadata": {
    "collapsed": false
   },
   "outputs": [
    {
     "data": {
      "text/plain": [
       "[u'2 points', u'11 points', u'7 points', u'8 points', u'5 points']"
      ]
     },
     "execution_count": 23,
     "metadata": {},
     "output_type": "execute_result"
    }
   ],
   "source": [
    "points = Selector(text=HTML).xpath('//td[@class=\"subtext\"]/span/text()').extract()\n",
    "points[0:5]"
   ]
  },
  {
   "cell_type": "markdown",
   "metadata": {},
   "source": [
    "#### How about the \"more Link?\"\n",
    "Hint:  You can use `element[text()='exact text']` to find text element matching specific text."
   ]
  },
  {
   "cell_type": "code",
   "execution_count": 24,
   "metadata": {
    "collapsed": false
   },
   "outputs": [
    {
     "data": {
      "text/plain": [
       "[u'/x?fnid=K6H6ihbl11']"
      ]
     },
     "execution_count": 24,
     "metadata": {},
     "output_type": "execute_result"
    }
   ],
   "source": [
    "next_link = Selector(text=HTML).xpath('//a[text()=\"More\"]/@href').extract()\n",
    "next_link"
   ]
  },
  {
   "cell_type": "markdown",
   "metadata": {},
   "source": [
    "## Independent Practice / Lab\n",
    "\n",
    "For the next 30 minutes try to grab the following:\n",
    "\n",
    "- Story titles\n",
    "- Story URL (href)\n",
    "- Domain\n",
    "- Points\n",
    "\n",
    "Then put into a DataFrame.\n",
    "\n",
    "- Do basic analysis of domains and point distributions\n",
    "\n",
    "** Bonus **\n",
    "\n",
    "Automatically find the next \"more link\" and mine the next page(s) until none exist.  Logically, you can each page with this pseudo code:\n",
    "\n",
    "1. Does the next link exist (a tag with text == \"More\")\n",
    "1. Fetch URL, prepended with domain (datatau.com/(extracted link here))\n",
    "1. Parse the page with `Selector(text=HTML).xpath('').extract()` to find the elements\n",
    "1. Add to dataframe\n",
    "\n",
    "_Note:  You might want to set a limit something like 2-3 total requests per attempt to avoid unecessary transfer_\n"
   ]
  },
  {
   "cell_type": "code",
   "execution_count": null,
   "metadata": {
    "collapsed": true
   },
   "outputs": [],
   "source": [
    "next_link = Selector(text=HTML).xpath('//a[text()=\"More\"]/@href').extract()\n",
    "next_link\n",
    "\n"
   ]
  },
  {
   "cell_type": "code",
   "execution_count": 34,
   "metadata": {
    "collapsed": false
   },
   "outputs": [
    {
     "data": {
      "text/plain": [
       "[u'What We Learned Analyzing Hundreds of Data Science Interviews',\n",
       " u'Forget Python vs. R: how they can work together',\n",
       " u'A Product similarity space with doc2vec',\n",
       " u'70+ Resources for Transitioning to a Data Science Career',\n",
       " u'Occam razor vs. machine learning',\n",
       " u'Category Encoders: sklearn-compatible transformers for non-numeric data',\n",
       " u'Benchmarking 8 of the new Pascal Titan Xs by querying 1.1 Billion Taxi Trips.',\n",
       " u'Inside Airbnb: Bulk collect data from Airbnb',\n",
       " u'Interactive Data Viz of Geospatial Data using DC.js Leaflet.js and Python',\n",
       " u'Computational and Inferential Thinking',\n",
       " u'Data Science Interview Questions',\n",
       " u'Data Science Live Book - A book to learn data science',\n",
       " u'Sharding a multi-tenant app with Postgres',\n",
       " u'A \"Joel Test\" for Data Science: A highly sloppy test to rate quality of teams',\n",
       " u'How to score 0.8134 on the Titanic Kaggle challenge',\n",
       " u'Getting your first job in data science',\n",
       " u'Modeling Madly - Machine learning at hackathons',\n",
       " u'Facebook V: Predicting Check Ins',\n",
       " u'Neural Generation of Regular Expressions from Natural Language',\n",
       " u'Rodeo, a Python IDE for doing data science, releases support for Windows ',\n",
       " u'A Free Guide to Acing the Data Science Interview',\n",
       " u'Gaussian Processes for Dummies',\n",
       " u'The Ultimate List of TensorFlow Resources',\n",
       " u'How To Run Mathematica on a 20-core Raspberry Pi Cluster',\n",
       " u'Some weekend reading: Causal Data Science',\n",
       " u'Smartphone brand loyalty and handset renewal analysis',\n",
       " u'Using State Machines to run Databases',\n",
       " u'Is Data Scientist a useless job title?',\n",
       " u'Apple Health Data - Export, Analyze and Visualize with R',\n",
       " u'Extract Information from LinkedIn Public Data',\n",
       " u'More']"
      ]
     },
     "execution_count": 34,
     "metadata": {},
     "output_type": "execute_result"
    }
   ],
   "source": [
    "# Titles\n",
    "Selector(text=HTML).xpath('//td[@class=\"title\"]/a/text()').extract()"
   ]
  },
  {
   "cell_type": "code",
   "execution_count": 32,
   "metadata": {
    "collapsed": false
   },
   "outputs": [
    {
     "ename": "SyntaxError",
     "evalue": "EOL while scanning string literal (<ipython-input-32-7c32a4008bd1>, line 2)",
     "output_type": "error",
     "traceback": [
      "\u001b[0;36m  File \u001b[0;32m\"<ipython-input-32-7c32a4008bd1>\"\u001b[0;36m, line \u001b[0;32m2\u001b[0m\n\u001b[0;31m    Selector(text=HTML).xpath('//td[@class=\"title\"]/a/span/text()).extract()\u001b[0m\n\u001b[0m                                                                           ^\u001b[0m\n\u001b[0;31mSyntaxError\u001b[0m\u001b[0;31m:\u001b[0m EOL while scanning string literal\n"
     ]
    }
   ],
   "source": [
    "# Hyperlinks\n",
    "Selector(text=HTML).xpath('//td[@class=\"title\"]/a/span/text()).extract()"
   ]
  },
  {
   "cell_type": "code",
   "execution_count": 40,
   "metadata": {
    "collapsed": false
   },
   "outputs": [
    {
     "name": "stdout",
     "output_type": "stream",
     "text": [
      "[u' (springboard.com) ', u' (civisanalytics.com) ', u' (bookspace.co) ', u' (modeanalytics.com) ', u' (github.io) ', u' (github.com) ', u' (marksblogg.com) ', u' (octoparse.com) ', u' (adilmoujahid.com) ', u' (inferentialthinking.com) ', u' (udacity.com) ', u' (datascienceheroes.com) ', u' (citusdata.com) ', u' (dominodatalab.com) ', u' (ahmedbesbes.com) ', u' (jeannicholashould.com) ', u' (medium.com) ', u' (github.io) ', u' (github.com) ', u' (yhat.com) ', u' (springboard.com) ', u' (github.io) ', u' (hackerlists.com) ', u' (taoofmac.com) ', u' (medium.com) ', u' (danidelvalle.me) ', u' (citusdata.com) ', u' (yanirseroussi.com) ', u' (analyticsplaybook.org) ', u' (octoparse.com) ']\n"
     ]
    }
   ],
   "source": [
    "# Domain\n",
    "domain = Selector(text=HTML).xpath('//td[@class=\"title\"]/span/text()').extract()\n",
    "print domain"
   ]
  },
  {
   "cell_type": "code",
   "execution_count": 39,
   "metadata": {
    "collapsed": false
   },
   "outputs": [
    {
     "name": "stdout",
     "output_type": "stream",
     "text": [
      "[u'2 points', u'11 points', u'7 points', u'8 points', u'5 points', u'2 points', u'9 points', u'4 points', u'10 points', u'4 points', u'12 points', u'5 points', u'4 points', u'10 points', u'5 points', u'4 points', u'7 points', u'7 points', u'3 points', u'7 points', u'7 points', u'7 points', u'10 points', u'5 points', u'3 points', u'7 points', u'3 points', u'16 points', u'3 points', u'3 points']\n"
     ]
    }
   ],
   "source": [
    "#points \n",
    "points = Selector(text=HTML).xpath('//td[@class=\"subtext\"]/span/text()').extract()\n",
    "print points"
   ]
  },
  {
   "cell_type": "code",
   "execution_count": 69,
   "metadata": {
    "collapsed": false
   },
   "outputs": [
    {
     "data": {
      "text/plain": [
       "[u'Rogerh91',\n",
       " u'michelangelo',\n",
       " u'jeradf',\n",
       " u'melissabierly',\n",
       " u'axelr',\n",
       " u'wdm0006',\n",
       " u'marklit',\n",
       " u'William89',\n",
       " u'adilmoujahid',\n",
       " u'craigkerstiens',\n",
       " u'Veerle',\n",
       " u'sicarul',\n",
       " u'craigkerstiens',\n",
       " u'danielchalef',\n",
       " u'ahmedbesbes',\n",
       " u'nickhould',\n",
       " u'tfturing',\n",
       " u'Cody',\n",
       " u'tfturing',\n",
       " u'elisebreda',\n",
       " u'Rogerh91',\n",
       " u'benfrederickson',\n",
       " u'rockdiesel',\n",
       " u'rcarmo',\n",
       " u'akelleh',\n",
       " u'danidelvalle',\n",
       " u'craigkerstiens',\n",
       " u'yanirs',\n",
       " u'randyzwitch',\n",
       " u'Jane']"
      ]
     },
     "execution_count": 69,
     "metadata": {},
     "output_type": "execute_result"
    }
   ],
   "source": [
    "# the author\n",
    "Selector(text=HTML).xpath('//td[@class=\"subtext\"]/a[1]/text()').extract()"
   ]
  },
  {
   "cell_type": "code",
   "execution_count": 70,
   "metadata": {
    "collapsed": false
   },
   "outputs": [
    {
     "data": {
      "text/plain": [
       "[u'discuss',\n",
       " u'discuss',\n",
       " u'2 comments',\n",
       " u'discuss',\n",
       " u'1 comment',\n",
       " u'discuss',\n",
       " u'1 comment',\n",
       " u'discuss',\n",
       " u'discuss',\n",
       " u'discuss',\n",
       " u'1 comment',\n",
       " u'discuss',\n",
       " u'discuss',\n",
       " u'discuss',\n",
       " u'discuss',\n",
       " u'discuss',\n",
       " u'1 comment',\n",
       " u'discuss',\n",
       " u'discuss',\n",
       " u'4 comments',\n",
       " u'discuss',\n",
       " u'discuss',\n",
       " u'1 comment',\n",
       " u'discuss',\n",
       " u'discuss',\n",
       " u'discuss',\n",
       " u'discuss',\n",
       " u'11 comments',\n",
       " u'discuss',\n",
       " u'discuss']"
      ]
     },
     "execution_count": 70,
     "metadata": {},
     "output_type": "execute_result"
    }
   ],
   "source": [
    "# the author\n",
    "Selector(text=HTML).xpath('//td[@class=\"subtext\"]/a[2]/text()').extract()"
   ]
  },
  {
   "cell_type": "code",
   "execution_count": 50,
   "metadata": {
    "collapsed": false
   },
   "outputs": [
    {
     "name": "stdout",
     "output_type": "stream",
     "text": [
      "{'domain': ['springboard.com', 'civisanalytics.com', 'bookspace.co', 'modeanalytics.com', 'github.io', 'github.com', 'marksblogg.com', 'octoparse.com', 'adilmoujahid.com', 'inferentialthinking.com', 'udacity.com', 'datascienceheroes.com', 'citusdata.com', 'dominodatalab.com', 'ahmedbesbes.com', 'jeannicholashould.com', 'medium.com', 'github.io', 'github.com', 'yhat.com', 'springboard.com', 'github.io', 'hackerlists.com', 'taoofmac.com', 'medium.com', 'danidelvalle.me', 'citusdata.com', 'yanirseroussi.com', 'analyticsplaybook.org', 'octoparse.com'], 'score': [2, 11, 7, 8, 5, 2, 9, 4, 10, 4, 12, 5, 4, 10, 5, 4, 7, 7, 3, 7, 7, 7, 10, 5, 3, 7, 3, 16, 3, 3]}\n"
     ]
    }
   ],
   "source": [
    "datadict = {}\n",
    "\n",
    "datadict['score'] = [int(x.encode('utf_8').strip().split(' ')[0]) for x in points]\n",
    "\n",
    "datadict['domain'] = [x.encode('utf_8').strip().replace('(','').replace(')','') for x in domain]\n",
    "print datadict\n",
    "import pandas as pd\n",
    "df = pd.DataFrame(datadict)"
   ]
  },
  {
   "cell_type": "code",
   "execution_count": 57,
   "metadata": {
    "collapsed": false
   },
   "outputs": [
    {
     "name": "stdout",
     "output_type": "stream",
     "text": [
      "                    domain  score\n",
      "0          springboard.com      2\n",
      "1       civisanalytics.com     11\n",
      "2             bookspace.co      7\n",
      "3        modeanalytics.com      8\n",
      "4                github.io      5\n",
      "5               github.com      2\n",
      "6           marksblogg.com      9\n",
      "7            octoparse.com      4\n",
      "8         adilmoujahid.com     10\n",
      "9  inferentialthinking.com      4\n",
      "                         score\n",
      "domain                        \n",
      "github.io                   19\n",
      "yanirseroussi.com           16\n",
      "udacity.com                 12\n",
      "civisanalytics.com          11\n",
      "adilmoujahid.com            10\n",
      "dominodatalab.com           10\n",
      "medium.com                  10\n",
      "hackerlists.com             10\n",
      "marksblogg.com               9\n",
      "springboard.com              9\n",
      "modeanalytics.com            8\n",
      "danidelvalle.me              7\n",
      "citusdata.com                7\n",
      "octoparse.com                7\n",
      "bookspace.co                 7\n",
      "yhat.com                     7\n",
      "datascienceheroes.com        5\n",
      "github.com                   5\n",
      "ahmedbesbes.com              5\n",
      "taoofmac.com                 5\n",
      "inferentialthinking.com      4\n",
      "jeannicholashould.com        4\n",
      "analyticsplaybook.org        3\n"
     ]
    }
   ],
   "source": [
    "print df.head(10)\n",
    "tops = df.groupby('domain')[['score']].sum()\n",
    "\n",
    "print tops.sort_values('score',ascending=False)"
   ]
  },
  {
   "cell_type": "code",
   "execution_count": 91,
   "metadata": {
    "collapsed": false
   },
   "outputs": [
    {
     "name": "stdout",
     "output_type": "stream",
     "text": [
      "yes!\n",
      "yes!\n",
      "yes!\n",
      "yes!\n"
     ]
    }
   ],
   "source": [
    "# bonus\n",
    "\n",
    "base_domain = \"http://www.datatau.com\"\n",
    "counter = 0\n",
    "HTML = \"\"\n",
    "target_domain = base_domain\n",
    "titles = []\n",
    "while counter < 4:\n",
    "    response = requests.get(target_domain)\n",
    "    HTML = response.text        \n",
    "    local_titles = Selector(text=HTML).xpath('//td[@class=\"title\"]/a/@href').extract()\n",
    "    titles.extend([x.encode('utf-8') for x in local_titles])\n",
    "    more_rellink = Selector(text=HTML).xpath('//td/a/@href').extract()[-1]\n",
    "    if 'fnid' in more_rellink:\n",
    "        print 'yes!'\n",
    "        target_domain = base_domain + more_rellink\n",
    "        counter +=1\n",
    "    else:\n",
    "        counter = 4\n"
   ]
  },
  {
   "cell_type": "code",
   "execution_count": 94,
   "metadata": {
    "collapsed": false
   },
   "outputs": [
    {
     "name": "stdout",
     "output_type": "stream",
     "text": [
      "125\n",
      "['https://www.springboard.com/blog/data-science-interviews-lessons/',\n",
      " 'https://civisanalytics.com/blog/data-science/2016/08/15/python-r/',\n",
      " 'http://www.bookspace.co/search/?query_book=The+Communist+Manifesto+%28Penguin+Classics%29&plus=liberty&minus=communism',\n",
      " 'https://blog.modeanalytics.com/data-science-career/',\n",
      " 'http://arogozhnikov.github.io/2016/07/12/secret-of-ml.html',\n",
      " 'https://github.com/wdm0006/categorical_encoding',\n",
      " 'http://tech.marksblogg.com/billion-nyc-taxi-rides-nvidia-pascal-titan-x-mapd.html',\n",
      " 'http://www.octoparse.com/tutorial/how-to-extract-data-from-airbnb/',\n",
      " 'http://adilmoujahid.com/posts/2016/08/interactive-data-visualization-geospatial-d3-dc-leaflet-python/',\n",
      " 'http://www.inferentialthinking.com/',\n",
      " 'http://blog.udacity.com/2015/04/data-science-interview-questions.html',\n",
      " 'http://livebook.datascienceheroes.com/',\n",
      " 'https://www.citusdata.com/blog/2016/08/10/sharding-for-a-multi-tenant-app-with-postgres/',\n",
      " 'https://blog.dominodatalab.com/joel-test-data-science/',\n",
      " 'http://ahmedbesbes.com/how-to-score-08134-in-titanic-kaggle-challenge.html',\n",
      " 'http://www.jeannicholashould.com/getting-your-first-job-in-data-science.html',\n",
      " 'https://medium.com/data-engineering/modeling-madly-8b2c72eb52be#.6alvc64m6',\n",
      " 'https://ttvand.github.io/Winning-approach-of-the-Facebook-V-Kaggle-competition/',\n",
      " 'https://github.com/nicholaslocascio/deep-regex',\n",
      " 'http://blog.yhat.com/posts/rodeo-for-windows.html',\n",
      " 'https://www.springboard.com/resources/data-scientist-interview-guide',\n",
      " 'http://katbailey.github.io/post/gaussian-processes-for-dummies/',\n",
      " 'https://hackerlists.com/tensorflow-resources/',\n",
      " 'http://taoofmac.com/space/blog/2016/08/10/0830',\n",
      " 'https://medium.com/@akelleh/causal-data-science-721ed63a4027#.b9dczx7uo',\n",
      " 'https://danidelvalle.me/2016/08/08/smartphone-brand-loyalty-and-handset-renewal-analysis/',\n",
      " 'https://yanirseroussi.com/2016/08/04/is-data-scientist-a-useless-job-title/',\n",
      " 'https://www.citusdata.com/blog/2016/08/12/state-machines-to-run-databases/',\n",
      " 'http://analyticsplaybook.org/dataviz/api/apple_health_export_analyze_visualize_R.html',\n",
      " 'http://www.octoparse.com/tutorial/extract-information-from-linkedin-public-data-2/',\n",
      " '/x?fnid=gUYePWRfYA',\n",
      " 'https://github.com/cassidoo/scrapers',\n",
      " 'http://www.octoparse.com/tutorial/extracting-stock-prices-using-regular-expression-example-financeyahoocom/',\n",
      " 'http://thuijskens.github.io/2016/08/03/time-series-forecasting/',\n",
      " 'http://tech.marksblogg.com/airflow-postgres-redis-forex.html',\n",
      " 'https://github.com/amitkaps/hackermath',\n",
      " 'https://www.sisense.com/blog/postgres-vs-mongodb-for-storing-json-data/',\n",
      " 'https://medium.com/@akelleh/speed-vs-accuracy-when-is-correlation-enough-when-do-you-need-causation-708c8ca93753#.avsfvqz3s',\n",
      " 'http://aetros.com/',\n",
      " 'http://mourafiq.com/2016/08/10/playing-with-convolutions-in-tensorflow.html',\n",
      " 'https://github.com/unnati-xyz/fifthel-2016-workshop',\n",
      " 'http://norvig.com/ipython/README.html',\n",
      " 'https://websitedatascraper.blogspot.com/2016/08/extract-tweets-from-twitter-1sign-in.html',\n",
      " 'https://yanirseroussi.com/2016/02/14/why-you-should-stop-worrying-about-deep-learning-and-deepen-your-understanding-of-causality-instead/comment-page-1/#comment-1256',\n",
      " 'http://www.insightdataengineering.com/blog/elasticsearch-search-tradeoffs/',\n",
      " 'https://github.com/facebookresearch/fastText',\n",
      " 'https://arogozhnikov.github.io/2016/06/24/gradient_boosting_explained.html',\n",
      " 'http://shapemodelling.cs.unibas.ch/StatisticalShapeModelling_2016.html',\n",
      " 'http://tech.marksblogg.com/tensorflow-nvidia-gtx-1080.html',\n",
      " 'https://www.dominodatalab.com/datapopups/los_angeles',\n",
      " 'https://lettier.github.io/posts/2016-08-05-matthews-correlation-coefficient.html',\n",
      " 'https://medium.com/@james_aka_yale/the-10-algorithms-machine-learning-engineers-need-to-know-f4bb63f5b2fa',\n",
      " 'http://blog.yhat.com/posts/ML-resources-you-should-know.html',\n",
      " 'https://www.slideshare.net/SigOpt/hyperparameter-optimization-101',\n",
      " 'https://gab41.lab41.org/lab41-reading-group-deep-compression-9c36064fb209#.7iplxgfvl',\n",
      " 'https://research.googleblog.com/2015/08/the-reusable-holdout-preserving.html',\n",
      " 'https://github.com/fchollet/deep-learning-models',\n",
      " 'http://blog.kaggle.com/2016/07/21/approaching-almost-any-machine-learning-problem-abhishek-thakur/',\n",
      " 'http://insidebigdata.com/2016/08/08/the-hidden-cost-of-latency-in-analytical-applications/',\n",
      " 'https://github.com/guipsamora/pandas_exercises',\n",
      " 'http://blog.drivendata.org/2016/07/21/data-science-is-software-talk/',\n",
      " '/x?fnid=xxTTTOM9pd',\n",
      " 'https://github.com/vladsandulescu/topics',\n",
      " 'http://blog.yhat.com/posts/words2map.html',\n",
      " 'http://www.jeannicholashould.com/what-I-wish-I-knew-about-data-for-startups.html',\n",
      " 'https://www.springboard.com/blog/highest-data-scientist-salary-possible/',\n",
      " 'https://www.citusdata.com/blog/2016/07/25/sharding-json-in-postgres-and-performance/',\n",
      " 'http://blog.jupyter.org/2016/07/14/jupyter-lab-alpha/',\n",
      " 'https://www.youtube.com/watch?v=AgPQ76RIi6A&list=PLYx7XA2nY5Gf37zYZMw6OqGFRPjB1jCy6&index=10',\n",
      " 'https://github.com/justmarkham/DAT4/blob/master/notebooks/08_linear_regression.ipynb',\n",
      " 'http://arogozhnikov.github.io/2016/07/05/gradient_boosting_playground.html',\n",
      " 'http://goo.gl/forms/VkJ5BbFlVWx4bQTs2',\n",
      " 'http://demo.intellexer.com/document_comparator_demo',\n",
      " 'https://medium.com/@Zelros/how-deep-learning-solved-phase-1-of-the-data-science-game-2712b949963f#.bl04w8306',\n",
      " 'https://www.oreilly.com/ideas/3-ideas-to-add-to-your-data-science-toolkit',\n",
      " 'https://github.com/rouseguy/europython2016_dl-nlp',\n",
      " 'https://www.youtube.com/watch?v=NW5h8d_ZyOs',\n",
      " 'http://multithreaded.stitchfix.com/blog/2016/07/14/data-driven-fashion-design/',\n",
      " 'https://medium.com/@akelleh/understanding-bias-a-pre-requisite-for-trustworthy-results-ee590b75b1be#.93xxfzg18',\n",
      " 'http://bytepawn.com/luigi-airflow-pinball.html',\n",
      " 'http://python-apuntes.blogspot.com.ar/2016/07/regresion-logistica-con-sklearn.html',\n",
      " 'https://blogs.nvidia.com/blog/2016/07/11/mapd-data-analytics/',\n",
      " 'https://blog.monkeylearn.com/machine-learning-1m-hotel-reviews-finds-interesting-insights/',\n",
      " 'http://yaroslav.ganin.net/static/deepwarp/',\n",
      " 'http://www.jeannicholashould.com/the-theorem-every-data-scientist-should-know.html',\n",
      " 'https://medium.com/@plusepsilon/unreasonable-effectiveness-of-counting-cf18d15f5a43#.63xy8okdr',\n",
      " 'http://heather.cs.ucdavis.edu/draftregclass.pdf',\n",
      " 'http://www.scribd.com/vacuum?url=http://heather.cs.ucdavis.edu/draftregclass.pdf',\n",
      " 'https://medium.com/@Terrybroad/autoencoding-blade-runner-88941213abbe#.8l5z0kyht',\n",
      " 'http://blog.jupyter.org/2016/07/08/ipython-5-0-released/',\n",
      " 'http://www.jeannicholashould.com/the-theorem-every-data-scientist-should-know-2.html',\n",
      " 'https://www.kadenze.com/courses/creative-applications-of-deep-learning-with-tensorflow/info',\n",
      " 'http://analyticscosm.com/7-analytics-tools-and-the-job-market/',\n",
      " '/x?fnid=N8dNBIEkUq',\n",
      " 'http://arkenea.com/blog/ai-app-development/',\n",
      " 'http://varianceexplained.org/r/year_data_scientist/',\n",
      " 'https://medium.com/@KevinSchmidtBiz/next-generation-data-architecture-31f03141a19a#.hm4seqmj2',\n",
      " 'http://www.deeplearningpatterns.com/doku.php/applications',\n",
      " 'http://www.datadan.io/common-go-for-data-science-questions/',\n",
      " 'https://leanpub.com/effective-pandas',\n",
      " 'http://tech.marksblogg.com/billion-nyc-taxi-rides-aws-ec2-mapd.html',\n",
      " 'http://insightdataengineering.com/blog/elasticsearch-core/',\n",
      " 'https://github.com/ellisonbg/altair',\n",
      " 'https://hackerlists.com/beginner-ml-courses/',\n",
      " 'http://esapi.intellexer.com/Summarizer',\n",
      " 'http://tech.marksblogg.com/billion-nyc-taxi-rides-nvidia-titan-x-mapd.html',\n",
      " 'http://www.win-vector.com/blog/2016/07/on-accuracy/',\n",
      " 'https://www.youtube.com/watch?v=9XZ3ihE7OjM',\n",
      " 'http://edwardlib.org',\n",
      " 'https://iraqinquiry.lateral.io',\n",
      " 'https://docs.mldb.ai/ipy/notebooks/_tutorials/_latest/Selecting%20Columns%20Programmatically%20Using%20Column%20Expressions%20Tutorial.html',\n",
      " 'https://github.com/rouseguy/scipyUS2016_dl-image',\n",
      " 'http://www.dataiku.com/blog/2016/07/12/recomendation-engine-for-theater-avignon.html',\n",
      " 'http://www.arilamstein.com/blog/2016/07/12/announcing-r-shapefile-contest/',\n",
      " 'https://www.youtube.com/watch?v=Q9Z20HCPnww',\n",
      " 'https://www.citusdata.com/blog/2016/07/14/choosing-nosql-hstore-json-jsonb/',\n",
      " 'http://blog.yhat.com/posts/new-ggplot.html',\n",
      " 'http://koaning.io/fluctuating-repetition.html',\n",
      " 'https://kozikow.wordpress.com/2016/07/01/top-pandas-functions-used-in-github-repos/',\n",
      " 'https://www.dataquest.io/blog/data-science-newsletters/',\n",
      " 'https://www.linkedin.com/pulse/data-confirm-whats-language-development-ma-eliza-villarino',\n",
      " 'http://blog.socialcops.com/engineering/machine-learning-python',\n",
      " 'http://www.mlyearning.org/',\n",
      " 'https://www.oreilly.com/learning/hello-tensorflow',\n",
      " '/x?fnid=XNyqKzoZCc']\n",
      "http://www.datatau.com/x?fnid=XNyqKzoZCc\n"
     ]
    }
   ],
   "source": [
    "print len(titles)\n",
    "from pprint import pprint\n",
    "pprint(titles)\n",
    "#print counter\n",
    "print target_domain\n"
   ]
  },
  {
   "cell_type": "code",
   "execution_count": null,
   "metadata": {
    "collapsed": true
   },
   "outputs": [],
   "source": []
  }
 ],
 "metadata": {
  "anaconda-cloud": {},
  "kernelspec": {
   "display_name": "Python [dsi]",
   "language": "python",
   "name": "Python [dsi]"
  },
  "language_info": {
   "codemirror_mode": {
    "name": "ipython",
    "version": 2
   },
   "file_extension": ".py",
   "mimetype": "text/x-python",
   "name": "python",
   "nbconvert_exporter": "python",
   "pygments_lexer": "ipython2",
   "version": "2.7.12"
  }
 },
 "nbformat": 4,
 "nbformat_minor": 0
}
