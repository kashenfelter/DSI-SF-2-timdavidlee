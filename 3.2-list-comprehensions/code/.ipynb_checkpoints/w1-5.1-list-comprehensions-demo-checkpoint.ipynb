{
 "cells": [
  {
   "cell_type": "markdown",
   "metadata": {},
   "source": [
    "### Practice List Comprehensions\n",
    "\n",
    "This guided demo follows the lecture on list comprehensions!\n",
    "\n",
    "#### Section 1: Basic list comprehensions"
   ]
  },
  {
   "cell_type": "code",
   "execution_count": 4,
   "metadata": {
    "collapsed": true
   },
   "outputs": [],
   "source": [
    "import numpy as np\n",
    "import pandas as pd\n",
    "import string"
   ]
  },
  {
   "cell_type": "markdown",
   "metadata": {},
   "source": [
    "##### 1-A) Add 1 to every element in the list"
   ]
  },
  {
   "cell_type": "code",
   "execution_count": 2,
   "metadata": {
    "collapsed": false
   },
   "outputs": [
    {
     "name": "stdout",
     "output_type": "stream",
     "text": [
      "[1, 2, 3, 4, 5, 6, 7, 8, 9, 10]\n"
     ]
    }
   ],
   "source": [
    "numbers = [0,1,2,3,4,5,6,7,8,9]\n",
    "print [x+1 for x in numbers]"
   ]
  },
  {
   "cell_type": "markdown",
   "metadata": {},
   "source": [
    "#### Section 2: List comprehension conditional logic\n",
    "\n",
    "##### 2-A) \"Binarize\" n so that any value greater than or equal to the mean of n is 1, otherwise 0"
   ]
  },
  {
   "cell_type": "code",
   "execution_count": 7,
   "metadata": {
    "collapsed": false
   },
   "outputs": [
    {
     "name": "stdout",
     "output_type": "stream",
     "text": [
      "this is the mean 19\n",
      "[0, 0, 0, 1, 0, 0, 1, 0, 1, 0, 1, 1, 0, 0, 0]\n"
     ]
    }
   ],
   "source": [
    "n = [1, 2, 7, 21, 3, 1, 62, 3, 34, 12, 73, 44, 12, 11, 9]\n",
    "mean = np.mean(n)\n",
    "print 'this is the mean %d' % mean\n",
    "print [1 if x >= mean else 0 for x in n]"
   ]
  },
  {
   "cell_type": "markdown",
   "metadata": {},
   "source": [
    "##### 2-B) Swap 1s to 0s and 0s to 1s. If the element is neither a 0 nor 1, make it None"
   ]
  },
  {
   "cell_type": "code",
   "execution_count": 8,
   "metadata": {
    "collapsed": false
   },
   "outputs": [
    {
     "name": "stdout",
     "output_type": "stream",
     "text": [
      "[1, 0, 1, 0, None, None, None, None, 0, 1]\n"
     ]
    }
   ],
   "source": [
    "n = [0, 1, 0, 1, 2, 3, 5, 2, 1, 0]\n",
    "print [0 if x ==1 else 1 if x == 0 else None for x in n]\n"
   ]
  },
  {
   "cell_type": "markdown",
   "metadata": {},
   "source": [
    "#### Section 3: Nested list comprehensions\n",
    "\n",
    "##### 3-A) Get the square and square root of all non-negative numbers in the list"
   ]
  },
  {
   "cell_type": "code",
   "execution_count": 13,
   "metadata": {
    "collapsed": false
   },
   "outputs": [
    {
     "name": "stdout",
     "output_type": "stream",
     "text": [
      "[[0, 0.0], [1, 1.0], [2500, 7.0710678118654755], [5625, 8.6602540378443873]]\n"
     ]
    }
   ],
   "source": [
    "n = [0, 1, 50, -23, -1, 75, -3]\n",
    "print [[x**2,np.sqrt(x)] for x in n if x >=0]"
   ]
  },
  {
   "cell_type": "markdown",
   "metadata": {},
   "source": [
    "#### Section 4: Functions in list comprehensions\n",
    "\n",
    "##### 4-A) Combine elements of these two lists item by item into list pairs"
   ]
  },
  {
   "cell_type": "code",
   "execution_count": 14,
   "metadata": {
    "collapsed": false
   },
   "outputs": [
    {
     "name": "stdout",
     "output_type": "stream",
     "text": [
      "[['a', 'z'], ['b', 'y'], ['c', 'x'], ['d', 'w']]\n"
     ]
    }
   ],
   "source": [
    "a = ['a','b','c','d']\n",
    "z = ['z','y','x','w']\n",
    "print [[x,y] for x,y in zip(a,z)]"
   ]
  },
  {
   "cell_type": "markdown",
   "metadata": {},
   "source": [
    "##### 4-B) Pair each index and element of this list into list pairs"
   ]
  },
  {
   "cell_type": "code",
   "execution_count": 17,
   "metadata": {
    "collapsed": false
   },
   "outputs": [
    {
     "name": "stdout",
     "output_type": "stream",
     "text": [
      "[['a', 0], ['b', 1], ['c', 2], ['d', 3]]\n"
     ]
    }
   ],
   "source": [
    "a = ['a','b','c','d']\n",
    "print [[x,a.index(x)] for x in a]"
   ]
  },
  {
   "cell_type": "markdown",
   "metadata": {},
   "source": [
    "##### 4-C) For each element of each list, calculate the first list element times the index divided by the element of the second list"
   ]
  },
  {
   "cell_type": "code",
   "execution_count": 8,
   "metadata": {
    "collapsed": true
   },
   "outputs": [],
   "source": [
    "list_one = [10, 15, 20, 25, 40]\n",
    "list_two = [1, 2, 3, 4, 5]\n",
    "\n"
   ]
  },
  {
   "cell_type": "markdown",
   "metadata": {},
   "source": [
    "#### Section 5: Nested list comprehensions\n",
    "\n",
    "##### 5-A) Create all the alphabet \"syllables\" defined as consonant-vowel pairs in a flattened list [USING FOR LOOP ITERATION]"
   ]
  },
  {
   "cell_type": "code",
   "execution_count": 9,
   "metadata": {
    "collapsed": true
   },
   "outputs": [],
   "source": [
    "vowels = ['a', 'e', 'i', 'o', 'u']\n",
    "alphabet = string.ascii_lowercase\n"
   ]
  },
  {
   "cell_type": "markdown",
   "metadata": {},
   "source": [
    "##### 5-B) Create all the alphabet \"syllables\" defined as consonant-vowel pairs in a flattened list [USING A LIST COMPREHENSION]"
   ]
  },
  {
   "cell_type": "code",
   "execution_count": 10,
   "metadata": {
    "collapsed": true
   },
   "outputs": [],
   "source": [
    "vowels = ['a', 'e', 'i', 'o', 'u']\n",
    "alphabet = string.ascii_lowercase\n"
   ]
  },
  {
   "cell_type": "markdown",
   "metadata": {},
   "source": [
    "#### Section 6: Dictionary comprehensions\n",
    "\n",
    "##### 6-A) Make a dictionary where keys are animals and values are lists with the number value of each character in the key\n",
    "\n",
    "Hint: use the **ord()** function to convert characters to numbers."
   ]
  },
  {
   "cell_type": "code",
   "execution_count": 11,
   "metadata": {
    "collapsed": true
   },
   "outputs": [],
   "source": [
    "keys = ['dog', 'cat', 'bird', 'horse']\n"
   ]
  },
  {
   "cell_type": "markdown",
   "metadata": {},
   "source": [
    "##### 6-B) Create a dictionary with these column names and corresponding column values"
   ]
  },
  {
   "cell_type": "code",
   "execution_count": 12,
   "metadata": {
    "collapsed": true
   },
   "outputs": [],
   "source": [
    "column_names = ['height','weight','is_male']\n",
    "values = [[62, 54, 60, 50], [180, 120, 200, 100], [True, False, True, False]]\n"
   ]
  }
 ],
 "metadata": {
  "kernelspec": {
   "display_name": "Python 2",
   "language": "python",
   "name": "python2"
  },
  "language_info": {
   "codemirror_mode": {
    "name": "ipython",
    "version": 2
   },
   "file_extension": ".py",
   "mimetype": "text/x-python",
   "name": "python",
   "nbconvert_exporter": "python",
   "pygments_lexer": "ipython2",
   "version": "2.7.11"
  }
 },
 "nbformat": 4,
 "nbformat_minor": 0
}
