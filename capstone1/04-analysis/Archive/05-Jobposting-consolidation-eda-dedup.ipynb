{
 "cells": [
  {
   "cell_type": "code",
   "execution_count": 2,
   "metadata": {
    "collapsed": false
   },
   "outputs": [
    {
     "data": {
      "text/html": [
       "<div>\n",
       "<table border=\"1\" class=\"dataframe\">\n",
       "  <thead>\n",
       "    <tr style=\"text-align: right;\">\n",
       "      <th></th>\n",
       "      <th>company</th>\n",
       "      <th>jobdesc</th>\n",
       "      <th>jobkey</th>\n",
       "      <th>location</th>\n",
       "      <th>snip</th>\n",
       "      <th>title</th>\n",
       "      <th>url</th>\n",
       "    </tr>\n",
       "  </thead>\n",
       "  <tbody>\n",
       "    <tr>\n",
       "      <th>0</th>\n",
       "      <td>Kabbage</td>\n",
       "      <td>----------------------------------------------...</td>\n",
       "      <td>e55e9eb2ee168041</td>\n",
       "      <td>Atlanta, GA</td>\n",
       "      <td>\\n--------------------------------------------...</td>\n",
       "      <td>Data Engineer</td>\n",
       "      <td>http://www.indeed.com/viewjob?jk=e55e9eb2ee168...</td>\n",
       "    </tr>\n",
       "    <tr>\n",
       "      <th>1</th>\n",
       "      <td>Georgia Highlands College</td>\n",
       "      <td>Incumbent will manage the day-to-day financial...</td>\n",
       "      <td>6723728b59b8489b</td>\n",
       "      <td>Georgia</td>\n",
       "      <td>\\nIncumbent will manage the day-to-day financi...</td>\n",
       "      <td>Auxiliary Business Analyst</td>\n",
       "      <td>http://www.indeed.com/viewjob?jk=6723728b59b84...</td>\n",
       "    </tr>\n",
       "    <tr>\n",
       "      <th>2</th>\n",
       "      <td>Xerox</td>\n",
       "      <td>Xerox is the world's leading enterprise for bu...</td>\n",
       "      <td>b4319c398f15403a</td>\n",
       "      <td>Georgia</td>\n",
       "      <td>\\nXerox is the world's leading enterprise for ...</td>\n",
       "      <td>Client Technical Solutions Architect - Remote</td>\n",
       "      <td>http://www.indeed.com/viewjob?jk=b4319c398f154...</td>\n",
       "    </tr>\n",
       "    <tr>\n",
       "      <th>3</th>\n",
       "      <td>Wellstar Health System</td>\n",
       "      <td>Join the team named one of the Top 100 Compani...</td>\n",
       "      <td>d53c17499aa0ae39</td>\n",
       "      <td>Atlanta, GA</td>\n",
       "      <td>\\nJoin the team named one of the Top 100 Compa...</td>\n",
       "      <td>Business Analyst</td>\n",
       "      <td>http://www.indeed.com/viewjob?jk=d53c17499aa0a...</td>\n",
       "    </tr>\n",
       "    <tr>\n",
       "      <th>4</th>\n",
       "      <td>McKenney's Inc.</td>\n",
       "      <td>The Business Analyst works with stakeholders f...</td>\n",
       "      <td>aff5573e39ff9477</td>\n",
       "      <td>Atlanta, GA</td>\n",
       "      <td>\\nThe Business Analyst works with stakeholders...</td>\n",
       "      <td>Business Analyst</td>\n",
       "      <td>http://www.indeed.com/viewjob?jk=aff5573e39ff9...</td>\n",
       "    </tr>\n",
       "  </tbody>\n",
       "</table>\n",
       "</div>"
      ],
      "text/plain": [
       "                     company  \\\n",
       "0                    Kabbage   \n",
       "1  Georgia Highlands College   \n",
       "2                      Xerox   \n",
       "3     Wellstar Health System   \n",
       "4            McKenney's Inc.   \n",
       "\n",
       "                                             jobdesc            jobkey  \\\n",
       "0  ----------------------------------------------...  e55e9eb2ee168041   \n",
       "1  Incumbent will manage the day-to-day financial...  6723728b59b8489b   \n",
       "2  Xerox is the world's leading enterprise for bu...  b4319c398f15403a   \n",
       "3  Join the team named one of the Top 100 Compani...  d53c17499aa0ae39   \n",
       "4  The Business Analyst works with stakeholders f...  aff5573e39ff9477   \n",
       "\n",
       "      location                                               snip  \\\n",
       "0  Atlanta, GA  \\n--------------------------------------------...   \n",
       "1      Georgia  \\nIncumbent will manage the day-to-day financi...   \n",
       "2      Georgia  \\nXerox is the world's leading enterprise for ...   \n",
       "3  Atlanta, GA  \\nJoin the team named one of the Top 100 Compa...   \n",
       "4  Atlanta, GA  \\nThe Business Analyst works with stakeholders...   \n",
       "\n",
       "                                           title  \\\n",
       "0                                  Data Engineer   \n",
       "1                     Auxiliary Business Analyst   \n",
       "2  Client Technical Solutions Architect - Remote   \n",
       "3                               Business Analyst   \n",
       "4                               Business Analyst   \n",
       "\n",
       "                                                 url  \n",
       "0  http://www.indeed.com/viewjob?jk=e55e9eb2ee168...  \n",
       "1  http://www.indeed.com/viewjob?jk=6723728b59b84...  \n",
       "2  http://www.indeed.com/viewjob?jk=b4319c398f154...  \n",
       "3  http://www.indeed.com/viewjob?jk=d53c17499aa0a...  \n",
       "4  http://www.indeed.com/viewjob?jk=aff5573e39ff9...  "
      ]
     },
     "execution_count": 2,
     "metadata": {},
     "output_type": "execute_result"
    }
   ],
   "source": [
    "import pandas as pd\n",
    "import numpy as np\n",
    "import cPickle as pickle\n",
    "\n",
    "with open('jobposting_summary_df.p','rb') as f:\n",
    "    jHead = pickle.load(f)\n",
    "\n",
    "with open('job_details.p','rb') as f:\n",
    "    jbody = pickle.load(f)\n",
    "jbody.head()\n"
   ]
  },
  {
   "cell_type": "code",
   "execution_count": 2,
   "metadata": {
    "collapsed": false
   },
   "outputs": [
    {
     "data": {
      "text/html": [
       "<div>\n",
       "<table border=\"1\" class=\"dataframe\">\n",
       "  <thead>\n",
       "    <tr style=\"text-align: right;\">\n",
       "      <th></th>\n",
       "      <th>city</th>\n",
       "      <th>company</th>\n",
       "      <th>date</th>\n",
       "      <th>filename</th>\n",
       "      <th>formattedLocation</th>\n",
       "      <th>formattedLocationFull</th>\n",
       "      <th>jobkey</th>\n",
       "      <th>jobtitle</th>\n",
       "      <th>latitude</th>\n",
       "      <th>longitude</th>\n",
       "      <th>source</th>\n",
       "      <th>state</th>\n",
       "    </tr>\n",
       "  </thead>\n",
       "  <tbody>\n",
       "    <tr>\n",
       "      <th>0</th>\n",
       "      <td>Oak Lawn</td>\n",
       "      <td>Advocate Health Care</td>\n",
       "      <td>Wed, 14 Sep 2016 13:15:06 GMT</td>\n",
       "      <td>CHI_jobdata.json</td>\n",
       "      <td>Oak Lawn, IL</td>\n",
       "      <td>Oak Lawn, IL 60453</td>\n",
       "      <td>6244f7f3a48616a1</td>\n",
       "      <td>Clinical Practice Specialist - 4 Hope</td>\n",
       "      <td>41.719692</td>\n",
       "      <td>-87.74613</td>\n",
       "      <td>Advocate Health Care</td>\n",
       "      <td>IL</td>\n",
       "    </tr>\n",
       "    <tr>\n",
       "      <th>1</th>\n",
       "      <td>Seattle</td>\n",
       "      <td>University of Washington Medical Center</td>\n",
       "      <td>Tue, 30 Aug 2016 20:20:18 GMT</td>\n",
       "      <td>SEA_jobdata.json</td>\n",
       "      <td>Seattle, WA</td>\n",
       "      <td>Seattle, WA</td>\n",
       "      <td>3d6a9f18f530167d</td>\n",
       "      <td>WEB DEVELOPER</td>\n",
       "      <td>47.604397</td>\n",
       "      <td>-122.32967</td>\n",
       "      <td>University of Washington Medical Center</td>\n",
       "      <td>WA</td>\n",
       "    </tr>\n",
       "    <tr>\n",
       "      <th>2</th>\n",
       "      <td>New York</td>\n",
       "      <td>Macy's</td>\n",
       "      <td>Wed, 07 Sep 2016 07:58:31 GMT</td>\n",
       "      <td>NYC_jobdata.json</td>\n",
       "      <td>New York, NY</td>\n",
       "      <td>New York, NY</td>\n",
       "      <td>d94a7d13dfbb05fb</td>\n",
       "      <td>Analyst, Marketing Analytics</td>\n",
       "      <td>40.711540</td>\n",
       "      <td>-74.00549</td>\n",
       "      <td>Macy's</td>\n",
       "      <td>NY</td>\n",
       "    </tr>\n",
       "    <tr>\n",
       "      <th>3</th>\n",
       "      <td>Mountain View</td>\n",
       "      <td>Skyport Systems</td>\n",
       "      <td>Sat, 10 Sep 2016 23:17:04 GMT</td>\n",
       "      <td>SJC_jobdata.json</td>\n",
       "      <td>Mountain View, CA</td>\n",
       "      <td>Mountain View, CA 94041</td>\n",
       "      <td>c97751deb9e8904e</td>\n",
       "      <td>Data Engineer</td>\n",
       "      <td>37.393486</td>\n",
       "      <td>-122.07886</td>\n",
       "      <td>Skyport Systems</td>\n",
       "      <td>CA</td>\n",
       "    </tr>\n",
       "    <tr>\n",
       "      <th>4</th>\n",
       "      <td>Oak Brook</td>\n",
       "      <td>Command Alkon</td>\n",
       "      <td>Mon, 05 Sep 2016 05:54:23 GMT</td>\n",
       "      <td>CHI_jobdata.json</td>\n",
       "      <td>Oak Brook, IL</td>\n",
       "      <td>Oak Brook, IL</td>\n",
       "      <td>fe4ef48c8fd03633</td>\n",
       "      <td>Application Implementation Specialist</td>\n",
       "      <td>41.832417</td>\n",
       "      <td>-87.92857</td>\n",
       "      <td>Command Alkon</td>\n",
       "      <td>IL</td>\n",
       "    </tr>\n",
       "  </tbody>\n",
       "</table>\n",
       "</div>"
      ],
      "text/plain": [
       "            city                                  company  \\\n",
       "0       Oak Lawn                     Advocate Health Care   \n",
       "1        Seattle  University of Washington Medical Center   \n",
       "2       New York                                   Macy's   \n",
       "3  Mountain View                          Skyport Systems   \n",
       "4      Oak Brook                            Command Alkon   \n",
       "\n",
       "                            date          filename  formattedLocation  \\\n",
       "0  Wed, 14 Sep 2016 13:15:06 GMT  CHI_jobdata.json       Oak Lawn, IL   \n",
       "1  Tue, 30 Aug 2016 20:20:18 GMT  SEA_jobdata.json        Seattle, WA   \n",
       "2  Wed, 07 Sep 2016 07:58:31 GMT  NYC_jobdata.json       New York, NY   \n",
       "3  Sat, 10 Sep 2016 23:17:04 GMT  SJC_jobdata.json  Mountain View, CA   \n",
       "4  Mon, 05 Sep 2016 05:54:23 GMT  CHI_jobdata.json      Oak Brook, IL   \n",
       "\n",
       "     formattedLocationFull            jobkey  \\\n",
       "0       Oak Lawn, IL 60453  6244f7f3a48616a1   \n",
       "1              Seattle, WA  3d6a9f18f530167d   \n",
       "2             New York, NY  d94a7d13dfbb05fb   \n",
       "3  Mountain View, CA 94041  c97751deb9e8904e   \n",
       "4            Oak Brook, IL  fe4ef48c8fd03633   \n",
       "\n",
       "                                jobtitle   latitude  longitude  \\\n",
       "0  Clinical Practice Specialist - 4 Hope  41.719692  -87.74613   \n",
       "1                          WEB DEVELOPER  47.604397 -122.32967   \n",
       "2           Analyst, Marketing Analytics  40.711540  -74.00549   \n",
       "3                          Data Engineer  37.393486 -122.07886   \n",
       "4  Application Implementation Specialist  41.832417  -87.92857   \n",
       "\n",
       "                                    source state  \n",
       "0                     Advocate Health Care    IL  \n",
       "1  University of Washington Medical Center    WA  \n",
       "2                                   Macy's    NY  \n",
       "3                          Skyport Systems    CA  \n",
       "4                            Command Alkon    IL  "
      ]
     },
     "execution_count": 2,
     "metadata": {},
     "output_type": "execute_result"
    }
   ],
   "source": [
    "jHead.head()"
   ]
  },
  {
   "cell_type": "code",
   "execution_count": 3,
   "metadata": {
    "collapsed": false
   },
   "outputs": [
    {
     "data": {
      "text/html": [
       "<div>\n",
       "<table border=\"1\" class=\"dataframe\">\n",
       "  <thead>\n",
       "    <tr style=\"text-align: right;\">\n",
       "      <th></th>\n",
       "      <th>city</th>\n",
       "      <th>company</th>\n",
       "      <th>date</th>\n",
       "      <th>filename</th>\n",
       "      <th>formattedLocation</th>\n",
       "      <th>formattedLocationFull</th>\n",
       "      <th>jobkey</th>\n",
       "      <th>jobtitle</th>\n",
       "      <th>latitude</th>\n",
       "      <th>longitude</th>\n",
       "      <th>source</th>\n",
       "      <th>state</th>\n",
       "    </tr>\n",
       "  </thead>\n",
       "  <tbody>\n",
       "    <tr>\n",
       "      <th>2240</th>\n",
       "      <td>New York</td>\n",
       "      <td>Razorfish</td>\n",
       "      <td>Tue, 23 Aug 2016 14:41:41 GMT</td>\n",
       "      <td>NYC_jobdata.json</td>\n",
       "      <td>New York, NY</td>\n",
       "      <td>New York, NY</td>\n",
       "      <td>322d0fb816d6f15e</td>\n",
       "      <td>Web Intelligence Analyst</td>\n",
       "      <td>40.71154</td>\n",
       "      <td>-74.00549</td>\n",
       "      <td>Razorfish</td>\n",
       "      <td>NY</td>\n",
       "    </tr>\n",
       "  </tbody>\n",
       "</table>\n",
       "</div>"
      ],
      "text/plain": [
       "          city    company                           date          filename  \\\n",
       "2240  New York  Razorfish  Tue, 23 Aug 2016 14:41:41 GMT  NYC_jobdata.json   \n",
       "\n",
       "     formattedLocation formattedLocationFull            jobkey  \\\n",
       "2240      New York, NY          New York, NY  322d0fb816d6f15e   \n",
       "\n",
       "                      jobtitle  latitude  longitude     source state  \n",
       "2240  Web Intelligence Analyst  40.71154  -74.00549  Razorfish    NY  "
      ]
     },
     "execution_count": 3,
     "metadata": {},
     "output_type": "execute_result"
    }
   ],
   "source": [
    "jHead [jHead.jobkey=='322d0fb816d6f15e']"
   ]
  },
  {
   "cell_type": "code",
   "execution_count": 3,
   "metadata": {
    "collapsed": false
   },
   "outputs": [
    {
     "name": "stdout",
     "output_type": "stream",
     "text": [
      "filename          city\n",
      "BOS_jobdata.json  1       1025\n",
      "CHI_jobdata.json  1       1025\n",
      "LAC_jobdata.json  1       1024\n",
      "LON_jobdata.json  1       1010\n",
      "MIN_jobdata.json  1       1024\n",
      "NYC_jobdata.json  1       1022\n",
      "PHI_jobdata.json  1       1023\n",
      "SEA_jobdata.json  1       1025\n",
      "SFC_jobdata.json  1        987\n",
      "SJC_jobdata.json  1       1025\n",
      "TOR_jobdata.json  1        805\n",
      "WDC_jobdata.json  1       1025\n",
      "_GA_jobdata.json  1       1024\n",
      "_TX_jobdata.json  1       1024\n",
      "_VA_jobdata.json  1        606\n",
      "dtype: int64\n"
     ]
    }
   ],
   "source": [
    "#dupe check\n",
    "temp = jHead.groupby(['jobkey','filename'])[['city']].agg('count')\n",
    "temp.reset_index(inplace=True)\n",
    "temp2 = temp.groupby(['filename','city'])[['filename','city']].size()\n",
    "print temp2"
   ]
  },
  {
   "cell_type": "code",
   "execution_count": 4,
   "metadata": {
    "collapsed": false
   },
   "outputs": [],
   "source": [
    "v = jbody.to_dict()"
   ]
  },
  {
   "cell_type": "code",
   "execution_count": 5,
   "metadata": {
    "collapsed": false
   },
   "outputs": [
    {
     "data": {
      "text/plain": [
       "['title', 'url', 'company', 'snip', 'location', 'jobkey', 'jobdesc']"
      ]
     },
     "execution_count": 5,
     "metadata": {},
     "output_type": "execute_result"
    }
   ],
   "source": [
    "v.keys()"
   ]
  },
  {
   "cell_type": "code",
   "execution_count": 7,
   "metadata": {
    "collapsed": false
   },
   "outputs": [
    {
     "data": {
      "text/plain": [
       "u'ed8fa2eedb783f45'"
      ]
     },
     "execution_count": 7,
     "metadata": {},
     "output_type": "execute_result"
    }
   ],
   "source": [
    "v['jobkey'][0]"
   ]
  },
  {
   "cell_type": "code",
   "execution_count": 15,
   "metadata": {
    "collapsed": false
   },
   "outputs": [],
   "source": [
    "dedup= {}\n",
    "for i in range(0,len(v['jobkey'])):\n",
    "    dedup[v['jobkey'][i]] = {\n",
    "        'jobkey': v['jobkey'][i]\n",
    "        ,'url': v['url'][i]\n",
    "        ,'jobdesc':  v['jobdesc'][i]\n",
    "        ,'snip':v['snip'][i]\n",
    "        ,'location':  v['location'][i]\n",
    "        ,'title': v['title'][i]\n",
    "        ,'company':v['company'][i]\n",
    "    }"
   ]
  },
  {
   "cell_type": "code",
   "execution_count": 16,
   "metadata": {
    "collapsed": false,
    "scrolled": true
   },
   "outputs": [],
   "source": [
    "jbody_dedup = [x for x in dedup.values()]\n",
    "jbody_dedup_df = pd.DataFrame(jbody_dedup)"
   ]
  },
  {
   "cell_type": "code",
   "execution_count": null,
   "metadata": {
    "collapsed": false
   },
   "outputs": [],
   "source": []
  },
  {
   "cell_type": "code",
   "execution_count": 17,
   "metadata": {
    "collapsed": false
   },
   "outputs": [
    {
     "name": "stdout",
     "output_type": "stream",
     "text": [
      "14670\n"
     ]
    }
   ],
   "source": [
    "print len(jbody_dedup_df.jobkey.unique())"
   ]
  },
  {
   "cell_type": "code",
   "execution_count": 18,
   "metadata": {
    "collapsed": false
   },
   "outputs": [
    {
     "name": "stdout",
     "output_type": "stream",
     "text": [
      "(14674, 12) (14670, 7)\n"
     ]
    }
   ],
   "source": [
    "print jHead.shape, jbody_dedup_df.shape"
   ]
  },
  {
   "cell_type": "code",
   "execution_count": 19,
   "metadata": {
    "collapsed": false
   },
   "outputs": [
    {
     "data": {
      "text/plain": [
       "city                     1\n",
       "company                  1\n",
       "date                     1\n",
       "filename                 1\n",
       "formattedLocation        1\n",
       "formattedLocationFull    1\n",
       "jobkey                   1\n",
       "jobtitle                 1\n",
       "latitude                 1\n",
       "longitude                1\n",
       "source                   1\n",
       "state                    1\n",
       "dtype: int64"
      ]
     },
     "execution_count": 19,
     "metadata": {},
     "output_type": "execute_result"
    }
   ],
   "source": [
    "jHead[jHead.jobkey=='inf'].count()\n"
   ]
  },
  {
   "cell_type": "code",
   "execution_count": 20,
   "metadata": {
    "collapsed": false
   },
   "outputs": [
    {
     "data": {
      "text/plain": [
       "company     1\n",
       "jobdesc     1\n",
       "jobkey      1\n",
       "location    1\n",
       "snip        1\n",
       "title       1\n",
       "url         1\n",
       "dtype: int64"
      ]
     },
     "execution_count": 20,
     "metadata": {},
     "output_type": "execute_result"
    }
   ],
   "source": [
    "jbody_dedup_df[jbody_dedup_df.jobkey==np.inf].count()"
   ]
  },
  {
   "cell_type": "code",
   "execution_count": 21,
   "metadata": {
    "collapsed": true
   },
   "outputs": [],
   "source": [
    "# since i have fewer details will use that as the base and bring in the other information:b"
   ]
  },
  {
   "cell_type": "code",
   "execution_count": 22,
   "metadata": {
    "collapsed": false,
    "scrolled": true
   },
   "outputs": [
    {
     "data": {
      "text/html": [
       "<div>\n",
       "<table border=\"1\" class=\"dataframe\">\n",
       "  <thead>\n",
       "    <tr style=\"text-align: right;\">\n",
       "      <th></th>\n",
       "      <th>city</th>\n",
       "      <th>company</th>\n",
       "      <th>date</th>\n",
       "      <th>filename</th>\n",
       "      <th>formattedLocation</th>\n",
       "      <th>formattedLocationFull</th>\n",
       "      <th>jobkey</th>\n",
       "      <th>jobtitle</th>\n",
       "      <th>latitude</th>\n",
       "      <th>longitude</th>\n",
       "      <th>source</th>\n",
       "      <th>state</th>\n",
       "    </tr>\n",
       "  </thead>\n",
       "  <tbody>\n",
       "    <tr>\n",
       "      <th>0</th>\n",
       "      <td>Oak Lawn</td>\n",
       "      <td>Advocate Health Care</td>\n",
       "      <td>Wed, 14 Sep 2016 13:15:06 GMT</td>\n",
       "      <td>CHI_jobdata.json</td>\n",
       "      <td>Oak Lawn, IL</td>\n",
       "      <td>Oak Lawn, IL 60453</td>\n",
       "      <td>6244f7f3a48616a1</td>\n",
       "      <td>Clinical Practice Specialist - 4 Hope</td>\n",
       "      <td>41.719692</td>\n",
       "      <td>-87.74613</td>\n",
       "      <td>Advocate Health Care</td>\n",
       "      <td>IL</td>\n",
       "    </tr>\n",
       "    <tr>\n",
       "      <th>1</th>\n",
       "      <td>Seattle</td>\n",
       "      <td>University of Washington Medical Center</td>\n",
       "      <td>Tue, 30 Aug 2016 20:20:18 GMT</td>\n",
       "      <td>SEA_jobdata.json</td>\n",
       "      <td>Seattle, WA</td>\n",
       "      <td>Seattle, WA</td>\n",
       "      <td>3d6a9f18f530167d</td>\n",
       "      <td>WEB DEVELOPER</td>\n",
       "      <td>47.604397</td>\n",
       "      <td>-122.32967</td>\n",
       "      <td>University of Washington Medical Center</td>\n",
       "      <td>WA</td>\n",
       "    </tr>\n",
       "  </tbody>\n",
       "</table>\n",
       "</div>"
      ],
      "text/plain": [
       "       city                                  company  \\\n",
       "0  Oak Lawn                     Advocate Health Care   \n",
       "1   Seattle  University of Washington Medical Center   \n",
       "\n",
       "                            date          filename formattedLocation  \\\n",
       "0  Wed, 14 Sep 2016 13:15:06 GMT  CHI_jobdata.json      Oak Lawn, IL   \n",
       "1  Tue, 30 Aug 2016 20:20:18 GMT  SEA_jobdata.json       Seattle, WA   \n",
       "\n",
       "  formattedLocationFull            jobkey  \\\n",
       "0    Oak Lawn, IL 60453  6244f7f3a48616a1   \n",
       "1           Seattle, WA  3d6a9f18f530167d   \n",
       "\n",
       "                                jobtitle   latitude  longitude  \\\n",
       "0  Clinical Practice Specialist - 4 Hope  41.719692  -87.74613   \n",
       "1                          WEB DEVELOPER  47.604397 -122.32967   \n",
       "\n",
       "                                    source state  \n",
       "0                     Advocate Health Care    IL  \n",
       "1  University of Washington Medical Center    WA  "
      ]
     },
     "execution_count": 22,
     "metadata": {},
     "output_type": "execute_result"
    }
   ],
   "source": [
    "jHead.head(2)"
   ]
  },
  {
   "cell_type": "code",
   "execution_count": 23,
   "metadata": {
    "collapsed": false
   },
   "outputs": [
    {
     "data": {
      "text/html": [
       "<div>\n",
       "<table border=\"1\" class=\"dataframe\">\n",
       "  <thead>\n",
       "    <tr style=\"text-align: right;\">\n",
       "      <th></th>\n",
       "      <th>company</th>\n",
       "      <th>jobdesc</th>\n",
       "      <th>jobkey</th>\n",
       "      <th>location</th>\n",
       "      <th>snip</th>\n",
       "      <th>title</th>\n",
       "      <th>url</th>\n",
       "    </tr>\n",
       "  </thead>\n",
       "  <tbody>\n",
       "    <tr>\n",
       "      <th>0</th>\n",
       "      <td>Advocate Health Care</td>\n",
       "      <td>As part of Advocate Health Care, Advocate Chil...</td>\n",
       "      <td>6244f7f3a48616a1</td>\n",
       "      <td>Oak Lawn, IL 60453</td>\n",
       "      <td>\\nAs part of Advocate Health Care, Advocate Ch...</td>\n",
       "      <td>Clinical Practice Specialist - 4 Hope</td>\n",
       "      <td>http://www.indeed.com/viewjob?jk=6244f7f3a4861...</td>\n",
       "    </tr>\n",
       "    <tr>\n",
       "      <th>1</th>\n",
       "      <td>University of Washington Medical Center</td>\n",
       "      <td>The University of Washington (UW) is proud to ...</td>\n",
       "      <td>3d6a9f18f530167d</td>\n",
       "      <td>Seattle, WA</td>\n",
       "      <td>\\nThe University of Washington (UW) is proud t...</td>\n",
       "      <td>WEB DEVELOPER</td>\n",
       "      <td>http://www.indeed.com/viewjob?jk=3d6a9f18f5301...</td>\n",
       "    </tr>\n",
       "  </tbody>\n",
       "</table>\n",
       "</div>"
      ],
      "text/plain": [
       "                                   company  \\\n",
       "0                     Advocate Health Care   \n",
       "1  University of Washington Medical Center   \n",
       "\n",
       "                                             jobdesc            jobkey  \\\n",
       "0  As part of Advocate Health Care, Advocate Chil...  6244f7f3a48616a1   \n",
       "1  The University of Washington (UW) is proud to ...  3d6a9f18f530167d   \n",
       "\n",
       "             location                                               snip  \\\n",
       "0  Oak Lawn, IL 60453  \\nAs part of Advocate Health Care, Advocate Ch...   \n",
       "1         Seattle, WA  \\nThe University of Washington (UW) is proud t...   \n",
       "\n",
       "                                   title  \\\n",
       "0  Clinical Practice Specialist - 4 Hope   \n",
       "1                          WEB DEVELOPER   \n",
       "\n",
       "                                                 url  \n",
       "0  http://www.indeed.com/viewjob?jk=6244f7f3a4861...  \n",
       "1  http://www.indeed.com/viewjob?jk=3d6a9f18f5301...  "
      ]
     },
     "execution_count": 23,
     "metadata": {},
     "output_type": "execute_result"
    }
   ],
   "source": [
    "jbody_dedup_df.head(2)"
   ]
  },
  {
   "cell_type": "code",
   "execution_count": 24,
   "metadata": {
    "collapsed": true
   },
   "outputs": [],
   "source": [
    "master_df = jbody_dedup_df[jbody_dedup_df.jobkey!=np.inf].merge(jHead[jHead.jobkey!='inf'], on='jobkey', how='left')"
   ]
  },
  {
   "cell_type": "code",
   "execution_count": 25,
   "metadata": {
    "collapsed": false
   },
   "outputs": [
    {
     "data": {
      "text/plain": [
       "(14669, 18)"
      ]
     },
     "execution_count": 25,
     "metadata": {},
     "output_type": "execute_result"
    }
   ],
   "source": [
    "master_df.shape"
   ]
  },
  {
   "cell_type": "code",
   "execution_count": 53,
   "metadata": {
    "collapsed": false
   },
   "outputs": [
    {
     "data": {
      "text/html": [
       "<div>\n",
       "<table border=\"1\" class=\"dataframe\">\n",
       "  <thead>\n",
       "    <tr style=\"text-align: right;\">\n",
       "      <th></th>\n",
       "      <th>company_x</th>\n",
       "      <th>jobdesc</th>\n",
       "      <th>jobkey</th>\n",
       "      <th>location</th>\n",
       "      <th>snip</th>\n",
       "      <th>title</th>\n",
       "      <th>url</th>\n",
       "      <th>city</th>\n",
       "      <th>company_y</th>\n",
       "      <th>date</th>\n",
       "      <th>filename</th>\n",
       "      <th>formattedLocation</th>\n",
       "      <th>formattedLocationFull</th>\n",
       "      <th>jobtitle</th>\n",
       "      <th>latitude</th>\n",
       "      <th>longitude</th>\n",
       "      <th>source</th>\n",
       "      <th>state</th>\n",
       "    </tr>\n",
       "  </thead>\n",
       "  <tbody>\n",
       "    <tr>\n",
       "      <th>5233</th>\n",
       "      <td>Block and Company, Inc.</td>\n",
       "      <td></td>\n",
       "      <td>6.01217e+33</td>\n",
       "      <td>Wheeling, IL</td>\n",
       "      <td>\\nBlock and Company, Inc. is a leading multich...</td>\n",
       "      <td>Email Marketing Specialist</td>\n",
       "      <td>http://www.indeed.com/viewjob?jk=6012172889705...</td>\n",
       "      <td>NaN</td>\n",
       "      <td>NaN</td>\n",
       "      <td>NaN</td>\n",
       "      <td>NaN</td>\n",
       "      <td>NaN</td>\n",
       "      <td>NaN</td>\n",
       "      <td>NaN</td>\n",
       "      <td>NaN</td>\n",
       "      <td>NaN</td>\n",
       "      <td>NaN</td>\n",
       "      <td>NaN</td>\n",
       "    </tr>\n",
       "    <tr>\n",
       "      <th>6626</th>\n",
       "      <td>Trianz</td>\n",
       "      <td>-\\n5-7 years of consulting or similar experien...</td>\n",
       "      <td>5884272998038088</td>\n",
       "      <td>Boston, MA</td>\n",
       "      <td>\\nRequired experience: -\\n\\n5-7 years of consu...</td>\n",
       "      <td>Business Analyst</td>\n",
       "      <td>http://www.indeed.com/viewjob?jk=5884272998038...</td>\n",
       "      <td>NaN</td>\n",
       "      <td>NaN</td>\n",
       "      <td>NaN</td>\n",
       "      <td>NaN</td>\n",
       "      <td>NaN</td>\n",
       "      <td>NaN</td>\n",
       "      <td>NaN</td>\n",
       "      <td>NaN</td>\n",
       "      <td>NaN</td>\n",
       "      <td>NaN</td>\n",
       "      <td>NaN</td>\n",
       "    </tr>\n",
       "    <tr>\n",
       "      <th>7896</th>\n",
       "      <td>conspicuous</td>\n",
       "      <td></td>\n",
       "      <td>5084101572183415</td>\n",
       "      <td>Toronto, ON</td>\n",
       "      <td>\\nThe Role: A leading Microsoft Dynamics Gold ...</td>\n",
       "      <td>Junior ERP Business Analyst – Toronto, ON</td>\n",
       "      <td>http://ca.indeed.com/viewjob?jk=50841015721834...</td>\n",
       "      <td>NaN</td>\n",
       "      <td>NaN</td>\n",
       "      <td>NaN</td>\n",
       "      <td>NaN</td>\n",
       "      <td>NaN</td>\n",
       "      <td>NaN</td>\n",
       "      <td>NaN</td>\n",
       "      <td>NaN</td>\n",
       "      <td>NaN</td>\n",
       "      <td>NaN</td>\n",
       "      <td>NaN</td>\n",
       "    </tr>\n",
       "    <tr>\n",
       "      <th>9089</th>\n",
       "      <td>Pan Asia</td>\n",
       "      <td></td>\n",
       "      <td>2481987493495257</td>\n",
       "      <td>Allendale, NJ</td>\n",
       "      <td>\\nJob Description:  New MiddleWare Business An...</td>\n",
       "      <td>New MiddleWare Business Analyst</td>\n",
       "      <td>http://www.indeed.com/viewjob?jk=2481987493495...</td>\n",
       "      <td>NaN</td>\n",
       "      <td>NaN</td>\n",
       "      <td>NaN</td>\n",
       "      <td>NaN</td>\n",
       "      <td>NaN</td>\n",
       "      <td>NaN</td>\n",
       "      <td>NaN</td>\n",
       "      <td>NaN</td>\n",
       "      <td>NaN</td>\n",
       "      <td>NaN</td>\n",
       "      <td>NaN</td>\n",
       "    </tr>\n",
       "    <tr>\n",
       "      <th>10784</th>\n",
       "      <td>Data Works</td>\n",
       "      <td>Data Works is looking for senior Big Data Engi...</td>\n",
       "      <td>8993979568315966</td>\n",
       "      <td>Reston, VA</td>\n",
       "      <td>\\nData Works is looking for senior Big Data En...</td>\n",
       "      <td>Big Data Engineer</td>\n",
       "      <td>http://www.indeed.com/viewjob?jk=8993979568315...</td>\n",
       "      <td>NaN</td>\n",
       "      <td>NaN</td>\n",
       "      <td>NaN</td>\n",
       "      <td>NaN</td>\n",
       "      <td>NaN</td>\n",
       "      <td>NaN</td>\n",
       "      <td>NaN</td>\n",
       "      <td>NaN</td>\n",
       "      <td>NaN</td>\n",
       "      <td>NaN</td>\n",
       "      <td>NaN</td>\n",
       "    </tr>\n",
       "    <tr>\n",
       "      <th>11767</th>\n",
       "      <td>WORLDPAC</td>\n",
       "      <td></td>\n",
       "      <td>3195000121550682</td>\n",
       "      <td>Newark, CA</td>\n",
       "      <td>\\nThe UC Engineer is responsible for the opera...</td>\n",
       "      <td>Unified Communications Engineer</td>\n",
       "      <td>http://www.indeed.com/viewjob?jk=3195000121550...</td>\n",
       "      <td>NaN</td>\n",
       "      <td>NaN</td>\n",
       "      <td>NaN</td>\n",
       "      <td>NaN</td>\n",
       "      <td>NaN</td>\n",
       "      <td>NaN</td>\n",
       "      <td>NaN</td>\n",
       "      <td>NaN</td>\n",
       "      <td>NaN</td>\n",
       "      <td>NaN</td>\n",
       "      <td>NaN</td>\n",
       "    </tr>\n",
       "    <tr>\n",
       "      <th>12513</th>\n",
       "      <td>Guy Carpenter</td>\n",
       "      <td>Contract Associate\\n-\\nEDI0005R\\nDescription\\n...</td>\n",
       "      <td>5948848907546052</td>\n",
       "      <td>Edina, MN</td>\n",
       "      <td>\\nContract Associate\\n-\\nEDI0005R\\n\\nDescripti...</td>\n",
       "      <td>Contract Associate</td>\n",
       "      <td>http://www.indeed.com/viewjob?jk=5948848907546...</td>\n",
       "      <td>NaN</td>\n",
       "      <td>NaN</td>\n",
       "      <td>NaN</td>\n",
       "      <td>NaN</td>\n",
       "      <td>NaN</td>\n",
       "      <td>NaN</td>\n",
       "      <td>NaN</td>\n",
       "      <td>NaN</td>\n",
       "      <td>NaN</td>\n",
       "      <td>NaN</td>\n",
       "      <td>NaN</td>\n",
       "    </tr>\n",
       "    <tr>\n",
       "      <th>12753</th>\n",
       "      <td>Astral Health &amp; Beauty</td>\n",
       "      <td></td>\n",
       "      <td>17281630960878</td>\n",
       "      <td>Atlanta, GA</td>\n",
       "      <td>\\nAstral Health &amp; Beauty is an innovator in th...</td>\n",
       "      <td>Ecommerce Digital &amp; Marketing Specialist</td>\n",
       "      <td>http://www.indeed.com/viewjob?jk=0017281630960...</td>\n",
       "      <td>NaN</td>\n",
       "      <td>NaN</td>\n",
       "      <td>NaN</td>\n",
       "      <td>NaN</td>\n",
       "      <td>NaN</td>\n",
       "      <td>NaN</td>\n",
       "      <td>NaN</td>\n",
       "      <td>NaN</td>\n",
       "      <td>NaN</td>\n",
       "      <td>NaN</td>\n",
       "      <td>NaN</td>\n",
       "    </tr>\n",
       "    <tr>\n",
       "      <th>13125</th>\n",
       "      <td>State Street</td>\n",
       "      <td>About State Street\\nAcross the globe, institut...</td>\n",
       "      <td>2742582900323084</td>\n",
       "      <td>Boston, MA</td>\n",
       "      <td>\\nAbout State Street\\n\\nAcross the globe, inst...</td>\n",
       "      <td>Portfolio Specialist -Equities</td>\n",
       "      <td>http://www.indeed.com/viewjob?jk=2742582900323...</td>\n",
       "      <td>NaN</td>\n",
       "      <td>NaN</td>\n",
       "      <td>NaN</td>\n",
       "      <td>NaN</td>\n",
       "      <td>NaN</td>\n",
       "      <td>NaN</td>\n",
       "      <td>NaN</td>\n",
       "      <td>NaN</td>\n",
       "      <td>NaN</td>\n",
       "      <td>NaN</td>\n",
       "      <td>NaN</td>\n",
       "    </tr>\n",
       "    <tr>\n",
       "      <th>13270</th>\n",
       "      <td>Deloitte</td>\n",
       "      <td>At Deloitte Consulting LLP, helping our client...</td>\n",
       "      <td>6991681484190770</td>\n",
       "      <td>Minneapolis, MN</td>\n",
       "      <td>\\nAt Deloitte Consulting LLP, helping our clie...</td>\n",
       "      <td>HR Transformation Employee Referral Campaign F...</td>\n",
       "      <td>http://www.indeed.com/viewjob?jk=6991681484190...</td>\n",
       "      <td>NaN</td>\n",
       "      <td>NaN</td>\n",
       "      <td>NaN</td>\n",
       "      <td>NaN</td>\n",
       "      <td>NaN</td>\n",
       "      <td>NaN</td>\n",
       "      <td>NaN</td>\n",
       "      <td>NaN</td>\n",
       "      <td>NaN</td>\n",
       "      <td>NaN</td>\n",
       "      <td>NaN</td>\n",
       "    </tr>\n",
       "  </tbody>\n",
       "</table>\n",
       "</div>"
      ],
      "text/plain": [
       "                     company_x  \\\n",
       "5233   Block and Company, Inc.   \n",
       "6626                    Trianz   \n",
       "7896               conspicuous   \n",
       "9089                  Pan Asia   \n",
       "10784               Data Works   \n",
       "11767                 WORLDPAC   \n",
       "12513            Guy Carpenter   \n",
       "12753   Astral Health & Beauty   \n",
       "13125             State Street   \n",
       "13270                 Deloitte   \n",
       "\n",
       "                                                 jobdesc            jobkey  \\\n",
       "5233                                                           6.01217e+33   \n",
       "6626   -\\n5-7 years of consulting or similar experien...  5884272998038088   \n",
       "7896                                                      5084101572183415   \n",
       "9089                                                      2481987493495257   \n",
       "10784  Data Works is looking for senior Big Data Engi...  8993979568315966   \n",
       "11767                                                     3195000121550682   \n",
       "12513  Contract Associate\\n-\\nEDI0005R\\nDescription\\n...  5948848907546052   \n",
       "12753                                                       17281630960878   \n",
       "13125  About State Street\\nAcross the globe, institut...  2742582900323084   \n",
       "13270  At Deloitte Consulting LLP, helping our client...  6991681484190770   \n",
       "\n",
       "              location                                               snip  \\\n",
       "5233      Wheeling, IL  \\nBlock and Company, Inc. is a leading multich...   \n",
       "6626        Boston, MA  \\nRequired experience: -\\n\\n5-7 years of consu...   \n",
       "7896       Toronto, ON  \\nThe Role: A leading Microsoft Dynamics Gold ...   \n",
       "9089     Allendale, NJ  \\nJob Description:  New MiddleWare Business An...   \n",
       "10784       Reston, VA  \\nData Works is looking for senior Big Data En...   \n",
       "11767       Newark, CA  \\nThe UC Engineer is responsible for the opera...   \n",
       "12513        Edina, MN  \\nContract Associate\\n-\\nEDI0005R\\n\\nDescripti...   \n",
       "12753      Atlanta, GA  \\nAstral Health & Beauty is an innovator in th...   \n",
       "13125       Boston, MA  \\nAbout State Street\\n\\nAcross the globe, inst...   \n",
       "13270  Minneapolis, MN  \\nAt Deloitte Consulting LLP, helping our clie...   \n",
       "\n",
       "                                                   title  \\\n",
       "5233                          Email Marketing Specialist   \n",
       "6626                                    Business Analyst   \n",
       "7896           Junior ERP Business Analyst – Toronto, ON   \n",
       "9089                     New MiddleWare Business Analyst   \n",
       "10784                                  Big Data Engineer   \n",
       "11767                    Unified Communications Engineer   \n",
       "12513                                 Contract Associate   \n",
       "12753           Ecommerce Digital & Marketing Specialist   \n",
       "13125                     Portfolio Specialist -Equities   \n",
       "13270  HR Transformation Employee Referral Campaign F...   \n",
       "\n",
       "                                                     url city company_y date  \\\n",
       "5233   http://www.indeed.com/viewjob?jk=6012172889705...  NaN       NaN  NaN   \n",
       "6626   http://www.indeed.com/viewjob?jk=5884272998038...  NaN       NaN  NaN   \n",
       "7896   http://ca.indeed.com/viewjob?jk=50841015721834...  NaN       NaN  NaN   \n",
       "9089   http://www.indeed.com/viewjob?jk=2481987493495...  NaN       NaN  NaN   \n",
       "10784  http://www.indeed.com/viewjob?jk=8993979568315...  NaN       NaN  NaN   \n",
       "11767  http://www.indeed.com/viewjob?jk=3195000121550...  NaN       NaN  NaN   \n",
       "12513  http://www.indeed.com/viewjob?jk=5948848907546...  NaN       NaN  NaN   \n",
       "12753  http://www.indeed.com/viewjob?jk=0017281630960...  NaN       NaN  NaN   \n",
       "13125  http://www.indeed.com/viewjob?jk=2742582900323...  NaN       NaN  NaN   \n",
       "13270  http://www.indeed.com/viewjob?jk=6991681484190...  NaN       NaN  NaN   \n",
       "\n",
       "      filename formattedLocation formattedLocationFull jobtitle  latitude  \\\n",
       "5233       NaN               NaN                   NaN      NaN       NaN   \n",
       "6626       NaN               NaN                   NaN      NaN       NaN   \n",
       "7896       NaN               NaN                   NaN      NaN       NaN   \n",
       "9089       NaN               NaN                   NaN      NaN       NaN   \n",
       "10784      NaN               NaN                   NaN      NaN       NaN   \n",
       "11767      NaN               NaN                   NaN      NaN       NaN   \n",
       "12513      NaN               NaN                   NaN      NaN       NaN   \n",
       "12753      NaN               NaN                   NaN      NaN       NaN   \n",
       "13125      NaN               NaN                   NaN      NaN       NaN   \n",
       "13270      NaN               NaN                   NaN      NaN       NaN   \n",
       "\n",
       "       longitude source state  \n",
       "5233         NaN    NaN   NaN  \n",
       "6626         NaN    NaN   NaN  \n",
       "7896         NaN    NaN   NaN  \n",
       "9089         NaN    NaN   NaN  \n",
       "10784        NaN    NaN   NaN  \n",
       "11767        NaN    NaN   NaN  \n",
       "12513        NaN    NaN   NaN  \n",
       "12753        NaN    NaN   NaN  \n",
       "13125        NaN    NaN   NaN  \n",
       "13270        NaN    NaN   NaN  "
      ]
     },
     "execution_count": 53,
     "metadata": {},
     "output_type": "execute_result"
    }
   ],
   "source": [
    "master_df[master_df['company_y'].isnull()]"
   ]
  },
  {
   "cell_type": "code",
   "execution_count": 20,
   "metadata": {
    "collapsed": false
   },
   "outputs": [
    {
     "data": {
      "text/html": [
       "<div>\n",
       "<table border=\"1\" class=\"dataframe\">\n",
       "  <thead>\n",
       "    <tr style=\"text-align: right;\">\n",
       "      <th></th>\n",
       "      <th>city</th>\n",
       "      <th>company</th>\n",
       "      <th>date</th>\n",
       "      <th>filename</th>\n",
       "      <th>formattedLocation</th>\n",
       "      <th>formattedLocationFull</th>\n",
       "      <th>jobkey</th>\n",
       "      <th>jobtitle</th>\n",
       "      <th>latitude</th>\n",
       "      <th>longitude</th>\n",
       "      <th>source</th>\n",
       "      <th>state</th>\n",
       "    </tr>\n",
       "  </thead>\n",
       "  <tbody>\n",
       "  </tbody>\n",
       "</table>\n",
       "</div>"
      ],
      "text/plain": [
       "Empty DataFrame\n",
       "Columns: [city, company, date, filename, formattedLocation, formattedLocationFull, jobkey, jobtitle, latitude, longitude, source, state]\n",
       "Index: []"
      ]
     },
     "execution_count": 20,
     "metadata": {},
     "output_type": "execute_result"
    }
   ],
   "source": [
    "jHead[jHead['jobkey']=='03ab8fd730c2e0a5']"
   ]
  },
  {
   "cell_type": "code",
   "execution_count": null,
   "metadata": {
    "collapsed": true
   },
   "outputs": [],
   "source": []
  },
  {
   "cell_type": "code",
   "execution_count": 27,
   "metadata": {
    "collapsed": false
   },
   "outputs": [],
   "source": [
    "with open('indeed_job_detail_master_16k_df.p','wb') as f:\n",
    "    pickle.dump(master_df,f)\n"
   ]
  },
  {
   "cell_type": "code",
   "execution_count": 58,
   "metadata": {
    "collapsed": false
   },
   "outputs": [
    {
     "name": "stdout",
     "output_type": "stream",
     "text": [
      "http://www.indeed.com/viewjob?jk=222233bf7b940b4f&qd=I0TxM_wMPz_iqziD0cGR0PxLjuFXC0PsEfAsModHF2st56MW-C4_aRZZ49ZIFQT7Q6T0dt0aQ-pjLjZ1rU0TrrgvjzJLVDraSv5jRUBSQRE4rzSPTGVAZrn57D8I7-iZPPOnyqkZAWHSsZVuWLMMyPwxeK6fJFjL0le83vQp00HgUvcqLw2Yfkg-C36rBsJOBhY_bP3Ixsr7pMljSGPGRPoAq9aFNY8A_UvSMfgxttJSH3smhTx7_FuMs-pHZOxcH0YQ5J6MSd4u8GRWXP5rf-e2cReDBdvPc-_kkqlFZegmMdnMtBzry4w2tqh-QSH4RKNaJo9szcnRIucfEFGh4yS3QsJXL-tCKe4x9bjt7-Y&indpubnum=2313019136084570&atk=1at2p03a4b9rq8no\n",
      "Senior Application Developer\n",
      "Position Overview\n",
      "Reporting to the Director of Technology, the Senior Application Developer will:\n",
      "\n",
      "DataArts is an equal opportunity employer with a policy of inclusiveness and nondiscrimination, and is committed to providing a workplace that is free of discrimination of all types, and that is free from abusive, offensive or harassing behavior. DataArts also maintains a drug-free workplace. ADA/EOE\n",
      "\n",
      "\n",
      "Please forward cover letter, resume, and online code portfolio to careers@culturaldata.org referencing \"Senior Application Developer.\"\n",
      "\n",
      "Salary: Commensurate with skills and experience, includes generous benefits package\n",
      "Schedule: Monday - Friday\n"
     ]
    }
   ],
   "source": [
    "i = 9\n",
    "test = master_df['snip'][i]\n",
    "print master_df['url'][i]\n",
    "print master_df['title'][i]\n",
    "print master_df['jobdesc'][i]"
   ]
  },
  {
   "cell_type": "code",
   "execution_count": 59,
   "metadata": {
    "collapsed": false
   },
   "outputs": [
    {
     "name": "stdout",
     "output_type": "stream",
     "text": [
      "2452\n",
      "\n",
      "Position Overview\n",
      "Reporting to the Director of Technology, the Senior Application Developer will:\n",
      "\n",
      "Provide technical guidance and training to other application developer(s) and development contractors;\n",
      "Develop, commit, test DataArts web-based application coded in AngularJS, PHP, and MySQL;\n",
      "Adhere to and enforce version control system processes using Github;\n",
      "Manage application deployment strategy in dev, staging, and production using Ansible;\n",
      "Utilize relevant trends and industry best practices in order to reduce maintenance burdens, ensure quality service and product, increase efficiency, and maintain a secure environment;\n",
      "Collaborate with all development team members (Business Analyst, Data Administrator, Graphic Designer, Frontend Developer, etc.) and stakeholders (both internal and external) to understand business requirements and contribute creative ideas and enhancements to the platform;\n",
      "Assist with project plan time estimates and ensure development milestones are met.\n",
      "Qualifications\n",
      "BS/MS in computer science, engineering, or related subject or equivalent work experience;\n",
      "5+ years’ experience and solid expertise in PHP, MySQL, and version control systems (Git);\n",
      "Demonstrable knowledge of frameworks currently in use at the organization (AngularJS, Laravel, Bootstrap), Linux, Apache, CSS, HTML;\n",
      "Experience building and/or working heavily with REST APIs;\n",
      "Passion for best design and coding practices and desire to develop creative, bold ideas;\n",
      "Proven history working on long-term, full SDLC projects, particularly using Agile (SCRUM) methodologies;\n",
      "Enthusiasm in the organization’s mission and for bettering and growing the arts & culture sector in the best way we can as a nonprofit;\n",
      "Ability to produce clear, well-written documents for a range of audiences;\n",
      "Excellent ability to set priorities, manage multiple competing projects on deadline, and organize time.\n",
      "DataArts is an equal opportunity employer with a policy of inclusiveness and nondiscrimination, and is committed to providing a workplace that is free of discrimination of all types, and that is free from abusive, offensive or harassing behavior. DataArts also maintains a drug-free workplace. ADA/EOE\n",
      "\n",
      "\n",
      "To Apply\n",
      "Please forward cover letter, resume, and online code portfolio to careers@culturaldata.org referencing \"Senior Application Developer.\"\n",
      "\n",
      "\n",
      "Salary: Commensurate with skills and experience, includes generous benefits package\n",
      "\n",
      "Schedule: Monday - Friday\n",
      "\n",
      "17 days ago  - save job\n",
      " - \n",
      "                original job\n",
      "\n",
      "\n",
      "\n",
      "\n",
      "\n",
      "\n",
      "\n",
      "\n",
      "\n",
      "» Apply Now\n",
      "Indeed will send your application to careers@culturaldata.org.\n",
      "            Please review all application instructions before applying to Cultural Data Project.\n",
      "\n",
      "\n",
      "\n",
      "\n",
      "\n",
      "\n",
      "Recommended Jobs\n",
      "\n",
      "Front End User Experience Development-Technic...\n",
      "\n",
      "Tata Elxsi limited -\n",
      "\t\t Philadelphia, PA\n",
      "Indeed - \n",
      "\t\t 14 days ago\n",
      "\n",
      " Easily apply\n",
      "Wordpress Developer\n",
      "\n",
      "Workbridge Associates -\n",
      "\t\t Philadelphia, PA\n",
      "20 days ago\n",
      "Web Technologies Faculty, Full-Time\n",
      "\n",
      "Community College of Philadelphia -\n",
      "\t\t Philadelphia, PA\n",
      "18 days ago\n",
      "Web Application Developer\n",
      "\n",
      "Symphony Health Solutions -\n",
      "\t\t Conshohocken, PA\n",
      "Indeed - \n",
      "\t\t 18 days ago\n",
      "\n",
      " Easily apply\n",
      "MARKETING WEB DESIGNER AND DEVELOPER\n",
      "\n",
      "Jewish Federation of Greater Philadelphia -\n",
      "\t\t Philadelphia, PA\n",
      "Krop.com - \n",
      "\t\t 19 days ago\n",
      "\n",
      "\n",
      "\n"
     ]
    }
   ],
   "source": [
    "for x in test.split('\\n'):\n",
    "    if 'save job' in x:\n",
    "        print test.index(x)\n",
    "\n",
    "print '\\n'.join([x for x in test.split('\\n')[0:5143]])"
   ]
  },
  {
   "cell_type": "code",
   "execution_count": 51,
   "metadata": {
    "collapsed": false
   },
   "outputs": [
    {
     "name": "stdout",
     "output_type": "stream",
     "text": [
      "\n",
      "IQlogg, Inc. is an equal opportunity employer for M/F/V/D.The Business Analyst will be responsible for defining, analyzing and data mining the business requirements for the Ancillary team within Network Management. Responsible for various project initiatives that identify trends which impact various business areas within the Ancillary department and external departments in order to bridge the gaps that will contribute to operational efficiency. Upcoming projects can include providing the competitive landscape and other reporting to support our Commercial Insurance Plan and Urgent Care Centers.Responsibilities:Perform assessments and validations of system fee schedules, contracts, and provider setup and/or configuration.Responsible for researching, creating ad-hoc requests and conducts analysis that includes but not limited to claims, financial spend and utilization reports.Research, compile, verify, interpret, analyze and create dashboards; identify trends, and communicate results to Managers, Assistant Directors, and/or Directors.Monitor performance and trends of providers (financial spend, costs, claims) that impact the department, and maintain knowledge of trends that exist in the health care delivery system.Provide analysis of contract proposal; present financial impact of; and communicate any downstream operational impactRecommend changes in methods, procedures and policies to improve quality and consistency. Communicate effectively in written and verbal form. Create effective requirement documents and review them with key stakeholders at multiple levels of the Claims, Network Management, Provider Operations, and/or IT.Effectively manage projects by setting clear project milestones and deliverables; clearly communicating goals, objectives and responsibilities. Lead and/or participate in meetings to gather and specify departmental requirements for such projects.Develop applications and reports using Microsoft Access, Microsoft Excel, and pertinent databases.Qualifications: Minimum Qualifications:Demonstrated analytic work experience including: charting, data mining, managing projects and identifying trendsIntermediate knowledge of Microsoft Excel creating formulas (VLOOKUP, SUMIF, SUMPRODUCT, etc…), pivot tables and macrosStrong analytical skillsDemonstrated excellent problem solving and critical thinking skillsHigh School Diploma/ GEDJob Type: Full-time\n",
      "\n",
      "25 days ago  - save job\n",
      "\n",
      "\n",
      "\n",
      "\n",
      "\n",
      "\n",
      "\n",
      "\n",
      "\n",
      "» Apply Now\n",
      "\n",
      "            Please review all application instructions before applying to IQlogg, Inc.\n",
      "\n",
      "\n",
      "\n",
      "\n",
      "\n",
      "\n"
     ]
    }
   ],
   "source": [
    "print test"
   ]
  },
  {
   "cell_type": "code",
   "execution_count": null,
   "metadata": {
    "collapsed": true
   },
   "outputs": [],
   "source": []
  }
 ],
 "metadata": {
  "anaconda-cloud": {},
  "kernelspec": {
   "display_name": "Python [Root]",
   "language": "python",
   "name": "Python [Root]"
  },
  "language_info": {
   "codemirror_mode": {
    "name": "ipython",
    "version": 2
   },
   "file_extension": ".py",
   "mimetype": "text/x-python",
   "name": "python",
   "nbconvert_exporter": "python",
   "pygments_lexer": "ipython2",
   "version": "2.7.12"
  }
 },
 "nbformat": 4,
 "nbformat_minor": 1
}
