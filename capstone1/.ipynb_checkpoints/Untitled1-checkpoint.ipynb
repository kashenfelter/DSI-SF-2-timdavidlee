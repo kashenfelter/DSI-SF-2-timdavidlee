{
 "cells": [
  {
   "cell_type": "code",
   "execution_count": null,
   "metadata": {
    "collapsed": true
   },
   "outputs": [],
   "source": [
    "path = \"https://careers-uber.icims.com/jobs/24996/job?iis=job-V002A-eng&iisn=Indeed&rx_campaign=indeed126&rx_group=101590&rx_job=24996&rx_source=Indeed&rx_medium=cpc&iisc=ppc&mobile=false&width=1092&height=500&bga=true&needsRedirect=false&jan1offset=-480&jun1offset=-420\"\n"
   ]
  }
 ],
 "metadata": {
  "kernelspec": {
   "display_name": "Python [dsi]",
   "language": "python",
   "name": "Python [dsi]"
  },
  "language_info": {
   "codemirror_mode": {
    "name": "ipython",
    "version": 2
   },
   "file_extension": ".py",
   "mimetype": "text/x-python",
   "name": "python",
   "nbconvert_exporter": "python",
   "pygments_lexer": "ipython2",
   "version": "2.7.12"
  }
 },
 "nbformat": 4,
 "nbformat_minor": 1
}
