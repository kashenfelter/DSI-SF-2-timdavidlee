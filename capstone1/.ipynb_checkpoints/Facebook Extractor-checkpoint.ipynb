{
 "cells": [
  {
   "cell_type": "code",
   "execution_count": 2,
   "metadata": {
    "collapsed": false,
    "scrolled": true
   },
   "outputs": [],
   "source": [
    "import scrapy\n",
    "import pandas as pd\n",
    "import numpy as np\n",
    "import time\n",
    "import requests\n",
    "import pandas\n",
    "from scrapy.selector import Selector\n",
    "from scrapy.http import HtmlResponse\n",
    "\n",
    "webpath = \"https://www.facebook.com/careers/search/?q=&location=menlo-park\"\n",
    "response = requests.get(webpath)\n",
    "HTML = response.text \n",
    "\n",
    "titles = Selector(text=HTML).xpath(\"//div[@class='_3k6i']/div/div/div/a/text()\").extract()\n",
    "links =  Selector(text=HTML).xpath(\"//div[@class='_3k6i']/div/div/div/a/@href\").extract()\n",
    "# no next links --- all on one page\n",
    "base_domain = \"https://www.facebook.com\"\n",
    "\n",
    "master_title = []\n",
    "master_link = []\n",
    "master_location = []\n",
    "master_desc = []\n",
    "master_resp = []\n",
    "master_req = []\n"
   ]
  },
  {
   "cell_type": "code",
   "execution_count": 4,
   "metadata": {
    "collapsed": false
   },
   "outputs": [
    {
     "name": "stdout",
     "output_type": "stream",
     "text": [
      "https://www.facebook.com/careers/jobs/a0I1200000JhRmOEAV/?location=menlo-park\n",
      "============================================================\n",
      "[u'Artist']\n",
      "[u'(Menlo Park, CA)']\n",
      "[u' Facebook was built to help people connect and share, and over the last decade our tools have played a critical part in changing how people around the world communicate with one another. With over a billion people using the service and more than fifty offices around the globe, a career at Facebook offers countless ways to make an impact in a fast growing organization. ', u'Cultural Moments is a new team formed to ship best-in-class creative within the Facebook app to celebrate the moments that matter to our community and our brand. We are a multi-disciplinary group of designers, illustrators, researchers, and content strategists who partner closely with engineering, product, and marketing to deliver on our charter. Our work sits at the intersection of brand and product and our audience includes the 1.65 billion people around the world who use Facebook every month.']\n",
      "[u'Executing on paper-cut art for the Cultural Moments product', u'Work in a highly collaborative, fast-paced environment with a small team including art directors and illustrators to fully realize final artwork', u'Produce strong conceptual pieces of art that are engaging, unique, and reflect a cohesive brand aesthetic', u'Generate ideas, inspire your teammates, give and receive feedback, and critique respectful', u'Able to meet multiple deadlines, prioritize work, and keep projects moving forward']\n",
      "[u'Experience in fine arts, with demonstrated passion for the art of paper-cutting', u'Top notch portfolio that exhibits depth, breadth, and strong conceptual ability', u'Openness to adapt to varying styles, with a flexible and iterative approach to making', u'4+ years of experience with art-based projects and processes', u'Experience in art curation and/or art production', u'Clear understanding of construction in paper and high level of craftsmanship', u'Experience with visual storytelling including editorial illustration', u'Exceptionally organized with a high attention to detail', u'Demonstrated ability to effectively collaborate with other creatives', u'High degree of self motivation and discipline', u'Strive for quality, consistently demonstrating a clean, sophisticated and contextually thoughtful aesthetic']\n",
      "https://www.facebook.com/careers/jobs/a0I1200000JIajcEAD/?location=menlo-park\n",
      "============================================================\n",
      "[u'Copywriter']\n",
      "[u'(Menlo Park, CA)']\n",
      "[u' Facebook was built to help people connect and share, and over the last decade our tools have played a critical part in changing how people around the world communicate with one another. With over a billion people using the service and more than fifty offices around the globe, a career at Facebook offers countless ways to make an impact in a fast growing organization. ', u'We\\xe2\\x80\\x99re building something special here. \\n', u'\\n', u'\\nFacebook is in the process of building an internal creative team to help build and develop the Facebook brand. We\\xe2\\x80\\x99re looking for a copywriter to work with us as we evolve our brand voice and our on-going communications strategies. \\n', u'\\n', u'\\nSpecifically, we\\xe2\\x80\\x99re looking for a great writer who has experience working in digital and film communications. We\\xe2\\x80\\x99re looking for a creative problem solver who is passionate about making the technical feel human and authentic.']\n",
      "[u'Write for film, mobile, web and more', u'Work collaboratively within a cross-functional team environment', u'Communicate complicated technology topics in clear, concise ways to a non-technical audience.']\n",
      "[u'A doer at heart, but excels at motivating and leading people too', u'At least 4+ years of agency/in-house experience leading copy for global brands', u'Portfolio of original and breakthrough work, along with proven experience writing in the technology category and ability to make sophisticated technology accessible and understandable to a wide audience', u'A strong conceptual foundation', u'Proven teamwork skills, flexibility and a healthy disrespect for the impossible', u'Highly organized and able to balance multiple projects at the same time', u'A strong interest in Facebook and its products', u'Self-driven, fearless interest and curiosity in gadgets, new tech, and inventions.']\n",
      "https://www.facebook.com/careers/jobs/a0I1200000JIR0iEAH/?location=menlo-park\n",
      "============================================================\n",
      "[u'Copywriter']\n",
      "[u'(Menlo Park, CA)']\n",
      "[u' Facebook was built to help people connect and share, and over the last decade our tools have played a critical part in changing how people around the world communicate with one another. With over a billion people using the service and more than fifty offices around the globe, a career at Facebook offers countless ways to make an impact in a fast growing organization. ', u'We\\xe2\\x80\\x99re building something special here. \\n', u'\\n', u'\\nFacebook is in the process of building an internal creative team to help build and develop the Facebook brand. We\\xe2\\x80\\x99re looking for a copywriter to work with us as we evolve our brand voice and our on-going communications strategies. \\n', u'\\n', u'\\nSpecifically, we\\xe2\\x80\\x99re looking for a great writer who has experience working in digital and film communications. We\\xe2\\x80\\x99re looking for a creative problem solver who is passionate about making the technical feel human and authentic.']\n",
      "[u'Write for film, mobile, web and more', u'Work collaboratively within a cross-functional team environment', u'Communicate complicated technology topics in clear, concise ways to a non-technical audience.']\n",
      "[u'A doer at heart, but excels at motivating and leading people too', u'At least 4+ years of agency/in-house experience leading copy for global brands', u'Portfolio of original and breakthrough work, along with proven experience writing in the technology category and ability to make sophisticated technology accessible and understandable to a wide audience', u'A strong conceptual foundation', u'Proven teamwork skills, flexibility and a healthy disrespect for the impossible', u'Highly organized and able to balance multiple projects at the same time', u'A strong interest in Facebook and its products', u'Self-driven, fearless interest and curiosity in gadgets, new tech, and inventions.']\n",
      "https://www.facebook.com/careers/jobs/a0I1200000JZLdnEAH/?location=menlo-park\n",
      "============================================================\n",
      "[u'Copywriter']\n",
      "[u'(Menlo Park, CA)']\n",
      "[u' Facebook was built to help people connect and share, and over the last decade our tools have played a critical part in changing how people around the world communicate with one another. With over a billion people using the service and more than fifty offices around the globe, a career at Facebook offers countless ways to make an impact in a fast growing organization. ', u'We\\xe2\\x80\\x99re building something special here. \\n', u'\\n', u'\\nFacebook is in the process of building an internal creative team to help build and develop the Facebook brand. We\\xe2\\x80\\x99re looking for a copywriter to work with us as we evolve our brand voice and our on-going communications strategies. \\n', u'\\n', u'\\nSpecifically, we\\xe2\\x80\\x99re looking for a great writer who has experience working in digital and film communications. We\\xe2\\x80\\x99re looking for a creative problem solver who is passionate about making the technical feel human and authentic.']\n",
      "[u'Write for film, mobile, web and more', u'Work collaboratively within a cross-functional team environment', u'Communicate complicated technology topics in clear, concise ways to a non-technical audience.']\n",
      "[u'A doer at heart, but excels at motivating and leading people too', u'At least 4+ years of agency/in-house experience leading copy for global brands', u'Portfolio of original and breakthrough work, along with proven experience writing in the technology category', u'A strong conceptual foundation', u'Proven teamwork skills, flexibility and a healthy disrespect for the impossible', u'Highly organized and able to balance multiple projects at the same time', u'A strong interest in Facebook and its products', u'Self-driven, fearless interest and curiosity in gadgets, new tech, and inventions.']\n",
      "https://www.facebook.com/careers/jobs/a0I1200000JhTNsEAN/?location=menlo-park\n",
      "============================================================\n",
      "[u'R4R Sourcer']\n",
      "[u'(Menlo Park, CA)']\n",
      "[u' Facebook was built to help people connect and share, and over the last decade our tools have played a critical part in changing how people around the world communicate with one another. With over a billion people using the service and more than fifty offices around the globe, a career at Facebook offers countless ways to make an impact in a fast growing organization. ', u'Recruiting is a core strategic driver of Facebook\\xe2\\x80\\x99s success. We have a world-class team working together to help drive our ambitions and scale to the next level. In this effort, we are looking for a Sourcer to join our team based in Menlo Park, CA. This full time position reports directly into the R4R Recruiting Manager and will be responsible for sourcing Recruiters and Sourcers for our US teams focused on Tech Recruiting.']\n",
      "[u'Work closely with Recruiters and hiring managers to deeply understand technical requirements of the role, the function and how it fits into the organization', u'Team with Coordinators and Recruiters to manage an efficient model of operation', u'Strategize different ways to build talent pipelines and execute on tactical research, referral generation, events and sourcing campaigns', u'Find, engage and activate passive candidates through the use of Boolean, LinkedIn and alternative search techniques', u'Screen resumes and interview candidates to match experience to openings', u'Recommend and drive improvements that impact local pipeline areas']\n",
      "[u'4+ years sourcing experience with an in-house recruiting team', u'Good eye for talent with ability to quickly screen resumes to identify to opportunities', u'Excellent research/sourcing skills with ability to dive deep into searches for hard-to-fill requisitions', u'Sound candidate engagement approach with ability to activate passive candidates', u'Sharp interview skills with ability to screen for both technical and cultural qualities', u'Solid tech and industry knowledge with ability to understand relevant tech skills, target companies, conferences, open source communities', u'Strong interpersonal skills with ability to communicate well with multiple pipelines.']\n"
     ]
    }
   ],
   "source": [
    "\n",
    "for y in links:\n",
    "    suburl = base_domain+y\n",
    "    print suburl\n",
    "    response = requests.get(suburl)\n",
    "    subHTML = response.text \n",
    "    #print subHTML\n",
    "    title = Selector(text=subHTML).xpath(\"//div[@class='_4ycv']/h2/text()\").extract()\n",
    "    location = Selector(text=subHTML).xpath(\"//div[@class='_1n-- _4ycx']/text()\").extract()\n",
    "    desc = Selector(text=subHTML).xpath(\"//div[@class='_1n--']/text()\").extract()\n",
    "    resp = Selector(text=subHTML).xpath(\"//div[@class='_wrz'][1]/div/ul/li/div/text()\").extract()\n",
    "    req = Selector(text=subHTML).xpath(\"//div[@class='_wrz'][2]/div/ul/li/div/text()\").extract()\n",
    "    print '='*60\n",
    "#     print title\n",
    "#     print location\n",
    "#     print desc\n",
    "#     print resp\n",
    "#     print req\n",
    "    master_title.append(title)\n",
    "    master_link.append(y)\n",
    "    master_location.append(location)\n",
    "    master_desc.append(desc)\n",
    "    master_resp.append(resp)\n",
    "    master_req.append(req)\n",
    "    \n",
    "df = pd.DataFrame({'title':master_title\n",
    "                  ,'link':master_link\n",
    "                  ,'location': master_location\n",
    "                  , 'desc': master_desc\n",
    "                  , 'resp': master_resp\n",
    "                  , 'req' : master_req})\n",
    "df.to_json('fb_output.json')\n",
    "\n"
   ]
  },
  {
   "cell_type": "code",
   "execution_count": null,
   "metadata": {
    "collapsed": true
   },
   "outputs": [],
   "source": []
  }
 ],
 "metadata": {
  "kernelspec": {
   "display_name": "Python [dsi]",
   "language": "python",
   "name": "Python [dsi]"
  },
  "language_info": {
   "codemirror_mode": {
    "name": "ipython",
    "version": 2
   },
   "file_extension": ".py",
   "mimetype": "text/x-python",
   "name": "python",
   "nbconvert_exporter": "python",
   "pygments_lexer": "ipython2",
   "version": "2.7.12"
  }
 },
 "nbformat": 4,
 "nbformat_minor": 1
}
