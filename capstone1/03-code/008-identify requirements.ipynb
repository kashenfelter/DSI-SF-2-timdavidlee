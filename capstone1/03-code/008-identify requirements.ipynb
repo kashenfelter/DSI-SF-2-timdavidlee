{
 "cells": [
  {
   "cell_type": "markdown",
   "metadata": {},
   "source": [
    "# Import Libraries"
   ]
  },
  {
   "cell_type": "code",
   "execution_count": 2,
   "metadata": {
    "collapsed": false
   },
   "outputs": [
    {
     "name": "stdout",
     "output_type": "stream",
     "text": [
      "(22707, 16)\n"
     ]
    }
   ],
   "source": [
    "import pandas as pd\n",
    "import numpy as np\n",
    "import cPickle as pickle\n",
    "import unidecode\n",
    "\n",
    "with open('master_total_df.p','rb') as f:\n",
    "    master_total_df = pickle.load(f)\n",
    "    \n",
    "print master_total_df.shape"
   ]
  },
  {
   "cell_type": "code",
   "execution_count": 3,
   "metadata": {
    "collapsed": false
   },
   "outputs": [
    {
     "data": {
      "text/html": [
       "<div>\n",
       "<table border=\"1\" class=\"dataframe\">\n",
       "  <thead>\n",
       "    <tr style=\"text-align: right;\">\n",
       "      <th></th>\n",
       "      <th>index</th>\n",
       "      <th>company</th>\n",
       "      <th>jobdesc</th>\n",
       "      <th>city</th>\n",
       "      <th>state</th>\n",
       "      <th>title</th>\n",
       "      <th>sourcesite</th>\n",
       "      <th>views</th>\n",
       "      <th>days_posted</th>\n",
       "      <th>post_start_date</th>\n",
       "      <th>link</th>\n",
       "      <th>base_title</th>\n",
       "      <th>parsed_title</th>\n",
       "      <th>parsed_title_i</th>\n",
       "      <th>expanded_title</th>\n",
       "      <th>prefix_title</th>\n",
       "    </tr>\n",
       "  </thead>\n",
       "  <tbody>\n",
       "    <tr>\n",
       "      <th>0</th>\n",
       "      <td>0</td>\n",
       "      <td>Advocate Health Care</td>\n",
       "      <td>\\nAs part of Advocate Health Care, Advocate Ch...</td>\n",
       "      <td>Oak Lawn</td>\n",
       "      <td>IL</td>\n",
       "      <td>Clinical Practice Specialist - 4 Hope</td>\n",
       "      <td>ind</td>\n",
       "      <td>0</td>\n",
       "      <td>NaN</td>\n",
       "      <td>NaN</td>\n",
       "      <td>http://www.indeed.com/viewjob?jk=6244f7f3a4861...</td>\n",
       "      <td>specialist</td>\n",
       "      <td>[clinical, practice, specialist, , , 4, hope]</td>\n",
       "      <td>[2]</td>\n",
       "      <td>practice specialist</td>\n",
       "      <td>practice</td>\n",
       "    </tr>\n",
       "    <tr>\n",
       "      <th>1</th>\n",
       "      <td>1</td>\n",
       "      <td>University of Washington Medical Center</td>\n",
       "      <td>\\nThe University of Washington (UW) is proud t...</td>\n",
       "      <td>Seattle</td>\n",
       "      <td>WA</td>\n",
       "      <td>WEB DEVELOPER</td>\n",
       "      <td>ind</td>\n",
       "      <td>0</td>\n",
       "      <td>NaN</td>\n",
       "      <td>NaN</td>\n",
       "      <td>http://www.indeed.com/viewjob?jk=3d6a9f18f5301...</td>\n",
       "      <td>developer</td>\n",
       "      <td>[web, developer]</td>\n",
       "      <td>[1]</td>\n",
       "      <td>web developer</td>\n",
       "      <td>web</td>\n",
       "    </tr>\n",
       "    <tr>\n",
       "      <th>2</th>\n",
       "      <td>2</td>\n",
       "      <td>Macy's</td>\n",
       "      <td>\\nJob Overview:\\n\\n\\nThe Analyst, Marketing An...</td>\n",
       "      <td>New York</td>\n",
       "      <td>NY</td>\n",
       "      <td>Analyst, Marketing Analytics</td>\n",
       "      <td>ind</td>\n",
       "      <td>0</td>\n",
       "      <td>NaN</td>\n",
       "      <td>NaN</td>\n",
       "      <td>http://www.indeed.com/viewjob?jk=d94a7d13dfbb0...</td>\n",
       "      <td>analyst</td>\n",
       "      <td>[analyst, , marketing, analytics]</td>\n",
       "      <td>[0]</td>\n",
       "      <td>analyst</td>\n",
       "      <td>analyst</td>\n",
       "    </tr>\n",
       "  </tbody>\n",
       "</table>\n",
       "</div>"
      ],
      "text/plain": [
       "   index                                  company  \\\n",
       "0      0                     Advocate Health Care   \n",
       "1      1  University of Washington Medical Center   \n",
       "2      2                                   Macy's   \n",
       "\n",
       "                                             jobdesc      city state  \\\n",
       "0  \\nAs part of Advocate Health Care, Advocate Ch...  Oak Lawn    IL   \n",
       "1  \\nThe University of Washington (UW) is proud t...   Seattle    WA   \n",
       "2  \\nJob Overview:\\n\\n\\nThe Analyst, Marketing An...  New York    NY   \n",
       "\n",
       "                                   title sourcesite  views days_posted  \\\n",
       "0  Clinical Practice Specialist - 4 Hope        ind      0         NaN   \n",
       "1                          WEB DEVELOPER        ind      0         NaN   \n",
       "2           Analyst, Marketing Analytics        ind      0         NaN   \n",
       "\n",
       "  post_start_date                                               link  \\\n",
       "0             NaN  http://www.indeed.com/viewjob?jk=6244f7f3a4861...   \n",
       "1             NaN  http://www.indeed.com/viewjob?jk=3d6a9f18f5301...   \n",
       "2             NaN  http://www.indeed.com/viewjob?jk=d94a7d13dfbb0...   \n",
       "\n",
       "   base_title                                   parsed_title parsed_title_i  \\\n",
       "0  specialist  [clinical, practice, specialist, , , 4, hope]            [2]   \n",
       "1   developer                               [web, developer]            [1]   \n",
       "2     analyst              [analyst, , marketing, analytics]            [0]   \n",
       "\n",
       "        expanded_title prefix_title  \n",
       "0  practice specialist     practice  \n",
       "1        web developer          web  \n",
       "2              analyst      analyst  "
      ]
     },
     "execution_count": 3,
     "metadata": {},
     "output_type": "execute_result"
    }
   ],
   "source": [
    "master_total_df.head(3)"
   ]
  },
  {
   "cell_type": "code",
   "execution_count": 4,
   "metadata": {
    "collapsed": false
   },
   "outputs": [],
   "source": [
    "jobdesc = master_total_df[['link','jobdesc']].copy()\n",
    "\n",
    "def uncode(x):\n",
    "    try:\n",
    "        return unidecode.unidecode(x.decode('utf-8')).replace('\\n',' -').lower()\n",
    "\n",
    "    except:\n",
    "        try:\n",
    "            return unidecode.unidecode(x).replace('\\n',' -').lower()\n",
    "        except:\n",
    "            print x\n",
    "            return x \n",
    "jobdesc['cleandesc'] = jobdesc['jobdesc'].map(uncode)"
   ]
  },
  {
   "cell_type": "markdown",
   "metadata": {},
   "source": [
    "# Split on /n - then only take single sentence clusters"
   ]
  },
  {
   "cell_type": "markdown",
   "metadata": {},
   "source": [
    "# Sample Job description - identify key lists"
   ]
  },
  {
   "cell_type": "markdown",
   "metadata": {},
   "source": [
    "Note that the items have the following features:\n",
    "- usually single sentence\n",
    "- not multi-paragraph\n",
    "- usually have a new line\n",
    "- sections are separated by double returns"
   ]
  },
  {
   "cell_type": "code",
   "execution_count": 5,
   "metadata": {
    "collapsed": false
   },
   "outputs": [
    {
     "name": "stdout",
     "output_type": "stream",
     "text": [
      "\n",
      "The Application Developer II provides technical programming expertise to members of the Enterprise Applications Sector in support of MIT Lincoln Laboratory SAP (SRM, XI, BW, ECC) and legacy systems. The Application Developer works with Business Analyst functional system design specifications to create technical specifications that are then programmed and developed in accordance with development standards.\n",
      "\n",
      "\n",
      "Technical Support\n",
      "\n",
      "With guidance from Development Team Lead and senior developers, provides technical support in the form of analysis, coding, testing, transport coordination and documenting all work related to SAP, the Internet and legacy systems where applicable.\n",
      "Provides technical support in various application areas including working with technical developers in Project Systems as well as users in the Workforce Service Center and developers at MIT campus.\n",
      "Works to learn proper standards and efficient techniques for coding, analysis and documentation.\n",
      "Provides support in the BI application area including creating transformations, data load processes and maintaining process chains.\n",
      "Provides support for Business Objects work and related dash-boarding assignments.\n",
      "Provides support for legacy systems (BW – Libra, Business Warehouse).\n",
      "\n",
      "Technical Training\n",
      "\n",
      "Attends training classes to create new opportunities for innovative use of development technologies with/without the SAP environment.\n",
      "\n",
      "Technical Leadership in Project-Oriented Tasks\n",
      "Assists the Team Lead in ensuring all project management goals are met.\n",
      "Provides the Team Lead with timely and accurate status reports.\n",
      "Meets with the Team Lead in One-on-One meetings.\n",
      "\n",
      "This position is under the general supervision of the Development Team Lead and will provide the Team Lead with written and oral presentations on the status of new development assignments and Production Support issues as required. All direction on priorities will be received from the Team Lead (via the Project Manager).\n",
      "\n",
      "\n",
      "There are a number of interfaces relating to processing outside MIT LL’s that may require contact with 3rd parties.\n",
      "\n",
      "\n",
      "Requirements:\n",
      "\n",
      "Bachelor’s Degree in Computer Science or Engineering in combination with significant relevant work experience required Master's Degree preferred.\n",
      "4 – 6 years in SAP development required.\n",
      "2 - 3 years software engineering experience working with an SAP Basis team, business analysts and user community.\n",
      "Working knowledge of SAP ECC and SAP SRM transactions and tables\n",
      "Exposure to object-oriented programming and Internet protocols\n",
      "Solid understanding of programming concepts with specific experience with SAP ABAP development language\n",
      "SAP Certification preferred.\n",
      "Experience with other programming environments and languages preferred.\n",
      "Working knowledge of environments table structures and standard reporting tools.\n",
      "Working knowledge of the software lifecycle and methodologies.\n",
      "Ability to work independently toward delivery of goals as well as collaborate in team efforts.\n",
      "Ability to work analytically in a problem-solving environment.\n",
      "Skill in analyzing data flow and work flow\n",
      "Skill in interviewing users and identifying their needs\n",
      "Skill in organizing and managing projects\n",
      "Skill in building consensus among stakeholders and colleagues.\n",
      "Excellent customer service skills.\n",
      "Excellent verbal and written communication skills.\n",
      "Ability to obtain and maintain a security clearance.\n",
      "Experience with other programming environments and languages\n",
      "Adherence to internal programming/processing standards\n",
      "Working with change management tools for software life cycle development\n",
      "\n",
      "MIT Lincoln Laboratory is an Equal Employment Opportunity (EEO) employer. All qualified applicants will receive consideration for employment and will not be discriminated against on the basis of race, color, religion, sex, sexual orientation, gender identity, national origin, age, veteran status, disability status, or genetic information; U.S. citizenship is required.\n",
      "\n",
      "5 \n"
     ]
    }
   ],
   "source": [
    "print jobdesc['jobdesc'][17]"
   ]
  },
  {
   "cell_type": "markdown",
   "metadata": {},
   "source": [
    "# How to split items from descriptions\n",
    "\n",
    "1. will split by newlines\n",
    "2. will count how many sentences by periods\n",
    "3. will only take single sentences\n",
    "4. due to the \"split\" string approach, if the 2nd part of the string is empty, this will still qualify\n",
    "\n",
    "Examples:\n",
    "- \"Foo is bar\" will give one phrase back (True!)\n",
    "- \"Foo is bar. Bar is foo\" will give two items (false!)\n",
    "- \"Foo is bar.\" will give two elements back, but 2nd phrase will be zero, so this will need to be captured as well. \n",
    "\n",
    "We will prototype with a sample job listing.\n",
    "\n",
    "*Not all job postings will be the same, but we are hoping that the majority of job postings will follow this \"list format\" approach to isolate requirements"
   ]
  },
  {
   "cell_type": "code",
   "execution_count": 6,
   "metadata": {
    "collapsed": false
   },
   "outputs": [
    {
     "name": "stdout",
     "output_type": "stream",
     "text": [
      "===============\n",
      "============> \n",
      "===============\n",
      "============> Qualifications\n",
      "===============\n",
      "============> Undergraduate or advanced degree in a quantitative discipline (i.e. Statistics, Mathematics, Econometrics, Operations Research)\n",
      "===============\n",
      "============> Strong academic qualifications, including advanced understanding/coursework in database management and math (Linear, Algebra, Calculus)\n",
      "===============\n",
      "============> 2-9 years of hands-on experience developing and applying predictive models and other advanced statistical approaches in a corporate or consulting setting, preferably in a marketing and sales context\n",
      "===============\n",
      "============> Proficiency in statistical data analysis and data mining packages (e.g., R, SAS, SPSS, Alteryx, MatLab, STATA, Excel)\n",
      "===============\n",
      "============> Advanced knowledge of data management tools including SQL/RDBMS, NoSQL (e.g. MongoDB), Hadoop and/or other big data technologies\n",
      "===============\n",
      "============> Advanced programming skills in at least one of Java, Python, R, C++, C#, etc.\n",
      "===============\n",
      "============> Experience linking multiple data platforms (social media, open, etc) and with data visualization tools (e.g., Tableau)\n",
      "===============\n",
      "============> Experience with digital analytics (Next Product to buy, cross channel attribution modeling, digital analytic tools, dynamic ecommerce pricing, etc).\n",
      "===============\n",
      "============> Intellectual curiosity, along with excellent problem-solving and quantitative skills, including the ability to disaggregate issues, identify root causes and recommend solutions\n",
      "===============\n",
      "============> Ability to independently own database development and decisions, balancing demands and deadlines\n",
      "===============\n",
      "============> Distinctive communications skills and ability to communicate technical content in an easy to understand way\n",
      "===============\n",
      "============> Strong people skills, team-orientation, and a professional attitude\n",
      "===============\n",
      "============> Willingness to travel up to 80% (Monday-Thursday)\n",
      "===============\n",
      "============> \n",
      "===============\n",
      "============> Who You'll Work With\n",
      "===============\n",
      "You’ll work with our Consumer Marketing Analytics team in either Waltham (MA) or San Francisco. Our Consumer Marketing Analytics Center helps clients transform their marketing and sales by applying advanced analytics to generate value-creating insights from big data.\n",
      "===============\n",
      "============> \n",
      "===============\n",
      "============> \n",
      "===============\n",
      "============> What You'll Do\n",
      "===============\n",
      "============> You will collaborate with colleagues and clients to create new strategies across a wide platform of projects, from customer life-cycle management, MROI, pricing and promotions, marketing mix modeling, to analytic transformation.\n",
      "===============\n",
      "============> \n",
      "===============\n",
      "============> \n",
      "===============\n",
      "You will help to expand our current analytic capabilities and architect new strategies and applications within a dynamic innovative organization. You will shape the future of what data-driven organizations look like, drive processes for extracting and using that data in creative ways, and create new lines of thinking within an infinite number of clients and situations, with an eye on optimizing every aspect of our clients’ marketing practices.\n",
      "===============\n",
      "============> \n",
      "===============\n",
      "============> \n",
      "===============\n",
      "Through the measurement, manipulation, reporting and dissemination of broad sets of data, you will create valuable, transformative business strategies. You’ll apply and advise teams on the state-of-the-art advanced analytic and quantitative tools and modeling techniques in order to derive business insights, solve complex business problems and improve decisions.\n",
      "===============\n",
      "============> \n",
      "===============\n",
      "============> \n",
      "===============\n",
      "============> As a core member of the consulting team, you’ll conduct deep analytics on a broad set of client and external data and play a lead role in team problem solving through findings and insights from that analysis.\n",
      "===============\n",
      "============> \n",
      "===============\n",
      "============> \n",
      "===============\n",
      "You’ll also have the opportunity to lead and support the development of knowledge for our firm’s analytic group. You may do this by creating a roadmap for a greater understanding of analytics and its impact in the consulting population or by partnering with other analytic consultants to ensure timely and effective methods of the extraction, assembly and transfer of broad, complex sets of data.\n",
      "===============\n",
      "============> \n",
      "===============\n",
      "============> 30+ \n"
     ]
    }
   ],
   "source": [
    "# prototype\n",
    "for x in jobdesc['jobdesc'][12].split('\\n'):\n",
    "    print '==============='\n",
    "    ct = len(x.strip().split('.'))\n",
    "    if ct ==1:\n",
    "        print '============>',x\n",
    "    elif len(x.strip().split('.')[1])<=1:\n",
    "        print '============>',x\n",
    "    else:\n",
    "        print x"
   ]
  },
  {
   "cell_type": "code",
   "execution_count": 7,
   "metadata": {
    "collapsed": false
   },
   "outputs": [],
   "source": [
    "def pullLI(y):\n",
    "    LI = []\n",
    "    y  = y.replace('i.e.','-ie-').replace('e.g.','-eg-')\n",
    "    for x in y.split('\\n'):\n",
    "        ct = len(x.strip().split('.'))\n",
    "        if ct ==1:\n",
    "            if len(x)>0:\n",
    "                LI.append(x)\n",
    "        elif len(x.strip().split('.')[1])<=1:\n",
    "            if len(x.strip().split('.')[0])>0:\n",
    "                LI.append(x.strip().split('.')[0])\n",
    "    return LI\n",
    "jobdesc['LI'] = jobdesc['jobdesc'].map(pullLI)\n",
    "\n",
    "def cleanLI(yy):\n",
    "    newlist = []\n",
    "    for y in yy:\n",
    "        try:\n",
    "            newlist.append(unidecode.unidecode(y.decode('utf-8')).lower())\n",
    "        except:\n",
    "            try:\n",
    "                newlist.append(y.decode('utf-8').lower())\n",
    "            except:\n",
    "                newlist.append(y.lower())\n",
    "    return newlist\n",
    "jobdesc['LI'] = jobdesc['LI'].map(cleanLI)\n",
    "jobdesc['LI_length'] = jobdesc['LI'].map(lambda x : len(x))"
   ]
  },
  {
   "cell_type": "code",
   "execution_count": 8,
   "metadata": {
    "collapsed": false
   },
   "outputs": [
    {
     "data": {
      "text/html": [
       "<div>\n",
       "<table border=\"1\" class=\"dataframe\">\n",
       "  <thead>\n",
       "    <tr style=\"text-align: right;\">\n",
       "      <th></th>\n",
       "      <th>link</th>\n",
       "      <th>jobdesc</th>\n",
       "      <th>cleandesc</th>\n",
       "      <th>LI</th>\n",
       "      <th>LI_length</th>\n",
       "    </tr>\n",
       "  </thead>\n",
       "  <tbody>\n",
       "    <tr>\n",
       "      <th>0</th>\n",
       "      <td>http://www.indeed.com/viewjob?jk=6244f7f3a4861...</td>\n",
       "      <td>\\nAs part of Advocate Health Care, Advocate Ch...</td>\n",
       "      <td>-as part of advocate health care, advocate ch...</td>\n",
       "      <td>[3+ years recent experience in clinical specia...</td>\n",
       "      <td>29</td>\n",
       "    </tr>\n",
       "    <tr>\n",
       "      <th>1</th>\n",
       "      <td>http://www.indeed.com/viewjob?jk=3d6a9f18f5301...</td>\n",
       "      <td>\\nThe University of Washington (UW) is proud t...</td>\n",
       "      <td>-the university of washington (uw) is proud t...</td>\n",
       "      <td>[enhance production systems:, * clearly define...</td>\n",
       "      <td>46</td>\n",
       "    </tr>\n",
       "    <tr>\n",
       "      <th>2</th>\n",
       "      <td>http://www.indeed.com/viewjob?jk=d94a7d13dfbb0...</td>\n",
       "      <td>\\nJob Overview:\\n\\n\\nThe Analyst, Marketing An...</td>\n",
       "      <td>-job overview: - - -the analyst, marketing an...</td>\n",
       "      <td>[job overview:, essential functions:, % of tim...</td>\n",
       "      <td>24</td>\n",
       "    </tr>\n",
       "    <tr>\n",
       "      <th>3</th>\n",
       "      <td>http://www.indeed.com/viewjob?jk=c97751deb9e89...</td>\n",
       "      <td>\\nSkyport Systems is developing groundbreaking...</td>\n",
       "      <td>-skyport systems is developing groundbreaking...</td>\n",
       "      <td>[qualifications, b, experience in any of these...</td>\n",
       "      <td>17</td>\n",
       "    </tr>\n",
       "    <tr>\n",
       "      <th>4</th>\n",
       "      <td>http://www.indeed.com/viewjob?jk=fe4ef48c8fd03...</td>\n",
       "      <td>\\nCommand Alkon, a global leader in integrated...</td>\n",
       "      <td>-command alkon, a global leader in integrated...</td>\n",
       "      <td>[command alkon, a global leader in integrated ...</td>\n",
       "      <td>32</td>\n",
       "    </tr>\n",
       "  </tbody>\n",
       "</table>\n",
       "</div>"
      ],
      "text/plain": [
       "                                                link  \\\n",
       "0  http://www.indeed.com/viewjob?jk=6244f7f3a4861...   \n",
       "1  http://www.indeed.com/viewjob?jk=3d6a9f18f5301...   \n",
       "2  http://www.indeed.com/viewjob?jk=d94a7d13dfbb0...   \n",
       "3  http://www.indeed.com/viewjob?jk=c97751deb9e89...   \n",
       "4  http://www.indeed.com/viewjob?jk=fe4ef48c8fd03...   \n",
       "\n",
       "                                             jobdesc  \\\n",
       "0  \\nAs part of Advocate Health Care, Advocate Ch...   \n",
       "1  \\nThe University of Washington (UW) is proud t...   \n",
       "2  \\nJob Overview:\\n\\n\\nThe Analyst, Marketing An...   \n",
       "3  \\nSkyport Systems is developing groundbreaking...   \n",
       "4  \\nCommand Alkon, a global leader in integrated...   \n",
       "\n",
       "                                           cleandesc  \\\n",
       "0   -as part of advocate health care, advocate ch...   \n",
       "1   -the university of washington (uw) is proud t...   \n",
       "2   -job overview: - - -the analyst, marketing an...   \n",
       "3   -skyport systems is developing groundbreaking...   \n",
       "4   -command alkon, a global leader in integrated...   \n",
       "\n",
       "                                                  LI  LI_length  \n",
       "0  [3+ years recent experience in clinical specia...         29  \n",
       "1  [enhance production systems:, * clearly define...         46  \n",
       "2  [job overview:, essential functions:, % of tim...         24  \n",
       "3  [qualifications, b, experience in any of these...         17  \n",
       "4  [command alkon, a global leader in integrated ...         32  "
      ]
     },
     "execution_count": 8,
     "metadata": {},
     "output_type": "execute_result"
    }
   ],
   "source": [
    "jobdesc.head()"
   ]
  },
  {
   "cell_type": "code",
   "execution_count": 9,
   "metadata": {
    "collapsed": false
   },
   "outputs": [],
   "source": [
    "def split(y,phrase):\n",
    "    try:\n",
    "        if phrase in ('to','in'):\n",
    "            return y.split(' '+phrase+' ')[1]\n",
    "        else:\n",
    "            return y.split(phrase)[1]\n",
    "    except:\n",
    "        return ''\n",
    "    \n",
    "jobdesc['in'] =jobdesc['LI'].map(lambda x : [split(y,'in') for y in x if split(y,'in')!=''] )\n",
    "jobdesc['including'] =jobdesc['LI'].map(lambda x : [split(y.lower(),'including') for y in x if split(y.lower(),'including')!=''] )\n",
    "jobdesc['knowledge of'] =jobdesc['LI'].map(lambda x : [split(y.lower(),'knowledge of') for y in x if split(y.lower(),'knowledge of')!=''] )\n",
    "jobdesc['experience with'] =jobdesc['LI'].map(lambda x : [split(y.lower(),'experience with') for y in x if split(y.lower(),'experience with')!=''] )\n",
    "jobdesc['understanding of'] =jobdesc['LI'].map(lambda x : [split(y.lower(),'understanding of') for y in x if split(y.lower(),'understanding of')!=''] )\n",
    "jobdesc['to'] =jobdesc['LI'].map(lambda x : [split(y.lower(),'to') for y in x if split(y.lower(),'to')!=''] )\n"
   ]
  },
  {
   "cell_type": "code",
   "execution_count": 10,
   "metadata": {
    "collapsed": false,
    "scrolled": false
   },
   "outputs": [
    {
     "name": "stdout",
     "output_type": "stream",
     "text": [
      "\n",
      "General Overview:\n",
      "\n",
      "We are seeking a highly motivated individual to take a lead role in the development of a Data Analytics & Reporting program to support the Spaulding Rehab Network. The ideal candidate will work directly with IT and our business partners to understand current data challenges, eliciting requirements to define, scope, and deliver solutions that meet the business intelligence needs. The candidate will be responsible for architecting, designing, developing and supporting reporting solutions. S/he will help us navigate the transition to Epic by providing guidance and expertise in the area of Epic Reporting solutions.\n",
      "\n",
      "Responsibilities:\n",
      "\n",
      "• Design and build queries, reports, and dashboards using business intelligence tools adhering to established frameworks and standards\n",
      "\n",
      "• Develop migration strategies and processes to move data stored in disparate sources to SQL Server platform\n",
      "\n",
      "• Actively participate in and influence discussions around reporting requirements, infrastructure needs, and design\n",
      "\n",
      "• Interact directly with Clarity Report Writers and Clinical/Business Analysts to assure necessary data is available and accurate to support report writing and the use of analytics tools\n",
      "\n",
      "• Consistently deliver high-quality business intelligence solutions and services to clients on schedule\n",
      "\n",
      "• Bring structure to ambiguous business problems and recommend solutions that can be easily interpreted by users\n",
      "\n",
      "• Serve as end user support for the organizational user base\n",
      "\n",
      "• Follow, maintain and improve all documentation and procedures for report design and production\n",
      "\n",
      "• Sponsor teamwork and encourage collaboration\n",
      "\n",
      "\n",
      "Qualifications\n",
      "\n",
      "Qualifications\n",
      "\n",
      "• 5+ years of experience as a business/reporting analyst, in a dynamic business environment, with demonstrated reporting, analytical, and database experience; BS/BA required\n",
      "\n",
      "• Experience working in a healthcare environment, including use and experience with an EHR system\n",
      "\n",
      "• Familiarity with report writing tools, including Clarity, Crystal Reports, Epic Reporting Workbench\n",
      "\n",
      "• Self-motivated, well-rounded, analytical self-starter with ability to work in a dynamic, collaborative, team environment\n",
      "\n",
      "• Sound understanding of BI best practices/ methodologies; experience with relational structures, structured query language (SQL), data warehouse and reporting techniques\n",
      "\n",
      "• Strong analytic skills with the ability to gather, synthesize, and organize data to solve complex problems\n",
      "\n",
      "• Excellent verbal, written communication and presentation skills\n",
      "\n",
      "• Ability to work collaboratively and effectively with business and systems personnel\n",
      "\n",
      "• Available on-call during off-hours\n",
      "\n",
      "\n",
      "EEO Statement\n",
      "Partners HealthCare is an Equal Opportunity Employer & by embracing diverse skills, perspectives and ideas, we choose to lead. All qualified applicants will receive consideration for employment without regard to race, color, religious creed, national origin, sex, age, gender identity, disability, sexual orientation, military service, genetic information, and/or other status protected under law.\n",
      "\n",
      "\n",
      "Primary Location\n",
      ":\n",
      "MA-Cambridge-PHS - Spaulding Cambridge\n",
      "\n",
      "\n",
      "Work Locations\n",
      ":\n",
      "PHS - Spaulding Cambridge\n",
      "\n",
      "1575 Cambridge Street\n",
      "\n",
      "Cambridge\n",
      "02138\n",
      "\n",
      "\n",
      "Job\n",
      ":\n",
      "IT Project Management\n",
      "\n",
      "Organization\n",
      ":\n",
      "Partners HealthCare(PHS)\n",
      "\n",
      "Schedule\n",
      ":\n",
      "Full-time\n",
      "\n",
      "Standard Hours\n",
      ":\n",
      "40\n",
      "\n",
      "Shift\n",
      ":\n",
      "Day Job\n",
      "\n",
      "\n",
      "Employee Status\n",
      ":\n",
      "Regular\n",
      "\n",
      "Recruiting Department\n",
      ":\n",
      "PHS Information Systems\n",
      "\n",
      "Job Posting\n",
      ":\n",
      "Aug 12, 2016\n",
      "\n",
      "30+ \n"
     ]
    },
    {
     "data": {
      "text/plain": [
       "['general overview:',\n",
       " 'responsibilities:',\n",
       " '* design and build queries, reports, and dashboards using business intelligence tools adhering to established frameworks and standards',\n",
       " '* develop migration strategies and processes to move data stored in disparate sources to sql server platform',\n",
       " '* actively participate in and influence discussions around reporting requirements, infrastructure needs, and design',\n",
       " '* interact directly with clarity report writers and clinical/business analysts to assure necessary data is available and accurate to support report writing and the use of analytics tools',\n",
       " '* consistently deliver high-quality business intelligence solutions and services to clients on schedule',\n",
       " '* bring structure to ambiguous business problems and recommend solutions that can be easily interpreted by users',\n",
       " '* serve as end user support for the organizational user base',\n",
       " '* follow, maintain and improve all documentation and procedures for report design and production',\n",
       " '* sponsor teamwork and encourage collaboration',\n",
       " 'qualifications',\n",
       " 'qualifications',\n",
       " '* 5+ years of experience as a business/reporting analyst, in a dynamic business environment, with demonstrated reporting, analytical, and database experience; bs/ba required',\n",
       " '* experience working in a healthcare environment, including use and experience with an ehr system',\n",
       " '* familiarity with report writing tools, including clarity, crystal reports, epic reporting workbench',\n",
       " '* self-motivated, well-rounded, analytical self-starter with ability to work in a dynamic, collaborative, team environment',\n",
       " '* sound understanding of bi best practices/ methodologies; experience with relational structures, structured query language (sql), data warehouse and reporting techniques',\n",
       " '* strong analytic skills with the ability to gather, synthesize, and organize data to solve complex problems',\n",
       " '* excellent verbal, written communication and presentation skills',\n",
       " '* ability to work collaboratively and effectively with business and systems personnel',\n",
       " '* available on-call during off-hours',\n",
       " 'eeo statement',\n",
       " 'primary location',\n",
       " ':',\n",
       " 'ma-cambridge-phs - spaulding cambridge',\n",
       " 'work locations',\n",
       " ':',\n",
       " 'phs - spaulding cambridge',\n",
       " '1575 cambridge street',\n",
       " 'cambridge',\n",
       " '02138',\n",
       " 'job',\n",
       " ':',\n",
       " 'it project management',\n",
       " 'organization',\n",
       " ':',\n",
       " 'partners healthcare(phs)',\n",
       " 'schedule',\n",
       " ':',\n",
       " 'full-time',\n",
       " 'standard hours',\n",
       " ':',\n",
       " '40',\n",
       " 'shift',\n",
       " ':',\n",
       " 'day job',\n",
       " 'employee status',\n",
       " ':',\n",
       " 'regular',\n",
       " 'recruiting department',\n",
       " ':',\n",
       " 'phs information systems',\n",
       " 'job posting',\n",
       " ':',\n",
       " 'aug 12, 2016',\n",
       " '30+ ']"
      ]
     },
     "execution_count": 10,
     "metadata": {},
     "output_type": "execute_result"
    }
   ],
   "source": [
    "i = 67\n",
    "print jobdesc['jobdesc'][i]\n",
    "jobdesc['LI'][i]"
   ]
  },
  {
   "cell_type": "code",
   "execution_count": null,
   "metadata": {
    "collapsed": false
   },
   "outputs": [],
   "source": []
  },
  {
   "cell_type": "code",
   "execution_count": 11,
   "metadata": {
    "collapsed": false
   },
   "outputs": [
    {
     "data": {
      "text/plain": [
       "['disparate sources to sql server platform',\n",
       " 'and influence discussions around reporting requirements, infrastructure needs, and design',\n",
       " 'a dynamic business environment, with demonstrated reporting, analytical, and database experience; bs/ba required',\n",
       " 'a healthcare environment, including use and experience with an ehr system',\n",
       " 'a dynamic, collaborative, team environment']"
      ]
     },
     "execution_count": 11,
     "metadata": {},
     "output_type": "execute_result"
    }
   ],
   "source": [
    "jobdesc['in'][i]"
   ]
  },
  {
   "cell_type": "code",
   "execution_count": 12,
   "metadata": {
    "collapsed": false
   },
   "outputs": [
    {
     "data": {
      "text/plain": [
       "[' use and experience with an ehr system',\n",
       " ' clarity, crystal reports, epic reporting workbench']"
      ]
     },
     "execution_count": 12,
     "metadata": {},
     "output_type": "execute_result"
    }
   ],
   "source": [
    "\n",
    "jobdesc['including'][i]"
   ]
  },
  {
   "cell_type": "code",
   "execution_count": 13,
   "metadata": {
    "collapsed": false
   },
   "outputs": [
    {
     "data": {
      "text/plain": [
       "[]"
      ]
     },
     "execution_count": 13,
     "metadata": {},
     "output_type": "execute_result"
    }
   ],
   "source": [
    "\n",
    "jobdesc['knowledge of'][i]"
   ]
  },
  {
   "cell_type": "code",
   "execution_count": 14,
   "metadata": {
    "collapsed": false
   },
   "outputs": [
    {
     "data": {
      "text/plain": [
       "[' an ehr system',\n",
       " ' relational structures, structured query language (sql), data warehouse and reporting techniques']"
      ]
     },
     "execution_count": 14,
     "metadata": {},
     "output_type": "execute_result"
    }
   ],
   "source": [
    "jobdesc['experience with'][i]"
   ]
  },
  {
   "cell_type": "code",
   "execution_count": 15,
   "metadata": {
    "collapsed": false
   },
   "outputs": [
    {
     "data": {
      "text/plain": [
       "[' bi best practices/ methodologies; experience with relational structures, structured query language (sql), data warehouse and reporting techniques']"
      ]
     },
     "execution_count": 15,
     "metadata": {},
     "output_type": "execute_result"
    }
   ],
   "source": [
    "jobdesc['understanding of'][i]"
   ]
  },
  {
   "cell_type": "code",
   "execution_count": 16,
   "metadata": {
    "collapsed": false
   },
   "outputs": [
    {
     "data": {
      "text/plain": [
       "['established frameworks and standards',\n",
       " 'move data stored in disparate sources',\n",
       " 'assure necessary data is available and accurate',\n",
       " 'clients on schedule',\n",
       " 'ambiguous business problems and recommend solutions that can be easily interpreted by users',\n",
       " 'work in a dynamic, collaborative, team environment',\n",
       " 'gather, synthesize, and organize data',\n",
       " 'work collaboratively and effectively with business and systems personnel']"
      ]
     },
     "execution_count": 16,
     "metadata": {},
     "output_type": "execute_result"
    }
   ],
   "source": [
    "jobdesc['to'][i]"
   ]
  },
  {
   "cell_type": "code",
   "execution_count": 17,
   "metadata": {
    "collapsed": false
   },
   "outputs": [
    {
     "data": {
      "text/plain": [
       "link                14246\n",
       "jobdesc             14246\n",
       "cleandesc           14246\n",
       "LI                  14246\n",
       "LI_length           14246\n",
       "in                  14246\n",
       "including           14246\n",
       "knowledge of        14246\n",
       "experience with     14246\n",
       "understanding of    14246\n",
       "to                  14246\n",
       "dtype: int64"
      ]
     },
     "execution_count": 17,
     "metadata": {},
     "output_type": "execute_result"
    }
   ],
   "source": [
    "jobdesc[jobdesc['LI_length']>10].count()"
   ]
  },
  {
   "cell_type": "code",
   "execution_count": null,
   "metadata": {
    "collapsed": true
   },
   "outputs": [],
   "source": []
  },
  {
   "cell_type": "code",
   "execution_count": null,
   "metadata": {
    "collapsed": true
   },
   "outputs": [],
   "source": []
  }
 ],
 "metadata": {
  "anaconda-cloud": {},
  "kernelspec": {
   "display_name": "Python [dsi]",
   "language": "python",
   "name": "Python [dsi]"
  },
  "language_info": {
   "codemirror_mode": {
    "name": "ipython",
    "version": 2
   },
   "file_extension": ".py",
   "mimetype": "text/x-python",
   "name": "python",
   "nbconvert_exporter": "python",
   "pygments_lexer": "ipython2",
   "version": "2.7.12"
  }
 },
 "nbformat": 4,
 "nbformat_minor": 1
}
