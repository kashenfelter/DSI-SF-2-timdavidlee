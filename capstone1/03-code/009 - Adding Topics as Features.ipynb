{
 "cells": [
  {
   "cell_type": "markdown",
   "metadata": {},
   "source": [
    "# 1. Load Libraries "
   ]
  },
  {
   "cell_type": "code",
   "execution_count": 103,
   "metadata": {
    "collapsed": false
   },
   "outputs": [],
   "source": [
    "import pandas as pd\n",
    "import numpy as np\n",
    "from os import listdir\n",
    "from pprint import pprint\n",
    "import cPickle as pickle\n",
    "from sklearn.metrics.pairwise import cosine_similarity"
   ]
  },
  {
   "cell_type": "markdown",
   "metadata": {},
   "source": [
    "# 2. Load main dataframe"
   ]
  },
  {
   "cell_type": "code",
   "execution_count": 104,
   "metadata": {
    "collapsed": false
   },
   "outputs": [
    {
     "name": "stdout",
     "output_type": "stream",
     "text": [
      "(22707, 16)\n"
     ]
    }
   ],
   "source": [
    "with open('../jNotebooks/master_total_df.p','rb') as f:\n",
    "    master_total_df = pickle.load(f)\n",
    "print master_total_df.shape\n",
    "master_total_df.drop('days_posted',axis=1,inplace=True)\n",
    "master_total_df.drop('post_start_date',axis=1,inplace=True)\n",
    "master_total_df.drop('views',axis=1,inplace=True)\n",
    "master_total_df.drop('link',axis=1,inplace=True)"
   ]
  },
  {
   "cell_type": "code",
   "execution_count": 105,
   "metadata": {
    "collapsed": false
   },
   "outputs": [
    {
     "data": {
      "text/html": [
       "<div>\n",
       "<table border=\"1\" class=\"dataframe\">\n",
       "  <thead>\n",
       "    <tr style=\"text-align: right;\">\n",
       "      <th></th>\n",
       "      <th>index</th>\n",
       "      <th>company</th>\n",
       "      <th>jobdesc</th>\n",
       "      <th>city</th>\n",
       "      <th>state</th>\n",
       "      <th>title</th>\n",
       "      <th>sourcesite</th>\n",
       "      <th>base_title</th>\n",
       "      <th>parsed_title</th>\n",
       "      <th>parsed_title_i</th>\n",
       "      <th>expanded_title</th>\n",
       "      <th>prefix_title</th>\n",
       "    </tr>\n",
       "  </thead>\n",
       "  <tbody>\n",
       "    <tr>\n",
       "      <th>0</th>\n",
       "      <td>0</td>\n",
       "      <td>Advocate Health Care</td>\n",
       "      <td>\\nAs part of Advocate Health Care, Advocate Ch...</td>\n",
       "      <td>Oak Lawn</td>\n",
       "      <td>IL</td>\n",
       "      <td>Clinical Practice Specialist - 4 Hope</td>\n",
       "      <td>ind</td>\n",
       "      <td>specialist</td>\n",
       "      <td>[clinical, practice, specialist, , , 4, hope]</td>\n",
       "      <td>[2]</td>\n",
       "      <td>practice specialist</td>\n",
       "      <td>practice</td>\n",
       "    </tr>\n",
       "    <tr>\n",
       "      <th>1</th>\n",
       "      <td>1</td>\n",
       "      <td>University of Washington Medical Center</td>\n",
       "      <td>\\nThe University of Washington (UW) is proud t...</td>\n",
       "      <td>Seattle</td>\n",
       "      <td>WA</td>\n",
       "      <td>WEB DEVELOPER</td>\n",
       "      <td>ind</td>\n",
       "      <td>developer</td>\n",
       "      <td>[web, developer]</td>\n",
       "      <td>[1]</td>\n",
       "      <td>web developer</td>\n",
       "      <td>web</td>\n",
       "    </tr>\n",
       "  </tbody>\n",
       "</table>\n",
       "</div>"
      ],
      "text/plain": [
       "   index                                  company  \\\n",
       "0      0                     Advocate Health Care   \n",
       "1      1  University of Washington Medical Center   \n",
       "\n",
       "                                             jobdesc      city state  \\\n",
       "0  \\nAs part of Advocate Health Care, Advocate Ch...  Oak Lawn    IL   \n",
       "1  \\nThe University of Washington (UW) is proud t...   Seattle    WA   \n",
       "\n",
       "                                   title sourcesite  base_title  \\\n",
       "0  Clinical Practice Specialist - 4 Hope        ind  specialist   \n",
       "1                          WEB DEVELOPER        ind   developer   \n",
       "\n",
       "                                    parsed_title parsed_title_i  \\\n",
       "0  [clinical, practice, specialist, , , 4, hope]            [2]   \n",
       "1                               [web, developer]            [1]   \n",
       "\n",
       "        expanded_title prefix_title  \n",
       "0  practice specialist     practice  \n",
       "1        web developer          web  "
      ]
     },
     "execution_count": 105,
     "metadata": {},
     "output_type": "execute_result"
    }
   ],
   "source": [
    "master_total_df.head(2)"
   ]
  },
  {
   "cell_type": "code",
   "execution_count": null,
   "metadata": {
    "collapsed": true
   },
   "outputs": [],
   "source": []
  },
  {
   "cell_type": "markdown",
   "metadata": {},
   "source": [
    "# 3. Load Post-processed topics and their assignments"
   ]
  },
  {
   "cell_type": "code",
   "execution_count": 106,
   "metadata": {
    "collapsed": true
   },
   "outputs": [],
   "source": [
    "folder = '../09-postprocessTopics/'\n",
    "targetlist = listdir(folder)"
   ]
  },
  {
   "cell_type": "code",
   "execution_count": 107,
   "metadata": {
    "collapsed": false,
    "scrolled": true
   },
   "outputs": [
    {
     "name": "stdout",
     "output_type": "stream",
     "text": [
      "['.DS_Store',\n",
      " 'Archived',\n",
      " 'z003_ALL22k05_topic_proba_df_dict_804180.p',\n",
      " 'z003_ALL22k05_topic_vectors_804180.p',\n",
      " 'z003_ALL22k05_X_804180.p',\n",
      " 'z003_ALL22k10_topic_proba_df_dict_798300.p',\n",
      " 'z003_ALL22k10_topic_proba_df_dict_805679.p',\n",
      " 'z003_ALL22k10_topic_vectors_798300.p',\n",
      " 'z003_ALL22k10_topic_vectors_805679.p',\n",
      " 'z003_ALL22k10_X_798300.p',\n",
      " 'z003_ALL22k10_X_805679.p',\n",
      " 'z003_ALL22k25_topic_proba_df_dict_808308.p',\n",
      " 'z003_ALL22k25_topic_vectors_808308.p',\n",
      " 'z003_ALL22k25_X_808308.p',\n",
      " 'z003_ALL22k2G10_topic_proba_df_dict_799209.p',\n",
      " 'z003_ALL22k2G10_topic_vectors_799209.p',\n",
      " 'z003_ALL22k2G10_X_799209.p',\n",
      " 'z003_HS10_topic_proba_df_dict_803125.p',\n",
      " 'z003_HS10_topic_vectors_803125.p',\n",
      " 'z003_HS10_X_803125.p',\n",
      " 'z003_HS25_topic_proba_df_dict_803669.p',\n",
      " 'z003_HS25_topic_vectors_803669.p',\n",
      " 'z003_HS25_X_803669.p',\n",
      " 'z003_LI10_topic_proba_df_dict_804555.p',\n",
      " 'z003_LI10_topic_vectors_804555.p',\n",
      " 'z003_LI10_X_804555.p',\n",
      " 'z003_LI25_topic_proba_df_dict_805571.p',\n",
      " 'z003_LI25_topic_vectors_805571.p',\n",
      " 'z003_LI25_X_805571.p']\n"
     ]
    }
   ],
   "source": [
    "pprint(targetlist)"
   ]
  },
  {
   "cell_type": "code",
   "execution_count": 114,
   "metadata": {
    "collapsed": false
   },
   "outputs": [
    {
     "name": "stdout",
     "output_type": "stream",
     "text": [
      "z003_ALL22k05_topic_proba_df_dict_804180.p\n",
      "z003_ALL22k05_topic_vectors_804180.p\n",
      "z003_ALL22k05_X_804180.p\n",
      "z003_ALL22k10_topic_proba_df_dict_798300.p\n",
      "z003_ALL22k10_topic_proba_df_dict_805679.p\n",
      "z003_ALL22k10_topic_vectors_798300.p\n",
      "z003_ALL22k10_topic_vectors_805679.p\n",
      "z003_ALL22k10_X_798300.p\n",
      "z003_ALL22k10_X_805679.p\n",
      "z003_ALL22k25_topic_proba_df_dict_808308.p\n",
      "z003_ALL22k25_topic_vectors_808308.p\n",
      "z003_ALL22k25_X_808308.p\n",
      "z003_ALL22k2G10_topic_proba_df_dict_799209.p\n",
      "z003_ALL22k2G10_topic_vectors_799209.p\n",
      "z003_ALL22k2G10_X_799209.p\n",
      "z003_HS10_topic_proba_df_dict_803125.p\n",
      "z003_HS10_topic_vectors_803125.p\n",
      "z003_HS10_X_803125.p\n",
      "z003_HS25_topic_proba_df_dict_803669.p\n",
      "z003_HS25_topic_vectors_803669.p\n",
      "z003_HS25_X_803669.p\n",
      "z003_LI10_topic_proba_df_dict_804555.p\n",
      "z003_LI10_topic_vectors_804555.p\n",
      "z003_LI10_X_804555.p\n",
      "z003_LI25_topic_proba_df_dict_805571.p\n",
      "z003_LI25_topic_vectors_805571.p\n",
      "z003_LI25_X_805571.p\n"
     ]
    }
   ],
   "source": [
    "# loading all dataframes into a dictionary\n",
    "df_dict = {}\n",
    "for x in targetlist:\n",
    "    if '.p' in x:\n",
    "        print x\n",
    "        with open(folder+x,'rb') as f:\n",
    "            df_dict['_'.join(x.split('_')[1:-1])] = pickle.load(f)"
   ]
  },
  {
   "cell_type": "code",
   "execution_count": 109,
   "metadata": {
    "collapsed": false
   },
   "outputs": [
    {
     "data": {
      "text/plain": [
       "['ALL22k05_topic_vectors', 'ALL22k05_topic_proba_df_dict']"
      ]
     },
     "execution_count": 109,
     "metadata": {},
     "output_type": "execute_result"
    }
   ],
   "source": [
    "df_dict.keys()"
   ]
  },
  {
   "cell_type": "markdown",
   "metadata": {
    "collapsed": false
   },
   "source": [
    "# Topic Analysis"
   ]
  },
  {
   "cell_type": "markdown",
   "metadata": {},
   "source": [
    "### load all the NLP processed material using LDA"
   ]
  },
  {
   "cell_type": "code",
   "execution_count": 147,
   "metadata": {
    "collapsed": false
   },
   "outputs": [],
   "source": [
    "HS25_topics = df_dict['HS25_topic_vectors']\n",
    "LI25_topics = df_dict['LI25_topic_vectors']\n",
    "ALL25_topics = df_dict['ALL22k25_topic_vectors']\n",
    "LI25_df = df_dict['LI25_topic_proba_df_dict']\n",
    "HS25_df = df_dict['HS25_topic_proba_df_dict']\n",
    "ALL25_df = df_dict['ALL22k25_topic_proba_df_dict']\n"
   ]
  },
  {
   "cell_type": "markdown",
   "metadata": {},
   "source": [
    "### for complete job postings, for all documents modeled, add the probabilities to see some of the top scores:"
   ]
  },
  {
   "cell_type": "code",
   "execution_count": 159,
   "metadata": {
    "collapsed": false,
    "scrolled": false
   },
   "outputs": [
    {
     "data": {
      "text/plain": [
       "9     3046.878307\n",
       "13    2532.401905\n",
       "23    1851.596920\n",
       "11    1710.980212\n",
       "22    1643.928177\n",
       "5     1341.370221\n",
       "14    1138.865084\n",
       "4      942.965072\n",
       "19     814.654393\n",
       "10     813.905948\n",
       "6      750.187803\n",
       "18     723.862578\n",
       "1      706.802709\n",
       "0      705.506574\n",
       "8      616.657415\n",
       "20     568.495468\n",
       "3      435.620649\n",
       "2      424.160786\n",
       "7      367.492315\n",
       "12     334.039336\n",
       "24     286.191513\n",
       "15     282.190464\n",
       "16     266.482310\n",
       "17     227.112377\n",
       "21      73.565188\n",
       "dtype: float64"
      ]
     },
     "execution_count": 159,
     "metadata": {},
     "output_type": "execute_result"
    }
   ],
   "source": [
    "ALL25_df.sum().transpose().sort_values(ascending=False)"
   ]
  },
  {
   "cell_type": "markdown",
   "metadata": {},
   "source": [
    "### for complete job postings, topic key words"
   ]
  },
  {
   "cell_type": "code",
   "execution_count": 162,
   "metadata": {
    "collapsed": false
   },
   "outputs": [
    {
     "name": "stdout",
     "output_type": "stream",
     "text": [
      "(9, u'0.042*business + 0.018*requirements + 0.016*experience + 0.016*project + 0.012*management + 0.012*skills + 0.010*ability + 0.009*work')\n",
      "(13, u'0.015*experience + 0.015*learning + 0.014*data + 0.013*team + 0.012*machine + 0.009*work + 0.009*software + 0.008*science')\n",
      "(23, u'0.060*data + 0.018*analytics + 0.017*business + 0.016*experience + 0.015*analysis + 0.010*statistical + 0.010*insights + 0.009*skills')\n",
      "(11, u'0.034*experience + 0.022*software + 0.020*development + 0.015*design + 0.012*technical + 0.011*systems + 0.009*applications + 0.009*web')\n"
     ]
    }
   ],
   "source": [
    "print ALL25_topics[9]\n",
    "print ALL25_topics[13]\n",
    "print ALL25_topics[23]\n",
    "print ALL25_topics[11]"
   ]
  },
  {
   "cell_type": "code",
   "execution_count": null,
   "metadata": {
    "collapsed": true
   },
   "outputs": [],
   "source": []
  },
  {
   "cell_type": "markdown",
   "metadata": {},
   "source": [
    "### for only line-items in job postings, for all documents modeled, add the probabilities to see some of the top scores:"
   ]
  },
  {
   "cell_type": "code",
   "execution_count": 163,
   "metadata": {
    "collapsed": false
   },
   "outputs": [
    {
     "data": {
      "text/plain": [
       "5     2403.915565\n",
       "2     2079.895142\n",
       "23    2055.942295\n",
       "9     1633.005452\n",
       "19    1627.661658\n",
       "10    1040.199441\n",
       "18     910.851867\n",
       "11     848.571741\n",
       "14     848.229120\n",
       "21     792.797504\n",
       "12     779.912978\n",
       "3      775.821204\n",
       "13     718.105545\n",
       "0      691.526435\n",
       "20     683.832253\n",
       "16     675.392040\n",
       "1      573.630529\n",
       "15     563.575227\n",
       "8      561.135607\n",
       "6      560.977185\n",
       "4      548.245912\n",
       "22     309.286600\n",
       "7      288.233290\n",
       "17     287.354292\n",
       "24     176.223691\n",
       "dtype: float64"
      ]
     },
     "execution_count": 163,
     "metadata": {},
     "output_type": "execute_result"
    }
   ],
   "source": [
    "LI25_df.sum().transpose().sort_values(ascending=False)"
   ]
  },
  {
   "cell_type": "markdown",
   "metadata": {},
   "source": [
    "### for Line Item postings, topic key words"
   ]
  },
  {
   "cell_type": "code",
   "execution_count": 164,
   "metadata": {
    "collapsed": false
   },
   "outputs": [
    {
     "name": "stdout",
     "output_type": "stream",
     "text": [
      "(5, u'0.046*experience + 0.022*data + 0.017*learning + 0.015*software + 0.014*machine + 0.013*science + 0.013*computer + 0.010*systems')\n",
      "(2, u'0.041*business + 0.026*requirements + 0.022*experience + 0.020*project + 0.013*management + 0.011*process + 0.011*skills + 0.010*development')\n",
      "(23, u'0.039*skills + 0.037*experience + 0.027*ability + 0.024*data + 0.018*strong + 0.015*business + 0.014*work + 0.012*years')\n",
      "(9, u'0.022*business + 0.015*ability + 0.012*skills + 0.011*analysis + 0.010*research + 0.009*strong + 0.009*analytics + 0.009*experience')\n"
     ]
    }
   ],
   "source": [
    "print LI25_topics[5]\n",
    "print LI25_topics[2]\n",
    "print LI25_topics[23]\n",
    "print LI25_topics[9]"
   ]
  },
  {
   "cell_type": "markdown",
   "metadata": {},
   "source": [
    "### for Hard-skill related descriptions in job postings, for all documents modeled, add the probabilities to see some of the top scores:"
   ]
  },
  {
   "cell_type": "code",
   "execution_count": 153,
   "metadata": {
    "collapsed": false,
    "scrolled": false
   },
   "outputs": [
    {
     "data": {
      "text/plain": [
       "24    1962.690903\n",
       "2     1692.742198\n",
       "1     1661.913013\n",
       "5     1596.097418\n",
       "16    1395.909997\n",
       "19    1270.397301\n",
       "11    1205.186001\n",
       "9     1193.179855\n",
       "14    1141.715872\n",
       "7      912.950554\n",
       "3      912.082921\n",
       "10     908.125245\n",
       "12     694.053948\n",
       "13     683.517400\n",
       "20     680.237913\n",
       "8      606.038058\n",
       "22     574.748084\n",
       "4      559.934635\n",
       "15     450.402851\n",
       "21     439.880215\n",
       "0      389.291500\n",
       "18     364.799851\n",
       "6      362.066685\n",
       "23     304.395973\n",
       "17     290.355248\n",
       "dtype: float64"
      ]
     },
     "execution_count": 153,
     "metadata": {},
     "output_type": "execute_result"
    }
   ],
   "source": [
    "HS25_df.sum().transpose().sort_values(ascending=False)"
   ]
  },
  {
   "cell_type": "code",
   "execution_count": 155,
   "metadata": {
    "collapsed": false
   },
   "outputs": [
    {
     "name": "stdout",
     "output_type": "stream",
     "text": [
      "(24, u'0.046*business + 0.026*requirements + 0.023*project + 0.014*process + 0.011*development + 0.011*management + 0.011*technical + 0.010*functional')\n",
      "(2, u'0.043*data + 0.017*java + 0.017*hadoop + 0.016*big + 0.016*experience + 0.014*systems + 0.014*python + 0.013*technologies')\n",
      "(1, u'0.043*environment + 0.027*fast + 0.025*paced + 0.025*work + 0.020*business + 0.016*team + 0.010*data + 0.009*effectively')\n",
      "(5, u'0.139*data + 0.021*business + 0.017*sql + 0.017*reporting + 0.017*tools + 0.016*analysis + 0.014*analytics + 0.009*reports')\n"
     ]
    }
   ],
   "source": [
    "print HS25_topics[24]\n",
    "print HS25_topics[2]\n",
    "print HS25_topics[1]\n",
    "print HS25_topics[5]"
   ]
  },
  {
   "cell_type": "code",
   "execution_count": 111,
   "metadata": {
    "collapsed": false
   },
   "outputs": [
    {
     "data": {
      "text/plain": [
       "(22707, 12)"
      ]
     },
     "execution_count": 111,
     "metadata": {},
     "output_type": "execute_result"
    }
   ],
   "source": [
    "master_total_df.shape"
   ]
  },
  {
   "cell_type": "code",
   "execution_count": 112,
   "metadata": {
    "collapsed": false
   },
   "outputs": [
    {
     "name": "stdout",
     "output_type": "stream",
     "text": [
      "(22707, 5) <class 'pandas.core.frame.DataFrame'>\n"
     ]
    }
   ],
   "source": [
    "mega_df = master_total_df[['expanded_title']].copy()\n",
    "for k,v in df_dict.items():\n",
    "    if 'df' in k:\n",
    "        v.columns = [k+str(z) for z in range(len(v.columns))]\n",
    "        mega_df = mega_df.merge(v, how='left',left_index=True, right_index=True)\n",
    "        try:\n",
    "            print v.shape, type(v)\n",
    "        except:\n",
    "            print len(v), type(v)\n",
    "        \n",
    "mega_df.drop('expanded_title',inplace=True, axis=1)"
   ]
  },
  {
   "cell_type": "markdown",
   "metadata": {},
   "source": [
    "# Improved Recommendations - with 25 LI Text "
   ]
  },
  {
   "cell_type": "code",
   "execution_count": 115,
   "metadata": {
    "collapsed": false
   },
   "outputs": [],
   "source": [
    "mega_df = master_total_df[['expanded_title']].copy().merge(df_dict['LI25_topic_proba_df_dict'], how='left',left_index=True, right_index=True)"
   ]
  },
  {
   "cell_type": "code",
   "execution_count": 116,
   "metadata": {
    "collapsed": false
   },
   "outputs": [
    {
     "data": {
      "text/html": [
       "<div>\n",
       "<table border=\"1\" class=\"dataframe\">\n",
       "  <thead>\n",
       "    <tr style=\"text-align: right;\">\n",
       "      <th></th>\n",
       "      <th>expanded_title</th>\n",
       "      <th>0</th>\n",
       "      <th>1</th>\n",
       "      <th>2</th>\n",
       "      <th>3</th>\n",
       "      <th>4</th>\n",
       "      <th>5</th>\n",
       "      <th>6</th>\n",
       "      <th>7</th>\n",
       "      <th>8</th>\n",
       "      <th>...</th>\n",
       "      <th>15</th>\n",
       "      <th>16</th>\n",
       "      <th>17</th>\n",
       "      <th>18</th>\n",
       "      <th>19</th>\n",
       "      <th>20</th>\n",
       "      <th>21</th>\n",
       "      <th>22</th>\n",
       "      <th>23</th>\n",
       "      <th>24</th>\n",
       "    </tr>\n",
       "  </thead>\n",
       "  <tbody>\n",
       "    <tr>\n",
       "      <th>0</th>\n",
       "      <td>practice specialist</td>\n",
       "      <td>0.0</td>\n",
       "      <td>0.0</td>\n",
       "      <td>0.000000</td>\n",
       "      <td>0.0</td>\n",
       "      <td>0.000000</td>\n",
       "      <td>0.0</td>\n",
       "      <td>0.000000</td>\n",
       "      <td>0.0</td>\n",
       "      <td>0.0</td>\n",
       "      <td>...</td>\n",
       "      <td>0.0</td>\n",
       "      <td>0.0</td>\n",
       "      <td>0.146476</td>\n",
       "      <td>0.0</td>\n",
       "      <td>0.000000</td>\n",
       "      <td>0.0</td>\n",
       "      <td>0.348831</td>\n",
       "      <td>0.0</td>\n",
       "      <td>0.000000</td>\n",
       "      <td>0.0</td>\n",
       "    </tr>\n",
       "    <tr>\n",
       "      <th>1</th>\n",
       "      <td>web developer</td>\n",
       "      <td>0.0</td>\n",
       "      <td>0.0</td>\n",
       "      <td>0.279331</td>\n",
       "      <td>0.0</td>\n",
       "      <td>0.019112</td>\n",
       "      <td>0.0</td>\n",
       "      <td>0.046389</td>\n",
       "      <td>0.0</td>\n",
       "      <td>0.0</td>\n",
       "      <td>...</td>\n",
       "      <td>0.0</td>\n",
       "      <td>0.0</td>\n",
       "      <td>0.000000</td>\n",
       "      <td>0.0</td>\n",
       "      <td>0.000000</td>\n",
       "      <td>0.0</td>\n",
       "      <td>0.000000</td>\n",
       "      <td>0.0</td>\n",
       "      <td>0.075548</td>\n",
       "      <td>0.0</td>\n",
       "    </tr>\n",
       "    <tr>\n",
       "      <th>2</th>\n",
       "      <td>analyst</td>\n",
       "      <td>0.0</td>\n",
       "      <td>0.0</td>\n",
       "      <td>0.000000</td>\n",
       "      <td>0.0</td>\n",
       "      <td>0.000000</td>\n",
       "      <td>0.0</td>\n",
       "      <td>0.000000</td>\n",
       "      <td>0.0</td>\n",
       "      <td>0.0</td>\n",
       "      <td>...</td>\n",
       "      <td>0.0</td>\n",
       "      <td>0.0</td>\n",
       "      <td>0.000000</td>\n",
       "      <td>0.0</td>\n",
       "      <td>0.031811</td>\n",
       "      <td>0.0</td>\n",
       "      <td>0.222358</td>\n",
       "      <td>0.0</td>\n",
       "      <td>0.551005</td>\n",
       "      <td>0.0</td>\n",
       "    </tr>\n",
       "  </tbody>\n",
       "</table>\n",
       "<p>3 rows × 26 columns</p>\n",
       "</div>"
      ],
      "text/plain": [
       "        expanded_title    0    1         2    3         4    5         6    7  \\\n",
       "0  practice specialist  0.0  0.0  0.000000  0.0  0.000000  0.0  0.000000  0.0   \n",
       "1        web developer  0.0  0.0  0.279331  0.0  0.019112  0.0  0.046389  0.0   \n",
       "2              analyst  0.0  0.0  0.000000  0.0  0.000000  0.0  0.000000  0.0   \n",
       "\n",
       "     8 ...    15   16        17   18        19   20        21   22        23  \\\n",
       "0  0.0 ...   0.0  0.0  0.146476  0.0  0.000000  0.0  0.348831  0.0  0.000000   \n",
       "1  0.0 ...   0.0  0.0  0.000000  0.0  0.000000  0.0  0.000000  0.0  0.075548   \n",
       "2  0.0 ...   0.0  0.0  0.000000  0.0  0.031811  0.0  0.222358  0.0  0.551005   \n",
       "\n",
       "    24  \n",
       "0  0.0  \n",
       "1  0.0  \n",
       "2  0.0  \n",
       "\n",
       "[3 rows x 26 columns]"
      ]
     },
     "execution_count": 116,
     "metadata": {},
     "output_type": "execute_result"
    }
   ],
   "source": [
    "mega_df.head(3)"
   ]
  },
  {
   "cell_type": "code",
   "execution_count": 117,
   "metadata": {
    "collapsed": false
   },
   "outputs": [],
   "source": [
    "simsLI = cosine_similarity(df_dict['LI25_topic_proba_df_dict'], df_dict['LI25_topic_proba_df_dict'])"
   ]
  },
  {
   "cell_type": "code",
   "execution_count": 128,
   "metadata": {
    "collapsed": false
   },
   "outputs": [],
   "source": [
    "def getSimBook(sims):\n",
    "    simbook = []\n",
    "    for row in sims:\n",
    "        # gives indices that would sort the array by value\n",
    "        indices = row.argsort()[-11:-1]\n",
    "        # will return (value, indce)\n",
    "        toplist = [(row[x],x) for x in indices]\n",
    "        simbook.append(toplist)\n",
    "    return simbook\n",
    "\n",
    "LIsimbook = getSimBook(simsLI)\n"
   ]
  },
  {
   "cell_type": "code",
   "execution_count": 165,
   "metadata": {
    "collapsed": false
   },
   "outputs": [],
   "source": [
    "def getSimilarJobs(index,n,mysimbook ):\n",
    "    print '='*60\n",
    "    print 'ORIGINAL'\n",
    "    print master_total_df.iloc[index,:]['expanded_title']\n",
    "    print master_total_df.iloc[index,:]['jobdesc'] \n",
    "    related = mysimbook[index]\n",
    "    related.reverse()\n",
    "    for item in related[:n]:\n",
    "        print '='*60\n",
    "        \n",
    "\n",
    "\n",
    "        print str(item[0]) + 'Match Rating'\n",
    "        print master_total_df.iloc[int(item[1]),:]['expanded_title']\n",
    "        print master_total_df.iloc[int(item[1]),:]['jobdesc']#[:400]\n"
   ]
  },
  {
   "cell_type": "code",
   "execution_count": 166,
   "metadata": {
    "collapsed": false,
    "scrolled": false
   },
   "outputs": [
    {
     "name": "stdout",
     "output_type": "stream",
     "text": [
      "============================================================\n",
      "ORIGINAL\n",
      "software engineer\n",
      "\n",
      "Position Summary\n",
      "\n",
      "@WalmartLabs is the technical powerhouse behind Walmart Global eCommerce. We employ big data at scale -- from machine learning, data mining and optimization algorithms, to modeling and analyzing massive flows of data from online, social, mobile and offline commerce. We don’t just engineer cool websites, mobile apps, and new services; we use our own open source tools to create the framework. Deployment is automated and accelerated through our open cloud platform. This makes us incredibly nimble and able to adjust in real-time to our global customers. Position Description\n",
      "\n",
      "The Software Engineer III is responsible for the development of large-scale Web applications, related systems and tools, including analysis, design, implementation, unit testing and documentation. Interact successfully with business owners, project managers and other technical teams. Contribute to company’s engineering standards and best practices. Participate in application tuning. Provide production support including on-call support. Identify, fix and follow through deployment of critical issues.\n",
      "\n",
      "Assists in providing guidance to small groups of two to three engineers, including offshore associates, for assigned Engineering projects\n",
      "Demonstrates up-to-date expertise in Software Engineering and applies this to the development, execution, and improvement of action plans\n",
      "Manages small to large-sized complex projects\n",
      "Models compliance with company policies and procedures and supports company mission, values, and standards of ethics and integrity\n",
      "Participates in the discovery phase of small to medium-sized projects to come up with high level design\n",
      "Provides and supports the implementation of business solutions\n",
      "Provides support to the business\n",
      "Troubleshoots business and production issues Minimum Qualifications\n",
      "\n",
      "Bachelor's Degree in Computer Science or related field and 5 years experience building scalable ecommerce applications or mobile software-Hands-on Java programming, -Knowledge of REST Webservices-Experience building applications using frameworks like Spring Hands-on experience with Eclipse or other IDE development tools-Knowledge of distributed source control systems such as Git Additional Preferred Qualifications\n",
      "\n",
      "\n",
      "Knowledge of Code Quality Governance related tools (Sonar, PMD, FindBugs, Checkstyle, JIRA)-Experience with and knowledge of cloud enabled services / applications-Experience with retail/ecommerce industry Req ID: 723014BR\n",
      "\n",
      "\n",
      "\n",
      "11 \n",
      "============================================================\n",
      "0.97826004942Match Rating\n",
      "software engineer\n",
      "Position Summary\n",
      "\n",
      "In This Role, You Will\n",
      "\n",
      "This position is part of the Growth organization in @WalmartLabs. The mission of the Growth organization is to advance Walmart eCommerce by driving higher value for our customers and vendor partners. We are seeking talented and self-driven individuals to join the Walmart Performance Ads team. The Walmart Performance Ads team owns the platform that enhances user experience while improving monetization on Walmart.com, by displaying highly contextual and targeted product advertisements to our customers. The team operates an end to end advertising platform that includes a scalable ad service that serves hundred of millions of impressions each day, sophisticated ad matching algorithms, real-time reports, self service interface for end to end program management etc. The Walmart Performance Ads team uses Walmart scale big data and relies on the bleeding edge technologies to power the platform.\n",
      "\n",
      " Build and operate highly scalable and fault-tolerant services that receive millions of requests Play an active role in architecting and improving backend systems and data pipelines in collaboration with the team Apply techniques in search and machine learning to improve ad relevance Write clean and maintainable code in Scala, Java and Ruby Leverage Hadoop and related technologies to derive insights from big data\n",
      "\n",
      "Position Description\n",
      "Assists in providing guidance to small groups of two to three engineers, including offshore associates, for assigned Engineering projectsDemonstrates up-to-date expertise in Software Engineering and applies this to the development, execution, and improvement of action plansManages small to large-sized complex projectsModels compliance with company policies and procedures and supports company mission, values, and standards of ethics and integrityParticipates in the discovery phase of small to medium-sized projects to come up with high level designProvides and supports the implementation of business solutionsProvides support to the businessTroubleshoots business and production issues\n",
      "\n",
      "Minimum Qualifications\n",
      "\n",
      "Bachelor's Degree in Computer Science or related field and 5 years experience building scalable ecommerce applications or mobile software\n",
      "\n",
      "Additional Preferred Qualifications\n",
      "\n",
      "Please add text\n",
      "\n",
      "Req ID: 710636BR\n",
      "============================================================\n",
      "0.968009492726Match Rating\n",
      "software engineer\n",
      "Position Summary\n",
      "\n",
      "The vision of this project is to build a platform that “understands” products and ways in which customers think about them. We bring tools from different disciplines to bear on this problem: natural language processing, machine learning, big data, graph theory, crowd, and human-computer interface design.\n",
      "\n",
      "The matching and base variant projects focus on expanding product assortment by accurate matching and variant assimilation using intelligent algorithms for detecting and merging groups.\n",
      "\n",
      "Project will also build APIs and tools for integration with Merchant Center and Supplier Center to automate and manage base variant groupings.\n",
      "\n",
      "Position Description\n",
      "Demonstrates up-to-date expertise in Software Engineering and applies this to the development, execution, and improvement of action plansLeads and participates in medium- to large-scale projectsLeads the discovery phase of medium to large projects to come up with high level designLeads the work of other small groups of four to six engineers, including offshore associates, for assigned Engineering projectsModels compliance with company policies and procedures and supports company mission, values, and standards of ethics and integrityProvides and supports the implementation of business solutionsProvides support to the businessTroubleshoots business and production issues\n",
      "\n",
      "Minimum Qualifications\n",
      "\n",
      "Proven analytical skills and ability to operate independently5 years direct Java, Spring and REST API programming1 year on Cassandra or HBase NoSQL database design and programming\n",
      "\n",
      "Additional Preferred Qualifications\n",
      "\n",
      "Apache Storm programming experienceExposure to Spark and Scala programming\n",
      "\n",
      "Req ID: 691969BR\n",
      "============================================================\n",
      "0.96559756412Match Rating\n",
      "software engineer\n",
      "Position Summary\n",
      "\n",
      "Join our Walmart Canada Big Data team to drive innovation and personalization by leveraging site analytics, customer behavior, order management, and A/B test tracking across desktop, mobile, and app. Develop models and predictive analysis to improve the customer experience, encourage return visits, and increase order frequency and size.\n",
      "\n",
      "@WalmartLabs is the idea incubator inside the world's largest global retailer. We are developing products that rethink the customer experience and impact billions of transactions. Our agile team of engineers, scientists, and product managers work together to envision, prototype, and build extraordinary products. Every day is an opportunity to reshape the eCommerce landscape while having a lasting impact on the industry.\n",
      "\n",
      "With over 3,000 associates in Silicon Valley, San Diego, Portland, Brazil, United Kingdom and India, we're bringing together some of the best professionals from around the world. If you're inspired by the opportunity to solve complex problems at scale and make a difference for our customers and members, join us.\n",
      "\n",
      "Position Description\n",
      "Demonstrates up-to-date expertise in Software Engineering and applies this to the development, execution, and improvement of action plansLeads and participates in medium- to large-scale projectsLeads the discovery phase of medium to large projects to come up with high level designLeads the work of other small groups of four to six engineers, including offshore associates, for assigned Engineering projectsModels compliance with company policies and procedures and supports company mission, values, and standards of ethics and integrityProvides and supports the implementation of business solutionsProvides support to the businessTroubleshoots business and production issues\n",
      "\n",
      "Minimum Qualifications\n",
      "BS/MS in Computer Science/ Electrical Engineering or a related technical field with 2+ years of experience in Machine Learning and Data science5+ years of proficiency in OO programming (Java, Scala or Python preferred) and data modeling.3+ years of Strong development skills around Hadoop, Hive, Pig, Map Reduce, Spark and/or RIn depth knowledge of SQL and database technologies Hive, MySQL, Oracle, and/or CassandraStrong aptitude for writing efficient codeAttitude to thrive in a fun, fast-paced start-up like environment\n",
      "\n",
      "Additional Preferred Qualifications\n",
      "Strong development experience building scalable, low-latency web servicesPrior experience in eCommerce, machine learning, or artificial intelligenceFunctional programming experience in Scala\n",
      "\n",
      "Req ID: 707487BR\n",
      "\n",
      "\n",
      "============================================================\n",
      "0.964365651872Match Rating\n",
      "software engineer\n",
      "\n",
      "Position Summary\n",
      "\n",
      "Through the innovative fusion of retail, social and mobile, @WalmartLabs is redefining Commerce for the largest retailer worldwide. We are a group comprised of the brightest technologists and business people in the industry, excited about the limitless opportunities that this next generation of Commerce will bring to billions of people around the globe, all in an effort to help them save money and live better. As the idea incubator for the world's largest global retailer, we don't just build products, we create experiences. Every day is an opportunity to reshape the landscape of ecommerce while having a lasting impact on the industry. @WalmartLabs taps into the talents of online retail visionaries to design, prototype and build technology-fueled products that bridge the gap between what's next and what's best. @WalmartLabs brings together dozens of engineers, scientists and product experts to execute a cutting edge vision. If you're fluent in the language of innovation, @WalmartLabs is a place to become a leading change agent. Join us.\n",
      "\n",
      "Search processes billions of queries for millions of products on Walmart sites and apps worldwide. Search assist technologies: spell check, typeahead, related queries are the entry point for search. Even before a user completes a search query on the website, smartphone or tablet, our services goes to work. We mine structured and semi-structured data from product catalogs, social web, transactions, query logs, etc. at an unprecedented scale. We work on big data problems, cutting edge relevance algorithms from information retrieval, machine learning, and ranking to deliver a high-availability, low-latency service, which directly impacts business metrics. Position Description\n",
      "\n",
      "Develops Innovation strategies, processes, and best practices\n",
      "Drives the execution of multiple business plans and projects\n",
      "Ensures business needs are being met\n",
      "Leads and participates in medium- to large-scale, complex, cross-functional projects\n",
      "Leads the discovery phase of medium to large projects to come up with high level design\n",
      "Leads the work of other small groups of six to ten engineers, including offshore associates, for assigned Engineering projects\n",
      "Promotes and supports company policies, procedures, mission, values, and standards of ethics and integrity\n",
      "Provides supervision and development opportunities for associates\n",
      "Supports business objectives\n",
      "Troubleshoots business and production issues\n",
      "Utilizes industry research to improve Wal-Mart's technology environment Minimum Qualifications\n",
      "\n",
      "Master’s degree or higher in Computer Science or related field\n",
      "Practical experience in variety of applied machine learning, information retrieval, data mining, statistics, NLP or related techniques\n",
      "Strong programming skill in one of the following languages: Java, Python, Scala, C/C++.\n",
      "3+ years of experience with building scalable, high performing and robust applications\n",
      "Experience with big data methodologies involving Hive/Hadoop/ Spark;\n",
      "Strong competences in algorithm design, complexity analysis, data structures, software design.\n",
      "Familiarity with backend development (Java, Solr, Apache stack) is strongly preferred Additional Preferred Qualifications\n",
      "\n",
      "PhD in Computer Science or related field\n",
      "Experience in the search assist technologies (spell check, typeahead, related queries) highly desirable\n",
      "Advanced level of knowledge of Solr, Lucene or experience in building custom search engines\n",
      "Solid hands-on experience developing search quality/relevance products, ideally full development cycle of search improvements: search analysis, algorithm design, development, evaluation, A/B testing, deployment\n",
      "Strong machine learning and statistical modeling skills Req ID: 622620BR\n",
      "\n",
      "23 \n",
      "============================================================\n",
      "0.960037440042Match Rating\n",
      "software engineer\n",
      "Position Summary\n",
      "\n",
      "Through the innovative fusion of retail, social and mobile, @WalmartLabs is redefining Commerce for the largest retailer worldwide. We are a group comprised of the brightest technologists and business people in the industry, excited about the limitless opportunities that this next generation of Commerce will bring to billions of people around the globe, all in an effort to help them save money and live better. As the idea incubator for the world's largest global retailer, we don't just build products, we create experiences. Every day is an opportunity to reshape the landscape of ecommerce while having a lasting impact on the industry. @WalmartLabs taps into the talents of online retail visionaries to design, prototype and build technology-fueled products that bridge the gap between what's next and what's best. @WalmartLabs brings together dozens of engineers, scientists and product experts to execute a cutting edge vision. If you're fluent in the language of innovation, @WalmartLabs is a place to become a leading change agent. Join us.\n",
      "\n",
      "Search processes billions of queries for millions of products on Walmart sites and apps worldwide. Search assist technologies: spell check, typeahead, related queries are the entry point for search. Even before a user completes a search query on the website, smartphone or tablet, our services goes to work. We mine structured and semi-structured data from product catalogs, social web, transactions, query logs, etc. at an unprecedented scale. We work on big data problems, cutting edge relevance algorithms from information retrieval, machine learning, and ranking to deliver a high-availability, low-latency service, which directly impacts business metrics.\n",
      "\n",
      "Position Description\n",
      "Develops Innovation strategies, processes, and best practicesDrives the execution of multiple business plans and projectsEnsures business needs are being metLeads and participates in medium- to large-scale, complex, cross-functional projectsLeads the discovery phase of medium to large projects to come up with high level designLeads the work of other small groups of six to ten engineers, including offshore associates, for assigned Engineering projectsPromotes and supports company policies, procedures, mission, values, and standards of ethics and integrityProvides supervision and development opportunities for associatesSupports business objectivesTroubleshoots business and production issuesUtilizes industry research to improve Wal-Mart's technology environment\n",
      "\n",
      "Minimum Qualifications\n",
      " Master’s degree or higher in Computer Science or related field Practical experience in variety of applied machine learning, information retrieval, data mining, statistics, NLP or related techniques Strong programming skill in one of the following languages: Java, Python, Scala, C/C++. 3+ years of experience with building scalable, high performing and robust applications Experience with big data methodologies involving Hive/Hadoop/ Spark; Strong competences in algorithm design, complexity analysis, data structures, software design. Familiarity with backend development (Java, Solr, Apache stack) is strongly preferred\n",
      "\n",
      "Additional Preferred Qualifications\n",
      " PhD in Computer Science or related field Experience in the search assist technologies (spell check, typeahead, related queries) highly desirable Advanced level of knowledge of Solr, Lucene or experience in building custom search engines Solid hands-on experience developing search quality/relevance products, ideally full development cycle of search improvements: search analysis, algorithm design, development, evaluation, A/B testing, deployment Strong machine learning and statistical modeling skills\n",
      "\n",
      "Req ID: 622620BR\n"
     ]
    }
   ],
   "source": [
    "getSimilarJobs(55,5,LIsimbook)"
   ]
  },
  {
   "cell_type": "markdown",
   "metadata": {},
   "source": [
    "# Improved Recommendations - with 25 HS Text "
   ]
  },
  {
   "cell_type": "code",
   "execution_count": 167,
   "metadata": {
    "collapsed": true
   },
   "outputs": [],
   "source": [
    "mega_df = master_total_df[['expanded_title']].copy().merge(df_dict['HS25_topic_proba_df_dict'], how='left',left_index=True, right_index=True)"
   ]
  },
  {
   "cell_type": "code",
   "execution_count": 168,
   "metadata": {
    "collapsed": true
   },
   "outputs": [],
   "source": [
    "simsHS = cosine_similarity(df_dict['HS25_topic_proba_df_dict'], df_dict['HS25_topic_proba_df_dict'])"
   ]
  },
  {
   "cell_type": "code",
   "execution_count": 169,
   "metadata": {
    "collapsed": true
   },
   "outputs": [],
   "source": [
    "HSsimbook = getSimBook(simsHS)"
   ]
  },
  {
   "cell_type": "code",
   "execution_count": 170,
   "metadata": {
    "collapsed": false,
    "scrolled": false
   },
   "outputs": [
    {
     "name": "stdout",
     "output_type": "stream",
     "text": [
      "============================================================\n",
      "ORIGINAL\n",
      "software engineer\n",
      "\n",
      "Position Summary\n",
      "\n",
      "@WalmartLabs is the technical powerhouse behind Walmart Global eCommerce. We employ big data at scale -- from machine learning, data mining and optimization algorithms, to modeling and analyzing massive flows of data from online, social, mobile and offline commerce. We don’t just engineer cool websites, mobile apps, and new services; we use our own open source tools to create the framework. Deployment is automated and accelerated through our open cloud platform. This makes us incredibly nimble and able to adjust in real-time to our global customers. Position Description\n",
      "\n",
      "The Software Engineer III is responsible for the development of large-scale Web applications, related systems and tools, including analysis, design, implementation, unit testing and documentation. Interact successfully with business owners, project managers and other technical teams. Contribute to company’s engineering standards and best practices. Participate in application tuning. Provide production support including on-call support. Identify, fix and follow through deployment of critical issues.\n",
      "\n",
      "Assists in providing guidance to small groups of two to three engineers, including offshore associates, for assigned Engineering projects\n",
      "Demonstrates up-to-date expertise in Software Engineering and applies this to the development, execution, and improvement of action plans\n",
      "Manages small to large-sized complex projects\n",
      "Models compliance with company policies and procedures and supports company mission, values, and standards of ethics and integrity\n",
      "Participates in the discovery phase of small to medium-sized projects to come up with high level design\n",
      "Provides and supports the implementation of business solutions\n",
      "Provides support to the business\n",
      "Troubleshoots business and production issues Minimum Qualifications\n",
      "\n",
      "Bachelor's Degree in Computer Science or related field and 5 years experience building scalable ecommerce applications or mobile software-Hands-on Java programming, -Knowledge of REST Webservices-Experience building applications using frameworks like Spring Hands-on experience with Eclipse or other IDE development tools-Knowledge of distributed source control systems such as Git Additional Preferred Qualifications\n",
      "\n",
      "\n",
      "Knowledge of Code Quality Governance related tools (Sonar, PMD, FindBugs, Checkstyle, JIRA)-Experience with and knowledge of cloud enabled services / applications-Experience with retail/ecommerce industry Req ID: 723014BR\n",
      "\n",
      "\n",
      "\n",
      "11 \n",
      "============================================================\n",
      "0.99405818072Match Rating\n",
      "test engineer\n",
      "Description\n",
      "\n",
      "COMPANY INFORMATION\n",
      "\n",
      "Leidos Biomedical Research, Inc. (LBRI), a wholly owned subsidiary of Leidos, operates the Frederick National Laboratory for Cancer Research (FNLCR). FNLCR is a Federally Funded Research and Development Center (FFRDC) sponsored by the National Cancer Institute (NCI). It is the only FFRDC dedicated to biomedical research. Through its status as an FFRDC, FNLCR provides NCI and others with a unique national resource to accelerate the development and delivery of effective preventive, diagnostic, and therapeutic products for cancer and AIDS.\n",
      "\n",
      "The breadth of FNLCR’s activities spans the research and development spectrum, including investigator-initiated, hypothesis-driven research into cancer and AIDS; advanced technology programs focused on genetics and genomics, proteins and proteomics, imaging, nanotechnology, bioinformatics, and laboratory animal sciences; clinical operations in support of NCI and National Institute of Allergy and Infectious Diseases (NIAID)-sponsored clinical trials, as well as NCI drug discovery and development efforts; and management and operations of biopharmaceutical development and manufacturing programs under current Good Manufacturing Practice conditions for NCI and NIAID. Administrative, procurement, financial, safety, and facilities support is provided to these R&D activities through state-of-the-art business processes. LBRI has approximately 1,900 employees and manages an annual operating budget of approximately $450M.\n",
      "\n",
      "For more information about Leidos Biomedical Research Inc., please visit our webpage at www.leidosbiomed.com.\n",
      "\n",
      "Program Description\n",
      "\n",
      "CBIIT: The mission of the Data Science and Information Technology Program (DSITP) is to develop an enterprise-level, consolidated information technology infrastructure that provides exceptional IT capabilities to the Frederick National Labs for Cancer Research (NCI-Frederick/FNLCR) in support of basic, translational, and clinical cancer and AIDS research. The CBIIT Technical Operations Support (CTOS) Group is part of the DSITP within Leidos Biomed. The CTOS team is primarily involved in the operations and execution of the projects sponsored by NCI-CBIIT. Please see https://cbiit.nci.nih.gov/ for details about CBIIT’s mission.\n",
      "\n",
      "Job Description\n",
      "\n",
      "The Senior Software Test Engineer, Automation will: 1) develop automated tests for cutting edge clinical research software applications using Cucumber, Ruby (Rspec), JavaScript and Java on a Linux/Mac OS environment, 2) ensure that each software application satisfies our technical and business requirements, 3)work in an agile continuous integration environment, and 4) test software deployment on Linux OS.\n",
      "\n",
      "Qualifications\n",
      "Possession of a Bachelor’s degree in from an accredited college/university according to the Council for Higher Education Accreditation (CHEA) Computer Science, Information Systems, Bioinformatics or equivalent from an accredited college/university or four (4) years of relevant experience in lieu of a degreeForeign degrees must be evaluated for U.S. equivalencyEight (8) years of relevant software engineering experienceProfessional experience using Linux, Mac OS X, or any similar operating systemStrong programming skills in any of the following languages: Java, JavaScript, Python or RubyExperience in automated testing, developing automated test scripts and executing and analyzing results using tools such as Cucumber and SeleniumStrong written and oral communicationAbility to work well in a diverse team setting or independentlyWorking knowledge of software quality assurance and testing\n",
      "\n",
      "Preferred Qualifications\n",
      "MongoDBGit/GitHubJenkins \n",
      "\n",
      "Leidos Overview\n",
      "\n",
      "Leidos is a global science and technology solutions leader working to solve the world's toughest challenges in the defense, intelligence, homeland security, civil, and health markets. The company�s 33,000 employees support vital missions for government and commercial customers. Headquartered in Reston, Virginia, Leidos reported pro forma annual revenues of approximately $10 billion for the fiscal year ended January 1, 2016 after giving effect to the recently completed combination of Leidos with Lockheed Martin's Information Systems & Global Solutions business (IS&GS). For more information, visit www.Leidos.com. The company�s diverse employees support vital missions for government and commercial customers. Qualified women, minorities, individuals with disabilities and protected veterans are encouraged to apply. Information Technology - Software\n",
      "\n",
      "\n",
      "============================================================\n",
      "0.986725096306Match Rating\n",
      "software engineer\n",
      "Position Summary\n",
      "\n",
      "In This Role, You Will\n",
      "\n",
      "This position is part of the Growth organization in @WalmartLabs. The mission of the Growth organization is to advance Walmart eCommerce by driving higher value for our customers and vendor partners. We are seeking talented and self-driven individuals to join the Walmart Performance Ads team. The Walmart Performance Ads team owns the platform that enhances user experience while improving monetization on Walmart.com, by displaying highly contextual and targeted product advertisements to our customers. The team operates an end to end advertising platform that includes a scalable ad service that serves hundred of millions of impressions each day, sophisticated ad matching algorithms, real-time reports, self service interface for end to end program management etc. The Walmart Performance Ads team uses Walmart scale big data and relies on the bleeding edge technologies to power the platform.\n",
      "\n",
      " Build and operate highly scalable and fault-tolerant services that receive millions of requests Play an active role in architecting and improving backend systems and data pipelines in collaboration with the team Apply techniques in search and machine learning to improve ad relevance Write clean and maintainable code in Scala, Java and Ruby Leverage Hadoop and related technologies to derive insights from big data\n",
      "\n",
      "Position Description\n",
      "Assists in providing guidance to small groups of two to three engineers, including offshore associates, for assigned Engineering projectsDemonstrates up-to-date expertise in Software Engineering and applies this to the development, execution, and improvement of action plansManages small to large-sized complex projectsModels compliance with company policies and procedures and supports company mission, values, and standards of ethics and integrityParticipates in the discovery phase of small to medium-sized projects to come up with high level designProvides and supports the implementation of business solutionsProvides support to the businessTroubleshoots business and production issues\n",
      "\n",
      "Minimum Qualifications\n",
      "\n",
      "Bachelor's Degree in Computer Science or related field and 5 years experience building scalable ecommerce applications or mobile software\n",
      "\n",
      "Additional Preferred Qualifications\n",
      "\n",
      "Please add text\n",
      "\n",
      "Req ID: 710636BR\n",
      "============================================================\n",
      "0.977837440923Match Rating\n",
      "data engineer\n",
      "Basic Qualifications: Bachelor's Degree At least 5 years’ experience with Data Integration At least 2 years’ experience with Hadoop, or at least 2 years’ experience with HDFS, or at least 2 years of experience with HBase or at least 2 years’ experience with Storm, or at least 2 years’ experience with MapReduce , or at least 2 years’ of experience with Cassandra, or at least 2 years’ experience with Kafka, or at least 2 years’ experience with Go, or at least 2 years’ experience with Docker, or at least 2 years’ experience with Microservices, or at least 2 years’ experience with AVRO, or at least 2 years’ experience with MongoDB or at least 2 years’ experience with Zookeeper leading Big Data technologiesAt least 4 years’ experience building distributed systems, or at least 4 years’ experience query processing, or at least 4 years’ experience with database internals, or at least 5 years’ using analytic systems.\n",
      "\n",
      "Preferred Qualifications\n",
      " 5+ years’ with experience in technical roles 5+ years’ experience with application, or 7+ years’ experience with data design, or 7+ years’ experience with architecture, or 7+ years' with development experience 5+ years’ experience leading the full life-cycle of IT development or 7+ years’ experience leading a platform support team 2+ years’ of experience with Agile including Scrum or 2+ years’ with SAFe best practices 2+ years’ experience working in banking, or 2+ years' experience working in financial industries 2+ years’ experience running large scale applications  \n",
      "Location: McLean, VA.\n",
      "\n",
      "Requirements\n",
      "\n",
      "Important Considerations:\n",
      " Full Time Bachelor’s degree (MUST) \n",
      "\n",
      "Benefits\n",
      "\n",
      "Best in class benefits.\n",
      "============================================================\n",
      "0.96087076352Match Rating\n",
      "software developer\n",
      "\n",
      "US Citizenship Required - TS/SCI with FSP Clearance Required - US Citizenship Required\n",
      "\n",
      "Senior CNO Developer to support programs related to computer network operations. You will be integral members of a highly-skilled team that provides on-site development of advanced tools and techniques for use in intelligence collection programs.\n",
      "\n",
      "Main responsibilities will include, but are not limited to:\n",
      "Analyzing and deconstructing software applications and products\n",
      "Working within operating systems to characterize and understand technical specifications\n",
      "\n",
      "Required Skills:\n",
      "Bachelor's degree in Engineering, Computer Science or related field (4 years of related experience may be substituted for each year of degree-level education)\n",
      "8+ years of related development experience\n",
      "8+ years of development experience in Windows OR Linux environment\n",
      "A minimum of one year of experience working in or supporting customers within the Intelligence Community\n",
      "8+ years of demonstrated experience in x86 assembly, SW reverse engineering, kernel debugging, boot procedures, file systems, networking protocol stacks, embedded SW development\n",
      "8+ years of Windows OR Linux kernel/driver development experience\n",
      "Strong understanding of operating system internals\n",
      "\n",
      "Desired Skills:\n",
      "Must present a positive and professional demeanor\n",
      "Must possess excellent communication skills, both written and verbal\n",
      "\n",
      "Required Education (including Major):\n",
      "Bachelor's degree in Engineering, Computer Science or related field (4 years of related experience may be substituted for each year of degree-level education)\n",
      "\n",
      "Clearance\n",
      "\n",
      "US Citizenship Required - TS/SCI with FSP Clearance Required - US Citizenship Required\n",
      "\n",
      "BENEFITS OFFERED:\n",
      "Medical, Dental, Vision Insurance - 100% Company-Paid Premiums\n",
      "STD, LTD, and Life Insurance - 100% company paid\n",
      "401K - 10% salary contribution immediately vested\n",
      "Bonus Plan\n",
      "PTO - up to 4 weeks/year\n",
      "Holidays - 10 paid/year\n",
      "Birthdays off with pay\n",
      "Upfront and Recurring Referral Bonuses\n",
      "Education Reimbursement\n",
      "\n",
      "ABOUT PHOENIX OPERATIONS GROUP:\n",
      "Phoenix Operations Group is a high-end engineering services company dedicated to protecting and advancing our national cyber resources. As a small start-up operating out of the Baltimore/Washington DC area, we rely on innovation to continually advance our employees' skills and provide game-changing solutions to our customers.\n",
      "\n",
      "Our technical competencies include Big Data analytics (batch and streaming), Cloud Computing infrastructure, multi-INT visualization, and enterprise architectures. We support operational missions (All-Source, Financial, CND) and serve as Product Owners for our open-source research initiatives.\n",
      "\n",
      "Please visit us at http://www.phoenix-opsgroup.com for more information.\n",
      "\n",
      "4 \n",
      "============================================================\n",
      "0.955566812578Match Rating\n",
      "development engineer\n",
      "\n",
      "Amazon’s Automated Advertising team is building the Internet's largest-scale fully-automated advertising system. The team is responsible for a scaled, high availability system, and the algorithms that automatically generate, target, measure, and optimize tens of millions of search engine ad placements. We routinely solve challenges related to large scale distributed systems. We manage a continuously growing portfolio of advertisements while maximizing returns through bidding efficiency and discovery of new keywords and revenue opportunities. Cutting edge technology and algorithms including statistical modeling, machine learning, and data mining are the core of our business. Automated Advertising drives a large portion of Amazon’s business, and represents a unique opportunity to drive impact on the company’s bottom line. With essentially full ownership of our own product road map, there is a large R&D component to our work, and strong programming skills together with sound business understanding and an appetite for innovation are highly valued.\n",
      "\n",
      "\n",
      "The ideal candidate for our team is a thinker and a doer: someone who loves sophisticated algorithms and mathematical precision, but at the same time enjoys implementing real systems, and is motivated by the prospect of multi-million dollar business returns. Proficiency in Java or C++ is required, and the ideal candidate is an expert in at least one of these languages. A BS in computer science (or equivalent experience) is required; graduate degrees, experience building high-availability or large-scale systems, and knowledge of advanced algorithms and data structures are significant pluses.\n",
      "\n",
      "\n",
      "Basic Qualifications\n",
      "Bachelor’s Degree in Computer Science or related field, or 6+ years relevant work experience\n",
      "5+ years of professional software development experience\n",
      "Experience with Agile / SCRUM development methodologies\n",
      "Experience with large scale distributed databases\n",
      "\n",
      "Preferred Qualifications\n",
      "Experience with Sponsored Link advertising\n",
      "Large scale distributed systems on Unix type platforms\n",
      "Machine Learning\n",
      "Map Reduce framework like Hadoop\n",
      "Data Mining\n",
      "Fast thinker with a good grasp of business and technology and foresight to apply technology to solve business problems\n",
      "\n",
      "Amazon.com - 3 \n"
     ]
    }
   ],
   "source": [
    "getSimilarJobs(55,5,HSsimbook)"
   ]
  },
  {
   "cell_type": "code",
   "execution_count": 171,
   "metadata": {
    "collapsed": false,
    "scrolled": false
   },
   "outputs": [
    {
     "name": "stdout",
     "output_type": "stream",
     "text": [
      "============================================================\n",
      "ORIGINAL\n",
      "software engineer\n",
      "\n",
      "Work with a small elite team in a $15 trillion industry\n",
      "At Panjiva we’ve built the premier platform for working with global trade data. Our clients include manufacturers, retailers, logistics, legal, and financial companies hailing from over 100 countries. They use Panjiva to gather insights into global trade trends, find new suppliers and customers, monitor supply chain relationships, optimize logistics networks, and much more. Panjiva’s award-winning and patented technology leverages machine learning to provide powerful search, analysis and visualization tools over more than a billion shipping records and 100 million indexed web pages. The Panjiva platform handles millions of requests a day from users all over the world.\n",
      "\n",
      "Join our engineering team as we revolutionize a key and fascinating part of the world economy!\n",
      "\n",
      "Solve important and challenging problems\n",
      "We’re looking for a front-end software engineer who shares our belief that good products are simple, beautiful, and intuitive. We want someone who is a world class user-interface engineer, highly skilled in developing products and UI abstractions that are maintainable, extensible, and reusable. As a front-end engineer at Panjiva, you will work with Panjiva’s world-class data scientists, product designers, and engineers to create products that solve important real-world business problems in a collaborative, fast-paced, and fun startup environment.\n",
      "\n",
      "At Panjiva, you’ll work on:\n",
      "\n",
      "Creating meaningful data visualizations that deliver actionable insights in simple, intuitive, and beautiful ways\n",
      "Eloquently presenting global trade activities via time series and geospatial visualizations, interactive filterable tabular data interfaces, network visualizations, and more\n",
      "Building interactive tools that allow non-technical users to express complex queries\n",
      "Architecting and building an extensible UI library, components, and styles to standardize the user experience and user interface design across all Panjiva products\n",
      "\n",
      "Requirements\n",
      "\n",
      "Mastery of JavaScript, HTML, and CSS, as well as related tools (dependency management, CSS preprocessors, etc.)\n",
      "Solid engineering skills and strong CS fundamentals (common data structures, algorithms, performance profiling, etc.)\n",
      "Incredibly detail-oriented and exacting, with a goal of creating the best possible experience for our users\n",
      "Solid understanding of the web stack (HTTP, headers, cookies, cross-domain restrictions, asset loading, caching)\n",
      "Ability to improve perceived performance of client applications using profiling, carefully orchestrated server communication, and writing well designed CSS.\n",
      "Proven ability and desire to build well designed UI patterns and abstractions that can be reused in various interfaces\n",
      "Experience with modern web frameworks (e.g., Ruby on Rails, Express, Django, etc)\n",
      "\n",
      "Nice-to-Haves\n",
      "\n",
      "Exemplary visual design skills\n",
      "Startup experience\n",
      "Significant experience with D3.js\n",
      "Experience developing web applications with cross-browser support\n",
      "Understanding of relational databases\n",
      "Experience with modern client-side frameworks such as React, Ember, or Angular\n",
      "Drive to create internationalized products with a focus on localization for a global user base\n",
      "Fluency in either Spanish or Chinese\n",
      "\n",
      "Perks and Benefits\n",
      "\n",
      "Competitive salary and stock options\n",
      "Build or buy your dream computer\n",
      "Kendall Square office twenty-five feet from the Red Line T stop\n",
      "Nineteen days of Paid Time Off (PTO) and 10 paid holidays annually\n",
      "Weekly tech talks\n",
      "Health, dental, and vision insurance\n",
      "401(k) plan\n",
      "Hacker Continuing Education Wednesdays i.e., craft beer tasting, ping pong lessons\n",
      "Regular off-site retreats where everybody helps to set company direction and strategy\n",
      "Work with a talented, focused, driven team in a growing company with opportunity for advancement and career development\n",
      "\n",
      "How to Apply\n",
      "To apply, email jobs+eng at panjiva.com with\n",
      "\n",
      "\n",
      "Your resume (and any GitHub, Stack Overflow etc. handles)\n",
      "\n",
      "Want to impress us? Take a look at our engineering challenges.\n",
      "\n",
      "9 \n",
      "============================================================\n",
      "0.966149480491Match Rating\n",
      "director\n",
      "\n",
      "We are ambitious, well-funded, and plan to change a $1 trillion-dollar global industry. This is no ordinary startup. We’ve brought on some of the most passionate, intelligent, and seasoned founding team members on the planet. We are building a product that will innovate business travel, delivering the cost savings that companies demand and a new level of great incentives that business travelers deserve. \n",
      "\n",
      "ABOUT YOU\n",
      "You have strong leadership skills. Although you can still get “in the weeds,” you spend most of your time in a management capacity and know how to inspire teams, from mobile to front end to UX, to bring an amazing customer experience to life.\n",
      "You have 8-10 years of relevant experience and/or a bachelor's degree in Computer Science. You are looking to get in on the ground floor of a well-funded startup with a proven leadership team. Prior startup experience is a huge plus!\n",
      "You have incredible technical chops when it comes to HTML, CSS3 and modern Javascript libraries.\n",
      "You are someone who prides yourselves on pushing new technologies. In addition to being proficient in Node.JS, you are an expert in building modern single-page applications in Javascript MVC frameworks and UI libraries such as Angular.JS and React. You are all about keeping up with best practices, blogs, and SMEs.\n",
      "Although you understand the modern tech stack from the network up, you primarily focus on the front end.\n",
      "You understand that great engineering teams are built upon relationships, just as much as they are built on awesome code. ABOUT THE GIG\n",
      "Lead teams to create a user experience that will turn business travel from mundane to magical.\n",
      "Work directly with our President, Engineering Team Leadership and Travel Industry SME’s to harness the power of mobile and modern front end technologies in yet-to-be-imagined ways.\n",
      "Lead our team both in terms of management and best technical practices. Take us from good to great.\n",
      "Be the glue that holds the team together by taking a service- oriented management approach.\n",
      "ABOUT OUR TECH STACK\n",
      "\n",
      "\n",
      "We are beyond passionate about using cutting-edge technologies. We've developed a serverless web app using Lambda & S3 to power React and Meteor. Functional programming isn't just a phrase--we leverage Scala/Akka actors & Node microservices, dynamically scaling this infrastructure with Docker. To tie it all together, we are diving deep into machine learning with Apache Spark as we create the world's most first flexibility engine.\n",
      "\n",
      "\n",
      "ABOUT US\n",
      "\n",
      "\n",
      "We are a team of no-nonsense risk-takers that thrive in our low structure, high expectations culture. We are positive, passionate, playful, and always pushing to be better. Our team is a hodgepodge of challenge seekers, travel gurus, startup junkies, and data-miners who see the big picture.\n",
      "\n",
      "\n",
      "YOU WANT TO TALK TO US IF…\n",
      "\n",
      "\n",
      "· You are motivated by disrupting the norm. \n",
      "· You have a great sense of humor and take your profession seriously, but not yourself. \n",
      "· Your entrepreneurial spirit drives your bias for action. \n",
      "· You are all about constructive feedback - you can dish it out and you can take it. \n",
      "· You thrive in the frenetic energy of a startup.\n",
      "\n",
      "\n",
      "WHAT WE OFFER\n",
      "\n",
      "\n",
      "· Competitive salary + equity \n",
      "· Full health, vision, and dental coverage \n",
      "· 401K plan \n",
      "· Open paid time off \n",
      "· Impromptu Nerf gun battles\n",
      "\n",
      "30+ \n",
      "============================================================\n",
      "0.9532864718Match Rating\n",
      "web developer\n",
      "\n",
      "Fuhu Inc. is the leading designer, seller and innovator of “thoughtful” consumer products and services for children. Creator of the nabi™ tablet, the world’s first tablet made just for kids, Fuhu provides an ecosystem of hardware, software services, and accessories to immerse kids in rich and engaging experiences. nabi ™ is available in all major U.S. retailers including Target, Walmart, and Best Buy.\n",
      "\n",
      "\n",
      "We are currently seeking a Front End Web Developer to join our growing team! The Front End Web Developer will work in a team that is responsible for executing web and mobile products. We are looking for someone who is passionate and excited about delivering great web experiences through their ninja coding skills. The ideal candidate is a coding dynamo who can evangelize, architect, and deliver solutions with best practices in mind.\n",
      "\n",
      "\n",
      "Requirements:\n",
      "\n",
      "Bachelor’s Degree or higher in Computer Science or a related discipline is preferred\n",
      "Ability to create top notch HTML, CSS, and Javascript code\n",
      "In depth knowledge of web technologies and standards to deliver the best experiences across web and mobile devices\n",
      "Understanding of the semantic web\n",
      "Knowledge of what it takes to build responsive websites\n",
      "Experience with:\n",
      "-Gruntjs, JQuery, Sass/less\n",
      "\n",
      "\n",
      "-Version control system\n",
      "\n",
      "\n",
      "-Templating engines (jinja/django)\n",
      "\n",
      "\n",
      "-Adobe Illustrator & Photoshop\n",
      "\n",
      "\n",
      "-Building robust, reusable javascript components\n",
      "\n",
      "\n",
      "-Using HTML tags correctly for seo and analytics\n",
      "\n",
      "30+ \n",
      "============================================================\n",
      "0.94939233043Match Rating\n",
      "software engineer\n",
      "Looking for a company that inspires passion, courage and imagination, where you can be part of the team shaping the future of global commerce? Want to shape how millions of people buy, sell, connect, and share around the world? If you’re interested in joining a purpose driven community that is dedicated to creating an ambitious and inclusive workplace, join eBay – a company you can be proud to be a part of. Are you excited about Big Data, machine learning and large-scale distributed systems? Interested in processing petabytes of data and turning it into products? Are you passionate about big data processing and cloud technologies? Do you enjoy working in a dynamic environment, be part of a world class team making an impact in the industry? If so, look no further, eBay Seattle is the right place for you! Take your career to the next level, come join our team and play a big role driving the next generation data services and solutions at eBay enabling billions in global connected ecommerce. As a valued member of the team at eBay that develops world-class behavior analytics product as well as generate insights through data science, you will make important contributions. Design and build behavioral data insights platform, deliver analytics product, combine qualitative and quantitative data to convince people with your actionable insights thus improve the user experience. Job Requirements Software development for large scale data solution and service People in the team are friendly, highly motivated, and extremely bright. Our team tries to maintain a work climate of professionalism, innovation, career growth, and fun. We provide you with the best opportunity to work in a challenging, highly visible and fast paced environment. Research, prototype, and develop new machine learning / data mining solutions Technical lead for new and existing product initiatives, assist with definition of product direction Define, design, troubleshoot, and debug complex, multi-tier distributed software applications on eBay platform. Estimate engineering effort, plan execution cycles, and rollout system changes. Collaborate with Product Managers, BSA’s, ETL engineers in creating next generation data services platforms Job Requirements 7+ years of experience in software development area with at least 2+ years experience in Big Data technologies like Spark, Hive, HBase etc Experience in a statistical software such as R, PMML and programming languages (Java, Scala etc) Experience in scaling machine learning algorithms in Spark/Hadoop and strong knowledge of statistical models Strong knowledge of cloud technologies, distributed systems programming Extensive SQL & Hadoop knowledge Knowledgeable in Java APIs, REST APIs, Services Architecture Outstanding problem solving skills Outstanding algorithms knowledge Excellent communication skills Lead projects through entire development lifecycle from concept to release Mentor and provide guidance to junior developers in the team Experience with agile and waterfall project development methodologies Experience with Spark, Storm, Kafka is a big plus Basic Qualifications MS in CS or equivalent with 5+ years industry experience Bachelor’s Degree with 7 + years of experience About eBay eBay Inc. (NASDAQ: EBAY) is a global commerce leader including the Marketplace, StubHub and Classifieds platforms. Collectively, we connect millions of buyers and sellers around the world, empowering people and creating opportunity through Connected Commerce. Founded in 1995 in San Jose, Calif., eBay is one of the world’s largest and most vibrant marketplaces for discovering great value and unique selection. Education Masters Degree or Equivalent\n",
      "============================================================\n",
      "0.943955537915Match Rating\n",
      "product manager\n",
      "Uber Overview\n",
      "\n",
      "Uber has already found strong product/market fit with its world-changing service. But it is absolutely day one for us. We’re seeking a small group of unbelievably talented product leaders to define and execute against a giant vision that builds upon what Uber has brought to the world so far.\n",
      "\n",
      "If you have the right stuff to join the Uber Product team, you’ll work among star engineers, designers and product managers in a fast-paced, rapidly growing, hybrid technology/operations environment. We are highly rider-centric and we deeply believe we can innovate our way out of any box. The role demands great technical depth, principled thinking, well honed product judgment, a stubborn refusal to settle, bold innovation, a high design bar and a mentality of starting with the rider and working backwards.\n",
      "\n",
      "Sound like you? Read on...\n",
      "\n",
      "THE ROLE\n",
      "Internalize and deeply understand Uber’s mission and strategies, as well as the mission and objectives of your specific teamDistill vision and strategy for the team, get all members of cross-functional team #superpumped.Be incredibly truth-seeking. Collect whatever data is necessary to inform product direction, whether in the form of competitive intel, rider behavior or other business metrics. Solicit and embrace critical feedback.Drive cross-functional team to set qualitative objectives and quantitative goalsDrive innovation, definition, deliverables planning (roadmap) and design of entirely new Uber products and product features to deliver against team and company goals. Requires challenging all members of cross-functional team (engineering, design, etc.) to think boldly and creatively and then to funnel that energy into concrete products and execution plans.Drive definition of and execution against product go-to-market plan, including phasing and marketing.Monitor and measure launched products and feed learnings back into product development process.Clearly communicate product plans, benefits and results, as appropriate, to a spectrum of audiences, from internal stakeholders to all Uber employees to riders.\n",
      " \n",
      "\n",
      "Qualifications & Requirements\n",
      "A computer science undergraduate degree or equivalent plus hands-on software engineering experience. Technical understanding must go from the highest abstractions down to the metal.2-5 years experience delivering highly successful and innovative consumer Internet products with your fingerprints all over them - you’re extremely proud of what you’ve accomplishedStellar design instincts and product tasteA high bar across the board - from your own contributions to the people you work with to the products you work on.A “driver” personality - biased toward action, great collaborator and master disambiguator/simplifier - constantly pushing toward clarity and delivery.Grittiness. You never hesitate to roll up your sleeves and tackle something hands-on, you persevere when others fall away.Finger-tippiness with data: you just go get the data you need with no muss/fuss and can whip it into an insightful story with no help. You know how to leverage data to make decisions without getting stuck in analysis paralysis.Rider-centricity - examples from your past of tough product challenges that you powered through because you were unwilling to make your problems your riders’ problems.True passion for Uber’s mission and the company’s hybrid technology / operations nature.A never-ending desire to grow and learn.\n",
      " \n",
      "\n",
      "PERKS\n",
      "Employees are showered with Uber credits each month.Ground floor opportunity with the team; shape the strategic direction of the company.The rare opportunity to change the world such that everyone around you is using the product you built. We’re not just another social web app, we’re moving real people and assets and reinventing transportation and logistics globally.Sharp, motivated co-workers in a fun office environment.\n",
      " \n",
      "\n",
      "Benefits (u.s.)\n",
      "401(k) plan, gym reimbursement, nine paid company holidays.Full medical/dental/vision package to fit your needs.Unlimited vacation policy; work hard and take time when you need it.\n",
      " \n",
      "\n",
      "We're bringing Uber to every major city in the world. We need brains and passion to make it happen and to make it happen in style.\n",
      "============================================================\n",
      "0.939829836325Match Rating\n",
      "software developer\n",
      "Want to work on the coolest feature on the Kindle Fire - X-Ray for Movies and TV? We let viewers know who an actor is as they enter a scene, what song is playing (and let them buy it), and show trivia right when it's most interesting, and that's just the beginning. This is an exciting product that is expanding to new areas, new data types and new functionality. Together, we will change the way people watch movies.\n",
      "\n",
      "We are more than doubling our team this year, and building several brand new systems, some of which have an R&D component. We need senior technical leadership that can provide a strong vision, guide design, deliver high quality code quickly and work with teams across the org. and across the company.\n",
      "\n",
      "Are you passionate about the next generation of digital video? Do you want to build innovative features for millions of customers watching hundreds of thousands of video titles worldwide? The Amazon Instant Video (AIV) Time Lords team is offering a truly exceptional opportunity to be a part of a small team working on an industry-leading instant video service.\n",
      "\n",
      "Want to work on interesting engineering problems? We're building out the platform for acquiring and generating time-based data from a variety of sources, including video and audio analysis, machine learning algorithms, crowdsourcing and from partners. We build backend systems that generate timecoded data automatically, front-end UIs to acquire data and do quality control, and services to publish the data.\n",
      "\n",
      "Do you like collaboration? We work with teams across the company, as diverse as Kindle, A9, AWS and IMDb.com to develop the core technologies that drive innovative new products.\n",
      "\n",
      "Amazon Instant Video is used daily by a massive audience on Amazon's websites and through a variety of devices including the Kindle Fire. The AIV team is committed to delivering the highest quality customer experience, from massive selection and intuitive shopping to innovative online and living room viewing experiences. This is a young and evolving business where creativity and drive can have a lasting impact on the way video is enjoyed worldwide.\n",
      "\n",
      "Keywords: AmazonInstantVideoJobs, X-Ray\n",
      "\n",
      " Bachelor’s Degree in Computer Science or related field Equivalent experience to a Bachelor's degree based on 3 years of work experience for every 1 year of education 2+ years professional experience in software development Computer Science fundamentals in object-oriented design Computer Science fundamentals in data structures Computer Science fundamentals in algorithm design, problem solving, and complexity analysis Proficiency in, at least, one modern programming language such as C, C++, Java, or Perl Experience with machine learning, data integration, and/or video analysis. Experience taking a leading role in building complex software systems that have been successfully delivered to customers Knowledge of professional software engineering practices & best practices for the full software development life cycle, including coding standards, code reviews, source control management, build processes, testing, and operations Experience with distributed computing and enterprise-wide systems Experience in communicating with users, other technical teams, and senior management to collect requirements, describe software product features, technical designs, and product strategy Experience mentoring junior software engineers to improve their skills, and make them more effective, product software engineers Experience influencing software engineers best practices within your team Hands-on expertise in many disparate technologies, typically ranging from front-end user interfaces through to back-end systems and all points in between\n"
     ]
    }
   ],
   "source": [
    "getSimilarJobs(57,5,HSsimbook)"
   ]
  },
  {
   "cell_type": "code",
   "execution_count": null,
   "metadata": {
    "collapsed": true
   },
   "outputs": [],
   "source": []
  }
 ],
 "metadata": {
  "anaconda-cloud": {},
  "kernelspec": {
   "display_name": "Python [dsi]",
   "language": "python",
   "name": "Python [dsi]"
  },
  "language_info": {
   "codemirror_mode": {
    "name": "ipython",
    "version": 2
   },
   "file_extension": ".py",
   "mimetype": "text/x-python",
   "name": "python",
   "nbconvert_exporter": "python",
   "pygments_lexer": "ipython2",
   "version": "2.7.12"
  }
 },
 "nbformat": 4,
 "nbformat_minor": 1
}
