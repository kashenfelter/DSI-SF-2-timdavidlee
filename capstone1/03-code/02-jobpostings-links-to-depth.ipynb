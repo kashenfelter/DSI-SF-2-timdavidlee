{
 "cells": [
  {
   "cell_type": "code",
   "execution_count": null,
   "metadata": {
    "collapsed": false
   },
   "outputs": [
    {
     "name": "stdout",
     "output_type": "stream",
     "text": [
      "['_GA_jobdata.json', '_TX_jobdata.json', '_VA_jobdata.json', 'BOS_jobdata.json', 'CHI_jobdata.json', 'LAC_jobdata.json', 'LON_jobdata.json', 'MIN_jobdata.json', 'NYC_jobdata.json', 'PHI_jobdata.json', 'SEA_jobdata.json', 'SFC_jobdata.json', 'SJC_jobdata.json', 'TOR_jobdata.json', 'WDC_jobdata.json']\n",
      "_GA_jobdata.json is open \n"
     ]
    }
   ],
   "source": [
    "\n",
    "from os import listdir\n",
    "import requests\n",
    "import json\n",
    "import time\n",
    "from os.path import isfile, join\n",
    "\n",
    "path_prefix='/Users/tlee010/desktop/dsi-capstone/indeed-api-dump/'\n",
    "folder_location = '/Users/tlee010/desktop/dsi-capstone/indeed-api-dump/01-indeed_links/'\n",
    "#folder_location = '/User/tlee010/'\n",
    "onlyfiles = [f for f in listdir(folder_location) if isfile(join(folder_location,f)) & ('json' in f)]\n",
    "print onlyfiles\n",
    "\n",
    "def getJobDetails(master_json, fileprefix, filename):\n",
    "    all_jobs = {\"job_details\":[]}\n",
    "    i = 0\n",
    "    for x in master_json['processing results']:\n",
    "        for y in x['response']['results']['result']:\n",
    "            webpath = y['url']['$']\n",
    "#            print webpath\n",
    "            try:\n",
    "                response = requests.get(webpath)\n",
    "                HTML = response.text\n",
    "                all_jobs[\"job_details\"].append({\n",
    "                    \"id\":y[\"jobkey\"][\"$\"]\n",
    "                    ,\"url\":y[\"url\"][\"$\"]\n",
    "                    ,\"title\":y[\"jobtitle\"][\"$\"]\n",
    "                    ,\"HTML\":HTML\n",
    "                    ,'filename': filename\n",
    "                })\n",
    "            except:\n",
    "                continue\n",
    "#            time.sleep(3)\n",
    "            i +=1\n",
    "            if i % 200 == 0:\n",
    "                print '%d entry, html response length %d' % (i,len(HTML))\n",
    "            if i % 100 == 0:\n",
    "                savefilename = path_prefix +'02-indeed_job_details/'+fileprefix+'0000'[:-len(str(i))]+str(i)+'_jobdetail.json'\n",
    "                print \"saving then reset. Save file = %s\" %(savefilename)\n",
    "                with open(savefilename, 'w') as outfile:\n",
    "                    json.dump(all_jobs, outfile, filename)\n",
    "                all_jobs = {\"job_details\":[]}\n",
    "\n",
    "for x in onlyfiles:\n",
    "    thisjson = json.load(open(folder_location + x,\"rb\"))\n",
    "    print '%s is open ' % (x)\n",
    "    getJobDetails(thisjson,x[:3],x)\n"
   ]
  },
  {
   "cell_type": "code",
   "execution_count": null,
   "metadata": {
    "collapsed": true
   },
   "outputs": [],
   "source": []
  }
 ],
 "metadata": {
  "anaconda-cloud": {},
  "kernelspec": {
   "display_name": "Python [dsi]",
   "language": "python",
   "name": "Python [dsi]"
  },
  "language_info": {
   "codemirror_mode": {
    "name": "ipython",
    "version": 2
   },
   "file_extension": ".py",
   "mimetype": "text/x-python",
   "name": "python",
   "nbconvert_exporter": "python",
   "pygments_lexer": "ipython2",
   "version": "2.7.12"
  }
 },
 "nbformat": 4,
 "nbformat_minor": 1
}
