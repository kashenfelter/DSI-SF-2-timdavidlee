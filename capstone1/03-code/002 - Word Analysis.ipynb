{
 "cells": [
  {
   "cell_type": "markdown",
   "metadata": {},
   "source": [
    "# Load the data"
   ]
  },
  {
   "cell_type": "code",
   "execution_count": 23,
   "metadata": {
    "collapsed": false
   },
   "outputs": [],
   "source": [
    "import datetime\n",
    "import pandas as pd\n",
    "import numpy as np\n",
    "import cPickle as pickle"
   ]
  },
  {
   "cell_type": "code",
   "execution_count": 24,
   "metadata": {
    "collapsed": false
   },
   "outputs": [],
   "source": [
    "with open('master_total_df.p','rb') as f:\n",
    "    master_total_df = pickle.load(f)"
   ]
  },
  {
   "cell_type": "code",
   "execution_count": 25,
   "metadata": {
    "collapsed": false
   },
   "outputs": [
    {
     "data": {
      "text/html": [
       "<div>\n",
       "<table border=\"1\" class=\"dataframe\">\n",
       "  <thead>\n",
       "    <tr style=\"text-align: right;\">\n",
       "      <th></th>\n",
       "      <th>index</th>\n",
       "      <th>company</th>\n",
       "      <th>jobdesc</th>\n",
       "      <th>city</th>\n",
       "      <th>state</th>\n",
       "      <th>title</th>\n",
       "      <th>sourcesite</th>\n",
       "      <th>views</th>\n",
       "      <th>days_posted</th>\n",
       "      <th>post_start_date</th>\n",
       "      <th>base_title</th>\n",
       "      <th>parsed_title</th>\n",
       "      <th>parsed_title_i</th>\n",
       "      <th>expanded_title</th>\n",
       "      <th>prefix_title</th>\n",
       "    </tr>\n",
       "  </thead>\n",
       "  <tbody>\n",
       "    <tr>\n",
       "      <th>0</th>\n",
       "      <td>0</td>\n",
       "      <td>Advocate Health Care</td>\n",
       "      <td>\\nAs part of Advocate Health Care, Advocate Ch...</td>\n",
       "      <td>Oak Lawn</td>\n",
       "      <td>IL</td>\n",
       "      <td>Clinical Practice Specialist - 4 Hope</td>\n",
       "      <td>ind</td>\n",
       "      <td>0</td>\n",
       "      <td>NaN</td>\n",
       "      <td>NaN</td>\n",
       "      <td>specialist</td>\n",
       "      <td>[clinical, practice, specialist, , , 4, hope]</td>\n",
       "      <td>[2]</td>\n",
       "      <td>practice specialist</td>\n",
       "      <td>practice</td>\n",
       "    </tr>\n",
       "    <tr>\n",
       "      <th>1</th>\n",
       "      <td>1</td>\n",
       "      <td>University of Washington Medical Center</td>\n",
       "      <td>\\nThe University of Washington (UW) is proud t...</td>\n",
       "      <td>Seattle</td>\n",
       "      <td>WA</td>\n",
       "      <td>WEB DEVELOPER</td>\n",
       "      <td>ind</td>\n",
       "      <td>0</td>\n",
       "      <td>NaN</td>\n",
       "      <td>NaN</td>\n",
       "      <td>developer</td>\n",
       "      <td>[web, developer]</td>\n",
       "      <td>[1]</td>\n",
       "      <td>web developer</td>\n",
       "      <td>web</td>\n",
       "    </tr>\n",
       "  </tbody>\n",
       "</table>\n",
       "</div>"
      ],
      "text/plain": [
       "   index                                  company  \\\n",
       "0      0                     Advocate Health Care   \n",
       "1      1  University of Washington Medical Center   \n",
       "\n",
       "                                             jobdesc      city state  \\\n",
       "0  \\nAs part of Advocate Health Care, Advocate Ch...  Oak Lawn    IL   \n",
       "1  \\nThe University of Washington (UW) is proud t...   Seattle    WA   \n",
       "\n",
       "                                   title sourcesite  views days_posted  \\\n",
       "0  Clinical Practice Specialist - 4 Hope        ind      0         NaN   \n",
       "1                          WEB DEVELOPER        ind      0         NaN   \n",
       "\n",
       "  post_start_date  base_title                                   parsed_title  \\\n",
       "0             NaN  specialist  [clinical, practice, specialist, , , 4, hope]   \n",
       "1             NaN   developer                               [web, developer]   \n",
       "\n",
       "  parsed_title_i       expanded_title prefix_title  \n",
       "0            [2]  practice specialist     practice  \n",
       "1            [1]        web developer          web  "
      ]
     },
     "execution_count": 25,
     "metadata": {},
     "output_type": "execute_result"
    }
   ],
   "source": [
    "master_total_df.head(2)"
   ]
  },
  {
   "cell_type": "markdown",
   "metadata": {},
   "source": [
    "# Look at the number of views(regression) / or if they have views at all (classification)"
   ]
  },
  {
   "cell_type": "code",
   "execution_count": 9,
   "metadata": {
    "collapsed": false,
    "scrolled": true
   },
   "outputs": [
    {
     "data": {
      "text/plain": [
       "count    8038.000000\n",
       "mean      122.009579\n",
       "std       373.737292\n",
       "min         0.000000\n",
       "25%         0.000000\n",
       "50%         0.000000\n",
       "75%        98.000000\n",
       "max      7696.000000\n",
       "Name: views, dtype: float64"
      ]
     },
     "execution_count": 9,
     "metadata": {},
     "output_type": "execute_result"
    }
   ],
   "source": [
    "master_total_df[master_total_df.sourcesite =='lnk']['views'].describe()"
   ]
  },
  {
   "cell_type": "code",
   "execution_count": 16,
   "metadata": {
    "collapsed": false
   },
   "outputs": [
    {
     "data": {
      "text/plain": [
       "(array([ 398.,    0.,  132.,    0.,    0.,   61.,    0.,   47.,    0.,\n",
       "           0.,   46.,    0.,   26.,    0.,    0.,   29.,    0.,   21.,\n",
       "           0.,    0.,   17.,    0.,   16.,    0.,    0.,   23.,    0.,\n",
       "          15.,    0.,    0.,    9.,    0.,    8.,    0.,    0.,    8.,\n",
       "           0.,    6.,    0.,    0.,    3.,    0.,    1.,    0.,    0.,\n",
       "           3.,    0.,    1.,    0.,    2.]),\n",
       " array([  1. ,   1.4,   1.8,   2.2,   2.6,   3. ,   3.4,   3.8,   4.2,\n",
       "          4.6,   5. ,   5.4,   5.8,   6.2,   6.6,   7. ,   7.4,   7.8,\n",
       "          8.2,   8.6,   9. ,   9.4,   9.8,  10.2,  10.6,  11. ,  11.4,\n",
       "         11.8,  12.2,  12.6,  13. ,  13.4,  13.8,  14.2,  14.6,  15. ,\n",
       "         15.4,  15.8,  16.2,  16.6,  17. ,  17.4,  17.8,  18.2,  18.6,\n",
       "         19. ,  19.4,  19.8,  20.2,  20.6,  21. ]),\n",
       " <a list of 50 Patch objects>)"
      ]
     },
     "execution_count": 16,
     "metadata": {},
     "output_type": "execute_result"
    },
    {
     "data": {
      "image/png": "[encoded data removed]",
      "text/plain": [
       "<matplotlib.figure.Figure at 0x11c710110>"
      ]
     },
     "metadata": {},
     "output_type": "display_data"
    }
   ],
   "source": [
    "import matplotlib.pyplot as plt\n",
    "% matplotlib inline\n",
    "summary = master_total_df[master_total_df.sourcesite =='lnk']['views'].value_counts()\n",
    "fig, ax = plt.subplots(figsize=(12,5))\n",
    "ax.hist(summary[summary<1000], bins=50)\n",
    "ax.axes()"
   ]
  },
  {
   "cell_type": "code",
   "execution_count": null,
   "metadata": {
    "collapsed": false
   },
   "outputs": [],
   "source": []
  },
  {
   "cell_type": "code",
   "execution_count": 11,
   "metadata": {
    "collapsed": false,
    "scrolled": true
   },
   "outputs": [
    {
     "data": {
      "text/plain": [
       "3169"
      ]
     },
     "execution_count": 11,
     "metadata": {},
     "output_type": "execute_result"
    }
   ],
   "source": [
    "# how many have views\n",
    "summary[summary.index>=1].sum()"
   ]
  },
  {
   "cell_type": "code",
   "execution_count": 12,
   "metadata": {
    "collapsed": false
   },
   "outputs": [
    {
     "data": {
      "text/plain": [
       "4869"
      ]
     },
     "execution_count": 12,
     "metadata": {},
     "output_type": "execute_result"
    }
   ],
   "source": [
    "# how many don't\n",
    "summary[summary.index==0].sum()"
   ]
  },
  {
   "cell_type": "markdown",
   "metadata": {},
   "source": [
    "# Do Word Analysis"
   ]
  },
  {
   "cell_type": "code",
   "execution_count": 41,
   "metadata": {
    "collapsed": false
   },
   "outputs": [],
   "source": [
    "master_sample = master_total_df[master_total_df.sourcesite =='lnk'].head(7000)\n",
    "all_text = master_sample['jobdesc']"
   ]
  },
  {
   "cell_type": "code",
   "execution_count": 42,
   "metadata": {
    "collapsed": false
   },
   "outputs": [
    {
     "data": {
      "text/plain": [
       "14669    Python/SQL Analyst\\n\\nData Analysts capable of...\n",
       "14670    The Broad Institute of Harvard and MIT is look...\n",
       "14671    Stripe’s people are its most valuable resource...\n",
       "14672    Facebook was built to help people connect and ...\n",
       "14673    Description\\n\\nYou believe data can help resha...\n",
       "14674    What We're Looking For:   Do you want to be a ...\n",
       "14675    Accountabilities\\n• Lead cutting edge research...\n",
       "14676    This position as a Business Analyst IV is with...\n",
       "14677    The Institute Research Investigator in Systems...\n",
       "14678    If you are a Full Stack Developer with experie...\n",
       "Name: jobdesc, dtype: object"
      ]
     },
     "execution_count": 42,
     "metadata": {},
     "output_type": "execute_result"
    }
   ],
   "source": [
    "all_text.head(10)"
   ]
  },
  {
   "cell_type": "code",
   "execution_count": 43,
   "metadata": {
    "collapsed": false,
    "scrolled": false
   },
   "outputs": [],
   "source": [
    "# # cleaning all data for unicode for spacy\n",
    "# uni_all_text = []\n",
    "# i = 0\n",
    "# for x in all_text:\n",
    "#     i+=1\n",
    "#     if i % 100==0:\n",
    "#         print i,\n",
    "#     local = []\n",
    "#     for a in x:\n",
    "#         try:\n",
    "#             local.append(unicode(a))\n",
    "#         except:\n",
    "#             continue\n",
    "#     uni_all_text.append(unicode(''.join(local)))\n"
   ]
  },
  {
   "cell_type": "code",
   "execution_count": 44,
   "metadata": {
    "collapsed": false,
    "scrolled": false
   },
   "outputs": [],
   "source": [
    "# # parts of speech\n",
    "# for a in uni_all_text[0:1]:\n",
    "#     y = parser(a)\n",
    "#     for i,b in enumerate(y.sents):\n",
    "#         print b\n",
    "#         sent = [y[i] for i in range(b.start, b.end)]\n",
    "#         for i, c in enumerate(sent) :\n",
    "#             print c.orth_, c.pos_"
   ]
  },
  {
   "cell_type": "code",
   "execution_count": 45,
   "metadata": {
    "collapsed": false
   },
   "outputs": [
    {
     "name": "stdout",
     "output_type": "stream",
     "text": [
      "0:00:00.165691\n",
      "0:00:00.344924\n"
     ]
    }
   ],
   "source": [
    "from sklearn.feature_extraction.text import TfidfVectorizer, CountVectorizer\n",
    "text = all_text\n",
    "cvec = CountVectorizer(stop_words='english', decode_error='ignore', encoding='utf-8',lowercase=True,ngram_range=(2,2))\n",
    "start_time = datetime.datetime.now()\n",
    "cvec.fit(text)\n",
    "print (datetime.datetime.now() - start_time)/60\n",
    "\n",
    "cdf  = pd.DataFrame(cvec.transform(text).todense(),\n",
    "             columns=cvec.get_feature_names())\n",
    "print (datetime.datetime.now() - start_time)/60"
   ]
  },
  {
   "cell_type": "code",
   "execution_count": 48,
   "metadata": {
    "collapsed": false,
    "scrolled": true
   },
   "outputs": [
    {
     "name": "stdout",
     "output_type": "stream",
     "text": [
      "machine learning         5204\n",
      "years experience         3639\n",
      "computer science         3395\n",
      "big data                 3130\n",
      "business analyst         2996\n",
      "data science             2621\n",
      "communication skills     2514\n",
      "bachelor degree          2218\n",
      "equal opportunity        1958\n",
      "software development     1688\n",
      "experience working       1677\n",
      "problem solving          1670\n",
      "large scale              1622\n",
      "project management       1583\n",
      "national origin          1505\n",
      "opportunity employer     1447\n",
      "sexual orientation       1446\n",
      "fast paced               1425\n",
      "data analysis            1424\n",
      "business requirements    1416\n",
      "ability work             1401\n",
      "veteran status           1345\n",
      "skills ability           1320\n",
      "related field            1311\n",
      "race color               1299\n",
      "gender identity          1265\n",
      "data mining              1257\n",
      "cross functional         1252\n",
      "data analytics           1221\n",
      "best practices           1137\n",
      "dtype: int64\n",
      "0:00:02.585181\n"
     ]
    }
   ],
   "source": [
    "start_time = datetime.datetime.now()\n",
    "summary = cdf.sum().sort_values(ascending=False)"
   ]
  },
  {
   "cell_type": "code",
   "execution_count": 49,
   "metadata": {
    "collapsed": false
   },
   "outputs": [
    {
     "name": "stdout",
     "output_type": "stream",
     "text": [
      "machine learning         5204\n",
      "years experience         3639\n",
      "computer science         3395\n",
      "big data                 3130\n",
      "business analyst         2996\n",
      "data science             2621\n",
      "communication skills     2514\n",
      "bachelor degree          2218\n",
      "equal opportunity        1958\n",
      "software development     1688\n",
      "experience working       1677\n",
      "problem solving          1670\n",
      "large scale              1622\n",
      "project management       1583\n",
      "national origin          1505\n",
      "opportunity employer     1447\n",
      "sexual orientation       1446\n",
      "fast paced               1425\n",
      "data analysis            1424\n",
      "business requirements    1416\n",
      "ability work             1401\n",
      "veteran status           1345\n",
      "skills ability           1320\n",
      "related field            1311\n",
      "race color               1299\n",
      "gender identity          1265\n",
      "data mining              1257\n",
      "cross functional         1252\n",
      "data analytics           1221\n",
      "best practices           1137\n",
      "dtype: int64\n",
      "0:00:02.661320\n"
     ]
    }
   ],
   "source": [
    "print  summary.head(30)\n",
    "print (datetime.datetime.now() - start_time)/60"
   ]
  },
  {
   "cell_type": "markdown",
   "metadata": {},
   "source": [
    "# what features could be used for a matrix"
   ]
  },
  {
   "cell_type": "code",
   "execution_count": 47,
   "metadata": {
    "collapsed": false,
    "scrolled": true
   },
   "outputs": [
    {
     "name": "stdout",
     "output_type": "stream",
     "text": [
      "590502\n",
      "73260\n",
      "169973\n",
      "347269\n"
     ]
    }
   ],
   "source": [
    "print summary.count()\n",
    "threshold = 5\n",
    "print summary[summary >=threshold].count()\n",
    "print summary[(summary < threshold) & (summary > 1)].count()\n",
    "print summary[summary == 1].count()"
   ]
  },
  {
   "cell_type": "code",
   "execution_count": null,
   "metadata": {
    "collapsed": true
   },
   "outputs": [],
   "source": []
  },
  {
   "cell_type": "markdown",
   "metadata": {},
   "source": [
    "## "
   ]
  },
  {
   "cell_type": "code",
   "execution_count": 231,
   "metadata": {
    "collapsed": false
   },
   "outputs": [
    {
     "data": {
      "text/plain": [
       "array([u'years experience', u'communication skills', u'bachelor degree',\n",
       "       ..., u'engineering related fields', u'implement improvements',\n",
       "       u'status age characteristic'], dtype=object)"
      ]
     },
     "execution_count": 231,
     "metadata": {},
     "output_type": "execute_result"
    }
   ],
   "source": [
    "keep_columns = summary[summary >=threshold].index.values\n",
    "keep_columns"
   ]
  },
  {
   "cell_type": "code",
   "execution_count": 232,
   "metadata": {
    "collapsed": false
   },
   "outputs": [
    {
     "data": {
      "text/html": [
       "<div>\n",
       "<table border=\"1\" class=\"dataframe\">\n",
       "  <thead>\n",
       "    <tr style=\"text-align: right;\">\n",
       "      <th></th>\n",
       "      <th>years experience</th>\n",
       "      <th>communication skills</th>\n",
       "      <th>bachelor degree</th>\n",
       "      <th>business analyst</th>\n",
       "      <th>computer science</th>\n",
       "      <th>problem solving</th>\n",
       "      <th>ability work</th>\n",
       "      <th>experience working</th>\n",
       "      <th>equal opportunity</th>\n",
       "      <th>big data</th>\n",
       "      <th>...</th>\n",
       "      <th>concepts techniques</th>\n",
       "      <th>acceptance testing new</th>\n",
       "      <th>warehouse etl</th>\n",
       "      <th>business analysis reporting</th>\n",
       "      <th>engineering strong</th>\n",
       "      <th>skills successful candidate</th>\n",
       "      <th>level clearance</th>\n",
       "      <th>engineering related fields</th>\n",
       "      <th>implement improvements</th>\n",
       "      <th>status age characteristic</th>\n",
       "    </tr>\n",
       "  </thead>\n",
       "  <tbody>\n",
       "    <tr>\n",
       "      <th>0</th>\n",
       "      <td>0</td>\n",
       "      <td>0</td>\n",
       "      <td>0</td>\n",
       "      <td>0</td>\n",
       "      <td>0</td>\n",
       "      <td>0</td>\n",
       "      <td>2</td>\n",
       "      <td>0</td>\n",
       "      <td>0</td>\n",
       "      <td>0</td>\n",
       "      <td>...</td>\n",
       "      <td>0</td>\n",
       "      <td>0</td>\n",
       "      <td>0</td>\n",
       "      <td>0</td>\n",
       "      <td>0</td>\n",
       "      <td>0</td>\n",
       "      <td>0</td>\n",
       "      <td>0</td>\n",
       "      <td>0</td>\n",
       "      <td>0</td>\n",
       "    </tr>\n",
       "    <tr>\n",
       "      <th>1</th>\n",
       "      <td>1</td>\n",
       "      <td>1</td>\n",
       "      <td>1</td>\n",
       "      <td>0</td>\n",
       "      <td>1</td>\n",
       "      <td>1</td>\n",
       "      <td>1</td>\n",
       "      <td>0</td>\n",
       "      <td>1</td>\n",
       "      <td>0</td>\n",
       "      <td>...</td>\n",
       "      <td>0</td>\n",
       "      <td>0</td>\n",
       "      <td>0</td>\n",
       "      <td>0</td>\n",
       "      <td>0</td>\n",
       "      <td>0</td>\n",
       "      <td>0</td>\n",
       "      <td>0</td>\n",
       "      <td>0</td>\n",
       "      <td>0</td>\n",
       "    </tr>\n",
       "    <tr>\n",
       "      <th>2</th>\n",
       "      <td>0</td>\n",
       "      <td>1</td>\n",
       "      <td>1</td>\n",
       "      <td>0</td>\n",
       "      <td>0</td>\n",
       "      <td>1</td>\n",
       "      <td>2</td>\n",
       "      <td>0</td>\n",
       "      <td>1</td>\n",
       "      <td>0</td>\n",
       "      <td>...</td>\n",
       "      <td>0</td>\n",
       "      <td>0</td>\n",
       "      <td>0</td>\n",
       "      <td>0</td>\n",
       "      <td>0</td>\n",
       "      <td>0</td>\n",
       "      <td>0</td>\n",
       "      <td>0</td>\n",
       "      <td>0</td>\n",
       "      <td>0</td>\n",
       "    </tr>\n",
       "    <tr>\n",
       "      <th>3</th>\n",
       "      <td>1</td>\n",
       "      <td>0</td>\n",
       "      <td>0</td>\n",
       "      <td>0</td>\n",
       "      <td>1</td>\n",
       "      <td>0</td>\n",
       "      <td>0</td>\n",
       "      <td>0</td>\n",
       "      <td>0</td>\n",
       "      <td>0</td>\n",
       "      <td>...</td>\n",
       "      <td>0</td>\n",
       "      <td>0</td>\n",
       "      <td>0</td>\n",
       "      <td>0</td>\n",
       "      <td>0</td>\n",
       "      <td>0</td>\n",
       "      <td>0</td>\n",
       "      <td>0</td>\n",
       "      <td>0</td>\n",
       "      <td>0</td>\n",
       "    </tr>\n",
       "    <tr>\n",
       "      <th>4</th>\n",
       "      <td>0</td>\n",
       "      <td>1</td>\n",
       "      <td>1</td>\n",
       "      <td>1</td>\n",
       "      <td>1</td>\n",
       "      <td>1</td>\n",
       "      <td>0</td>\n",
       "      <td>0</td>\n",
       "      <td>1</td>\n",
       "      <td>0</td>\n",
       "      <td>...</td>\n",
       "      <td>0</td>\n",
       "      <td>0</td>\n",
       "      <td>0</td>\n",
       "      <td>0</td>\n",
       "      <td>0</td>\n",
       "      <td>0</td>\n",
       "      <td>0</td>\n",
       "      <td>0</td>\n",
       "      <td>0</td>\n",
       "      <td>0</td>\n",
       "    </tr>\n",
       "    <tr>\n",
       "      <th>5</th>\n",
       "      <td>0</td>\n",
       "      <td>0</td>\n",
       "      <td>0</td>\n",
       "      <td>0</td>\n",
       "      <td>0</td>\n",
       "      <td>1</td>\n",
       "      <td>0</td>\n",
       "      <td>0</td>\n",
       "      <td>0</td>\n",
       "      <td>0</td>\n",
       "      <td>...</td>\n",
       "      <td>0</td>\n",
       "      <td>0</td>\n",
       "      <td>0</td>\n",
       "      <td>0</td>\n",
       "      <td>0</td>\n",
       "      <td>0</td>\n",
       "      <td>0</td>\n",
       "      <td>0</td>\n",
       "      <td>0</td>\n",
       "      <td>0</td>\n",
       "    </tr>\n",
       "    <tr>\n",
       "      <th>6</th>\n",
       "      <td>1</td>\n",
       "      <td>0</td>\n",
       "      <td>0</td>\n",
       "      <td>0</td>\n",
       "      <td>1</td>\n",
       "      <td>0</td>\n",
       "      <td>0</td>\n",
       "      <td>0</td>\n",
       "      <td>0</td>\n",
       "      <td>0</td>\n",
       "      <td>...</td>\n",
       "      <td>0</td>\n",
       "      <td>0</td>\n",
       "      <td>0</td>\n",
       "      <td>0</td>\n",
       "      <td>0</td>\n",
       "      <td>0</td>\n",
       "      <td>0</td>\n",
       "      <td>0</td>\n",
       "      <td>0</td>\n",
       "      <td>0</td>\n",
       "    </tr>\n",
       "    <tr>\n",
       "      <th>7</th>\n",
       "      <td>0</td>\n",
       "      <td>0</td>\n",
       "      <td>0</td>\n",
       "      <td>1</td>\n",
       "      <td>0</td>\n",
       "      <td>1</td>\n",
       "      <td>0</td>\n",
       "      <td>0</td>\n",
       "      <td>1</td>\n",
       "      <td>0</td>\n",
       "      <td>...</td>\n",
       "      <td>0</td>\n",
       "      <td>0</td>\n",
       "      <td>0</td>\n",
       "      <td>0</td>\n",
       "      <td>0</td>\n",
       "      <td>0</td>\n",
       "      <td>0</td>\n",
       "      <td>0</td>\n",
       "      <td>0</td>\n",
       "      <td>0</td>\n",
       "    </tr>\n",
       "    <tr>\n",
       "      <th>8</th>\n",
       "      <td>1</td>\n",
       "      <td>1</td>\n",
       "      <td>1</td>\n",
       "      <td>0</td>\n",
       "      <td>1</td>\n",
       "      <td>0</td>\n",
       "      <td>1</td>\n",
       "      <td>0</td>\n",
       "      <td>1</td>\n",
       "      <td>2</td>\n",
       "      <td>...</td>\n",
       "      <td>0</td>\n",
       "      <td>0</td>\n",
       "      <td>0</td>\n",
       "      <td>0</td>\n",
       "      <td>0</td>\n",
       "      <td>0</td>\n",
       "      <td>0</td>\n",
       "      <td>0</td>\n",
       "      <td>0</td>\n",
       "      <td>0</td>\n",
       "    </tr>\n",
       "    <tr>\n",
       "      <th>9</th>\n",
       "      <td>1</td>\n",
       "      <td>0</td>\n",
       "      <td>0</td>\n",
       "      <td>1</td>\n",
       "      <td>1</td>\n",
       "      <td>0</td>\n",
       "      <td>0</td>\n",
       "      <td>0</td>\n",
       "      <td>1</td>\n",
       "      <td>0</td>\n",
       "      <td>...</td>\n",
       "      <td>0</td>\n",
       "      <td>0</td>\n",
       "      <td>0</td>\n",
       "      <td>0</td>\n",
       "      <td>0</td>\n",
       "      <td>0</td>\n",
       "      <td>0</td>\n",
       "      <td>0</td>\n",
       "      <td>0</td>\n",
       "      <td>0</td>\n",
       "    </tr>\n",
       "  </tbody>\n",
       "</table>\n",
       "<p>10 rows × 26689 columns</p>\n",
       "</div>"
      ],
      "text/plain": [
       "   years experience  communication skills  bachelor degree  business analyst  \\\n",
       "0                 0                     0                0                 0   \n",
       "1                 1                     1                1                 0   \n",
       "2                 0                     1                1                 0   \n",
       "3                 1                     0                0                 0   \n",
       "4                 0                     1                1                 1   \n",
       "5                 0                     0                0                 0   \n",
       "6                 1                     0                0                 0   \n",
       "7                 0                     0                0                 1   \n",
       "8                 1                     1                1                 0   \n",
       "9                 1                     0                0                 1   \n",
       "\n",
       "   computer science  problem solving  ability work  experience working  \\\n",
       "0                 0                0             2                   0   \n",
       "1                 1                1             1                   0   \n",
       "2                 0                1             2                   0   \n",
       "3                 1                0             0                   0   \n",
       "4                 1                1             0                   0   \n",
       "5                 0                1             0                   0   \n",
       "6                 1                0             0                   0   \n",
       "7                 0                1             0                   0   \n",
       "8                 1                0             1                   0   \n",
       "9                 1                0             0                   0   \n",
       "\n",
       "   equal opportunity  big data            ...              \\\n",
       "0                  0         0            ...               \n",
       "1                  1         0            ...               \n",
       "2                  1         0            ...               \n",
       "3                  0         0            ...               \n",
       "4                  1         0            ...               \n",
       "5                  0         0            ...               \n",
       "6                  0         0            ...               \n",
       "7                  1         0            ...               \n",
       "8                  1         2            ...               \n",
       "9                  1         0            ...               \n",
       "\n",
       "   concepts techniques  acceptance testing new  warehouse etl  \\\n",
       "0                    0                       0              0   \n",
       "1                    0                       0              0   \n",
       "2                    0                       0              0   \n",
       "3                    0                       0              0   \n",
       "4                    0                       0              0   \n",
       "5                    0                       0              0   \n",
       "6                    0                       0              0   \n",
       "7                    0                       0              0   \n",
       "8                    0                       0              0   \n",
       "9                    0                       0              0   \n",
       "\n",
       "   business analysis reporting  engineering strong  \\\n",
       "0                            0                   0   \n",
       "1                            0                   0   \n",
       "2                            0                   0   \n",
       "3                            0                   0   \n",
       "4                            0                   0   \n",
       "5                            0                   0   \n",
       "6                            0                   0   \n",
       "7                            0                   0   \n",
       "8                            0                   0   \n",
       "9                            0                   0   \n",
       "\n",
       "   skills successful candidate  level clearance  engineering related fields  \\\n",
       "0                            0                0                           0   \n",
       "1                            0                0                           0   \n",
       "2                            0                0                           0   \n",
       "3                            0                0                           0   \n",
       "4                            0                0                           0   \n",
       "5                            0                0                           0   \n",
       "6                            0                0                           0   \n",
       "7                            0                0                           0   \n",
       "8                            0                0                           0   \n",
       "9                            0                0                           0   \n",
       "\n",
       "   implement improvements  status age characteristic  \n",
       "0                       0                          0  \n",
       "1                       0                          0  \n",
       "2                       0                          0  \n",
       "3                       0                          0  \n",
       "4                       0                          0  \n",
       "5                       0                          0  \n",
       "6                       0                          0  \n",
       "7                       0                          0  \n",
       "8                       0                          0  \n",
       "9                       0                          0  \n",
       "\n",
       "[10 rows x 26689 columns]"
      ]
     },
     "execution_count": 232,
     "metadata": {},
     "output_type": "execute_result"
    }
   ],
   "source": [
    "cdf[keep_columns].head(10)"
   ]
  },
  {
   "cell_type": "code",
   "execution_count": 233,
   "metadata": {
    "collapsed": false
   },
   "outputs": [],
   "source": [
    "start_time = datetime.datetime.now()\n",
    "keep_cdf = cdf[keep_columns]\n",
    "print (datetime.datetime.now() - start_time)/60"
   ]
  },
  {
   "cell_type": "code",
   "execution_count": 247,
   "metadata": {
    "collapsed": false
   },
   "outputs": [
    {
     "name": "stdout",
     "output_type": "stream",
     "text": [
      "0:00:00.222657\n"
     ]
    }
   ],
   "source": [
    "from sklearn.cluster import KMeans\n",
    "kmeans = KMeans(n_clusters=6)\n",
    "start_time = datetime.datetime.now()\n",
    "kmeans.fit(keep_cdf)\n",
    "print (datetime.datetime.now() - start_time)/60\n"
   ]
  },
  {
   "cell_type": "code",
   "execution_count": 248,
   "metadata": {
    "collapsed": false
   },
   "outputs": [
    {
     "name": "stdout",
     "output_type": "stream",
     "text": [
      "2000\n"
     ]
    },
    {
     "data": {
      "text/plain": [
       "0    1681\n",
       "5     286\n",
       "2      17\n",
       "3       8\n",
       "1       6\n",
       "4       2\n",
       "Name: 0, dtype: int64"
      ]
     },
     "execution_count": 248,
     "metadata": {},
     "output_type": "execute_result"
    }
   ],
   "source": [
    "labels = kmeans.labels_\n",
    "centroids = kmeans.cluster_centers_\n",
    "print len(labels)\n",
    "df = pd.DataFrame(labels)\n",
    "df[0].value_counts()\n"
   ]
  },
  {
   "cell_type": "code",
   "execution_count": 245,
   "metadata": {
    "collapsed": false
   },
   "outputs": [
    {
     "name": "stderr",
     "output_type": "stream",
     "text": [
      "/usr/local/lib/python2.7/site-packages/ipykernel/__main__.py:1: SettingWithCopyWarning: \n",
      "A value is trying to be set on a copy of a slice from a DataFrame.\n",
      "Try using .loc[row_indexer,col_indexer] = value instead\n",
      "\n",
      "See the caveats in the documentation: http://pandas.pydata.org/pandas-docs/stable/indexing.html#indexing-view-versus-copy\n",
      "  if __name__ == '__main__':\n"
     ]
    }
   ],
   "source": [
    "master_sample['cluster'] = labels"
   ]
  },
  {
   "cell_type": "code",
   "execution_count": 246,
   "metadata": {
    "collapsed": false
   },
   "outputs": [
    {
     "data": {
      "text/html": [
       "<div>\n",
       "<table border=\"1\" class=\"dataframe\">\n",
       "  <thead>\n",
       "    <tr style=\"text-align: right;\">\n",
       "      <th></th>\n",
       "      <th>index</th>\n",
       "      <th>company</th>\n",
       "      <th>jobdesc</th>\n",
       "      <th>city</th>\n",
       "      <th>state</th>\n",
       "      <th>title</th>\n",
       "      <th>base_title</th>\n",
       "      <th>parsed_title</th>\n",
       "      <th>parsed_title_i</th>\n",
       "      <th>expanded_title</th>\n",
       "      <th>prefix_title</th>\n",
       "      <th>cluster</th>\n",
       "    </tr>\n",
       "  </thead>\n",
       "  <tbody>\n",
       "    <tr>\n",
       "      <th>0</th>\n",
       "      <td>0</td>\n",
       "      <td>Advocate Health Care</td>\n",
       "      <td>\\nAs part of Advocate Health Care, Advocate Ch...</td>\n",
       "      <td>Oak Lawn</td>\n",
       "      <td>IL</td>\n",
       "      <td>Clinical Practice Specialist - 4 Hope</td>\n",
       "      <td>specialist</td>\n",
       "      <td>[clinical, practice, specialist, , , 4, hope]</td>\n",
       "      <td>[2]</td>\n",
       "      <td>practice specialist</td>\n",
       "      <td>practice</td>\n",
       "      <td>0</td>\n",
       "    </tr>\n",
       "    <tr>\n",
       "      <th>1</th>\n",
       "      <td>1</td>\n",
       "      <td>University of Washington Medical Center</td>\n",
       "      <td>\\nThe University of Washington (UW) is proud t...</td>\n",
       "      <td>Seattle</td>\n",
       "      <td>WA</td>\n",
       "      <td>WEB DEVELOPER</td>\n",
       "      <td>developer</td>\n",
       "      <td>[web, developer]</td>\n",
       "      <td>[1]</td>\n",
       "      <td>web developer</td>\n",
       "      <td>web</td>\n",
       "      <td>0</td>\n",
       "    </tr>\n",
       "    <tr>\n",
       "      <th>2</th>\n",
       "      <td>2</td>\n",
       "      <td>Macy's</td>\n",
       "      <td>\\nJob Overview:\\n\\n\\nThe Analyst, Marketing An...</td>\n",
       "      <td>New York</td>\n",
       "      <td>NY</td>\n",
       "      <td>Analyst, Marketing Analytics</td>\n",
       "      <td>analyst</td>\n",
       "      <td>[analyst, , marketing, analytics]</td>\n",
       "      <td>[0]</td>\n",
       "      <td>analyst</td>\n",
       "      <td>analyst</td>\n",
       "      <td>0</td>\n",
       "    </tr>\n",
       "    <tr>\n",
       "      <th>3</th>\n",
       "      <td>3</td>\n",
       "      <td>Skyport Systems</td>\n",
       "      <td>\\nSkyport Systems is developing groundbreaking...</td>\n",
       "      <td>Mountain View</td>\n",
       "      <td>CA</td>\n",
       "      <td>Data Engineer</td>\n",
       "      <td>engineer</td>\n",
       "      <td>[data, engineer]</td>\n",
       "      <td>[1]</td>\n",
       "      <td>data engineer</td>\n",
       "      <td>data</td>\n",
       "      <td>0</td>\n",
       "    </tr>\n",
       "    <tr>\n",
       "      <th>4</th>\n",
       "      <td>4</td>\n",
       "      <td>Command Alkon</td>\n",
       "      <td>\\nCommand Alkon, a global leader in integrated...</td>\n",
       "      <td>Oak Brook</td>\n",
       "      <td>IL</td>\n",
       "      <td>Application Implementation Specialist</td>\n",
       "      <td>specialist</td>\n",
       "      <td>[application, implementation, specialist]</td>\n",
       "      <td>[2]</td>\n",
       "      <td>implementation specialist</td>\n",
       "      <td>implementation</td>\n",
       "      <td>0</td>\n",
       "    </tr>\n",
       "  </tbody>\n",
       "</table>\n",
       "</div>"
      ],
      "text/plain": [
       "   index                                  company  \\\n",
       "0      0                     Advocate Health Care   \n",
       "1      1  University of Washington Medical Center   \n",
       "2      2                                   Macy's   \n",
       "3      3                          Skyport Systems   \n",
       "4      4                            Command Alkon   \n",
       "\n",
       "                                             jobdesc           city state  \\\n",
       "0  \\nAs part of Advocate Health Care, Advocate Ch...       Oak Lawn    IL   \n",
       "1  \\nThe University of Washington (UW) is proud t...        Seattle    WA   \n",
       "2  \\nJob Overview:\\n\\n\\nThe Analyst, Marketing An...       New York    NY   \n",
       "3  \\nSkyport Systems is developing groundbreaking...  Mountain View    CA   \n",
       "4  \\nCommand Alkon, a global leader in integrated...      Oak Brook    IL   \n",
       "\n",
       "                                   title  base_title  \\\n",
       "0  Clinical Practice Specialist - 4 Hope  specialist   \n",
       "1                          WEB DEVELOPER   developer   \n",
       "2           Analyst, Marketing Analytics     analyst   \n",
       "3                          Data Engineer    engineer   \n",
       "4  Application Implementation Specialist  specialist   \n",
       "\n",
       "                                    parsed_title parsed_title_i  \\\n",
       "0  [clinical, practice, specialist, , , 4, hope]            [2]   \n",
       "1                               [web, developer]            [1]   \n",
       "2              [analyst, , marketing, analytics]            [0]   \n",
       "3                               [data, engineer]            [1]   \n",
       "4      [application, implementation, specialist]            [2]   \n",
       "\n",
       "              expanded_title    prefix_title  cluster  \n",
       "0        practice specialist        practice        0  \n",
       "1              web developer             web        0  \n",
       "2                    analyst         analyst        0  \n",
       "3              data engineer            data        0  \n",
       "4  implementation specialist  implementation        0  "
      ]
     },
     "execution_count": 246,
     "metadata": {},
     "output_type": "execute_result"
    }
   ],
   "source": [
    "master_sample.head()"
   ]
  },
  {
   "cell_type": "code",
   "execution_count": null,
   "metadata": {
    "collapsed": true
   },
   "outputs": [],
   "source": []
  }
 ],
 "metadata": {
  "anaconda-cloud": {},
  "kernelspec": {
   "display_name": "Python [dsi]",
   "language": "python",
   "name": "Python [dsi]"
  },
  "language_info": {
   "codemirror_mode": {
    "name": "ipython",
    "version": 2
   },
   "file_extension": ".py",
   "mimetype": "text/x-python",
   "name": "python",
   "nbconvert_exporter": "python",
   "pygments_lexer": "ipython2",
   "version": "2.7.12"
  }
 },
 "nbformat": 4,
 "nbformat_minor": 1
}
