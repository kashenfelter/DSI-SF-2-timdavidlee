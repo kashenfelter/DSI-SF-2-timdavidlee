{
 "cells": [
  {
   "cell_type": "markdown",
   "metadata": {},
   "source": [
    "# Logistic Regression - to predict Titles"
   ]
  },
  {
   "cell_type": "code",
   "execution_count": 1,
   "metadata": {
    "collapsed": false
   },
   "outputs": [
    {
     "ename": "SyntaxError",
     "evalue": "invalid syntax (<ipython-input-1-965ff78aa097>, line 9)",
     "output_type": "error",
     "traceback": [
      "\u001b[0;36m  File \u001b[0;32m\"<ipython-input-1-965ff78aa097>\"\u001b[0;36m, line \u001b[0;32m9\u001b[0m\n\u001b[0;31m    from sklearn.model_selection import\u001b[0m\n\u001b[0m                                        ^\u001b[0m\n\u001b[0;31mSyntaxError\u001b[0m\u001b[0;31m:\u001b[0m invalid syntax\n"
     ]
    }
   ],
   "source": [
    "#load the data\n",
    "import datetime\n",
    "import pandas as pd\n",
    "import numpy as np\n",
    "import cPickle as pickle\n",
    "import patsy\n",
    "import unidecode\n",
    "\n",
    "from sklearn.model_selection import GridSearchCV\n",
    "from sklearn.preprocessing import MultiLabelBinarizer\n",
    "from sklearn.multiclass import OneVsRestClassifier\n",
    "\n",
    "from sklearn.linear_model import LogisticRegression, SGDClassifier\n",
    "from sklearn.feature_extraction.text import CountVectorizer\n",
    "from sklearn.cross_validation import train_test_split"
   ]
  },
  {
   "cell_type": "markdown",
   "metadata": {},
   "source": [
    "# Part 1: Load the clean data"
   ]
  },
  {
   "cell_type": "code",
   "execution_count": 17,
   "metadata": {
    "collapsed": true
   },
   "outputs": [],
   "source": [
    "# loading data from the pickled data frame\n",
    "\n",
    "with open('master_total_df.p','rb') as f:\n",
    "    master_total_df = pickle.load(f)"
   ]
  },
  {
   "cell_type": "code",
   "execution_count": null,
   "metadata": {
    "collapsed": true
   },
   "outputs": [],
   "source": [
    "def uncode(x):\n",
    "    try:\n",
    "        return unidecode.unidecode(x.decode('utf-8')).replace('\\n',' -').lower()\n",
    "\n",
    "    except:\n",
    "        try:\n",
    "            return unidecode.unidecode(x).replace('\\n',' -').lower()\n",
    "        except:\n",
    "            print x\n",
    "            return x "
   ]
  },
  {
   "cell_type": "code",
   "execution_count": 32,
   "metadata": {
    "collapsed": false
   },
   "outputs": [
    {
     "name": "stdout",
     "output_type": "stream",
     "text": [
      "nan\n",
      "<class 'pandas.core.frame.DataFrame'>\n",
      "RangeIndex: 22707 entries, 0 to 22706\n",
      "Data columns (total 16 columns):\n",
      "index              22707 non-null int64\n",
      "company            22706 non-null object\n",
      "jobdesc            22707 non-null object\n",
      "city               22707 non-null object\n",
      "state              22707 non-null object\n",
      "title              22707 non-null object\n",
      "sourcesite         22707 non-null object\n",
      "views              22707 non-null int64\n",
      "days_posted        8038 non-null object\n",
      "post_start_date    8038 non-null object\n",
      "link               22707 non-null object\n",
      "base_title         22707 non-null object\n",
      "parsed_title       22707 non-null object\n",
      "parsed_title_i     22707 non-null object\n",
      "expanded_title     21261 non-null object\n",
      "prefix_title       21261 non-null object\n",
      "dtypes: int64(2), object(14)\n",
      "memory usage: 2.8+ MB\n",
      "None\n"
     ]
    },
    {
     "name": "stderr",
     "output_type": "stream",
     "text": [
      "/Users/tlee010/anaconda/envs/dsi/lib/python2.7/site-packages/unidecode/__init__.py:46: RuntimeWarning: Argument <type 'float'> is not an unicode object. Passing an encoded string will likely have unexpected results.\n",
      "  _warn_if_not_unicode(string)\n"
     ]
    },
    {
     "data": {
      "text/html": [
       "<div>\n",
       "<table border=\"1\" class=\"dataframe\">\n",
       "  <thead>\n",
       "    <tr style=\"text-align: right;\">\n",
       "      <th></th>\n",
       "      <th>index</th>\n",
       "      <th>company</th>\n",
       "      <th>jobdesc</th>\n",
       "      <th>city</th>\n",
       "      <th>state</th>\n",
       "      <th>title</th>\n",
       "      <th>sourcesite</th>\n",
       "      <th>views</th>\n",
       "      <th>days_posted</th>\n",
       "      <th>post_start_date</th>\n",
       "      <th>link</th>\n",
       "      <th>base_title</th>\n",
       "      <th>parsed_title</th>\n",
       "      <th>parsed_title_i</th>\n",
       "      <th>expanded_title</th>\n",
       "      <th>prefix_title</th>\n",
       "    </tr>\n",
       "  </thead>\n",
       "  <tbody>\n",
       "    <tr>\n",
       "      <th>0</th>\n",
       "      <td>0</td>\n",
       "      <td>advocate health care</td>\n",
       "      <td>\\nAs part of Advocate Health Care, Advocate Ch...</td>\n",
       "      <td>Oak Lawn</td>\n",
       "      <td>IL</td>\n",
       "      <td>Clinical Practice Specialist - 4 Hope</td>\n",
       "      <td>ind</td>\n",
       "      <td>0</td>\n",
       "      <td>NaN</td>\n",
       "      <td>NaN</td>\n",
       "      <td>http://www.indeed.com/viewjob?jk=6244f7f3a4861...</td>\n",
       "      <td>specialist</td>\n",
       "      <td>[clinical, practice, specialist, , , 4, hope]</td>\n",
       "      <td>[2]</td>\n",
       "      <td>practice specialist</td>\n",
       "      <td>practice</td>\n",
       "    </tr>\n",
       "    <tr>\n",
       "      <th>1</th>\n",
       "      <td>1</td>\n",
       "      <td>university of washington medical center</td>\n",
       "      <td>\\nThe University of Washington (UW) is proud t...</td>\n",
       "      <td>Seattle</td>\n",
       "      <td>WA</td>\n",
       "      <td>WEB DEVELOPER</td>\n",
       "      <td>ind</td>\n",
       "      <td>0</td>\n",
       "      <td>NaN</td>\n",
       "      <td>NaN</td>\n",
       "      <td>http://www.indeed.com/viewjob?jk=3d6a9f18f5301...</td>\n",
       "      <td>developer</td>\n",
       "      <td>[web, developer]</td>\n",
       "      <td>[1]</td>\n",
       "      <td>web developer</td>\n",
       "      <td>web</td>\n",
       "    </tr>\n",
       "  </tbody>\n",
       "</table>\n",
       "</div>"
      ],
      "text/plain": [
       "   index                                  company  \\\n",
       "0      0                     advocate health care   \n",
       "1      1  university of washington medical center   \n",
       "\n",
       "                                             jobdesc      city state  \\\n",
       "0  \\nAs part of Advocate Health Care, Advocate Ch...  Oak Lawn    IL   \n",
       "1  \\nThe University of Washington (UW) is proud t...   Seattle    WA   \n",
       "\n",
       "                                   title sourcesite  views days_posted  \\\n",
       "0  Clinical Practice Specialist - 4 Hope        ind      0         NaN   \n",
       "1                          WEB DEVELOPER        ind      0         NaN   \n",
       "\n",
       "  post_start_date                                               link  \\\n",
       "0             NaN  http://www.indeed.com/viewjob?jk=6244f7f3a4861...   \n",
       "1             NaN  http://www.indeed.com/viewjob?jk=3d6a9f18f5301...   \n",
       "\n",
       "   base_title                                   parsed_title parsed_title_i  \\\n",
       "0  specialist  [clinical, practice, specialist, , , 4, hope]            [2]   \n",
       "1   developer                               [web, developer]            [1]   \n",
       "\n",
       "        expanded_title prefix_title  \n",
       "0  practice specialist     practice  \n",
       "1        web developer          web  "
      ]
     },
     "execution_count": 32,
     "metadata": {},
     "output_type": "execute_result"
    }
   ],
   "source": [
    "master_total_df.city = master_total_df.city.map(lambda x :'other' if type(x) == dict else x)\n",
    "master_total_df.city.fillna('other', inplace=True)\n",
    "master_total_df.state.fillna('other', inplace=True)\n",
    "master_total_df.company = master_total_df.company.map(uncode) \n",
    "\n",
    "\n",
    "print master_total_df.info()\n",
    "master_total_df.head(2)\n"
   ]
  },
  {
   "cell_type": "code",
   "execution_count": 33,
   "metadata": {
    "collapsed": false
   },
   "outputs": [
    {
     "name": "stdout",
     "output_type": "stream",
     "text": [
      "12518\n"
     ]
    },
    {
     "data": {
      "text/plain": [
       "Index([u'business analyst', u'data analyst', u'software engineer',\n",
       "       u'data scientist', u'data engineer', u'analyst', u'systems analyst',\n",
       "       u'development engineer', u'senior consultant', u'marketing specialist',\n",
       "       u'director', u'product manager', u'manager', u'senior analyst',\n",
       "       u'intelligence analyst', u'research scientist', u'marketing analyst',\n",
       "       u'data architect', u'operations analyst', u'project manager',\n",
       "       u'solution architect', u'product analyst', u'financial analyst',\n",
       "       u'senior associate', u'learning engineer', u'research analyst'],\n",
       "      dtype='object')"
      ]
     },
     "execution_count": 33,
     "metadata": {},
     "output_type": "execute_result"
    }
   ],
   "source": [
    "alltitles = master_total_df.expanded_title.value_counts()\n",
    "print alltitles[alltitles>100].sum()\n",
    "limittitles = alltitles[alltitles>100].index\n",
    "limittitles"
   ]
  },
  {
   "cell_type": "code",
   "execution_count": 34,
   "metadata": {
    "collapsed": false,
    "scrolled": true
   },
   "outputs": [
    {
     "data": {
      "text/html": [
       "<div>\n",
       "<table border=\"1\" class=\"dataframe\">\n",
       "  <thead>\n",
       "    <tr style=\"text-align: right;\">\n",
       "      <th></th>\n",
       "      <th>level_0</th>\n",
       "      <th>index</th>\n",
       "      <th>company</th>\n",
       "      <th>jobdesc</th>\n",
       "      <th>city</th>\n",
       "      <th>state</th>\n",
       "      <th>title</th>\n",
       "      <th>sourcesite</th>\n",
       "      <th>views</th>\n",
       "      <th>days_posted</th>\n",
       "      <th>post_start_date</th>\n",
       "      <th>link</th>\n",
       "      <th>base_title</th>\n",
       "      <th>parsed_title</th>\n",
       "      <th>parsed_title_i</th>\n",
       "      <th>expanded_title</th>\n",
       "      <th>prefix_title</th>\n",
       "    </tr>\n",
       "  </thead>\n",
       "  <tbody>\n",
       "    <tr>\n",
       "      <th>0</th>\n",
       "      <td>2</td>\n",
       "      <td>2</td>\n",
       "      <td>macy's</td>\n",
       "      <td>\\nJob Overview:\\n\\n\\nThe Analyst, Marketing An...</td>\n",
       "      <td>New York</td>\n",
       "      <td>NY</td>\n",
       "      <td>Analyst, Marketing Analytics</td>\n",
       "      <td>ind</td>\n",
       "      <td>0</td>\n",
       "      <td>NaN</td>\n",
       "      <td>NaN</td>\n",
       "      <td>http://www.indeed.com/viewjob?jk=d94a7d13dfbb0...</td>\n",
       "      <td>analyst</td>\n",
       "      <td>[analyst, , marketing, analytics]</td>\n",
       "      <td>[0]</td>\n",
       "      <td>analyst</td>\n",
       "      <td>analyst</td>\n",
       "    </tr>\n",
       "    <tr>\n",
       "      <th>1</th>\n",
       "      <td>3</td>\n",
       "      <td>3</td>\n",
       "      <td>skyport systems</td>\n",
       "      <td>\\nSkyport Systems is developing groundbreaking...</td>\n",
       "      <td>Mountain View</td>\n",
       "      <td>CA</td>\n",
       "      <td>Data Engineer</td>\n",
       "      <td>ind</td>\n",
       "      <td>0</td>\n",
       "      <td>NaN</td>\n",
       "      <td>NaN</td>\n",
       "      <td>http://www.indeed.com/viewjob?jk=c97751deb9e89...</td>\n",
       "      <td>engineer</td>\n",
       "      <td>[data, engineer]</td>\n",
       "      <td>[1]</td>\n",
       "      <td>data engineer</td>\n",
       "      <td>data</td>\n",
       "    </tr>\n",
       "    <tr>\n",
       "      <th>2</th>\n",
       "      <td>7</td>\n",
       "      <td>7</td>\n",
       "      <td>iqlogg, inc</td>\n",
       "      <td>\\nIQlogg, Inc. is an equal opportunity employe...</td>\n",
       "      <td>Dallas</td>\n",
       "      <td>TX</td>\n",
       "      <td>Health Care Junior Business Analyst</td>\n",
       "      <td>ind</td>\n",
       "      <td>0</td>\n",
       "      <td>NaN</td>\n",
       "      <td>NaN</td>\n",
       "      <td>http://www.indeed.com/viewjob?jk=70284c7a9286e...</td>\n",
       "      <td>analyst</td>\n",
       "      <td>[health, care, junior, business, analyst]</td>\n",
       "      <td>[4]</td>\n",
       "      <td>business analyst</td>\n",
       "      <td>business</td>\n",
       "    </tr>\n",
       "  </tbody>\n",
       "</table>\n",
       "</div>"
      ],
      "text/plain": [
       "   level_0  index          company  \\\n",
       "0        2      2           macy's   \n",
       "1        3      3  skyport systems   \n",
       "2        7      7      iqlogg, inc   \n",
       "\n",
       "                                             jobdesc           city state  \\\n",
       "0  \\nJob Overview:\\n\\n\\nThe Analyst, Marketing An...       New York    NY   \n",
       "1  \\nSkyport Systems is developing groundbreaking...  Mountain View    CA   \n",
       "2  \\nIQlogg, Inc. is an equal opportunity employe...         Dallas    TX   \n",
       "\n",
       "                                 title sourcesite  views days_posted  \\\n",
       "0         Analyst, Marketing Analytics        ind      0         NaN   \n",
       "1                        Data Engineer        ind      0         NaN   \n",
       "2  Health Care Junior Business Analyst        ind      0         NaN   \n",
       "\n",
       "  post_start_date                                               link  \\\n",
       "0             NaN  http://www.indeed.com/viewjob?jk=d94a7d13dfbb0...   \n",
       "1             NaN  http://www.indeed.com/viewjob?jk=c97751deb9e89...   \n",
       "2             NaN  http://www.indeed.com/viewjob?jk=70284c7a9286e...   \n",
       "\n",
       "  base_title                               parsed_title parsed_title_i  \\\n",
       "0    analyst          [analyst, , marketing, analytics]            [0]   \n",
       "1   engineer                           [data, engineer]            [1]   \n",
       "2    analyst  [health, care, junior, business, analyst]            [4]   \n",
       "\n",
       "     expanded_title prefix_title  \n",
       "0           analyst      analyst  \n",
       "1     data engineer         data  \n",
       "2  business analyst     business  "
      ]
     },
     "execution_count": 34,
     "metadata": {},
     "output_type": "execute_result"
    }
   ],
   "source": [
    "limited_postings = master_total_df.loc[master_total_df['expanded_title'].isin(limittitles)].copy()\n",
    "limited_postings.reset_index(inplace=True)\n",
    "limited_postings.head(3)"
   ]
  },
  {
   "cell_type": "code",
   "execution_count": 150,
   "metadata": {
    "collapsed": false
   },
   "outputs": [
    {
     "data": {
      "text/plain": [
       "business analyst        4029\n",
       "data analyst            1530\n",
       "software engineer       1285\n",
       "data scientist          1139\n",
       "data engineer           1085\n",
       "analyst                  310\n",
       "systems analyst          294\n",
       "development engineer     266\n",
       "senior consultant        249\n",
       "marketing specialist     188\n",
       "director                 183\n",
       "product manager          178\n",
       "manager                  170\n",
       "senior analyst           155\n",
       "intelligence analyst     146\n",
       "marketing analyst        139\n",
       "research scientist       139\n",
       "data architect           132\n",
       "operations analyst       124\n",
       "project manager          121\n",
       "solution architect       118\n",
       "product analyst          115\n",
       "financial analyst        111\n",
       "senior associate         105\n",
       "learning engineer        105\n",
       "research analyst         102\n",
       "Name: expanded_title, dtype: int64"
      ]
     },
     "execution_count": 150,
     "metadata": {},
     "output_type": "execute_result"
    }
   ],
   "source": [
    "limited_postings.expanded_title.value_counts()"
   ]
  },
  {
   "cell_type": "markdown",
   "metadata": {},
   "source": [
    "## Features\n",
    "\n",
    "The features that will be used to determine the \"expanded\" title are:\n",
    "- city\n",
    "- company\n",
    "- state\n",
    "- jobdesc\n",
    "- jobdesc length (in characters)\n",
    "\n",
    "First to clean up the data, the title must be taken out of the text, otherwise that will be the obvious strong predictor"
   ]
  },
  {
   "cell_type": "code",
   "execution_count": 35,
   "metadata": {
    "collapsed": false
   },
   "outputs": [],
   "source": [
    "def removeTitles(y):\n",
    "    y = y.lower()\n",
    "    for z in limittitles:\n",
    "        y = y.replace(z,' ')\n",
    "    return y\n",
    "\n",
    "limited_postings['jobdesc'] = limited_postings['jobdesc'].map(removeTitles)\n",
    "limited_postings['jobdesc'] = limited_postings['jobdesc'].map(lambda x : x.replace('\\n',' '))\n",
    "limited_postings['desc_len'] = limited_postings['jobdesc'].map(lambda x: len(x))\n",
    "\n",
    "\n",
    "        \n",
    "limited_postings['cleandesc'] = limited_postings['jobdesc'].map(uncode) "
   ]
  },
  {
   "cell_type": "code",
   "execution_count": 36,
   "metadata": {
    "collapsed": false
   },
   "outputs": [
    {
     "data": {
      "text/html": [
       "<div>\n",
       "<table border=\"1\" class=\"dataframe\">\n",
       "  <thead>\n",
       "    <tr style=\"text-align: right;\">\n",
       "      <th></th>\n",
       "      <th>expanded_title</th>\n",
       "      <th>company</th>\n",
       "      <th>city</th>\n",
       "      <th>state</th>\n",
       "      <th>jobdesc</th>\n",
       "      <th>desc_len</th>\n",
       "      <th>cleandesc</th>\n",
       "    </tr>\n",
       "  </thead>\n",
       "  <tbody>\n",
       "    <tr>\n",
       "      <th>0</th>\n",
       "      <td>analyst</td>\n",
       "      <td>macy's</td>\n",
       "      <td>New York</td>\n",
       "      <td>NY</td>\n",
       "      <td>job overview:   the  , marketing analytics is...</td>\n",
       "      <td>3190</td>\n",
       "      <td>job overview:   the  , marketing analytics is...</td>\n",
       "    </tr>\n",
       "    <tr>\n",
       "      <th>1</th>\n",
       "      <td>data engineer</td>\n",
       "      <td>skyport systems</td>\n",
       "      <td>Mountain View</td>\n",
       "      <td>CA</td>\n",
       "      <td>skyport systems is developing groundbreaking,...</td>\n",
       "      <td>1426</td>\n",
       "      <td>skyport systems is developing groundbreaking,...</td>\n",
       "    </tr>\n",
       "  </tbody>\n",
       "</table>\n",
       "</div>"
      ],
      "text/plain": [
       "  expanded_title          company           city state  \\\n",
       "0        analyst           macy's       New York    NY   \n",
       "1  data engineer  skyport systems  Mountain View    CA   \n",
       "\n",
       "                                             jobdesc  desc_len  \\\n",
       "0   job overview:   the  , marketing analytics is...      3190   \n",
       "1   skyport systems is developing groundbreaking,...      1426   \n",
       "\n",
       "                                           cleandesc  \n",
       "0   job overview:   the  , marketing analytics is...  \n",
       "1   skyport systems is developing groundbreaking,...  "
      ]
     },
     "execution_count": 36,
     "metadata": {},
     "output_type": "execute_result"
    }
   ],
   "source": [
    "limited_postings = limited_postings[['expanded_title','company','city','state','jobdesc','desc_len','cleandesc']]\n",
    "limited_postings.head(2)"
   ]
  },
  {
   "cell_type": "code",
   "execution_count": 37,
   "metadata": {
    "collapsed": false
   },
   "outputs": [
    {
     "data": {
      "text/plain": [
       "(12518, 7)"
      ]
     },
     "execution_count": 37,
     "metadata": {},
     "output_type": "execute_result"
    }
   ],
   "source": [
    "limited_postings.shape"
   ]
  },
  {
   "cell_type": "markdown",
   "metadata": {},
   "source": [
    "# Word Extraction from Job Descriptions"
   ]
  },
  {
   "cell_type": "code",
   "execution_count": 24,
   "metadata": {
    "collapsed": false
   },
   "outputs": [],
   "source": [
    "text = limited_postings['cleandesc']"
   ]
  },
  {
   "cell_type": "code",
   "execution_count": 25,
   "metadata": {
    "collapsed": false
   },
   "outputs": [
    {
     "name": "stdout",
     "output_type": "stream",
     "text": [
      "0:00:06.634604\n",
      "0:00:14.935094\n",
      "(12518, 51258)\n"
     ]
    },
    {
     "data": {
      "text/html": [
       "<div>\n",
       "<table border=\"1\" class=\"dataframe\">\n",
       "  <thead>\n",
       "    <tr style=\"text-align: right;\">\n",
       "      <th></th>\n",
       "      <th>00</th>\n",
       "      <th>000</th>\n",
       "      <th>00000796</th>\n",
       "      <th>00001</th>\n",
       "      <th>00001f99</th>\n",
       "      <th>00001fbh</th>\n",
       "      <th>00002581</th>\n",
       "      <th>00002581job</th>\n",
       "      <th>00002581the</th>\n",
       "      <th>000038</th>\n",
       "      <th>...</th>\n",
       "      <th>zuri</th>\n",
       "      <th>zurich</th>\n",
       "      <th>zurichrisk</th>\n",
       "      <th>zurifurniture</th>\n",
       "      <th>zurn</th>\n",
       "      <th>zuum</th>\n",
       "      <th>zycus</th>\n",
       "      <th>zyme</th>\n",
       "      <th>zymergen</th>\n",
       "      <th>zynga</th>\n",
       "    </tr>\n",
       "  </thead>\n",
       "  <tbody>\n",
       "    <tr>\n",
       "      <th>0</th>\n",
       "      <td>0</td>\n",
       "      <td>0</td>\n",
       "      <td>0</td>\n",
       "      <td>0</td>\n",
       "      <td>0</td>\n",
       "      <td>0</td>\n",
       "      <td>0</td>\n",
       "      <td>0</td>\n",
       "      <td>0</td>\n",
       "      <td>0</td>\n",
       "      <td>...</td>\n",
       "      <td>0</td>\n",
       "      <td>0</td>\n",
       "      <td>0</td>\n",
       "      <td>0</td>\n",
       "      <td>0</td>\n",
       "      <td>0</td>\n",
       "      <td>0</td>\n",
       "      <td>0</td>\n",
       "      <td>0</td>\n",
       "      <td>0</td>\n",
       "    </tr>\n",
       "    <tr>\n",
       "      <th>1</th>\n",
       "      <td>0</td>\n",
       "      <td>0</td>\n",
       "      <td>0</td>\n",
       "      <td>0</td>\n",
       "      <td>0</td>\n",
       "      <td>0</td>\n",
       "      <td>0</td>\n",
       "      <td>0</td>\n",
       "      <td>0</td>\n",
       "      <td>0</td>\n",
       "      <td>...</td>\n",
       "      <td>0</td>\n",
       "      <td>0</td>\n",
       "      <td>0</td>\n",
       "      <td>0</td>\n",
       "      <td>0</td>\n",
       "      <td>0</td>\n",
       "      <td>0</td>\n",
       "      <td>0</td>\n",
       "      <td>0</td>\n",
       "      <td>0</td>\n",
       "    </tr>\n",
       "    <tr>\n",
       "      <th>2</th>\n",
       "      <td>0</td>\n",
       "      <td>0</td>\n",
       "      <td>0</td>\n",
       "      <td>0</td>\n",
       "      <td>0</td>\n",
       "      <td>0</td>\n",
       "      <td>0</td>\n",
       "      <td>0</td>\n",
       "      <td>0</td>\n",
       "      <td>0</td>\n",
       "      <td>...</td>\n",
       "      <td>0</td>\n",
       "      <td>0</td>\n",
       "      <td>0</td>\n",
       "      <td>0</td>\n",
       "      <td>0</td>\n",
       "      <td>0</td>\n",
       "      <td>0</td>\n",
       "      <td>0</td>\n",
       "      <td>0</td>\n",
       "      <td>0</td>\n",
       "    </tr>\n",
       "    <tr>\n",
       "      <th>3</th>\n",
       "      <td>0</td>\n",
       "      <td>0</td>\n",
       "      <td>0</td>\n",
       "      <td>0</td>\n",
       "      <td>0</td>\n",
       "      <td>0</td>\n",
       "      <td>0</td>\n",
       "      <td>0</td>\n",
       "      <td>0</td>\n",
       "      <td>0</td>\n",
       "      <td>...</td>\n",
       "      <td>0</td>\n",
       "      <td>0</td>\n",
       "      <td>0</td>\n",
       "      <td>0</td>\n",
       "      <td>0</td>\n",
       "      <td>0</td>\n",
       "      <td>0</td>\n",
       "      <td>0</td>\n",
       "      <td>0</td>\n",
       "      <td>0</td>\n",
       "    </tr>\n",
       "  </tbody>\n",
       "</table>\n",
       "<p>4 rows × 51258 columns</p>\n",
       "</div>"
      ],
      "text/plain": [
       "   00  000  00000796  00001  00001f99  00001fbh  00002581  00002581job  \\\n",
       "0   0    0         0      0         0         0         0            0   \n",
       "1   0    0         0      0         0         0         0            0   \n",
       "2   0    0         0      0         0         0         0            0   \n",
       "3   0    0         0      0         0         0         0            0   \n",
       "\n",
       "   00002581the  000038  ...    zuri  zurich  zurichrisk  zurifurniture  zurn  \\\n",
       "0            0       0  ...       0       0           0              0     0   \n",
       "1            0       0  ...       0       0           0              0     0   \n",
       "2            0       0  ...       0       0           0              0     0   \n",
       "3            0       0  ...       0       0           0              0     0   \n",
       "\n",
       "   zuum  zycus  zyme  zymergen  zynga  \n",
       "0     0      0     0         0      0  \n",
       "1     0      0     0         0      0  \n",
       "2     0      0     0         0      0  \n",
       "3     0      0     0         0      0  \n",
       "\n",
       "[4 rows x 51258 columns]"
      ]
     },
     "execution_count": 25,
     "metadata": {},
     "output_type": "execute_result"
    }
   ],
   "source": [
    "cvec = CountVectorizer(stop_words='english', lowercase=True,ngram_range=(1,1))\n",
    "start_time = datetime.datetime.now()\n",
    "cvec.fit(limited_postings['cleandesc'])\n",
    "print datetime.datetime.now() - start_time\n",
    "\n",
    "cdf  = pd.DataFrame(cvec.transform(text).todense(),\n",
    "             columns=cvec.get_feature_names())\n",
    "print datetime.datetime.now() - start_time\n",
    "print cdf.shape\n",
    "cdf.head(4)"
   ]
  },
  {
   "cell_type": "markdown",
   "metadata": {},
   "source": [
    "## Only retain the top 10,000 words - will merge later after patsy"
   ]
  },
  {
   "cell_type": "code",
   "execution_count": 26,
   "metadata": {
    "collapsed": true
   },
   "outputs": [],
   "source": [
    "summary = cdf.sum().sort_values(ascending = False)\n",
    "keep_cols = summary[:10000].index\n",
    "cdf_to_merge = cdf[keep_cols]\n",
    "cdf_to_merge.columns = ['nlp_'+x for x in cdf_to_merge.columns]"
   ]
  },
  {
   "cell_type": "markdown",
   "metadata": {},
   "source": [
    "## Prepare y, X with multiclass tools and patsy; then add the nlp analysis fields\n",
    "\n",
    "Patsy is limited to roughly 400 fields before pooping out "
   ]
  },
  {
   "cell_type": "code",
   "execution_count": 183,
   "metadata": {
    "collapsed": false
   },
   "outputs": [
    {
     "name": "stdout",
     "output_type": "stream",
     "text": [
      "expanded_title ~ company + city + state + desc_len-1\n",
      "(12518, 15748)\n"
     ]
    }
   ],
   "source": [
    "formula = 'expanded_title ~ company + city + state + desc_len-1'\n",
    "print formula\n",
    "y, X = patsy.dmatrices(formula, limited_postings, return_type='dataframe')\n",
    "# will ignore the y value for the matrix below\n",
    "\n",
    "X = X.merge(cdf_to_merge, how = 'left', left_index=True,right_index=True)\n",
    "print X.shape\n"
   ]
  },
  {
   "cell_type": "code",
   "execution_count": 184,
   "metadata": {
    "collapsed": false
   },
   "outputs": [
    {
     "name": "stdout",
     "output_type": "stream",
     "text": [
      "['analyst' 'business analyst' 'data analyst' 'data architect'\n",
      " 'data engineer' 'data scientist' 'development engineer' 'director'\n",
      " 'financial analyst' 'intelligence analyst' 'learning engineer' 'manager'\n",
      " 'marketing analyst' 'marketing specialist' 'operations analyst'\n",
      " 'product analyst' 'product manager' 'project manager' 'research analyst'\n",
      " 'research scientist' 'senior analyst' 'senior associate'\n",
      " 'senior consultant' 'software engineer' 'solution architect'\n",
      " 'systems analyst']\n",
      "(12518, 26)\n"
     ]
    }
   ],
   "source": [
    "mlb = MultiLabelBinarizer()\n",
    "y = mlb.fit_transform([[x] for x in limited_postings['expanded_title']])\n",
    "print mlb.classes_\n",
    "y\n",
    "print y.shape"
   ]
  },
  {
   "cell_type": "markdown",
   "metadata": {},
   "source": [
    "# Setup train test split"
   ]
  },
  {
   "cell_type": "code",
   "execution_count": 185,
   "metadata": {
    "collapsed": false
   },
   "outputs": [
    {
     "name": "stdout",
     "output_type": "stream",
     "text": [
      "(10014, 15748) (2504, 15748) (10014, 26) (2504, 26)\n"
     ]
    }
   ],
   "source": [
    "X_train, X_test, y_train, y_test = train_test_split(X,y, test_size=0.2)\n",
    "print X_train.shape, X_test.shape, y_train.shape, y_test.shape"
   ]
  },
  {
   "cell_type": "markdown",
   "metadata": {},
   "source": [
    "## Setup multi-class logistic regression as a baseline"
   ]
  },
  {
   "cell_type": "code",
   "execution_count": 210,
   "metadata": {
    "collapsed": false
   },
   "outputs": [
    {
     "name": "stdout",
     "output_type": "stream",
     "text": [
      "0:01:22.786596\n"
     ]
    }
   ],
   "source": [
    "def multiGres(model, X_train, y_train,X_test,y_test):\n",
    "    start = datetime.datetime.now()\n",
    "    OVRC = OneVsRestClassifier(lgr,n_jobs=-1)\n",
    "    OVRC.fit(X_train,y_train)\n",
    "    print datetime.datetime.now()-start\n",
    "    scores = OVRC.score(X_test,y_test)\n",
    "    return scores, OVRC\n",
    "    \n",
    "lgr = LogisticRegression(verbose=1,n_jobs=-1)\n",
    "\n",
    "\n",
    "score , OVRC = multiGres(lgr, X_train, y_train,X_test,y_test) "
   ]
  },
  {
   "cell_type": "markdown",
   "metadata": {},
   "source": [
    "## Assigning coefficents"
   ]
  },
  {
   "cell_type": "code",
   "execution_count": null,
   "metadata": {
    "collapsed": false,
    "scrolled": true
   },
   "outputs": [],
   "source": [
    "def topFeatMulti(OVRC, bin_class_list, X_columns):\n",
    "    coefs = []\n",
    "    for x in OVRC.estimators_:\n",
    "        coefs.append(x.coef_) \n",
    "    fitfeat_dict = {}\n",
    "    for x,y in zip(bin_class_list, coefs):\n",
    "        coef_lkup = {abs(m):(m,n) for m,n in zip(y[0],X_columns)}\n",
    "        top5 = np.sort(abs(y))[0][::-1][:5]\n",
    "        top5_labeld = [coef_lkup[m] for m in top5]\n",
    "        print '='*60\n",
    "        print x\n",
    "        for m in top5_labeld:\n",
    "            print m\n",
    "        fitfeat_dict[x] = top5_labeld\n",
    "    \n",
    "    return fitfeat_dict\n",
    "    \n",
    "\n",
    "fitfeat_dict = topFeatMulti(OVRC, mlb.classes_, X.columns)"
   ]
  },
  {
   "cell_type": "code",
   "execution_count": null,
   "metadata": {
    "collapsed": false
   },
   "outputs": [],
   "source": [
    "def topGuesses(OVRC, X, original):\n",
    "    proba = OVRC.predict_proba(X)\n",
    "    print proba.shape\n",
    "    df = pd.DataFrame(proba)\n",
    "    df.columns = mlb.classes_\n",
    "    def topPredict(y):\n",
    "        top3 = y.transpose().sort_values(ascending=False)[:4]\n",
    "        return [(x,z) for x,z in zip(top3.index, top3)]\n",
    "\n",
    "    df['top_pred'] = df.apply(topPredict,axis=1)\n",
    "    results = original.merge(df[['top_pred']], how='left', left_index=True, right_index=True)\n",
    "    return results\n",
    "\n",
    "\n",
    "predicted = topGuesses(OVRC, X, limited_postings)\n"
   ]
  },
  {
   "cell_type": "code",
   "execution_count": null,
   "metadata": {
    "collapsed": false
   },
   "outputs": [],
   "source": [
    "predicted.head(5)"
   ]
  },
  {
   "cell_type": "markdown",
   "metadata": {},
   "source": [
    "## setting up multi-class SGD log regression with L1 loss"
   ]
  },
  {
   "cell_type": "code",
   "execution_count": null,
   "metadata": {
    "collapsed": false
   },
   "outputs": [],
   "source": [
    "sgdc = SGDClassifier(penalty='l1', loss='log',n_jobs=-1,verbose=1)\n",
    "score , OVRC = multiGres(sgdc, X_train, y_train,X_test,y_test) "
   ]
  },
  {
   "cell_type": "code",
   "execution_count": null,
   "metadata": {
    "collapsed": false
   },
   "outputs": [],
   "source": [
    "print score"
   ]
  },
  {
   "cell_type": "code",
   "execution_count": null,
   "metadata": {
    "collapsed": true
   },
   "outputs": [],
   "source": []
  },
  {
   "cell_type": "code",
   "execution_count": null,
   "metadata": {
    "collapsed": true
   },
   "outputs": [],
   "source": []
  }
 ],
 "metadata": {
  "anaconda-cloud": {},
  "kernelspec": {
   "display_name": "Python [dsi]",
   "language": "python",
   "name": "Python [dsi]"
  },
  "language_info": {
   "codemirror_mode": {
    "name": "ipython",
    "version": 2
   },
   "file_extension": ".py",
   "mimetype": "text/x-python",
   "name": "python",
   "nbconvert_exporter": "python",
   "pygments_lexer": "ipython2",
   "version": "2.7.12"
  }
 },
 "nbformat": 4,
 "nbformat_minor": 1
}
