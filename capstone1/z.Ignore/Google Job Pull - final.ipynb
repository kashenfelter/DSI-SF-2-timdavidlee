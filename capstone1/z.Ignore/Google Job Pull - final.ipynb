{
 "cells": [
  {
   "cell_type": "code",
   "execution_count": 3,
   "metadata": {
    "collapsed": false
   },
   "outputs": [
    {
     "name": "stdout",
     "output_type": "stream",
     "text": [
      "complete\n"
     ]
    }
   ],
   "source": [
    "import scrapy\n",
    "import pandas as pd\n",
    "import numpy as np\n",
    "import time\n",
    "import requests\n",
    "import pandas\n",
    "from scrapy.selector import Selector\n",
    "from scrapy.http import HtmlResponse\n",
    "\n",
    "import sys\n",
    "from PyQt4.QtGui import *  \n",
    "from PyQt4.QtCore import *  \n",
    "from PyQt4.QtWebKit import *  \n",
    "from lxml import html \n",
    "\n",
    "import dryscrape\n",
    "from bs4 import BeautifulSoup\n",
    "\n",
    "\n",
    "class Render(QWebPage):  \n",
    "    def __init__(self, url):  \n",
    "        self.app = QApplication(sys.argv)  \n",
    "        QWebPage.__init__(self)  \n",
    "        self.loadFinished.connect(self._loadFinished)  \n",
    "        self.mainFrame().load(QUrl(url))  \n",
    "        self.app.exec_()  \n",
    "\n",
    "    def _loadFinished(self, result):  \n",
    "        self.frame = self.mainFrame()  \n",
    "        self.app.quit()\n",
    "\n",
    "\n",
    "#search page:\n",
    "\n",
    "session = dryscrape.Session()\n",
    "my_url='https://www.google.com/about/careers/jobs#t=sq&q=j&li=20&l=false&jlo=en-US&jcoid=7c8c6665-81cf-4e11-8fc9-ec1d6a69120c&jcoid=e43afd0d-d215-45db-a154-5386c9036525&jl=37.3860517%3A-122.0838511%3AMountain+View%2C+CA%2C+USA%3AUS%3AUnited+States%3A9.901223692706639%3ALOCALITY%3A%3A%3A%3ACA%3ASanta+Clara+County%3AMountain+View&jl=37.7749295%3A-122.41941550000001%3ASan+Francisco%2C+CA%2C+USA%3AUS%3AUS%3A7.6750685520230215%3ALOCALITY%3A%3A%3A%3A%3A%3A&jl=34.0522342%3A-118.2436849%3ALos+Angeles%2C+CA%2C+USA%3AUS%3AUS%3A34.22569184564956%3ALOCALITY%3A%3A%3A%3A%3A%3A&jl=47.6062095%3A-122.3320708%3ASeattle%2C+WA%2C+USA%3AUS%3A%3A9.901225651567486%3ALOCALITY%3A%3A%3A%3A%3A%3A&jld=20&'  \n",
    "session.visit(my_url)\n",
    "response = session.body()\n",
    "print \"complete\"\n"
   ]
  },
  {
   "cell_type": "code",
   "execution_count": 4,
   "metadata": {
    "collapsed": false
   },
   "outputs": [
    {
     "name": "stdout",
     "output_type": "stream",
     "text": [
      "['#!t=jo&jid=/google/brand-design-lead-brand-studio-345-spear-st-san-francisco-ca-usa-1172680304&', '#!t=jo&jid=/google/program-manager-operations-1600-amphitheatre-pkwy-mountain-view-ca-1530350007&', '#!t=jo&jid=/google/data-architect-sales-operations-1600-amphitheatre-pkwy-mountain-view-ca-1277170005&', '#!t=jo&jid=/google/security-technical-account-manager-1600-amphitheatre-pkwy-mountain-view-ca-1082100026&', '#!t=jo&jid=/google/technical-program-manager-android-wear-1600-amphitheatre-pkwy-mountain-view-ca-1349200007&', '#!t=jo&jid=/google/telco-partner-manager-google-for-work-1600-amphitheatre-pkwy-mountain-view-ca-1002870025&', '#!t=jo&jid=/google/online-sales-nurture-strategist-google-1600-amphitheatre-pkwy-mountain-view-ca-1194110017&', '#!t=jo&jid=/google/bay-area-security-systems-project-1600-amphitheatre-pkwy-mountain-view-ca-1106510465&', '#!t=jo&jid=/google/strategic-partner-development-manager-1600-amphitheatre-pkwy-mountain-view-ca-934140038&', '#!t=jo&jid=/google/international-insights-program-manager-1600-amphitheatre-pkwy-mountain-view-ca-929430049&', '#!t=jo&jid=/google/account-executive-app-vertical-345-spear-st-san-francisco-ca-usa-1261900049&', '#!t=jo&jid=/google/technical-program-manager-enterprise-1600-amphitheatre-pkwy-mountain-view-ca-1024190176&', '#!t=jo&jid=/google/contact-center-and-voice-infrastructure-1600-amphitheatre-pkwy-mountain-view-ca-1065520444&', '#!t=jo&jid=/google/gaming-backend-engineer-atap-1600-amphitheatre-pkwy-mountain-view-ca-1375160094&', '#!t=jo&jid=/google/lead-mobile-games-engineer-atap-1600-amphitheatre-pkwy-mountain-view-ca-1386000113&', '#!t=jo&jid=/google/hardware-strategy-principal-1600-amphitheatre-pkwy-mountain-view-ca-1382520028&', '#!t=jo&jid=/google/product-support-specialist-multiple-1600-amphitheatre-pkwy-mountain-view-ca-1024540037&', '#!t=jo&jid=/google/test-engineer-access-1600-amphitheatre-pkwy-mountain-view-ca-1339910038&', '#!t=jo&jid=/google/global-product-lead-cross-media-tools-340-main-st-los-angeles-ca-usa-1020700040&', '#!t=jo&jid=/google/google-people-services-human-capital-1600-amphitheatre-pkwy-mountain-view-ca-1347390019&'] 20\n"
     ]
    }
   ],
   "source": [
    "subpath =[x.encode('utf-8') for x in Selector(text=response).xpath(\"//h2/a[@class='sr-title text']/@href\").extract()]\n",
    "print subpath, len(subpath)"
   ]
  },
  {
   "cell_type": "code",
   "execution_count": null,
   "metadata": {
    "collapsed": false
   },
   "outputs": [
    {
     "name": "stdout",
     "output_type": "stream",
     "text": [
      "https://www.google.com/about/careers/jobs#!t=jo&jid=/google/brand-design-lead-brand-studio-345-spear-st-san-francisco-ca-usa-1172680304&\n",
      "[u'Brand Design Lead, Brand Studio']\n",
      "[u'Google']\n",
      "[u'Marketing & Communications']\n",
      "[u'San Francisco, CA, USA']\n",
      "[u'The Brand Studio is a passionate team of creative thinkers tasked with shaping the future of Google brands by deepening the love of our users. As part of this team, you work with many kinds of creative thinkers all tasked with ensuring creative excellence across the Google Marketing landscape. Your goal is to deliver one integrated Google brand experience, and to better define the Google Marketing way. By embracing user insights, strategic thinking, and beautiful design paired with provocative execution, you strive to create delightfully intuitive (and delightfully inventive!) experiences that will define the future of our brand.', u'The creative team at Google Brand Studio is a multidisciplinary team composed of art directors, designers, writers, UXers, IAists, animators, editors and filmmakers. We define and extend the Google brand, and put Google?s values into action through brand campaigns, films and digital and physical experiences. ', u'Working in Brand Studio plugs you into the heart of Google. You will be exposed to thought leaders across every discipline of the company, from product to policy to people operations. Along with other creatives, you will partner with a strong team of business thinkers, planners, engineers and producers to push our collective definition of the brand through big ideas that leverage technology, experience, design, filmmaking, photography and excellent writing. ', u\"You are a brand design leader with a portfolio of highly crafted brand identity work for iconic brands. You will be developing, defining and stewarding the implementation of the Google brand across all mediums, working with key stakeholders and design visionaries from across the company to build consensus and brand cohesion across marketing, product, and physical spaces. You know how to translate intent into a brand identity system, and you will be a key contributor to Google's brand execution across marketing, communication, physical, and media touch points. You are a long-term brand steward ? a leader who is naturally wired as a problem-solver who can rally a diverse team, collaborate with and inspire other Google thought leaders, internal creatives and external partners. A love of technology and a belief in its potential to improve people?s lives is essential, but so is a healthy skepticism for the way tech brands typically talk about themselves and their products. Passion and understanding brand communication on a large scale will be a key to success within this role.\", u\"Know the user. Know the magic. Connect the two. At its core, marketing at Google starts with technology and ends with the user, bringing both together in unconventional ways. Our job is to demonstrate how Google's products solve the world's problems--from the everyday to the epic, from the mundane to the monumental. And we approach marketing in a way that only Google can--changing the game, redefining the medium, making the user the priority, and ultimately, letting the technology speak for itself.\", u'Use two fingers to move the map']\n",
      "[u'Define, develop and steward the Google brand across every medium alongside Brand Studio design leadership team.', u'Lead a team of designers and technologists to push the boundaries of Google?s brand through clear communication, craft of execution, and technological innovation.', u'Develop and foster relationships with design agencies and continue to build our roster of top talent partners.', u'Guide partners across all of Google to establish best-practices and maintain Google?s brand vision.', u'BA/BS degree or equivalent practical experience.', u'8 years of experience at a design/brand agency or in-house brand team leading creative for brands.', u'Experience with a team on design projects.', u'Experience working in an agile and fast-paced environment.', u'Experience as a thought-leader within the context of digitally lead brands; detail-oriented and organized, with strong visual design skills, layout, typography and high graphic standards.', u'A portfolio of brand identity creation, campaigns, and digital experiences; both as a leader and a creative.', u'Solid understanding of digital design, traditional design processes, and design and technology trends.', u'Ability to show collaboration across multiple disciplines such as marketers, developers, strategists, planners, etc.', u'Optimism and tenacity in the face of challenges and internal processes and self-starter that is comfortable with ambiguity.']\n",
      "[u'BA/BS degree or equivalent practical experience.', u'8 years of experience at a design/brand agency or in-house brand team leading creative for brands.', u'Experience with a team on design projects.']\n",
      "[u'Experience working in an agile and fast-paced environment.', u'Experience as a thought-leader within the context of digitally lead brands; detail-oriented and organized, with strong visual design skills, layout, typography and high graphic standards.', u'A portfolio of brand identity creation, campaigns, and digital experiences; both as a leader and a creative.', u'Solid understanding of digital design, traditional design processes, and design and technology trends.', u'Ability to show collaboration across multiple disciplines such as marketers, developers, strategists, planners, etc.', u'Optimism and tenacity in the face of challenges and internal processes and self-starter that is comfortable with ambiguity.']\n",
      "https://www.google.com/about/careers/jobs#!t=jo&jid=/google/program-manager-operations-1600-amphitheatre-pkwy-mountain-view-ca-1530350007&\n"
     ]
    }
   ],
   "source": [
    "base_domain = \"https://www.google.com/about/careers/jobs\"\n",
    "for b in subpath[0:2]:\n",
    "    url = base_domain + b\n",
    "    print url\n",
    "    r = Render(url)  \n",
    "    html = r.frame.toHtml()\n",
    "    htmltext= str(html.toAscii())\n",
    "    \n",
    "    print Selector(text=htmltext).xpath(\"//h1/a/text()\").extract()\n",
    "    print Selector(text=htmltext).xpath(\"//div[@class='company-name-panel']/span/text()\").extract()\n",
    "    print Selector(text=htmltext).xpath(\"//div/a[@class='secondary-text']/text()\").extract()\n",
    "    print Selector(text=htmltext).xpath(\"//div/a[@class='details-location body1 secondary-text']/text()\").extract()\n",
    "    \n",
    "    print Selector(text=htmltext).xpath(\"//p/text()\").extract()\n",
    "    print Selector(text=htmltext).xpath(\"//div[@class='description-section']/div/div/ul/li/text()\").extract()\n",
    "    print Selector(text=htmltext).xpath(\"//div[@class='stacked-requirements']/div/ul[1]/li/text()\").extract()\n",
    "    print Selector(text=htmltext).xpath(\"//div[@class='stacked-requirements']/div/ul[2]/li/text()\").extract()"
   ]
  },
  {
   "cell_type": "code",
   "execution_count": null,
   "metadata": {
    "collapsed": true
   },
   "outputs": [],
   "source": [
    "print base_domain"
   ]
  },
  {
   "cell_type": "code",
   "execution_count": null,
   "metadata": {
    "collapsed": true
   },
   "outputs": [],
   "source": []
  }
 ],
 "metadata": {
  "anaconda-cloud": {},
  "kernelspec": {
   "display_name": "Python [dsi]",
   "language": "python",
   "name": "Python [dsi]"
  },
  "language_info": {
   "codemirror_mode": {
    "name": "ipython",
    "version": 2
   },
   "file_extension": ".py",
   "mimetype": "text/x-python",
   "name": "python",
   "nbconvert_exporter": "python",
   "pygments_lexer": "ipython2",
   "version": "2.7.12"
  }
 },
 "nbformat": 4,
 "nbformat_minor": 1
}
