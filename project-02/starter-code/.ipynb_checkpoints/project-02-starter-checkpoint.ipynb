{
 "cells": [
  {
   "cell_type": "markdown",
   "metadata": {},
   "source": [
    "<img src=\"http://imgur.com/1ZcRyrc.png\" style=\"float: left; margin: 15px; height: 80px\">\n",
    "\n",
    "# Project 2\n",
    "\n",
    "### Exploratory Data Analysis (EDA)\n",
    "\n",
    "---\n",
    "\n",
    "This project is focused on exploratory data analysis, oft referred to as EDA. EDA is an essential part of the data science analysis pipeline. Failure to perform EDA before modeling is almost guaranteed to lead to pitfalls and faulty conclusions. What you do in this project are good practices for all projects going forward, especially those beyond this class!\n",
    "\n",
    "---\n",
    "\n",
    "This lab includes a variety of plotting problems. Much of the plotting code will be left up to you to find either in the lecture notes, or if not there, online. There are massive amounts of code snippets either in documentation or sites like stackoverflow that have almost certainly done what you are trying to do.\n",
    "\n",
    "**Get used to using google for finding code!** You will be using it every single day as a data scientist, especially for visualization and plotting.\n",
    "\n",
    "#### Package imports"
   ]
  },
  {
   "cell_type": "code",
   "execution_count": 62,
   "metadata": {
    "collapsed": true
   },
   "outputs": [],
   "source": [
    "import numpy as np\n",
    "import scipy.stats as stats\n",
    "import csv\n",
    "import pandas as pd\n",
    "import seaborn as sns\n",
    "import matplotlib.pyplot as plt\n",
    "from seaborn import distplot\n",
    "from pprint import pprint\n",
    "\n",
    "# this line tells jupyter notebook to put the plots in the notebook rather than saving them to file.\n",
    "%matplotlib inline\n",
    "\n",
    "# this line makes plots prettier on mac retina screens. If you don't have one it shouldn't do anything.\n",
    "%config InlineBackend.figure_format = 'retina'"
   ]
  },
  {
   "cell_type": "markdown",
   "metadata": {},
   "source": [
    "<img src=\"http://imgur.com/l5NasQj.png\" style=\"float: left; margin: 25px 15px 0px 0px; height: 25px\">\n",
    "\n",
    "## 1. Load the `sat_scores.csv` dataset and describe it\n",
    "\n",
    "---\n",
    "\n",
    "You should replace the placeholder path to the `sat_scores.csv` dataset below with your specific path to the file.\n",
    "\n",
    "### 1.1 Load the file with the `csv` module and put in dictionary format.\n",
    "\n",
    "The dictionary format for data will be keys as the column names/headers, and values as the row values for that column.\n",
    "\n",
    "Toy example:\n",
    "```python\n",
    "data = {\n",
    "    'column1':[0,1,2,3],\n",
    "    'column2':['a','b','c','d']\n",
    "    }\n",
    "```"
   ]
  },
  {
   "cell_type": "code",
   "execution_count": 63,
   "metadata": {
    "collapsed": false
   },
   "outputs": [
    {
     "name": "stdout",
     "output_type": "stream",
     "text": [
      "[['State', 'Rate', 'Verbal', 'Math'],\n",
      " ['CT', '82', '509', '510'],\n",
      " ['NJ', '81', '499', '513'],\n",
      " ['MA', '79', '511', '515'],\n",
      " ['NY', '77', '495', '505'],\n",
      " ['NH', '72', '520', '516'],\n",
      " ['RI', '71', '501', '499'],\n",
      " ['PA', '71', '500', '499'],\n",
      " ['VT', '69', '511', '506'],\n",
      " ['ME', '69', '506', '500'],\n",
      " ['VA', '68', '510', '501'],\n",
      " ['DE', '67', '501', '499'],\n",
      " ['MD', '65', '508', '510'],\n",
      " ['NC', '65', '493', '499'],\n",
      " ['GA', '63', '491', '489'],\n",
      " ['IN', '60', '499', '501'],\n",
      " ['SC', '57', '486', '488'],\n",
      " ['DC', '56', '482', '474'],\n",
      " ['OR', '55', '526', '526'],\n",
      " ['FL', '54', '498', '499'],\n",
      " ['WA', '53', '527', '527'],\n",
      " ['TX', '53', '493', '499'],\n",
      " ['HI', '52', '485', '515'],\n",
      " ['AK', '51', '514', '510'],\n",
      " ['CA', '51', '498', '517'],\n",
      " ['AZ', '34', '523', '525'],\n",
      " ['NV', '33', '509', '515'],\n",
      " ['CO', '31', '539', '542'],\n",
      " ['OH', '26', '534', '439'],\n",
      " ['MT', '23', '539', '539'],\n",
      " ['WV', '18', '527', '512'],\n",
      " ['ID', '17', '543', '542'],\n",
      " ['TN', '13', '562', '553'],\n",
      " ['NM', '13', '551', '542'],\n",
      " ['IL', '12', '576', '589'],\n",
      " ['KY', '12', '550', '550'],\n",
      " ['WY', '11', '547', '545'],\n",
      " ['MI', '11', '561', '572'],\n",
      " ['MN', '9', '580', '589'],\n",
      " ['KS', '9', '577', '580'],\n",
      " ['AL', '9', '559', '554'],\n",
      " ['NE', '8', '562', '568'],\n",
      " ['OK', '8', '567', '561'],\n",
      " ['MO', '8', '577', '577'],\n",
      " ['LA', '7', '564', '562'],\n",
      " ['WI', '6', '584', '596'],\n",
      " ['AR', '6', '562', '550'],\n",
      " ['UT', '5', '575', '570'],\n",
      " ['IA', '5', '593', '603'],\n",
      " ['SD', '4', '577', '582'],\n",
      " ['ND', '4', '592', '599'],\n",
      " ['MS', '4', '566', '551'],\n",
      " ['All', '45', '506', '514']]\n",
      "{'Math': [510.0,\n",
      "          513.0,\n",
      "          515.0,\n",
      "          505.0,\n",
      "          516.0,\n",
      "          499.0,\n",
      "          499.0,\n",
      "          506.0,\n",
      "          500.0,\n",
      "          501.0,\n",
      "          499.0,\n",
      "          510.0,\n",
      "          499.0,\n",
      "          489.0,\n",
      "          501.0,\n",
      "          488.0,\n",
      "          474.0,\n",
      "          526.0,\n",
      "          499.0,\n",
      "          527.0,\n",
      "          499.0,\n",
      "          515.0,\n",
      "          510.0,\n",
      "          517.0,\n",
      "          525.0,\n",
      "          515.0,\n",
      "          542.0,\n",
      "          439.0,\n",
      "          539.0,\n",
      "          512.0,\n",
      "          542.0,\n",
      "          553.0,\n",
      "          542.0,\n",
      "          589.0,\n",
      "          550.0,\n",
      "          545.0,\n",
      "          572.0,\n",
      "          589.0,\n",
      "          580.0,\n",
      "          554.0,\n",
      "          568.0,\n",
      "          561.0,\n",
      "          577.0,\n",
      "          562.0,\n",
      "          596.0,\n",
      "          550.0,\n",
      "          570.0,\n",
      "          603.0,\n",
      "          582.0,\n",
      "          599.0,\n",
      "          551.0,\n",
      "          514.0],\n",
      " 'Rate': [82.0,\n",
      "          81.0,\n",
      "          79.0,\n",
      "          77.0,\n",
      "          72.0,\n",
      "          71.0,\n",
      "          71.0,\n",
      "          69.0,\n",
      "          69.0,\n",
      "          68.0,\n",
      "          67.0,\n",
      "          65.0,\n",
      "          65.0,\n",
      "          63.0,\n",
      "          60.0,\n",
      "          57.0,\n",
      "          56.0,\n",
      "          55.0,\n",
      "          54.0,\n",
      "          53.0,\n",
      "          53.0,\n",
      "          52.0,\n",
      "          51.0,\n",
      "          51.0,\n",
      "          34.0,\n",
      "          33.0,\n",
      "          31.0,\n",
      "          26.0,\n",
      "          23.0,\n",
      "          18.0,\n",
      "          17.0,\n",
      "          13.0,\n",
      "          13.0,\n",
      "          12.0,\n",
      "          12.0,\n",
      "          11.0,\n",
      "          11.0,\n",
      "          9.0,\n",
      "          9.0,\n",
      "          9.0,\n",
      "          8.0,\n",
      "          8.0,\n",
      "          8.0,\n",
      "          7.0,\n",
      "          6.0,\n",
      "          6.0,\n",
      "          5.0,\n",
      "          5.0,\n",
      "          4.0,\n",
      "          4.0,\n",
      "          4.0,\n",
      "          45.0],\n",
      " 'State': ['CT',\n",
      "           'NJ',\n",
      "           'MA',\n",
      "           'NY',\n",
      "           'NH',\n",
      "           'RI',\n",
      "           'PA',\n",
      "           'VT',\n",
      "           'ME',\n",
      "           'VA',\n",
      "           'DE',\n",
      "           'MD',\n",
      "           'NC',\n",
      "           'GA',\n",
      "           'IN',\n",
      "           'SC',\n",
      "           'DC',\n",
      "           'OR',\n",
      "           'FL',\n",
      "           'WA',\n",
      "           'TX',\n",
      "           'HI',\n",
      "           'AK',\n",
      "           'CA',\n",
      "           'AZ',\n",
      "           'NV',\n",
      "           'CO',\n",
      "           'OH',\n",
      "           'MT',\n",
      "           'WV',\n",
      "           'ID',\n",
      "           'TN',\n",
      "           'NM',\n",
      "           'IL',\n",
      "           'KY',\n",
      "           'WY',\n",
      "           'MI',\n",
      "           'MN',\n",
      "           'KS',\n",
      "           'AL',\n",
      "           'NE',\n",
      "           'OK',\n",
      "           'MO',\n",
      "           'LA',\n",
      "           'WI',\n",
      "           'AR',\n",
      "           'UT',\n",
      "           'IA',\n",
      "           'SD',\n",
      "           'ND',\n",
      "           'MS',\n",
      "           'All'],\n",
      " 'Verbal': [509.0,\n",
      "            499.0,\n",
      "            511.0,\n",
      "            495.0,\n",
      "            520.0,\n",
      "            501.0,\n",
      "            500.0,\n",
      "            511.0,\n",
      "            506.0,\n",
      "            510.0,\n",
      "            501.0,\n",
      "            508.0,\n",
      "            493.0,\n",
      "            491.0,\n",
      "            499.0,\n",
      "            486.0,\n",
      "            482.0,\n",
      "            526.0,\n",
      "            498.0,\n",
      "            527.0,\n",
      "            493.0,\n",
      "            485.0,\n",
      "            514.0,\n",
      "            498.0,\n",
      "            523.0,\n",
      "            509.0,\n",
      "            539.0,\n",
      "            534.0,\n",
      "            539.0,\n",
      "            527.0,\n",
      "            543.0,\n",
      "            562.0,\n",
      "            551.0,\n",
      "            576.0,\n",
      "            550.0,\n",
      "            547.0,\n",
      "            561.0,\n",
      "            580.0,\n",
      "            577.0,\n",
      "            559.0,\n",
      "            562.0,\n",
      "            567.0,\n",
      "            577.0,\n",
      "            564.0,\n",
      "            584.0,\n",
      "            562.0,\n",
      "            575.0,\n",
      "            593.0,\n",
      "            577.0,\n",
      "            592.0,\n",
      "            566.0,\n",
      "            506.0]}\n"
     ]
    }
   ],
   "source": [
    "sat_filepath = '/Users/tlee010/desktop/DSI-SF-2-timdavidlee/datasets/state_sat_scores/sat_scores.csv'\n",
    "with open(sat_filepath,'r') as f:\n",
    "    reader = csv.reader(f)\n",
    "    rows = [rows for rows in reader]\n",
    "pprint(rows)\n",
    "\n",
    "sat_dictionary = {j: [float(k[i]) if k[i].isdigit() else k[i] for k in rows[1:]] for i,j in enumerate(rows[0])}\n",
    "pprint(sat_dictionary)\n"
   ]
  },
  {
   "cell_type": "markdown",
   "metadata": {},
   "source": [
    "### 1.2 Make a pandas DataFrame object with the sat dictionary and also with the pandas `.read_csv()` function\n",
    "\n",
    "Compare the DataFrames using the `.dtypes` attribute in the DataFrame objects. What is the difference between loading from file and inputting this dictionary (if any)?"
   ]
  },
  {
   "cell_type": "code",
   "execution_count": 64,
   "metadata": {
    "collapsed": false
   },
   "outputs": [
    {
     "name": "stdout",
     "output_type": "stream",
     "text": [
      "<class 'pandas.core.frame.DataFrame'>\n",
      "RangeIndex: 52 entries, 0 to 51\n",
      "Data columns (total 4 columns):\n",
      "Math      52 non-null float64\n",
      "Rate      52 non-null float64\n",
      "State     52 non-null object\n",
      "Verbal    52 non-null float64\n",
      "dtypes: float64(3), object(1)\n",
      "memory usage: 1.7+ KB\n"
     ]
    }
   ],
   "source": [
    "sd = pd.DataFrame(sat_dictionary)\n",
    "\n",
    "sd.info()"
   ]
  },
  {
   "cell_type": "code",
   "execution_count": 65,
   "metadata": {
    "collapsed": false
   },
   "outputs": [
    {
     "data": {
      "text/html": [
       "<div>\n",
       "<table border=\"1\" class=\"dataframe\">\n",
       "  <thead>\n",
       "    <tr style=\"text-align: right;\">\n",
       "      <th></th>\n",
       "      <th>Math</th>\n",
       "      <th>Rate</th>\n",
       "      <th>State</th>\n",
       "      <th>Verbal</th>\n",
       "    </tr>\n",
       "  </thead>\n",
       "  <tbody>\n",
       "    <tr>\n",
       "      <th>0</th>\n",
       "      <td>510.0</td>\n",
       "      <td>82.0</td>\n",
       "      <td>CT</td>\n",
       "      <td>509.0</td>\n",
       "    </tr>\n",
       "  </tbody>\n",
       "</table>\n",
       "</div>"
      ],
      "text/plain": [
       "    Math  Rate State  Verbal\n",
       "0  510.0  82.0    CT   509.0"
      ]
     },
     "execution_count": 65,
     "metadata": {},
     "output_type": "execute_result"
    }
   ],
   "source": [
    "sd[sd['State']=='CT']"
   ]
  },
  {
   "cell_type": "markdown",
   "metadata": {},
   "source": [
    "If you did not convert the string column values to float in your dictionary, the columns in the DataFrame are of type `object` (which are string values, essentially). "
   ]
  },
  {
   "cell_type": "markdown",
   "metadata": {},
   "source": [
    "### 1.3 Look at the first ten rows of the DataFrame and describe what the data appears to be. \n",
    "\n",
    "From now on, use the DataFrame loaded from the file using the `.read_csv()` function.\n",
    "\n",
    "Use the `.head(num)` built-in DataFrame function, where `num` is the number of rows to print out.\n",
    "\n",
    "You are not given a \"codebook\" with this data, so you will have to make some (very minor) inference."
   ]
  },
  {
   "cell_type": "code",
   "execution_count": 66,
   "metadata": {
    "collapsed": false
   },
   "outputs": [
    {
     "data": {
      "text/html": [
       "<div>\n",
       "<table border=\"1\" class=\"dataframe\">\n",
       "  <thead>\n",
       "    <tr style=\"text-align: right;\">\n",
       "      <th></th>\n",
       "      <th>Math</th>\n",
       "      <th>Rate</th>\n",
       "      <th>State</th>\n",
       "      <th>Verbal</th>\n",
       "    </tr>\n",
       "  </thead>\n",
       "  <tbody>\n",
       "    <tr>\n",
       "      <th>0</th>\n",
       "      <td>510.0</td>\n",
       "      <td>82.0</td>\n",
       "      <td>CT</td>\n",
       "      <td>509.0</td>\n",
       "    </tr>\n",
       "    <tr>\n",
       "      <th>1</th>\n",
       "      <td>513.0</td>\n",
       "      <td>81.0</td>\n",
       "      <td>NJ</td>\n",
       "      <td>499.0</td>\n",
       "    </tr>\n",
       "    <tr>\n",
       "      <th>2</th>\n",
       "      <td>515.0</td>\n",
       "      <td>79.0</td>\n",
       "      <td>MA</td>\n",
       "      <td>511.0</td>\n",
       "    </tr>\n",
       "    <tr>\n",
       "      <th>3</th>\n",
       "      <td>505.0</td>\n",
       "      <td>77.0</td>\n",
       "      <td>NY</td>\n",
       "      <td>495.0</td>\n",
       "    </tr>\n",
       "    <tr>\n",
       "      <th>4</th>\n",
       "      <td>516.0</td>\n",
       "      <td>72.0</td>\n",
       "      <td>NH</td>\n",
       "      <td>520.0</td>\n",
       "    </tr>\n",
       "    <tr>\n",
       "      <th>5</th>\n",
       "      <td>499.0</td>\n",
       "      <td>71.0</td>\n",
       "      <td>RI</td>\n",
       "      <td>501.0</td>\n",
       "    </tr>\n",
       "    <tr>\n",
       "      <th>6</th>\n",
       "      <td>499.0</td>\n",
       "      <td>71.0</td>\n",
       "      <td>PA</td>\n",
       "      <td>500.0</td>\n",
       "    </tr>\n",
       "    <tr>\n",
       "      <th>7</th>\n",
       "      <td>506.0</td>\n",
       "      <td>69.0</td>\n",
       "      <td>VT</td>\n",
       "      <td>511.0</td>\n",
       "    </tr>\n",
       "    <tr>\n",
       "      <th>8</th>\n",
       "      <td>500.0</td>\n",
       "      <td>69.0</td>\n",
       "      <td>ME</td>\n",
       "      <td>506.0</td>\n",
       "    </tr>\n",
       "    <tr>\n",
       "      <th>9</th>\n",
       "      <td>501.0</td>\n",
       "      <td>68.0</td>\n",
       "      <td>VA</td>\n",
       "      <td>510.0</td>\n",
       "    </tr>\n",
       "  </tbody>\n",
       "</table>\n",
       "</div>"
      ],
      "text/plain": [
       "    Math  Rate State  Verbal\n",
       "0  510.0  82.0    CT   509.0\n",
       "1  513.0  81.0    NJ   499.0\n",
       "2  515.0  79.0    MA   511.0\n",
       "3  505.0  77.0    NY   495.0\n",
       "4  516.0  72.0    NH   520.0\n",
       "5  499.0  71.0    RI   501.0\n",
       "6  499.0  71.0    PA   500.0\n",
       "7  506.0  69.0    VT   511.0\n",
       "8  500.0  69.0    ME   506.0\n",
       "9  501.0  68.0    VA   510.0"
      ]
     },
     "execution_count": 66,
     "metadata": {},
     "output_type": "execute_result"
    }
   ],
   "source": [
    "sd.head(10)"
   ]
  },
  {
   "cell_type": "markdown",
   "metadata": {},
   "source": [
    "<img src=\"http://imgur.com/l5NasQj.png\" style=\"float: left; margin: 25px 15px 0px 0px; height: 25px\">\n",
    "\n",
    "## 2. Create a \"data dictionary\" based on the data\n",
    "\n",
    "---\n",
    "\n",
    "A data dictionary is an object that describes your data. This should contain the name of each variable (column), the type of the variable, your description of what the variable is, and the shape (rows and columns) of the entire dataset."
   ]
  },
  {
   "cell_type": "code",
   "execution_count": 67,
   "metadata": {
    "collapsed": false
   },
   "outputs": [
    {
     "name": "stdout",
     "output_type": "stream",
     "text": [
      "{'Shape': [4, 52],\n",
      " 'fields': {'Math': {'Description': 'these are math scores of high school students',\n",
      "                     'Type': 'float'},\n",
      "            'Rate': {'Description': 'rate of study', 'Type': 'float'},\n",
      "            'Verbal': {'Description': 'these are verbal scores of high school students',\n",
      "                       'Type': 'float'}}}\n"
     ]
    }
   ],
   "source": [
    "sd.describe()\n",
    "data_dictionary = { 'Shape': [4, 52]\n",
    "                    ,'fields':{\n",
    "                                'Math':{\n",
    "                                        'Description': 'these are math scores of high school students'\n",
    "                                        , 'Type':'float'\n",
    "                            \n",
    "                                        }\n",
    "                                ,'Verbal':{\n",
    "                                        'Description': 'these are verbal scores of high school students'\n",
    "                                        , 'Type':'float'            \n",
    "                                        }\n",
    "                                , 'Rate':{\n",
    "                                            'Description': 'rate of study'\n",
    "                                        , 'Type':'float'\n",
    "                                        }\n",
    "                            }\n",
    "                  }\n",
    "from pprint import pprint\n",
    "pprint(data_dictionary)"
   ]
  },
  {
   "cell_type": "markdown",
   "metadata": {},
   "source": [
    "<img src=\"http://imgur.com/l5NasQj.png\" style=\"float: left; margin: 25px 15px 0px 0px; height: 25px\">\n",
    "\n",
    "## 3. Plot the data using seaborn\n",
    "\n",
    "---\n",
    "\n",
    "### 3.1 Using seaborn's `distplot`, plot the distributions for each of `Rate`, `Math`, and `Verbal`\n",
    "\n",
    "Set the keyword argument `kde=False`. This way you can actually see the counts within bins. You can adjust the number of bins to your liking. \n",
    "\n",
    "[Please read over the `distplot` documentation to learn about the arguments and fine-tune your chart if you want.](https://stanford.edu/~mwaskom/software/seaborn/generated/seaborn.distplot.html#seaborn.distplot)"
   ]
  },
  {
   "cell_type": "code",
   "execution_count": 72,
   "metadata": {
    "collapsed": false
   },
   "outputs": [
    {
     "data": {
      "image/png": "[encoded data removed]",
      "text/plain": [
       "<matplotlib.figure.Figure at 0x1214c9150>"
      ]
     },
     "metadata": {
      "image/png": {
       "height": 329,
       "width": 707
      }
     },
     "output_type": "display_data"
    }
   ],
   "source": [
    "fig = plt.figure(figsize =(12,5))\n",
    "ax = fig.gca()\n",
    "ax = distplot(sd['Rate'],kde=False,bins=10)\n",
    "plt.show()"
   ]
  },
  {
   "cell_type": "code",
   "execution_count": 73,
   "metadata": {
    "collapsed": false
   },
   "outputs": [
    {
     "data": {
      "image/png": "[encoded data removed]",
      "text/plain": [
       "<matplotlib.figure.Figure at 0x121541d10>"
      ]
     },
     "metadata": {
      "image/png": {
       "height": 329,
       "width": 710
      }
     },
     "output_type": "display_data"
    }
   ],
   "source": [
    "fig = plt.figure(figsize = [12,5])\n",
    "ax = fig.gca()\n",
    "ax = distplot(sd['Math'],kde=False,bins=10)\n",
    "plt.show()\n",
    "\n"
   ]
  },
  {
   "cell_type": "code",
   "execution_count": 75,
   "metadata": {
    "collapsed": false
   },
   "outputs": [
    {
     "data": {
      "image/png": "[encoded data removed]",
      "text/plain": [
       "<matplotlib.figure.Figure at 0x121ec1190>"
      ]
     },
     "metadata": {
      "image/png": {
       "height": 329,
       "width": 704
      }
     },
     "output_type": "display_data"
    }
   ],
   "source": [
    "fig = plt.figure(figsize = [12,5])\n",
    "ax = fig.gca()\n",
    "ax = distplot(sd['Verbal'],kde=False,bins=10)\n",
    "plt.show()\n",
    "\n"
   ]
  },
  {
   "cell_type": "markdown",
   "metadata": {},
   "source": [
    "### 3.2 Using seaborn's `pairplot`, show the joint distributions for each of `Rate`, `Math`, and `Verbal`\n",
    "\n",
    "Explain what the visualization tells you about your data.\n",
    "\n",
    "[Please read over the `pairplot` documentation to fine-tune your chart.](https://stanford.edu/~mwaskom/software/seaborn/generated/seaborn.pairplot.html#seaborn.pairplot)"
   ]
  },
  {
   "cell_type": "code",
   "execution_count": 9,
   "metadata": {
    "collapsed": false
   },
   "outputs": [
    {
     "data": {
      "text/plain": [
       "<seaborn.axisgrid.PairGrid at 0x11a271c50>"
      ]
     },
     "execution_count": 9,
     "metadata": {},
     "output_type": "execute_result"
    },
    {
     "data": {
      "image/png": "[encoded data removed]",
      "text/plain": [
       "<matplotlib.figure.Figure at 0x1064c43d0>"
      ]
     },
     "metadata": {
      "image/png": {
       "height": 785,
       "width": 589
      }
     },
     "output_type": "display_data"
    }
   ],
   "source": [
    "seaborn.pairplot(sd, hue ='State')"
   ]
  },
  {
   "cell_type": "markdown",
   "metadata": {},
   "source": [
    "<img src=\"http://imgur.com/l5NasQj.png\" style=\"float: left; margin: 25px 15px 0px 0px; height: 25px\">\n",
    "\n",
    "## 4. Plot the data using built-in pandas functions.\n",
    "\n",
    "---\n",
    "\n",
    "Pandas is very powerful and contains a variety of nice, built in plotting functions for your data. Read the documentation here to overview and understand the capabilities:\n",
    "\n",
    "http://pandas.pydata.org/pandas-docs/stable/visualization.html\n",
    "\n",
    "### 4.1 Plot a stacked histogram with `Verbal` and `Math` using pandas"
   ]
  },
  {
   "cell_type": "code",
   "execution_count": 10,
   "metadata": {
    "collapsed": false
   },
   "outputs": [
    {
     "data": {
      "text/plain": [
       "<matplotlib.axes._subplots.AxesSubplot at 0x11f946e90>"
      ]
     },
     "execution_count": 10,
     "metadata": {},
     "output_type": "execute_result"
    },
    {
     "data": {
      "image/png": "[encoded data removed]",
      "text/plain": [
       "<matplotlib.figure.Figure at 0x11e59f8d0>"
      ]
     },
     "metadata": {
      "image/png": {
       "height": 258,
       "width": 390
      }
     },
     "output_type": "display_data"
    }
   ],
   "source": [
    "sd.plot.hist(stacked = True)"
   ]
  },
  {
   "cell_type": "markdown",
   "metadata": {},
   "source": [
    "### 4.2 Plot `Verbal` and `Math` on the same chart using boxplots\n",
    "\n",
    "What are the benefits of using a boxplot as compared to a scatterplot or a histogram?\n",
    "\n",
    "What's wrong with plotting a box-plot of `Rate` on the same chart as `Math` and `Verbal`?"
   ]
  },
  {
   "cell_type": "code",
   "execution_count": 13,
   "metadata": {
    "collapsed": false
   },
   "outputs": [
    {
     "data": {
      "text/plain": [
       "<matplotlib.axes._subplots.AxesSubplot at 0x120dc0a10>"
      ]
     },
     "execution_count": 13,
     "metadata": {},
     "output_type": "execute_result"
    },
    {
     "data": {
      "image/png": "[encoded data removed]",
      "text/plain": [
       "<matplotlib.figure.Figure at 0x120dda0d0>"
      ]
     },
     "metadata": {
      "image/png": {
       "height": 258,
       "width": 372
      }
     },
     "output_type": "display_data"
    }
   ],
   "source": [
    "sd[['Math','Verbal']].plot.box(stacked = True)\n",
    "# the rate needs to be normalized compared to the two other stores."
   ]
  },
  {
   "cell_type": "markdown",
   "metadata": {},
   "source": [
    "<img src=\"http://imgur.com/xDpSobf.png\" style=\"float: left; margin: 25px 15px 0px 0px; height: 25px\">\n",
    "\n",
    "### 4.3 Plot `Verbal`, `Math`, and `Rate` appropriately on the same boxplot chart\n",
    "\n",
    "Think about how you might change the variables so that they would make sense on the same chart. Explain your rationale for the choices on the chart. You should strive to make the chart as intuitive as possible. \n"
   ]
  },
  {
   "cell_type": "code",
   "execution_count": 14,
   "metadata": {
    "collapsed": false
   },
   "outputs": [
    {
     "name": "stdout",
     "output_type": "stream",
     "text": [
      "     Math  Rate State  Verbal\n",
      "0   510.0  82.0    CT   509.0\n",
      "1   513.0  81.0    NJ   499.0\n",
      "2   515.0  79.0    MA   511.0\n",
      "3   505.0  77.0    NY   495.0\n",
      "4   516.0  72.0    NH   520.0\n",
      "5   499.0  71.0    RI   501.0\n",
      "6   499.0  71.0    PA   500.0\n",
      "7   506.0  69.0    VT   511.0\n",
      "8   500.0  69.0    ME   506.0\n",
      "9   501.0  68.0    VA   510.0\n",
      "10  499.0  67.0    DE   501.0\n",
      "11  510.0  65.0    MD   508.0\n",
      "12  499.0  65.0    NC   493.0\n",
      "13  489.0  63.0    GA   491.0\n",
      "14  501.0  60.0    IN   499.0\n",
      "15  488.0  57.0    SC   486.0\n",
      "16  474.0  56.0    DC   482.0\n",
      "17  526.0  55.0    OR   526.0\n",
      "18  499.0  54.0    FL   498.0\n",
      "19  527.0  53.0    WA   527.0\n",
      "20  499.0  53.0    TX   493.0\n",
      "21  515.0  52.0    HI   485.0\n",
      "22  510.0  51.0    AK   514.0\n",
      "23  517.0  51.0    CA   498.0\n",
      "24  525.0  34.0    AZ   523.0\n",
      "25  515.0  33.0    NV   509.0\n",
      "26  542.0  31.0    CO   539.0\n",
      "27  439.0  26.0    OH   534.0\n",
      "28  539.0  23.0    MT   539.0\n",
      "29  512.0  18.0    WV   527.0\n",
      "30  542.0  17.0    ID   543.0\n",
      "31  553.0  13.0    TN   562.0\n",
      "32  542.0  13.0    NM   551.0\n",
      "33  589.0  12.0    IL   576.0\n",
      "34  550.0  12.0    KY   550.0\n",
      "35  545.0  11.0    WY   547.0\n",
      "36  572.0  11.0    MI   561.0\n",
      "37  589.0   9.0    MN   580.0\n",
      "38  580.0   9.0    KS   577.0\n",
      "39  554.0   9.0    AL   559.0\n",
      "40  568.0   8.0    NE   562.0\n",
      "41  561.0   8.0    OK   567.0\n",
      "42  577.0   8.0    MO   577.0\n",
      "43  562.0   7.0    LA   564.0\n",
      "44  596.0   6.0    WI   584.0\n",
      "45  550.0   6.0    AR   562.0\n",
      "46  570.0   5.0    UT   575.0\n",
      "47  603.0   5.0    IA   593.0\n",
      "48  582.0   4.0    SD   577.0\n",
      "49  599.0   4.0    ND   592.0\n",
      "50  551.0   4.0    MS   566.0\n",
      "51  514.0  45.0   All   506.0\n",
      "        Math      Rate State    Verbal\n",
      "0   0.959548  2.207039    CT  0.956732\n",
      "1   0.965193  2.180124    NJ  0.937936\n",
      "2   0.968956  2.126294    MA  0.960492\n",
      "3   0.950141  2.072464    NY  0.930417\n",
      "4   0.970837  1.937888    NH  0.977408\n",
      "5   0.938852  1.910973    RI  0.941695\n",
      "6   0.938852  1.910973    PA  0.939816\n",
      "7   0.952023  1.857143    VT  0.960492\n",
      "8   0.940734  1.857143    ME  0.951093\n",
      "9   0.942615  1.830228    VA  0.958612\n",
      "10  0.938852  1.803313    DE  0.941695\n",
      "11  0.959548  1.749482    MD  0.954853\n",
      "12  0.938852  1.749482    NC  0.926658\n",
      "13  0.920038  1.695652    GA  0.922899\n",
      "14  0.942615  1.614907    IN  0.937936\n",
      "15  0.918156  1.534161    SC  0.913501\n",
      "16  0.891816  1.507246    DC  0.905982\n",
      "17  0.989652  1.480331    OR  0.988686\n",
      "18  0.938852  1.453416    FL  0.936056\n",
      "19  0.991533  1.426501    WA  0.990566\n",
      "20  0.938852  1.426501    TX  0.926658\n",
      "21  0.968956  1.399586    HI  0.911621\n",
      "22  0.959548  1.372671    AK  0.966130\n",
      "23  0.972719  1.372671    CA  0.936056\n",
      "24  0.987770  0.915114    AZ  0.983047\n",
      "25  0.968956  0.888199    NV  0.956732\n",
      "26  1.019755  0.834369    CO  1.013121\n",
      "27  0.825964  0.699793    OH  1.003723\n",
      "28  1.014111  0.619048    MT  1.013121\n",
      "29  0.963311  0.484472    WV  0.990566\n",
      "30  1.019755  0.457557    ID  1.020640\n",
      "31  1.040452  0.349896    TN  1.056353\n",
      "32  1.019755  0.349896    NM  1.035677\n",
      "33  1.108184  0.322981    IL  1.082668\n",
      "34  1.034807  0.322981    KY  1.033797\n",
      "35  1.025400  0.296066    WY  1.028158\n",
      "36  1.076199  0.296066    MI  1.054473\n",
      "37  1.108184  0.242236    MN  1.090186\n",
      "38  1.091251  0.242236    KS  1.084547\n",
      "39  1.042333  0.242236    AL  1.050714\n",
      "40  1.068674  0.215321    NE  1.056353\n",
      "41  1.055503  0.215321    OK  1.065751\n",
      "42  1.085607  0.215321    MO  1.084547\n",
      "43  1.057385  0.188406    LA  1.060112\n",
      "44  1.121355  0.161491    WI  1.097705\n",
      "45  1.034807  0.161491    AR  1.056353\n",
      "46  1.072437  0.134576    UT  1.080788\n",
      "47  1.134525  0.134576    IA  1.114621\n",
      "48  1.095014  0.107660    SD  1.084547\n",
      "49  1.126999  0.107660    ND  1.112742\n",
      "50  1.036689  0.107660    MS  1.063871\n",
      "51  0.967074  1.211180   All  0.951093\n"
     ]
    },
    {
     "data": {
      "image/png": "[encoded data removed]",
      "text/plain": [
       "<matplotlib.figure.Figure at 0x11f129a90>"
      ]
     },
     "metadata": {
      "image/png": {
       "height": 258,
       "width": 370
      }
     },
     "output_type": "display_data"
    }
   ],
   "source": [
    "#normalize all the scores:\n",
    "sd_norm = sd.copy()\n",
    "sd_norm['Rate'] = sd['Rate']/sd['Rate'].mean()\n",
    "sd_norm['Verbal'] = sd['Verbal']/sd['Verbal'].mean()\n",
    "sd_norm['Math'] = sd['Math']/sd['Math'].mean()\n",
    "\n",
    "sd_norm.plot.box(stacked = True)\n",
    "print sd\n",
    "print sd_norm\n"
   ]
  },
  {
   "cell_type": "markdown",
   "metadata": {},
   "source": [
    "<img src=\"http://imgur.com/l5NasQj.png\" style=\"float: left; margin: 25px 15px 0px 0px; height: 25px\">\n",
    "\n",
    "## 5. Create and examine subsets of the data\n",
    "\n",
    "---\n",
    "\n",
    "For these questions you will practice **masking** in pandas. Recall that masking uses conditional statements to select portions of your DataFrame (through boolean operations under the hood.)\n",
    "\n",
    "Remember the distinction between DataFrame indexing functions in pandas:\n",
    "\n",
    "    .iloc[row, col] : row and column are specified by index, which are integers\n",
    "    .loc[row, col]  : row and column are specified by string \"labels\" (boolean arrays are allowed; useful for rows)\n",
    "    .ix[row, col]   : row and column indexers can be a mix of labels and integer indices\n",
    "    \n",
    "For detailed reference and tutorial make sure to read over the pandas documentation:\n",
    "\n",
    "http://pandas.pydata.org/pandas-docs/stable/indexing.html\n",
    "\n",
    "\n",
    "\n",
    "### 5.1 Find the list of states that have `Verbal` scores greater than the average of `Verbal` scores across states\n",
    "\n",
    "How many states are above the mean? What does this tell you about the distribution of `Verbal` scores?\n",
    "\n",
    "\n"
   ]
  },
  {
   "cell_type": "code",
   "execution_count": 19,
   "metadata": {
    "collapsed": false
   },
   "outputs": [
    {
     "name": "stdout",
     "output_type": "stream",
     "text": [
      "532.019230769\n",
      "     Math  Rate State  Verbal\n",
      "0   510.0  82.0    CT   509.0\n",
      "1   513.0  81.0    NJ   499.0\n",
      "2   515.0  79.0    MA   511.0\n",
      "3   505.0  77.0    NY   495.0\n",
      "4   516.0  72.0    NH   520.0\n",
      "5   499.0  71.0    RI   501.0\n",
      "6   499.0  71.0    PA   500.0\n",
      "7   506.0  69.0    VT   511.0\n",
      "8   500.0  69.0    ME   506.0\n",
      "9   501.0  68.0    VA   510.0\n",
      "10  499.0  67.0    DE   501.0\n",
      "11  510.0  65.0    MD   508.0\n",
      "12  499.0  65.0    NC   493.0\n",
      "13  489.0  63.0    GA   491.0\n",
      "14  501.0  60.0    IN   499.0\n",
      "15  488.0  57.0    SC   486.0\n",
      "16  474.0  56.0    DC   482.0\n",
      "17  526.0  55.0    OR   526.0\n",
      "18  499.0  54.0    FL   498.0\n",
      "19  527.0  53.0    WA   527.0\n",
      "20  499.0  53.0    TX   493.0\n",
      "21  515.0  52.0    HI   485.0\n",
      "22  510.0  51.0    AK   514.0\n",
      "23  517.0  51.0    CA   498.0\n",
      "24  525.0  34.0    AZ   523.0\n",
      "25  515.0  33.0    NV   509.0\n",
      "26  542.0  31.0    CO   539.0\n",
      "27  439.0  26.0    OH   534.0\n",
      "28  539.0  23.0    MT   539.0\n",
      "29  512.0  18.0    WV   527.0\n",
      "30  542.0  17.0    ID   543.0\n",
      "31  553.0  13.0    TN   562.0\n",
      "32  542.0  13.0    NM   551.0\n",
      "33  589.0  12.0    IL   576.0\n",
      "34  550.0  12.0    KY   550.0\n",
      "35  545.0  11.0    WY   547.0\n",
      "36  572.0  11.0    MI   561.0\n",
      "37  589.0   9.0    MN   580.0\n",
      "38  580.0   9.0    KS   577.0\n",
      "39  554.0   9.0    AL   559.0\n",
      "40  568.0   8.0    NE   562.0\n",
      "41  561.0   8.0    OK   567.0\n",
      "42  577.0   8.0    MO   577.0\n",
      "43  562.0   7.0    LA   564.0\n",
      "44  596.0   6.0    WI   584.0\n",
      "45  550.0   6.0    AR   562.0\n",
      "46  570.0   5.0    UT   575.0\n",
      "47  603.0   5.0    IA   593.0\n",
      "48  582.0   4.0    SD   577.0\n",
      "49  599.0   4.0    ND   592.0\n",
      "50  551.0   4.0    MS   566.0\n",
      "51  514.0  45.0   All   506.0\n",
      "26    CO\n",
      "27    OH\n",
      "28    MT\n",
      "30    ID\n",
      "31    TN\n",
      "32    NM\n",
      "33    IL\n",
      "34    KY\n",
      "35    WY\n",
      "36    MI\n",
      "37    MN\n",
      "38    KS\n",
      "39    AL\n",
      "40    NE\n",
      "41    OK\n",
      "42    MO\n",
      "43    LA\n",
      "44    WI\n",
      "45    AR\n",
      "46    UT\n",
      "47    IA\n",
      "48    SD\n",
      "49    ND\n",
      "50    MS\n",
      "Name: State, dtype: object\n",
      "24\n"
     ]
    }
   ],
   "source": [
    "print sd.loc[:,'Verbal'].mean()\n",
    "print sd\n",
    "states5p1 = sd.loc[sd['Verbal'] >sd['Verbal'].mean(),'State']\n",
    "print states5p1\n",
    "print len(states5p1)"
   ]
  },
  {
   "cell_type": "markdown",
   "metadata": {},
   "source": [
    "### 5.2 Find the list of states that have `Verbal` scores greater than the median of `Verbal` scores across states\n",
    "\n",
    "How does this compare to the list of states greater than the mean of `Verbal` scores? Why?"
   ]
  },
  {
   "cell_type": "code",
   "execution_count": 16,
   "metadata": {
    "collapsed": false
   },
   "outputs": [
    {
     "name": "stdout",
     "output_type": "stream",
     "text": [
      "526.5\n",
      "19    WA\n",
      "26    CO\n",
      "27    OH\n",
      "28    MT\n",
      "29    WV\n",
      "30    ID\n",
      "31    TN\n",
      "32    NM\n",
      "33    IL\n",
      "34    KY\n",
      "35    WY\n",
      "36    MI\n",
      "37    MN\n",
      "38    KS\n",
      "39    AL\n",
      "40    NE\n",
      "41    OK\n",
      "42    MO\n",
      "43    LA\n",
      "44    WI\n",
      "45    AR\n",
      "46    UT\n",
      "47    IA\n",
      "48    SD\n",
      "49    ND\n",
      "50    MS\n",
      "Name: State, dtype: object\n",
      "26\n"
     ]
    }
   ],
   "source": [
    "print sd['Verbal'].median()\n",
    "states5p1 = sd['State'][sd['Verbal'] >sd['Verbal'].median()]\n",
    "print states5p1\n",
    "print len(states5p1)"
   ]
  },
  {
   "cell_type": "markdown",
   "metadata": {},
   "source": [
    "### 5.3 Create a column that is the difference between the `Verbal` and `Math` scores\n",
    "\n",
    "Specifically, this should be `Verbal - Math`."
   ]
  },
  {
   "cell_type": "code",
   "execution_count": 17,
   "metadata": {
    "collapsed": false
   },
   "outputs": [
    {
     "name": "stdout",
     "output_type": "stream",
     "text": [
      "     Math  Rate State  Verbal  Verbal - Math\n",
      "0   510.0  82.0    CT   509.0           -1.0\n",
      "1   513.0  81.0    NJ   499.0          -14.0\n",
      "2   515.0  79.0    MA   511.0           -4.0\n",
      "3   505.0  77.0    NY   495.0          -10.0\n",
      "4   516.0  72.0    NH   520.0            4.0\n",
      "5   499.0  71.0    RI   501.0            2.0\n",
      "6   499.0  71.0    PA   500.0            1.0\n",
      "7   506.0  69.0    VT   511.0            5.0\n",
      "8   500.0  69.0    ME   506.0            6.0\n",
      "9   501.0  68.0    VA   510.0            9.0\n",
      "10  499.0  67.0    DE   501.0            2.0\n",
      "11  510.0  65.0    MD   508.0           -2.0\n",
      "12  499.0  65.0    NC   493.0           -6.0\n",
      "13  489.0  63.0    GA   491.0            2.0\n",
      "14  501.0  60.0    IN   499.0           -2.0\n",
      "15  488.0  57.0    SC   486.0           -2.0\n",
      "16  474.0  56.0    DC   482.0            8.0\n",
      "17  526.0  55.0    OR   526.0            0.0\n",
      "18  499.0  54.0    FL   498.0           -1.0\n",
      "19  527.0  53.0    WA   527.0            0.0\n",
      "20  499.0  53.0    TX   493.0           -6.0\n",
      "21  515.0  52.0    HI   485.0          -30.0\n",
      "22  510.0  51.0    AK   514.0            4.0\n",
      "23  517.0  51.0    CA   498.0          -19.0\n",
      "24  525.0  34.0    AZ   523.0           -2.0\n",
      "25  515.0  33.0    NV   509.0           -6.0\n",
      "26  542.0  31.0    CO   539.0           -3.0\n",
      "27  439.0  26.0    OH   534.0           95.0\n",
      "28  539.0  23.0    MT   539.0            0.0\n",
      "29  512.0  18.0    WV   527.0           15.0\n",
      "30  542.0  17.0    ID   543.0            1.0\n",
      "31  553.0  13.0    TN   562.0            9.0\n",
      "32  542.0  13.0    NM   551.0            9.0\n",
      "33  589.0  12.0    IL   576.0          -13.0\n",
      "34  550.0  12.0    KY   550.0            0.0\n",
      "35  545.0  11.0    WY   547.0            2.0\n",
      "36  572.0  11.0    MI   561.0          -11.0\n",
      "37  589.0   9.0    MN   580.0           -9.0\n",
      "38  580.0   9.0    KS   577.0           -3.0\n",
      "39  554.0   9.0    AL   559.0            5.0\n",
      "40  568.0   8.0    NE   562.0           -6.0\n",
      "41  561.0   8.0    OK   567.0            6.0\n",
      "42  577.0   8.0    MO   577.0            0.0\n",
      "43  562.0   7.0    LA   564.0            2.0\n",
      "44  596.0   6.0    WI   584.0          -12.0\n",
      "45  550.0   6.0    AR   562.0           12.0\n",
      "46  570.0   5.0    UT   575.0            5.0\n",
      "47  603.0   5.0    IA   593.0          -10.0\n",
      "48  582.0   4.0    SD   577.0           -5.0\n",
      "49  599.0   4.0    ND   592.0           -7.0\n",
      "50  551.0   4.0    MS   566.0           15.0\n",
      "51  514.0  45.0   All   506.0           -8.0\n"
     ]
    }
   ],
   "source": [
    "sd_new = sd.copy()\n",
    "sd_new['Verbal - Math'] =  sd_new['Verbal']-sd_new['Math']\n",
    "print sd_new"
   ]
  },
  {
   "cell_type": "markdown",
   "metadata": {},
   "source": [
    "### 5.4 Create two new DataFrames showing states with the greatest difference between scores\n",
    "\n",
    "1. Your first DataFrame should be the 10 states with the greatest gap between `Verbal` and `Math` scores where `Verbal` is greater than `Math`. It should be sorted appropriately to show the ranking of states.\n",
    "2. Your second DataFrame will be the inverse: states with the greatest gap between `Verbal` and `Math` such that `Math` is greater than `Verbal`. Again, this should be sorted appropriately to show rank.\n",
    "3. Print the header of both variables, only showing the top 3 states in each."
   ]
  },
  {
   "cell_type": "code",
   "execution_count": 18,
   "metadata": {
    "collapsed": false
   },
   "outputs": [
    {
     "name": "stdout",
     "output_type": "stream",
     "text": [
      "     Math  Rate State  Verbal  Verbal - Math\n",
      "27  439.0  26.0    OH   534.0           95.0\n",
      "50  551.0   4.0    MS   566.0           15.0\n",
      "29  512.0  18.0    WV   527.0           15.0\n",
      "     Math  Rate State  Verbal  Verbal - Math\n",
      "21  515.0  52.0    HI   485.0          -30.0\n",
      "23  517.0  51.0    CA   498.0          -19.0\n",
      "1   513.0  81.0    NJ   499.0          -14.0\n"
     ]
    }
   ],
   "source": [
    "\n",
    "top10_mathstrong = sd_new[sd_new['Verbal - Math'] >= 0].sort_values('Verbal - Math', ascending=False).head(10)\n",
    "top10_verbalstrong = sd_new[sd_new['Verbal - Math'] < 0].sort_values('Verbal - Math', ascending=True).head(10)\n",
    "print top10_mathstrong.head(3)\n",
    "print top10_verbalstrong.head(3)"
   ]
  },
  {
   "cell_type": "markdown",
   "metadata": {},
   "source": [
    "<img src=\"http://imgur.com/l5NasQj.png\" style=\"float: left; margin: 25px 15px 0px 0px; height: 25px\">\n",
    "\n",
    "## 6. Examine summary statistics\n",
    "\n",
    "---\n",
    "\n",
    "Checking the summary statistics for data is an essential step in the EDA process!\n",
    "\n",
    "### 6.1 Create the correlation matrix of your variables (excluding `State`).\n",
    "\n",
    "What does the correlation matrix tell you?\n"
   ]
  },
  {
   "cell_type": "code",
   "execution_count": 19,
   "metadata": {
    "collapsed": false
   },
   "outputs": [
    {
     "data": {
      "text/html": [
       "<div>\n",
       "<table border=\"1\" class=\"dataframe\">\n",
       "  <thead>\n",
       "    <tr style=\"text-align: right;\">\n",
       "      <th></th>\n",
       "      <th>Math</th>\n",
       "      <th>Rate</th>\n",
       "      <th>Verbal</th>\n",
       "      <th>Verbal - Math</th>\n",
       "    </tr>\n",
       "  </thead>\n",
       "  <tbody>\n",
       "    <tr>\n",
       "      <th>Math</th>\n",
       "      <td>1.000000</td>\n",
       "      <td>-0.773746</td>\n",
       "      <td>0.899871</td>\n",
       "      <td>-0.388219</td>\n",
       "    </tr>\n",
       "    <tr>\n",
       "      <th>Rate</th>\n",
       "      <td>-0.773746</td>\n",
       "      <td>1.000000</td>\n",
       "      <td>-0.886432</td>\n",
       "      <td>-0.101412</td>\n",
       "    </tr>\n",
       "    <tr>\n",
       "      <th>Verbal</th>\n",
       "      <td>0.899871</td>\n",
       "      <td>-0.886432</td>\n",
       "      <td>1.000000</td>\n",
       "      <td>0.052600</td>\n",
       "    </tr>\n",
       "    <tr>\n",
       "      <th>Verbal - Math</th>\n",
       "      <td>-0.388219</td>\n",
       "      <td>-0.101412</td>\n",
       "      <td>0.052600</td>\n",
       "      <td>1.000000</td>\n",
       "    </tr>\n",
       "  </tbody>\n",
       "</table>\n",
       "</div>"
      ],
      "text/plain": [
       "                   Math      Rate    Verbal  Verbal - Math\n",
       "Math           1.000000 -0.773746  0.899871      -0.388219\n",
       "Rate          -0.773746  1.000000 -0.886432      -0.101412\n",
       "Verbal         0.899871 -0.886432  1.000000       0.052600\n",
       "Verbal - Math -0.388219 -0.101412  0.052600       1.000000"
      ]
     },
     "execution_count": 19,
     "metadata": {},
     "output_type": "execute_result"
    }
   ],
   "source": [
    "sd_new.corr()\n",
    "# correlation shows a strong positive relationship between Verbal and Math (close to 1)\n",
    "# correlation also shows a strong negative relationship between rate and math (close to -1))"
   ]
  },
  {
   "cell_type": "markdown",
   "metadata": {},
   "source": [
    "### 6.2 Use pandas'  `.describe()` built-in function on your DataFrame\n",
    "\n",
    "Write up what each of the rows returned by the function indicate."
   ]
  },
  {
   "cell_type": "code",
   "execution_count": 20,
   "metadata": {
    "collapsed": false
   },
   "outputs": [
    {
     "data": {
      "text/html": [
       "<div>\n",
       "<table border=\"1\" class=\"dataframe\">\n",
       "  <thead>\n",
       "    <tr style=\"text-align: right;\">\n",
       "      <th></th>\n",
       "      <th>Math</th>\n",
       "      <th>Rate</th>\n",
       "      <th>Verbal</th>\n",
       "      <th>Verbal - Math</th>\n",
       "    </tr>\n",
       "  </thead>\n",
       "  <tbody>\n",
       "    <tr>\n",
       "      <th>count</th>\n",
       "      <td>52.000000</td>\n",
       "      <td>52.000000</td>\n",
       "      <td>52.000000</td>\n",
       "      <td>52.000000</td>\n",
       "    </tr>\n",
       "    <tr>\n",
       "      <th>mean</th>\n",
       "      <td>531.500000</td>\n",
       "      <td>37.153846</td>\n",
       "      <td>532.019231</td>\n",
       "      <td>0.519231</td>\n",
       "    </tr>\n",
       "    <tr>\n",
       "      <th>std</th>\n",
       "      <td>36.014975</td>\n",
       "      <td>27.301788</td>\n",
       "      <td>33.236225</td>\n",
       "      <td>15.729939</td>\n",
       "    </tr>\n",
       "    <tr>\n",
       "      <th>min</th>\n",
       "      <td>439.000000</td>\n",
       "      <td>4.000000</td>\n",
       "      <td>482.000000</td>\n",
       "      <td>-30.000000</td>\n",
       "    </tr>\n",
       "    <tr>\n",
       "      <th>25%</th>\n",
       "      <td>504.000000</td>\n",
       "      <td>9.000000</td>\n",
       "      <td>501.000000</td>\n",
       "      <td>-6.000000</td>\n",
       "    </tr>\n",
       "    <tr>\n",
       "      <th>50%</th>\n",
       "      <td>521.000000</td>\n",
       "      <td>33.500000</td>\n",
       "      <td>526.500000</td>\n",
       "      <td>0.000000</td>\n",
       "    </tr>\n",
       "    <tr>\n",
       "      <th>75%</th>\n",
       "      <td>555.750000</td>\n",
       "      <td>63.500000</td>\n",
       "      <td>562.000000</td>\n",
       "      <td>4.250000</td>\n",
       "    </tr>\n",
       "    <tr>\n",
       "      <th>max</th>\n",
       "      <td>603.000000</td>\n",
       "      <td>82.000000</td>\n",
       "      <td>593.000000</td>\n",
       "      <td>95.000000</td>\n",
       "    </tr>\n",
       "  </tbody>\n",
       "</table>\n",
       "</div>"
      ],
      "text/plain": [
       "             Math       Rate      Verbal  Verbal - Math\n",
       "count   52.000000  52.000000   52.000000      52.000000\n",
       "mean   531.500000  37.153846  532.019231       0.519231\n",
       "std     36.014975  27.301788   33.236225      15.729939\n",
       "min    439.000000   4.000000  482.000000     -30.000000\n",
       "25%    504.000000   9.000000  501.000000      -6.000000\n",
       "50%    521.000000  33.500000  526.500000       0.000000\n",
       "75%    555.750000  63.500000  562.000000       4.250000\n",
       "max    603.000000  82.000000  593.000000      95.000000"
      ]
     },
     "execution_count": 20,
     "metadata": {},
     "output_type": "execute_result"
    }
   ],
   "source": [
    "sd_new.describe()\n",
    "# if there is a field that is string based, it will not show up in this table\n",
    "# count is the number of rows. if there is a blank this will be less than the maximum value\n",
    "# mean is the average value (if numeric)\n",
    "# min is the lowest value (lower range)\n",
    "# max is the largest value (upper range)\n",
    "# 25% / 50% / 75% are the different quartiles based on occurance. 50% would be the median, and 25% would \n",
    "# be the \"sub median\""
   ]
  },
  {
   "cell_type": "markdown",
   "metadata": {},
   "source": [
    "<img src=\"http://imgur.com/xDpSobf.png\" style=\"float: left; margin: 25px 15px 0px 0px; height: 25px\">\n",
    "\n",
    "### 6.3 Assign and print the _covariance_ matrix for the dataset\n",
    "\n",
    "1. Describe how the covariance matrix is different from the correlation matrix.\n",
    "2. What is the process to convert the covariance into the correlation?\n",
    "3. Why is the correlation matrix preferred to the covariance matrix for examining relationships in your data?"
   ]
  },
  {
   "cell_type": "code",
   "execution_count": 21,
   "metadata": {
    "collapsed": false
   },
   "outputs": [
    {
     "data": {
      "text/html": [
       "<div>\n",
       "<table border=\"1\" class=\"dataframe\">\n",
       "  <thead>\n",
       "    <tr style=\"text-align: right;\">\n",
       "      <th></th>\n",
       "      <th>Math</th>\n",
       "      <th>Rate</th>\n",
       "      <th>Verbal</th>\n",
       "    </tr>\n",
       "  </thead>\n",
       "  <tbody>\n",
       "    <tr>\n",
       "      <th>Math</th>\n",
       "      <td>1297.078431</td>\n",
       "      <td>-760.803922</td>\n",
       "      <td>1077.147059</td>\n",
       "    </tr>\n",
       "    <tr>\n",
       "      <th>Rate</th>\n",
       "      <td>-760.803922</td>\n",
       "      <td>745.387632</td>\n",
       "      <td>-804.355958</td>\n",
       "    </tr>\n",
       "    <tr>\n",
       "      <th>Verbal</th>\n",
       "      <td>1077.147059</td>\n",
       "      <td>-804.355958</td>\n",
       "      <td>1104.646682</td>\n",
       "    </tr>\n",
       "  </tbody>\n",
       "</table>\n",
       "</div>"
      ],
      "text/plain": [
       "               Math        Rate       Verbal\n",
       "Math    1297.078431 -760.803922  1077.147059\n",
       "Rate    -760.803922  745.387632  -804.355958\n",
       "Verbal  1077.147059 -804.355958  1104.646682"
      ]
     },
     "execution_count": 21,
     "metadata": {},
     "output_type": "execute_result"
    }
   ],
   "source": [
    "sd.cov()\n",
    "# for the verbal explanation see below (i answered in lower problems)"
   ]
  },
  {
   "cell_type": "markdown",
   "metadata": {},
   "source": [
    "<img src=\"http://imgur.com/l5NasQj.png\" style=\"float: left; margin: 25px 15px 0px 0px; height: 25px\">\n",
    "\n",
    "## 7. Performing EDA on \"drug use by age\" data.\n",
    "\n",
    "---\n",
    "\n",
    "You will now switch datasets. The drug use dataset has many more variables than the sat dataset. The process for this dataset is more open-ended than the sat dataset.\n",
    "\n",
    "You should use the techniques you applied above to practice more self-guided EDA here!\n",
    "\n",
    "### 7.1\n",
    "\n",
    "Load the data using pandas. Does this data require cleaning? Are variables missing? How will this affect your approach to EDA on the data?"
   ]
  },
  {
   "cell_type": "code",
   "execution_count": 21,
   "metadata": {
    "collapsed": false
   },
   "outputs": [
    {
     "name": "stdout",
     "output_type": "stream",
     "text": [
      "(17, 28)\n"
     ]
    },
    {
     "data": {
      "text/html": [
       "<div>\n",
       "<table border=\"1\" class=\"dataframe\">\n",
       "  <thead>\n",
       "    <tr style=\"text-align: right;\">\n",
       "      <th></th>\n",
       "      <th>age</th>\n",
       "      <th>n</th>\n",
       "      <th>alcohol-use</th>\n",
       "      <th>alcohol-frequency</th>\n",
       "      <th>marijuana-use</th>\n",
       "      <th>marijuana-frequency</th>\n",
       "      <th>cocaine-use</th>\n",
       "      <th>cocaine-frequency</th>\n",
       "      <th>crack-use</th>\n",
       "      <th>crack-frequency</th>\n",
       "      <th>...</th>\n",
       "      <th>oxycontin-use</th>\n",
       "      <th>oxycontin-frequency</th>\n",
       "      <th>tranquilizer-use</th>\n",
       "      <th>tranquilizer-frequency</th>\n",
       "      <th>stimulant-use</th>\n",
       "      <th>stimulant-frequency</th>\n",
       "      <th>meth-use</th>\n",
       "      <th>meth-frequency</th>\n",
       "      <th>sedative-use</th>\n",
       "      <th>sedative-frequency</th>\n",
       "    </tr>\n",
       "  </thead>\n",
       "  <tbody>\n",
       "    <tr>\n",
       "      <th>0</th>\n",
       "      <td>12</td>\n",
       "      <td>2798</td>\n",
       "      <td>3.9</td>\n",
       "      <td>3.0</td>\n",
       "      <td>1.1</td>\n",
       "      <td>4.0</td>\n",
       "      <td>0.1</td>\n",
       "      <td>5.0</td>\n",
       "      <td>0.0</td>\n",
       "      <td>-</td>\n",
       "      <td>...</td>\n",
       "      <td>0.1</td>\n",
       "      <td>24.5</td>\n",
       "      <td>0.2</td>\n",
       "      <td>52.0</td>\n",
       "      <td>0.2</td>\n",
       "      <td>2.0</td>\n",
       "      <td>0.0</td>\n",
       "      <td>-</td>\n",
       "      <td>0.2</td>\n",
       "      <td>13.0</td>\n",
       "    </tr>\n",
       "    <tr>\n",
       "      <th>1</th>\n",
       "      <td>13</td>\n",
       "      <td>2757</td>\n",
       "      <td>8.5</td>\n",
       "      <td>6.0</td>\n",
       "      <td>3.4</td>\n",
       "      <td>15.0</td>\n",
       "      <td>0.1</td>\n",
       "      <td>1.0</td>\n",
       "      <td>0.0</td>\n",
       "      <td>3.0</td>\n",
       "      <td>...</td>\n",
       "      <td>0.1</td>\n",
       "      <td>41.0</td>\n",
       "      <td>0.3</td>\n",
       "      <td>25.5</td>\n",
       "      <td>0.3</td>\n",
       "      <td>4.0</td>\n",
       "      <td>0.1</td>\n",
       "      <td>5.0</td>\n",
       "      <td>0.1</td>\n",
       "      <td>19.0</td>\n",
       "    </tr>\n",
       "    <tr>\n",
       "      <th>2</th>\n",
       "      <td>14</td>\n",
       "      <td>2792</td>\n",
       "      <td>18.1</td>\n",
       "      <td>5.0</td>\n",
       "      <td>8.7</td>\n",
       "      <td>24.0</td>\n",
       "      <td>0.1</td>\n",
       "      <td>5.5</td>\n",
       "      <td>0.0</td>\n",
       "      <td>-</td>\n",
       "      <td>...</td>\n",
       "      <td>0.4</td>\n",
       "      <td>4.5</td>\n",
       "      <td>0.9</td>\n",
       "      <td>5.0</td>\n",
       "      <td>0.8</td>\n",
       "      <td>12.0</td>\n",
       "      <td>0.1</td>\n",
       "      <td>24.0</td>\n",
       "      <td>0.2</td>\n",
       "      <td>16.5</td>\n",
       "    </tr>\n",
       "    <tr>\n",
       "      <th>3</th>\n",
       "      <td>15</td>\n",
       "      <td>2956</td>\n",
       "      <td>29.2</td>\n",
       "      <td>6.0</td>\n",
       "      <td>14.5</td>\n",
       "      <td>25.0</td>\n",
       "      <td>0.5</td>\n",
       "      <td>4.0</td>\n",
       "      <td>0.1</td>\n",
       "      <td>9.5</td>\n",
       "      <td>...</td>\n",
       "      <td>0.8</td>\n",
       "      <td>3.0</td>\n",
       "      <td>2.0</td>\n",
       "      <td>4.5</td>\n",
       "      <td>1.5</td>\n",
       "      <td>6.0</td>\n",
       "      <td>0.3</td>\n",
       "      <td>10.5</td>\n",
       "      <td>0.4</td>\n",
       "      <td>30.0</td>\n",
       "    </tr>\n",
       "    <tr>\n",
       "      <th>4</th>\n",
       "      <td>16</td>\n",
       "      <td>3058</td>\n",
       "      <td>40.1</td>\n",
       "      <td>10.0</td>\n",
       "      <td>22.5</td>\n",
       "      <td>30.0</td>\n",
       "      <td>1.0</td>\n",
       "      <td>7.0</td>\n",
       "      <td>0.0</td>\n",
       "      <td>1.0</td>\n",
       "      <td>...</td>\n",
       "      <td>1.1</td>\n",
       "      <td>4.0</td>\n",
       "      <td>2.4</td>\n",
       "      <td>11.0</td>\n",
       "      <td>1.8</td>\n",
       "      <td>9.5</td>\n",
       "      <td>0.3</td>\n",
       "      <td>36.0</td>\n",
       "      <td>0.2</td>\n",
       "      <td>3.0</td>\n",
       "    </tr>\n",
       "  </tbody>\n",
       "</table>\n",
       "<p>5 rows × 28 columns</p>\n",
       "</div>"
      ],
      "text/plain": [
       "  age     n  alcohol-use  alcohol-frequency  marijuana-use  \\\n",
       "0  12  2798          3.9                3.0            1.1   \n",
       "1  13  2757          8.5                6.0            3.4   \n",
       "2  14  2792         18.1                5.0            8.7   \n",
       "3  15  2956         29.2                6.0           14.5   \n",
       "4  16  3058         40.1               10.0           22.5   \n",
       "\n",
       "   marijuana-frequency  cocaine-use cocaine-frequency  crack-use  \\\n",
       "0                  4.0          0.1               5.0        0.0   \n",
       "1                 15.0          0.1               1.0        0.0   \n",
       "2                 24.0          0.1               5.5        0.0   \n",
       "3                 25.0          0.5               4.0        0.1   \n",
       "4                 30.0          1.0               7.0        0.0   \n",
       "\n",
       "  crack-frequency        ...          oxycontin-use oxycontin-frequency  \\\n",
       "0               -        ...                    0.1                24.5   \n",
       "1             3.0        ...                    0.1                41.0   \n",
       "2               -        ...                    0.4                 4.5   \n",
       "3             9.5        ...                    0.8                 3.0   \n",
       "4             1.0        ...                    1.1                 4.0   \n",
       "\n",
       "   tranquilizer-use  tranquilizer-frequency  stimulant-use  \\\n",
       "0               0.2                    52.0            0.2   \n",
       "1               0.3                    25.5            0.3   \n",
       "2               0.9                     5.0            0.8   \n",
       "3               2.0                     4.5            1.5   \n",
       "4               2.4                    11.0            1.8   \n",
       "\n",
       "  stimulant-frequency  meth-use  meth-frequency  sedative-use  \\\n",
       "0                 2.0       0.0               -           0.2   \n",
       "1                 4.0       0.1             5.0           0.1   \n",
       "2                12.0       0.1            24.0           0.2   \n",
       "3                 6.0       0.3            10.5           0.4   \n",
       "4                 9.5       0.3            36.0           0.2   \n",
       "\n",
       "  sedative-frequency  \n",
       "0               13.0  \n",
       "1               19.0  \n",
       "2               16.5  \n",
       "3               30.0  \n",
       "4                3.0  \n",
       "\n",
       "[5 rows x 28 columns]"
      ]
     },
     "execution_count": 21,
     "metadata": {},
     "output_type": "execute_result"
    }
   ],
   "source": [
    "drug_data_filepath = '/Users/tlee010/desktop/DSI-SF-2-timdavidlee/datasets/drug_use_by_age/drug-use-by-age.csv'\n",
    "drug_data = pd.read_csv(drug_data_filepath)\n",
    "print drug_data.shape\n",
    "drug_data.head()\n",
    "#preliminary tables"
   ]
  },
  {
   "cell_type": "code",
   "execution_count": null,
   "metadata": {
    "collapsed": false
   },
   "outputs": [],
   "source": []
  },
  {
   "cell_type": "code",
   "execution_count": 36,
   "metadata": {
    "collapsed": false
   },
   "outputs": [
    {
     "data": {
      "text/html": [
       "<div>\n",
       "<table border=\"1\" class=\"dataframe\">\n",
       "  <thead>\n",
       "    <tr style=\"text-align: right;\">\n",
       "      <th></th>\n",
       "      <th>n</th>\n",
       "      <th>alcohol-use</th>\n",
       "      <th>alcohol-frequency</th>\n",
       "      <th>marijuana-use</th>\n",
       "      <th>marijuana-frequency</th>\n",
       "      <th>cocaine-use</th>\n",
       "      <th>crack-use</th>\n",
       "      <th>heroin-use</th>\n",
       "      <th>hallucinogen-use</th>\n",
       "      <th>hallucinogen-frequency</th>\n",
       "      <th>...</th>\n",
       "      <th>pain-releiver-use</th>\n",
       "      <th>pain-releiver-frequency</th>\n",
       "      <th>oxycontin-use</th>\n",
       "      <th>tranquilizer-use</th>\n",
       "      <th>tranquilizer-frequency</th>\n",
       "      <th>stimulant-use</th>\n",
       "      <th>stimulant-frequency</th>\n",
       "      <th>meth-use</th>\n",
       "      <th>sedative-use</th>\n",
       "      <th>sedative-frequency</th>\n",
       "    </tr>\n",
       "  </thead>\n",
       "  <tbody>\n",
       "    <tr>\n",
       "      <th>count</th>\n",
       "      <td>17.000000</td>\n",
       "      <td>17.000000</td>\n",
       "      <td>17.000000</td>\n",
       "      <td>17.000000</td>\n",
       "      <td>17.000000</td>\n",
       "      <td>17.000000</td>\n",
       "      <td>17.000000</td>\n",
       "      <td>17.000000</td>\n",
       "      <td>17.000000</td>\n",
       "      <td>17.000000</td>\n",
       "      <td>...</td>\n",
       "      <td>17.000000</td>\n",
       "      <td>17.000000</td>\n",
       "      <td>17.000000</td>\n",
       "      <td>17.000000</td>\n",
       "      <td>17.000000</td>\n",
       "      <td>17.000000</td>\n",
       "      <td>17.000000</td>\n",
       "      <td>17.000000</td>\n",
       "      <td>17.000000</td>\n",
       "      <td>17.000000</td>\n",
       "    </tr>\n",
       "    <tr>\n",
       "      <th>mean</th>\n",
       "      <td>3251.058824</td>\n",
       "      <td>55.429412</td>\n",
       "      <td>33.352941</td>\n",
       "      <td>18.923529</td>\n",
       "      <td>42.941176</td>\n",
       "      <td>2.176471</td>\n",
       "      <td>0.294118</td>\n",
       "      <td>0.352941</td>\n",
       "      <td>3.394118</td>\n",
       "      <td>8.411765</td>\n",
       "      <td>...</td>\n",
       "      <td>6.270588</td>\n",
       "      <td>14.705882</td>\n",
       "      <td>0.935294</td>\n",
       "      <td>2.805882</td>\n",
       "      <td>11.735294</td>\n",
       "      <td>1.917647</td>\n",
       "      <td>31.147059</td>\n",
       "      <td>0.382353</td>\n",
       "      <td>0.282353</td>\n",
       "      <td>19.382353</td>\n",
       "    </tr>\n",
       "    <tr>\n",
       "      <th>std</th>\n",
       "      <td>1297.890426</td>\n",
       "      <td>26.878866</td>\n",
       "      <td>21.318833</td>\n",
       "      <td>11.959752</td>\n",
       "      <td>18.362566</td>\n",
       "      <td>1.816772</td>\n",
       "      <td>0.235772</td>\n",
       "      <td>0.333762</td>\n",
       "      <td>2.792506</td>\n",
       "      <td>15.000245</td>\n",
       "      <td>...</td>\n",
       "      <td>3.166379</td>\n",
       "      <td>6.935098</td>\n",
       "      <td>0.608216</td>\n",
       "      <td>1.753379</td>\n",
       "      <td>11.485205</td>\n",
       "      <td>1.407673</td>\n",
       "      <td>85.973790</td>\n",
       "      <td>0.262762</td>\n",
       "      <td>0.138000</td>\n",
       "      <td>24.833527</td>\n",
       "    </tr>\n",
       "    <tr>\n",
       "      <th>min</th>\n",
       "      <td>2223.000000</td>\n",
       "      <td>3.900000</td>\n",
       "      <td>3.000000</td>\n",
       "      <td>1.100000</td>\n",
       "      <td>4.000000</td>\n",
       "      <td>0.000000</td>\n",
       "      <td>0.000000</td>\n",
       "      <td>0.000000</td>\n",
       "      <td>0.100000</td>\n",
       "      <td>2.000000</td>\n",
       "      <td>...</td>\n",
       "      <td>0.600000</td>\n",
       "      <td>7.000000</td>\n",
       "      <td>0.000000</td>\n",
       "      <td>0.200000</td>\n",
       "      <td>4.500000</td>\n",
       "      <td>0.000000</td>\n",
       "      <td>2.000000</td>\n",
       "      <td>0.000000</td>\n",
       "      <td>0.000000</td>\n",
       "      <td>3.000000</td>\n",
       "    </tr>\n",
       "    <tr>\n",
       "      <th>25%</th>\n",
       "      <td>2469.000000</td>\n",
       "      <td>40.100000</td>\n",
       "      <td>10.000000</td>\n",
       "      <td>8.700000</td>\n",
       "      <td>30.000000</td>\n",
       "      <td>0.500000</td>\n",
       "      <td>0.000000</td>\n",
       "      <td>0.100000</td>\n",
       "      <td>0.600000</td>\n",
       "      <td>3.000000</td>\n",
       "      <td>...</td>\n",
       "      <td>3.900000</td>\n",
       "      <td>12.000000</td>\n",
       "      <td>0.400000</td>\n",
       "      <td>1.400000</td>\n",
       "      <td>6.000000</td>\n",
       "      <td>0.600000</td>\n",
       "      <td>7.000000</td>\n",
       "      <td>0.200000</td>\n",
       "      <td>0.200000</td>\n",
       "      <td>6.500000</td>\n",
       "    </tr>\n",
       "    <tr>\n",
       "      <th>50%</th>\n",
       "      <td>2798.000000</td>\n",
       "      <td>64.600000</td>\n",
       "      <td>48.000000</td>\n",
       "      <td>20.800000</td>\n",
       "      <td>52.000000</td>\n",
       "      <td>2.000000</td>\n",
       "      <td>0.400000</td>\n",
       "      <td>0.200000</td>\n",
       "      <td>3.200000</td>\n",
       "      <td>3.000000</td>\n",
       "      <td>...</td>\n",
       "      <td>6.200000</td>\n",
       "      <td>12.000000</td>\n",
       "      <td>1.100000</td>\n",
       "      <td>3.500000</td>\n",
       "      <td>10.000000</td>\n",
       "      <td>1.800000</td>\n",
       "      <td>10.000000</td>\n",
       "      <td>0.400000</td>\n",
       "      <td>0.300000</td>\n",
       "      <td>10.000000</td>\n",
       "    </tr>\n",
       "    <tr>\n",
       "      <th>75%</th>\n",
       "      <td>3058.000000</td>\n",
       "      <td>77.500000</td>\n",
       "      <td>52.000000</td>\n",
       "      <td>28.400000</td>\n",
       "      <td>52.000000</td>\n",
       "      <td>4.000000</td>\n",
       "      <td>0.500000</td>\n",
       "      <td>0.600000</td>\n",
       "      <td>5.200000</td>\n",
       "      <td>4.000000</td>\n",
       "      <td>...</td>\n",
       "      <td>9.000000</td>\n",
       "      <td>15.000000</td>\n",
       "      <td>1.400000</td>\n",
       "      <td>4.200000</td>\n",
       "      <td>11.000000</td>\n",
       "      <td>3.000000</td>\n",
       "      <td>12.000000</td>\n",
       "      <td>0.600000</td>\n",
       "      <td>0.400000</td>\n",
       "      <td>17.500000</td>\n",
       "    </tr>\n",
       "    <tr>\n",
       "      <th>max</th>\n",
       "      <td>7391.000000</td>\n",
       "      <td>84.200000</td>\n",
       "      <td>52.000000</td>\n",
       "      <td>34.000000</td>\n",
       "      <td>72.000000</td>\n",
       "      <td>4.900000</td>\n",
       "      <td>0.600000</td>\n",
       "      <td>1.100000</td>\n",
       "      <td>8.600000</td>\n",
       "      <td>52.000000</td>\n",
       "      <td>...</td>\n",
       "      <td>10.000000</td>\n",
       "      <td>36.000000</td>\n",
       "      <td>1.700000</td>\n",
       "      <td>5.400000</td>\n",
       "      <td>52.000000</td>\n",
       "      <td>4.100000</td>\n",
       "      <td>364.000000</td>\n",
       "      <td>0.900000</td>\n",
       "      <td>0.500000</td>\n",
       "      <td>104.000000</td>\n",
       "    </tr>\n",
       "  </tbody>\n",
       "</table>\n",
       "<p>8 rows × 21 columns</p>\n",
       "</div>"
      ],
      "text/plain": [
       "                 n  alcohol-use  alcohol-frequency  marijuana-use  \\\n",
       "count    17.000000    17.000000          17.000000      17.000000   \n",
       "mean   3251.058824    55.429412          33.352941      18.923529   \n",
       "std    1297.890426    26.878866          21.318833      11.959752   \n",
       "min    2223.000000     3.900000           3.000000       1.100000   \n",
       "25%    2469.000000    40.100000          10.000000       8.700000   \n",
       "50%    2798.000000    64.600000          48.000000      20.800000   \n",
       "75%    3058.000000    77.500000          52.000000      28.400000   \n",
       "max    7391.000000    84.200000          52.000000      34.000000   \n",
       "\n",
       "       marijuana-frequency  cocaine-use  crack-use  heroin-use  \\\n",
       "count            17.000000    17.000000  17.000000   17.000000   \n",
       "mean             42.941176     2.176471   0.294118    0.352941   \n",
       "std              18.362566     1.816772   0.235772    0.333762   \n",
       "min               4.000000     0.000000   0.000000    0.000000   \n",
       "25%              30.000000     0.500000   0.000000    0.100000   \n",
       "50%              52.000000     2.000000   0.400000    0.200000   \n",
       "75%              52.000000     4.000000   0.500000    0.600000   \n",
       "max              72.000000     4.900000   0.600000    1.100000   \n",
       "\n",
       "       hallucinogen-use  hallucinogen-frequency         ...          \\\n",
       "count         17.000000               17.000000         ...           \n",
       "mean           3.394118                8.411765         ...           \n",
       "std            2.792506               15.000245         ...           \n",
       "min            0.100000                2.000000         ...           \n",
       "25%            0.600000                3.000000         ...           \n",
       "50%            3.200000                3.000000         ...           \n",
       "75%            5.200000                4.000000         ...           \n",
       "max            8.600000               52.000000         ...           \n",
       "\n",
       "       pain-releiver-use  pain-releiver-frequency  oxycontin-use  \\\n",
       "count          17.000000                17.000000      17.000000   \n",
       "mean            6.270588                14.705882       0.935294   \n",
       "std             3.166379                 6.935098       0.608216   \n",
       "min             0.600000                 7.000000       0.000000   \n",
       "25%             3.900000                12.000000       0.400000   \n",
       "50%             6.200000                12.000000       1.100000   \n",
       "75%             9.000000                15.000000       1.400000   \n",
       "max            10.000000                36.000000       1.700000   \n",
       "\n",
       "       tranquilizer-use  tranquilizer-frequency  stimulant-use  \\\n",
       "count         17.000000               17.000000      17.000000   \n",
       "mean           2.805882               11.735294       1.917647   \n",
       "std            1.753379               11.485205       1.407673   \n",
       "min            0.200000                4.500000       0.000000   \n",
       "25%            1.400000                6.000000       0.600000   \n",
       "50%            3.500000               10.000000       1.800000   \n",
       "75%            4.200000               11.000000       3.000000   \n",
       "max            5.400000               52.000000       4.100000   \n",
       "\n",
       "       stimulant-frequency   meth-use  sedative-use  sedative-frequency  \n",
       "count            17.000000  17.000000     17.000000           17.000000  \n",
       "mean             31.147059   0.382353      0.282353           19.382353  \n",
       "std              85.973790   0.262762      0.138000           24.833527  \n",
       "min               2.000000   0.000000      0.000000            3.000000  \n",
       "25%               7.000000   0.200000      0.200000            6.500000  \n",
       "50%              10.000000   0.400000      0.300000           10.000000  \n",
       "75%              12.000000   0.600000      0.400000           17.500000  \n",
       "max             364.000000   0.900000      0.500000          104.000000  \n",
       "\n",
       "[8 rows x 21 columns]"
      ]
     },
     "execution_count": 36,
     "metadata": {},
     "output_type": "execute_result"
    }
   ],
   "source": [
    "drug_data.describe()"
   ]
  },
  {
   "cell_type": "code",
   "execution_count": 38,
   "metadata": {
    "collapsed": false
   },
   "outputs": [
    {
     "name": "stdout",
     "output_type": "stream",
     "text": [
      "<class 'pandas.core.frame.DataFrame'>\n",
      "RangeIndex: 17 entries, 0 to 16\n",
      "Data columns (total 28 columns):\n",
      "age                        17 non-null object\n",
      "n                          17 non-null int64\n",
      "alcohol-use                17 non-null float64\n",
      "alcohol-frequency          17 non-null float64\n",
      "marijuana-use              17 non-null float64\n",
      "marijuana-frequency        17 non-null float64\n",
      "cocaine-use                17 non-null float64\n",
      "cocaine-frequency          17 non-null object\n",
      "crack-use                  17 non-null float64\n",
      "crack-frequency            17 non-null object\n",
      "heroin-use                 17 non-null float64\n",
      "heroin-frequency           17 non-null object\n",
      "hallucinogen-use           17 non-null float64\n",
      "hallucinogen-frequency     17 non-null float64\n",
      "inhalant-use               17 non-null float64\n",
      "inhalant-frequency         17 non-null object\n",
      "pain-releiver-use          17 non-null float64\n",
      "pain-releiver-frequency    17 non-null float64\n",
      "oxycontin-use              17 non-null float64\n",
      "oxycontin-frequency        17 non-null object\n",
      "tranquilizer-use           17 non-null float64\n",
      "tranquilizer-frequency     17 non-null float64\n",
      "stimulant-use              17 non-null float64\n",
      "stimulant-frequency        17 non-null float64\n",
      "meth-use                   17 non-null float64\n",
      "meth-frequency             17 non-null object\n",
      "sedative-use               17 non-null float64\n",
      "sedative-frequency         17 non-null float64\n",
      "dtypes: float64(20), int64(1), object(7)\n",
      "memory usage: 3.8+ KB\n"
     ]
    },
    {
     "data": {
      "text/plain": [
       "0      35.5\n",
       "1         -\n",
       "2       2.0\n",
       "3       1.0\n",
       "4      66.5\n",
       "5      64.0\n",
       "6      46.0\n",
       "7     180.0\n",
       "8      45.0\n",
       "9      30.0\n",
       "10     57.5\n",
       "11     88.0\n",
       "12     50.0\n",
       "13     66.0\n",
       "14    280.0\n",
       "15     41.0\n",
       "16    120.0\n",
       "Name: heroin-frequency, dtype: object"
      ]
     },
     "execution_count": 38,
     "metadata": {},
     "output_type": "execute_result"
    }
   ],
   "source": [
    "drug_data.info()"
   ]
  },
  {
   "cell_type": "code",
   "execution_count": 93,
   "metadata": {
    "collapsed": false
   },
   "outputs": [
    {
     "name": "stdout",
     "output_type": "stream",
     "text": [
      "<class 'pandas.core.frame.DataFrame'>\n",
      "RangeIndex: 17 entries, 0 to 16\n",
      "Data columns (total 28 columns):\n",
      "age                        17 non-null object\n",
      "n                          17 non-null int64\n",
      "alcohol-use                17 non-null float64\n",
      "alcohol-frequency          17 non-null float64\n",
      "marijuana-use              17 non-null float64\n",
      "marijuana-frequency        17 non-null float64\n",
      "cocaine-use                17 non-null float64\n",
      "cocaine-frequency          17 non-null object\n",
      "crack-use                  17 non-null float64\n",
      "crack-frequency            17 non-null object\n",
      "heroin-use                 17 non-null float64\n",
      "heroin-frequency           17 non-null object\n",
      "hallucinogen-use           17 non-null float64\n",
      "hallucinogen-frequency     17 non-null float64\n",
      "inhalant-use               17 non-null float64\n",
      "inhalant-frequency         17 non-null object\n",
      "pain-releiver-use          17 non-null float64\n",
      "pain-releiver-frequency    17 non-null float64\n",
      "oxycontin-use              17 non-null float64\n",
      "oxycontin-frequency        17 non-null object\n",
      "tranquilizer-use           17 non-null float64\n",
      "tranquilizer-frequency     17 non-null float64\n",
      "stimulant-use              17 non-null float64\n",
      "stimulant-frequency        17 non-null float64\n",
      "meth-use                   17 non-null float64\n",
      "meth-frequency             17 non-null object\n",
      "sedative-use               17 non-null float64\n",
      "sedative-frequency         17 non-null float64\n",
      "dtypes: float64(20), int64(1), object(7)\n",
      "memory usage: 3.8+ KB\n"
     ]
    }
   ],
   "source": [
    "drug_data['cocaine-frequency'].replace(['-'],[0.0],inplace = True)\n",
    "drug_data['crack-frequency'].replace(['-'],[0.0],inplace = True)\n",
    "drug_data['heroin-frequency'].replace(['-'],[0.0],inplace = True)\n",
    "drug_data['inhalant-frequency'].replace(['-'],[0.0],inplace = True)\n",
    "drug_data['oxycontin-frequency'].replace(['-'],[0.0],inplace = True)\n",
    "drug_data['meth-frequency'].replace(['-'],[0.0],inplace = True)\n",
    "drug_data.info()\n",
    "\n",
    "#drug_data[['cocaine-frequency','crack-frequency','heroin-frequency','inhalant-frequency','oxycontin-frequency','meth-frequency']].replace(['-'],[0.0],inplace=True)\n",
    "#print drug_data[['cocaine-frequency','crack-frequency','heroin-frequency','inhalant-frequency','oxycontin-frequency','meth-frequency']]\n",
    "#print drug_data['cocaine-frequency']\n",
    "\n",
    "#  data.position.replace(['RB','QB'],['Running Back’, 'Quarterback'],inplace=True)\n",
    "\n"
   ]
  },
  {
   "cell_type": "markdown",
   "metadata": {},
   "source": [
    "### 7.2 Do a high-level, initial overview of the data\n",
    "\n",
    " and take a look at the column variables. Get a feel for what this dataset is all about. The code you use to do this is \"up to you\", as in you will apply processes you have learned above.\n",
    "\n",
    "The final response to this question should be a written description of what you deduce and infer the dataset to describe. "
   ]
  },
  {
   "cell_type": "code",
   "execution_count": 94,
   "metadata": {
    "collapsed": false
   },
   "outputs": [
    {
     "name": "stdout",
     "output_type": "stream",
     "text": [
      "55268\n",
      "['12' '13' '14' '15' '16' '17' '18' '19' '20' '21' '22-23' '24-25' '26-29'\n",
      " '30-34' '35-49' '50-64' '65+']\n",
      "      age     n\n",
      "0      12  2798\n",
      "1      13  2757\n",
      "2      14  2792\n",
      "3      15  2956\n",
      "4      16  3058\n",
      "5      17  3038\n",
      "6      18  2469\n",
      "7      19  2223\n",
      "8      20  2271\n",
      "9      21  2354\n",
      "10  22-23  4707\n",
      "11  24-25  4591\n",
      "12  26-29  2628\n",
      "13  30-34  2864\n",
      "14  35-49  7391\n",
      "15  50-64  3923\n",
      "16    65+  2448\n"
     ]
    }
   ],
   "source": [
    "#there\n",
    "'''\n",
    "The following data describes the local drug use in teenagers. They are already summary\n",
    "statistics with a focus on ages under 21, and then wider banded ages until 65+. They have\n",
    "roughly 55k samples with roughly 3000 samples per age range recorded, with the exception \n",
    "of 35-49 which is 7000. For a range of drugs, two items are recorded for each:\n",
    "\n",
    "- Use: % of population that uses the product (Y/N)\n",
    "- Frequency: how often the alcohol (how often)\n",
    "- Drugs covered: Alcohol, marijuana, cocaine, crack, heroin, hallucinogen, inhalant\n",
    ", pain-releiver, oxycontin, tranquilizer, stimulant, meth, sedative,\n",
    "\n",
    "'''\n",
    "print sum(drug_data['n'])\n",
    "print drug_data['age'].unique()\n",
    "drug_data.head()\n",
    "print drug_data[['age','n']]\n"
   ]
  },
  {
   "cell_type": "code",
   "execution_count": null,
   "metadata": {
    "collapsed": false
   },
   "outputs": [],
   "source": []
  },
  {
   "cell_type": "markdown",
   "metadata": {},
   "source": [
    "### 7.3 Create a testable hypothesis about this data\n",
    "\n",
    "Requirements for the question:\n",
    "\n",
    "1. Write a specific question you would like to answer with the data (that can be accomplished with EDA).\n",
    "2. Write a description of the \"deliverables\": what will you report after testing/examining your hypothesis?\n",
    "3. Use EDA techniques of your choice, numeric and/or visual, to look into your question.\n",
    "4. Write up your report on what you have found regarding the hypothesis about the data you came up with.\n",
    "\n",
    "\n",
    "**Important notes:**\n",
    "\n",
    "You should be only doing EDA _relevant to your question_ here. It is easy to go down rabbit holes trying to look at every facet of your data, and so we want you to get in the practice of specifying a hypothesis you are interested in first and scoping your work to specifically answer that question.\n",
    "\n",
    "Some of you may want to jump ahead to \"modeling\" data to answer your question. This is a topic addressed in the next project and **you should not do this for this project.** We specifically want you to not do modeling to emphasize the importance of performing EDA _before_ you jump to statistical analysis."
   ]
  },
  {
   "cell_type": "code",
   "execution_count": 113,
   "metadata": {
    "collapsed": false
   },
   "outputs": [
    {
     "name": "stdout",
     "output_type": "stream",
     "text": [
      "      age     n  meth-use  meth-frequency  heroin-use  heroin-frequency\n",
      "0      12  2798       0.0             0.0         0.1              35.5\n",
      "1      13  2757       0.1             5.0         0.0               0.0\n",
      "2      14  2792       0.1            24.0         0.1               2.0\n",
      "3      15  2956       0.3            10.5         0.2               1.0\n",
      "4      16  3058       0.3            36.0         0.1              66.5\n",
      "5      17  3038       0.6            48.0         0.1              64.0\n",
      "6      18  2469       0.5            12.0         0.4              46.0\n",
      "7      19  2223       0.4           105.0         0.5             180.0\n",
      "8      20  2271       0.9            12.0         0.9              45.0\n",
      "9      21  2354       0.6             2.0         0.6              30.0\n",
      "10  22-23  4707       0.6            46.0         1.1              57.5\n",
      "11  24-25  4591       0.7            21.0         0.7              88.0\n",
      "12  26-29  2628       0.6            30.0         0.6              50.0\n",
      "13  30-34  2864       0.4            54.0         0.4              66.0\n",
      "14  35-49  7391       0.2           104.0         0.1             280.0\n",
      "15  50-64  3923       0.2            30.0         0.1              41.0\n",
      "16    65+  2448       0.0             0.0         0.0             120.0\n"
     ]
    }
   ],
   "source": [
    "# Hypothesis:\n",
    "# 'Meth and Heroin use is closely correlated on a age profile. \n",
    "# deliverables \n",
    "# -- correlation comparison of Usage and frequency between the two drugs\n",
    "# -- a stacked plot by age to look at the two trends\n",
    "# -- a comparison\n",
    "\n",
    "\n",
    "hypo_subset = drug_data[['age','n','meth-use','meth-frequency','heroin-use','heroin-frequency']] \n",
    "hypo_subset.loc[:,'meth-frequency'] = hypo_subset.loc[:,'meth-frequency'].replace('-','').astype(float)\n",
    "hypo_subset.loc[:,'heroin-frequency'] = hypo_subset.loc[:,'heroin-frequency'].replace('-','').astype(float)\n",
    "\n",
    "\n",
    "print hypo_subset"
   ]
  },
  {
   "cell_type": "code",
   "execution_count": 114,
   "metadata": {
    "collapsed": false
   },
   "outputs": [
    {
     "data": {
      "text/plain": [
       "<seaborn.axisgrid.PairGrid at 0x126014e90>"
      ]
     },
     "execution_count": 114,
     "metadata": {},
     "output_type": "execute_result"
    },
    {
     "data": {
      "image/png": "[encoded data removed]",
      "text/plain": [
       "<matplotlib.figure.Figure at 0x126014ad0>"
      ]
     },
     "metadata": {
      "image/png": {
       "height": 354,
       "width": 359
      }
     },
     "output_type": "display_data"
    }
   ],
   "source": [
    "sns.pairplot(hypo_subset[['meth-use','heroin-use']])\n",
    "# there's a strong correlation across age groups \n",
    "# on the upper right and lower left charts there's almost a linear correlation\n",
    "# there's almost a straight line which indicates a strong connection"
   ]
  },
  {
   "cell_type": "code",
   "execution_count": null,
   "metadata": {
    "collapsed": false
   },
   "outputs": [],
   "source": []
  },
  {
   "cell_type": "code",
   "execution_count": 115,
   "metadata": {
    "collapsed": false
   },
   "outputs": [
    {
     "data": {
      "text/plain": [
       "<seaborn.axisgrid.PairGrid at 0x1260146d0>"
      ]
     },
     "execution_count": 115,
     "metadata": {},
     "output_type": "execute_result"
    },
    {
     "data": {
      "image/png": "[encoded data removed]",
      "text/plain": [
       "<matplotlib.figure.Figure at 0x126014e10>"
      ]
     },
     "metadata": {
      "image/png": {
       "height": 354,
       "width": 357
      }
     },
     "output_type": "display_data"
    }
   ],
   "source": [
    "sns.pairplot(hypo_subset[['meth-frequency','heroin-frequency']])\n",
    "# the correlation of frequency is not as strong across age groups, but it is still very linear-like\n",
    "# as a result, if we had to classify the drugs, these two would have very similiar characteristics"
   ]
  },
  {
   "cell_type": "code",
   "execution_count": null,
   "metadata": {
    "collapsed": true
   },
   "outputs": [],
   "source": [
    "# CONCLUSION: \n",
    "# there is a strong correlation between meth and heroin use. The data\n",
    "# is summarized, so its hard to infer any time-related conclusions or \n",
    "# if the users of these drugs are the same people doing 2 drugs\n",
    "# or two individuals doing a drug each, but the behavior is very similar\n",
    "# "
   ]
  },
  {
   "cell_type": "markdown",
   "metadata": {},
   "source": [
    "<img src=\"http://imgur.com/GCAf1UX.png\" style=\"float: left; margin: 25px 15px 0px 0px; height: 25px\">\n",
    "\n",
    "## 9. Covariance and correlation\n",
    "\n",
    "---\n",
    "\n",
    "### 9.1 Return to the sat dataset\n",
    "\n",
    "**Go back to the sat dataset.**\n",
    "\n",
    "1. Create the covariance matrix for the non-State variables. There are pandas and numpy functions that can do this.\n",
    "2. What is the difference between the covariance and correlation matrix?\n",
    "3. Why is the correlation matrix preferred to the covariance matrix for EDA?"
   ]
  },
  {
   "cell_type": "code",
   "execution_count": null,
   "metadata": {
    "collapsed": true
   },
   "outputs": [],
   "source": []
  },
  {
   "cell_type": "code",
   "execution_count": 79,
   "metadata": {
    "collapsed": false
   },
   "outputs": [
    {
     "name": "stdout",
     "output_type": "stream",
     "text": [
      "               Math        Rate       Verbal\n",
      "Math    1297.078431 -760.803922  1077.147059\n",
      "Rate    -760.803922  745.387632  -804.355958\n",
      "Verbal  1077.147059 -804.355958  1104.646682\n",
      "            Math      Rate    Verbal\n",
      "Math    1.000000 -0.773746  0.899871\n",
      "Rate   -0.773746  1.000000 -0.886432\n",
      "Verbal  0.899871 -0.886432  1.000000\n"
     ]
    }
   ],
   "source": [
    "print sd.corr()\n",
    "#2\n",
    "# Correlation is the rate or the strength of relationship between any of the two different\n",
    "# variables. So if it is strongly correlated , it would be a value of 1, if negatively -1,\n",
    "# and if not correlated at all, it would be a correlated rate of 0\n",
    "\n",
    "print sd.cov()\n",
    "# Covariance - is the rate which two variables change together.  Positive values mean\n",
    "# taht they change together. Negative means they change inversely.\n",
    "#Since these values aren't normalized, it also shows the strength\n",
    "# in which they change. \n",
    "\n",
    "# Covariance is preferred because the interdepency factor between the difference aspects is normalized and\n",
    "# the metric is easier to understand. Between 1 and -1, so its very easy to see what has a strong correlation\n",
    "# and what has a weak one"
   ]
  },
  {
   "cell_type": "markdown",
   "metadata": {},
   "source": [
    "<img src=\"http://imgur.com/gGrau8s.png\" style=\"float: left; margin: 25px 15px 0px 0px; height: 25px\">\n",
    "\n",
    "### 9.2 Deeper into covariance and correlation\n",
    "\n",
    "1. How is the covariance matrix calculated?\n",
    "2. How is the correlation matrix calculated?\n",
    "3. Based on the explicit formulas, what is the primary differences between the two? \n",
    "\n"
   ]
  },
  {
   "cell_type": "code",
   "execution_count": null,
   "metadata": {
    "collapsed": true
   },
   "outputs": [],
   "source": [
    "#1 - covariance is calculated by the following: for two data sets X and Y. Each point is compared to its relative mean\n",
    "# so each point in X is compared to mean_X, and same for Y. For each point these diff_X is multiplied to diff_Y and\n",
    "# then all summed together. Finally this is divided by the overall sample size. The idea is that per point, \n",
    "# you have a combined X / Y variance from the relative mean. If this combined factor is small, that means on average,\n",
    "# most points are right on the mean\n",
    "# if the combined factor is large, that means both dimensions vary widely at the same time, and are related\n",
    "\n",
    "#2. - correlation is a very similar calculation. For each point the diff_X from the mean_X and diff_Y from mean_Y\n",
    "# is normalized against the standard error which is calculated by sqrt(var^2/m). This results in a \n",
    "# per point \"relative error\" to the \"normalized squared error\"\n",
    "#\n",
    "# correlation then compares this \"relative\" error of both X and Y dimensions together\n",
    "\n",
    "#3. the primary difference between the two is Correlation = Covariance / std(X) / std(y)"
   ]
  },
  {
   "cell_type": "markdown",
   "metadata": {},
   "source": [
    "<img src=\"http://imgur.com/gGrau8s.png\" style=\"float: left; margin: 25px 15px 0px 0px; height: 25px\">\n",
    "\n",
    "### 9.3 Manual calculation of the covariance and correlation\n",
    "\n",
    "Create two functions that accept a matrix/DataFrame of numeric columns.\n",
    "\n",
    "1. Write a function that manually calculates the covariance matrix.\n",
    "2. Write a function that manually calculates the correlation matrix."
   ]
  },
  {
   "cell_type": "code",
   "execution_count": 95,
   "metadata": {
    "collapsed": false
   },
   "outputs": [
    {
     "name": "stdout",
     "output_type": "stream",
     "text": [
      "2.5\n",
      "[[ 2.91666667  2.5       ]\n",
      " [ 2.5         8.88888889]]\n",
      "0.490990253031\n",
      "[[ 1.          0.49099025]\n",
      " [ 0.49099025  1.        ]]\n"
     ]
    }
   ],
   "source": [
    "X = [1,2,3,4,5,6]\n",
    "Y = [6,1,2,3,4,10]\n",
    "\n",
    "def mycov(X,Y):\n",
    "    array_X = np.array(X)\n",
    "    array_Y = np.array(Y)\n",
    "\n",
    "    cov = (array_X - array_X.mean())*(array_Y - array_Y.mean())/len(X)\n",
    "    return np.sum(cov)\n",
    "\n",
    "def mycor(X,Y):\n",
    "    array_X = np.array(X)\n",
    "    array_Y = np.array(Y)\n",
    "    \n",
    "    cor = (array_X - array_X.mean())*(array_Y - array_Y.mean())/len(X)/np.std(array_X) /np.std(array_Y)\n",
    "    return np.sum(cor)\n",
    "\n",
    "print mycov(X,Y)\n",
    "print np.cov(X,Y,bias=True)\n",
    "print mycor(X,Y)\n",
    "print np.corrcoef(X,Y)"
   ]
  },
  {
   "cell_type": "markdown",
   "metadata": {},
   "source": [
    "<img src=\"http://imgur.com/GCAf1UX.png\" style=\"float: left; margin: 25px 15px 0px 0px; height: 25px\">\n",
    "\n",
    "## 9. Introduction to dealing with outliers\n",
    "\n",
    "---\n",
    "\n",
    "Outliers are an interesting problem in statistics, in that there is not an agreed upon best way to define them. Subjectivity in selecting and analyzing data is a problem that will recur throughout the course.\n",
    "\n",
    "1. Pull out the rate variable from the sat dataset.\n",
    "2. Are there outliers in the dataset? Define, in words, how you _numerically define outliers._\n",
    "3. Print out the outliers in the dataset.\n",
    "4. Remove the outliers from the dataset.\n",
    "5. Compare the mean, median, and standard deviation of the \"cleaned\" data without outliers to the original. What is different about them and why?"
   ]
  },
  {
   "cell_type": "code",
   "execution_count": null,
   "metadata": {
    "collapsed": false
   },
   "outputs": [],
   "source": []
  },
  {
   "cell_type": "markdown",
   "metadata": {},
   "source": [
    "<img src=\"http://imgur.com/gGrau8s.png\" style=\"float: left; margin: 25px 15px 0px 0px; height: 25px\">\n",
    "\n",
    "### 10. Percentile scoring and spearman rank correlation\n",
    "\n",
    "---\n",
    "\n",
    "### 10.1 Calculate the spearman correlation of sat `Verbal` and `Math`\n",
    "\n",
    "1. How does the spearman correlation compare to the pearson correlation? \n",
    "2. Describe clearly in words the process of calculating the spearman rank correlation.\n",
    "  - Hint: the word \"rank\" is in the name of the process for a reason!\n"
   ]
  },
  {
   "cell_type": "code",
   "execution_count": null,
   "metadata": {
    "collapsed": true
   },
   "outputs": [],
   "source": [
    "# pearson calculation is based on fractional ranks.\n",
    "# numbers are sorted and then a rank is applied\n",
    "# by the order. If the number is repeated, then\n",
    "# the rank is split. so 1 1 2 would be rank 1.5 1.5 3 \n",
    "# this number ranking is used. This formula is used\n",
    "# to compensate for outliers\n",
    "\n",
    "# assuming that all the sets are integers\n",
    "# two datasets are ranked. At each point the (X,Y) the ranks\n",
    "# are compared and hte difference is recorded. \n",
    "# so X's rank in the X set and Y's rank in the Y set\n",
    "\n",
    "# if the rank is the same the difference is zero\n",
    "# and the formula becomes 1-0 = 1 which is completely correlated\n",
    "\n",
    "#otherwise the difference between the rank at anypoint is squared\n",
    "# then added up\n",
    "# multiplied by 6\n",
    "# divided by number of samples\n",
    "# divided by number of samples ^2-1\n",
    "\n",
    "#then the above is subtracted from 1"
   ]
  },
  {
   "cell_type": "markdown",
   "metadata": {},
   "source": [
    "### 10.2 Percentile scoring\n",
    "\n",
    "Look up percentile scoring of data. In other words, the conversion of numeric data to their equivalent percentile scores.\n",
    "\n",
    "http://docs.scipy.org/doc/numpy-dev/reference/generated/numpy.percentile.html\n",
    "\n",
    "http://docs.scipy.org/doc/scipy/reference/generated/scipy.stats.percentileofscore.html\n",
    "\n",
    "1. Convert `Rate` to percentiles in the sat scores as a new column.\n",
    "2. Show the percentile of California in `Rate`.\n",
    "3. How is percentile related to the spearman rank correlation?"
   ]
  },
  {
   "cell_type": "code",
   "execution_count": 152,
   "metadata": {
    "collapsed": false
   },
   "outputs": [
    {
     "name": "stdout",
     "output_type": "stream",
     "text": [
      "     Math  Rate State  Verbal  percentile\n",
      "23  517.0  51.0    CA   498.0   56.730769\n"
     ]
    }
   ],
   "source": [
    "import scipy.stats as scs\n",
    "\n",
    "def convertz(x):\n",
    "    return scs.percentileofscore(sd.Rate,x)\n",
    "\n",
    "sd['percentile'] = sd['Rate'].map(convertz)\n",
    "sd.head()\n",
    "\n",
    "#2\n",
    "print sd[sd['State']=='CA'].sort_values('Rate')\n",
    "\n",
    "#3 - percentile is basically the 1-100 range of rank\n",
    "# instead of actually rankings from 1... n samples\n",
    "# its using the %. That way its more universal between\n",
    "# different sized sets"
   ]
  },
  {
   "cell_type": "markdown",
   "metadata": {},
   "source": [
    "### 10.3 Percentiles and outliers\n",
    "\n",
    "1. Why might percentile scoring be useful for dealing with outliers?\n",
    "2. Plot the distribution of a variable of your choice from the drug use dataset.\n",
    "3. Plot the same variable but percentile scored.\n",
    "4. Describe the effect, visually, of coverting raw scores to percentile."
   ]
  },
  {
   "cell_type": "code",
   "execution_count": 161,
   "metadata": {
    "collapsed": false
   },
   "outputs": [
    {
     "data": {
      "text/plain": [
       "<matplotlib.axes._subplots.AxesSubplot at 0x127e78310>"
      ]
     },
     "execution_count": 161,
     "metadata": {},
     "output_type": "execute_result"
    },
    {
     "data": {
      "image/png": "[encoded data removed]",
      "text/plain": [
       "<matplotlib.figure.Figure at 0x1293ba790>"
      ]
     },
     "metadata": {
      "image/png": {
       "height": 273,
       "width": 389
      }
     },
     "output_type": "display_data"
    }
   ],
   "source": [
    "#1 percentile is useful for outliers because it will reduce\n",
    "# large outliers. The original correlation coefficient\n",
    "# is based on difference from the mean\n",
    "\n",
    "# one large value can throw off the whole correlation calc\n",
    "# with rank, no matter how far of it is, it will always be \n",
    "# last rank, so the impact is minimized\n",
    "import matplotlib.pyplot as plt\n",
    "def convertz2(x):\n",
    "    return scs.percentileofscore(drug_data['alcohol-use'],x)\n",
    "\n",
    "distplot(drug_data['alcohol-use'],bins=10)"
   ]
  },
  {
   "cell_type": "code",
   "execution_count": 162,
   "metadata": {
    "collapsed": false
   },
   "outputs": [
    {
     "data": {
      "text/plain": [
       "<matplotlib.axes._subplots.AxesSubplot at 0x1275d7b50>"
      ]
     },
     "execution_count": 162,
     "metadata": {},
     "output_type": "execute_result"
    },
    {
     "data": {
      "image/png": "[encoded data removed]",
      "text/plain": [
       "<matplotlib.figure.Figure at 0x1293ba690>"
      ]
     },
     "metadata": {
      "image/png": {
       "height": 273,
       "width": 389
      }
     },
     "output_type": "display_data"
    }
   ],
   "source": [
    "distplot(drug_data['alcohol-use'].map(convertz2),bins=10)"
   ]
  },
  {
   "cell_type": "code",
   "execution_count": null,
   "metadata": {
    "collapsed": true
   },
   "outputs": [],
   "source": [
    "#4 as noted the pearson rank smoothes out the curve,\n",
    "# so that one outlying group will not have that much of an effect"
   ]
  }
 ],
 "metadata": {
  "anaconda-cloud": {},
  "kernelspec": {
   "display_name": "Python 2",
   "language": "python",
   "name": "python2"
  },
  "language_info": {
   "codemirror_mode": {
    "name": "ipython",
    "version": 2
   },
   "file_extension": ".py",
   "mimetype": "text/x-python",
   "name": "python",
   "nbconvert_exporter": "python",
   "pygments_lexer": "ipython2",
   "version": "2.7.11"
  }
 },
 "nbformat": 4,
 "nbformat_minor": 0
}
