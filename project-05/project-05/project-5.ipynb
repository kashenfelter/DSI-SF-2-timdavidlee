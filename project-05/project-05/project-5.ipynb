{
 "cells": [
  {
   "cell_type": "markdown",
   "metadata": {},
   "source": [
    "<img src=\"http://imgur.com/1ZcRyrc.png\" style=\"float: left; margin: 15px; height: 80px\">\n",
    "\n",
    "# Project 4\n",
    "\n",
    "## Help Yelp\n",
    "\n",
    "---\n",
    "\n",
    "In this project you will be investigating a small version of the [Yelp challenge dataset](https://www.yelp.com/dataset_challenge). You'll practice using classification algorithms, cross-validation, gridsearching – all that good stuff.\n",
    "\n"
   ]
  },
  {
   "cell_type": "markdown",
   "metadata": {},
   "source": [
    "---\n",
    "\n",
    "### The data\n",
    "\n",
    "There are 5 individual .csv files that have the information, zipped into .7z format like with the SF data last project. The dataset is located in your datasets folder:\n",
    "\n",
    "    DSI-SF-2/datasets/yelp_arizona_data.7z\n",
    "\n",
    "The columns in each are:\n",
    "\n",
    "    businesses_small_parsed.csv\n",
    "        business_id: unique business identifier\n",
    "        name: name of the business\n",
    "        review_count: number of reviews per business\n",
    "        city: city business resides in\n",
    "        stars: average rating\n",
    "        categories: categories the business falls into (can be one or multiple)\n",
    "        latitude\n",
    "        longitude\n",
    "        neighborhoods: neighborhoods business belongs to\n",
    "        variable: \"property\" of the business (a tag)\n",
    "        value: True/False for the property\n",
    "        \n",
    "    reviews_small_nlp_parsed.csv\n",
    "        user_id: unique user identifier\n",
    "        review_id: unique review identifier\n",
    "        votes.cool: how many thought the review was \"cool\"\n",
    "        business_id: unique business id the review is for\n",
    "        votes.funny: how many thought the review was funny\n",
    "        stars: rating given\n",
    "        date: date of review\n",
    "        votes.useful: how many thought the review was useful\n",
    "        ... 100 columns of counts of most common 2 word phrases that appear in reviews in this review\n",
    "        \n",
    "    users_small_parsed.csv\n",
    "        yelping_since: signup date\n",
    "        compliments.plain: # of compliments \"plain\"\n",
    "        review_count: # of reviews:\n",
    "        compliments.cute: total # of compliments \"cute\"\n",
    "        compliments.writer: # of compliments \"writer\"\n",
    "        compliments.note: # of compliments \"note\" (not sure what this is)\n",
    "        compliments.hot: # of compliments \"hot\" (?)\n",
    "        compliments.cool: # of compliments \"cool\"\n",
    "        compliments.profile: # of compliments \"profile\"\n",
    "        average_stars: average rating\n",
    "        compliments.more: # of compliments \"more\"\n",
    "        elite: years considered \"elite\"\n",
    "        name: user's name\n",
    "        user_id: unique user id\n",
    "        votes.cool: # of votes \"cool\"\n",
    "        compliments.list: # of compliments \"list\"\n",
    "        votes.funny: # of compliments \"funny\"\n",
    "        compliments.photos: # of compliments \"photos\"\n",
    "        compliments.funny: # of compliments \"funny\"\n",
    "        votes.useful: # of votes \"useful\"\n",
    "       \n",
    "    checkins_small_parsed.csv\n",
    "        business_id: unique business identifier\n",
    "        variable: day-time identifier of checkins (0-0 is Sunday 0:00 - 1:00am,  for example)\n",
    "        value: # of checkins at that time\n",
    "    \n",
    "    tips_small_nlp_parsed.csv\n",
    "        user_id: unique user identifier\n",
    "        business_id: unique business identifier\n",
    "        likes: likes that the tip has\n",
    "        date: date of tip\n",
    "        ... 100 columns of counts of most common 2 word phrases that appear in tips in this tip\n",
    "\n",
    "The reviews and tips datasets in particular have parsed \"NLP\" columns with counts of 2-word phrases in that review or tip (a \"tip\", it seems, is some kind of smaller review).\n",
    "\n",
    "The user dataset has a lot of columns of counts of different compliments and votes. I'm not sure whether the compliments or votes are _by_ the user or _for_ the user.\n",
    "\n",
    "---\n",
    "\n",
    "If you look at the website, or the full data, you'll see I have removed pieces of the data and cut it down quite a bit. This is to simplify it for this project. Specifically, business are limited to be in these cities:\n",
    "\n",
    "    Phoenix\n",
    "    Surprise\n",
    "    Las Vegas\n",
    "    Waterloo\n",
    "\n",
    "Apparently there is a city called \"Surprise\" in Arizona. \n",
    "\n",
    "Businesses are also restricted to at least be in one of the following categories, because I thought the mix of them was funny:\n",
    "\n",
    "    Airports\n",
    "    Breakfast & Brunch\n",
    "    Bubble Tea\n",
    "    Burgers\n",
    "    Bars\n",
    "    Bakeries\n",
    "    Breweries\n",
    "    Cafes\n",
    "    Candy Stores\n",
    "    Comedy Clubs\n",
    "    Courthouses\n",
    "    Dance Clubs\n",
    "    Fast Food\n",
    "    Museums\n",
    "    Tattoo\n",
    "    Vape Shops\n",
    "    Yoga\n",
    "    \n",
    "---\n",
    "\n",
    "### Project requirements\n",
    "\n",
    "**You will be performing 4 different sections of analysis, like in the last project.**\n",
    "\n",
    "Remember that classification targets are categorical and regression targets are continuous variables."
   ]
  },
  {
   "cell_type": "markdown",
   "metadata": {},
   "source": [
    "<img src=\"http://imgur.com/l5NasQj.png\" style=\"float: left; margin: 25px 15px 0px 0px; height: 25px\">\n",
    "\n",
    "## 1. Constructing a \"profile\" for Las Vegas\n",
    "\n",
    "---\n",
    "\n",
    "Yelp is interested in building out what they are calling \"profiles\" for cities. They want you to start with just Las Vegas to see what a prototype of this would look like. Essentially, they want to know what makes Las Vegas distinct from the other four.\n",
    "\n",
    "Use the data you have to predict Las Vegas from the other variables you have. You should not be predicting the city from any kind of location data or other data perfectly associated with that city (or another city).\n",
    "\n",
    "You may use any classification algorithm you deem appropriate, or even multiple models. You should:\n",
    "\n",
    "1. Build at least one model predicting Las Vegas vs. the other cities.\n",
    "- Validate your model(s).\n",
    "- Interpret and visualize, in some way, the results.\n",
    "- Write up a \"profile\" for Las Vegas. This should be a writeup converting your findings from the model(s) into a human-readable description of the city."
   ]
  },
  {
   "cell_type": "code",
   "execution_count": 2,
   "metadata": {
    "collapsed": false
   },
   "outputs": [],
   "source": [
    "import pandas as pd\n",
    "import numpy as np\n",
    "\n",
    "#======================= Import business information\n",
    "filepath = '../../datasets/yelp_arizona_data/businesses_small_parsed.csv'\n",
    "biz = pd.read_csv(filepath)\n",
    "\n",
    "#======================= Import checkin information\n",
    "filepath = '../../datasets/yelp_arizona_data/checkins_small_parsed.csv'\n",
    "chkin = pd.read_csv(filepath)\n",
    "\n",
    "#======================= Reviews\n",
    "filepath = '../../datasets/yelp_arizona_data/reviews_small_nlp_parsed.csv'\n",
    "review = pd.read_csv(filepath)\n",
    "\n",
    "#======================= Small reviews (tip)\n",
    "filepath = '../../datasets/yelp_arizona_data/tips_small_nlp_parsed.csv'\n",
    "tips = pd.read_csv(filepath)\n",
    "\n",
    "\n",
    "\n",
    "\n",
    "filepath = '../../datasets/yelp_arizona_data/users_small_parsed.csv'\n",
    "users = pd.read_csv(filepath)\n"
   ]
  },
  {
   "cell_type": "code",
   "execution_count": 3,
   "metadata": {
    "collapsed": false
   },
   "outputs": [
    {
     "name": "stdout",
     "output_type": "stream",
     "text": [
      "(152832, 11) (214299, 3) (322398, 108) (101991, 104) (144206, 21)\n"
     ]
    }
   ],
   "source": [
    "print biz.shape, chkin.shape, review.shape, tips.shape, users.shape"
   ]
  },
  {
   "cell_type": "code",
   "execution_count": 134,
   "metadata": {
    "collapsed": false
   },
   "outputs": [
    {
     "data": {
      "text/plain": [
       "array(['user_id', 'business_id', 'likes', 'date', '24 hours',\n",
       "       'amazing food', 'animal style', 'awesome food', 'awesome place',\n",
       "       'awesome service', 'beef hash', 'beer selection', 'best breakfast',\n",
       "       'best burger', 'best burgers', 'best place', 'bloody mary',\n",
       "       'bottle service', 'carne asada', 'cheese fries', 'chicken waffles',\n",
       "       'come early', 'cool place', 'corned beef', 'customer service',\n",
       "       'delicious food', 'don come', 'don forget', 'eggs benedict',\n",
       "       'excellent food', 'excellent service', 'fast food', 'fast service',\n",
       "       'favorite place', 'feel like', 'fish chips', 'food amazing',\n",
       "       'food awesome', 'food drinks', 'food good', 'food great',\n",
       "       'food service', 'free wifi', 'french toast', 'fried chicken',\n",
       "       'friendly service', 'friendly staff', 'gluten free', 'good food',\n",
       "       'good place', 'good service', 'great atmosphere', 'great beer',\n",
       "       'great breakfast', 'great burgers', 'great customer',\n",
       "       'great drinks', 'great food', 'great happy', 'great place',\n",
       "       'great prices', 'great service', 'great spot', 'great staff',\n",
       "       'grilled cheese', 'guest list', 'happy birthday', 'happy hour',\n",
       "       'highly recommend', 'ice cream', 'las vegas', 'late night',\n",
       "       'live music', 'long wait', 'love food', 'love love', 'love place',\n",
       "       'mac cheese', 'make sure', 'new favorite', 'nice place', 'nom nom',\n",
       "       'onion rings', 'open 24', 'place awesome', 'place eat',\n",
       "       'place good', 'place great', 'potato fries', 'pretty good',\n",
       "       'prime rib', 'really good', 'red velvet', 'service food',\n",
       "       'service good', 'service great', 'slow service', 'staff friendly',\n",
       "       'staff great', 'steak eggs', 'super friendly', 'sweet potato',\n",
       "       'velvet pancakes', 'worth wait'], dtype=object)"
      ]
     },
     "execution_count": 134,
     "metadata": {},
     "output_type": "execute_result"
    }
   ],
   "source": [
    "tips.columns.values"
   ]
  },
  {
   "cell_type": "code",
   "execution_count": 4,
   "metadata": {
    "collapsed": false
   },
   "outputs": [
    {
     "name": "stdout",
     "output_type": "stream",
     "text": [
      "              business_id          variable  value     city  vegas_flag  \\\n",
      "0  SG_gEmEXL4ID6RAEinC5Bg  checkin_info.9-0    1.0  Phoenix           0   \n",
      "1  SG_gEmEXL4ID6RAEinC5Bg  checkin_info.9-0    1.0  Phoenix           0   \n",
      "2  SG_gEmEXL4ID6RAEinC5Bg  checkin_info.9-0    1.0  Phoenix           0   \n",
      "3  SG_gEmEXL4ID6RAEinC5Bg  checkin_info.9-0    1.0  Phoenix           0   \n",
      "4  SG_gEmEXL4ID6RAEinC5Bg  checkin_info.9-0    1.0  Phoenix           0   \n",
      "\n",
      "   cityint  weekday  time24  \n",
      "0        3        0       9  \n",
      "1        3        0       9  \n",
      "2        3        0       9  \n",
      "3        3        0       9  \n",
      "4        3        0       9  \n"
     ]
    }
   ],
   "source": [
    "# hypothesis-- the day and the number of checkins are a strong predictor \n",
    "# for determining what city we are talking about\n",
    "# if a days checks are collected by hour, there is a strong predictor\n",
    "# to the related city\n",
    "\n",
    "# cleaning the data\n",
    "\n",
    "#adding the city to the checkin table\n",
    "clean = chkin.merge(biz[['business_id','city']], on='business_id', how='inner')\n",
    "\n",
    "#adding the las_vegas yes or no flag\n",
    "clean['vegas_flag'] = clean['city'].map( lambda x : 1 if x=='Las Vegas' else 0)\n",
    "city_key = {\n",
    "    'Phoenix': 3 \n",
    "    , 'Surprise': 2\n",
    "    , 'Las Vegas': 1\n",
    "    , 'Waterloo': 4  \n",
    "}\n",
    "\n",
    "#adding some additional fields, extracting the day and the time of day into separate fields\n",
    "clean['cityint'] = clean['city'].map( lambda x : city_key[x])\n",
    "clean['vegas_flag'] = clean['city'].map( lambda x : 1 if x=='Las Vegas' else 0)\n",
    "clean['weekday'] = clean['variable'].map( lambda x : int(x.split('-')[-1]))\n",
    "clean['time24'] = clean['variable'].map( lambda x : int(x.split('-')[0].split('.')[-1]))\n",
    "print clean.head(5)\n"
   ]
  },
  {
   "cell_type": "code",
   "execution_count": 6,
   "metadata": {
    "collapsed": false
   },
   "outputs": [
    {
     "data": {
      "text/html": [
       "<div>\n",
       "<table border=\"1\" class=\"dataframe\">\n",
       "  <thead>\n",
       "    <tr style=\"text-align: right;\">\n",
       "      <th></th>\n",
       "      <th>time24</th>\n",
       "      <th>cityint</th>\n",
       "      <th>vegas_flag</th>\n",
       "      <th>weekday</th>\n",
       "      <th>value</th>\n",
       "      <th>chkin_ct_norm</th>\n",
       "    </tr>\n",
       "  </thead>\n",
       "  <tbody>\n",
       "    <tr>\n",
       "      <th>0</th>\n",
       "      <td>0</td>\n",
       "      <td>1</td>\n",
       "      <td>1</td>\n",
       "      <td>0</td>\n",
       "      <td>172464.0</td>\n",
       "      <td>1.758266</td>\n",
       "    </tr>\n",
       "    <tr>\n",
       "      <th>1</th>\n",
       "      <td>0</td>\n",
       "      <td>1</td>\n",
       "      <td>1</td>\n",
       "      <td>1</td>\n",
       "      <td>121715.0</td>\n",
       "      <td>1.240881</td>\n",
       "    </tr>\n",
       "    <tr>\n",
       "      <th>2</th>\n",
       "      <td>0</td>\n",
       "      <td>1</td>\n",
       "      <td>1</td>\n",
       "      <td>2</td>\n",
       "      <td>122147.0</td>\n",
       "      <td>1.245286</td>\n",
       "    </tr>\n",
       "    <tr>\n",
       "      <th>3</th>\n",
       "      <td>0</td>\n",
       "      <td>1</td>\n",
       "      <td>1</td>\n",
       "      <td>3</td>\n",
       "      <td>142917.0</td>\n",
       "      <td>1.457035</td>\n",
       "    </tr>\n",
       "    <tr>\n",
       "      <th>4</th>\n",
       "      <td>0</td>\n",
       "      <td>1</td>\n",
       "      <td>1</td>\n",
       "      <td>4</td>\n",
       "      <td>194896.0</td>\n",
       "      <td>1.986960</td>\n",
       "    </tr>\n",
       "  </tbody>\n",
       "</table>\n",
       "</div>"
      ],
      "text/plain": [
       "   time24  cityint  vegas_flag  weekday     value  chkin_ct_norm\n",
       "0       0        1           1        0  172464.0       1.758266\n",
       "1       0        1           1        1  121715.0       1.240881\n",
       "2       0        1           1        2  122147.0       1.245286\n",
       "3       0        1           1        3  142917.0       1.457035\n",
       "4       0        1           1        4  194896.0       1.986960"
      ]
     },
     "execution_count": 6,
     "metadata": {},
     "output_type": "execute_result"
    }
   ],
   "source": [
    "clean.shape\n",
    "\n",
    "# summarizing check ins by \n",
    "for_plot = clean.groupby(['time24','cityint','vegas_flag','weekday'])[['value']].sum()\n",
    "for_plot.reset_index(inplace=True)\n",
    "\n",
    "#normalizing the value which is the checkin count. doing this manually\n",
    "#since it is only one field\n",
    "for_plot['chkin_ct_norm'] = for_plot['value'] / for_plot['value'].mean()\n",
    "\n",
    "#normalized dataset\n",
    "for_plot.head(5)\n"
   ]
  },
  {
   "cell_type": "code",
   "execution_count": 7,
   "metadata": {
    "collapsed": false
   },
   "outputs": [
    {
     "name": "stdout",
     "output_type": "stream",
     "text": [
      "0.9\n"
     ]
    }
   ],
   "source": [
    "# splitting the data\n",
    "import patsy\n",
    "from sklearn.cross_validation import train_test_split\n",
    "formula = 'vegas_flag ~ time24 + weekday + chkin_ct_norm-1'\n",
    "y, X = patsy.dmatrices(formula,for_plot)\n",
    "\n",
    "\n",
    "# setting up for cross validation\n",
    "X_train, X_test, y_train, y_test = train_test_split(X,y, test_size=.2, stratify =y)\n",
    "y_train = np.ravel(y_train)\n",
    "y_test = np.ravel(y_test)\n",
    "\n",
    "# modeling\n",
    "from sklearn.linear_model import LogisticRegressionCV\n",
    "lr = LogisticRegressionCV(cv=5)\n",
    "lr_model = lr.fit(X_train,y_train)\n",
    "score = lr_model.score(X_test, y_test)\n",
    "\n",
    "#scoring the model\n",
    "print score\n",
    "probabilities = lr_model.predict_proba(X_test)\n"
   ]
  },
  {
   "cell_type": "code",
   "execution_count": null,
   "metadata": {
    "collapsed": false
   },
   "outputs": [],
   "source": [
    "#plots of checkins by hour for each city"
   ]
  },
  {
   "cell_type": "code",
   "execution_count": 8,
   "metadata": {
    "collapsed": false
   },
   "outputs": [
    {
     "data": {
      "text/plain": [
       "<matplotlib.axes._subplots.AxesSubplot at 0x1248b83d0>"
      ]
     },
     "execution_count": 8,
     "metadata": {},
     "output_type": "execute_result"
    },
    {
     "data": {
      "image/png": "[encoded data removed]",
      "text/plain": [
       "<matplotlib.figure.Figure at 0x1248a5b90>"
      ]
     },
     "metadata": {},
     "output_type": "display_data"
    }
   ],
   "source": [
    "# =========== VEGAS======================\n",
    "import matplotlib.pyplot as plt\n",
    "%matplotlib inline\n",
    "clean[clean.cityint==1].time24.hist(bins =12)\n"
   ]
  },
  {
   "cell_type": "code",
   "execution_count": 9,
   "metadata": {
    "collapsed": false
   },
   "outputs": [
    {
     "data": {
      "text/plain": [
       "<matplotlib.axes._subplots.AxesSubplot at 0x122d964d0>"
      ]
     },
     "execution_count": 9,
     "metadata": {},
     "output_type": "execute_result"
    },
    {
     "data": {
      "image/png": "[encoded data removed]",
      "text/plain": [
       "<matplotlib.figure.Figure at 0x11c463dd0>"
      ]
     },
     "metadata": {},
     "output_type": "display_data"
    }
   ],
   "source": [
    "# =========== SURPRISE======================\n",
    "clean[clean.cityint==2].time24.hist(bins =12)\n"
   ]
  },
  {
   "cell_type": "code",
   "execution_count": 10,
   "metadata": {
    "collapsed": false
   },
   "outputs": [
    {
     "data": {
      "text/plain": [
       "<matplotlib.axes._subplots.AxesSubplot at 0x122e343d0>"
      ]
     },
     "execution_count": 10,
     "metadata": {},
     "output_type": "execute_result"
    },
    {
     "data": {
      "image/png": "[encoded data removed]",
      "text/plain": [
       "<matplotlib.figure.Figure at 0x105b43050>"
      ]
     },
     "metadata": {},
     "output_type": "display_data"
    }
   ],
   "source": [
    "# =========== Phoenix ======================\n",
    "clean[clean.cityint==3].time24.hist(bins =12)\n"
   ]
  },
  {
   "cell_type": "code",
   "execution_count": 11,
   "metadata": {
    "collapsed": false
   },
   "outputs": [
    {
     "data": {
      "text/plain": [
       "<matplotlib.axes._subplots.AxesSubplot at 0x122454890>"
      ]
     },
     "execution_count": 11,
     "metadata": {},
     "output_type": "execute_result"
    },
    {
     "data": {
      "image/png": "[encoded data removed]",
      "text/plain": [
       "<matplotlib.figure.Figure at 0x11c2240d0>"
      ]
     },
     "metadata": {},
     "output_type": "display_data"
    }
   ],
   "source": [
    "# =========== Waterloo ======================\n",
    "clean[clean.cityint==4].time24.hist(bins =12)"
   ]
  },
  {
   "cell_type": "markdown",
   "metadata": {},
   "source": [
    "<img src=\"http://imgur.com/l5NasQj.png\" style=\"float: left; margin: 25px 15px 0px 0px; height: 25px\">\n",
    "\n",
    "## 2. Different categories of ratings\n",
    "\n",
    "---\n",
    "\n",
    "Yelp is finally ready to admit that their rating system sucks. No one cares about the ratings, they just use the site to find out what's nearby. The ratings are simply too unreliable for people. \n",
    "\n",
    "Yelp hypothesizes that this is, in fact, because different people tend to give their ratings based on different things. They believe that perhaps some people always base their ratings on quality of food, others on service, and perhaps other categories as well. \n",
    "\n",
    "1. Do some users tend to talk about service more than others in reviews/tips? Divide up the tips/reviews into more \"service-focused\" ones and those less concerned with service.\n",
    "2. Create two new ratings for businesses: ratings from just the service-focused reviews and ratings from the non-service reviews.\n",
    "3. Construct a regression model for each of the two ratings. They should use the same predictor variables (of your choice). \n",
    "4. Validate the performance of the models.\n",
    "5. Do the models coefficients differ at all? What does this tell you about the hypothesis that there are in fact two different kinds of ratings?"
   ]
  },
  {
   "cell_type": "code",
   "execution_count": 76,
   "metadata": {
    "collapsed": false
   },
   "outputs": [
    {
     "name": "stdout",
     "output_type": "stream",
     "text": [
      "(322398, 110)\n",
      "['bar food', 'fast food', 'food amazing', 'food came', 'food delicious', 'food good', 'food great', 'food just', 'food service', 'good food', 'great food', 'quality food', 'service food']\n",
      "starting first column\n",
      "starting 2nd column\n",
      "starting 3nd column\n",
      "                  user_id               review_id  votes.cool  \\\n",
      "0  o_LCYay4uo5N4eq3U5pbrQ  biEOCicjWlibF26pNLvhcw           0   \n",
      "1  sEWeeq41k4ohBz4jS_iGRw  tOhOHUAS7XJch7a_HW5Csw           3   \n",
      "2  1AqEqmmVHgYCuzcMrF4h2g  2aGafu-x7onydGoDgDfeQQ           0   \n",
      "3  pv82zTlB5Txsu2Pusu__FA  CY4SWiYcUZTWS_T_cGaGPA           4   \n",
      "4  jlr3OBS1_Y3Lqa-H3-FR1g  VCKytaG-_YkxmQosH4E0jw           0   \n",
      "5  TR2YFVnIM5UM38RuMy6dcw  HUbubdE18goGYElee83hMw           0   \n",
      "6  trdsekNRD-gIs50EBrScwA  XFJ7N6UDMwCUR-WvFzADPg           0   \n",
      "7  PnsKyueIKIIimnRGo0niWw  oOYyD6oLLKPm-lj9H9whSw           0   \n",
      "8  8leVoQakIF9OfyikF7Yu5g  WwWdhzdTyef9vFBIQhm1Pw           0   \n",
      "9  lGROEmEZaINjHghhViWdeQ  C85618PrjV1lUBUyWaFksA           0   \n",
      "\n",
      "              business_id  votes.funny  stars        date  votes.useful  \\\n",
      "0  EmzaQR5hQlF0WIl24NxAZA            0      3  2007-09-14             1   \n",
      "1  EmzaQR5hQlF0WIl24NxAZA           12      2  2008-04-21             3   \n",
      "2  EmzaQR5hQlF0WIl24NxAZA            2      2  2009-11-16             0   \n",
      "3  EmzaQR5hQlF0WIl24NxAZA            9      2  2010-08-16             6   \n",
      "4  EmzaQR5hQlF0WIl24NxAZA            1      4  2010-12-04             0   \n",
      "5  EmzaQR5hQlF0WIl24NxAZA            0      5  2011-04-17             1   \n",
      "6  EmzaQR5hQlF0WIl24NxAZA            0      4  2012-02-27             0   \n",
      "7  EmzaQR5hQlF0WIl24NxAZA            1      2  2012-10-02             1   \n",
      "8  EmzaQR5hQlF0WIl24NxAZA            1      1  2013-02-16             4   \n",
      "9  EmzaQR5hQlF0WIl24NxAZA            0      1  2013-04-12             4   \n",
      "\n",
      "   10 minutes  15 minutes  ...   sweet potato  tasted like  time vegas  \\\n",
      "0           0           0  ...              0            0           0   \n",
      "1           0           0  ...              0            0           0   \n",
      "2           0           0  ...              0            0           0   \n",
      "3           0           0  ...              0            0           0   \n",
      "4           0           0  ...              0            0           0   \n",
      "5           0           0  ...              0            0           0   \n",
      "6           0           0  ...              0            0           0   \n",
      "7           0           1  ...              0            0           0   \n",
      "8           0           0  ...              0            0           0   \n",
      "9           0           0  ...              0            0           0   \n",
      "\n",
      "   try place  ve seen  ve tried  wait staff  service  nonservice  food  \n",
      "0          0        0         0           0        0           1     0  \n",
      "1          0        0         0           0        0          18     0  \n",
      "2          0        0         0           0        0           2     0  \n",
      "3          0        0         0           0        0          19     0  \n",
      "4          0        0         0           0        0           2     0  \n",
      "5          0        0         0           0        0           1     0  \n",
      "6          0        0         0           0        0           0     0  \n",
      "7          0        0         0           0        1           2     0  \n",
      "8          0        0         0           0        0           5     0  \n",
      "9          0        0         0           0        0           5     0  \n",
      "\n",
      "[10 rows x 111 columns]\n"
     ]
    }
   ],
   "source": [
    "#print review.columns.values\n",
    "#================================= LONGEST BLOCK - ONLY RERUN WHEN NECESSARY\n",
    "'''\n",
    "['user_id' 'review_id' 'votes.cool' 'business_id' 'votes.funny' 'stars'\n",
    " 'date' 'votes.useful' '10 minutes' '15 minutes' '20 minutes' '30 minutes'\n",
    " 'bar food' 'beer selection' 'best ve' 'bloody mary' 'bottle service'\n",
    " 'chicken waffles' 'customer service' 'dance floor' 'decided try'\n",
    " 'definitely come' 'definitely recommend' 'didn want' 'don know' 'don like'\n",
    " 'don think' 'don want' 'eggs benedict' 'fast food' 'feel like' 'felt like'\n",
    " 'fish chips' 'food amazing' 'food came' 'food delicious' 'food good'\n",
    " 'food great' 'food just' 'food service' 'french fries' 'french toast'\n",
    " 'friday night' 'fried chicken' 'friendly staff' 'good food' 'good place'\n",
    " 'good service' 'good thing' 'good time' 'great atmosphere'\n",
    " 'great experience' 'great food' 'great place' 'great service' 'great time'\n",
    " 'happy hour' 'hash browns' 'highly recommend' 'hip hop' 'ice cream'\n",
    " 'just like' 'just ok' 'just right' 'las vegas' 'late night' 'like place'\n",
    " 'little bit' 'long time' 'looked like' 'looks like' 'love place'\n",
    " 'mac cheese' 'make sure' 'mashed potatoes' 'medium rare' 'minutes later'\n",
    " 'new york' 'onion rings' 'place good' 'place great' 'place just'\n",
    " 'potato fries' 'pretty good' 'quality food' 'really enjoyed' 'really good'\n",
    " 'really like' 'really nice' 'recommend place' 'red velvet' 'right away'\n",
    " 'saturday night' 'second time' 'service excellent' 'service food'\n",
    " 'service friendly' 'service good' 'service great' 'staff friendly'\n",
    " 'super friendly' 'sweet potato' 'tasted like' 'time vegas' 'try place'\n",
    " 've seen' 've tried' 'wait staff']\n",
    "'''\n",
    "print review.shape\n",
    "#=================== IDENTIFYING THE KEY HEADINGS\n",
    "standard_columns = ['user_id', 'review_id', 'business_id','stars', 'date']\n",
    "\n",
    "#=================== IDENTIFYING THE SERVICE RELATED HEADINGS\n",
    "service_columns = ['10 minutes', '15 minutes',\n",
    "       '20 minutes', '30 minutes','customer service','food came','food service','friendly staff','good service',  'friendly staff',\n",
    "                   'great experience','great service','right away','service excellent', 'service food',\n",
    "       'service friendly', 'service good', 'service great',\n",
    "       'staff friendly', 'super friendly'\n",
    "                  ]\n",
    "#=================== IDENTIFYING THE NONSERVICE RELATED COLUMNS (BY EXCLUSION)\n",
    "nonservice_columns = [x for x in review.columns.values if (x not in standard_columns) & (x not in service_columns) & (x not in ['service','nonservice'])]\n",
    "#review['service_revs'] = review.apply(lambda x: sum([x for x in x.loc[:,service_columns]]) , axis=0)\n",
    "#review['nonservice_revs']\n",
    "\n",
    "#=================== IDENTIFYING THE FOOD RELATED COLUMNS (BY EXCLUSION)\n",
    "food_columns = [x for x in review.columns.values if 'food' in x]\n",
    "print food_columns\n",
    "\n",
    "# flagging different reviews as SERVICE / NONSERVICE/ FOOD \n",
    "review_head = review\n",
    "print 'starting first column'\n",
    "review_head['service'] = review_head.apply( lambda x: sum([a for a in x[service_columns]]), axis=1)\n",
    "print 'starting 2nd column'\n",
    "review_head['nonservice'] = review_head.apply( lambda x: sum([a for a in x[nonservice_columns]]), axis=1)\n",
    "print 'starting 3nd column'\n",
    "review_head['food'] = review_head.apply( lambda x: sum([a for a in x[food_columns]]), axis=1)\n",
    "print review_head.head(10)\n",
    "\n",
    "#sum(review.ix[0,service_columns])"
   ]
  },
  {
   "cell_type": "code",
   "execution_count": 74,
   "metadata": {
    "collapsed": false
   },
   "outputs": [
    {
     "name": "stdout",
     "output_type": "stream",
     "text": [
      "['bar food', 'fast food', 'food amazing', 'food came', 'food delicious', 'food good', 'food great', 'food just', 'food service', 'good food', 'great food', 'quality food', 'service food']\n"
     ]
    }
   ],
   "source": [
    "# columns for food (later)\n",
    "food_columns = [x for x in review.columns.values if 'food' in x]\n",
    "print food_columns"
   ]
  },
  {
   "cell_type": "code",
   "execution_count": 77,
   "metadata": {
    "collapsed": false
   },
   "outputs": [
    {
     "data": {
      "text/html": [
       "<div>\n",
       "<table border=\"1\" class=\"dataframe\">\n",
       "  <thead>\n",
       "    <tr style=\"text-align: right;\">\n",
       "      <th></th>\n",
       "      <th>user_id</th>\n",
       "      <th>business_id</th>\n",
       "      <th>review_id</th>\n",
       "      <th>stars</th>\n",
       "      <th>service</th>\n",
       "      <th>nonservice</th>\n",
       "      <th>service_or_non</th>\n",
       "    </tr>\n",
       "  </thead>\n",
       "  <tbody>\n",
       "    <tr>\n",
       "      <th>0</th>\n",
       "      <td>o_LCYay4uo5N4eq3U5pbrQ</td>\n",
       "      <td>EmzaQR5hQlF0WIl24NxAZA</td>\n",
       "      <td>biEOCicjWlibF26pNLvhcw</td>\n",
       "      <td>3</td>\n",
       "      <td>0</td>\n",
       "      <td>1</td>\n",
       "      <td>0</td>\n",
       "    </tr>\n",
       "    <tr>\n",
       "      <th>1</th>\n",
       "      <td>sEWeeq41k4ohBz4jS_iGRw</td>\n",
       "      <td>EmzaQR5hQlF0WIl24NxAZA</td>\n",
       "      <td>tOhOHUAS7XJch7a_HW5Csw</td>\n",
       "      <td>2</td>\n",
       "      <td>0</td>\n",
       "      <td>18</td>\n",
       "      <td>0</td>\n",
       "    </tr>\n",
       "    <tr>\n",
       "      <th>2</th>\n",
       "      <td>1AqEqmmVHgYCuzcMrF4h2g</td>\n",
       "      <td>EmzaQR5hQlF0WIl24NxAZA</td>\n",
       "      <td>2aGafu-x7onydGoDgDfeQQ</td>\n",
       "      <td>2</td>\n",
       "      <td>0</td>\n",
       "      <td>2</td>\n",
       "      <td>0</td>\n",
       "    </tr>\n",
       "    <tr>\n",
       "      <th>3</th>\n",
       "      <td>pv82zTlB5Txsu2Pusu__FA</td>\n",
       "      <td>EmzaQR5hQlF0WIl24NxAZA</td>\n",
       "      <td>CY4SWiYcUZTWS_T_cGaGPA</td>\n",
       "      <td>2</td>\n",
       "      <td>0</td>\n",
       "      <td>19</td>\n",
       "      <td>0</td>\n",
       "    </tr>\n",
       "    <tr>\n",
       "      <th>4</th>\n",
       "      <td>jlr3OBS1_Y3Lqa-H3-FR1g</td>\n",
       "      <td>EmzaQR5hQlF0WIl24NxAZA</td>\n",
       "      <td>VCKytaG-_YkxmQosH4E0jw</td>\n",
       "      <td>4</td>\n",
       "      <td>0</td>\n",
       "      <td>2</td>\n",
       "      <td>0</td>\n",
       "    </tr>\n",
       "  </tbody>\n",
       "</table>\n",
       "</div>"
      ],
      "text/plain": [
       "                  user_id             business_id               review_id  \\\n",
       "0  o_LCYay4uo5N4eq3U5pbrQ  EmzaQR5hQlF0WIl24NxAZA  biEOCicjWlibF26pNLvhcw   \n",
       "1  sEWeeq41k4ohBz4jS_iGRw  EmzaQR5hQlF0WIl24NxAZA  tOhOHUAS7XJch7a_HW5Csw   \n",
       "2  1AqEqmmVHgYCuzcMrF4h2g  EmzaQR5hQlF0WIl24NxAZA  2aGafu-x7onydGoDgDfeQQ   \n",
       "3  pv82zTlB5Txsu2Pusu__FA  EmzaQR5hQlF0WIl24NxAZA  CY4SWiYcUZTWS_T_cGaGPA   \n",
       "4  jlr3OBS1_Y3Lqa-H3-FR1g  EmzaQR5hQlF0WIl24NxAZA  VCKytaG-_YkxmQosH4E0jw   \n",
       "\n",
       "   stars  service  nonservice  service_or_non  \n",
       "0      3        0           1               0  \n",
       "1      2        0          18               0  \n",
       "2      2        0           2               0  \n",
       "3      2        0          19               0  \n",
       "4      4        0           2               0  "
      ]
     },
     "execution_count": 77,
     "metadata": {},
     "output_type": "execute_result"
    }
   ],
   "source": [
    "# more formatting for a smaller table\n",
    "shorter_review = review_head[['user_id','business_id','review_id','stars','service','nonservice']].copy()\n",
    "shorter_review['service_or_non'] = shorter_review.apply(lambda x: 1 if x['service']>=x['nonservice'] else 0,axis=1)\n",
    "shorter_review.head()"
   ]
  },
  {
   "cell_type": "code",
   "execution_count": 79,
   "metadata": {
    "collapsed": false
   },
   "outputs": [
    {
     "name": "stdout",
     "output_type": "stream",
     "text": [
      "                  user_id  service_or_non  review_id\n",
      "0  --0HEXd4W6bJI8k7E0RxTA               0          1\n",
      "1  --2QZsyXGz1OhiD4-0FQLQ               0          1\n",
      "2  --4TkB_iDShmg41Y_QW9nw               0          6\n",
      "3  --4TkB_iDShmg41Y_QW9nw               1          4\n",
      "4  --4fX3LBeXoE88gDTK6TKQ               0          5\n"
     ]
    },
    {
     "data": {
      "text/plain": [
       "0    93629\n",
       "1    50577\n",
       "Name: service_or_non, dtype: int64"
      ]
     },
     "execution_count": 79,
     "metadata": {},
     "output_type": "execute_result"
    }
   ],
   "source": [
    "# more formatting for a smaller table\n",
    "summarized = shorter_review.groupby(['user_id','service_or_non'])[['review_id']].count()\n",
    "summarized.reset_index(inplace=True)\n",
    "print summarized.head()\n",
    "\n",
    "#===== PIVOTING BY USERIDS SO WE CAN SEE SERVICE VS. NON SERVICE TYPE REVIEWS\n",
    "pvt = summarized.pivot(index='user_id',columns='service_or_non',values='review_id')\n",
    "pvt.reset_index(inplace=True)\n",
    "pvt.fillna(0,inplace=True)\n",
    "\n",
    "#===== EVALUATING IF USERS DO MORE SERVICE RELATED RATINGS OR NONSERVICE RELATED REVIEWS\n",
    "pvt['service_or_non'] = pvt.apply(lambda x: 1 if x[1] >= x[0] else 0,axis=1) \n",
    "pvt.head()\n",
    "\n",
    "# users making more service related reviews or not?\n",
    "pvt.service_or_non.value_counts()\n",
    "# users with more Non-service dominated reviews- 0    104640\n",
    "# users with more service related reviews ------ 1     39566"
   ]
  },
  {
   "cell_type": "code",
   "execution_count": 80,
   "metadata": {
    "collapsed": false
   },
   "outputs": [
    {
     "name": "stdout",
     "output_type": "stream",
     "text": [
      "                user_id\n",
      "service_type           \n",
      "both - service    45494\n",
      "none              70395\n",
      "nonservice       193655\n",
      "service           12854\n"
     ]
    }
   ],
   "source": [
    "#===== DOES SERVICE AND NON-SERVICE OVERLAP? OR ARE THEY MUTUALLY EXCLUSIVE?\n",
    "temp3 = review.groupby(['service','nonservice'])[['user_id']].count()\n",
    "temp3.reset_index(inplace=True)\n",
    "temp3['service_type'] = temp3.apply(lambda x : 'both - service' if (x.service > x.nonservice) & (x.nonservice >0) else 'both - service' if (x.service < x.nonservice) & (x.service >0) else 'nonservice' if (x.service == 0) & (x.nonservice > 0) else 'service' if (x.service >0) &(x.nonservice==0) else 'none'  ,axis=1)\n",
    "print temp3.groupby('service_type')[['user_id']].sum()"
   ]
  },
  {
   "cell_type": "code",
   "execution_count": null,
   "metadata": {
    "collapsed": false
   },
   "outputs": [],
   "source": []
  },
  {
   "cell_type": "code",
   "execution_count": 90,
   "metadata": {
    "collapsed": false
   },
   "outputs": [
    {
     "name": "stdout",
     "output_type": "stream",
     "text": [
      "Service regression approximation\n",
      "Formula:  service_yn ~ten_minutes+fifteen_minutes+twenty_minutes+thirty_minutes+customer_service+food_came+food_service+friendly_staff+good_service+friendly_staff+great_experience+great_service+right_away+service_excellent+service_food+service_friendly+service_good+service_great+staff_friendly+super_friendly-1\n",
      "logistic regresion score: 0.79928395312 [ 0.80148129  0.79773738  0.79457082  0.79696539  0.80566488]\n",
      "baseline service vs. total: 0.225956736704\n",
      "------------------------------------------------------------\n",
      "food regression approximation\n",
      "formula: food_yn ~bar_food+fast_food+food_amazing+food_came+food_delicious+food_good+food_great+food_just+food_service+good_food+great_food+quality_food+service_food-1\n",
      "logistic regresion score: 0.824768222869 [ 0.82787763  0.82444434  0.82536173  0.81960675  0.82655066]\n",
      "baseline service vs. total: 0.176418588205\n",
      "------------------------------------------------------------\n"
     ]
    }
   ],
   "source": [
    "# ratings from service, ratings from non\n",
    "shorter_review.head()\n",
    "\n",
    "#Construct a regression model for each of the two ratings. \n",
    "#They should use the same predictor variables (of your choice).\n",
    "\n",
    "test1 = service_columns[:]\n",
    "#test1.insert(0,'review_id')\n",
    "test1.append('service')\n",
    "\n",
    "test2 = food_columns[:]\n",
    "#test2.insert(0,'review_id')\n",
    "test2.append('food')\n",
    "\n",
    "#===========================================================================\n",
    "#by review use service columns to predict if it is a service relate Review \n",
    "#(some cases overrided by non-service columns)\n",
    "# can predict if a service related review\n",
    "#===========================================================================\n",
    "\n",
    "# cleaning the data keys and values\n",
    "service_df = review[test1].copy()\n",
    "service_df['service_yn'] = service_df.service.map(lambda x: 1 if x>0 else 0)\n",
    "service_df.columns = [a.replace(' ','_').replace('.','_').replace('10','ten').replace('20','twenty').replace('15','fifteen').replace('30','thirty') for a in service_df.columns]\n",
    "service_df.head()\n",
    "\n",
    "# splitting and preparing the data\n",
    "formula = 'service_yn ~' + '+'.join([a for a in service_df.columns if a not in ['service','service_yn']]) + '-1'\n",
    "y, X = patsy.dmatrices(formula, service_df)\n",
    "y = np.ravel(y)\n",
    "X_train, X_test , y_train, y_test = train_test_split(X,y, test_size=0.3)\n",
    "\n",
    "#---Modeling\n",
    "from sklearn.linear_model import LinearRegression\n",
    "from sklearn.cross_validation import cross_val_score\n",
    "lr = LinearRegression()\n",
    "score = cross_val_score(lr, X_train,y_train,cv=5)\n",
    "\n",
    "#---printing\n",
    "print 'Service regression approximation'\n",
    "print 'Formula: ', formula\n",
    "print 'logistic regresion score:',np.mean(score), score\n",
    "print 'baseline service vs. total:', y.mean()\n",
    "print '-'*60\n",
    "\n",
    "#===========================================================================\n",
    "#by review use non-service columns to predict if a nonservice column\n",
    "# can predict if a nonservice review based on the words used.\n",
    "#===========================================================================\n",
    "\n",
    "# cleaning the data keys and values\n",
    "food_df = review[test2].copy()\n",
    "food_df['food_yn'] = food_df.food.map(lambda x: 1 if x>0 else 0)\n",
    "food_df.columns = [a.replace(' ','_').replace('.','_').replace('10','ten').replace('20','twenty').replace('15','fifteen').replace('30','thirty') for a in food_df.columns]\n",
    "food_df.head()\n",
    "\n",
    "# splitting and preparing the data\n",
    "foodformula = 'food_yn ~' + '+'.join([a for a in food_df.columns if a not in ['food','food_yn']]) + '-1'\n",
    "y, X = patsy.dmatrices(foodformula, food_df)\n",
    "y = np.ravel(y)\n",
    "X_train, X_test , y_train, y_test = train_test_split(X,y, test_size=0.3)\n",
    "\n",
    "#---Modeling\n",
    "from sklearn.linear_model import LinearRegression\n",
    "from sklearn.cross_validation import cross_val_score\n",
    "lr = LinearRegression()\n",
    "score = cross_val_score(lr, X_train,y_train,cv=5)\n",
    "\n",
    "#---printing\n",
    "print 'food regression approximation'\n",
    "print 'formula:', foodformula\n",
    "print 'logistic regresion score:', np.mean(score), score\n",
    "print 'baseline service vs. total:',y.mean()\n",
    "print '-'*60\n"
   ]
  },
  {
   "cell_type": "code",
   "execution_count": null,
   "metadata": {
    "collapsed": false
   },
   "outputs": [],
   "source": []
  },
  {
   "cell_type": "code",
   "execution_count": 93,
   "metadata": {
    "collapsed": false
   },
   "outputs": [
    {
     "name": "stdout",
     "output_type": "stream",
     "text": [
      "Service regression approximation\n",
      "Formula:  stars ~ten_minutes+fifteen_minutes+twenty_minutes+thirty_minutes+customer_service+food_came+food_service+friendly_staff+good_service+friendly_staff+great_experience+great_service+right_away+service_excellent+service_food+service_friendly+service_good+service_great+staff_friendly+super_friendly-1\n",
      "logistic regresion score: 0.213192429293 [ 0.21326549  0.21762089  0.21500585  0.20010554  0.21996438]\n",
      "------------------------------------------------------------\n"
     ]
    }
   ],
   "source": [
    "# possibility 2 - do a regression model on the following combinations:\n",
    "# service reviews ---> stars\n",
    "# nonservice reviews ---> stars\n",
    "\n",
    "\n",
    "review.stars.unique()\n",
    "# since the ratings are discrete, we will use logistic regression like a classification\n",
    "# array([3, 2, 4, 5, 1])\n",
    "\n",
    "# =============================================================================\n",
    "# test 3 - are service fields better at predicting ratings?\n",
    "# =============================================================================\n",
    "test3 = service_columns[:]\n",
    "#test1.insert(0,'review_id')\n",
    "test3.append('stars')\n",
    "\n",
    "\n",
    "# cleaning the data keys and values -- only looking at service related reviews\n",
    "service_df = review.loc[review['service']>0,test3].copy()\n",
    "service_df.columns = [a.replace(' ','_').replace('.','_').replace('10','ten').replace('20','twenty').replace('15','fifteen').replace('30','thirty') for a in service_df.columns]\n",
    "service_df.head()\n",
    "\n",
    "# splitting and preparing the data\n",
    "formula = 'stars ~' + '+'.join([a for a in service_df.columns if a not in ['service','service_yn','stars']]) + '-1'\n",
    "y, X = patsy.dmatrices(formula, service_df)\n",
    "y = np.ravel(y)\n",
    "X_train, X_test , y_train, y_test = train_test_split(X,y, test_size=0.3)\n",
    "\n",
    "#---Modeling\n",
    "from sklearn.linear_model import LinearRegression, RidgeCV, Ridge, LassoCV, Lasso\n",
    "from sklearn.cross_validation import cross_val_score\n",
    "lr = LinearRegression()\n",
    "score = cross_val_score(lr, X_train,y_train,cv=5)\n",
    "\n",
    "#---printing\n",
    "print 'Service regression approximation'\n",
    "print 'Formula: ', formula\n",
    "print 'linear regresion score:',np.mean(score), score\n",
    "print '-'*60\n",
    "\n"
   ]
  },
  {
   "cell_type": "code",
   "execution_count": 95,
   "metadata": {
    "collapsed": false
   },
   "outputs": [
    {
     "name": "stdout",
     "output_type": "stream",
     "text": [
      "stars ~bar_food+fast_food+food_amazing+food_came+food_delicious+food_good+food_great+food_just+food_service+good_food+great_food+quality_food+service_food-1\n",
      "Modeling test 4 --\n",
      "non service regression approximation\n",
      "formula: stars ~bar_food+fast_food+food_amazing+food_came+food_delicious+food_good+food_great+food_just+food_service+good_food+great_food+quality_food+service_food-1\n",
      "logistic regresion score: 0.120012170922 [ 0.1231078   0.12148428  0.10847615  0.11678357  0.13020906]\n",
      "------------------------------------------------------------\n"
     ]
    }
   ],
   "source": [
    "\n",
    "# =============================================================================\n",
    "# test 4 - are food fields better at predicting ratings?\n",
    "# =============================================================================\n",
    "\n",
    "test4 = food_columns[:]\n",
    "#test2.insert(0,'review_id')\n",
    "test4.append('stars')\n",
    "\n",
    "\n",
    "# cleaning the data keys and values\n",
    "food_df = review.loc[review['food']>0,test4].copy()\n",
    "food_df.columns = [a.replace(' ','_').replace('.','_').replace('10','ten').replace('20','twenty').replace('15','fifteen').replace('30','thirty') for a in food_df.columns]\n",
    "food_df.head()\n",
    "\n",
    "# splitting and preparing the data\n",
    "foodformula = 'stars ~' + '+'.join([a for a in food_df.columns if a not in ['food','stars','food_yn']]) + '-1'\n",
    "print foodformula\n",
    "y, X = patsy.dmatrices(foodformula, food_df)\n",
    "y = np.ravel(y)\n",
    "X_train, X_test , y_train, y_test = train_test_split(X,y, test_size=0.3)\n",
    "\n",
    "print 'Modeling test 4 --'\n",
    "#---Modeling\n",
    "from sklearn.linear_model import LinearRegression, RidgeCV, Ridge, LassoCV, Lasso\n",
    "from sklearn.cross_validation import cross_val_score\n",
    "lr = LinearRegression()\n",
    "score = cross_val_score(lr, X_train,y_train,cv=5)\n",
    "\n",
    "#---printing\n",
    "print 'non service regression approximation'\n",
    "print 'formula:', foodformula\n",
    "print 'logistic regresion score:', np.mean(score), score\n",
    "print '-'*60\n",
    "\n"
   ]
  },
  {
   "cell_type": "code",
   "execution_count": null,
   "metadata": {
    "collapsed": true
   },
   "outputs": [],
   "source": [
    "# discussion \n",
    "\n",
    "'''\n",
    "TEST 1:As noted before, using the service fields to predict if it was a service review\n",
    "shows a strong predictor score, as the service rating flag is a directly a derived field\n",
    "The R^2 for that dataset is 0.72 -- results are not useful\n",
    "\n",
    "TEST 2: similar to test 1, food related columns are a strong predictor to determine\n",
    "if the review is food related R2 = 0.82. As expected there's a strong prediction factor\n",
    "because the target is a derived field of the source -- results are not useful\n",
    "\n",
    "TEST 3: using only service columns to predict gave a moderate correlation to the various categories. \n",
    "There's a R2 of about .21 using the service columns to predict rates. Which means service alone\n",
    "isnt the strongest predictor\n",
    "\n",
    "TESTS 4: the food columns only predict stars on a 0.12 R^2 rating under a cross validation of CV=5\n",
    "showing a weak rating between food comments in the review and the actual star rating\n",
    "\n",
    "'''"
   ]
  },
  {
   "cell_type": "markdown",
   "metadata": {},
   "source": [
    "<img src=\"http://imgur.com/l5NasQj.png\" style=\"float: left; margin: 25px 15px 0px 0px; height: 25px\">\n",
    "\n",
    "## 3. Identifying \"elite\" users\n",
    "\n",
    "---\n",
    "\n",
    "Yelp, though having their own formula for determining whether a user is elite or not, is interested in delving deeper into what differentiates an elite user from a normal user at a broader level.\n",
    "\n",
    "Use a classification model to predict whether a user is elite or not. Note that users can be elite in some years and not in others.\n",
    "\n",
    "1. What things predict well whether a user is elite or not?\n",
    "- Validate the model.\n",
    "- If you were to remove the \"counts\" metrics for users (reviews, votes, compliments), what distinguishes an elite user, if anything? Validate the model and compare it to the one with the count variables.\n",
    "- Think of a way to visually represent your results in a compelling way.\n",
    "- Give a brief write-up of your findings.\n"
   ]
  },
  {
   "cell_type": "code",
   "execution_count": 109,
   "metadata": {
    "collapsed": false,
    "scrolled": true
   },
   "outputs": [
    {
     "name": "stdout",
     "output_type": "stream",
     "text": [
      "(144206, 22)\n",
      "<class 'pandas.core.frame.DataFrame'>\n",
      "RangeIndex: 144206 entries, 0 to 144205\n",
      "Data columns (total 22 columns):\n",
      "yelping_since          144206 non-null object\n",
      "compliments_plain      144206 non-null float64\n",
      "review_count           144206 non-null int64\n",
      "compliments_cute       144206 non-null float64\n",
      "compliments_writer     144206 non-null float64\n",
      "fans                   144206 non-null int64\n",
      "compliments_note       144206 non-null float64\n",
      "compliments_hot        144206 non-null float64\n",
      "compliments_cool       144206 non-null float64\n",
      "compliments_profile    144206 non-null float64\n",
      "average_stars          144206 non-null float64\n",
      "compliments_more       144206 non-null float64\n",
      "elite                  144206 non-null object\n",
      "name                   144206 non-null object\n",
      "user_id                144206 non-null object\n",
      "votes_cool             144206 non-null int64\n",
      "compliments_list       144206 non-null float64\n",
      "votes_funny            144206 non-null int64\n",
      "compliments_photos     144206 non-null float64\n",
      "compliments_funny      144206 non-null float64\n",
      "votes_useful           144206 non-null int64\n",
      "elite_flag             144206 non-null int64\n",
      "dtypes: float64(12), int64(6), object(4)\n",
      "memory usage: 24.2+ MB\n",
      "None\n",
      "['yelping_since' 'compliments_plain' 'review_count' 'compliments_cute'\n",
      " 'compliments_writer' 'fans' 'compliments_note' 'compliments_hot'\n",
      " 'compliments_cool' 'compliments_profile' 'average_stars'\n",
      " 'compliments_more' 'elite' 'name' 'user_id' 'votes_cool'\n",
      " 'compliments_list' 'votes_funny' 'compliments_photos' 'compliments_funny'\n",
      " 'votes_useful' 'elite_flag']\n"
     ]
    },
    {
     "data": {
      "text/html": [
       "<div>\n",
       "<table border=\"1\" class=\"dataframe\">\n",
       "  <thead>\n",
       "    <tr style=\"text-align: right;\">\n",
       "      <th></th>\n",
       "      <th>yelping_since</th>\n",
       "      <th>compliments_plain</th>\n",
       "      <th>review_count</th>\n",
       "      <th>compliments_cute</th>\n",
       "      <th>compliments_writer</th>\n",
       "      <th>fans</th>\n",
       "      <th>compliments_note</th>\n",
       "      <th>compliments_hot</th>\n",
       "      <th>compliments_cool</th>\n",
       "      <th>compliments_profile</th>\n",
       "      <th>...</th>\n",
       "      <th>elite</th>\n",
       "      <th>name</th>\n",
       "      <th>user_id</th>\n",
       "      <th>votes_cool</th>\n",
       "      <th>compliments_list</th>\n",
       "      <th>votes_funny</th>\n",
       "      <th>compliments_photos</th>\n",
       "      <th>compliments_funny</th>\n",
       "      <th>votes_useful</th>\n",
       "      <th>elite_flag</th>\n",
       "    </tr>\n",
       "  </thead>\n",
       "  <tbody>\n",
       "    <tr>\n",
       "      <th>0</th>\n",
       "      <td>2004-10</td>\n",
       "      <td>959.0</td>\n",
       "      <td>1274</td>\n",
       "      <td>206.0</td>\n",
       "      <td>327.0</td>\n",
       "      <td>1179</td>\n",
       "      <td>611.0</td>\n",
       "      <td>1094.0</td>\n",
       "      <td>1642.0</td>\n",
       "      <td>116.0</td>\n",
       "      <td>...</td>\n",
       "      <td>[2005, 2006, 2007, 2008, 2009, 2010, 2011, 201...</td>\n",
       "      <td>Jeremy</td>\n",
       "      <td>rpOyqD_893cqmDAtJLbdog</td>\n",
       "      <td>11093</td>\n",
       "      <td>38.0</td>\n",
       "      <td>7681</td>\n",
       "      <td>330.0</td>\n",
       "      <td>580.0</td>\n",
       "      <td>14199</td>\n",
       "      <td>1</td>\n",
       "    </tr>\n",
       "    <tr>\n",
       "      <th>1</th>\n",
       "      <td>2004-10</td>\n",
       "      <td>89.0</td>\n",
       "      <td>442</td>\n",
       "      <td>23.0</td>\n",
       "      <td>24.0</td>\n",
       "      <td>100</td>\n",
       "      <td>83.0</td>\n",
       "      <td>101.0</td>\n",
       "      <td>145.0</td>\n",
       "      <td>9.0</td>\n",
       "      <td>...</td>\n",
       "      <td>[2005, 2006, 2007, 2008, 2009, 2010, 2011, 201...</td>\n",
       "      <td>Michael</td>\n",
       "      <td>4U9kSBLuBDU391x6bxU-YA</td>\n",
       "      <td>732</td>\n",
       "      <td>4.0</td>\n",
       "      <td>908</td>\n",
       "      <td>24.0</td>\n",
       "      <td>120.0</td>\n",
       "      <td>1483</td>\n",
       "      <td>1</td>\n",
       "    </tr>\n",
       "    <tr>\n",
       "      <th>2</th>\n",
       "      <td>2004-10</td>\n",
       "      <td>2.0</td>\n",
       "      <td>66</td>\n",
       "      <td>2.0</td>\n",
       "      <td>2.0</td>\n",
       "      <td>4</td>\n",
       "      <td>1.0</td>\n",
       "      <td>1.0</td>\n",
       "      <td>1.0</td>\n",
       "      <td>0.0</td>\n",
       "      <td>...</td>\n",
       "      <td>[2005]</td>\n",
       "      <td>Katherine</td>\n",
       "      <td>SIBCL7HBkrP4llolm4SC2A</td>\n",
       "      <td>13</td>\n",
       "      <td>0.0</td>\n",
       "      <td>11</td>\n",
       "      <td>0.0</td>\n",
       "      <td>0.0</td>\n",
       "      <td>34</td>\n",
       "      <td>1</td>\n",
       "    </tr>\n",
       "    <tr>\n",
       "      <th>3</th>\n",
       "      <td>2004-10</td>\n",
       "      <td>5.0</td>\n",
       "      <td>101</td>\n",
       "      <td>1.0</td>\n",
       "      <td>3.0</td>\n",
       "      <td>7</td>\n",
       "      <td>3.0</td>\n",
       "      <td>5.0</td>\n",
       "      <td>4.0</td>\n",
       "      <td>1.0</td>\n",
       "      <td>...</td>\n",
       "      <td>[]</td>\n",
       "      <td>Nader</td>\n",
       "      <td>UTS9XcT14H2ZscRIf0MYHQ</td>\n",
       "      <td>49</td>\n",
       "      <td>0.0</td>\n",
       "      <td>53</td>\n",
       "      <td>1.0</td>\n",
       "      <td>8.0</td>\n",
       "      <td>243</td>\n",
       "      <td>0</td>\n",
       "    </tr>\n",
       "    <tr>\n",
       "      <th>4</th>\n",
       "      <td>2004-10</td>\n",
       "      <td>104.0</td>\n",
       "      <td>983</td>\n",
       "      <td>82.0</td>\n",
       "      <td>17.0</td>\n",
       "      <td>78</td>\n",
       "      <td>85.0</td>\n",
       "      <td>265.0</td>\n",
       "      <td>212.0</td>\n",
       "      <td>9.0</td>\n",
       "      <td>...</td>\n",
       "      <td>[2005, 2006, 2007, 2008, 2010, 2011, 2012]</td>\n",
       "      <td>Helen</td>\n",
       "      <td>ZWOj6LmzwGvMDh-A85EOtA</td>\n",
       "      <td>1928</td>\n",
       "      <td>3.0</td>\n",
       "      <td>1109</td>\n",
       "      <td>57.0</td>\n",
       "      <td>70.0</td>\n",
       "      <td>2404</td>\n",
       "      <td>1</td>\n",
       "    </tr>\n",
       "  </tbody>\n",
       "</table>\n",
       "<p>5 rows × 22 columns</p>\n",
       "</div>"
      ],
      "text/plain": [
       "  yelping_since  compliments_plain  review_count  compliments_cute  \\\n",
       "0       2004-10              959.0          1274             206.0   \n",
       "1       2004-10               89.0           442              23.0   \n",
       "2       2004-10                2.0            66               2.0   \n",
       "3       2004-10                5.0           101               1.0   \n",
       "4       2004-10              104.0           983              82.0   \n",
       "\n",
       "   compliments_writer  fans  compliments_note  compliments_hot  \\\n",
       "0               327.0  1179             611.0           1094.0   \n",
       "1                24.0   100              83.0            101.0   \n",
       "2                 2.0     4               1.0              1.0   \n",
       "3                 3.0     7               3.0              5.0   \n",
       "4                17.0    78              85.0            265.0   \n",
       "\n",
       "   compliments_cool  compliments_profile     ...      \\\n",
       "0            1642.0                116.0     ...       \n",
       "1             145.0                  9.0     ...       \n",
       "2               1.0                  0.0     ...       \n",
       "3               4.0                  1.0     ...       \n",
       "4             212.0                  9.0     ...       \n",
       "\n",
       "                                               elite       name  \\\n",
       "0  [2005, 2006, 2007, 2008, 2009, 2010, 2011, 201...     Jeremy   \n",
       "1  [2005, 2006, 2007, 2008, 2009, 2010, 2011, 201...    Michael   \n",
       "2                                             [2005]  Katherine   \n",
       "3                                                 []      Nader   \n",
       "4         [2005, 2006, 2007, 2008, 2010, 2011, 2012]      Helen   \n",
       "\n",
       "                  user_id votes_cool compliments_list  votes_funny  \\\n",
       "0  rpOyqD_893cqmDAtJLbdog      11093             38.0         7681   \n",
       "1  4U9kSBLuBDU391x6bxU-YA        732              4.0          908   \n",
       "2  SIBCL7HBkrP4llolm4SC2A         13              0.0           11   \n",
       "3  UTS9XcT14H2ZscRIf0MYHQ         49              0.0           53   \n",
       "4  ZWOj6LmzwGvMDh-A85EOtA       1928              3.0         1109   \n",
       "\n",
       "   compliments_photos  compliments_funny  votes_useful  elite_flag  \n",
       "0               330.0              580.0         14199           1  \n",
       "1                24.0              120.0          1483           1  \n",
       "2                 0.0                0.0            34           1  \n",
       "3                 1.0                8.0           243           0  \n",
       "4                57.0               70.0          2404           1  \n",
       "\n",
       "[5 rows x 22 columns]"
      ]
     },
     "execution_count": 109,
     "metadata": {},
     "output_type": "execute_result"
    }
   ],
   "source": [
    "# predicting elite users\n",
    "# visits to businesses\n",
    "# reviews made\n",
    "# checkins made\n",
    "\n",
    "# clean data load\n",
    "filepath = '../../datasets/yelp_arizona_data/users_small_parsed.csv'\n",
    "users = pd.read_csv(filepath)\n",
    "\n",
    "# create elite flag --------\n",
    "users['elite_flag'] = users.elite.map(lambda x : 1 if len(x)> 2 else 0)\n",
    "\n",
    "#clean up headings\n",
    "users.columns = [x.replace('.','_').replace(' ','_') for x in users.columns]\n",
    "\n",
    "#fill NA's with zeros -- most of them \n",
    "users.fillna(0.0,inplace=True)\n",
    "\n",
    "print users.shape\n",
    "print users.info()\n",
    "print users.columns.values\n",
    "users.head(5)"
   ]
  },
  {
   "cell_type": "code",
   "execution_count": 124,
   "metadata": {
    "collapsed": false
   },
   "outputs": [
    {
     "name": "stdout",
     "output_type": "stream",
     "text": [
      "   review_count       fans  compliments_cool  votes_cool  votes_useful  \\\n",
      "0      8.804729  66.604579         12.660351   19.713855     20.976851   \n",
      "1      2.795421   5.495913          1.037211    1.184379      2.036296   \n",
      "2      0.079676   0.058998         -0.080847   -0.101472     -0.121998   \n",
      "3      0.332472   0.228901         -0.057554   -0.037090      0.189309   \n",
      "4      6.702916   4.249953          1.557418    3.323289      3.408131   \n",
      "\n",
      "   average_stars  \n",
      "0      -0.131211  \n",
      "1      -0.203948  \n",
      "2       0.038508  \n",
      "3      -0.228193  \n",
      "4       0.305209  \n",
      "(144206, 6) (144206,)\n",
      "0.943103806948\n",
      "============================================================\n",
      "Coefficients\n",
      "-0.0132918966496 \t\t\treview_count\n",
      "1.81275137708 \t\t\tfans\n",
      "1.78732377341 \t\t\tcompliments_cool\n",
      "1.66503585162 \t\t\tvotes_cool\n",
      "-3.7596915424 \t\t\tvotes_useful\n",
      "4.5003174355 \t\t\taverage_stars\n"
     ]
    }
   ],
   "source": [
    "#====================================================================\n",
    "# Initial assumption WITH COUNTS AND COMPLIMENTS\n",
    "#\n",
    "#====================================================================\n",
    "\n",
    "formula = 'elite_flag ~ review_count + fans + compliments_cool + votes_cool + votes_useful'\n",
    "\n",
    "#normalize the chosen fields\n",
    "from sklearn.preprocessing import StandardScaler\n",
    "scaler = StandardScaler()\n",
    "columns_to_scale =['review_count','fans','compliments_cool','votes_cool','votes_useful','average_stars']\n",
    "users[columns_to_scale] = scaler.fit_transform(users[columns_to_scale])\n",
    "print users[columns_to_scale].head(5)\n",
    "\n",
    "#split the columns\n",
    "y, X = patsy.dmatrices(formula, users)\n",
    "y = np.ravel(y)\n",
    "print X.shape, y.shape\n",
    "\n",
    "#prepare for cross validation\n",
    "X_train, X_test, y_train, y_test = train_test_split(X,y, test_size=0.2)\n",
    "\n",
    "#try the model\n",
    "lr = LogisticRegressionCV(cv=5)\n",
    "lr_model = lr.fit(X_train, y_train)\n",
    "score = lr_model.score(X_test,y_test)\n",
    "print score\n",
    "\n",
    "print '='*60\n",
    "print 'Coefficients'\n",
    "for x,y in zip(columns_to_scale,lr_model.coef_[0]):\n",
    "    print y,'\\t\\t\\t', x\n",
    "\n"
   ]
  },
  {
   "cell_type": "code",
   "execution_count": 116,
   "metadata": {
    "collapsed": false
   },
   "outputs": [
    {
     "data": {
      "text/html": [
       "<div>\n",
       "<table border=\"1\" class=\"dataframe\">\n",
       "  <thead>\n",
       "    <tr style=\"text-align: right;\">\n",
       "      <th></th>\n",
       "      <th>elite_flag</th>\n",
       "      <th>user_id</th>\n",
       "      <th>average_stars</th>\n",
       "      <th>fans</th>\n",
       "      <th>unique_bus_reviews</th>\n",
       "    </tr>\n",
       "  </thead>\n",
       "  <tbody>\n",
       "    <tr>\n",
       "      <th>0</th>\n",
       "      <td>1</td>\n",
       "      <td>rpOyqD_893cqmDAtJLbdog</td>\n",
       "      <td>-0.131211</td>\n",
       "      <td>66.604579</td>\n",
       "      <td>1.842906</td>\n",
       "    </tr>\n",
       "    <tr>\n",
       "      <th>1</th>\n",
       "      <td>1</td>\n",
       "      <td>4U9kSBLuBDU391x6bxU-YA</td>\n",
       "      <td>-0.203948</td>\n",
       "      <td>5.495913</td>\n",
       "      <td>0.460726</td>\n",
       "    </tr>\n",
       "    <tr>\n",
       "      <th>2</th>\n",
       "      <td>1</td>\n",
       "      <td>SIBCL7HBkrP4llolm4SC2A</td>\n",
       "      <td>0.038508</td>\n",
       "      <td>0.058998</td>\n",
       "      <td>0.460726</td>\n",
       "    </tr>\n",
       "    <tr>\n",
       "      <th>3</th>\n",
       "      <td>0</td>\n",
       "      <td>UTS9XcT14H2ZscRIf0MYHQ</td>\n",
       "      <td>-0.228193</td>\n",
       "      <td>0.228901</td>\n",
       "      <td>7.371623</td>\n",
       "    </tr>\n",
       "    <tr>\n",
       "      <th>4</th>\n",
       "      <td>1</td>\n",
       "      <td>ZWOj6LmzwGvMDh-A85EOtA</td>\n",
       "      <td>0.305209</td>\n",
       "      <td>4.249953</td>\n",
       "      <td>2.764359</td>\n",
       "    </tr>\n",
       "  </tbody>\n",
       "</table>\n",
       "</div>"
      ],
      "text/plain": [
       "   elite_flag                 user_id  average_stars       fans  \\\n",
       "0           1  rpOyqD_893cqmDAtJLbdog      -0.131211  66.604579   \n",
       "1           1  4U9kSBLuBDU391x6bxU-YA      -0.203948   5.495913   \n",
       "2           1  SIBCL7HBkrP4llolm4SC2A       0.038508   0.058998   \n",
       "3           0  UTS9XcT14H2ZscRIf0MYHQ      -0.228193   0.228901   \n",
       "4           1  ZWOj6LmzwGvMDh-A85EOtA       0.305209   4.249953   \n",
       "\n",
       "   unique_bus_reviews  \n",
       "0            1.842906  \n",
       "1            0.460726  \n",
       "2            0.460726  \n",
       "3            7.371623  \n",
       "4            2.764359  "
      ]
     },
     "execution_count": 116,
     "metadata": {},
     "output_type": "execute_result"
    }
   ],
   "source": [
    "# ====================================================================\n",
    "# If you were to remove the \"counts\" metrics for users (reviews, votes, compliments), \n",
    "# what distinguishes an elite user, if anything? Validate the model and compare \n",
    "# it to the one with the count variables\n",
    "#\n",
    "# ADD A FIELD FOR \"HOW MANY BUSINESSES VISITED?\"\n",
    "# ====================================================================\n",
    "\n",
    "user_review_df = review.groupby(['user_id','business_id'])[['review_id']].count()\n",
    "user_review_df.reset_index(inplace=True)\n",
    "user_cts = user_review_df.groupby('user_id')[['business_id']].count()\n",
    "user_cts.reset_index(inplace=True)\n",
    "user_cts.rename(columns={'business_id':'unique_bus_reviews'},inplace=True)\n",
    "user_mod = users[['elite_flag','user_id','average_stars','fans']].merge(user_cts, on='user_id', how='left')\n",
    "\n",
    "#normalizing the new columns\n",
    "user_mod['unique_bus_reviews'] = user_mod['unique_bus_reviews']/user_mod['unique_bus_reviews'].mean()\n",
    "user_mod.head()"
   ]
  },
  {
   "cell_type": "code",
   "execution_count": 128,
   "metadata": {
    "collapsed": false
   },
   "outputs": [
    {
     "name": "stdout",
     "output_type": "stream",
     "text": [
      "(144206, 4) (144206,)\n",
      "0.935614728521\n",
      "0.010105451105 \t\t\tfans\n",
      "6.78992538347 \t\t\taverage_stars\n",
      "0.0437973341766 \t\t\tunique_bus_reviews\n"
     ]
    }
   ],
   "source": [
    "'''\n",
    "yelping_since          144206 non-null object\n",
    "compliments_plain      144206 non-null float64\n",
    "review_count           144206 non-null int64\n",
    "compliments_cute       144206 non-null float64\n",
    "compliments_writer     144206 non-null float64\n",
    "fans                   144206 non-null int64\n",
    "compliments_note       144206 non-null float64\n",
    "compliments_hot        144206 non-null float64\n",
    "compliments_cool       144206 non-null float64\n",
    "compliments_profile    144206 non-null float64\n",
    "average_stars          144206 non-null float64\n",
    "compliments_more       144206 non-null float64\n",
    "elite                  144206 non-null object\n",
    "name                   144206 non-null object\n",
    "user_id                144206 non-null object\n",
    "votes_cool             144206 non-null int64\n",
    "compliments_list       144206 non-null float64\n",
    "votes_funny            144206 non-null int64\n",
    "compliments_photos     144206 non-null float64\n",
    "compliments_funny      144206 non-null float64\n",
    "votes_useful           144206 non-null int64\n",
    "elite_flag             144206 non-null int64\n",
    "'''\n",
    "#======================\n",
    "formula = 'elite_flag ~  fans + average_stars + unique_bus_reviews'\n",
    "\n",
    "#normalize the chosen fields\n",
    "from sklearn.preprocessing import StandardScaler\n",
    "\n",
    "#split the columns\n",
    "y, X = patsy.dmatrices(formula, user_mod)\n",
    "y = np.ravel(y)\n",
    "print X.shape, y.shape\n",
    "\n",
    "#prepare for cross validation\n",
    "X_train, X_test, y_train, y_test = train_test_split(X,y, test_size=0.2)\n",
    "\n",
    "#try the model\n",
    "lr = LogisticRegressionCV(cv=5)\n",
    "lr_model = lr.fit(X_train, y_train)\n",
    "score = lr_model.score(X_test,y_test)\n",
    "print score\n",
    "\n",
    "for x,y in zip(['fans','average_stars','unique_bus_reviews'],lr_model.coef_[0]):\n",
    "    print y,'\\t\\t\\t', x"
   ]
  },
  {
   "cell_type": "code",
   "execution_count": 129,
   "metadata": {
    "collapsed": false
   },
   "outputs": [
    {
     "name": "stdout",
     "output_type": "stream",
     "text": [
      "(144206, 2) (144206,)\n",
      "0.889154704944\n",
      "2.51658726109e-05 \t\t\tunique_bus_reviews\n"
     ]
    }
   ],
   "source": [
    "#========================= CURIOUS --- wonder if how UNIQUE BUSINESS reviews will do on its own\n",
    "formula = 'elite_flag ~   unique_bus_reviews'\n",
    "\n",
    "#normalize the chosen fields\n",
    "from sklearn.preprocessing import StandardScaler\n",
    "\n",
    "#split the columns\n",
    "y, X = patsy.dmatrices(formula, user_mod)\n",
    "y = np.ravel(y)\n",
    "print X.shape, y.shape\n",
    "\n",
    "#prepare for cross validation\n",
    "X_train, X_test, y_train, y_test = train_test_split(X,y, test_size=0.2)\n",
    "\n",
    "#try the model\n",
    "lr = LogisticRegressionCV(cv=5)\n",
    "lr_model = lr.fit(X_train, y_train)\n",
    "score = lr_model.score(X_test,y_test)\n",
    "print score\n",
    "\n",
    "for x,y in zip(['unique_bus_reviews'],lr_model.coef_[0]):\n",
    "    print y,'\\t\\t\\t', x"
   ]
  },
  {
   "cell_type": "code",
   "execution_count": 130,
   "metadata": {
    "collapsed": false
   },
   "outputs": [
    {
     "name": "stdout",
     "output_type": "stream",
     "text": [
      "(144206, 2) (144206,)\n",
      "0.934297205464\n",
      "0.000919289447337 \t\t\tfans\n"
     ]
    }
   ],
   "source": [
    "#========================= CURIOUS --- wonder if how FANS reviews will do on its own\n",
    "formula = 'elite_flag ~   fans'\n",
    "\n",
    "#normalize the chosen fields\n",
    "from sklearn.preprocessing import StandardScaler\n",
    "\n",
    "#split the columns\n",
    "y, X = patsy.dmatrices(formula, user_mod)\n",
    "y = np.ravel(y)\n",
    "print X.shape, y.shape\n",
    "\n",
    "#prepare for cross validation\n",
    "X_train, X_test, y_train, y_test = train_test_split(X,y, test_size=0.2)\n",
    "\n",
    "#try the model\n",
    "lr = LogisticRegressionCV(cv=5)\n",
    "lr_model = lr.fit(X_train, y_train)\n",
    "score = lr_model.score(X_test,y_test)\n",
    "print score\n",
    "\n",
    "for x,y in zip(['fans'],lr_model.coef_[0]):\n",
    "    print y,'\\t\\t\\t', x"
   ]
  },
  {
   "cell_type": "code",
   "execution_count": 131,
   "metadata": {
    "collapsed": false
   },
   "outputs": [
    {
     "name": "stdout",
     "output_type": "stream",
     "text": [
      "(144206, 2) (144206,)\n",
      "0.884231329311\n",
      "-9.96269316049e-06 \t\t\taverage_stars\n"
     ]
    }
   ],
   "source": [
    "#========================= CURIOUS --- wonder if how AVERAGE STARS reviews will do on its own\n",
    "formula = 'elite_flag ~   average_stars'\n",
    "\n",
    "#normalize the chosen fields\n",
    "from sklearn.preprocessing import StandardScaler\n",
    "\n",
    "#split the columns\n",
    "y, X = patsy.dmatrices(formula, user_mod)\n",
    "y = np.ravel(y)\n",
    "print X.shape, y.shape\n",
    "\n",
    "#prepare for cross validation\n",
    "X_train, X_test, y_train, y_test = train_test_split(X,y, test_size=0.2)\n",
    "\n",
    "#try the model\n",
    "lr = LogisticRegressionCV(cv=5)\n",
    "lr_model = lr.fit(X_train, y_train)\n",
    "score = lr_model.score(X_test,y_test)\n",
    "print score\n",
    "\n",
    "for x,y in zip(['average_stars'],lr_model.coef_[0]):\n",
    "    print y,'\\t\\t\\t', x"
   ]
  },
  {
   "cell_type": "code",
   "execution_count": 132,
   "metadata": {
    "collapsed": false
   },
   "outputs": [
    {
     "data": {
      "text/plain": [
       "'\\nCONCLUSIONS =================================\\n\\nWhen predicting Elite, with votes and counts, and fans are all used to predict if someone is yelp elite. which inituitively makes sense.\\nThe R^2 at this point is .943 which is the highest of all the models run. The following models were also run:\\n\\nWhen limited to average_stars, fans, and unique_business_reviewed, the R^2 score drops to .935. \\n\\nFurther examination, reveals the following when modeling each of the aspects separately:\\nunique business reviews only R2 = 0.889\\naverage starts only R2 = 0.934\\nfans only = 0.884\\n\\nShowing that the dominant driver is average_stars -- which seems kinda weird. Either they are really\\ndiscerning in only eating in good places, or maybe if you give enough star ratings, you will earn \\nelite status.\\n'"
      ]
     },
     "execution_count": 132,
     "metadata": {},
     "output_type": "execute_result"
    }
   ],
   "source": [
    "'''\n",
    "CONCLUSIONS =================================\n",
    "\n",
    "When predicting Elite, with votes and counts, and fans are all used to predict if someone is yelp elite. which inituitively makes sense.\n",
    "The R^2 at this point is .943 which is the highest of all the models run. The following models were also run:\n",
    "\n",
    "When limited to average_stars, fans, and unique_business_reviewed, the R^2 score drops to .935. \n",
    "\n",
    "Further examination, reveals the following when modeling each of the aspects separately:\n",
    "unique business reviews only R2 = 0.889\n",
    "average starts only R2 = 0.934\n",
    "fans only = 0.884\n",
    "\n",
    "Showing that the dominant driver is average_stars -- which seems kinda weird. Either they are really\n",
    "discerning in only eating in good places, or maybe if you give enough star ratings, you will earn \n",
    "elite status.\n",
    "'''"
   ]
  },
  {
   "cell_type": "markdown",
   "metadata": {},
   "source": [
    "<img src=\"http://imgur.com/GCAf1UX.png\" style=\"float: left; margin: 25px 15px 0px 0px; height: 25px\">\n",
    "\n",
    "## 4. Find something interesting on your own\n",
    "\n",
    "---\n",
    "\n",
    "You want to impress your superiors at Yelp by doing some investigation into the data on your own. You want to do classification, but you're not sure on what.\n",
    "\n",
    "1. Create a hypothesis or hypotheses about the data based on whatever you are interested in, as long as it is predicting a category of some kind (classification).\n",
    "2. Explore the data visually (ideally related to this hypothesis).\n",
    "3. Build one or more classification models to predict your target variable. **Your modeling should include gridsearching to find optimal model parameters.**\n",
    "4. Evaluate the performance of your model. Explain why your model may have chosen those specific parameters during the gridsearch process.\n",
    "5. Write up what the model tells you. Does it validate or invalidate your hypothesis? Write this up as if for a non-technical audience."
   ]
  },
  {
   "cell_type": "code",
   "execution_count": null,
   "metadata": {
    "collapsed": true
   },
   "outputs": [],
   "source": []
  },
  {
   "cell_type": "markdown",
   "metadata": {},
   "source": [
    "<img src=\"http://imgur.com/GCAf1UX.png\" style=\"float: left; margin: 25px 15px 0px 0px; height: 25px\">\n",
    "\n",
    "## 5. ROC and Precision-recall\n",
    "\n",
    "---\n",
    "\n",
    "Some categories have fewer overall businesses than others. Choose two categories of businesses to predict, one that makes your proportion of target classes as even as possible, and another that has very few businesses and thus makes the target varible imbalanced.\n",
    "\n",
    "1. Create two classification models predicting these categories. Optimize the models and choose variables as you see fit.\n",
    "- Make confusion matrices for your models. Describe the confusion matrices and explain what they tell you about your models' performance.\n",
    "- Make ROC curves for both models. What do the ROC curves describe and what do they tell you about your model?\n",
    "- Make Precision-Recall curves for the models. What do they describe? How do they compare to the ROC curves?\n",
    "- Explain when Precision-Recall may be preferable to ROC. Is that the case in either of your models?"
   ]
  },
  {
   "cell_type": "code",
   "execution_count": null,
   "metadata": {
    "collapsed": true
   },
   "outputs": [],
   "source": []
  }
 ],
 "metadata": {
  "anaconda-cloud": {},
  "kernelspec": {
   "display_name": "Python [dsi]",
   "language": "python",
   "name": "Python [dsi]"
  },
  "language_info": {
   "codemirror_mode": {
    "name": "ipython",
    "version": 2
   },
   "file_extension": ".py",
   "mimetype": "text/x-python",
   "name": "python",
   "nbconvert_exporter": "python",
   "pygments_lexer": "ipython2",
   "version": "2.7.12"
  }
 },
 "nbformat": 4,
 "nbformat_minor": 0
}
