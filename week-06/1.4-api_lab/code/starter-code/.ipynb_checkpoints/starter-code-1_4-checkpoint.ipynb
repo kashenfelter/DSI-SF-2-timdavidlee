{
 "cells": [
  {
   "cell_type": "markdown",
   "metadata": {},
   "source": [
    "# APIs Lab\n",
    "In this lab we will practice using APIs to retrieve and store data."
   ]
  },
  {
   "cell_type": "code",
   "execution_count": 1,
   "metadata": {
    "collapsed": false
   },
   "outputs": [],
   "source": [
    "# Imports at the top\n",
    "import json\n",
    "import urllib\n",
    "import pandas as pd\n",
    "import numpy as np\n",
    "import requests\n",
    "import json\n",
    "import re\n",
    "import matplotlib.pyplot as plt\n",
    "%matplotlib inline"
   ]
  },
  {
   "cell_type": "markdown",
   "metadata": {},
   "source": [
    "## Exercise 1: Get Data From Sheetsu\n",
    "\n",
    "[Sheetsu](https://sheetsu.com/) is an online service that allows you to access any Google spreadsheet from an API. This can be a very powerful way to share a dataset with colleagues as well as to create a mini centralized data storage, that is simpler to edit than a database.\n",
    "\n",
    "A Google Spreadsheet with Wine data can be found [here]().\n",
    "\n",
    "It can be accessed through sheetsu API at this endpoint: https://sheetsu.com/apis/v1.0/dab55afd\n",
    "\n",
    "Questions:\n",
    "\n",
    "1. Use the requests library to access the document. Inspect the response text. What kind of data is it?\n",
    "\n",
    "> Answer: it's a json string\n",
    "- Check the status code of the response object. What code is it?\n",
    "> 200\n",
    "- use the appropriate libraries and read functions to read the response into a Pandas Dataframe\n",
    "> Possible answers include: pd.read_json and json.loads + pd.Dataframe\n",
    "- once you've imported the data into a dataframe, check the value of the 5th line: what's the price? (should be 6)"
   ]
  },
  {
   "cell_type": "code",
   "execution_count": 7,
   "metadata": {
    "collapsed": false
   },
   "outputs": [
    {
     "name": "stdout",
     "output_type": "stream",
     "text": [
      "{'Status': '200 OK', 'Content-Length': '19756', 'Vary': 'Origin', 'X-Request-Id': '28f87501-ee12-48bb-8d47-4eb83e8f8466', 'Server': 'nginx', 'Connection': 'keep-alive', 'ETag': 'W/\"530b6398e17572e0df3096ae06f4bf1d\"', 'Cache-Control': 'max-age=0, private, must-revalidate', 'Date': 'Mon, 29 Aug 2016 23:30:58 GMT', 'X-Runtime': '1.259784', 'Content-Type': 'application/json;charset=UTF-8'}\n",
      "200\n",
      "[{\"Color\":\"W\",\"Region\":\"Portugal\",\"Country\":\"Portugal\",\"Vintage\":\"2013\",\"Vinyard\":\"Vinho Verde\",\"Name\":\"\",\"Grape\":\"\",\"Consumed In\":\"2015\",\"Score\":\"4\",\"Price\":\"\"},{\"Color\":\"W\",\"Region\":\"France\",\"Country\":\"France\",\"Vintage\":\"2013\",\"Vinyard\":\"Peyruchet\",\"Name\":\"\",\"Grape\":\"\",\"Consumed In\":\"2015\",\"Score\":\"3\",\"Price\":\"17.8\"},{\"Color\":\"W\",\"Region\":\"Oregon\",\"Country\":\"Oregon\",\"Vintage\":\"2013\",\"Vinyard\":\"Abacela\",\"Name\":\"\",\"Grape\":\"\",\"Consumed In\":\"2015\",\"Score\":\"3\",\"Price\":\"20\"},{\"Color\":\"W\",\"Region\":\"Spain\",\"Country\":\"Spain\",\"Vintage\":\"2012\",\"Vinyard\":\"Ochoa\",\"Name\":\"\",\"Grape\":\"chardonay\",\"Consumed In\":\"2015\",\"Score\":\"2.5\",\"Price\":\"7\"},{\"Color\":\"R\",\"Region\":\"\",\"Country\":\"US\",\"Vintage\":\"2012\",\"Vinyard\":\"Heartland\",\"Name\":\"Spice Trader\",\"Grape\":\"chiraz, cab\",\"Consumed In\":\"2015\",\"Score\":\"3\",\"Price\":\"6\"},{\"Color\":\"R\",\"Region\":\"California\",\"Country\":\"US\",\"Vintage\":\"2012\",\"Vinyard\":\"Crow Canyon\",\"Name\":\"\",\"Grape\":\"cab\",\"Consumed In\":\"2015\",\"Score\":\"3.5\",\"Price\":\"13\"},{\"Color\":\"R\",\"Region\":\"Oregon\",\"Country\":\"US\",\"Vintage\":\"2013\",\"Vinyard\":\"Abacela\",\"Name\":\"#14\",\"Grape\":\"\",\"Consumed In\":\"2015\",\"Score\":\"2.5\",\"Price\":\"21\"},{\"Color\":\"R\",\"Region\":\"Bordeaux\",\"Country\":\"France\",\"Vintage\":\"2012\",\"Vinyard\":\"David Beaulieu\",\"Name\":\"\",\"Grape\":\"merlot, cab\",\"Consumed In\":\"2015\",\"Score\":\"3.5\",\"Price\":\"12\"},{\"Color\":\"R\",\"Region\":\"Medoc\",\"Country\":\"France\",\"Vintage\":\"2011\",\"Vinyard\":\"Chantemerle\",\"Name\":\"\",\"Grape\":\"merlot, cab\",\"Consumed In\":\"2015\",\"Score\":\"3.5\",\"Price\":\"11.99\"},{\"Color\":\"R\",\"Region\":\"Washington\",\"Country\":\"US\",\"Vintage\":\"2011\",\"Vinyard\":\"Hyatt\",\"Name\":\"\",\"Grape\":\"merlot\",\"Consumed In\":\"2015\",\"Score\":\"4\",\"Price\":\"13\"},{\"Color\":\"R\",\"Region\":\"Tuscany\",\"Country\":\"Italy\",\"Vintage\":\"2012\",\"Vinyard\":\"Rosso Dei Poggi\",\"Name\":\"Rosso Dei Poggi\",\"Grape\":\"sangiovese\",\"Consumed In\":\"2015\",\"Score\":\"3\",\"Price\":\"12\"},{\"Color\":\"R\",\"Region\":\"Tuscany\",\"Country\":\"\",\"Vintage\":\"2013\",\"Vinyard\":\"Orizzonti\",\"Name\":\"Montepulciano D'Abruzzo\",\"Grape\":\"\",\"Consumed In\":\"2015\",\"Score\":\"4.5\",\"Price\":\"22\"},{\"Color\":\"R\",\"Region\":\"Oregon\",\"Country\":\"US\",\"Vintage\":\"2010\",\"Vinyard\":\"Abacelo\",\"Name\":\"\",\"Grape\":\"chiraz\",\"Consumed In\":\"2015\",\"Score\":\"3.5\",\"Price\":\"7\"},{\"Color\":\"R\",\"Region\":\"Tuscany\",\"Country\":\"Italy\",\"Vintage\":\"2012\",\"Vinyard\":\"Ridolfi\",\"Name\":\"Rosso Di Montalcino\",\"Grape\":\"sangiovese\",\"Consumed In\":\"2015\",\"Score\":\"3.5\",\"Price\":\"15\"},{\"Color\":\"W\",\"Region\":\"Loire\",\"Country\":\"France\",\"Vintage\":\"2012\",\"Vinyard\":\"Celestin Blobdeau\",\"Name\":\"Sancerre Cuvee Des Moulins Bales\",\"Grape\":\"sauvignon blanc\",\"Consumed In\":\"2013\",\"Score\":\"3\",\"Price\":\"12\"},{\"Color\":\"R\",\"Region\":\"Napa\",\"Country\":\"US\",\"Vintage\":\"2012\",\"Vinyard\":\"Belle Glos\",\"Name\":\"Meiomi\",\"Grape\":\"pinot noir\",\"Consumed In\":\"2013\",\"Score\":\"3\",\"Price\":\"13\"},{\"Color\":\"R\",\"Region\":\"France\",\"Country\":\"France\",\"Vintage\":\"2012\",\"Vinyard\":\"Puech-Haut\",\"Name\":\"Saint Drezery Prestige\",\"Grape\":\"\",\"Consumed In\":\"2013\",\"Score\":\"3\",\"Price\":\"13\"},{\"Color\":\"R\",\"Region\":\"France\",\"Country\":\"France\",\"Vintage\":\"2011\",\"Vinyard\":\"Puech-Haut\",\"Name\":\"Saint Drezery Prestige\",\"Grape\":\"\",\"Consumed In\":\"2013\",\"Score\":\"2\",\"Price\":\"14\"},{\"Color\":\"W\",\"Region\":\"Nappa\",\"Country\":\"US\",\"Vintage\":\"2012\",\"Vinyard\":\"Honig\",\"Name\":\"Sauvignon Blanc\",\"Grape\":\"sauvignon blanc\",\"Consumed In\":\"2014\",\"Score\":\"4\",\"Price\":\"14.5\"},{\"Color\":\"W\",\"Region\":\"Nappa\",\"Country\":\"US\",\"Vintage\":\"2012\",\"Vinyard\":\"Provenance\",\"Name\":\"Uppercut North Coast\",\"Grape\":\"sauvignon blanc\",\"Consumed In\":\"2014\",\"Score\":\"3\",\"Price\":\"11\"},{\"Color\":\"R\",\"Region\":\"Sicily\",\"Country\":\"Italy\",\"Vintage\":\"2011\",\"Vinyard\":\"Baglio Di Pianetto\",\"Name\":\"Nero d'Avola\",\"Grape\":\"\",\"Consumed In\":\"2014\",\"Score\":\"\",\"Price\":\"\"},{\"Color\":\"P\",\"Region\":\"Truro\",\"Country\":\"US\",\"Vintage\":\"2013\",\"Vinyard\":\"Truro Vineyards\",\"Name\":\"Cape Blush\",\"Grape\":\"\",\"Consumed In\":\"2014\",\"Score\":\"4\",\"Price\":\"10\"},{\"Color\":\"W\",\"Region\":\"Truro\",\"Country\":\"US\",\"Vintage\":\"2013\",\"Vinyard\":\"Truro Vineyards\",\"Name\":\"Pinot Grigio\",\"Grape\":\"pinot griogio\",\"Consumed In\":\"2014\",\"Score\":\"3\",\"Price\":\"10\"},{\"Color\":\"R\",\"Region\":\"Provence\",\"Country\":\"France\",\"Vintage\":\"2013\",\"Vinyard\":\"Chateau de la Clapiere\",\"Name\":\"Cru Classe\",\"Grape\":\"\",\"Consumed In\":\"2014\",\"Score\":\"3.5\",\"Price\":\"\"},{\"Color\":\"W\",\"Region\":\"Bordeaux\",\"Country\":\"France\",\"Vintage\":\"2013\",\"Vinyard\":\"Domaine du Claouset\",\"Name\":\"Domaine du Claouset\",\"Grape\":\"cabernet sauvignon\",\"Consumed In\":\"2015\",\"Score\":\"3\",\"Price\":\"\"},{\"Color\":\"W\",\"Region\":\"Napa\",\"Country\":\"\",\"Vintage\":\"2012\",\"Vinyard\":\"Two Angels\",\"Name\":\"Sauvignon Blanc\",\"Grape\":\"sauvignon blanc\",\"Consumed In\":\"2015\",\"Score\":\"3.5\",\"Price\":\"\"},{\"Color\":\"W\",\"Region\":\"Portugal\",\"Country\":\"Portugal\",\"Vintage\":\"2013\",\"Vinyard\":\"Mapreco\",\"Name\":\"Vinho Verde\",\"Grape\":\"\",\"Consumed In\":\"2015\",\"Score\":\"3.5\",\"Price\":\"\"},{\"Color\":\"W\",\"Region\":\"Burgundy\",\"Country\":\"France\",\"Vintage\":\"2012\",\"Vinyard\":\"Vaillons\",\"Name\":\"Vincent Dampt\",\"Grape\":\"Chablis, Vincent Dampt, Vaillons 1er (Burgundy, France) 2012 W/ Limestone taste\",\"Consumed In\":\"2015\",\"Score\":\"4\",\"Price\":\"35\"},{\"Color\":\"W\",\"Region\":\"Rias Baixas\",\"Country\":\"Spain\",\"Vintage\":\"2012\",\"Vinyard\":\"Granbazan\",\"Name\":\"Albarino\",\"Grape\":\"Albarino, Granbazan (Rias Baixas) 2012\",\"Consumed In\":\"2015\",\"Score\":\"4\",\"Price\":\"15\"},{\"Color\":\"R\",\"Region\":\"Sonoma\",\"Country\":\"US\",\"Vintage\":\"1973\",\"Vinyard\":\"\",\"Name\":\"My wonderful wine\",\"Grape\":\"\",\"Consumed In\":\"2015\",\"Score\":\"10\",\"Price\":\"200\"},{\"Color\":\"R\",\"Region\":\"Sonoma\",\"Country\":\"US\",\"Vintage\":\"1973\",\"Vinyard\":\"\",\"Name\":\"My wonderful wine\",\"Grape\":\"\",\"Consumed In\":\"2015\",\"Score\":\"10\",\"Price\":\"200\"},{\"Color\":\"R\",\"Region\":\"Sonoma\",\"Country\":\"US\",\"Vintage\":\"1973\",\"Vinyard\":\"\",\"Name\":\"My wonderful wine\",\"Grape\":\"BIG\",\"Consumed In\":\"2015\",\"Score\":\"10\",\"Price\":\"9999\"},{\"Color\":\"R\",\"Region\":\"Sonoma\",\"Country\":\"US\",\"Vintage\":\"1973\",\"Vinyard\":\"\",\"Name\":\"My wonderful wine\",\"Grape\":\"\",\"Consumed In\":\"2015\",\"Score\":\"10\",\"Price\":\"200\"},{\"Color\":\"R\",\"Region\":\"Sonoma\",\"Country\":\"US\",\"Vintage\":\"1973\",\"Vinyard\":\"\",\"Name\":\"My wonderful wine\",\"Grape\":\"\",\"Consumed In\":\"2015\",\"Score\":\"10\",\"Price\":\"200\"},{\"Color\":\"R\",\"Region\":\"Sonoma\",\"Country\":\"US\",\"Vintage\":\"1800\",\"Vinyard\":\"Wine Boys\",\"Name\":\"Grape Squeezins\",\"Grape\":\"\",\"Consumed In\":\"2016\",\"Score\":\"10\",\"Price\":\"2\"},{\"Color\":\"R\",\"Region\":\"Sonoma\",\"Country\":\"US\",\"Vintage\":\"1973\",\"Vinyard\":\"\",\"Name\":\"My wonderful wine\",\"Grape\":\"\",\"Consumed In\":\"2015\",\"Score\":\"10\",\"Price\":\"200\"},{\"Color\":\"R\",\"Region\":\"Sonoma\",\"Country\":\"US\",\"Vintage\":\"1973\",\"Vinyard\":\"\",\"Name\":\"My wonderful wine\",\"Grape\":\"\",\"Consumed In\":\"2015\",\"Score\":\"10\",\"Price\":\"200\"},{\"Color\":\"R\",\"Region\":\"Sonoma\",\"Country\":\"US\",\"Vintage\":\"1973\",\"Vinyard\":\"\",\"Name\":\"My wonderful wine\",\"Grape\":\"\",\"Consumed In\":\"2015\",\"Score\":\"10\",\"Price\":\"200\"},{\"Color\":\"R\",\"Region\":\"Sonoma\",\"Country\":\"US\",\"Vintage\":\"1973\",\"Vinyard\":\"\",\"Name\":\"My wonderful wine\",\"Grape\":\"\",\"Consumed In\":\"2015\",\"Score\":\"10\",\"Price\":\"200\"},{\"Color\":\"Z\",\"Region\":\"Dupont\",\"Country\":\"US\",\"Vintage\":\"1900\",\"Vinyard\":\"\",\"Name\":\"Some fantastic wine\",\"Grape\":\"\",\"Consumed In\":\"2098\",\"Score\":\"10\",\"Price\":\"200\"},{\"Color\":\"R\",\"Region\":\"Sonoma\",\"Country\":\"US\",\"Vintage\":\"1973\",\"Vinyard\":\"\",\"Name\":\"My wonderful wine\",\"Grape\":\"\",\"Consumed In\":\"2015\",\"Score\":\"10\",\"Price\":\"200\"},{\"Color\":\"Z\",\"Region\":\"Dupont\",\"Country\":\"US\",\"Vintage\":\"1980\",\"Vinyard\":\"\",\"Name\":\"Some fantastic wine\",\"Grape\":\"\",\"Consumed In\":\"2012\",\"Score\":\"10\",\"Price\":\"200\"},{\"Color\":\"R\",\"Region\":\"Sonoma\",\"Country\":\"US\",\"Vintage\":\"1973\",\"Vinyard\":\"\",\"Name\":\"My wonderful wine\",\"Grape\":\"\",\"Consumed In\":\"2015\",\"Score\":\"10\",\"Price\":\"200\"},{\"Color\":\"R\",\"Region\":\"Sonoma\",\"Country\":\"US\",\"Vintage\":\"1973\",\"Vinyard\":\"\",\"Name\":\"My wonderful wine\",\"Grape\":\"\",\"Consumed In\":\"2015\",\"Score\":\"10\",\"Price\":\"200\"},{\"Color\":\"R\",\"Region\":\"Sonoma\",\"Country\":\"US\",\"Vintage\":\"1973\",\"Vinyard\":\"\",\"Name\":\"My wonderful wine\",\"Grape\":\"\",\"Consumed In\":\"2015\",\"Score\":\"10\",\"Price\":\"200\"},{\"Color\":\"R\",\"Region\":\"Sonoma\",\"Country\":\"US\",\"Vintage\":\"1973\",\"Vinyard\":\"\",\"Name\":\"My wonderful wine\",\"Grape\":\"\",\"Consumed In\":\"2015\",\"Score\":\"10\",\"Price\":\"200\"},{\"Color\":\"R\",\"Region\":\"Sonoma\",\"Country\":\"US\",\"Vintage\":\"1973\",\"Vinyard\":\"\",\"Name\":\"Haley's wonderful wine\",\"Grape\":\"\",\"Consumed In\":\"2015\",\"Score\":\"10\",\"Price\":\"200\"},{\"Color\":\"R\",\"Region\":\"Sonoma\",\"Country\":\"US\",\"Vintage\":\"1973\",\"Vinyard\":\"\",\"Name\":\"Haley's wonderful wine\",\"Grape\":\"\",\"Consumed In\":\"2015\",\"Score\":\"10\",\"Price\":\"200\"},{\"Color\":\"R\",\"Region\":\"Sonoma\",\"Country\":\"US\",\"Vintage\":\"1973\",\"Vinyard\":\"\",\"Name\":\"My wonderful wine\",\"Grape\":\"\",\"Consumed In\":\"2015\",\"Score\":\"10\",\"Price\":\"200\"},{\"Color\":\"R\",\"Region\":\"Sonoma\",\"Country\":\"US\",\"Vintage\":\"1973\",\"Vinyard\":\"\",\"Name\":\"My wonderful wine\",\"Grape\":\"\",\"Consumed In\":\"2015\",\"Score\":\"10\",\"Price\":\"200\"},{\"Color\":\"R\",\"Region\":\"Sonoma\",\"Country\":\"US\",\"Vintage\":\"1973\",\"Vinyard\":\"\",\"Name\":\"My wonderful wine\",\"Grape\":\"\",\"Consumed In\":\"2015\",\"Score\":\"10\",\"Price\":\"200\"},{\"Color\":\"R\",\"Region\":\"Sonoma\",\"Country\":\"US\",\"Vintage\":\"1973\",\"Vinyard\":\"\",\"Name\":\"My wonderful wine\",\"Grape\":\"\",\"Consumed In\":\"2015\",\"Score\":\"10\",\"Price\":\"200\"},{\"Color\":\"R\",\"Region\":\"Sonoma\",\"Country\":\"US\",\"Vintage\":\"1973\",\"Vinyard\":\"\",\"Name\":\"My wonderful wine\",\"Grape\":\"\",\"Consumed In\":\"2015\",\"Score\":\"10\",\"Price\":\"200\"},{\"Color\":\"R\",\"Region\":\"Sonoma\",\"Country\":\"US\",\"Vintage\":\"1973\",\"Vinyard\":\"\",\"Name\":\"My wonderful wine\",\"Grape\":\"\",\"Consumed In\":\"2015\",\"Score\":\"10\",\"Price\":\"200\"},{\"Color\":\"R\",\"Region\":\"Sonoma\",\"Country\":\"US\",\"Vintage\":\"1973\",\"Vinyard\":\"\",\"Name\":\"My wonderful wine\",\"Grape\":\"\",\"Consumed In\":\"2015\",\"Score\":\"10\",\"Price\":\"200\"},{\"Color\":\"R\",\"Region\":\"Sonoma\",\"Country\":\"US\",\"Vintage\":\"1973\",\"Vinyard\":\"\",\"Name\":\"My wonderful wine\",\"Grape\":\"\",\"Consumed In\":\"2015\",\"Score\":\"10\",\"Price\":\"200\"},{\"Color\":\"R\",\"Region\":\"Sonoma\",\"Country\":\"US\",\"Vintage\":\"1973\",\"Vinyard\":\"\",\"Name\":\"My wonderful wine\",\"Grape\":\"\",\"Consumed In\":\"2015\",\"Score\":\"10\",\"Price\":\"200\"},{\"Color\":\"R\",\"Region\":\"Sonoma\",\"Country\":\"US\",\"Vintage\":\"1973\",\"Vinyard\":\"\",\"Name\":\"My wonderful wine\",\"Grape\":\"\",\"Consumed In\":\"2015\",\"Score\":\"10\",\"Price\":\"200\"},{\"Color\":\"R\",\"Region\":\"Sonoma\",\"Country\":\"US\",\"Vintage\":\"1973\",\"Vinyard\":\"\",\"Name\":\"My wonderful wine\",\"Grape\":\"\",\"Consumed In\":\"2015\",\"Score\":\"10\",\"Price\":\"200\"},{\"Color\":\"R\",\"Region\":\"Sonoma\",\"Country\":\"US\",\"Vintage\":\"1973\",\"Vinyard\":\"\",\"Name\":\"My wonderful wine\",\"Grape\":\"\",\"Consumed In\":\"2015\",\"Score\":\"10\",\"Price\":\"200\"},{\"Color\":\"R\",\"Region\":\"Sonoma\",\"Country\":\"US\",\"Vintage\":\"1973\",\"Vinyard\":\"\",\"Name\":\"My wonderful wine\",\"Grape\":\"\",\"Consumed In\":\"2015\",\"Score\":\"10\",\"Price\":\"200\"},{\"Color\":\"R\",\"Region\":\"Santa Monica\",\"Country\":\"US\",\"Vintage\":\"1776\",\"Vinyard\":\"\",\"Name\":\"Pauls XXX Vinyards\",\"Grape\":\"\",\"Consumed In\":\"2015\",\"Score\":\"11\",\"Price\":\"200\"},{\"Color\":\"R\",\"Region\":\"America!!!\",\"Country\":\"US\",\"Vintage\":\"1973\",\"Vinyard\":\"\",\"Name\":\"Isaac's post\",\"Grape\":\"\",\"Consumed In\":\"Always\",\"Score\":\"1 million\",\"Price\":\"200\"},{\"Color\":\"R\",\"Region\":\"Sonoma\",\"Country\":\"US\",\"Vintage\":\"1973\",\"Vinyard\":\"Top of the line wine\",\"Name\":\"My wonderful wine\",\"Grape\":\"\",\"Consumed In\":\"2015\",\"Score\":\"10\",\"Price\":\"200\"},{\"Color\":\"R\",\"Region\":\"Sonoma\",\"Country\":\"US\",\"Vintage\":\"1973\",\"Vinyard\":\"\",\"Name\":\"OMEEDS WINE STASH DONT TOUCH BIATCHESSSSSSSSSSS\",\"Grape\":\"\",\"Consumed In\":\"2015\",\"Score\":\"10\",\"Price\":\"200\"},{\"Color\":\"R\",\"Region\":\"Sonoma\",\"Country\":\"US\",\"Vintage\":\"1973\",\"Vinyard\":\"\",\"Name\":\"My wonderful wine\",\"Grape\":\"\",\"Consumed In\":\"2015\",\"Score\":\"10\",\"Price\":\"200\"},{\"Color\":\"R\",\"Region\":\"Sonoma\",\"Country\":\"US\",\"Vintage\":\"1973\",\"Vinyard\":\"\",\"Name\":\"Gotta Catch Em All\",\"Grape\":\"\",\"Consumed In\":\"2015\",\"Score\":\"10\",\"Price\":\"200\"},{\"Color\":\"R\",\"Region\":\"Sonoma\",\"Country\":\"US\",\"Vintage\":\"1973\",\"Vinyard\":\"\",\"Name\":\"My wonderful wine\",\"Grape\":\"\",\"Consumed In\":\"2015\",\"Score\":\"10\",\"Price\":\"200\"},{\"Color\":\"R\",\"Region\":\"Sonoma\",\"Country\":\"US\",\"Vintage\":\"1973\",\"Vinyard\":\"Top of the line wine\",\"Name\":\"My wonderful wine\",\"Grape\":\"grape drank\",\"Consumed In\":\"large quantities\",\"Score\":\"10\",\"Price\":\"200\"},{\"Color\":\"R\",\"Region\":\"Sonoma\",\"Country\":\"US\",\"Vintage\":\"1973\",\"Vinyard\":\"\",\"Name\":\"Wwonderful wine\",\"Grape\":\"\",\"Consumed In\":\"2014\",\"Score\":\"10\",\"Price\":\"200\"},{\"Color\":\"R\",\"Region\":\"Sonoma\",\"Country\":\"US\",\"Vintage\":\"1973\",\"Vinyard\":\"\",\"Name\":\"My wonderful wine\",\"Grape\":\"\",\"Consumed In\":\"2015\",\"Score\":\"10\",\"Price\":\"200\"},{\"Color\":\"R\",\"Region\":\"Sonoma\",\"Country\":\"US\",\"Vintage\":\"1973\",\"Vinyard\":\"\",\"Name\":\"Deligious Way\",\"Grape\":\"\",\"Consumed In\":\"2015\",\"Score\":\"10\",\"Price\":\"200\"},{\"Color\":\"R\",\"Region\":\"Sonoma\",\"Country\":\"US\",\"Vintage\":\"1973\",\"Vinyard\":\"\",\"Name\":\"MG wonderful wine\",\"Grape\":\"\",\"Consumed In\":\"2015\",\"Score\":\"10\",\"Price\":\"200\"},{\"Color\":\"R\",\"Region\":\"Sonoma\",\"Country\":\"US\",\"Vintage\":\"1973\",\"Vinyard\":\"\",\"Name\":\"My wonderful wine\",\"Grape\":\"\",\"Consumed In\":\"2015\",\"Score\":\"10\",\"Price\":\"200\"},{\"Color\":\"R\",\"Region\":\"Sonoma\",\"Country\":\"US\",\"Vintage\":\"1973\",\"Vinyard\":\"\",\"Name\":\"Bretts happy juice\",\"Grape\":\"\",\"Consumed In\":\"2015\",\"Score\":\"10\",\"Price\":\"200\"},{\"Color\":\"R\",\"Region\":\"Sonoma\",\"Country\":\"US\",\"Vintage\":\"1973\",\"Vinyard\":\"\",\"Name\":\"MG wonderful wine\",\"Grape\":\"\",\"Consumed In\":\"2015\",\"Score\":\"10\",\"Price\":\"200\"},{\"Color\":\"R\",\"Region\":\"America!!!\",\"Country\":\"US\",\"Vintage\":\"1973\",\"Vinyard\":\"\",\"Name\":\"Isaac's post\",\"Grape\":\"\",\"Consumed In\":\"Always\",\"Score\":\"1 million\",\"Price\":\"200\"},{\"Color\":\"W\",\"Region\":\"Sonoma\",\"Country\":\"US\",\"Vintage\":\"1986\",\"Vinyard\":\"\",\"Name\":\"Ryans wine\",\"Grape\":\"\",\"Consumed In\":\"2015\",\"Score\":\"10\",\"Price\":\"200\"},{\"Color\":\"R\",\"Region\":\"Sonoma\",\"Country\":\"US\",\"Vintage\":\"1973\",\"Vinyard\":\"\",\"Name\":\"Deligious Way\",\"Grape\":\"\",\"Consumed In\":\"2015\",\"Score\":\"10\",\"Price\":\"200\"},{\"Color\":\"W\",\"Region\":\"Sonoma\",\"Country\":\"US\",\"Vintage\":\"1973\",\"Vinyard\":\"\",\"Name\":\"Chez Wilson\",\"Grape\":\"\",\"Consumed In\":\"2015\",\"Score\":\"10\",\"Price\":\"200\"},{\"Color\":\"Robin Hood\",\"Region\":\"Sonoma\",\"Country\":\"US\",\"Vintage\":\"1973\",\"Vinyard\":\"\",\"Name\":\"Dope Wines\",\"Grape\":\"\",\"Consumed In\":\"2015\",\"Score\":\"10\",\"Price\":\"200\"},{\"Color\":\"R\",\"Region\":\"Sonoma\",\"Country\":\"US\",\"Vintage\":\"1973\",\"Vinyard\":\"Sonoma Vines\",\"Name\":\"My wonderful wine\",\"Grape\":\"\",\"Consumed In\":\"2015\",\"Score\":\"10\",\"Price\":\"200\"},{\"Color\":\"R\",\"Region\":\"Sonoma\",\"Country\":\"US\",\"Vintage\":\"1973\",\"Vinyard\":\"\",\"Name\":\"My wonderful wine\",\"Grape\":\"\",\"Consumed In\":\"2015\",\"Score\":\"10\",\"Price\":\"200\"},{\"Color\":\"R\",\"Region\":\"Santa Monica\",\"Country\":\"US\",\"Vintage\":\"1776\",\"Vinyard\":\"\",\"Name\":\"Pauls XXX Vinyards\",\"Grape\":\"\",\"Consumed In\":\"2015\",\"Score\":\"11\",\"Price\":\"2000000\"},{\"Color\":\"R\",\"Region\":\"Sonoma\",\"Country\":\"US\",\"Vintage\":\"1973\",\"Vinyard\":\"\",\"Name\":\"Bretts happy juice\",\"Grape\":\"\",\"Consumed In\":\"2015\",\"Score\":\"10\",\"Price\":\"200\"},{\"Color\":\"R\",\"Region\":\"Sonoma\",\"Country\":\"US\",\"Vintage\":\"1973\",\"Vinyard\":\"\",\"Name\":\"christine's wine\",\"Grape\":\"\",\"Consumed In\":\"2015\",\"Score\":\"10\",\"Price\":\"200\"},{\"Color\":\"R\",\"Region\":\"Sonoma\",\"Country\":\"US\",\"Vintage\":\"1973\",\"Vinyard\":\"Top of the line wine\",\"Name\":\"My wonderful wine\",\"Grape\":\"grape drank\",\"Consumed In\":\"large quantities\",\"Score\":\"10\",\"Price\":\"200\"},{\"Color\":\"R\",\"Region\":\"Sonoma\",\"Country\":\"US\",\"Vintage\":\"1973\",\"Vinyard\":\"\",\"Name\":\"christine's wine\",\"Grape\":\"\",\"Consumed In\":\"2015\",\"Score\":\"10\",\"Price\":\"200\"},{\"Color\":\"W\",\"Region\":\"Sonoma\",\"Country\":\"US\",\"Vintage\":\"1986\",\"Vinyard\":\"\",\"Name\":\"Ryans wine\",\"Grape\":\"\",\"Consumed In\":\"2015\",\"Score\":\"10\",\"Price\":\"200\"},{\"Color\":\"R\",\"Region\":\"Sonoma\",\"Country\":\"US\",\"Vintage\":\"1973\",\"Vinyard\":\"\",\"Name\":\"My wonderful wine\",\"Grape\":\"\",\"Consumed In\":\"2015\",\"Score\":\"10\",\"Price\":\"200\"},{\"Color\":\"R\",\"Region\":\"Sonoma\",\"Country\":\"US\",\"Vintage\":\"1973\",\"Vinyard\":\"\",\"Name\":\"OMEEDS WINE STASH DONT TOUCH BIATCHESSSSSSSSSSS\",\"Grape\":\"\",\"Consumed In\":\"2015\",\"Score\":\"10\",\"Price\":\"200\"},{\"Color\":\"R\",\"Region\":\"i like soup\",\"Country\":\"666\",\"Vintage\":\"not an int!\",\"Vinyard\":\"THE BEST CHICKENS\",\"Name\":\"$$ _ 5 seven ! _ $$\",\"Grape\":\"GR8Pe!\",\"Consumed In\":\"15\",\"Score\":\"112\",\"Price\":\"hahaha\"},{\"Color\":\"R\",\"Region\":\"Sonoma\",\"Country\":\"US\",\"Vintage\":\"1973\",\"Vinyard\":\"\",\"Name\":\"Beyhtar\",\"Grape\":\"\",\"Consumed In\":\"2015\",\"Score\":\"10\",\"Price\":\"200\"},{\"Color\":\"R\",\"Region\":\"Sonoma\",\"Country\":\"US\",\"Vintage\":\"1973\",\"Vinyard\":\"\",\"Name\":\"My wonderful wine\",\"Grape\":\"\",\"Consumed In\":\"2015\",\"Score\":\"10\",\"Price\":\"200\"},{\"Color\":\"R\",\"Region\":\"Sonoma\",\"Country\":\"US\",\"Vintage\":\"1973\",\"Vinyard\":\"\",\"Name\":\"My wonderful wine\",\"Grape\":\"\",\"Consumed In\":\"2015\",\"Score\":\"10\",\"Price\":\"200\"},{\"Color\":\"R\",\"Region\":\"Sonoma\",\"Country\":\"US\",\"Vintage\":\"1973\",\"Vinyard\":\"\",\"Name\":\"My wonderful wine\",\"Grape\":\"\",\"Consumed In\":\"2015\",\"Score\":\"10\",\"Price\":\"200\"},{\"Color\":\"R\",\"Region\":\"Sonoma\",\"Country\":\"US\",\"Vintage\":\"1973\",\"Vinyard\":\"\",\"Name\":\"My wonderful wine\",\"Grape\":\"\",\"Consumed In\":\"2015\",\"Score\":\"10\",\"Price\":\"200\"},{\"Color\":\"R\",\"Region\":\"Sonoma\",\"Country\":\"US\",\"Vintage\":\"1973\",\"Vinyard\":\"\",\"Name\":\"My wonderful wine\",\"Grape\":\"\",\"Consumed In\":\"2015\",\"Score\":\"10\",\"Price\":\"200\"},{\"Color\":\"R\",\"Region\":\"Sonoma\",\"Country\":\"US\",\"Vintage\":\"1973\",\"Vinyard\":\"\",\"Name\":\"My wonderful wine\",\"Grape\":\"\",\"Consumed In\":\"2015\",\"Score\":\"10\",\"Price\":\"200\"},{\"Color\":\"R\",\"Region\":\"Sonoma\",\"Country\":\"US\",\"Vintage\":\"1973\",\"Vinyard\":\"\",\"Name\":\"My wonderful wine\",\"Grape\":\"\",\"Consumed In\":\"2015\",\"Score\":\"10\",\"Price\":\"200\"},{\"Color\":\"R\",\"Region\":\"Sonoma\",\"Country\":\"US\",\"Vintage\":\"1973\",\"Vinyard\":\"\",\"Name\":\"My wonderful wine\",\"Grape\":\"\",\"Consumed In\":\"2015\",\"Score\":\"10\",\"Price\":\"200\"},{\"Color\":\"R\",\"Region\":\"Sonoma\",\"Country\":\"US\",\"Vintage\":\"1973\",\"Vinyard\":\"\",\"Name\":\"My wonderful wine\",\"Grape\":\"\",\"Consumed In\":\"2015\",\"Score\":\"10\",\"Price\":\"200\"},{\"Color\":\"R\",\"Region\":\"Sonoma\",\"Country\":\"US\",\"Vintage\":\"1973\",\"Vinyard\":\"\",\"Name\":\"My wonderful wine\",\"Grape\":\"\",\"Consumed In\":\"2015\",\"Score\":\"10\",\"Price\":\"200\"},{\"Color\":\"R\",\"Region\":\"Sonoma\",\"Country\":\"US\",\"Vintage\":\"1973\",\"Vinyard\":\"\",\"Name\":\"Howies wonderful wine\",\"Grape\":\"\",\"Consumed In\":\"2015\",\"Score\":\"10\",\"Price\":\"200\"},{\"Color\":\"R\",\"Region\":\"Sonoma\",\"Country\":\"US\",\"Vintage\":\"1973\",\"Vinyard\":\"\",\"Name\":\"My wonderful wine\",\"Grape\":\"\",\"Consumed In\":\"2015\",\"Score\":\"10\",\"Price\":\"200\"},{\"Color\":\"R\",\"Region\":\"Sonoma\",\"Country\":\"US\",\"Vintage\":\"1973\",\"Vinyard\":\"\",\"Name\":\"My wonderful wine\",\"Grape\":\"\",\"Consumed In\":\"2015\",\"Score\":\"10\",\"Price\":\"200\"},{\"Color\":\"R\",\"Region\":\"Sonoma\",\"Country\":\"US\",\"Vintage\":\"1973\",\"Vinyard\":\"\",\"Name\":\"CK wonderful wine\",\"Grape\":\"\",\"Consumed In\":\"2015\",\"Score\":\"10\",\"Price\":\"200\"},{\"Color\":\"R\",\"Region\":\"Sonoma\",\"Country\":\"US\",\"Vintage\":\"1973\",\"Vinyard\":\"\",\"Name\":\"CK wonderful wine\",\"Grape\":\"\",\"Consumed In\":\"2015\",\"Score\":\"10\",\"Price\":\"200\"},{\"Color\":\"R\",\"Region\":\"Sonoma\",\"Country\":\"US\",\"Vintage\":\"1973\",\"Vinyard\":\"\",\"Name\":\"CK wonderful wine\",\"Grape\":\"\",\"Consumed In\":\"2015\",\"Score\":\"10\",\"Price\":\"200\"},{\"Color\":\"R\",\"Region\":\"Sonoma\",\"Country\":\"US\",\"Vintage\":\"1973\",\"Vinyard\":\"\",\"Name\":\"My wonderful wine\",\"Grape\":\"\",\"Consumed In\":\"2015\",\"Score\":\"10\",\"Price\":\"200\"},{\"Color\":\"R\",\"Region\":\"Sonoma\",\"Country\":\"US\",\"Vintage\":\"1973\",\"Vinyard\":\"\",\"Name\":\"My wonderful wine\",\"Grape\":\"\",\"Consumed In\":\"2015\",\"Score\":\"10\",\"Price\":\"200\"},{\"Color\":\"R\",\"Region\":\"Sonoma\",\"Country\":\"US\",\"Vintage\":\"1973\",\"Vinyard\":\"\",\"Name\":\"My wonderful wine\",\"Grape\":\"\",\"Consumed In\":\"2015\",\"Score\":\"10\",\"Price\":\"200\"},{\"Color\":\"R\",\"Region\":\"Sonoma\",\"Country\":\"US\",\"Vintage\":\"1973\",\"Vinyard\":\"\",\"Name\":\"My wonderful wine\",\"Grape\":\"\",\"Consumed In\":\"2015\",\"Score\":\"10\",\"Price\":\"200\"},{\"Color\":\"R\",\"Region\":\"Sonoma\",\"Country\":\"US\",\"Vintage\":\"1973\",\"Vinyard\":\"\",\"Name\":\"My wonderful wine\",\"Grape\":\"\",\"Consumed In\":\"2015\",\"Score\":\"10\",\"Price\":\"200\"},{\"Color\":\"R\",\"Region\":\"Sonoma\",\"Country\":\"US\",\"Vintage\":\"1973\",\"Vinyard\":\"\",\"Name\":\"My wonderful wine\",\"Grape\":\"\",\"Consumed In\":\"2015\",\"Score\":\"10\",\"Price\":\"200\"},{\"Color\":\"R\",\"Region\":\"Sonoma\",\"Country\":\"US\",\"Vintage\":\"1973\",\"Vinyard\":\"\",\"Name\":\"My wonderful wine\",\"Grape\":\"\",\"Consumed In\":\"2015\",\"Score\":\"10\",\"Price\":\"200\"},{\"Color\":\"R\",\"Region\":\"Sonoma\",\"Country\":\"US\",\"Vintage\":\"1973\",\"Vinyard\":\"\",\"Name\":\"My wonderful wine\",\"Grape\":\"\",\"Consumed In\":\"2015\",\"Score\":\"10\",\"Price\":\"200\"}]\n"
     ]
    }
   ],
   "source": [
    "from scrapy.selector import Selector\n",
    "from scrapy.http import HtmlResponse\n",
    "\n",
    "webpath = 'https://sheetsu.com/apis/v1.0/dab55afd'\n",
    "response = requests.get(webpath)\n",
    "JSON = response.text  \n",
    "\n",
    "print response.headers\n",
    "print response.status_code\n",
    "print JSON\n",
    "\n"
   ]
  },
  {
   "cell_type": "code",
   "execution_count": 9,
   "metadata": {
    "collapsed": false
   },
   "outputs": [
    {
     "name": "stdout",
     "output_type": "stream",
     "text": [
      "    Color Consumed In   Country  \\\n",
      "0       W        2015  Portugal   \n",
      "1       W        2015    France   \n",
      "2       W        2015    Oregon   \n",
      "3       W        2015     Spain   \n",
      "4       R        2015        US   \n",
      "5       R        2015        US   \n",
      "6       R        2015        US   \n",
      "7       R        2015    France   \n",
      "8       R        2015    France   \n",
      "9       R        2015        US   \n",
      "10      R        2015     Italy   \n",
      "11      R        2015             \n",
      "12      R        2015        US   \n",
      "13      R        2015     Italy   \n",
      "14      W        2013    France   \n",
      "15      R        2013        US   \n",
      "16      R        2013    France   \n",
      "17      R        2013    France   \n",
      "18      W        2014        US   \n",
      "19      W        2014        US   \n",
      "20      R        2014     Italy   \n",
      "21      P        2014        US   \n",
      "22      W        2014        US   \n",
      "23      R        2014    France   \n",
      "24      W        2015    France   \n",
      "25      W        2015             \n",
      "26      W        2015  Portugal   \n",
      "27      W        2015    France   \n",
      "28      W        2015     Spain   \n",
      "29      R        2015        US   \n",
      "..    ...         ...       ...   \n",
      "87      R        2015        US   \n",
      "88      W        2015        US   \n",
      "89      R        2015        US   \n",
      "90      R        2015        US   \n",
      "91      R          15       666   \n",
      "92      R        2015        US   \n",
      "93      R        2015        US   \n",
      "94      R        2015        US   \n",
      "95      R        2015        US   \n",
      "96      R        2015        US   \n",
      "97      R        2015        US   \n",
      "98      R        2015        US   \n",
      "99      R        2015        US   \n",
      "100     R        2015        US   \n",
      "101     R        2015        US   \n",
      "102     R        2015        US   \n",
      "103     R        2015        US   \n",
      "104     R        2015        US   \n",
      "105     R        2015        US   \n",
      "106     R        2015        US   \n",
      "107     R        2015        US   \n",
      "108     R        2015        US   \n",
      "109     R        2015        US   \n",
      "110     R        2015        US   \n",
      "111     R        2015        US   \n",
      "112     R        2015        US   \n",
      "113     R        2015        US   \n",
      "114     R        2015        US   \n",
      "115     R        2015        US   \n",
      "116     R        2015        US   \n",
      "\n",
      "                                                 Grape  \\\n",
      "0                                                        \n",
      "1                                                        \n",
      "2                                                        \n",
      "3                                            chardonay   \n",
      "4                                          chiraz, cab   \n",
      "5                                                  cab   \n",
      "6                                                        \n",
      "7                                          merlot, cab   \n",
      "8                                          merlot, cab   \n",
      "9                                               merlot   \n",
      "10                                          sangiovese   \n",
      "11                                                       \n",
      "12                                              chiraz   \n",
      "13                                          sangiovese   \n",
      "14                                     sauvignon blanc   \n",
      "15                                          pinot noir   \n",
      "16                                                       \n",
      "17                                                       \n",
      "18                                     sauvignon blanc   \n",
      "19                                     sauvignon blanc   \n",
      "20                                                       \n",
      "21                                                       \n",
      "22                                       pinot griogio   \n",
      "23                                                       \n",
      "24                                  cabernet sauvignon   \n",
      "25                                     sauvignon blanc   \n",
      "26                                                       \n",
      "27   Chablis, Vincent Dampt, Vaillons 1er (Burgundy...   \n",
      "28              Albarino, Granbazan (Rias Baixas) 2012   \n",
      "29                                                       \n",
      "..                                                 ...   \n",
      "87                                                       \n",
      "88                                                       \n",
      "89                                                       \n",
      "90                                                       \n",
      "91                                              GR8Pe!   \n",
      "92                                                       \n",
      "93                                                       \n",
      "94                                                       \n",
      "95                                                       \n",
      "96                                                       \n",
      "97                                                       \n",
      "98                                                       \n",
      "99                                                       \n",
      "100                                                      \n",
      "101                                                      \n",
      "102                                                      \n",
      "103                                                      \n",
      "104                                                      \n",
      "105                                                      \n",
      "106                                                      \n",
      "107                                                      \n",
      "108                                                      \n",
      "109                                                      \n",
      "110                                                      \n",
      "111                                                      \n",
      "112                                                      \n",
      "113                                                      \n",
      "114                                                      \n",
      "115                                                      \n",
      "116                                                      \n",
      "\n",
      "                                                Name   Price       Region  \\\n",
      "0                                                                Portugal   \n",
      "1                                                       17.8       France   \n",
      "2                                                         20       Oregon   \n",
      "3                                                          7        Spain   \n",
      "4                                       Spice Trader       6                \n",
      "5                                                         13   California   \n",
      "6                                                #14      21       Oregon   \n",
      "7                                                         12     Bordeaux   \n",
      "8                                                      11.99        Medoc   \n",
      "9                                                         13   Washington   \n",
      "10                                   Rosso Dei Poggi      12      Tuscany   \n",
      "11                           Montepulciano D'Abruzzo      22      Tuscany   \n",
      "12                                                         7       Oregon   \n",
      "13                               Rosso Di Montalcino      15      Tuscany   \n",
      "14                  Sancerre Cuvee Des Moulins Bales      12        Loire   \n",
      "15                                            Meiomi      13         Napa   \n",
      "16                            Saint Drezery Prestige      13       France   \n",
      "17                            Saint Drezery Prestige      14       France   \n",
      "18                                   Sauvignon Blanc    14.5        Nappa   \n",
      "19                              Uppercut North Coast      11        Nappa   \n",
      "20                                      Nero d'Avola               Sicily   \n",
      "21                                        Cape Blush      10        Truro   \n",
      "22                                      Pinot Grigio      10        Truro   \n",
      "23                                        Cru Classe             Provence   \n",
      "24                               Domaine du Claouset             Bordeaux   \n",
      "25                                   Sauvignon Blanc                 Napa   \n",
      "26                                       Vinho Verde             Portugal   \n",
      "27                                     Vincent Dampt      35     Burgundy   \n",
      "28                                          Albarino      15  Rias Baixas   \n",
      "29                                 My wonderful wine     200       Sonoma   \n",
      "..                                               ...     ...          ...   \n",
      "87                                  christine's wine     200       Sonoma   \n",
      "88                                        Ryans wine     200       Sonoma   \n",
      "89                                 My wonderful wine     200       Sonoma   \n",
      "90   OMEEDS WINE STASH DONT TOUCH BIATCHESSSSSSSSSSS     200       Sonoma   \n",
      "91                               $$ _ 5 seven ! _ $$  hahaha  i like soup   \n",
      "92                                           Beyhtar     200       Sonoma   \n",
      "93                                 My wonderful wine     200       Sonoma   \n",
      "94                                 My wonderful wine     200       Sonoma   \n",
      "95                                 My wonderful wine     200       Sonoma   \n",
      "96                                 My wonderful wine     200       Sonoma   \n",
      "97                                 My wonderful wine     200       Sonoma   \n",
      "98                                 My wonderful wine     200       Sonoma   \n",
      "99                                 My wonderful wine     200       Sonoma   \n",
      "100                                My wonderful wine     200       Sonoma   \n",
      "101                                My wonderful wine     200       Sonoma   \n",
      "102                                My wonderful wine     200       Sonoma   \n",
      "103                            Howies wonderful wine     200       Sonoma   \n",
      "104                                My wonderful wine     200       Sonoma   \n",
      "105                                My wonderful wine     200       Sonoma   \n",
      "106                                CK wonderful wine     200       Sonoma   \n",
      "107                                CK wonderful wine     200       Sonoma   \n",
      "108                                CK wonderful wine     200       Sonoma   \n",
      "109                                My wonderful wine     200       Sonoma   \n",
      "110                                My wonderful wine     200       Sonoma   \n",
      "111                                My wonderful wine     200       Sonoma   \n",
      "112                                My wonderful wine     200       Sonoma   \n",
      "113                                My wonderful wine     200       Sonoma   \n",
      "114                                My wonderful wine     200       Sonoma   \n",
      "115                                My wonderful wine     200       Sonoma   \n",
      "116                                My wonderful wine     200       Sonoma   \n",
      "\n",
      "    Score      Vintage                 Vinyard  \n",
      "0       4         2013             Vinho Verde  \n",
      "1       3         2013               Peyruchet  \n",
      "2       3         2013                 Abacela  \n",
      "3     2.5         2012                   Ochoa  \n",
      "4       3         2012               Heartland  \n",
      "5     3.5         2012             Crow Canyon  \n",
      "6     2.5         2013                 Abacela  \n",
      "7     3.5         2012          David Beaulieu  \n",
      "8     3.5         2011             Chantemerle  \n",
      "9       4         2011                   Hyatt  \n",
      "10      3         2012         Rosso Dei Poggi  \n",
      "11    4.5         2013               Orizzonti  \n",
      "12    3.5         2010                 Abacelo  \n",
      "13    3.5         2012                 Ridolfi  \n",
      "14      3         2012       Celestin Blobdeau  \n",
      "15      3         2012              Belle Glos  \n",
      "16      3         2012              Puech-Haut  \n",
      "17      2         2011              Puech-Haut  \n",
      "18      4         2012                   Honig  \n",
      "19      3         2012              Provenance  \n",
      "20                2011      Baglio Di Pianetto  \n",
      "21      4         2013         Truro Vineyards  \n",
      "22      3         2013         Truro Vineyards  \n",
      "23    3.5         2013  Chateau de la Clapiere  \n",
      "24      3         2013     Domaine du Claouset  \n",
      "25    3.5         2012              Two Angels  \n",
      "26    3.5         2013                 Mapreco  \n",
      "27      4         2012                Vaillons  \n",
      "28      4         2012               Granbazan  \n",
      "29     10         1973                          \n",
      "..    ...          ...                     ...  \n",
      "87     10         1973                          \n",
      "88     10         1986                          \n",
      "89     10         1973                          \n",
      "90     10         1973                          \n",
      "91    112  not an int!       THE BEST CHICKENS  \n",
      "92     10         1973                          \n",
      "93     10         1973                          \n",
      "94     10         1973                          \n",
      "95     10         1973                          \n",
      "96     10         1973                          \n",
      "97     10         1973                          \n",
      "98     10         1973                          \n",
      "99     10         1973                          \n",
      "100    10         1973                          \n",
      "101    10         1973                          \n",
      "102    10         1973                          \n",
      "103    10         1973                          \n",
      "104    10         1973                          \n",
      "105    10         1973                          \n",
      "106    10         1973                          \n",
      "107    10         1973                          \n",
      "108    10         1973                          \n",
      "109    10         1973                          \n",
      "110    10         1973                          \n",
      "111    10         1973                          \n",
      "112    10         1973                          \n",
      "113    10         1973                          \n",
      "114    10         1973                          \n",
      "115    10         1973                          \n",
      "116    10         1973                          \n",
      "\n",
      "[117 rows x 10 columns]\n"
     ]
    }
   ],
   "source": [
    "df =pd.read_json(JSON)\n",
    "print df"
   ]
  },
  {
   "cell_type": "markdown",
   "metadata": {},
   "source": [
    "### Exercise 2: Post Data to Sheetsu\n",
    "Now that we've learned how to read data, it'd be great if we could also write data. For this we will need to use a _POST_ request.\n",
    "\n",
    "1. Use the post command to add the following data to the spreadsheet:"
   ]
  },
  {
   "cell_type": "code",
   "execution_count": 11,
   "metadata": {
    "collapsed": true
   },
   "outputs": [],
   "source": [
    "post_data = {\n",
    "'Grape' : ''\n",
    ", 'Name' : 'My wonderful wine'\n",
    ", 'Color' : 'R'\n",
    ", 'Country' : 'US'\n",
    ", 'Region' : 'Sonoma'\n",
    ", 'Vinyard' : ''\n",
    ", 'Score' : '10'\n",
    ", 'Consumed In' : '2015'\n",
    ", 'Vintage' : '1973'\n",
    ", 'Price' : '200'\n",
    "}"
   ]
  },
  {
   "cell_type": "markdown",
   "metadata": {},
   "source": [
    "1. What status did you get? How can you check that you actually added the data correctly?\n",
    "- In this exercise, your classmates are adding data to the same spreadsheet. What happens because of this? Is it a problem? How could you mitigate it?"
   ]
  },
  {
   "cell_type": "code",
   "execution_count": 12,
   "metadata": {
    "collapsed": false
   },
   "outputs": [
    {
     "data": {
      "text/plain": [
       "<Response [201]>"
      ]
     },
     "execution_count": 12,
     "metadata": {},
     "output_type": "execute_result"
    }
   ],
   "source": [
    "requests.post('https://sheetsu.com/apis/v1.0/dab55afd',json=post_data)"
   ]
  },
  {
   "cell_type": "markdown",
   "metadata": {},
   "source": [
    "## Exercise 3: Data munging\n",
    "\n",
    "Get back to the dataframe you've created in the beginning. Let's do some data munging:\n",
    "\n",
    "1. Search For missing data\n",
    "    - Is there any missing data? How do you deal with it?\n",
    "    - Is there any data you can just remove?\n",
    "    - Are the data types appropriate?\n",
    "- Summarize the data \n",
    "    - Try using describe, min, max, mean, var"
   ]
  },
  {
   "cell_type": "code",
   "execution_count": 36,
   "metadata": {
    "collapsed": false
   },
   "outputs": [
    {
     "name": "stdout",
     "output_type": "stream",
     "text": [
      "<class 'pandas.core.frame.DataFrame'>\n",
      "Int64Index: 101 entries, 6 to 116\n",
      "Data columns (total 8 columns):\n",
      "color          101 non-null object\n",
      "consumed_in    101 non-null object\n",
      "country        101 non-null object\n",
      "name           101 non-null object\n",
      "price          101 non-null object\n",
      "region         101 non-null object\n",
      "score          101 non-null object\n",
      "vintage        101 non-null object\n",
      "dtypes: object(8)\n",
      "memory usage: 7.1+ KB\n",
      "None\n"
     ]
    },
    {
     "data": {
      "text/html": [
       "<div>\n",
       "<table border=\"1\" class=\"dataframe\">\n",
       "  <thead>\n",
       "    <tr style=\"text-align: right;\">\n",
       "      <th></th>\n",
       "      <th>color</th>\n",
       "      <th>consumed_in</th>\n",
       "      <th>country</th>\n",
       "      <th>name</th>\n",
       "      <th>price</th>\n",
       "      <th>region</th>\n",
       "      <th>score</th>\n",
       "      <th>vintage</th>\n",
       "    </tr>\n",
       "  </thead>\n",
       "  <tbody>\n",
       "    <tr>\n",
       "      <th>6</th>\n",
       "      <td>R</td>\n",
       "      <td>2015</td>\n",
       "      <td>US</td>\n",
       "      <td>#14</td>\n",
       "      <td>21</td>\n",
       "      <td>Oregon</td>\n",
       "      <td>2.5</td>\n",
       "      <td>2013</td>\n",
       "    </tr>\n",
       "    <tr>\n",
       "      <th>10</th>\n",
       "      <td>R</td>\n",
       "      <td>2015</td>\n",
       "      <td>Italy</td>\n",
       "      <td>Rosso Dei Poggi</td>\n",
       "      <td>12</td>\n",
       "      <td>Tuscany</td>\n",
       "      <td>3</td>\n",
       "      <td>2012</td>\n",
       "    </tr>\n",
       "    <tr>\n",
       "      <th>13</th>\n",
       "      <td>R</td>\n",
       "      <td>2015</td>\n",
       "      <td>Italy</td>\n",
       "      <td>Rosso Di Montalcino</td>\n",
       "      <td>15</td>\n",
       "      <td>Tuscany</td>\n",
       "      <td>3.5</td>\n",
       "      <td>2012</td>\n",
       "    </tr>\n",
       "    <tr>\n",
       "      <th>14</th>\n",
       "      <td>W</td>\n",
       "      <td>2013</td>\n",
       "      <td>France</td>\n",
       "      <td>Sancerre Cuvee Des Moulins Bales</td>\n",
       "      <td>12</td>\n",
       "      <td>Loire</td>\n",
       "      <td>3</td>\n",
       "      <td>2012</td>\n",
       "    </tr>\n",
       "    <tr>\n",
       "      <th>15</th>\n",
       "      <td>R</td>\n",
       "      <td>2013</td>\n",
       "      <td>US</td>\n",
       "      <td>Meiomi</td>\n",
       "      <td>13</td>\n",
       "      <td>Napa</td>\n",
       "      <td>3</td>\n",
       "      <td>2012</td>\n",
       "    </tr>\n",
       "  </tbody>\n",
       "</table>\n",
       "</div>"
      ],
      "text/plain": [
       "   color consumed_in country                              name price   region  \\\n",
       "6      R        2015      US                               #14    21   Oregon   \n",
       "10     R        2015   Italy                   Rosso Dei Poggi    12  Tuscany   \n",
       "13     R        2015   Italy               Rosso Di Montalcino    15  Tuscany   \n",
       "14     W        2013  France  Sancerre Cuvee Des Moulins Bales    12    Loire   \n",
       "15     R        2013      US                            Meiomi    13     Napa   \n",
       "\n",
       "   score vintage  \n",
       "6    2.5    2013  \n",
       "10     3    2012  \n",
       "13   3.5    2012  \n",
       "14     3    2012  \n",
       "15     3    2012  "
      ]
     },
     "execution_count": 36,
     "metadata": {},
     "output_type": "execute_result"
    }
   ],
   "source": [
    "import numpy as np\n",
    "df_null = df.replace(to_replace='', value=np.nan)\n",
    "df_null.columns = [x.replace(' ','_').lower() for x in df_null.columns]\n",
    "\n",
    "#print df_null.isnull().sum()\n",
    "# $print df_null.info()\n",
    "\n",
    "# grape field is missing too much, will ignore. \n",
    "# vineyard is missing too much will ignore\n",
    "# will drop all other fields\n",
    "\n",
    "keep_columns = [x for x in df_null.columns if x not in ['grape','vinyard'] ]\n",
    "df_clean = df_null[keep_columns].copy()\n",
    "df_clean.dropna(inplace=True)\n",
    "print df_clean.info()\n",
    "df_clean.describe()\n",
    "df_clean.head()"
   ]
  },
  {
   "cell_type": "markdown",
   "metadata": {},
   "source": [
    "## Exercise 4: Feature Extraction\n",
    "\n",
    "We would like to use a regression tree to predict the score of a wine. In order to do that, we first need to select and engineer appropriate features.\n",
    "\n",
    "1. set the target to be the Score column, drop the rows with no score\n",
    "- use pd.get_dummies to create dummy features for all the text columns\n",
    "- fill the nan values in the numerical columns, using an appropriate method\n",
    "- train a Decision tree regressor on the Score, using a train test split:\n",
    "        X_train, X_test, y_train, y_test, = train_test_split(X, y, test_size=0.3, random_state=42)\n",
    "- plot the test values, the predicted values and the residuals\n",
    "- calculate R^2 score\n",
    "- discuss your findings\n"
   ]
  },
  {
   "cell_type": "code",
   "execution_count": null,
   "metadata": {
    "collapsed": false
   },
   "outputs": [],
   "source": []
  },
  {
   "cell_type": "markdown",
   "metadata": {},
   "source": [
    "## Exercise 5: IMDB Movies\n",
    "\n",
    "Sometimes an API doesn't provide all the information we would like to get and we need to be creative.\n",
    "Here we will use a combination of scraping and API calls to investigate the ratings and gross earnings of famous movies."
   ]
  },
  {
   "cell_type": "markdown",
   "metadata": {
    "collapsed": true
   },
   "source": [
    "## 5.a Get top movies\n",
    "\n",
    "The Internet Movie Database contains data about movies. Unfortunately it does not have a public API.\n",
    "\n",
    "The page http://www.imdb.com/chart/top contains the list of the top 250 movies of all times. Retrieve the page using the requests library and then parse the html to obtain a list of the `movie_ids` for these movies. You can parse it with regular expression or using a library like `BeautifulSoup`.\n",
    "\n",
    "**Hint:** movie_ids look like this: `tt2582802`"
   ]
  },
  {
   "cell_type": "code",
   "execution_count": 37,
   "metadata": {
    "collapsed": false
   },
   "outputs": [],
   "source": [
    "webpath='http://www.imdb.com/chart/top'\n",
    "response = requests.get(webpath)\n",
    "HTML = response.text  \n"
   ]
  },
  {
   "cell_type": "code",
   "execution_count": 58,
   "metadata": {
    "collapsed": false
   },
   "outputs": [
    {
     "name": "stdout",
     "output_type": "stream",
     "text": [
      "['tt0111161', 'tt0068646', 'tt0071562', 'tt0468569', 'tt0108052', 'tt0050083', 'tt0110912', 'tt0167260', 'tt0060196', 'tt0137523', 'tt0120737', 'tt0080684', 'tt0109830', 'tt1375666', 'tt0167261', 'tt0073486', 'tt0099685', 'tt0133093', 'tt0047478', 'tt0076759', 'tt0317248', 'tt0114369', 'tt0102926', 'tt0038650', 'tt0114814', 'tt0118799', 'tt0110413', 'tt0064116', 'tt0245429', 'tt0120815', 'tt0120586', 'tt0034583', 'tt0816692', 'tt0054215', 'tt0021749', 'tt0082971', 'tt0027977', 'tt1675434', 'tt0120689', 'tt0047396', 'tt0103064', 'tt0407887', 'tt0253474', 'tt0088763', 'tt2582802', 'tt0172495', 'tt0209144', 'tt0078788', 'tt0482571', 'tt0110357', 'tt0057012', 'tt0043014', 'tt0078748', 'tt0032553', 'tt0405094', 'tt0095765', 'tt0050825', 'tt1853728', 'tt0081505', 'tt0095327', 'tt0910970', 'tt1345836', 'tt0169547', 'tt0119698', 'tt0090605', 'tt0364569', 'tt0033467', 'tt0087843', 'tt0082096', 'tt0053125', 'tt0052357', 'tt0051201', 'tt0086190', 'tt0022100', 'tt0105236', 'tt0112573', 'tt0211915', 'tt0180093', 'tt0066921', 'tt0075314', 'tt0036775', 'tt0056172', 'tt0435761', 'tt0056592', 'tt0338013', 'tt0086879', 'tt0093058', 'tt0070735', 'tt0062622', 'tt0040522', 'tt0114709', 'tt0045152', 'tt0208092', 'tt0361748', 'tt0012349', 'tt0071853', 'tt0119488', 'tt0059578', 'tt0042876', 'tt0053604', 'tt0086250', 'tt0097576', 'tt1832382', 'tt1187043', 'tt0017136', 'tt2106476', 'tt0055630', 'tt0042192', 'tt0119217', 'tt0372784', 'tt0040897', 'tt0053291', 'tt1049413', 'tt0105695', 'tt0041959', 'tt0363163', 'tt0081398', 'tt0118849', 'tt0095016', 'tt2096673', 'tt0057115', 'tt0071315', 'tt0113277', 'tt0457430', 'tt3170832', 'tt0019254', 'tt0047296', 'tt0096283', 'tt0044741', 'tt0089881', 'tt0015864', 'tt0031679', 'tt0050212', 'tt1305806', 'tt0083658', 'tt0050976', 'tt0120735', 'tt0347149', 'tt0112641', 'tt0018455', 'tt0017925', 'tt0050986', 'tt0055031', 'tt0080678', 'tt1291584', 'tt0268978', 'tt0993846', 'tt0434409', 'tt1255953', 'tt0046438', 'tt2488496', 'tt1205489', 'tt0118715', 'tt0077416', 'tt0046912', 'tt0117951', 'tt0116282', 'tt0031381', 'tt0032976', 'tt0061512', 'tt0892769', 'tt0266543', 'tt0167404', 'tt0074896', 'tt0084787', 'tt0477348', 'tt0091251', 'tt0758758', 'tt0978762', 'tt2267998', 'tt0266697', 'tt0025316', 'tt0469494', 'tt0079470', 'tt1979320', 'tt0050783', 'tt0395169', 'tt0091763', 'tt0046268', 'tt3498820', 'tt0033870', 'tt0074958', 'tt1895587', 'tt0064115', 'tt1392190', 'tt1130884', 'tt0053198', 'tt0092005', 'tt0107207', 'tt2948356', 'tt0060827', 'tt2024544', 'tt2278388', 'tt0245712', 'tt3011894', 'tt0405159', 'tt0052618', 'tt0093779', 'tt0052311', 'tt0107290', 'tt1028532', 'tt0087544', 'tt0032551', 'tt0075686', 'tt0079944', 'tt0353969', 'tt0112471', 'tt0120382', 'tt0440963', 'tt0083987', 'tt0046911', 'tt0246578', 'tt0075148', 'tt0056801', 'tt1201607', 'tt0198781', 'tt0032138', 'tt0088247', 'tt1431045', 'tt0114746', 'tt0107048', 'tt0036868', 'tt1663202', 'tt0338564', 'tt0073195', 'tt0044079', 'tt0113247', 'tt0401792', 'tt1392214', 'tt0072684', 'tt0041546', 'tt0058946', 'tt0264464', 'tt0072890', 'tt3659388', 'tt1220719', 'tt0325980', 'tt2084970', 'tt1454029', 'tt0083922', 'tt1954470', 'tt0092067', 'tt0058461', 'tt2015381', 'tt0046250', 'tt0848228', 'tt1504320', 'tt2758880', 'tt0050613', 'tt0044706']\n"
     ]
    }
   ],
   "source": [
    "\n",
    "rows = Selector(text=HTML).xpath('//tr').extract()\n",
    "data = [ Selector(text=r).xpath('//div/@data-titleid').extract() for r in rows]\n",
    "\n",
    "data = [x[0].encode('utf-8') for x in data if len(x)> 0]\n",
    "\n",
    "print data\n",
    " "
   ]
  },
  {
   "cell_type": "markdown",
   "metadata": {},
   "source": [
    "## 5.b Get top movies data\n",
    "\n",
    "Although the Internet Movie Database does not have a public API, an open API exists at http://www.omdbapi.com.\n",
    "\n",
    "Use this API to retrieve information about each of the 250 movies you have extracted in the previous step.\n",
    "1. Check the documentation of omdbapi.com to learn how to request movie data by id\n",
    "- define a function that returns a python object with all the information for a given id\n",
    "- iterate on all the IDs and store the results in a list of such objects\n",
    "- create a Pandas Dataframe from the list"
   ]
  },
  {
   "cell_type": "code",
   "execution_count": null,
   "metadata": {
    "collapsed": false
   },
   "outputs": [],
   "source": [
    "\"http://www.omdbapi.com/?t=avengers&y=2015&plot=short&r=json\"\n",
    "'http://img.omdbapi.com/?apikey=[yourkey]&'\n",
    "\n",
    "datalist = []\n",
    "for y in data:\n",
    "    webpath='http://www.omdbapi.com/?i='+y+'&r=json'\n",
    "    response = requests.get(webpath)\n",
    "    HTML = response.text\n",
    "    datalist.append(HTML)\n"
   ]
  },
  {
   "cell_type": "code",
   "execution_count": null,
   "metadata": {
    "collapsed": true
   },
   "outputs": [],
   "source": []
  },
  {
   "cell_type": "markdown",
   "metadata": {},
   "source": [
    "## 5.c Get gross data\n",
    "\n",
    "The OMDB API is great, but it does not provide information about Gross Revenue of the movie. We'll revert back to scraping for this.\n",
    "\n",
    "1. Write a function that retrieves the gross revenue from the entry page at imdb.com\n",
    "- the function should handle the exception of when the page doesn't report gross revenue\n",
    "- retrieve the gross revenue for each movie and store it in a separate dataframe"
   ]
  },
  {
   "cell_type": "code",
   "execution_count": null,
   "metadata": {
    "collapsed": false
   },
   "outputs": [],
   "source": []
  },
  {
   "cell_type": "markdown",
   "metadata": {},
   "source": [
    "## 5.d Data munging\n",
    "\n",
    "1. Now that you have movie information and gross revenue information, let's clean the two datasets.\n",
    "- check if there are null values. Be careful they may appear to be valid strings.\n",
    "- convert the columns to the appropriate formats. In particular handle:\n",
    "    - Released\n",
    "    - Runtime\n",
    "    - year\n",
    "    - imdbRating\n",
    "    - imdbVotes\n",
    "- merge the data from the two datasets into a single one"
   ]
  },
  {
   "cell_type": "code",
   "execution_count": null,
   "metadata": {
    "collapsed": false
   },
   "outputs": [],
   "source": []
  },
  {
   "cell_type": "markdown",
   "metadata": {},
   "source": [
    "## 5.d Text vectorization\n",
    "\n",
    "There are several columns in the data that contain a comma separated list of items, for example the Genre column and the Actors column. Let's transform those to binary columns using the count vectorizer from scikit learn.\n",
    "\n",
    "Append these columns to the merged dataframe.\n",
    "\n",
    "**Hint:** In order to get the actors name right, you'll have to modify the `token_pattern` in the `CounteVectorizer`."
   ]
  },
  {
   "cell_type": "code",
   "execution_count": null,
   "metadata": {
    "collapsed": true
   },
   "outputs": [],
   "source": []
  },
  {
   "cell_type": "markdown",
   "metadata": {},
   "source": [
    "## Bonus: Final Questions:\n",
    "\n",
    "1. what are the top 10 grossing movies?\n",
    "- who are the 10 actors that appear in the most movies?\n",
    "- what's the average grossing of the movies in which each of these actors appear?\n",
    "- what genre is the oldest movie?\n"
   ]
  },
  {
   "cell_type": "code",
   "execution_count": null,
   "metadata": {
    "collapsed": false
   },
   "outputs": [],
   "source": []
  }
 ],
 "metadata": {
  "anaconda-cloud": {},
  "kernelspec": {
   "display_name": "Python [dsi]",
   "language": "python",
   "name": "Python [dsi]"
  },
  "language_info": {
   "codemirror_mode": {
    "name": "ipython",
    "version": 2
   },
   "file_extension": ".py",
   "mimetype": "text/x-python",
   "name": "python",
   "nbconvert_exporter": "python",
   "pygments_lexer": "ipython2",
   "version": "2.7.12"
  }
 },
 "nbformat": 4,
 "nbformat_minor": 0
}
