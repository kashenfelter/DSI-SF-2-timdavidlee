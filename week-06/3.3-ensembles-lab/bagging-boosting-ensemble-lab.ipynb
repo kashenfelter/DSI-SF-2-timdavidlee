{
 "cells": [
  {
   "cell_type": "markdown",
   "metadata": {},
   "source": [
    "# Bagging and Boosting Lab\n",
    "\n",
    "In this lab we will practice using Bagging and Boosting models on a dataset of your choice.\n",
    "\n",
    "---\n",
    "\n",
    "For this lab you should choose datasets in the past that have given you trouble with other models or that you are otherwise interested in looking at with bagging and boosting. The goal is so you get an idea for how they perform compared to more conventional regressions and classifiers."
   ]
  },
  {
   "cell_type": "markdown",
   "metadata": {},
   "source": [
    "## 1. Load and inspect the data\n",
    "\n",
    "Load a dataset or datasets that you have been difficult to get results on in the past, either from labs or projects.\n",
    "\n",
    "---\n",
    "\n",
    "### 1.1 Inspect the data and create and X, y  classification and for regression\n"
   ]
  },
  {
   "cell_type": "code",
   "execution_count": 1,
   "metadata": {
    "collapsed": false
   },
   "outputs": [],
   "source": [
    "import pandas as pd\n",
    "import numpy as np\n",
    "import patsy\n",
    "\n",
    "import matplotlib.pyplot as plt\n",
    "import seaborn as sns\n",
    "%matplotlib inline"
   ]
  },
  {
   "cell_type": "code",
   "execution_count": 2,
   "metadata": {
    "collapsed": true
   },
   "outputs": [],
   "source": [
    "datapath = '/Users/tlee010/desktop/dsi-sf-2-timdavidlee/datasets/data_for_diplomas/grad_train.csv'"
   ]
  },
  {
   "cell_type": "code",
   "execution_count": 3,
   "metadata": {
    "collapsed": false
   },
   "outputs": [
    {
     "data": {
      "text/html": [
       "<div>\n",
       "<table border=\"1\" class=\"dataframe\">\n",
       "  <thead>\n",
       "    <tr style=\"text-align: right;\">\n",
       "      <th></th>\n",
       "      <th>leaid11</th>\n",
       "      <th>STNAM</th>\n",
       "      <th>FIPST</th>\n",
       "      <th>leanm11</th>\n",
       "      <th>ALL_COHORT_1112</th>\n",
       "      <th>ALL_RATE_1112</th>\n",
       "      <th>MAM_COHORT_1112</th>\n",
       "      <th>MAM_RATE_1112</th>\n",
       "      <th>MAS_COHORT_1112</th>\n",
       "      <th>MAS_RATE_1112</th>\n",
       "      <th>...</th>\n",
       "      <th>pct_TEA_Update_Leave_CEN_2010</th>\n",
       "      <th>pct_Census_Mail_Returns_CEN_2010</th>\n",
       "      <th>pct_Vacant_CEN_2010</th>\n",
       "      <th>pct_Deletes_CEN_2010</th>\n",
       "      <th>pct_Census_UAA_CEN_2010</th>\n",
       "      <th>pct_Mailback_Count_CEN_2010</th>\n",
       "      <th>pct_FRST_FRMS_CEN_2010</th>\n",
       "      <th>pct_RPLCMNT_FRMS_CEN_2010</th>\n",
       "      <th>pct_BILQ_Mailout_count_CEN_2010</th>\n",
       "      <th>grad_pct_from_mean</th>\n",
       "    </tr>\n",
       "  </thead>\n",
       "  <tbody>\n",
       "    <tr>\n",
       "      <th>0</th>\n",
       "      <td>1808340</td>\n",
       "      <td>INDIANA</td>\n",
       "      <td>18</td>\n",
       "      <td>Oak Hill United School Corp</td>\n",
       "      <td>115</td>\n",
       "      <td>92.0</td>\n",
       "      <td>1.0</td>\n",
       "      <td>PS</td>\n",
       "      <td>NaN</td>\n",
       "      <td>NaN</td>\n",
       "      <td>...</td>\n",
       "      <td>20.98</td>\n",
       "      <td>75.83</td>\n",
       "      <td>4.10</td>\n",
       "      <td>0.25</td>\n",
       "      <td>8.08</td>\n",
       "      <td>87.56</td>\n",
       "      <td>75.83</td>\n",
       "      <td>0.00</td>\n",
       "      <td>0.00</td>\n",
       "      <td>10.791194</td>\n",
       "    </tr>\n",
       "    <tr>\n",
       "      <th>1</th>\n",
       "      <td>4831040</td>\n",
       "      <td>TEXAS</td>\n",
       "      <td>48</td>\n",
       "      <td>MISSION CISD</td>\n",
       "      <td>840</td>\n",
       "      <td>86.0</td>\n",
       "      <td>NaN</td>\n",
       "      <td>NaN</td>\n",
       "      <td>NaN</td>\n",
       "      <td>NaN</td>\n",
       "      <td>...</td>\n",
       "      <td>0.00</td>\n",
       "      <td>65.85</td>\n",
       "      <td>5.47</td>\n",
       "      <td>0.00</td>\n",
       "      <td>9.81</td>\n",
       "      <td>84.72</td>\n",
       "      <td>59.46</td>\n",
       "      <td>6.40</td>\n",
       "      <td>99.08</td>\n",
       "      <td>3.565682</td>\n",
       "    </tr>\n",
       "    <tr>\n",
       "      <th>2</th>\n",
       "      <td>4824150</td>\n",
       "      <td>TEXAS</td>\n",
       "      <td>48</td>\n",
       "      <td>INDUSTRIAL ISD</td>\n",
       "      <td>83</td>\n",
       "      <td>95.0</td>\n",
       "      <td>NaN</td>\n",
       "      <td>NaN</td>\n",
       "      <td>1.0</td>\n",
       "      <td>PS</td>\n",
       "      <td>...</td>\n",
       "      <td>31.20</td>\n",
       "      <td>57.97</td>\n",
       "      <td>9.41</td>\n",
       "      <td>2.05</td>\n",
       "      <td>10.97</td>\n",
       "      <td>77.57</td>\n",
       "      <td>57.97</td>\n",
       "      <td>0.00</td>\n",
       "      <td>0.00</td>\n",
       "      <td>14.403951</td>\n",
       "    </tr>\n",
       "    <tr>\n",
       "      <th>3</th>\n",
       "      <td>3612510</td>\n",
       "      <td>NEW YORK</td>\n",
       "      <td>36</td>\n",
       "      <td>GREAT NECK UNION FREE SCHOOL DISTRICT</td>\n",
       "      <td>618</td>\n",
       "      <td>95.0</td>\n",
       "      <td>NaN</td>\n",
       "      <td>NaN</td>\n",
       "      <td>147.0</td>\n",
       "      <td>GE95</td>\n",
       "      <td>...</td>\n",
       "      <td>0.00</td>\n",
       "      <td>61.89</td>\n",
       "      <td>2.85</td>\n",
       "      <td>0.00</td>\n",
       "      <td>5.77</td>\n",
       "      <td>91.38</td>\n",
       "      <td>61.89</td>\n",
       "      <td>0.00</td>\n",
       "      <td>0.00</td>\n",
       "      <td>14.403951</td>\n",
       "    </tr>\n",
       "    <tr>\n",
       "      <th>4</th>\n",
       "      <td>2803720</td>\n",
       "      <td>MISSISSIPPI</td>\n",
       "      <td>28</td>\n",
       "      <td>POPLARVILLE SEPARATE SCHOOL DIST</td>\n",
       "      <td>160</td>\n",
       "      <td>87.0</td>\n",
       "      <td>NaN</td>\n",
       "      <td>NaN</td>\n",
       "      <td>NaN</td>\n",
       "      <td>NaN</td>\n",
       "      <td>...</td>\n",
       "      <td>0.00</td>\n",
       "      <td>62.66</td>\n",
       "      <td>6.49</td>\n",
       "      <td>0.00</td>\n",
       "      <td>16.61</td>\n",
       "      <td>76.90</td>\n",
       "      <td>57.20</td>\n",
       "      <td>5.46</td>\n",
       "      <td>0.00</td>\n",
       "      <td>4.769934</td>\n",
       "    </tr>\n",
       "  </tbody>\n",
       "</table>\n",
       "<p>5 rows × 580 columns</p>\n",
       "</div>"
      ],
      "text/plain": [
       "   leaid11        STNAM  FIPST                                leanm11  \\\n",
       "0  1808340      INDIANA     18            Oak Hill United School Corp   \n",
       "1  4831040        TEXAS     48                           MISSION CISD   \n",
       "2  4824150        TEXAS     48                         INDUSTRIAL ISD   \n",
       "3  3612510     NEW YORK     36  GREAT NECK UNION FREE SCHOOL DISTRICT   \n",
       "4  2803720  MISSISSIPPI     28       POPLARVILLE SEPARATE SCHOOL DIST   \n",
       "\n",
       "   ALL_COHORT_1112  ALL_RATE_1112  MAM_COHORT_1112 MAM_RATE_1112  \\\n",
       "0              115           92.0              1.0            PS   \n",
       "1              840           86.0              NaN           NaN   \n",
       "2               83           95.0              NaN           NaN   \n",
       "3              618           95.0              NaN           NaN   \n",
       "4              160           87.0              NaN           NaN   \n",
       "\n",
       "   MAS_COHORT_1112 MAS_RATE_1112        ...          \\\n",
       "0              NaN           NaN        ...           \n",
       "1              NaN           NaN        ...           \n",
       "2              1.0            PS        ...           \n",
       "3            147.0          GE95        ...           \n",
       "4              NaN           NaN        ...           \n",
       "\n",
       "   pct_TEA_Update_Leave_CEN_2010 pct_Census_Mail_Returns_CEN_2010  \\\n",
       "0                          20.98                            75.83   \n",
       "1                           0.00                            65.85   \n",
       "2                          31.20                            57.97   \n",
       "3                           0.00                            61.89   \n",
       "4                           0.00                            62.66   \n",
       "\n",
       "   pct_Vacant_CEN_2010 pct_Deletes_CEN_2010  pct_Census_UAA_CEN_2010  \\\n",
       "0                 4.10                 0.25                     8.08   \n",
       "1                 5.47                 0.00                     9.81   \n",
       "2                 9.41                 2.05                    10.97   \n",
       "3                 2.85                 0.00                     5.77   \n",
       "4                 6.49                 0.00                    16.61   \n",
       "\n",
       "  pct_Mailback_Count_CEN_2010  pct_FRST_FRMS_CEN_2010  \\\n",
       "0                       87.56                   75.83   \n",
       "1                       84.72                   59.46   \n",
       "2                       77.57                   57.97   \n",
       "3                       91.38                   61.89   \n",
       "4                       76.90                   57.20   \n",
       "\n",
       "  pct_RPLCMNT_FRMS_CEN_2010  pct_BILQ_Mailout_count_CEN_2010  \\\n",
       "0                      0.00                             0.00   \n",
       "1                      6.40                            99.08   \n",
       "2                      0.00                             0.00   \n",
       "3                      0.00                             0.00   \n",
       "4                      5.46                             0.00   \n",
       "\n",
       "  grad_pct_from_mean  \n",
       "0          10.791194  \n",
       "1           3.565682  \n",
       "2          14.403951  \n",
       "3          14.403951  \n",
       "4           4.769934  \n",
       "\n",
       "[5 rows x 580 columns]"
      ]
     },
     "execution_count": 3,
     "metadata": {},
     "output_type": "execute_result"
    }
   ],
   "source": [
    "hs = pd.read_csv(datapath)\n",
    "hs.head(5)"
   ]
  },
  {
   "cell_type": "code",
   "execution_count": 13,
   "metadata": {
    "collapsed": false
   },
   "outputs": [
    {
     "name": "stdout",
     "output_type": "stream",
     "text": [
      "['MAM_COHORT_1112', 'MAM_RATE_1112', 'MAS_COHORT_1112', 'MAS_RATE_1112', 'MBL_COHORT_1112', 'MBL_RATE_1112', 'MHI_COHORT_1112', 'MHI_RATE_1112', 'MTR_COHORT_1112', 'MTR_RATE_1112', 'CWD_COHORT_1112', 'CWD_RATE_1112', 'ECD_COHORT_1112', 'ECD_RATE_1112', 'LEP_COHORT_1112', 'Flag', 'Med_House_value_ACSMOE_08_12', 'Aggr_House_Value_ACS_08_12', 'Aggr_House_Value_ACSMOE_08_12', 'Mail_Return_Rate_CEN_2010', 'pct_Civ_emp_65p_ACS_08_12', 'pct_Civ_emp_65p_ACSMOE_08_12', 'pct_Civ_unemp_65p_ACS_08_12', 'pct_Civ_unemp_65p_ACSMOE_08_12', 'pct_TEA_MailOutMailBack_CEN_2010', 'pct_TEA_Update_Leave_CEN_2010', 'pct_Census_Mail_Returns_CEN_2010', 'pct_Vacant_CEN_2010', 'pct_Deletes_CEN_2010', 'pct_Census_UAA_CEN_2010', 'pct_Mailback_Count_CEN_2010', 'pct_FRST_FRMS_CEN_2010', 'pct_RPLCMNT_FRMS_CEN_2010', 'pct_BILQ_Mailout_count_CEN_2010', 'leaid11', 'FIPST', 'leanm11', 'MAM_COHORT_1112', 'School.District', 'STNAM', 'MWH_RATE_1112', 'State_name', 'County_name', 'Not_HS_Grad_ACS_08_12', 'Not_HS_Grad_ACSMOE_08_12', 'pct_Not_HS_Grad_ACS_08_12', 'pct_Not_HS_Grad_ACSMOE_08_12', 'ALL_RATE_1112']\n"
     ]
    }
   ],
   "source": [
    "countz = hs.isnull().sum()\n",
    "exclude = countz[countz>100].index\n",
    "exclude = [x.encode('utf-8') for x in exclude]\n",
    "exclude.extend(['leaid11','FIPST','leanm11','MAM_COHORT_1112','School.District','STNAM','MWH_RATE_1112','State_name','County_name','Not_HS_Grad_ACS_08_12', 'Not_HS_Grad_ACSMOE_08_12', 'pct_Not_HS_Grad_ACS_08_12', 'pct_Not_HS_Grad_ACSMOE_08_12','ALL_RATE_1112'])\n",
    "print exclude\n"
   ]
  },
  {
   "cell_type": "code",
   "execution_count": 14,
   "metadata": {
    "collapsed": false
   },
   "outputs": [],
   "source": [
    "import patsy\n",
    "hsn = hs.drop(exclude,axis=1).copy()\n",
    "hsn.dropna(inplace=True)\n",
    "cols = ['Med_HHD_Inc_ACS_08_12','Med_HHD_Inc_ACSMOE_08_12','Aggregate_HH_INC_ACS_08_12','Aggregate_HH_INC_ACSMOE_08_12','Med_House_value_ACS_08_12']\n",
    "for i in cols:\n",
    "    hsn[i] = hsn[i].map(lambda x : float(x.replace('$','').replace(',','')))\n",
    "hsn.columns = [x.replace('.','_').replace(' ','_').replace('$','') for x in hsn.columns]\n",
    "#print hsn.shape\n",
    "#print hsn.isnull().sum()\n",
    "formula = 'grad_pct_from_mean ~' + '+'.join([x for x in hsn.columns if x!='grad_pct_from_mean'])\n",
    "#print formula\n",
    "\n",
    "#print hsn.head()\n",
    "\n",
    "y = hsn['grad_pct_from_mean']\n",
    "X = hsn[[x for x in hsn.columns if x!='grad_pct_from_mean']]\n",
    "\n"
   ]
  },
  {
   "cell_type": "code",
   "execution_count": 22,
   "metadata": {
    "collapsed": false
   },
   "outputs": [
    {
     "name": "stdout",
     "output_type": "stream",
     "text": [
      "0.173978157127\n",
      "0.194067133171 [ 0.22814344  0.2319013   0.25767163  0.15681795  0.09580134]\n"
     ]
    }
   ],
   "source": [
    "\n",
    "from sklearn.cross_validation import train_test_split, cross_val_score\n",
    "Xtrain, Xtest, ytrain,ytest = train_test_split(X,y,test_size = 0.2)\n",
    "\n",
    "from sklearn.linear_model import LinearRegression\n",
    "lm = LinearRegression()\n",
    "lm.fit(Xtrain,ytrain)\n",
    "print lm.score(Xtest,ytest)\n",
    "\n",
    "results = pd.DataFrame({'field':X.columns ,'coef':lm.coef_})\n",
    "results['abs_coef'] = abs(results['coef'])\n",
    "\n",
    "#print results.sort_values('abs_coef',ascending=False)\n",
    "\n",
    "cvscores = cross_val_score(lm,Xtrain,ytrain,cv=5)\n",
    "print np.mean(cvscores), cvscores\n"
   ]
  },
  {
   "cell_type": "code",
   "execution_count": 7,
   "metadata": {
    "collapsed": false
   },
   "outputs": [],
   "source": [
    "\n",
    "# for i,j in zip(hsn.dtypes.index, hsn.dtypes):\n",
    "#     if j not in ('int64','float64'):\n",
    "#         print i\n",
    "        \n",
    "# hsn[['Med_HHD_Inc_ACS_08_12','Med_HHD_Inc_ACSMOE_08_12','Aggregate_HH_INC_ACS_08_12','Aggregate_HH_INC_ACSMOE_08_12','Med_House_value_ACS_08_12']].head(5)\n"
   ]
  },
  {
   "cell_type": "code",
   "execution_count": null,
   "metadata": {
    "collapsed": false
   },
   "outputs": [],
   "source": []
  },
  {
   "cell_type": "markdown",
   "metadata": {},
   "source": [
    "---\n",
    "\n",
    "### 2. Decision Tree Regressor\n",
    "\n",
    "1. Train a decision tree regressor on the regression problem\n",
    "- Evaluate the score with a 5-fold cross-validation\n",
    "- How does this compare to the model you fit on this data previously?\n"
   ]
  },
  {
   "cell_type": "code",
   "execution_count": 23,
   "metadata": {
    "collapsed": false
   },
   "outputs": [
    {
     "name": "stdout",
     "output_type": "stream",
     "text": [
      "0.223485289533 [ 0.18575788  0.22478995  0.23737015  0.28104039  0.18846808]\n"
     ]
    },
    {
     "name": "stderr",
     "output_type": "stream",
     "text": [
      "[Parallel(n_jobs=1)]: Done   5 out of   5 | elapsed:   11.5s finished\n"
     ]
    }
   ],
   "source": [
    "from sklearn.tree import DecisionTreeRegressor\n",
    "from sklearn.cross_validation import cross_val_score\n",
    "\n",
    "dtr = DecisionTreeRegressor()\n",
    "score = cross_val_score(dtr,Xtrain,ytrain,cv=5,verbose=1)\n",
    "print np.mean(score), score\n"
   ]
  },
  {
   "cell_type": "markdown",
   "metadata": {},
   "source": [
    "---\n",
    "\n",
    "### 3. Random Forest Regressor\n",
    "\n",
    "1. Train a random forest regressor on the regression problem and predict your dependent.\n",
    "- Evaluate the score with a 5-fold cross-validation\n",
    "- How does this compare to the model you fit on this data previously? How does it compare to the single decision tree?"
   ]
  },
  {
   "cell_type": "code",
   "execution_count": 27,
   "metadata": {
    "collapsed": false
   },
   "outputs": [
    {
     "name": "stdout",
     "output_type": "stream",
     "text": [
      "0.586325170044 [ 0.56304297  0.60124244  0.59115898  0.60078408  0.57539738]\n"
     ]
    },
    {
     "name": "stderr",
     "output_type": "stream",
     "text": [
      "[Parallel(n_jobs=1)]: Done   5 out of   5 | elapsed:  3.6min finished\n"
     ]
    }
   ],
   "source": [
    "from sklearn.ensemble import RandomForestRegressor\n",
    "from sklearn.cross_validation import cross_val_score\n",
    "\n",
    "rfr = RandomForestRegressor(n_estimators=100,max_depth=5)\n",
    "score = cross_val_score(rfr,Xtrain,ytrain,cv=5,verbose=1)\n",
    "print np.mean(score), score"
   ]
  },
  {
   "cell_type": "markdown",
   "metadata": {},
   "source": [
    "---\n",
    "\n",
    "### 4. Extra Trees Regressor\n",
    "\n",
    "1. Train an extra trees regressor on the regression problem and predict your dependent.\n",
    "- Evaluate the score with a 5-fold cross-validation\n",
    "- How does this model compare with the others?"
   ]
  },
  {
   "cell_type": "code",
   "execution_count": 28,
   "metadata": {
    "collapsed": false
   },
   "outputs": [
    {
     "name": "stdout",
     "output_type": "stream",
     "text": [
      "0.423075533406 [ 0.3952221   0.45923148  0.44142336  0.39233393  0.42716681]\n"
     ]
    },
    {
     "name": "stderr",
     "output_type": "stream",
     "text": [
      "[Parallel(n_jobs=1)]: Done   5 out of   5 | elapsed:   25.4s finished\n"
     ]
    }
   ],
   "source": [
    "from sklearn.ensemble import ExtraTreesRegressor\n",
    "from sklearn.cross_validation import cross_val_score\n",
    "\n",
    "etr = ExtraTreesRegressor(n_estimators=100,max_depth=5)\n",
    "score = cross_val_score(etr,Xtrain,ytrain,cv=5,verbose=1)\n",
    "print np.mean(score), score"
   ]
  },
  {
   "cell_type": "markdown",
   "metadata": {},
   "source": [
    "---\n",
    "\n",
    "### 5. AdaBoost Classifier\n",
    "\n",
    "1. Train a AdaBoost classifier on your chosen classification problem.\n",
    "- Evaluate the classifier performance with a 5-fold cross-validation."
   ]
  },
  {
   "cell_type": "code",
   "execution_count": 30,
   "metadata": {
    "collapsed": false
   },
   "outputs": [
    {
     "name": "stdout",
     "output_type": "stream",
     "text": [
      "0.193950460096 [ 0.1391986   0.23947147  0.21241364  0.25907683  0.11959177]\n"
     ]
    },
    {
     "name": "stderr",
     "output_type": "stream",
     "text": [
      "[Parallel(n_jobs=1)]: Done   5 out of   5 | elapsed:  2.3min finished\n"
     ]
    }
   ],
   "source": [
    "from sklearn.ensemble import AdaBoostRegressor\n",
    "from sklearn.cross_validation import cross_val_score\n",
    "\n",
    "abr = AdaBoostRegressor(n_estimators=100)\n",
    "score = cross_val_score(abr,Xtrain,ytrain,cv=5,verbose=1)\n",
    "print np.mean(score), score"
   ]
  },
  {
   "cell_type": "code",
   "execution_count": null,
   "metadata": {
    "collapsed": true
   },
   "outputs": [],
   "source": []
  },
  {
   "cell_type": "markdown",
   "metadata": {},
   "source": [
    "---\n",
    "\n",
    "### 6. Gradient Boosted Trees Classifier\n",
    "\n",
    "\n",
    "1. Train a Gradient Boosting Trees classifier on your chosen classification problem.\n",
    "- Evaluate the score with a 5-fold cross-validation.\n",
    "- Compare with the AdaBoost score."
   ]
  },
  {
   "cell_type": "code",
   "execution_count": 32,
   "metadata": {
    "collapsed": false
   },
   "outputs": [
    {
     "name": "stdout",
     "output_type": "stream",
     "text": [
      "0.6424225408 [ 0.60374014  0.65563246  0.65986442  0.64248068  0.650395  ]\n"
     ]
    },
    {
     "name": "stderr",
     "output_type": "stream",
     "text": [
      "[Parallel(n_jobs=1)]: Done   5 out of   5 | elapsed:   55.0s finished\n"
     ]
    }
   ],
   "source": [
    "from sklearn.ensemble import GradientBoostingRegressor\n",
    "from sklearn.cross_validation import cross_val_score\n",
    "\n",
    "gbr = GradientBoostingRegressor(n_estimators=100)\n",
    "score = cross_val_score(gbr,Xtrain,ytrain,cv=5,verbose=1)\n",
    "print np.mean(score), score"
   ]
  },
  {
   "cell_type": "code",
   "execution_count": 37,
   "metadata": {
    "collapsed": false
   },
   "outputs": [
    {
     "name": "stdout",
     "output_type": "stream",
     "text": [
      "Fitting 5 folds for each of 5 candidates, totalling 25 fits\n",
      "[CV] n_estimators=100, max_depth=2 ...................................\n",
      "[CV] n_estimators=100, max_depth=2 ...................................\n",
      "[CV] n_estimators=100, max_depth=2 ...................................\n",
      "[CV] n_estimators=100, max_depth=2 ...................................\n",
      "[CV] n_estimators=100, max_depth=2 ...................................\n",
      "[CV] n_estimators=100, max_depth=4 ...................................\n",
      "[CV] n_estimators=100, max_depth=4 ...................................\n",
      "[CV] n_estimators=100, max_depth=4 ...................................\n",
      "[CV] .......................... n_estimators=100, max_depth=2 -  10.9s\n",
      "[CV] n_estimators=100, max_depth=4 ...................................\n",
      "[CV] .......................... n_estimators=100, max_depth=2 -  11.1s\n",
      "[CV] n_estimators=100, max_depth=4 ...................................\n",
      "[CV] .......................... n_estimators=100, max_depth=2 -  11.3s\n",
      "[CV] .......................... n_estimators=100, max_depth=2 -  11.2s\n",
      "[CV] .......................... n_estimators=100, max_depth=2 -  11.2s\n",
      "[CV] n_estimators=100, max_depth=6 ...................................\n",
      "[CV] n_estimators=100, max_depth=6 ...................................\n",
      "[CV] n_estimators=100, max_depth=6 ...................................\n",
      "[CV] .......................... n_estimators=100, max_depth=4 -  30.3s\n",
      "[CV] n_estimators=100, max_depth=6 ...................................\n",
      "[CV] .......................... n_estimators=100, max_depth=4 -  30.5s\n",
      "[CV] n_estimators=100, max_depth=6 ...................................\n",
      "[CV] .......................... n_estimators=100, max_depth=4 -  30.6s\n",
      "[CV] n_estimators=100, max_depth=8 ...................................\n",
      "[CV] .......................... n_estimators=100, max_depth=4 -  32.5s\n",
      "[CV] n_estimators=100, max_depth=8 ...................................\n",
      "[CV] .......................... n_estimators=100, max_depth=4 -  33.1s\n",
      "[CV] n_estimators=100, max_depth=8 ...................................\n",
      "[CV] .......................... n_estimators=100, max_depth=6 - 1.0min\n",
      "[CV] n_estimators=100, max_depth=8 ...................................\n",
      "[CV] .......................... n_estimators=100, max_depth=6 - 1.0min\n",
      "[CV] n_estimators=100, max_depth=8 ...................................\n",
      "[CV] .......................... n_estimators=100, max_depth=6 - 1.0min\n",
      "[CV] n_estimators=100, max_depth=10 ..................................\n",
      "[CV] .......................... n_estimators=100, max_depth=6 - 1.0min\n",
      "[CV] n_estimators=100, max_depth=10 ..................................\n",
      "[CV] .......................... n_estimators=100, max_depth=6 - 1.0min\n",
      "[CV] n_estimators=100, max_depth=10 ..................................\n",
      "[CV] .......................... n_estimators=100, max_depth=8 - 1.8min\n",
      "[CV] n_estimators=100, max_depth=10 ..................................\n",
      "[CV] .......................... n_estimators=100, max_depth=8 - 1.8min\n",
      "[CV] n_estimators=100, max_depth=10 ..................................\n",
      "[CV] .......................... n_estimators=100, max_depth=8 - 1.8min\n",
      "[CV] .......................... n_estimators=100, max_depth=8 - 1.7min\n",
      "[CV] .......................... n_estimators=100, max_depth=8 - 1.7min\n",
      "[CV] ......................... n_estimators=100, max_depth=10 - 2.6min\n",
      "[CV] ......................... n_estimators=100, max_depth=10 - 2.5min\n",
      "[CV] ......................... n_estimators=100, max_depth=10 - 2.5min\n",
      "[CV] ......................... n_estimators=100, max_depth=10 - 2.1min\n",
      "[CV] ......................... n_estimators=100, max_depth=10 - 2.1min\n"
     ]
    },
    {
     "name": "stderr",
     "output_type": "stream",
     "text": [
      "[Parallel(n_jobs=-1)]: Done  25 out of  25 | elapsed:  4.6min finished\n"
     ]
    }
   ],
   "source": [
    "params = {\n",
    "    'max_depth':[2,4,6,8,10]\n",
    "    , 'n_estimators':[100]\n",
    "}\n",
    "gbr = GradientBoostingRegressor()\n",
    "from sklearn.grid_search import GridSearchCV\n",
    "\n",
    "estimator = GridSearchCV(gbr,params, cv=5,verbose=2,n_jobs=-1)\n",
    "score = estimator.fit(Xtrain,ytrain)\n",
    "\n"
   ]
  },
  {
   "cell_type": "code",
   "execution_count": 39,
   "metadata": {
    "collapsed": false
   },
   "outputs": [
    {
     "name": "stdout",
     "output_type": "stream",
     "text": [
      "{'n_estimators': 100, 'max_depth': 6}\n",
      "0.650431259577\n"
     ]
    }
   ],
   "source": [
    "print estimator.best_params_\n",
    "print estimator.best_score_"
   ]
  },
  {
   "cell_type": "code",
   "execution_count": 41,
   "metadata": {
    "collapsed": false
   },
   "outputs": [],
   "source": [
    "gbr = GradientBoostingRegressor(max_depth=6,n_estimators=100, verbose=2)\n",
    "gbr.fit(Xtrain,ytrain)\n",
    "scores = gbr.score(Xtest,ytest)"
   ]
  },
  {
   "cell_type": "code",
   "execution_count": 42,
   "metadata": {
    "collapsed": false
   },
   "outputs": [
    {
     "name": "stdout",
     "output_type": "stream",
     "text": [
      "0.673652240231\n"
     ]
    }
   ],
   "source": [
    "print scores"
   ]
  },
  {
   "cell_type": "markdown",
   "metadata": {},
   "source": [
    "### 7. [BONUS] Use gridsearch to fine-tune models of your choice.\n",
    "\n",
    "1. What are the best parameters found with the gridsearch?\n",
    "2. How does the best score compare to the model(s) without cross-validation?\n",
    "\n",
    "**Be careful with many parameters! It can go slow.**"
   ]
  },
  {
   "cell_type": "code",
   "execution_count": null,
   "metadata": {
    "collapsed": true
   },
   "outputs": [],
   "source": []
  }
 ],
 "metadata": {
  "kernelspec": {
   "display_name": "Python [dsi]",
   "language": "python",
   "name": "Python [dsi]"
  },
  "language_info": {
   "codemirror_mode": {
    "name": "ipython",
    "version": 2
   },
   "file_extension": ".py",
   "mimetype": "text/x-python",
   "name": "python",
   "nbconvert_exporter": "python",
   "pygments_lexer": "ipython2",
   "version": "2.7.12"
  }
 },
 "nbformat": 4,
 "nbformat_minor": 0
}
