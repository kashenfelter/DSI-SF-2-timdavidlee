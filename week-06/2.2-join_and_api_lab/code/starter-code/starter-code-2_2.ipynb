{
 "cells": [
  {
   "cell_type": "markdown",
   "metadata": {},
   "source": [
    "# APIs and SQL Joins Lab\n",
    "\n",
    "The city of San Francisco wants to assess the quality of restaurants in the city. Their data is scattered across multiple sources and incomplete.\n",
    "\n",
    "They tasked you to help them assess it.\n",
    "\n",
    "They would like to know what the most common violations are where they happen most frequently."
   ]
  },
  {
   "cell_type": "markdown",
   "metadata": {},
   "source": [
    "## 1. Initial data inspection\n",
    "\n",
    "To answer the question we will need to retrieve and merge data from multiple files.\n",
    "\n",
    "Yelp provides data on food quality, that can be found at [this address](http://www.yelp.com/healthscores/feeds). We already downloaded 4 files that you can find in the [assets folder](../../assets/datasets/yelp/).\n",
    "\n",
    "In the bonus part we will also use the Google Geocoding API and data on [Neighborhoods](https://www.google.com/fusiontables/DataSource?docid=1zNwsvTwj-dH0QxuuDrKFsyfNklajd7WwEyaZ2U9M#rows:id=1).\n",
    "\n",
    "1. Open each of the files and inspect them visually\n",
    "- What information do they contain?"
   ]
  },
  {
   "cell_type": "code",
   "execution_count": 28,
   "metadata": {
    "collapsed": false
   },
   "outputs": [
    {
     "name": "stdout",
     "output_type": "stream",
     "text": [
      "(6162, 9) (15431, 4) (4, 3) (39917, 3)\n"
     ]
    }
   ],
   "source": [
    "#!ls ../../assets/datasets/yelp\n",
    "path = '../../assets/datasets/yelp/businesses.csv'\n",
    "bizpath = '../../assets/datasets/yelp/businesses.csv'\n",
    "insppath ='../../assets/datasets/yelp/inspections.csv'\n",
    "legpath ='../../assets/datasets/yelp/legend.csv'\n",
    "violpath ='../../assets/datasets/yelp/violations.csv'\n",
    "\n",
    "biz = pd.read_csv(bizpath, encoding=\"latin1\")\n",
    "insp = pd.read_csv(insppath, encoding=\"utf-8\")\n",
    "leg = pd.read_csv(legpath, encoding=\"utf-8\")\n",
    "viol = pd.read_csv(violpath, encoding=\"utf-8\")\n",
    "\n",
    "print biz.shape, insp.shape, leg.shape, viol.shape"
   ]
  },
  {
   "cell_type": "code",
   "execution_count": 23,
   "metadata": {
    "collapsed": false
   },
   "outputs": [
    {
     "data": {
      "text/html": [
       "<div>\n",
       "<table border=\"1\" class=\"dataframe\">\n",
       "  <thead>\n",
       "    <tr style=\"text-align: right;\">\n",
       "      <th></th>\n",
       "      <th>business_id</th>\n",
       "      <th>name</th>\n",
       "      <th>address</th>\n",
       "      <th>city</th>\n",
       "      <th>state</th>\n",
       "      <th>postal_code</th>\n",
       "      <th>latitude</th>\n",
       "      <th>longitude</th>\n",
       "      <th>phone_number</th>\n",
       "    </tr>\n",
       "  </thead>\n",
       "  <tbody>\n",
       "    <tr>\n",
       "      <th>0</th>\n",
       "      <td>10</td>\n",
       "      <td>TIRAMISU KITCHEN</td>\n",
       "      <td>033 BELDEN PL</td>\n",
       "      <td>San Francisco</td>\n",
       "      <td>CA</td>\n",
       "      <td>94104</td>\n",
       "      <td>37.791116</td>\n",
       "      <td>-122.403816</td>\n",
       "      <td>+14154217044</td>\n",
       "    </tr>\n",
       "    <tr>\n",
       "      <th>1</th>\n",
       "      <td>19</td>\n",
       "      <td>NRGIZE LIFESTYLE CAFE</td>\n",
       "      <td>1200 VAN NESS AVE, 3RD FLOOR</td>\n",
       "      <td>San Francisco</td>\n",
       "      <td>CA</td>\n",
       "      <td>94109</td>\n",
       "      <td>37.786848</td>\n",
       "      <td>-122.421547</td>\n",
       "      <td>+14157763262</td>\n",
       "    </tr>\n",
       "    <tr>\n",
       "      <th>2</th>\n",
       "      <td>24</td>\n",
       "      <td>OMNI S.F. HOTEL - 2ND FLOOR PANTRY</td>\n",
       "      <td>500 CALIFORNIA ST, 2ND  FLOOR</td>\n",
       "      <td>San Francisco</td>\n",
       "      <td>CA</td>\n",
       "      <td>94104</td>\n",
       "      <td>37.792888</td>\n",
       "      <td>-122.403135</td>\n",
       "      <td>+14156779494</td>\n",
       "    </tr>\n",
       "    <tr>\n",
       "      <th>3</th>\n",
       "      <td>31</td>\n",
       "      <td>NORMAN'S ICE CREAM AND FREEZES</td>\n",
       "      <td>2801 LEAVENWORTH ST</td>\n",
       "      <td>San Francisco</td>\n",
       "      <td>CA</td>\n",
       "      <td>94133</td>\n",
       "      <td>37.807155</td>\n",
       "      <td>-122.419004</td>\n",
       "      <td>NaN</td>\n",
       "    </tr>\n",
       "    <tr>\n",
       "      <th>4</th>\n",
       "      <td>45</td>\n",
       "      <td>CHARLIE'S DELI CAFE</td>\n",
       "      <td>3202 FOLSOM ST</td>\n",
       "      <td>San Francisco</td>\n",
       "      <td>CA</td>\n",
       "      <td>94110</td>\n",
       "      <td>37.747114</td>\n",
       "      <td>-122.413641</td>\n",
       "      <td>+14156415051</td>\n",
       "    </tr>\n",
       "  </tbody>\n",
       "</table>\n",
       "</div>"
      ],
      "text/plain": [
       "   business_id                                name  \\\n",
       "0           10                    TIRAMISU KITCHEN   \n",
       "1           19               NRGIZE LIFESTYLE CAFE   \n",
       "2           24  OMNI S.F. HOTEL - 2ND FLOOR PANTRY   \n",
       "3           31      NORMAN'S ICE CREAM AND FREEZES   \n",
       "4           45                 CHARLIE'S DELI CAFE   \n",
       "\n",
       "                         address           city state postal_code   latitude  \\\n",
       "0                  033 BELDEN PL  San Francisco    CA       94104  37.791116   \n",
       "1   1200 VAN NESS AVE, 3RD FLOOR  San Francisco    CA       94109  37.786848   \n",
       "2  500 CALIFORNIA ST, 2ND  FLOOR  San Francisco    CA       94104  37.792888   \n",
       "3           2801 LEAVENWORTH ST   San Francisco    CA       94133  37.807155   \n",
       "4                3202 FOLSOM ST   San Francisco    CA       94110  37.747114   \n",
       "\n",
       "    longitude  phone_number  \n",
       "0 -122.403816  +14154217044  \n",
       "1 -122.421547  +14157763262  \n",
       "2 -122.403135  +14156779494  \n",
       "3 -122.419004           NaN  \n",
       "4 -122.413641  +14156415051  "
      ]
     },
     "execution_count": 23,
     "metadata": {},
     "output_type": "execute_result"
    }
   ],
   "source": [
    "biz.head(5)\n",
    "\n"
   ]
  },
  {
   "cell_type": "code",
   "execution_count": 14,
   "metadata": {
    "collapsed": false
   },
   "outputs": [
    {
     "data": {
      "text/html": [
       "<div>\n",
       "<table border=\"1\" class=\"dataframe\">\n",
       "  <thead>\n",
       "    <tr style=\"text-align: right;\">\n",
       "      <th></th>\n",
       "      <th>business_id</th>\n",
       "      <th>score</th>\n",
       "      <th>date</th>\n",
       "      <th>type</th>\n",
       "    </tr>\n",
       "  </thead>\n",
       "  <tbody>\n",
       "    <tr>\n",
       "      <th>0</th>\n",
       "      <td>10</td>\n",
       "      <td>94</td>\n",
       "      <td>20140729</td>\n",
       "      <td>routine</td>\n",
       "    </tr>\n",
       "    <tr>\n",
       "      <th>1</th>\n",
       "      <td>10</td>\n",
       "      <td>92</td>\n",
       "      <td>20140114</td>\n",
       "      <td>routine</td>\n",
       "    </tr>\n",
       "    <tr>\n",
       "      <th>2</th>\n",
       "      <td>19</td>\n",
       "      <td>94</td>\n",
       "      <td>20141110</td>\n",
       "      <td>routine</td>\n",
       "    </tr>\n",
       "    <tr>\n",
       "      <th>3</th>\n",
       "      <td>19</td>\n",
       "      <td>94</td>\n",
       "      <td>20140214</td>\n",
       "      <td>routine</td>\n",
       "    </tr>\n",
       "    <tr>\n",
       "      <th>4</th>\n",
       "      <td>19</td>\n",
       "      <td>96</td>\n",
       "      <td>20130904</td>\n",
       "      <td>routine</td>\n",
       "    </tr>\n",
       "  </tbody>\n",
       "</table>\n",
       "</div>"
      ],
      "text/plain": [
       "   business_id  score      date     type\n",
       "0           10     94  20140729  routine\n",
       "1           10     92  20140114  routine\n",
       "2           19     94  20141110  routine\n",
       "3           19     94  20140214  routine\n",
       "4           19     96  20130904  routine"
      ]
     },
     "execution_count": 14,
     "metadata": {},
     "output_type": "execute_result"
    }
   ],
   "source": [
    "insp.head(5)"
   ]
  },
  {
   "cell_type": "code",
   "execution_count": 16,
   "metadata": {
    "collapsed": false
   },
   "outputs": [
    {
     "data": {
      "text/html": [
       "<div>\n",
       "<table border=\"1\" class=\"dataframe\">\n",
       "  <thead>\n",
       "    <tr style=\"text-align: right;\">\n",
       "      <th></th>\n",
       "      <th>Minimum_Score</th>\n",
       "      <th>Maximum_Score</th>\n",
       "      <th>Description</th>\n",
       "    </tr>\n",
       "  </thead>\n",
       "  <tbody>\n",
       "    <tr>\n",
       "      <th>0</th>\n",
       "      <td>0</td>\n",
       "      <td>70</td>\n",
       "      <td>Poor</td>\n",
       "    </tr>\n",
       "    <tr>\n",
       "      <th>1</th>\n",
       "      <td>71</td>\n",
       "      <td>85</td>\n",
       "      <td>Needs Improvement</td>\n",
       "    </tr>\n",
       "    <tr>\n",
       "      <th>2</th>\n",
       "      <td>86</td>\n",
       "      <td>90</td>\n",
       "      <td>Adequate</td>\n",
       "    </tr>\n",
       "    <tr>\n",
       "      <th>3</th>\n",
       "      <td>91</td>\n",
       "      <td>100</td>\n",
       "      <td>Good</td>\n",
       "    </tr>\n",
       "  </tbody>\n",
       "</table>\n",
       "</div>"
      ],
      "text/plain": [
       "   Minimum_Score  Maximum_Score        Description\n",
       "0              0             70               Poor\n",
       "1             71             85  Needs Improvement\n",
       "2             86             90           Adequate\n",
       "3             91            100               Good"
      ]
     },
     "execution_count": 16,
     "metadata": {},
     "output_type": "execute_result"
    }
   ],
   "source": [
    "leg.head(5)"
   ]
  },
  {
   "cell_type": "code",
   "execution_count": 17,
   "metadata": {
    "collapsed": false
   },
   "outputs": [
    {
     "data": {
      "text/html": [
       "<div>\n",
       "<table border=\"1\" class=\"dataframe\">\n",
       "  <thead>\n",
       "    <tr style=\"text-align: right;\">\n",
       "      <th></th>\n",
       "      <th>business_id</th>\n",
       "      <th>date</th>\n",
       "      <th>description</th>\n",
       "    </tr>\n",
       "  </thead>\n",
       "  <tbody>\n",
       "    <tr>\n",
       "      <th>0</th>\n",
       "      <td>10</td>\n",
       "      <td>20140729</td>\n",
       "      <td>Insufficient hot water or running water  [ dat...</td>\n",
       "    </tr>\n",
       "    <tr>\n",
       "      <th>1</th>\n",
       "      <td>10</td>\n",
       "      <td>20140729</td>\n",
       "      <td>Unapproved or unmaintained equipment or utensi...</td>\n",
       "    </tr>\n",
       "    <tr>\n",
       "      <th>2</th>\n",
       "      <td>10</td>\n",
       "      <td>20140114</td>\n",
       "      <td>Inadequate and inaccessible handwashing facili...</td>\n",
       "    </tr>\n",
       "    <tr>\n",
       "      <th>3</th>\n",
       "      <td>10</td>\n",
       "      <td>20140114</td>\n",
       "      <td>Unclean or degraded floors walls or ceilings  ...</td>\n",
       "    </tr>\n",
       "    <tr>\n",
       "      <th>4</th>\n",
       "      <td>10</td>\n",
       "      <td>20140114</td>\n",
       "      <td>Improper storage of equipment utensils or line...</td>\n",
       "    </tr>\n",
       "  </tbody>\n",
       "</table>\n",
       "</div>"
      ],
      "text/plain": [
       "   business_id      date                                        description\n",
       "0           10  20140729  Insufficient hot water or running water  [ dat...\n",
       "1           10  20140729  Unapproved or unmaintained equipment or utensi...\n",
       "2           10  20140114  Inadequate and inaccessible handwashing facili...\n",
       "3           10  20140114  Unclean or degraded floors walls or ceilings  ...\n",
       "4           10  20140114  Improper storage of equipment utensils or line..."
      ]
     },
     "execution_count": 17,
     "metadata": {},
     "output_type": "execute_result"
    }
   ],
   "source": [
    "viol.head(5)"
   ]
  },
  {
   "cell_type": "markdown",
   "metadata": {},
   "source": [
    "## 2. Local database\n",
    "\n",
    "The first step in our analysis is to import the data into a local PostgreSQL database.\n",
    "\n",
    "1. Connect to a local Postgres database and import the files to separate tables.\n",
    "\n",
    "**Hint:** The files are probably not encoded in utf8 and this could create a problem when importing the data into postgres. You can read more about encodings here: http://www.postgresql.org/docs/current/interactive/multibyte.html"
   ]
  },
  {
   "cell_type": "code",
   "execution_count": 18,
   "metadata": {
    "collapsed": false
   },
   "outputs": [],
   "source": [
    "import pandas as pd\n",
    "import numpy as np\n",
    "import matplotlib.pyplot as plt\n",
    "%matplotlib inline"
   ]
  },
  {
   "cell_type": "code",
   "execution_count": 29,
   "metadata": {
    "collapsed": false
   },
   "outputs": [],
   "source": [
    "import pandas as pd\n",
    "from sqlalchemy import create_engine\n",
    "\n",
    "# Connect to local database, dont' forget to run \"Postgresapp\" in OSX\n",
    "# Linux users should have this running already.\n",
    "# You need to run the postgresapp in order to connect to your local \"Postgres\" database\n",
    "engine = create_engine('postgresql://localhost:5432/northwind')\n",
    "\n",
    "# Note: If you've never created the databse \"northwind\" on your local instance,\n",
    "# you must connect to it via terminal (via: elephant icon in toolbar), and type:\n",
    "#\n",
    "# CREATE DATABASE northwind;\n",
    "#\n",
    "\n",
    "\n",
    "# Write businesses dataframe to local Postgres instance\n",
    "leg.to_sql(\"legend\", con=engine, if_exists=\"replace\")\n",
    "biz.to_sql(\"businesses\", con=engine, if_exists=\"replace\")\n",
    "viol.to_sql(\"violations\", con=engine, if_exists=\"replace\")\n",
    "insp.to_sql(\"inspections\", con=engine, if_exists=\"replace\")"
   ]
  },
  {
   "cell_type": "markdown",
   "metadata": {},
   "source": [
    "### 2.b Display the first few lines of each table"
   ]
  },
  {
   "cell_type": "code",
   "execution_count": 19,
   "metadata": {
    "collapsed": false
   },
   "outputs": [
    {
     "name": "stderr",
     "output_type": "stream",
     "text": [
      "/usr/local/lib/python2.7/site-packages/IPython/config.py:13: ShimWarning: The `IPython.config` package has been deprecated. You should import from traitlets.config instead.\n",
      "  \"You should import from traitlets.config instead.\", ShimWarning)\n",
      "/usr/local/lib/python2.7/site-packages/IPython/utils/traitlets.py:5: UserWarning: IPython.utils.traitlets has moved to a top-level traitlets package.\n",
      "  warn(\"IPython.utils.traitlets has moved to a top-level traitlets package.\")\n"
     ]
    }
   ],
   "source": [
    "%load_ext sql"
   ]
  },
  {
   "cell_type": "code",
   "execution_count": null,
   "metadata": {
    "collapsed": false
   },
   "outputs": [],
   "source": []
  },
  {
   "cell_type": "markdown",
   "metadata": {},
   "source": [
    "## 2.b Investigate violations\n",
    "\n",
    "Let's focus on the violations table initially.\n",
    "\n",
    "\n",
    "Answer these questions using sql:\n",
    "1. How many violations are there?\n",
    "- How many businesses committing violations?\n",
    "- What's the average number of violations per business?\n",
    "\n",
    "Answer these questions using python\n",
    "1. Draw a plot of the violations count\n",
    "- Is the average number of violations meaningful?\n",
    "- Draw a plot of the normalized cumulative violation counts. Can we discard the restaurants with few violations?\n",
    "- Where would you draw a threshold if you were to keep 90% of the violations?"
   ]
  },
  {
   "cell_type": "code",
   "execution_count": null,
   "metadata": {
    "collapsed": false
   },
   "outputs": [],
   "source": []
  },
  {
   "cell_type": "markdown",
   "metadata": {},
   "source": [
    "### 2.c Investigate Inspections\n",
    "\n",
    "In the previous step we looked at violations count. However we also have an inspection score available in the inspections table. Let's have a look at that too.\n",
    "\n",
    "Answer these questions using SQL:\n",
    "1. What's the average score for the whole city?\n",
    "1. What's the average score per business?\n",
    "- Does the score correlate with the number of inspections?\n",
    "- Create a dataframe from a table with the following columns:\n",
    "    business_id, average_score, number_of_inspections, number_of_violations\n",
    "- Use pandas to do a scatter matrix plot of average_score, number_of_inspections, number_of_violations to check for correlations"
   ]
  },
  {
   "cell_type": "code",
   "execution_count": null,
   "metadata": {
    "collapsed": false
   },
   "outputs": [],
   "source": []
  },
  {
   "cell_type": "markdown",
   "metadata": {},
   "source": [
    "## 3 Zipcode analysis\n",
    "\n",
    "The town administration would like to know which zip code are the ones where they should focus the inspections.\n",
    "\n",
    "Use the information contained in the `businesses` table as well as the previous tables to answer the following questions using SQL:\n",
    "\n",
    "1. Count the number of businesses per zipcode and sort them by descending order\n",
    "- Which are the top 5 zipcodes with the worst average score?\n",
    "    - restrict your analysis to the zipcodes with at least 50 businesses\n",
    "    - do a simple average of the inspections scores in the postal code\n",
    "- Which are the top 5 zipcodes with the highest number of violations per restaurant?\n",
    "    - restrict your  analysis to the zipcodes with at least 50 businesses\n"
   ]
  },
  {
   "cell_type": "code",
   "execution_count": null,
   "metadata": {
    "collapsed": false
   },
   "outputs": [],
   "source": []
  },
  {
   "cell_type": "markdown",
   "metadata": {},
   "source": [
    "## Final recommendation\n",
    "Give a final recommendation on which 2 zipcodes should the administration focus and choose an appropriate plot to convince them visually."
   ]
  },
  {
   "cell_type": "code",
   "execution_count": null,
   "metadata": {
    "collapsed": true
   },
   "outputs": [],
   "source": []
  },
  {
   "cell_type": "markdown",
   "metadata": {
    "collapsed": true
   },
   "source": [
    "## Bonus: Neighborhood data\n",
    "\n",
    "Instead of looking at zipcodes we may be interested in using Neighborhood names.\n",
    "\n",
    "It's beyond the scope of this lab to do a proper introduction to Geocoding and Reverse Geocoding, but we will give some pointers for further exploration.\n",
    "\n",
    "### 1. Google Geocoding API\n",
    "Have a look at:\n",
    "- https://developers.google.com/maps/documentation/geocoding/intro\n",
    "- https://maps.googleapis.com/maps/api/geocode/json?address=\n",
    "- https://maps.googleapis.com/maps/api/geocode/json?latlng=\n",
    "\n",
    "Through this API you can retrieve an address or a neighborhood from a lat-lon pair (reverse geocoding), or you can retrieve lat long and other information from an address (geocoding).\n",
    "\n",
    "1. Try experimenting with and retrieving a few addresses\n",
    "- Note that google imposes limits on the number of free queries\n",
    "- How many missing lat-lon pairs do we have?"
   ]
  },
  {
   "cell_type": "code",
   "execution_count": null,
   "metadata": {
    "collapsed": true
   },
   "outputs": [],
   "source": []
  },
  {
   "cell_type": "markdown",
   "metadata": {},
   "source": [
    "### Bonus 2\n",
    "The pycurl library seems to be faster than requests in getting information from the google api.\n",
    "\n",
    "1. See if you can extract the neighborhood from an address using the geocode api and a bit of json parsing\n",
    "- Note that you would surely hit the daily limit if you pulled each address' neighborhood from the api"
   ]
  },
  {
   "cell_type": "code",
   "execution_count": null,
   "metadata": {
    "collapsed": false
   },
   "outputs": [],
   "source": []
  },
  {
   "cell_type": "markdown",
   "metadata": {},
   "source": [
    "### Bonus 3\n",
    "We can find the neighborhood using the polygons associated to each of them.\n",
    "[Here](https://www.google.com/fusiontables/DataSource?docid=1zNwsvTwj-dH0QxuuDrKFsyfNklajd7WwEyaZ2U9M#rows:id=1) you can find these polygons (and we also copied them [locally](../../assets/datasets/sfneighborhoods.csv).\n",
    "\n",
    "[This article](http://streamhacker.com/2010/03/23/python-point-in-polygon-shapely/) describes how to use the shapely package to check if a point belongs to a polygon.\n",
    "\n",
    "- See if you can build a function that retrieves the neighborhood for a given address using the polygon data"
   ]
  },
  {
   "cell_type": "code",
   "execution_count": null,
   "metadata": {
    "collapsed": false
   },
   "outputs": [],
   "source": []
  },
  {
   "cell_type": "markdown",
   "metadata": {},
   "source": [
    "### Further exploration\n",
    "\n",
    "Postgres is actually GIS enabled, so we could do location based queries directly in the database.\n",
    "\n",
    "Have a look at http://postgis.refractions.net/ for more information."
   ]
  },
  {
   "cell_type": "code",
   "execution_count": null,
   "metadata": {
    "collapsed": true
   },
   "outputs": [],
   "source": []
  }
 ],
 "metadata": {
  "anaconda-cloud": {},
  "kernelspec": {
   "display_name": "Python [dsi]",
   "language": "python",
   "name": "Python [dsi]"
  },
  "language_info": {
   "codemirror_mode": {
    "name": "ipython",
    "version": 2
   },
   "file_extension": ".py",
   "mimetype": "text/x-python",
   "name": "python",
   "nbconvert_exporter": "python",
   "pygments_lexer": "ipython2",
   "version": "2.7.12"
  }
 },
 "nbformat": 4,
 "nbformat_minor": 0
}
