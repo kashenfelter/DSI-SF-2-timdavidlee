{
 "cells": [
  {
   "cell_type": "code",
   "execution_count": 10,
   "metadata": {
    "collapsed": false
   },
   "outputs": [],
   "source": [
    "path = \"/Users/tlee010/desktop/data-science-datasets/warcraft-avatar-history/wowah_data.csv\"\n",
    "path2 = \"/Users/tlee010/desktop/data-science-datasets/warcraft-avatar-history/locations.csv\"\n",
    "path3 = \"/Users/tlee010/desktop/data-science-datasets/warcraft-avatar-history/location_coords.csv\"\n",
    "path4 = \"/Users/tlee010/desktop/data-science-datasets/warcraft-avatar-history/zones.csv\"\n",
    "\n",
    "import pandas as pd\n",
    "import numpy as np"
   ]
  },
  {
   "cell_type": "code",
   "execution_count": 49,
   "metadata": {
    "collapsed": false
   },
   "outputs": [],
   "source": [
    "wow = pd.read_csv(path)\n"
   ]
  },
  {
   "cell_type": "code",
   "execution_count": 157,
   "metadata": {
    "collapsed": false
   },
   "outputs": [
    {
     "data": {
      "text/plain": [
       "array(['2008'], dtype=object)"
      ]
     },
     "execution_count": 157,
     "metadata": {},
     "output_type": "execute_result"
    }
   ],
   "source": [
    "wow.head()\n",
    "wow.year.unique()"
   ]
  },
  {
   "cell_type": "code",
   "execution_count": 12,
   "metadata": {
    "collapsed": true
   },
   "outputs": [],
   "source": [
    "locations = pd.read_csv(path2)"
   ]
  },
  {
   "cell_type": "code",
   "execution_count": 13,
   "metadata": {
    "collapsed": true
   },
   "outputs": [],
   "source": [
    "lc = pd.read_csv(path3)"
   ]
  },
  {
   "cell_type": "code",
   "execution_count": 15,
   "metadata": {
    "collapsed": false
   },
   "outputs": [],
   "source": [
    "zones = pd.read_csv(path4)"
   ]
  },
  {
   "cell_type": "code",
   "execution_count": 47,
   "metadata": {
    "collapsed": false,
    "scrolled": true
   },
   "outputs": [
    {
     "name": "stdout",
     "output_type": "stream",
     "text": [
      "<class 'pandas.core.frame.DataFrame'>\n",
      "RangeIndex: 10826734 entries, 0 to 10826733\n",
      "Data columns (total 7 columns):\n",
      "char          int64\n",
      " level        int64\n",
      " race         object\n",
      " charclass    object\n",
      " zone         object\n",
      " guild        int64\n",
      " timestamp    object\n",
      "dtypes: int64(3), object(4)\n",
      "memory usage: 578.2+ MB\n",
      "None\n"
     ]
    },
    {
     "data": {
      "text/html": [
       "<div>\n",
       "<table border=\"1\" class=\"dataframe\">\n",
       "  <thead>\n",
       "    <tr style=\"text-align: right;\">\n",
       "      <th></th>\n",
       "      <th>char</th>\n",
       "      <th>level</th>\n",
       "      <th>race</th>\n",
       "      <th>charclass</th>\n",
       "      <th>zone</th>\n",
       "      <th>guild</th>\n",
       "      <th>timestamp</th>\n",
       "    </tr>\n",
       "  </thead>\n",
       "  <tbody>\n",
       "    <tr>\n",
       "      <th>0</th>\n",
       "      <td>59425</td>\n",
       "      <td>1</td>\n",
       "      <td>Orc</td>\n",
       "      <td>Rogue</td>\n",
       "      <td>Orgrimmar</td>\n",
       "      <td>165</td>\n",
       "      <td>01/01/08 00:02:04</td>\n",
       "    </tr>\n",
       "    <tr>\n",
       "      <th>1</th>\n",
       "      <td>65494</td>\n",
       "      <td>9</td>\n",
       "      <td>Orc</td>\n",
       "      <td>Hunter</td>\n",
       "      <td>Durotar</td>\n",
       "      <td>-1</td>\n",
       "      <td>01/01/08 00:02:04</td>\n",
       "    </tr>\n",
       "    <tr>\n",
       "      <th>2</th>\n",
       "      <td>65325</td>\n",
       "      <td>14</td>\n",
       "      <td>Orc</td>\n",
       "      <td>Warrior</td>\n",
       "      <td>Ghostlands</td>\n",
       "      <td>-1</td>\n",
       "      <td>01/01/08 00:02:04</td>\n",
       "    </tr>\n",
       "    <tr>\n",
       "      <th>3</th>\n",
       "      <td>65490</td>\n",
       "      <td>18</td>\n",
       "      <td>Orc</td>\n",
       "      <td>Hunter</td>\n",
       "      <td>Ghostlands</td>\n",
       "      <td>-1</td>\n",
       "      <td>01/01/08 00:02:04</td>\n",
       "    </tr>\n",
       "    <tr>\n",
       "      <th>4</th>\n",
       "      <td>2288</td>\n",
       "      <td>60</td>\n",
       "      <td>Orc</td>\n",
       "      <td>Hunter</td>\n",
       "      <td>Hellfire Peninsula</td>\n",
       "      <td>-1</td>\n",
       "      <td>01/01/08 00:02:09</td>\n",
       "    </tr>\n",
       "  </tbody>\n",
       "</table>\n",
       "</div>"
      ],
      "text/plain": [
       "    char   level  race  charclass                zone   guild  \\\n",
       "0  59425       1   Orc      Rogue           Orgrimmar     165   \n",
       "1  65494       9   Orc     Hunter             Durotar      -1   \n",
       "2  65325      14   Orc    Warrior          Ghostlands      -1   \n",
       "3  65490      18   Orc     Hunter          Ghostlands      -1   \n",
       "4   2288      60   Orc     Hunter  Hellfire Peninsula      -1   \n",
       "\n",
       "           timestamp  \n",
       "0  01/01/08 00:02:04  \n",
       "1  01/01/08 00:02:04  \n",
       "2  01/01/08 00:02:04  \n",
       "3  01/01/08 00:02:04  \n",
       "4  01/01/08 00:02:09  "
      ]
     },
     "execution_count": 47,
     "metadata": {},
     "output_type": "execute_result"
    }
   ],
   "source": [
    "print wow.info()\n",
    "wow.head()"
   ]
  },
  {
   "cell_type": "code",
   "execution_count": 81,
   "metadata": {
    "collapsed": false,
    "scrolled": true
   },
   "outputs": [],
   "source": [
    "# wow['month'] = wow[' timestamp'].map(lambda x : x[0:2])\n",
    "# wow['day'] = wow[' timestamp'].map(lambda x : x[3:5])\n",
    "# wow['year'] = wow[' timestamp'].map(lambda x : '20'+ x[6:8])\n",
    "# wow.head()"
   ]
  },
  {
   "cell_type": "code",
   "execution_count": 80,
   "metadata": {
    "collapsed": false
   },
   "outputs": [],
   "source": [
    "#from datetime import datetime\n",
    "#wow['parsed_date'] = wow.apply(lambda x : datetime.date(x['year'],x['month'],x['day']),axis = 1)"
   ]
  },
  {
   "cell_type": "code",
   "execution_count": null,
   "metadata": {
    "collapsed": false
   },
   "outputs": [],
   "source": []
  },
  {
   "cell_type": "code",
   "execution_count": null,
   "metadata": {
    "collapsed": true
   },
   "outputs": [],
   "source": []
  },
  {
   "cell_type": "code",
   "execution_count": 17,
   "metadata": {
    "collapsed": false
   },
   "outputs": [
    {
     "data": {
      "text/html": [
       "<div>\n",
       "<table border=\"1\" class=\"dataframe\">\n",
       "  <thead>\n",
       "    <tr style=\"text-align: right;\">\n",
       "      <th></th>\n",
       "      <th>Location_Name</th>\n",
       "      <th>Map_ID</th>\n",
       "      <th>X_coord</th>\n",
       "      <th>Y_coord</th>\n",
       "      <th>Z_coord</th>\n",
       "    </tr>\n",
       "  </thead>\n",
       "  <tbody>\n",
       "    <tr>\n",
       "      <th>0</th>\n",
       "      <td>Eastern Kingdom: Ironforge Airport</td>\n",
       "      <td>0.0</td>\n",
       "      <td>-4488.993311</td>\n",
       "      <td>-1580.19104</td>\n",
       "      <td>509.005066</td>\n",
       "    </tr>\n",
       "    <tr>\n",
       "      <th>1</th>\n",
       "      <td>Eastern Kingdom: Wetlands Mountain Camp</td>\n",
       "      <td>0.0</td>\n",
       "      <td>-3855.000000</td>\n",
       "      <td>-3479.00000</td>\n",
       "      <td>579.000000</td>\n",
       "    </tr>\n",
       "    <tr>\n",
       "      <th>2</th>\n",
       "      <td>Eastern Kingdom: Dun Morogh plane camp</td>\n",
       "      <td>0.0</td>\n",
       "      <td>-6161.000000</td>\n",
       "      <td>-786.00000</td>\n",
       "      <td>423.000000</td>\n",
       "    </tr>\n",
       "    <tr>\n",
       "      <th>3</th>\n",
       "      <td>Eastern Kingdom: Undercity</td>\n",
       "      <td>0.0</td>\n",
       "      <td>1831.260000</td>\n",
       "      <td>238.53000</td>\n",
       "      <td>60.520000</td>\n",
       "    </tr>\n",
       "    <tr>\n",
       "      <th>4</th>\n",
       "      <td>Eastern Kingdom: Stormwind City</td>\n",
       "      <td>0.0</td>\n",
       "      <td>-8913.230000</td>\n",
       "      <td>554.63300</td>\n",
       "      <td>93.794400</td>\n",
       "    </tr>\n",
       "  </tbody>\n",
       "</table>\n",
       "</div>"
      ],
      "text/plain": [
       "                             Location_Name  Map_ID      X_coord     Y_coord  \\\n",
       "0       Eastern Kingdom: Ironforge Airport     0.0 -4488.993311 -1580.19104   \n",
       "1  Eastern Kingdom: Wetlands Mountain Camp     0.0 -3855.000000 -3479.00000   \n",
       "2   Eastern Kingdom: Dun Morogh plane camp     0.0 -6161.000000  -786.00000   \n",
       "3               Eastern Kingdom: Undercity     0.0  1831.260000   238.53000   \n",
       "4          Eastern Kingdom: Stormwind City     0.0 -8913.230000   554.63300   \n",
       "\n",
       "      Z_coord  \n",
       "0  509.005066  \n",
       "1  579.000000  \n",
       "2  423.000000  \n",
       "3   60.520000  \n",
       "4   93.794400  "
      ]
     },
     "execution_count": 17,
     "metadata": {},
     "output_type": "execute_result"
    }
   ],
   "source": [
    "lc.head()"
   ]
  },
  {
   "cell_type": "code",
   "execution_count": null,
   "metadata": {
    "collapsed": false
   },
   "outputs": [],
   "source": []
  },
  {
   "cell_type": "code",
   "execution_count": null,
   "metadata": {
    "collapsed": false
   },
   "outputs": [],
   "source": []
  },
  {
   "cell_type": "code",
   "execution_count": 31,
   "metadata": {
    "collapsed": false
   },
   "outputs": [
    {
     "name": "stdout",
     "output_type": "stream",
     "text": [
      "<class 'pandas.core.frame.DataFrame'>\n",
      "RangeIndex: 10826734 entries, 0 to 10826733\n",
      "Data columns (total 7 columns):\n",
      "char          int64\n",
      " level        int64\n",
      " race         object\n",
      " charclass    object\n",
      " zone         object\n",
      " guild        int64\n",
      " timestamp    object\n",
      "dtypes: int64(3), object(4)\n",
      "memory usage: 578.2+ MB\n",
      "None\n"
     ]
    },
    {
     "data": {
      "text/html": [
       "<div>\n",
       "<table border=\"1\" class=\"dataframe\">\n",
       "  <thead>\n",
       "    <tr style=\"text-align: right;\">\n",
       "      <th></th>\n",
       "      <th>char</th>\n",
       "      <th>level</th>\n",
       "      <th>race</th>\n",
       "      <th>charclass</th>\n",
       "      <th>zone</th>\n",
       "      <th>guild</th>\n",
       "      <th>timestamp</th>\n",
       "    </tr>\n",
       "  </thead>\n",
       "  <tbody>\n",
       "    <tr>\n",
       "      <th>0</th>\n",
       "      <td>59425</td>\n",
       "      <td>1</td>\n",
       "      <td>Orc</td>\n",
       "      <td>Rogue</td>\n",
       "      <td>Orgrimmar</td>\n",
       "      <td>165</td>\n",
       "      <td>01/01/08 00:02:04</td>\n",
       "    </tr>\n",
       "    <tr>\n",
       "      <th>1</th>\n",
       "      <td>65494</td>\n",
       "      <td>9</td>\n",
       "      <td>Orc</td>\n",
       "      <td>Hunter</td>\n",
       "      <td>Durotar</td>\n",
       "      <td>-1</td>\n",
       "      <td>01/01/08 00:02:04</td>\n",
       "    </tr>\n",
       "    <tr>\n",
       "      <th>2</th>\n",
       "      <td>65325</td>\n",
       "      <td>14</td>\n",
       "      <td>Orc</td>\n",
       "      <td>Warrior</td>\n",
       "      <td>Ghostlands</td>\n",
       "      <td>-1</td>\n",
       "      <td>01/01/08 00:02:04</td>\n",
       "    </tr>\n",
       "    <tr>\n",
       "      <th>3</th>\n",
       "      <td>65490</td>\n",
       "      <td>18</td>\n",
       "      <td>Orc</td>\n",
       "      <td>Hunter</td>\n",
       "      <td>Ghostlands</td>\n",
       "      <td>-1</td>\n",
       "      <td>01/01/08 00:02:04</td>\n",
       "    </tr>\n",
       "    <tr>\n",
       "      <th>4</th>\n",
       "      <td>2288</td>\n",
       "      <td>60</td>\n",
       "      <td>Orc</td>\n",
       "      <td>Hunter</td>\n",
       "      <td>Hellfire Peninsula</td>\n",
       "      <td>-1</td>\n",
       "      <td>01/01/08 00:02:09</td>\n",
       "    </tr>\n",
       "  </tbody>\n",
       "</table>\n",
       "</div>"
      ],
      "text/plain": [
       "    char   level  race  charclass                zone   guild  \\\n",
       "0  59425       1   Orc      Rogue           Orgrimmar     165   \n",
       "1  65494       9   Orc     Hunter             Durotar      -1   \n",
       "2  65325      14   Orc    Warrior          Ghostlands      -1   \n",
       "3  65490      18   Orc     Hunter          Ghostlands      -1   \n",
       "4   2288      60   Orc     Hunter  Hellfire Peninsula      -1   \n",
       "\n",
       "           timestamp  \n",
       "0  01/01/08 00:02:04  \n",
       "1  01/01/08 00:02:04  \n",
       "2  01/01/08 00:02:04  \n",
       "3  01/01/08 00:02:04  \n",
       "4  01/01/08 00:02:09  "
      ]
     },
     "execution_count": 31,
     "metadata": {},
     "output_type": "execute_result"
    }
   ],
   "source": [
    "print wow.info()\n",
    "wow.head()"
   ]
  },
  {
   "cell_type": "code",
   "execution_count": null,
   "metadata": {
    "collapsed": true
   },
   "outputs": [],
   "source": []
  },
  {
   "cell_type": "code",
   "execution_count": null,
   "metadata": {
    "collapsed": false
   },
   "outputs": [],
   "source": []
  },
  {
   "cell_type": "code",
   "execution_count": null,
   "metadata": {
    "collapsed": false
   },
   "outputs": [],
   "source": []
  },
  {
   "cell_type": "code",
   "execution_count": null,
   "metadata": {
    "collapsed": false
   },
   "outputs": [],
   "source": []
  },
  {
   "cell_type": "code",
   "execution_count": null,
   "metadata": {
    "collapsed": true
   },
   "outputs": [],
   "source": []
  },
  {
   "cell_type": "code",
   "execution_count": 75,
   "metadata": {
    "collapsed": false,
    "scrolled": true
   },
   "outputs": [],
   "source": [
    "wow[\"calender\"] = [x.split(\" \")[0] for x in wow[' timestamp']]\n"
   ]
  },
  {
   "cell_type": "code",
   "execution_count": 79,
   "metadata": {
    "collapsed": false
   },
   "outputs": [],
   "source": [
    "wow['parsed_date'] = [datetime.strptime(x,\"%m/%d/%y\").date() for x in wow.calender]"
   ]
  },
  {
   "cell_type": "code",
   "execution_count": 130,
   "metadata": {
    "collapsed": false
   },
   "outputs": [
    {
     "data": {
      "text/html": [
       "<div>\n",
       "<table border=\"1\" class=\"dataframe\">\n",
       "  <thead>\n",
       "    <tr style=\"text-align: right;\">\n",
       "      <th></th>\n",
       "      <th>char</th>\n",
       "      <th>race</th>\n",
       "      <th>charclass</th>\n",
       "      <th>level</th>\n",
       "    </tr>\n",
       "  </thead>\n",
       "  <tbody>\n",
       "    <tr>\n",
       "      <th>0</th>\n",
       "      <td>2</td>\n",
       "      <td>Orc</td>\n",
       "      <td>Shaman</td>\n",
       "      <td>18</td>\n",
       "    </tr>\n",
       "    <tr>\n",
       "      <th>1</th>\n",
       "      <td>7</td>\n",
       "      <td>Orc</td>\n",
       "      <td>Hunter</td>\n",
       "      <td>71</td>\n",
       "    </tr>\n",
       "    <tr>\n",
       "      <th>2</th>\n",
       "      <td>9</td>\n",
       "      <td>Orc</td>\n",
       "      <td>Hunter</td>\n",
       "      <td>70</td>\n",
       "    </tr>\n",
       "    <tr>\n",
       "      <th>3</th>\n",
       "      <td>10</td>\n",
       "      <td>Orc</td>\n",
       "      <td>Hunter</td>\n",
       "      <td>61</td>\n",
       "    </tr>\n",
       "    <tr>\n",
       "      <th>4</th>\n",
       "      <td>19</td>\n",
       "      <td>Orc</td>\n",
       "      <td>Rogue</td>\n",
       "      <td>70</td>\n",
       "    </tr>\n",
       "  </tbody>\n",
       "</table>\n",
       "</div>"
      ],
      "text/plain": [
       "   char  race  charclass   level\n",
       "0     2   Orc     Shaman      18\n",
       "1     7   Orc     Hunter      71\n",
       "2     9   Orc     Hunter      70\n",
       "3    10   Orc     Hunter      61\n",
       "4    19   Orc      Rogue      70"
      ]
     },
     "execution_count": 130,
     "metadata": {},
     "output_type": "execute_result"
    }
   ],
   "source": [
    "char_desc = wow.groupby(['char',' race',' charclass'])[[' level']].max()\n",
    "char_desc.reset_index(inplace=True)\n",
    "char_desc.head()\n",
    "#char_desc = char_de['char','race','charclass']\n",
    "#char_desc.head()"
   ]
  },
  {
   "cell_type": "code",
   "execution_count": 103,
   "metadata": {
    "collapsed": false
   },
   "outputs": [
    {
     "data": {
      "text/html": [
       "<div>\n",
       "<table border=\"1\" class=\"dataframe\">\n",
       "  <thead>\n",
       "    <tr style=\"text-align: right;\">\n",
       "      <th></th>\n",
       "      <th>char</th>\n",
       "      <th>max_date</th>\n",
       "    </tr>\n",
       "  </thead>\n",
       "  <tbody>\n",
       "    <tr>\n",
       "      <th>0</th>\n",
       "      <td>2</td>\n",
       "      <td>2008-12-03</td>\n",
       "    </tr>\n",
       "    <tr>\n",
       "      <th>1</th>\n",
       "      <td>7</td>\n",
       "      <td>2008-12-28</td>\n",
       "    </tr>\n",
       "    <tr>\n",
       "      <th>2</th>\n",
       "      <td>9</td>\n",
       "      <td>2008-06-29</td>\n",
       "    </tr>\n",
       "    <tr>\n",
       "      <th>3</th>\n",
       "      <td>10</td>\n",
       "      <td>2008-11-07</td>\n",
       "    </tr>\n",
       "    <tr>\n",
       "      <th>4</th>\n",
       "      <td>19</td>\n",
       "      <td>2008-12-29</td>\n",
       "    </tr>\n",
       "  </tbody>\n",
       "</table>\n",
       "</div>"
      ],
      "text/plain": [
       "   char    max_date\n",
       "0     2  2008-12-03\n",
       "1     7  2008-12-28\n",
       "2     9  2008-06-29\n",
       "3    10  2008-11-07\n",
       "4    19  2008-12-29"
      ]
     },
     "execution_count": 103,
     "metadata": {},
     "output_type": "execute_result"
    }
   ],
   "source": [
    "char_max = wow.groupby([\"char\"])[['parsed_date']].max()\n",
    "char_max.reset_index(inplace=True)\n",
    "char_max.columns = ['char','max_date']\n",
    "char_max.head()"
   ]
  },
  {
   "cell_type": "code",
   "execution_count": 104,
   "metadata": {
    "collapsed": false
   },
   "outputs": [
    {
     "data": {
      "text/html": [
       "<div>\n",
       "<table border=\"1\" class=\"dataframe\">\n",
       "  <thead>\n",
       "    <tr style=\"text-align: right;\">\n",
       "      <th></th>\n",
       "      <th>char</th>\n",
       "      <th>min_date</th>\n",
       "    </tr>\n",
       "  </thead>\n",
       "  <tbody>\n",
       "    <tr>\n",
       "      <th>0</th>\n",
       "      <td>2</td>\n",
       "      <td>2008-12-03</td>\n",
       "    </tr>\n",
       "    <tr>\n",
       "      <th>1</th>\n",
       "      <td>7</td>\n",
       "      <td>2008-01-15</td>\n",
       "    </tr>\n",
       "    <tr>\n",
       "      <th>2</th>\n",
       "      <td>9</td>\n",
       "      <td>2008-01-01</td>\n",
       "    </tr>\n",
       "    <tr>\n",
       "      <th>3</th>\n",
       "      <td>10</td>\n",
       "      <td>2008-07-06</td>\n",
       "    </tr>\n",
       "    <tr>\n",
       "      <th>4</th>\n",
       "      <td>19</td>\n",
       "      <td>2008-01-07</td>\n",
       "    </tr>\n",
       "  </tbody>\n",
       "</table>\n",
       "</div>"
      ],
      "text/plain": [
       "   char    min_date\n",
       "0     2  2008-12-03\n",
       "1     7  2008-01-15\n",
       "2     9  2008-01-01\n",
       "3    10  2008-07-06\n",
       "4    19  2008-01-07"
      ]
     },
     "execution_count": 104,
     "metadata": {},
     "output_type": "execute_result"
    }
   ],
   "source": [
    "char_min = wow.groupby([\"char\"])[['parsed_date']].min()\n",
    "char_min.reset_index(inplace=True)\n",
    "char_min.columns = ['char','min_date']\n",
    "char_min.head()"
   ]
  },
  {
   "cell_type": "code",
   "execution_count": 126,
   "metadata": {
    "collapsed": false
   },
   "outputs": [],
   "source": [
    "# char_maxlvl = wow.groupby([\"char\"])[[' level']].max()\n",
    "# char_maxlvl.reset_index(inplace=True)\n",
    "# char_maxlvl.head()"
   ]
  },
  {
   "cell_type": "code",
   "execution_count": 133,
   "metadata": {
    "collapsed": false
   },
   "outputs": [],
   "source": [
    "master_table = char_desc.merge(char_min,how='left',on='char').merge(char_max,how='left',on='char')"
   ]
  },
  {
   "cell_type": "code",
   "execution_count": 134,
   "metadata": {
    "collapsed": false
   },
   "outputs": [
    {
     "data": {
      "text/html": [
       "<div>\n",
       "<table border=\"1\" class=\"dataframe\">\n",
       "  <thead>\n",
       "    <tr style=\"text-align: right;\">\n",
       "      <th></th>\n",
       "      <th>char</th>\n",
       "      <th>race</th>\n",
       "      <th>charclass</th>\n",
       "      <th>level</th>\n",
       "      <th>min_date</th>\n",
       "      <th>max_date</th>\n",
       "    </tr>\n",
       "  </thead>\n",
       "  <tbody>\n",
       "    <tr>\n",
       "      <th>0</th>\n",
       "      <td>2</td>\n",
       "      <td>Orc</td>\n",
       "      <td>Shaman</td>\n",
       "      <td>18</td>\n",
       "      <td>2008-12-03</td>\n",
       "      <td>2008-12-03</td>\n",
       "    </tr>\n",
       "    <tr>\n",
       "      <th>1</th>\n",
       "      <td>7</td>\n",
       "      <td>Orc</td>\n",
       "      <td>Hunter</td>\n",
       "      <td>71</td>\n",
       "      <td>2008-01-15</td>\n",
       "      <td>2008-12-28</td>\n",
       "    </tr>\n",
       "    <tr>\n",
       "      <th>2</th>\n",
       "      <td>9</td>\n",
       "      <td>Orc</td>\n",
       "      <td>Hunter</td>\n",
       "      <td>70</td>\n",
       "      <td>2008-01-01</td>\n",
       "      <td>2008-06-29</td>\n",
       "    </tr>\n",
       "    <tr>\n",
       "      <th>3</th>\n",
       "      <td>10</td>\n",
       "      <td>Orc</td>\n",
       "      <td>Hunter</td>\n",
       "      <td>61</td>\n",
       "      <td>2008-07-06</td>\n",
       "      <td>2008-11-07</td>\n",
       "    </tr>\n",
       "    <tr>\n",
       "      <th>4</th>\n",
       "      <td>19</td>\n",
       "      <td>Orc</td>\n",
       "      <td>Rogue</td>\n",
       "      <td>70</td>\n",
       "      <td>2008-01-07</td>\n",
       "      <td>2008-12-29</td>\n",
       "    </tr>\n",
       "  </tbody>\n",
       "</table>\n",
       "</div>"
      ],
      "text/plain": [
       "   char  race  charclass   level    min_date    max_date\n",
       "0     2   Orc     Shaman      18  2008-12-03  2008-12-03\n",
       "1     7   Orc     Hunter      71  2008-01-15  2008-12-28\n",
       "2     9   Orc     Hunter      70  2008-01-01  2008-06-29\n",
       "3    10   Orc     Hunter      61  2008-07-06  2008-11-07\n",
       "4    19   Orc      Rogue      70  2008-01-07  2008-12-29"
      ]
     },
     "execution_count": 134,
     "metadata": {},
     "output_type": "execute_result"
    }
   ],
   "source": [
    "master_table.head()"
   ]
  },
  {
   "cell_type": "code",
   "execution_count": 135,
   "metadata": {
    "collapsed": true
   },
   "outputs": [],
   "source": [
    "master_table.to_csv('master_wow_table.csv')"
   ]
  },
  {
   "cell_type": "code",
   "execution_count": 137,
   "metadata": {
    "collapsed": false
   },
   "outputs": [
    {
     "data": {
      "text/html": [
       "<div>\n",
       "<table border=\"1\" class=\"dataframe\">\n",
       "  <thead>\n",
       "    <tr style=\"text-align: right;\">\n",
       "      <th></th>\n",
       "      <th>char</th>\n",
       "      <th>race</th>\n",
       "      <th>charclass</th>\n",
       "      <th>level</th>\n",
       "      <th>min_date</th>\n",
       "      <th>max_date</th>\n",
       "      <th>min_year</th>\n",
       "    </tr>\n",
       "  </thead>\n",
       "  <tbody>\n",
       "    <tr>\n",
       "      <th>0</th>\n",
       "      <td>2</td>\n",
       "      <td>Orc</td>\n",
       "      <td>Shaman</td>\n",
       "      <td>18</td>\n",
       "      <td>2008-12-03</td>\n",
       "      <td>2008-12-03</td>\n",
       "      <td>2008</td>\n",
       "    </tr>\n",
       "    <tr>\n",
       "      <th>1</th>\n",
       "      <td>7</td>\n",
       "      <td>Orc</td>\n",
       "      <td>Hunter</td>\n",
       "      <td>71</td>\n",
       "      <td>2008-01-15</td>\n",
       "      <td>2008-12-28</td>\n",
       "      <td>2008</td>\n",
       "    </tr>\n",
       "    <tr>\n",
       "      <th>2</th>\n",
       "      <td>9</td>\n",
       "      <td>Orc</td>\n",
       "      <td>Hunter</td>\n",
       "      <td>70</td>\n",
       "      <td>2008-01-01</td>\n",
       "      <td>2008-06-29</td>\n",
       "      <td>2008</td>\n",
       "    </tr>\n",
       "    <tr>\n",
       "      <th>3</th>\n",
       "      <td>10</td>\n",
       "      <td>Orc</td>\n",
       "      <td>Hunter</td>\n",
       "      <td>61</td>\n",
       "      <td>2008-07-06</td>\n",
       "      <td>2008-11-07</td>\n",
       "      <td>2008</td>\n",
       "    </tr>\n",
       "    <tr>\n",
       "      <th>4</th>\n",
       "      <td>19</td>\n",
       "      <td>Orc</td>\n",
       "      <td>Rogue</td>\n",
       "      <td>70</td>\n",
       "      <td>2008-01-07</td>\n",
       "      <td>2008-12-29</td>\n",
       "      <td>2008</td>\n",
       "    </tr>\n",
       "  </tbody>\n",
       "</table>\n",
       "</div>"
      ],
      "text/plain": [
       "   char  race  charclass   level    min_date    max_date min_year\n",
       "0     2   Orc     Shaman      18  2008-12-03  2008-12-03     2008\n",
       "1     7   Orc     Hunter      71  2008-01-15  2008-12-28     2008\n",
       "2     9   Orc     Hunter      70  2008-01-01  2008-06-29     2008\n",
       "3    10   Orc     Hunter      61  2008-07-06  2008-11-07     2008\n",
       "4    19   Orc      Rogue      70  2008-01-07  2008-12-29     2008"
      ]
     },
     "execution_count": 137,
     "metadata": {},
     "output_type": "execute_result"
    }
   ],
   "source": [
    "master_table['min_year'] = master_table['min_date'].map(lambda x : str(x)[0:4])\n",
    "master_table.head()"
   ]
  },
  {
   "cell_type": "code",
   "execution_count": 139,
   "metadata": {
    "collapsed": false
   },
   "outputs": [
    {
     "data": {
      "text/html": [
       "<div>\n",
       "<table border=\"1\" class=\"dataframe\">\n",
       "  <thead>\n",
       "    <tr style=\"text-align: right;\">\n",
       "      <th></th>\n",
       "      <th>char</th>\n",
       "      <th>race</th>\n",
       "      <th>charclass</th>\n",
       "      <th>level</th>\n",
       "      <th>min_date</th>\n",
       "      <th>max_date</th>\n",
       "      <th>min_year</th>\n",
       "      <th>max_year</th>\n",
       "    </tr>\n",
       "  </thead>\n",
       "  <tbody>\n",
       "    <tr>\n",
       "      <th>0</th>\n",
       "      <td>2</td>\n",
       "      <td>Orc</td>\n",
       "      <td>Shaman</td>\n",
       "      <td>18</td>\n",
       "      <td>2008-12-03</td>\n",
       "      <td>2008-12-03</td>\n",
       "      <td>2008</td>\n",
       "      <td>2008</td>\n",
       "    </tr>\n",
       "    <tr>\n",
       "      <th>1</th>\n",
       "      <td>7</td>\n",
       "      <td>Orc</td>\n",
       "      <td>Hunter</td>\n",
       "      <td>71</td>\n",
       "      <td>2008-01-15</td>\n",
       "      <td>2008-12-28</td>\n",
       "      <td>2008</td>\n",
       "      <td>2008</td>\n",
       "    </tr>\n",
       "    <tr>\n",
       "      <th>2</th>\n",
       "      <td>9</td>\n",
       "      <td>Orc</td>\n",
       "      <td>Hunter</td>\n",
       "      <td>70</td>\n",
       "      <td>2008-01-01</td>\n",
       "      <td>2008-06-29</td>\n",
       "      <td>2008</td>\n",
       "      <td>2008</td>\n",
       "    </tr>\n",
       "    <tr>\n",
       "      <th>3</th>\n",
       "      <td>10</td>\n",
       "      <td>Orc</td>\n",
       "      <td>Hunter</td>\n",
       "      <td>61</td>\n",
       "      <td>2008-07-06</td>\n",
       "      <td>2008-11-07</td>\n",
       "      <td>2008</td>\n",
       "      <td>2008</td>\n",
       "    </tr>\n",
       "    <tr>\n",
       "      <th>4</th>\n",
       "      <td>19</td>\n",
       "      <td>Orc</td>\n",
       "      <td>Rogue</td>\n",
       "      <td>70</td>\n",
       "      <td>2008-01-07</td>\n",
       "      <td>2008-12-29</td>\n",
       "      <td>2008</td>\n",
       "      <td>2008</td>\n",
       "    </tr>\n",
       "  </tbody>\n",
       "</table>\n",
       "</div>"
      ],
      "text/plain": [
       "   char  race  charclass   level    min_date    max_date min_year max_year\n",
       "0     2   Orc     Shaman      18  2008-12-03  2008-12-03     2008     2008\n",
       "1     7   Orc     Hunter      71  2008-01-15  2008-12-28     2008     2008\n",
       "2     9   Orc     Hunter      70  2008-01-01  2008-06-29     2008     2008\n",
       "3    10   Orc     Hunter      61  2008-07-06  2008-11-07     2008     2008\n",
       "4    19   Orc      Rogue      70  2008-01-07  2008-12-29     2008     2008"
      ]
     },
     "execution_count": 139,
     "metadata": {},
     "output_type": "execute_result"
    }
   ],
   "source": [
    "master_table['max_year'] = master_table['max_date'].map(lambda x : str(x)[0:4])\n",
    "master_table.head()"
   ]
  },
  {
   "cell_type": "code",
   "execution_count": 144,
   "metadata": {
    "collapsed": false
   },
   "outputs": [
    {
     "data": {
      "text/html": [
       "<div>\n",
       "<table border=\"1\" class=\"dataframe\">\n",
       "  <thead>\n",
       "    <tr style=\"text-align: right;\">\n",
       "      <th></th>\n",
       "      <th>char</th>\n",
       "      <th>race</th>\n",
       "      <th>charclass</th>\n",
       "      <th>level</th>\n",
       "      <th>min_date</th>\n",
       "      <th>max_date</th>\n",
       "      <th>min_year</th>\n",
       "      <th>max_year</th>\n",
       "      <th>duration</th>\n",
       "      <th>duration_int</th>\n",
       "    </tr>\n",
       "  </thead>\n",
       "  <tbody>\n",
       "    <tr>\n",
       "      <th>0</th>\n",
       "      <td>2</td>\n",
       "      <td>Orc</td>\n",
       "      <td>Shaman</td>\n",
       "      <td>18</td>\n",
       "      <td>2008-12-03</td>\n",
       "      <td>2008-12-03</td>\n",
       "      <td>2008</td>\n",
       "      <td>2008</td>\n",
       "      <td>0 days</td>\n",
       "      <td>0</td>\n",
       "    </tr>\n",
       "    <tr>\n",
       "      <th>1</th>\n",
       "      <td>7</td>\n",
       "      <td>Orc</td>\n",
       "      <td>Hunter</td>\n",
       "      <td>71</td>\n",
       "      <td>2008-01-15</td>\n",
       "      <td>2008-12-28</td>\n",
       "      <td>2008</td>\n",
       "      <td>2008</td>\n",
       "      <td>348 days</td>\n",
       "      <td>348</td>\n",
       "    </tr>\n",
       "    <tr>\n",
       "      <th>2</th>\n",
       "      <td>9</td>\n",
       "      <td>Orc</td>\n",
       "      <td>Hunter</td>\n",
       "      <td>70</td>\n",
       "      <td>2008-01-01</td>\n",
       "      <td>2008-06-29</td>\n",
       "      <td>2008</td>\n",
       "      <td>2008</td>\n",
       "      <td>180 days</td>\n",
       "      <td>180</td>\n",
       "    </tr>\n",
       "    <tr>\n",
       "      <th>3</th>\n",
       "      <td>10</td>\n",
       "      <td>Orc</td>\n",
       "      <td>Hunter</td>\n",
       "      <td>61</td>\n",
       "      <td>2008-07-06</td>\n",
       "      <td>2008-11-07</td>\n",
       "      <td>2008</td>\n",
       "      <td>2008</td>\n",
       "      <td>124 days</td>\n",
       "      <td>124</td>\n",
       "    </tr>\n",
       "    <tr>\n",
       "      <th>4</th>\n",
       "      <td>19</td>\n",
       "      <td>Orc</td>\n",
       "      <td>Rogue</td>\n",
       "      <td>70</td>\n",
       "      <td>2008-01-07</td>\n",
       "      <td>2008-12-29</td>\n",
       "      <td>2008</td>\n",
       "      <td>2008</td>\n",
       "      <td>357 days</td>\n",
       "      <td>357</td>\n",
       "    </tr>\n",
       "  </tbody>\n",
       "</table>\n",
       "</div>"
      ],
      "text/plain": [
       "   char  race  charclass   level    min_date    max_date min_year max_year  \\\n",
       "0     2   Orc     Shaman      18  2008-12-03  2008-12-03     2008     2008   \n",
       "1     7   Orc     Hunter      71  2008-01-15  2008-12-28     2008     2008   \n",
       "2     9   Orc     Hunter      70  2008-01-01  2008-06-29     2008     2008   \n",
       "3    10   Orc     Hunter      61  2008-07-06  2008-11-07     2008     2008   \n",
       "4    19   Orc      Rogue      70  2008-01-07  2008-12-29     2008     2008   \n",
       "\n",
       "   duration  duration_int  \n",
       "0    0 days             0  \n",
       "1  348 days           348  \n",
       "2  180 days           180  \n",
       "3  124 days           124  \n",
       "4  357 days           357  "
      ]
     },
     "execution_count": 144,
     "metadata": {},
     "output_type": "execute_result"
    }
   ],
   "source": [
    "master_table['duration'] = master_table['max_date']-master_table['min_date']\n",
    "master_table['duration_int'] = master_table.duration.map(lambda x: int(str(x).split(' ')[0]))\n",
    "master_table.head()"
   ]
  },
  {
   "cell_type": "code",
   "execution_count": 151,
   "metadata": {
    "collapsed": false
   },
   "outputs": [
    {
     "data": {
      "text/plain": [
       "<matplotlib.axes._subplots.AxesSubplot at 0x156415e50>"
      ]
     },
     "execution_count": 151,
     "metadata": {},
     "output_type": "execute_result"
    },
    {
     "data": {
      "image/png": "[encoded data removed]",
      "text/plain": [
       "<matplotlib.figure.Figure at 0x15641e090>"
      ]
     },
     "metadata": {},
     "output_type": "display_data"
    }
   ],
   "source": [
    "import matplotlib.pyplot as plt\n",
    "%matplotlib inline\n",
    "master_table.duration_int.hist(figsize=[11,5])"
   ]
  },
  {
   "cell_type": "code",
   "execution_count": 153,
   "metadata": {
    "collapsed": false
   },
   "outputs": [
    {
     "data": {
      "text/plain": [
       "<matplotlib.axes._subplots.AxesSubplot at 0x1565d5310>"
      ]
     },
     "execution_count": 153,
     "metadata": {},
     "output_type": "execute_result"
    },
    {
     "data": {
      "image/png": "[encoded data removed]",
      "text/plain": [
       "<matplotlib.figure.Figure at 0x1565e0750>"
      ]
     },
     "metadata": {},
     "output_type": "display_data"
    }
   ],
   "source": [
    "master_table[master_table['duration_int']>60].duration_int.hist(figsize=[11,5])"
   ]
  },
  {
   "cell_type": "code",
   "execution_count": 154,
   "metadata": {
    "collapsed": false
   },
   "outputs": [
    {
     "data": {
      "text/plain": [
       "array(['2008'], dtype=object)"
      ]
     },
     "execution_count": 154,
     "metadata": {},
     "output_type": "execute_result"
    }
   ],
   "source": [
    "master_table[master_table['duration_int']>60].duration_int.hist(figsize=[11,5])"
   ]
  },
  {
   "cell_type": "code",
   "execution_count": 159,
   "metadata": {
    "collapsed": false
   },
   "outputs": [
    {
     "data": {
      "text/plain": [
       "char            10201\n",
       " race           10201\n",
       " charclass      10201\n",
       " level          10201\n",
       "min_date        10201\n",
       "max_date        10201\n",
       "min_year        10201\n",
       "max_year        10201\n",
       "duration        10201\n",
       "duration_int    10201\n",
       "dtype: int64"
      ]
     },
     "execution_count": 159,
     "metadata": {},
     "output_type": "execute_result"
    }
   ],
   "source": [
    "master_table[(master_table['duration_int']>60) & (master_table['duration_int']<360) ].count()"
   ]
  },
  {
   "cell_type": "code",
   "execution_count": 165,
   "metadata": {
    "collapsed": false
   },
   "outputs": [],
   "source": [
    "by_class = master_table.groupby(' charclass')[[' level']].count().reset_index()"
   ]
  },
  {
   "cell_type": "code",
   "execution_count": 174,
   "metadata": {
    "collapsed": false,
    "scrolled": true
   },
   "outputs": [
    {
     "data": {
      "text/html": [
       "<div>\n",
       "<table border=\"1\" class=\"dataframe\">\n",
       "  <thead>\n",
       "    <tr style=\"text-align: right;\">\n",
       "      <th></th>\n",
       "      <th>charclass</th>\n",
       "      <th>level</th>\n",
       "    </tr>\n",
       "  </thead>\n",
       "  <tbody>\n",
       "    <tr>\n",
       "      <th>9</th>\n",
       "      <td>Warrior</td>\n",
       "      <td>7686</td>\n",
       "    </tr>\n",
       "    <tr>\n",
       "      <th>2</th>\n",
       "      <td>Hunter</td>\n",
       "      <td>4976</td>\n",
       "    </tr>\n",
       "    <tr>\n",
       "      <th>6</th>\n",
       "      <td>Rogue</td>\n",
       "      <td>4794</td>\n",
       "    </tr>\n",
       "    <tr>\n",
       "      <th>3</th>\n",
       "      <td>Mage</td>\n",
       "      <td>4175</td>\n",
       "    </tr>\n",
       "    <tr>\n",
       "      <th>8</th>\n",
       "      <td>Warlock</td>\n",
       "      <td>4005</td>\n",
       "    </tr>\n",
       "    <tr>\n",
       "      <th>4</th>\n",
       "      <td>Paladin</td>\n",
       "      <td>3199</td>\n",
       "    </tr>\n",
       "    <tr>\n",
       "      <th>7</th>\n",
       "      <td>Shaman</td>\n",
       "      <td>3060</td>\n",
       "    </tr>\n",
       "    <tr>\n",
       "      <th>5</th>\n",
       "      <td>Priest</td>\n",
       "      <td>2752</td>\n",
       "    </tr>\n",
       "    <tr>\n",
       "      <th>1</th>\n",
       "      <td>Druid</td>\n",
       "      <td>1935</td>\n",
       "    </tr>\n",
       "    <tr>\n",
       "      <th>0</th>\n",
       "      <td>Death Knight</td>\n",
       "      <td>1749</td>\n",
       "    </tr>\n",
       "  </tbody>\n",
       "</table>\n",
       "</div>"
      ],
      "text/plain": [
       "      charclass   level\n",
       "9       Warrior    7686\n",
       "2        Hunter    4976\n",
       "6         Rogue    4794\n",
       "3          Mage    4175\n",
       "8       Warlock    4005\n",
       "4       Paladin    3199\n",
       "7        Shaman    3060\n",
       "5        Priest    2752\n",
       "1         Druid    1935\n",
       "0  Death Knight    1749"
      ]
     },
     "execution_count": 174,
     "metadata": {},
     "output_type": "execute_result"
    }
   ],
   "source": [
    "by_class.sort_values(' level',ascending =False)"
   ]
  },
  {
   "cell_type": "code",
   "execution_count": 175,
   "metadata": {
    "collapsed": true
   },
   "outputs": [],
   "source": [
    "by_race = master_table.groupby(' race')[[' level']].count().reset_index()"
   ]
  },
  {
   "cell_type": "code",
   "execution_count": 176,
   "metadata": {
    "collapsed": false
   },
   "outputs": [
    {
     "data": {
      "text/html": [
       "<div>\n",
       "<table border=\"1\" class=\"dataframe\">\n",
       "  <thead>\n",
       "    <tr style=\"text-align: right;\">\n",
       "      <th></th>\n",
       "      <th>race</th>\n",
       "      <th>level</th>\n",
       "    </tr>\n",
       "  </thead>\n",
       "  <tbody>\n",
       "    <tr>\n",
       "      <th>0</th>\n",
       "      <td>Blood Elf</td>\n",
       "      <td>12888</td>\n",
       "    </tr>\n",
       "    <tr>\n",
       "      <th>1</th>\n",
       "      <td>Orc</td>\n",
       "      <td>7229</td>\n",
       "    </tr>\n",
       "    <tr>\n",
       "      <th>3</th>\n",
       "      <td>Troll</td>\n",
       "      <td>6858</td>\n",
       "    </tr>\n",
       "    <tr>\n",
       "      <th>4</th>\n",
       "      <td>Undead</td>\n",
       "      <td>5980</td>\n",
       "    </tr>\n",
       "    <tr>\n",
       "      <th>2</th>\n",
       "      <td>Tauren</td>\n",
       "      <td>5376</td>\n",
       "    </tr>\n",
       "  </tbody>\n",
       "</table>\n",
       "</div>"
      ],
      "text/plain": [
       "        race   level\n",
       "0  Blood Elf   12888\n",
       "1        Orc    7229\n",
       "3      Troll    6858\n",
       "4     Undead    5980\n",
       "2     Tauren    5376"
      ]
     },
     "execution_count": 176,
     "metadata": {},
     "output_type": "execute_result"
    }
   ],
   "source": [
    "by_race.sort_values(' level',ascending =False)"
   ]
  },
  {
   "cell_type": "code",
   "execution_count": 177,
   "metadata": {
    "collapsed": true
   },
   "outputs": [],
   "source": [
    "by_race = master_table.groupby([' race',' charclass'])[[' level']].count().reset_index()"
   ]
  },
  {
   "cell_type": "code",
   "execution_count": 178,
   "metadata": {
    "collapsed": false
   },
   "outputs": [
    {
     "data": {
      "text/html": [
       "<div>\n",
       "<table border=\"1\" class=\"dataframe\">\n",
       "  <thead>\n",
       "    <tr style=\"text-align: right;\">\n",
       "      <th></th>\n",
       "      <th>race</th>\n",
       "      <th>charclass</th>\n",
       "      <th>level</th>\n",
       "    </tr>\n",
       "  </thead>\n",
       "  <tbody>\n",
       "    <tr>\n",
       "      <th>12</th>\n",
       "      <td>Orc</td>\n",
       "      <td>Warrior</td>\n",
       "      <td>3506</td>\n",
       "    </tr>\n",
       "    <tr>\n",
       "      <th>3</th>\n",
       "      <td>Blood Elf</td>\n",
       "      <td>Paladin</td>\n",
       "      <td>3199</td>\n",
       "    </tr>\n",
       "    <tr>\n",
       "      <th>2</th>\n",
       "      <td>Blood Elf</td>\n",
       "      <td>Mage</td>\n",
       "      <td>2218</td>\n",
       "    </tr>\n",
       "    <tr>\n",
       "      <th>6</th>\n",
       "      <td>Blood Elf</td>\n",
       "      <td>Warlock</td>\n",
       "      <td>2090</td>\n",
       "    </tr>\n",
       "    <tr>\n",
       "      <th>14</th>\n",
       "      <td>Tauren</td>\n",
       "      <td>Druid</td>\n",
       "      <td>1935</td>\n",
       "    </tr>\n",
       "    <tr>\n",
       "      <th>24</th>\n",
       "      <td>Troll</td>\n",
       "      <td>Warrior</td>\n",
       "      <td>1697</td>\n",
       "    </tr>\n",
       "    <tr>\n",
       "      <th>1</th>\n",
       "      <td>Blood Elf</td>\n",
       "      <td>Hunter</td>\n",
       "      <td>1652</td>\n",
       "    </tr>\n",
       "    <tr>\n",
       "      <th>17</th>\n",
       "      <td>Tauren</td>\n",
       "      <td>Warrior</td>\n",
       "      <td>1555</td>\n",
       "    </tr>\n",
       "    <tr>\n",
       "      <th>19</th>\n",
       "      <td>Troll</td>\n",
       "      <td>Hunter</td>\n",
       "      <td>1543</td>\n",
       "    </tr>\n",
       "    <tr>\n",
       "      <th>5</th>\n",
       "      <td>Blood Elf</td>\n",
       "      <td>Rogue</td>\n",
       "      <td>1479</td>\n",
       "    </tr>\n",
       "    <tr>\n",
       "      <th>29</th>\n",
       "      <td>Undead</td>\n",
       "      <td>Warlock</td>\n",
       "      <td>1381</td>\n",
       "    </tr>\n",
       "    <tr>\n",
       "      <th>28</th>\n",
       "      <td>Undead</td>\n",
       "      <td>Rogue</td>\n",
       "      <td>1303</td>\n",
       "    </tr>\n",
       "    <tr>\n",
       "      <th>4</th>\n",
       "      <td>Blood Elf</td>\n",
       "      <td>Priest</td>\n",
       "      <td>1244</td>\n",
       "    </tr>\n",
       "    <tr>\n",
       "      <th>26</th>\n",
       "      <td>Undead</td>\n",
       "      <td>Mage</td>\n",
       "      <td>1209</td>\n",
       "    </tr>\n",
       "    <tr>\n",
       "      <th>23</th>\n",
       "      <td>Troll</td>\n",
       "      <td>Shaman</td>\n",
       "      <td>1206</td>\n",
       "    </tr>\n",
       "    <tr>\n",
       "      <th>8</th>\n",
       "      <td>Orc</td>\n",
       "      <td>Hunter</td>\n",
       "      <td>1184</td>\n",
       "    </tr>\n",
       "    <tr>\n",
       "      <th>22</th>\n",
       "      <td>Troll</td>\n",
       "      <td>Rogue</td>\n",
       "      <td>1018</td>\n",
       "    </tr>\n",
       "    <tr>\n",
       "      <th>16</th>\n",
       "      <td>Tauren</td>\n",
       "      <td>Shaman</td>\n",
       "      <td>1018</td>\n",
       "    </tr>\n",
       "    <tr>\n",
       "      <th>0</th>\n",
       "      <td>Blood Elf</td>\n",
       "      <td>Death Knight</td>\n",
       "      <td>1006</td>\n",
       "    </tr>\n",
       "    <tr>\n",
       "      <th>9</th>\n",
       "      <td>Orc</td>\n",
       "      <td>Rogue</td>\n",
       "      <td>994</td>\n",
       "    </tr>\n",
       "    <tr>\n",
       "      <th>30</th>\n",
       "      <td>Undead</td>\n",
       "      <td>Warrior</td>\n",
       "      <td>928</td>\n",
       "    </tr>\n",
       "    <tr>\n",
       "      <th>27</th>\n",
       "      <td>Undead</td>\n",
       "      <td>Priest</td>\n",
       "      <td>926</td>\n",
       "    </tr>\n",
       "    <tr>\n",
       "      <th>10</th>\n",
       "      <td>Orc</td>\n",
       "      <td>Shaman</td>\n",
       "      <td>836</td>\n",
       "    </tr>\n",
       "    <tr>\n",
       "      <th>20</th>\n",
       "      <td>Troll</td>\n",
       "      <td>Mage</td>\n",
       "      <td>748</td>\n",
       "    </tr>\n",
       "    <tr>\n",
       "      <th>15</th>\n",
       "      <td>Tauren</td>\n",
       "      <td>Hunter</td>\n",
       "      <td>597</td>\n",
       "    </tr>\n",
       "    <tr>\n",
       "      <th>21</th>\n",
       "      <td>Troll</td>\n",
       "      <td>Priest</td>\n",
       "      <td>582</td>\n",
       "    </tr>\n",
       "    <tr>\n",
       "      <th>11</th>\n",
       "      <td>Orc</td>\n",
       "      <td>Warlock</td>\n",
       "      <td>534</td>\n",
       "    </tr>\n",
       "    <tr>\n",
       "      <th>13</th>\n",
       "      <td>Tauren</td>\n",
       "      <td>Death Knight</td>\n",
       "      <td>271</td>\n",
       "    </tr>\n",
       "    <tr>\n",
       "      <th>25</th>\n",
       "      <td>Undead</td>\n",
       "      <td>Death Knight</td>\n",
       "      <td>233</td>\n",
       "    </tr>\n",
       "    <tr>\n",
       "      <th>7</th>\n",
       "      <td>Orc</td>\n",
       "      <td>Death Knight</td>\n",
       "      <td>175</td>\n",
       "    </tr>\n",
       "    <tr>\n",
       "      <th>18</th>\n",
       "      <td>Troll</td>\n",
       "      <td>Death Knight</td>\n",
       "      <td>64</td>\n",
       "    </tr>\n",
       "  </tbody>\n",
       "</table>\n",
       "</div>"
      ],
      "text/plain": [
       "         race     charclass   level\n",
       "12        Orc       Warrior    3506\n",
       "3   Blood Elf       Paladin    3199\n",
       "2   Blood Elf          Mage    2218\n",
       "6   Blood Elf       Warlock    2090\n",
       "14     Tauren         Druid    1935\n",
       "24      Troll       Warrior    1697\n",
       "1   Blood Elf        Hunter    1652\n",
       "17     Tauren       Warrior    1555\n",
       "19      Troll        Hunter    1543\n",
       "5   Blood Elf         Rogue    1479\n",
       "29     Undead       Warlock    1381\n",
       "28     Undead         Rogue    1303\n",
       "4   Blood Elf        Priest    1244\n",
       "26     Undead          Mage    1209\n",
       "23      Troll        Shaman    1206\n",
       "8         Orc        Hunter    1184\n",
       "22      Troll         Rogue    1018\n",
       "16     Tauren        Shaman    1018\n",
       "0   Blood Elf  Death Knight    1006\n",
       "9         Orc         Rogue     994\n",
       "30     Undead       Warrior     928\n",
       "27     Undead        Priest     926\n",
       "10        Orc        Shaman     836\n",
       "20      Troll          Mage     748\n",
       "15     Tauren        Hunter     597\n",
       "21      Troll        Priest     582\n",
       "11        Orc       Warlock     534\n",
       "13     Tauren  Death Knight     271\n",
       "25     Undead  Death Knight     233\n",
       "7         Orc  Death Knight     175\n",
       "18      Troll  Death Knight      64"
      ]
     },
     "execution_count": 178,
     "metadata": {},
     "output_type": "execute_result"
    }
   ],
   "source": [
    "by_race.sort_values(' level',ascending =False)"
   ]
  },
  {
   "cell_type": "code",
   "execution_count": 185,
   "metadata": {
    "collapsed": false
   },
   "outputs": [],
   "source": [
    "x = wow.groupby(['char',' zone']).count().reset_index()"
   ]
  },
  {
   "cell_type": "code",
   "execution_count": 189,
   "metadata": {
    "collapsed": false
   },
   "outputs": [],
   "source": [
    "y = x[['char',' zone']].groupby('char').count().reset_index()"
   ]
  },
  {
   "cell_type": "code",
   "execution_count": 195,
   "metadata": {
    "collapsed": false
   },
   "outputs": [
    {
     "data": {
      "text/plain": [
       "<matplotlib.axes._subplots.AxesSubplot at 0x18000fa10>"
      ]
     },
     "execution_count": 195,
     "metadata": {},
     "output_type": "execute_result"
    },
    {
     "data": {
      "image/png": "[encoded data removed]",
      "text/plain": [
       "<matplotlib.figure.Figure at 0x1800f7910>"
      ]
     },
     "metadata": {},
     "output_type": "display_data"
    }
   ],
   "source": [
    "y[y[' zone']>2][' zone'].hist()"
   ]
  },
  {
   "cell_type": "code",
   "execution_count": null,
   "metadata": {
    "collapsed": true
   },
   "outputs": [],
   "source": []
  }
 ],
 "metadata": {
  "kernelspec": {
   "display_name": "Python 2",
   "language": "python",
   "name": "python2"
  },
  "language_info": {
   "codemirror_mode": {
    "name": "ipython",
    "version": 2
   },
   "file_extension": ".py",
   "mimetype": "text/x-python",
   "name": "python",
   "nbconvert_exporter": "python",
   "pygments_lexer": "ipython2",
   "version": "2.7.12"
  }
 },
 "nbformat": 4,
 "nbformat_minor": 1
}
