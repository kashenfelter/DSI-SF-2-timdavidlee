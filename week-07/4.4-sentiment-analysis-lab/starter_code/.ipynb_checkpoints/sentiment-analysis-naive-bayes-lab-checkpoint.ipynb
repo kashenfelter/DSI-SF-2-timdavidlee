{
 "cells": [
  {
   "cell_type": "markdown",
   "metadata": {},
   "source": [
    "# Sentiment analysis and naive bayes\n",
    "\n",
    "Now that you've seen sentiment analysis using a predefined dictionary of positive and negative valence for different words, this lab will have you do sentiment analysis on the movie review dataset \"in reverse\": you'll find which words are most likely to appear in positive or negative valenced reviews.\n",
    "\n",
    "---\n",
    "\n",
    "### Naive Bayes\n",
    "\n",
    "For this lab we're going to use a classifier common in NLP and sentiment analysis called Naive Bayes. We'll be covering Naive Bayes classifiers in more depth in a later lecture – for this lab you'll just be implementing it using sklearn.\n",
    "\n",
    "Essentially, Naive Bayes solves an inverted problem to what you are used to in supervized learning. Given a feature $x_i$ and target $y$, it solves for $P(x_i | y)$. In other words, the probability of a feature/predictor _given_ that the target is 1.\n",
    "\n",
    "We'll use this to figure out which words are more likely to appear when the target is 1 (\"fresh\") vs when the target is 0 (\"rotten\")."
   ]
  },
  {
   "cell_type": "markdown",
   "metadata": {},
   "source": [
    "---\n",
    "\n",
    "### Load packages and movie data\n",
    "\n",
    "Do any cleaning you deem necessary."
   ]
  },
  {
   "cell_type": "code",
   "execution_count": 1,
   "metadata": {
    "collapsed": false
   },
   "outputs": [],
   "source": [
    "import pandas as pd\n",
    "import numpy as np\n",
    "\n",
    "# We are using the BernoulliNB version of Naive Bayes, which assumes predictors are binary encoded.\n",
    "from sklearn.naive_bayes import BernoulliNB\n",
    "from sklearn.cross_validation import cross_val_score, train_test_split\n",
    "\n",
    "from sklearn.feature_extraction.text import CountVectorizer"
   ]
  },
  {
   "cell_type": "code",
   "execution_count": 2,
   "metadata": {
    "collapsed": false
   },
   "outputs": [
    {
     "name": "stdout",
     "output_type": "stream",
     "text": [
      "            critic  fresh      imdb    publication  \\\n",
      "0      Derek Adams  fresh  114709.0       Time Out   \n",
      "1  Richard Corliss  fresh  114709.0  TIME Magazine   \n",
      "2      David Ansen  fresh  114709.0       Newsweek   \n",
      "\n",
      "                                               quote review_date    rtid  \\\n",
      "0  So ingenious in concept, design and execution ...  2009-10-04  9559.0   \n",
      "1                  The year's most inventive comedy.  2008-08-31  9559.0   \n",
      "2  A winning animated feature that has something ...  2008-08-18  9559.0   \n",
      "\n",
      "       title  \n",
      "0  Toy story  \n",
      "1  Toy story  \n",
      "2  Toy story  \n"
     ]
    },
    {
     "data": {
      "text/html": [
       "<div>\n",
       "<table border=\"1\" class=\"dataframe\">\n",
       "  <thead>\n",
       "    <tr style=\"text-align: right;\">\n",
       "      <th></th>\n",
       "      <th>index</th>\n",
       "      <th>critic</th>\n",
       "      <th>fresh</th>\n",
       "      <th>imdb</th>\n",
       "      <th>publication</th>\n",
       "      <th>quote</th>\n",
       "      <th>review_date</th>\n",
       "      <th>rtid</th>\n",
       "      <th>title</th>\n",
       "    </tr>\n",
       "  </thead>\n",
       "  <tbody>\n",
       "    <tr>\n",
       "      <th>0</th>\n",
       "      <td>0</td>\n",
       "      <td>0</td>\n",
       "      <td>1</td>\n",
       "      <td>114709.0</td>\n",
       "      <td>0</td>\n",
       "      <td>so ingenious in concept design and execution t...</td>\n",
       "      <td>2009-10-04</td>\n",
       "      <td>9559.0</td>\n",
       "      <td>0</td>\n",
       "    </tr>\n",
       "    <tr>\n",
       "      <th>1</th>\n",
       "      <td>1</td>\n",
       "      <td>1</td>\n",
       "      <td>1</td>\n",
       "      <td>114709.0</td>\n",
       "      <td>1</td>\n",
       "      <td>the year's most inventive comedy</td>\n",
       "      <td>2008-08-31</td>\n",
       "      <td>9559.0</td>\n",
       "      <td>0</td>\n",
       "    </tr>\n",
       "    <tr>\n",
       "      <th>2</th>\n",
       "      <td>2</td>\n",
       "      <td>2</td>\n",
       "      <td>1</td>\n",
       "      <td>114709.0</td>\n",
       "      <td>2</td>\n",
       "      <td>a winning animated feature that has something ...</td>\n",
       "      <td>2008-08-18</td>\n",
       "      <td>9559.0</td>\n",
       "      <td>0</td>\n",
       "    </tr>\n",
       "    <tr>\n",
       "      <th>3</th>\n",
       "      <td>3</td>\n",
       "      <td>3</td>\n",
       "      <td>1</td>\n",
       "      <td>114709.0</td>\n",
       "      <td>3</td>\n",
       "      <td>the film sports a provocative and appealing st...</td>\n",
       "      <td>2008-06-09</td>\n",
       "      <td>9559.0</td>\n",
       "      <td>0</td>\n",
       "    </tr>\n",
       "  </tbody>\n",
       "</table>\n",
       "</div>"
      ],
      "text/plain": [
       "   index  critic  fresh      imdb  publication  \\\n",
       "0      0       0      1  114709.0            0   \n",
       "1      1       1      1  114709.0            1   \n",
       "2      2       2      1  114709.0            2   \n",
       "3      3       3      1  114709.0            3   \n",
       "\n",
       "                                               quote review_date    rtid  \\\n",
       "0  so ingenious in concept design and execution t...  2009-10-04  9559.0   \n",
       "1                   the year's most inventive comedy  2008-08-31  9559.0   \n",
       "2  a winning animated feature that has something ...  2008-08-18  9559.0   \n",
       "3  the film sports a provocative and appealing st...  2008-06-09  9559.0   \n",
       "\n",
       "   title  \n",
       "0      0  \n",
       "1      0  \n",
       "2      0  \n",
       "3      0  "
      ]
     },
     "execution_count": 2,
     "metadata": {},
     "output_type": "execute_result"
    }
   ],
   "source": [
    "import string\n",
    "rt = pd.read_csv('/Users/tlee010/desktop/DSI-SF-2-timdavidlee/datasets/rottentomatoes_critics/rt_critics.csv')\n",
    "print rt.head(3)\n",
    "rt.dropna(inplace=True)\n",
    "rt = rt[rt.fresh.isin (['fresh','rotten'])]\n",
    "criticz ={y:x for x,y in enumerate(rt.critic.unique())}\n",
    "titlez = {y:x for x,y in enumerate(rt.title.unique())}\n",
    "pubz = {y:x for x,y in enumerate(rt.publication.unique())}\n",
    "freshz = {y:x for x,y in enumerate(rt.fresh.unique())}\n",
    "\n",
    "rt.critic = rt.critic.map(lambda x:criticz[x]) \n",
    "rt.title = rt.title.map(lambda x:titlez[x]) \n",
    "rt.publication = rt.publication.map(lambda x:pubz[x]) \n",
    "rt.fresh = rt.fresh.map(lambda x: 1 if x=='fresh' else 0) \n",
    "rt.reset_index(inplace=True)\n",
    "rt.quote = rt.quote.map(lambda x : ''.join([c for c in x.lower() if c in string.ascii_lowercase +\" -'\" ]))\n",
    "rt.head(4)"
   ]
  },
  {
   "cell_type": "code",
   "execution_count": 3,
   "metadata": {
    "collapsed": false
   },
   "outputs": [
    {
     "data": {
      "text/plain": [
       "array([ 'so ingenious in concept design and execution that you could watch it on a postage stamp-sized screen and still be engulfed by its charm',\n",
       "       \"the year's most inventive comedy\",\n",
       "       'a winning animated feature that has something for everyone on the age spectrum',\n",
       "       \"the film sports a provocative and appealing story that's every bit the equal of this technical achievement\",\n",
       "       \"an entertaining computer-generated hyperrealist animation feature  that's also in effect a toy catalog\",\n",
       "       \"as lion king did before it toy story revived the art of american children's animation and ushered in a set of smart movies that entertained children and their parents it's a landmark movie and doesn't get old with frequent repetition\",\n",
       "       \"the film will probably be more fully appreciated by adults who'll love the snappy knowing verbal gags the vivid deftly defined characters and the overall conceptual sophistication\",\n",
       "       'children will enjoy a new take on the irresistible idea of toys coming to life adults will marvel at a witty script and utterly brilliant anthropomorphism',\n",
       "       'although its computer-generated imagery is impressive the major surprise of this bright foray into a new kind of animation is how much cleverness has been invested in story and dialogue',\n",
       "       'how perfect that two of the most popular funny guys around tom hanks and tim allen speak for the lead boy-toys'], dtype=object)"
      ]
     },
     "execution_count": 3,
     "metadata": {},
     "output_type": "execute_result"
    }
   ],
   "source": [
    "words = rt.quote.values\n",
    "words[0:10]"
   ]
  },
  {
   "cell_type": "markdown",
   "metadata": {},
   "source": [
    "---\n",
    "\n",
    "### Create a predictor matrix of words from the quotes with CountVectorizer\n",
    "\n",
    "It is up to you what ngram range you want to select. **Make sure that `binary=True`**"
   ]
  },
  {
   "cell_type": "code",
   "execution_count": 6,
   "metadata": {
    "collapsed": false
   },
   "outputs": [],
   "source": [
    "from sklearn.feature_extraction.text import CountVectorizer\n",
    "from nltk.corpus import stopwords\n",
    "stop = stopwords.words('english')\n",
    "\n",
    "cvec = CountVectorizer(binary=True,stop_words=stop,max_features=1000, ngram_range=(1,3))\n",
    "cvec.fit(words)\n",
    "df  = pd.DataFrame(cvec.transform(words).todense(),\n",
    "             columns=cvec.get_feature_names())\n",
    "#df.transpose().sort_values(0, ascending=False).head(10).transpose()\n",
    "word_matrix = df.transpose().sort_values(0, ascending=False).transpose()\n"
   ]
  },
  {
   "cell_type": "code",
   "execution_count": 7,
   "metadata": {
    "collapsed": false
   },
   "outputs": [
    {
     "data": {
      "text/html": [
       "<div>\n",
       "<table border=\"1\" class=\"dataframe\">\n",
       "  <thead>\n",
       "    <tr style=\"text-align: right;\">\n",
       "      <th></th>\n",
       "      <th>watch</th>\n",
       "      <th>still</th>\n",
       "      <th>concept</th>\n",
       "      <th>charm</th>\n",
       "      <th>could</th>\n",
       "      <th>screen</th>\n",
       "      <th>design</th>\n",
       "      <th>psychological</th>\n",
       "      <th>quality</th>\n",
       "      <th>put</th>\n",
       "      <th>...</th>\n",
       "      <th>formula</th>\n",
       "      <th>formulaic</th>\n",
       "      <th>found</th>\n",
       "      <th>four</th>\n",
       "      <th>frank</th>\n",
       "      <th>free</th>\n",
       "      <th>frequently</th>\n",
       "      <th>fresh</th>\n",
       "      <th>friends</th>\n",
       "      <th>young</th>\n",
       "    </tr>\n",
       "  </thead>\n",
       "  <tbody>\n",
       "    <tr>\n",
       "      <th>0</th>\n",
       "      <td>1</td>\n",
       "      <td>1</td>\n",
       "      <td>1</td>\n",
       "      <td>1</td>\n",
       "      <td>1</td>\n",
       "      <td>1</td>\n",
       "      <td>1</td>\n",
       "      <td>0</td>\n",
       "      <td>0</td>\n",
       "      <td>0</td>\n",
       "      <td>...</td>\n",
       "      <td>0</td>\n",
       "      <td>0</td>\n",
       "      <td>0</td>\n",
       "      <td>0</td>\n",
       "      <td>0</td>\n",
       "      <td>0</td>\n",
       "      <td>0</td>\n",
       "      <td>0</td>\n",
       "      <td>0</td>\n",
       "      <td>0</td>\n",
       "    </tr>\n",
       "    <tr>\n",
       "      <th>1</th>\n",
       "      <td>0</td>\n",
       "      <td>0</td>\n",
       "      <td>0</td>\n",
       "      <td>0</td>\n",
       "      <td>0</td>\n",
       "      <td>0</td>\n",
       "      <td>0</td>\n",
       "      <td>0</td>\n",
       "      <td>0</td>\n",
       "      <td>0</td>\n",
       "      <td>...</td>\n",
       "      <td>0</td>\n",
       "      <td>0</td>\n",
       "      <td>0</td>\n",
       "      <td>0</td>\n",
       "      <td>0</td>\n",
       "      <td>0</td>\n",
       "      <td>0</td>\n",
       "      <td>0</td>\n",
       "      <td>0</td>\n",
       "      <td>0</td>\n",
       "    </tr>\n",
       "    <tr>\n",
       "      <th>2</th>\n",
       "      <td>0</td>\n",
       "      <td>0</td>\n",
       "      <td>0</td>\n",
       "      <td>0</td>\n",
       "      <td>0</td>\n",
       "      <td>0</td>\n",
       "      <td>0</td>\n",
       "      <td>0</td>\n",
       "      <td>0</td>\n",
       "      <td>0</td>\n",
       "      <td>...</td>\n",
       "      <td>0</td>\n",
       "      <td>0</td>\n",
       "      <td>0</td>\n",
       "      <td>0</td>\n",
       "      <td>0</td>\n",
       "      <td>0</td>\n",
       "      <td>0</td>\n",
       "      <td>0</td>\n",
       "      <td>0</td>\n",
       "      <td>0</td>\n",
       "    </tr>\n",
       "  </tbody>\n",
       "</table>\n",
       "<p>3 rows × 1000 columns</p>\n",
       "</div>"
      ],
      "text/plain": [
       "   watch  still  concept  charm  could  screen  design  psychological  \\\n",
       "0      1      1        1      1      1       1       1              0   \n",
       "1      0      0        0      0      0       0       0              0   \n",
       "2      0      0        0      0      0       0       0              0   \n",
       "\n",
       "   quality  put  ...    formula  formulaic  found  four  frank  free  \\\n",
       "0        0    0  ...          0          0      0     0      0     0   \n",
       "1        0    0  ...          0          0      0     0      0     0   \n",
       "2        0    0  ...          0          0      0     0      0     0   \n",
       "\n",
       "   frequently  fresh  friends  young  \n",
       "0           0      0        0      0  \n",
       "1           0      0        0      0  \n",
       "2           0      0        0      0  \n",
       "\n",
       "[3 rows x 1000 columns]"
      ]
     },
     "execution_count": 7,
     "metadata": {},
     "output_type": "execute_result"
    }
   ],
   "source": [
    "word_matrix.columns = [x.replace(' ','_') for x in word_matrix.columns]\n",
    "word_matrix.head(3)"
   ]
  },
  {
   "cell_type": "markdown",
   "metadata": {},
   "source": [
    "---\n",
    "\n",
    "### Split data into training and testing splits\n",
    "\n",
    "You should keep 25% of the data in the test set."
   ]
  },
  {
   "cell_type": "code",
   "execution_count": 8,
   "metadata": {
    "collapsed": false
   },
   "outputs": [],
   "source": [
    "#add in the freshness\n",
    "base = word_matrix.merge(rt[['fresh']],how='left', left_index=True,right_index=True)\n",
    "\n"
   ]
  },
  {
   "cell_type": "code",
   "execution_count": 9,
   "metadata": {
    "collapsed": false,
    "scrolled": true
   },
   "outputs": [
    {
     "data": {
      "text/html": [
       "<div>\n",
       "<table border=\"1\" class=\"dataframe\">\n",
       "  <thead>\n",
       "    <tr style=\"text-align: right;\">\n",
       "      <th></th>\n",
       "      <th>watch</th>\n",
       "      <th>still</th>\n",
       "      <th>concept</th>\n",
       "      <th>charm</th>\n",
       "      <th>could</th>\n",
       "      <th>screen</th>\n",
       "      <th>design</th>\n",
       "      <th>psychological</th>\n",
       "      <th>quality</th>\n",
       "      <th>put</th>\n",
       "      <th>...</th>\n",
       "      <th>formulaic</th>\n",
       "      <th>found</th>\n",
       "      <th>four</th>\n",
       "      <th>frank</th>\n",
       "      <th>free</th>\n",
       "      <th>frequently</th>\n",
       "      <th>fresh_x</th>\n",
       "      <th>friends</th>\n",
       "      <th>young</th>\n",
       "      <th>fresh_y</th>\n",
       "    </tr>\n",
       "  </thead>\n",
       "  <tbody>\n",
       "    <tr>\n",
       "      <th>0</th>\n",
       "      <td>1</td>\n",
       "      <td>1</td>\n",
       "      <td>1</td>\n",
       "      <td>1</td>\n",
       "      <td>1</td>\n",
       "      <td>1</td>\n",
       "      <td>1</td>\n",
       "      <td>0</td>\n",
       "      <td>0</td>\n",
       "      <td>0</td>\n",
       "      <td>...</td>\n",
       "      <td>0</td>\n",
       "      <td>0</td>\n",
       "      <td>0</td>\n",
       "      <td>0</td>\n",
       "      <td>0</td>\n",
       "      <td>0</td>\n",
       "      <td>0</td>\n",
       "      <td>0</td>\n",
       "      <td>0</td>\n",
       "      <td>1</td>\n",
       "    </tr>\n",
       "    <tr>\n",
       "      <th>1</th>\n",
       "      <td>0</td>\n",
       "      <td>0</td>\n",
       "      <td>0</td>\n",
       "      <td>0</td>\n",
       "      <td>0</td>\n",
       "      <td>0</td>\n",
       "      <td>0</td>\n",
       "      <td>0</td>\n",
       "      <td>0</td>\n",
       "      <td>0</td>\n",
       "      <td>...</td>\n",
       "      <td>0</td>\n",
       "      <td>0</td>\n",
       "      <td>0</td>\n",
       "      <td>0</td>\n",
       "      <td>0</td>\n",
       "      <td>0</td>\n",
       "      <td>0</td>\n",
       "      <td>0</td>\n",
       "      <td>0</td>\n",
       "      <td>1</td>\n",
       "    </tr>\n",
       "  </tbody>\n",
       "</table>\n",
       "<p>2 rows × 1001 columns</p>\n",
       "</div>"
      ],
      "text/plain": [
       "   watch  still  concept  charm  could  screen  design  psychological  \\\n",
       "0      1      1        1      1      1       1       1              0   \n",
       "1      0      0        0      0      0       0       0              0   \n",
       "\n",
       "   quality  put   ...     formulaic  found  four  frank  free  frequently  \\\n",
       "0        0    0   ...             0      0     0      0     0           0   \n",
       "1        0    0   ...             0      0     0      0     0           0   \n",
       "\n",
       "   fresh_x  friends  young  fresh_y  \n",
       "0        0        0      0        1  \n",
       "1        0        0      0        1  \n",
       "\n",
       "[2 rows x 1001 columns]"
      ]
     },
     "execution_count": 9,
     "metadata": {},
     "output_type": "execute_result"
    }
   ],
   "source": [
    "base.head(2)"
   ]
  },
  {
   "cell_type": "code",
   "execution_count": 10,
   "metadata": {
    "collapsed": false,
    "scrolled": false
   },
   "outputs": [],
   "source": [
    "X = base[base.columns.difference(['fresh_y'])].values\n",
    "y = base[['fresh_y']]\n",
    "y = np.ravel(y)\n",
    "\n"
   ]
  },
  {
   "cell_type": "code",
   "execution_count": 11,
   "metadata": {
    "collapsed": false
   },
   "outputs": [
    {
     "name": "stdout",
     "output_type": "stream",
     "text": [
      "(10022, 1000) (3341, 1000) (10022,) (3341,)\n"
     ]
    }
   ],
   "source": [
    "from sklearn.cross_validation import train_test_split\n",
    "\n",
    "\n",
    "\n",
    "Xtrain, Xtest, ytrain, ytest = train_test_split(X,y,test_size=0.25)\n",
    "print Xtrain.shape, Xtest.shape, ytrain.shape, ytest.shape"
   ]
  },
  {
   "cell_type": "markdown",
   "metadata": {},
   "source": [
    "---\n",
    "\n",
    "### Build a `BernoulliNB` model predicting fresh vs. rotten from the word appearances\n",
    "\n",
    "The model should only be built (and cross-validated) on the training data.\n",
    "\n",
    "Cross-validate the score and compare it to baseline."
   ]
  },
  {
   "cell_type": "code",
   "execution_count": null,
   "metadata": {
    "collapsed": false
   },
   "outputs": [
    {
     "name": "stdout",
     "output_type": "stream",
     "text": [
      "start\n",
      "all fit\n"
     ]
    }
   ],
   "source": [
    "from sklearn.naive_bayes import BernoulliNB\n",
    "bnb = BernoulliNB()\n",
    "print 'start'\n",
    "bnb.fit(Xtrain,ytrain)\n",
    "print 'all fit'\n",
    "score = cross_val_score(bnb,Xtrain,ytrain,cv=5,n_jobs=-1)"
   ]
  },
  {
   "cell_type": "code",
   "execution_count": null,
   "metadata": {
    "collapsed": true
   },
   "outputs": [],
   "source": [
    "print score, np.mean(score)"
   ]
  },
  {
   "cell_type": "code",
   "execution_count": null,
   "metadata": {
    "collapsed": true
   },
   "outputs": [],
   "source": [
    "A = [5]"
   ]
  },
  {
   "cell_type": "markdown",
   "metadata": {},
   "source": [
    "---\n",
    "\n",
    "### Pull out the probability of words given \"fresh\"\n",
    "\n",
    "The `.feature_log_prob_` attribute of the naive bayes model contains the log probabilities of a feature appearing given a target class.\n",
    "\n",
    "The rows correspond to the class of the target, and the columns correpsond to the features. The first row is the 0 \"rotten\" class, and the second is the 1 \"fresh\" class.\n",
    "\n",
    "#### 1. Pull out the log probabilities and convert them to probabilities (for fresh and for rotten)."
   ]
  },
  {
   "cell_type": "code",
   "execution_count": null,
   "metadata": {
    "collapsed": true
   },
   "outputs": [],
   "source": [
    "print bnb.feature_log_prob_\n"
   ]
  },
  {
   "cell_type": "markdown",
   "metadata": {},
   "source": [
    "#### 2. Make a dataframe with the probabilities and features"
   ]
  },
  {
   "cell_type": "code",
   "execution_count": null,
   "metadata": {
    "collapsed": true
   },
   "outputs": [],
   "source": []
  },
  {
   "cell_type": "markdown",
   "metadata": {},
   "source": [
    "#### 3. Create a column that is the difference between fresh probability of appearance and rotten"
   ]
  },
  {
   "cell_type": "code",
   "execution_count": null,
   "metadata": {
    "collapsed": true
   },
   "outputs": [],
   "source": []
  },
  {
   "cell_type": "markdown",
   "metadata": {},
   "source": [
    "#### 4. Look at the most likely words for fresh and rotten reviews"
   ]
  },
  {
   "cell_type": "code",
   "execution_count": null,
   "metadata": {
    "collapsed": true
   },
   "outputs": [],
   "source": []
  },
  {
   "cell_type": "markdown",
   "metadata": {},
   "source": [
    "---\n",
    "\n",
    "### Examine how your model performs on the test set"
   ]
  },
  {
   "cell_type": "code",
   "execution_count": null,
   "metadata": {
    "collapsed": true
   },
   "outputs": [],
   "source": []
  },
  {
   "cell_type": "markdown",
   "metadata": {},
   "source": [
    "---\n",
    "\n",
    "### Look at the top 10 movies and reviews likely to be fresh and top 10 likely to be rotten\n",
    "\n",
    "You can fit the model on the full set of data for this.\n",
    "\n",
    "Just to note: Naive Bayes, while good at classifying, is known to be somewhat bad at giving accurate predicted probabilities (beyond getting it on the correct side of 50%). It is a good classifier but a bad estimator. "
   ]
  },
  {
   "cell_type": "code",
   "execution_count": null,
   "metadata": {
    "collapsed": true
   },
   "outputs": [],
   "source": []
  },
  {
   "cell_type": "markdown",
   "metadata": {
    "collapsed": true
   },
   "source": [
    "---\n",
    "\n",
    "## [Bonus] Find out which critics are likely to give the \"freshest\" and \"rottenest\" reviews"
   ]
  },
  {
   "cell_type": "code",
   "execution_count": null,
   "metadata": {
    "collapsed": true
   },
   "outputs": [],
   "source": []
  }
 ],
 "metadata": {
  "anaconda-cloud": {},
  "kernelspec": {
   "display_name": "Python [dsi]",
   "language": "python",
   "name": "Python [dsi]"
  },
  "language_info": {
   "codemirror_mode": {
    "name": "ipython",
    "version": 2
   },
   "file_extension": ".py",
   "mimetype": "text/x-python",
   "name": "python",
   "nbconvert_exporter": "python",
   "pygments_lexer": "ipython2",
   "version": "2.7.12"
  }
 },
 "nbformat": 4,
 "nbformat_minor": 0
}
