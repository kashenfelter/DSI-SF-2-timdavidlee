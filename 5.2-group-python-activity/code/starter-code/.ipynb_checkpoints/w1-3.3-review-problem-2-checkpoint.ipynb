{
 "cells": [
  {
   "cell_type": "markdown",
   "metadata": {},
   "source": [
    "### Review Problem 2\n",
    "\n",
    "For this problem, you will be writing a function that operates on a dictionary and **optionally** a list of numbers.\n",
    "\n",
    "Write a function that:\n",
    "\n",
    "- Accepts a dictionary as its first argument. The values of the dictionary should be a list of numbers.\n",
    "- Accepts an optional **keyword argument** that is a list. The default should be an empty list. **The optional keyword list should be called remainder**\n",
    "- **If the list is empty:** append a 2 to the list.\n",
    "- Print the dictionary as well as the optional list.\n",
    "- Iterate though they key:value pairs in the dictionary:\n",
    "    - For each value list of numbers, calculate the **remainder of each number** for **each number in the remainder list**\n",
    "    - Create a dictionary where they keys are the numbers in the value list, and the values are the remainders of that number from the remainder list.\n",
    "    - ex: if value ```list == [10,9]``` and ```remainder == [2,3]```, the new dictionary would be: ```{10:[0, 1], 9:[1, 0]}```\n",
    "    - For the current key in the dictionary entered into the function, change the value to the new remainder dictionary.\n",
    "- Print out the new dictionary.\n",
    "- Return the dictionary.\n",
    "\n",
    "Notes/Hints:\n",
    "\n",
    "- keyword arguments are specified in functions like so: \n",
    "    ```python\n",
    "    def example_function(arg1, kwarg1=default_value):\n",
    "    ```\n",
    "- The operator for finding the remainder of two values is: ```%```\n",
    "    ```python\n",
    "    14 % 5 == 4\n",
    "    ```"
   ]
  },
  {
   "cell_type": "code",
   "execution_count": 9,
   "metadata": {
    "collapsed": false
   },
   "outputs": [],
   "source": [
    "test_dict = {'A':[1,2,3,4,5], 'B':[12.1, 14.2, 20.3, 25.4], 'C':[10, 25.5, 50.9, 101]}\n",
    "optional_remainder = [2,3,4,5]\n",
    "\n",
    "# 1. Run the function with the default keyword argument\n",
    "# 2. Run the function assigning the default keyword argument to the optional list"
   ]
  },
  {
   "cell_type": "code",
   "execution_count": 37,
   "metadata": {
    "collapsed": false
   },
   "outputs": [],
   "source": [
    "from pprint import pprint\n",
    "#sample - simple\n",
    "def dict_factory(in_dict, remainder=2):\n",
    "    print in_dict\n",
    "    print remainder\n",
    "    rem_dict = {}\n",
    "    for vl in in_dict.values():\n",
    "        for item in vl:\n",
    "            if rem_dict.get(item) == None:\n",
    "                rem_dict[item] = [(item % remainder)]        \n",
    "            else:\n",
    "                rem_dict[item].append(item % remainder) \n",
    "    print rem_dict \n",
    "    return rem_dict\n",
    "\n",
    "# with optional\n",
    "def dict_factory(in_dict, remainder=2):\n",
    "    print in_dict\n",
    "    print remainder\n",
    "    rem_dict = {}\n",
    "    for vl in in_dict.values():\n",
    "        for item in vl:\n",
    "            for remvl in remainder:\n",
    "                if rem_dict.get(item) == None:\n",
    "                    rem_dict[item] = [(item % remvl)]        \n",
    "                else:\n",
    "                    rem_dict[item].append(item % remvl) \n",
    "    pprint(rem_dict) \n",
    "    return rem_dict\n",
    "\n"
   ]
  },
  {
   "cell_type": "code",
   "execution_count": 46,
   "metadata": {
    "collapsed": false
   },
   "outputs": [
    {
     "name": "stdout",
     "output_type": "stream",
     "text": [
      "{'A': 1, 'C': 3, 'B': 2}\n",
      "<enumerate object at 0x106495280>\n",
      "[1, 3, 2]\n",
      "['A', 'C', 'B']\n"
     ]
    }
   ],
   "source": [
    "mydict = {'A':1,'B':2,'C':3}\n",
    "print mydict\n",
    "print enumerate(mydict)\n",
    "print mydict.values()\n",
    "print mydict.keys()"
   ]
  },
  {
   "cell_type": "code",
   "execution_count": 39,
   "metadata": {
    "collapsed": false
   },
   "outputs": [
    {
     "name": "stdout",
     "output_type": "stream",
     "text": [
      "{'A': [1, 2, 3, 4, 5], 'C': [10, 25.5, 50.9, 101], 'B': [12.1, 14.2, 20.3, 25.4]}\n",
      "[2, 3, 4, 5]\n",
      "{1: [1, 1, 1, 1],\n",
      " 2: [0, 2, 2, 2],\n",
      " 3: [1, 0, 3, 3],\n",
      " 4: [0, 1, 0, 4],\n",
      " 5: [1, 2, 1, 0],\n",
      " 10: [0, 1, 2, 0],\n",
      " 12.1: [0.09999999999999964,\n",
      "        0.09999999999999964,\n",
      "        0.09999999999999964,\n",
      "        2.0999999999999996],\n",
      " 14.2: [0.1999999999999993,\n",
      "        2.1999999999999993,\n",
      "        2.1999999999999993,\n",
      "        4.199999999999999],\n",
      " 20.3: [0.3000000000000007,\n",
      "        2.3000000000000007,\n",
      "        0.3000000000000007,\n",
      "        0.3000000000000007],\n",
      " 25.4: [1.3999999999999986,\n",
      "        1.3999999999999986,\n",
      "        1.3999999999999986,\n",
      "        0.3999999999999986],\n",
      " 25.5: [1.5, 1.5, 1.5, 0.5],\n",
      " 50.9: [0.8999999999999986,\n",
      "        2.8999999999999986,\n",
      "        2.8999999999999986,\n",
      "        0.8999999999999986],\n",
      " 101: [1, 2, 1, 1]}\n"
     ]
    },
    {
     "data": {
      "text/plain": [
       "{1: [1, 1, 1, 1],\n",
       " 2: [0, 2, 2, 2],\n",
       " 3: [1, 0, 3, 3],\n",
       " 4: [0, 1, 0, 4],\n",
       " 5: [1, 2, 1, 0],\n",
       " 10: [0, 1, 2, 0],\n",
       " 12.1: [0.09999999999999964,\n",
       "  0.09999999999999964,\n",
       "  0.09999999999999964,\n",
       "  2.0999999999999996],\n",
       " 14.2: [0.1999999999999993,\n",
       "  2.1999999999999993,\n",
       "  2.1999999999999993,\n",
       "  4.199999999999999],\n",
       " 20.3: [0.3000000000000007,\n",
       "  2.3000000000000007,\n",
       "  0.3000000000000007,\n",
       "  0.3000000000000007],\n",
       " 25.4: [1.3999999999999986,\n",
       "  1.3999999999999986,\n",
       "  1.3999999999999986,\n",
       "  0.3999999999999986],\n",
       " 25.5: [1.5, 1.5, 1.5, 0.5],\n",
       " 50.9: [0.8999999999999986,\n",
       "  2.8999999999999986,\n",
       "  2.8999999999999986,\n",
       "  0.8999999999999986],\n",
       " 101: [1, 2, 1, 1]}"
      ]
     },
     "execution_count": 39,
     "metadata": {},
     "output_type": "execute_result"
    }
   ],
   "source": [
    "dict_factory(test_dict,optional_remainder)\n",
    "\n"
   ]
  },
  {
   "cell_type": "code",
   "execution_count": 2,
   "metadata": {
    "collapsed": false
   },
   "outputs": [
    {
     "data": {
      "text/plain": [
       "0.1999999999999993"
      ]
     },
     "execution_count": 2,
     "metadata": {},
     "output_type": "execute_result"
    }
   ],
   "source": []
  },
  {
   "cell_type": "code",
   "execution_count": 3,
   "metadata": {
    "collapsed": false
   },
   "outputs": [
    {
     "data": {
      "text/plain": [
       "1.3000000000000007"
      ]
     },
     "execution_count": 3,
     "metadata": {},
     "output_type": "execute_result"
    }
   ],
   "source": []
  },
  {
   "cell_type": "code",
   "execution_count": null,
   "metadata": {
    "collapsed": true
   },
   "outputs": [],
   "source": []
  }
 ],
 "metadata": {
  "anaconda-cloud": {},
  "kernelspec": {
   "display_name": "Python [Root]",
   "language": "python",
   "name": "Python [Root]"
  },
  "language_info": {
   "codemirror_mode": {
    "name": "ipython",
    "version": 2
   },
   "file_extension": ".py",
   "mimetype": "text/x-python",
   "name": "python",
   "nbconvert_exporter": "python",
   "pygments_lexer": "ipython2",
   "version": "2.7.11"
  }
 },
 "nbformat": 4,
 "nbformat_minor": 0
}
