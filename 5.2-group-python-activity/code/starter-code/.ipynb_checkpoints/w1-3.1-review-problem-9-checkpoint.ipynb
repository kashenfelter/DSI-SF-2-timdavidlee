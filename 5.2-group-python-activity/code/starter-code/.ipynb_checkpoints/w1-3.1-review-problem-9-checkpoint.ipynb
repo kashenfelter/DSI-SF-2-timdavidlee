{
 "cells": [
  {
   "cell_type": "markdown",
   "metadata": {},
   "source": [
    "### Review problem 9 (expert)\n",
    "\n",
    "For this problem you write a function that takes a multi-tiered dictionary of arbitrary depth. Your function will need to iterate through the dictionary, printing out the contents.\n",
    "\n",
    "Your function should:\n",
    "\n",
    "- Accept the predefined dictionary as an argument.\n",
    "- For each key:value pair, print out the key and the value:\n",
    "    - If the value is also a dictionary, do the same, printing out the key:value pair but with tabs equivalent to the current \"depth\" indicating what level we are on.\n",
    "    - Note: tab in strings is written as ```\\t```\n",
    "    \n",
    "Example:\n",
    "```python\n",
    "'key1' : 'value1'\n",
    "'key2' :\n",
    "    'key3' : 'value3'\n",
    "    'key4' : 'value4'\n",
    "    'key5' :\n",
    "        'key6': 'value6'\n",
    "'key7' : 'value7'\n",
    "```\n"
   ]
  },
  {
   "cell_type": "code",
   "execution_count": 4,
   "metadata": {
    "collapsed": true
   },
   "outputs": [],
   "source": [
    "tiered_dict = {'T1.1':'V1.1', \n",
    "               'T1.2':'V1.2',\n",
    "               'T1.3':{'T2.1':'V2.1',\n",
    "                       'T2.2':['V2.2.1','V2.2.2'],\n",
    "                       'T2.3':{'T3.1':['V3.1.1','V3.1.2'],\n",
    "                               'T3.2':'V3.2',\n",
    "                               'T3.3':'V3.3'}},\n",
    "               'T1.4':{'T2.4':{'T3.4':{'T4.1':'V4.1',\n",
    "                                       'T4.2':'V4.2'},\n",
    "                               'T3.5':{'T4.3':'V4.3'}},\n",
    "                       'T2.5':['V2.3.1','V2.3.2']},\n",
    "               }"
   ]
  },
  {
   "cell_type": "code",
   "execution_count": 33,
   "metadata": {
    "collapsed": false
   },
   "outputs": [
    {
     "name": "stdout",
     "output_type": "stream",
     "text": [
      "\tT1.4 :\n",
      "\t\tT2.4 :\n",
      "\t\t\tT3.5 :\n",
      "\t\t\t\tT4.3 : V4.3\n",
      "\t\t\tT3.4 :\n",
      "\t\t\t\tT4.2 : V4.2\n",
      "\t\t\t\tT4.1 : V4.1\n",
      "\t\tT2.5 : ['V2.3.1', 'V2.3.2']\n",
      "\tT1.3 :\n",
      "\t\tT2.1 : V2.1\n",
      "\t\tT2.2 : ['V2.2.1', 'V2.2.2']\n",
      "\t\tT2.3 :\n",
      "\t\t\tT3.1 : ['V3.1.1', 'V3.1.2']\n",
      "\t\t\tT3.3 : V3.3\n",
      "\t\t\tT3.2 : V3.2\n",
      "\tT1.2 : V1.2\n",
      "\tT1.1 : V1.1\n"
     ]
    }
   ],
   "source": [
    "# Write your function here:\n",
    "def print_dict(tiered_dict, depth):\n",
    "    for ky, val in tiered_dict.items():\n",
    "        spacer = ''\n",
    "        for i in range(depth):\n",
    "            spacer +='\\t'\n",
    "        \n",
    "        if type(val) == dict:\n",
    "            print spacer, ky,':'\n",
    "            print_dict(val,depth+1)\n",
    "        else:\n",
    "            print spacer, ky,':', val\n",
    "            \n",
    "print_dict(tiered_dict,1)\n",
    "\n"
   ]
  },
  {
   "cell_type": "code",
   "execution_count": 26,
   "metadata": {
    "collapsed": false
   },
   "outputs": [
    {
     "name": "stdout",
     "output_type": "stream",
     "text": [
      "{'T2.4': {'T3.5': {'T4.3': 'V4.3'}, 'T3.4': {'T4.2': 'V4.2', 'T4.1': 'V4.1'}}, 'T2.5': ['V2.3.1', 'V2.3.2']}\n",
      "{'T2.1': 'V2.1', 'T2.2': ['V2.2.1', 'V2.2.2'], 'T2.3': {'T3.1': ['V3.1.1', 'V3.1.2'], 'T3.3': 'V3.3', 'T3.2': 'V3.2'}}\n",
      "V1.2\n",
      "V1.1\n"
     ]
    }
   ],
   "source": [
    "for ky, val in tiered_dict.items():\n",
    "    print val"
   ]
  },
  {
   "cell_type": "code",
   "execution_count": null,
   "metadata": {
    "collapsed": true
   },
   "outputs": [],
   "source": []
  }
 ],
 "metadata": {
  "kernelspec": {
   "display_name": "Python [dsi]",
   "language": "python",
   "name": "Python [dsi]"
  },
  "language_info": {
   "codemirror_mode": {
    "name": "ipython",
    "version": 2
   },
   "file_extension": ".py",
   "mimetype": "text/x-python",
   "name": "python",
   "nbconvert_exporter": "python",
   "pygments_lexer": "ipython2",
   "version": "2.7.12"
  }
 },
 "nbformat": 4,
 "nbformat_minor": 0
}
