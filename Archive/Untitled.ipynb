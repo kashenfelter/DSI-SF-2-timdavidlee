{
 "cells": [
  {
   "cell_type": "code",
   "execution_count": 19,
   "metadata": {
    "collapsed": false
   },
   "outputs": [],
   "source": [
    "import yaml\n",
    "credentials = yaml.load(open('credentials.yml'))\n",
    "\n",
    "twitter_key = credentials['twitter_key']\n",
    "twitter_secret = credentials['twitter_secret']\n",
    "token = credentials['twitter_token']\n",
    "token_secret = credentials['twitter_tokensecret']\n",
    "\n",
    "import twitter\n",
    "auth = twitter.OAuth(token, token_secret, twitter_key, twitter_secret)\n",
    "twitter_api = twitter.Twitter(auth=auth)\n",
    "\n",
    "\n",
    "search_string = '#ASC2016&max_id=763530440934391808'\n",
    "count = 100\n",
    "search_results = twitter_api.search.tweets(\n",
    "                                    q=search_string\n",
    "                                    , count=count)\n",
    "\n"
   ]
  },
  {
   "cell_type": "code",
   "execution_count": 20,
   "metadata": {
    "collapsed": false
   },
   "outputs": [],
   "source": [
    "import json\n",
    "with open('data.txt', 'w') as outfile:\n",
    "    json.dump(search_results, outfile)\n",
    "\n"
   ]
  },
  {
   "cell_type": "code",
   "execution_count": 21,
   "metadata": {
    "collapsed": false
   },
   "outputs": [
    {
     "data": {
      "text/plain": [
       "0"
      ]
     },
     "execution_count": 21,
     "metadata": {},
     "output_type": "execute_result"
    }
   ],
   "source": [
    "len(search_results['statuses'])\n"
   ]
  },
  {
   "cell_type": "code",
   "execution_count": 22,
   "metadata": {
    "collapsed": true
   },
   "outputs": [],
   "source": [
    "for x in search_results['statuses']:\n",
    "    print x['id']"
   ]
  },
  {
   "cell_type": "code",
   "execution_count": 18,
   "metadata": {
    "collapsed": false
   },
   "outputs": [
    {
     "name": "stdout",
     "output_type": "stream",
     "text": [
      "766695420575744000\n",
      "766669670707499008\n",
      "766617062513016832\n",
      "766330341036437504\n",
      "766330139130986496\n",
      "766254684520800256\n",
      "766153956439552000\n",
      "766139151565459456\n",
      "766133860518289408\n",
      "766078473303621633\n",
      "766069858177998849\n",
      "765896403231072256\n",
      "765890095077400576\n",
      "765795518161285122\n",
      "765794095373676548\n",
      "765610564290682882\n",
      "765586564294578177\n",
      "765568408670707713\n",
      "765567330441007108\n",
      "765534006129680384\n",
      "765363831157776384\n",
      "765260156674322432\n",
      "765171739299110912\n",
      "764991283333066752\n",
      "764805126175547393\n",
      "764669338787774467\n",
      "764669296106549249\n",
      "764669258877906944\n",
      "764669229639446528\n",
      "764669213684273152\n",
      "764340876839624705\n",
      "764294912854544384\n",
      "764294816947548160\n",
      "764261499086987266\n",
      "763916037574184962\n",
      "763915935493201920\n",
      "763890286275792900\n",
      "763806908398592001\n",
      "763792806926221312\n",
      "763785158466035712\n",
      "763708128936529920\n",
      "763662008306860032\n",
      "763641839249424384\n",
      "763530440934391808\n"
     ]
    }
   ],
   "source": [
    "for x in search_results['statuses']:\n",
    "    print x['id']"
   ]
  },
  {
   "cell_type": "code",
   "execution_count": 13,
   "metadata": {
    "collapsed": false
   },
   "outputs": [
    {
     "name": "stdout",
     "output_type": "stream",
     "text": [
      "{\n",
      "    \"completed_in\": 0.068,\n",
      "    \"count\": 100,\n",
      "    \"max_id\": 766695420575744000,\n",
      "    \"max_id_str\": \"766695420575744000\",\n",
      "    \"query\": \"%23ASC2016\",\n",
      "    \"refresh_url\": \"?since_id=766695420575744000&q=%23ASC2016&include_entities=1\",\n",
      "    \"since_id\": 0,\n",
      "    \"since_id_str\": \"0\"\n",
      "}\n"
     ]
    }
   ],
   "source": [
    "print json.dumps(search_results['search_metadata'], sort_keys=True, indent=4, separators=(',', ': '))"
   ]
  },
  {
   "cell_type": "code",
   "execution_count": null,
   "metadata": {
    "collapsed": true
   },
   "outputs": [],
   "source": []
  }
 ],
 "metadata": {
  "kernelspec": {
   "display_name": "Python 2",
   "language": "python",
   "name": "python2"
  },
  "language_info": {
   "codemirror_mode": {
    "name": "ipython",
    "version": 2
   },
   "file_extension": ".py",
   "mimetype": "text/x-python",
   "name": "python",
   "nbconvert_exporter": "python",
   "pygments_lexer": "ipython2",
   "version": "2.7.11"
  }
 },
 "nbformat": 4,
 "nbformat_minor": 0
}
