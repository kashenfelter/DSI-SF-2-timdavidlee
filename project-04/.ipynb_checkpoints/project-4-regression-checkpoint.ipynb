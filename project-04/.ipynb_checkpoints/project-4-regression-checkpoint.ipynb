{
 "cells": [
  {
   "cell_type": "markdown",
   "metadata": {},
   "source": [
    "<img src=\"http://imgur.com/1ZcRyrc.png\" style=\"float: left; margin: 15px; height: 80px\">\n",
    "\n",
    "# Project 4\n",
    "\n",
    "## San Francisco Data\n",
    "\n",
    "---\n",
    "\n",
    "[San Francisco provides a wealth of data on the city to the public.](https://data.sfgov.org/) Project 4 is all about exploring this data and modeling interesting relationships with regression.\n",
    "\n",
    "Project 4 is also much more open-ended than the previous projects. You are more responsible for finding things about the data that interest you, coming up with your own hypothesis about it, and reporting on the analysis you carry out. That being said, there are still specific requirements and restrictions on the type of models you will be constructing.\n",
    "\n",
    "---\n",
    "\n",
    "## Notes on the data\n",
    "\n",
    "We have gone through the above website and pulled out a variety of different datasets that we think are particularly interesting. Some of the datasets are from external sources as well, but all are related to San Francisco. A high level overview of data folders is provided after the project requirements section.\n",
    "\n",
    "**There is a lot of different data. You are _NOT_ expected to explore all of it or include all of it in analyses.** The point of the project is to focus on aspects of San Francisco that are particularly interesting to you from a modeling point of view. \n",
    "\n",
    "**The uncompressed data is a large filesize.** Even the compressed data is pretty large. The data is compressed into a .7z format which has one of the smallest filesizes available. You will likely need a 3rd party app to extract it. \n",
    "\n",
    "### Recommended Utilities for .7z\n",
    "- For OSX [Keka](http://www.kekaosx.com/en/) or [The Unarchiver](http://wakaba.c3.cx/s/apps/unarchiver.html). \n",
    "- For Windows [7-zip](http://www.7-zip.org/) is the standard. \n",
    "- For Linux try the `p7zip` utility.  `sudo apt-get install p7zip`.\n",
    "\n",
    "---\n",
    "\n",
    "## Project requirements\n",
    "\n",
    "**You will be performing 4 different sections of analysis on the San Francisco data.**\n",
    "\n",
    "**Models must be regression. This means that your target variable needs to be numeric/continuous**\n",
    "\n",
    "Do not perform classification models – this will be the topic of week 4.\n"
   ]
  },
  {
   "cell_type": "markdown",
   "metadata": {},
   "source": [
    "<img src=\"http://imgur.com/l5NasQj.png\" style=\"float: left; margin: 25px 15px 0px 0px; height: 25px\">\n",
    "\n",
    "### 1. Choose a dataset or datasets of interest to you and perform EDA\n",
    "\n",
    "---\n",
    "\n",
    "1. Explain what the data is. This may include multiple csv files. Some of this data has hard to understand codes representing the variables. Nearly all data is pulled from https://data.sfgov.org/ so this is a very good resource for determining what the data is.\n",
    "- Clean the data.\n",
    "- Develop and state clearly a hypothesis about the data that you would want to test.\n",
    "- Create some initial visualizations on the portions of the data relevant to your hypothesis."
   ]
  },
  {
   "cell_type": "code",
   "execution_count": 6,
   "metadata": {
    "collapsed": false
   },
   "outputs": [],
   "source": [
    "import pandas as pd\n",
    "import numpy as np\n",
    "import seaborn as sns\n",
    "import patsy\n",
    "\n",
    "from matplotlib import pyplot as plt\n",
    "from sklearn.linear_model import LinearRegression, RidgeCV, Ridge, Lasso, LassoCV\n",
    "%matplotlib inline\n"
   ]
  },
  {
   "cell_type": "code",
   "execution_count": 284,
   "metadata": {
    "collapsed": true
   },
   "outputs": [],
   "source": [
    "# checked the parks data, and it had ratings, acreage and district. Unfortunately after checking it out,\n",
    "# the ratings per park were generally consistent at around 8-9 out of a score of 10, so any type of\n",
    "# linear regression would not have been better than guessing the mean rating\n",
    "\n",
    "# checked a number of other datasets which had no numeric values, or \n",
    "# no linkable values to other datasets\n",
    "\n",
    "# as a result, tried to link the following datasets together by zip code:\n",
    "# fire incidents\n",
    "# eviction notices\n",
    "# business permits\n",
    "# park count\n",
    "\n",
    "#unfortunately there's only 23 zip codes, so the maximum amount of data points possible is \n",
    "#23, and some of the data didnt have zip codes coded, so there was some data loss when \n",
    "# assembling all the data together. Below is the EDA and cleaning"
   ]
  },
  {
   "cell_type": "code",
   "execution_count": null,
   "metadata": {
    "collapsed": false
   },
   "outputs": [],
   "source": []
  },
  {
   "cell_type": "code",
   "execution_count": 7,
   "metadata": {
    "collapsed": false
   },
   "outputs": [
    {
     "name": "stdout",
     "output_type": "stream",
     "text": [
      "<class 'pandas.core.frame.DataFrame'>\n",
      "RangeIndex: 180974 entries, 0 to 180973\n",
      "Data columns (total 15 columns):\n",
      "Location_ID                180974 non-null object\n",
      "Business_Account_Number    180974 non-null int64\n",
      "Ownership_Name             180973 non-null object\n",
      "DBA Name                   180959 non-null object\n",
      "Street_Address             180969 non-null object\n",
      "City                       180702 non-null object\n",
      "State                      180290 non-null object\n",
      "Zip_Code                   180882 non-null float64\n",
      "Business_Start_Date        180974 non-null object\n",
      "Business_End_Date          29727 non-null object\n",
      "Location Start Date        180974 non-null object\n",
      "Location_End_Date          42201 non-null object\n",
      "Mail_Address               180972 non-null object\n",
      "Mail_City_State_Zip        180973 non-null object\n",
      "Business_Location          180491 non-null object\n",
      "dtypes: float64(1), int64(1), object(13)\n",
      "memory usage: 20.7+ MB\n",
      "None\n"
     ]
    }
   ],
   "source": [
    "file_path = '/Users/tlee010/desktop/san_francisco/san_francisco/business_permits/sf_business_locations_permits.csv'\n",
    "biz_info = pd.read_csv(file_path)\n",
    "print biz_info.info()\n",
    "biz_info.head()\n",
    "biz_info['Zipcode'] =biz_info['Zip_Code']\n",
    "bizct_zip = biz_info.groupby('Zipcode')[['Location_ID']].count()\n",
    "bizct_zip.reset_index(inplace=True)"
   ]
  },
  {
   "cell_type": "code",
   "execution_count": null,
   "metadata": {
    "collapsed": true
   },
   "outputs": [],
   "source": []
  },
  {
   "cell_type": "code",
   "execution_count": 8,
   "metadata": {
    "collapsed": false
   },
   "outputs": [
    {
     "name": "stderr",
     "output_type": "stream",
     "text": [
      "/Users/tlee010/anaconda/envs/dsi/lib/python2.7/site-packages/IPython/core/interactiveshell.py:2723: DtypeWarning: Columns (11,12,19,44,58) have mixed types. Specify dtype option on import or set low_memory=False.\n",
      "  interactivity=interactivity, compiler=compiler, result=result)\n"
     ]
    },
    {
     "name": "stdout",
     "output_type": "stream",
     "text": [
      "<class 'pandas.core.frame.DataFrame'>\n",
      "RangeIndex: 406736 entries, 0 to 406735\n",
      "Data columns (total 64 columns):\n",
      "Incident Number                                 406736 non-null int64\n",
      "Exposure Number                                 406736 non-null int64\n",
      "Address                                         406633 non-null object\n",
      "Incident Date                                   406736 non-null object\n",
      "Call Number                                     406736 non-null int64\n",
      "Alarm DtTm                                      406736 non-null object\n",
      "Arrival DtTm                                    406718 non-null object\n",
      "Close DtTm                                      406736 non-null object\n",
      "City                                            405509 non-null object\n",
      "Zipcode                                         334349 non-null float64\n",
      "Battalion                                       406736 non-null object\n",
      "Station Area                                    406207 non-null object\n",
      "Box                                             108915 non-null object\n",
      "Suppression Units                               406736 non-null int64\n",
      "Suppression Personnel                           406736 non-null int64\n",
      "EMS Units                                       406736 non-null int64\n",
      "EMS Personnel                                   406736 non-null int64\n",
      "Other Units                                     406736 non-null int64\n",
      "Other Personnel                                 406736 non-null int64\n",
      "First Unit On Scene                             329809 non-null object\n",
      "Estimated Property Loss                         125775 non-null float64\n",
      "Estimated Contents Loss                         132853 non-null float64\n",
      "Fire Fatalities                                 406736 non-null int64\n",
      "Fire Injuries                                   406736 non-null int64\n",
      "Civilian Fatalities                             406736 non-null int64\n",
      "Civilian Injuries                               406736 non-null int64\n",
      "Number of Alarms                                0 non-null float64\n",
      "Primary Situation                               406736 non-null object\n",
      "Mutual Aid                                      406736 non-null object\n",
      "Action Taken Primary                            406736 non-null object\n",
      "Action Taken Secondary                          342032 non-null object\n",
      "Action Taken Other                              336724 non-null object\n",
      "Detector Alerted Occupants                      338693 non-null object\n",
      "Property Use                                    406404 non-null object\n",
      "Area of Fire Origin                             26791 non-null object\n",
      "Ignition Cause                                  26790 non-null object\n",
      "Ignition Factor Primary                         26789 non-null object\n",
      "Ignition Factor Secondary                       24143 non-null object\n",
      "Heat Source                                     26791 non-null object\n",
      "Item First Ignited                              26791 non-null object\n",
      "Human Factors Associated with Ignition          26788 non-null object\n",
      "Structure Type                                  10405 non-null object\n",
      "Structure Status                                10337 non-null object\n",
      "Floor of Fire Origin                            7324 non-null float64\n",
      "Fire Spread                                     9586 non-null object\n",
      "No Flame Spead                                  75936 non-null object\n",
      "Number of floors with minimum damage            6586 non-null float64\n",
      "Number of floors with significant damage        6584 non-null float64\n",
      "Number of floors with heavy damage              6586 non-null float64\n",
      "Number of floors with extreme damage            6587 non-null float64\n",
      "Detectors Present                               10338 non-null object\n",
      "Detector Type                                   9991 non-null object\n",
      "Detector Operation                              9991 non-null object\n",
      "Detector Effectiveness                          9862 non-null object\n",
      "Detector Failure Reason                         9604 non-null object\n",
      "Automatic Extinguishing System Present          10337 non-null object\n",
      "Automatic Extinguishing Sytem Type              9776 non-null object\n",
      "Automatic Extinguishing Sytem Perfomance        9776 non-null object\n",
      "Automatic Extinguishing Sytem Failure Reason    9592 non-null object\n",
      "Number of Sprinkler Heads Operating             6640 non-null float64\n",
      "Supervisor District                             334334 non-null float64\n",
      "Neighborhood  District                          334230 non-null object\n",
      "Location                                        343046 non-null object\n",
      "YEAR                                            406736 non-null object\n",
      "dtypes: float64(11), int64(13), object(40)\n",
      "memory usage: 198.6+ MB\n",
      "None\n",
      "complete\n"
     ]
    },
    {
     "name": "stderr",
     "output_type": "stream",
     "text": [
      "/Users/tlee010/anaconda/envs/dsi/lib/python2.7/site-packages/IPython/core/interactiveshell.py:2723: DtypeWarning: Columns (4) have mixed types. Specify dtype option on import or set low_memory=False.\n",
      "  interactivity=interactivity, compiler=compiler, result=result)\n"
     ]
    }
   ],
   "source": [
    "# link all things \n",
    "# park data \n",
    "file_path = '/Users/tlee010/desktop/san_francisco/san_francisco/parks/park_info.csv'\n",
    "park_info = pd.read_csv(file_path)\n",
    "#print park_info.head()\n",
    "#print park_info.shape\n",
    "\n",
    "parkct_zip = park_info.groupby('Zipcode')[['ParkID']].count()\n",
    "parkct_zip.reset_index(inplace=True)\n",
    "\n",
    "\n",
    "# \n",
    "file_path = '/Users/tlee010/desktop/san_francisco/san_francisco/fire_data/fire_incidents.csv'\n",
    "fire = pd.read_csv(file_path)\n",
    "fire['YEAR'] = fire['Incident Date'].map(lambda x: x.split('/')[-1])\n",
    "# print fire.shape\n",
    "print fire.info()\n",
    "# print fire.head()\n",
    "\n",
    "firect_zip = fire.groupby(['Zipcode','YEAR'])['Exposure Number','Incident Number'].count()\n",
    "firect_zip.reset_index(inplace=True)\n",
    "\n",
    "#\n",
    "file_path = '/Users/tlee010/desktop/san_francisco/san_francisco/evictions/sf_eviction_notices.csv'\n",
    "evictions = pd.read_csv(file_path)\n",
    "evictions['Zipcode'] = evictions['Eviction Notice Source Zipcode']\n",
    "evictions['YEAR'] = evictions['File Date'].map(lambda x: x.split('/')[-1])\n",
    "evictionct_zip = evictions.groupby('Zipcode')[['Eviction ID']].count()\n",
    "evictionct_zip.reset_index(inplace=True)\n",
    "print 'complete'\n"
   ]
  },
  {
   "cell_type": "code",
   "execution_count": 10,
   "metadata": {
    "collapsed": false
   },
   "outputs": [
    {
     "data": {
      "text/html": [
       "<div>\n",
       "<table border=\"1\" class=\"dataframe\">\n",
       "  <thead>\n",
       "    <tr style=\"text-align: right;\">\n",
       "      <th></th>\n",
       "      <th>Zipcode</th>\n",
       "      <th>Eviction ID</th>\n",
       "    </tr>\n",
       "  </thead>\n",
       "  <tbody>\n",
       "    <tr>\n",
       "      <th>0</th>\n",
       "      <td>9</td>\n",
       "      <td>2</td>\n",
       "    </tr>\n",
       "    <tr>\n",
       "      <th>1</th>\n",
       "      <td>94</td>\n",
       "      <td>1</td>\n",
       "    </tr>\n",
       "    <tr>\n",
       "      <th>2</th>\n",
       "      <td>941</td>\n",
       "      <td>9</td>\n",
       "    </tr>\n",
       "    <tr>\n",
       "      <th>3</th>\n",
       "      <td>9411</td>\n",
       "      <td>1</td>\n",
       "    </tr>\n",
       "    <tr>\n",
       "      <th>4</th>\n",
       "      <td>9412</td>\n",
       "      <td>1</td>\n",
       "    </tr>\n",
       "  </tbody>\n",
       "</table>\n",
       "</div>"
      ],
      "text/plain": [
       "  Zipcode  Eviction ID\n",
       "0       9            2\n",
       "1      94            1\n",
       "2     941            9\n",
       "3    9411            1\n",
       "4    9412            1"
      ]
     },
     "execution_count": 10,
     "metadata": {},
     "output_type": "execute_result"
    }
   ],
   "source": [
    "#evictions.head()\n",
    "evictionct_zip.head(5)"
   ]
  },
  {
   "cell_type": "code",
   "execution_count": 11,
   "metadata": {
    "collapsed": false
   },
   "outputs": [
    {
     "name": "stdout",
     "output_type": "stream",
     "text": [
      "   Zipcode  YEAR  Exposure Number  Incident Number\n",
      "0  94102.0  2003             2583             2583\n",
      "1  94102.0  2004             2338             2338\n",
      "2  94102.0  2005             2462             2462\n",
      "3  94102.0  2006             2287             2287\n",
      "4  94102.0  2007             2456             2456\n",
      "         Incident Number\n",
      "Zipcode                 \n",
      "94102.0      2524.000000\n",
      "94103.0      2751.857143\n",
      "94104.0       317.928571\n",
      "94105.0       878.928571\n",
      "94107.0      1180.500000\n"
     ]
    }
   ],
   "source": [
    "print firect_zip.head(5)\n",
    "firect_summary_zip = firect_zip.groupby('Zipcode')[['Incident Number']].mean()\n",
    "print firect_summary_zip.head(5)\n",
    "firect_summary_zip.reset_index(inplace=True)"
   ]
  },
  {
   "cell_type": "code",
   "execution_count": 12,
   "metadata": {
    "collapsed": false
   },
   "outputs": [
    {
     "data": {
      "text/html": [
       "<div>\n",
       "<table border=\"1\" class=\"dataframe\">\n",
       "  <thead>\n",
       "    <tr style=\"text-align: right;\">\n",
       "      <th></th>\n",
       "      <th>Zipcode</th>\n",
       "      <th>ParkID</th>\n",
       "    </tr>\n",
       "  </thead>\n",
       "  <tbody>\n",
       "    <tr>\n",
       "      <th>0</th>\n",
       "      <td>94044.0</td>\n",
       "      <td>1</td>\n",
       "    </tr>\n",
       "    <tr>\n",
       "      <th>1</th>\n",
       "      <td>94102.0</td>\n",
       "      <td>11</td>\n",
       "    </tr>\n",
       "    <tr>\n",
       "      <th>2</th>\n",
       "      <td>94103.0</td>\n",
       "      <td>3</td>\n",
       "    </tr>\n",
       "    <tr>\n",
       "      <th>3</th>\n",
       "      <td>94105.0</td>\n",
       "      <td>1</td>\n",
       "    </tr>\n",
       "    <tr>\n",
       "      <th>4</th>\n",
       "      <td>94107.0</td>\n",
       "      <td>8</td>\n",
       "    </tr>\n",
       "  </tbody>\n",
       "</table>\n",
       "</div>"
      ],
      "text/plain": [
       "   Zipcode  ParkID\n",
       "0  94044.0       1\n",
       "1  94102.0      11\n",
       "2  94103.0       3\n",
       "3  94105.0       1\n",
       "4  94107.0       8"
      ]
     },
     "execution_count": 12,
     "metadata": {},
     "output_type": "execute_result"
    }
   ],
   "source": [
    "parkct_zip.head(5)"
   ]
  },
  {
   "cell_type": "code",
   "execution_count": 13,
   "metadata": {
    "collapsed": false
   },
   "outputs": [
    {
     "name": "stdout",
     "output_type": "stream",
     "text": [
      "  Zipcode  Eviction_ct      Fire_ct  Biz_permit_ct  Park_ct\n",
      "0   94102          170  2524.000000           7723       11\n",
      "1   94103          210  2751.857143          10558        3\n",
      "2   94105            4   878.928571           6055        1\n",
      "3   94107           70  1180.500000           9138        8\n",
      "4   94108           50   840.642857           5455        7\n",
      "(23, 5)\n",
      "Zipcode          0\n",
      "Eviction_ct      0\n",
      "Fire_ct          0\n",
      "Biz_permit_ct    0\n",
      "Park_ct          0\n",
      "dtype: int64\n"
     ]
    }
   ],
   "source": [
    "working = pd.DataFrame()\n",
    "working = evictionct_zip.copy()\n",
    "working2 = working.merge(firect_summary_zip, how='inner',on='Zipcode')\n",
    "working3 = working2.merge(bizct_zip, how = 'inner', on = 'Zipcode')\n",
    "master = working3.merge(parkct_zip, how='inner',on='Zipcode')\n",
    "\n",
    "master.columns = ['Zipcode','Eviction_ct','Fire_ct','Biz_permit_ct','Park_ct']\n",
    "print master.head()\n",
    "print master.shape\n",
    "print master.isnull().sum()\n"
   ]
  },
  {
   "cell_type": "code",
   "execution_count": 14,
   "metadata": {
    "collapsed": false
   },
   "outputs": [
    {
     "name": "stdout",
     "output_type": "stream",
     "text": [
      "  Zipcode  Eviction_ct      Fire_ct  Biz_permit_ct  Park_ct\n",
      "0   94102          170  2524.000000           7723       11\n",
      "1   94103          210  2751.857143          10558        3\n",
      "2   94105            4   878.928571           6055        1\n",
      "3   94107           70  1180.500000           9138        8\n",
      "4   94108           50   840.642857           5455        7\n"
     ]
    },
    {
     "data": {
      "text/plain": [
       "<matplotlib.collections.PathCollection at 0x11e833050>"
      ]
     },
     "execution_count": 14,
     "metadata": {},
     "output_type": "execute_result"
    }
   ],
   "source": [
    "print master.head(5)\n",
    "plt.scatter(master['Park_ct'], master['Fire_ct'])\n"
   ]
  },
  {
   "cell_type": "code",
   "execution_count": 15,
   "metadata": {
    "collapsed": false
   },
   "outputs": [
    {
     "data": {
      "text/plain": [
       "<matplotlib.collections.PathCollection at 0x12060b450>"
      ]
     },
     "execution_count": 15,
     "metadata": {},
     "output_type": "execute_result"
    }
   ],
   "source": [
    "plt.scatter(master['Biz_permit_ct'], master['Eviction_ct'])"
   ]
  },
  {
   "cell_type": "markdown",
   "metadata": {},
   "source": [
    "<img src=\"http://imgur.com/l5NasQj.png\" style=\"float: left; margin: 25px 15px 0px 0px; height: 25px\">\n",
    "\n",
    "### 2. Construct and evaluate a linear regression model on the data\n",
    "\n",
    "---\n",
    "\n",
    "1. State the variables that are predictors in your linear regression and the target variable.\n",
    "- Investigate and remove any outliers or other problems in your data. _This is a subjective process._\n",
    "- Construct a linear regression model.\n",
    "- Evaluate the model. How does the $R^2$ of the overall model compare to cross-validated $R^2$. What do the differences in $R^2$ mean?\n",
    "  - Use test / train split\n",
    "  - Use K-Folds\n",
    "  - Compare and explain your results with both\n",
    "- Visualize the evaluation metrics of your analysis in clear charts.\n",
    "- Summarize your results in the context of your hypothesis. Frame this as if you are presenting to non-technical readers.\n"
   ]
  },
  {
   "cell_type": "code",
   "execution_count": 293,
   "metadata": {
    "collapsed": false
   },
   "outputs": [
    {
     "name": "stdout",
     "output_type": "stream",
     "text": [
      "(17,) <class 'pandas.core.series.Series'> (17,) <class 'pandas.core.series.Series'>\n",
      "0.0930526702137\n",
      "-0.943347031518 [ 0.24330012 -1.33013751 -1.74320371]\n"
     ]
    },
    {
     "data": {
      "image/png": "[encoded data removed]",
      "text/plain": [
       "<matplotlib.figure.Figure at 0x19ec23f10>"
      ]
     },
     "metadata": {
      "image/png": {
       "height": 258,
       "width": 386
      }
     },
     "output_type": "display_data"
    }
   ],
   "source": [
    "#1 \n",
    "#Biz_Permit  vs. Eviction_ct per zip code\n",
    "lm = LinearRegression()\n",
    "X = master['Biz_permit_ct']\n",
    "y = master['Eviction_ct']\n",
    "\n",
    "#2\n",
    "\n",
    "#3 - make a linear model\n",
    "X_train, X_test, y_train, y_test =  train_test_split(X,y, test_size=0.25)\n",
    "print X_train.shape, type(X_train), y_train.shape, type(X_train)\n",
    "X_modeling = X_train.reshape(len(X_train),1)\n",
    "model = lm.fit(X_modeling,y_train)\n",
    "\n",
    "#4 - check the model\n",
    "X_modeling_test = X_test.reshape(len(X_test),1)\n",
    "y_hat = model.predict(X_modeling_test)\n",
    "plt.plot(X_modeling_test,y_hat, color = 'green')\n",
    "plt.scatter(X_modeling_test,y_test,color = 'red')\n",
    "score = model.score(X_modeling_test,y_test)\n",
    "print score\n",
    "\n",
    "# the scores are wildly different because of the smaller dataset. \n",
    "# in addition, cross validating and sample testing makes the small dataset even smaller\n",
    "# when the sample testing is done, the variance between the datas is exaggerated,\n",
    "# resulting in very different scores when cross validating\n",
    "\n",
    "\n",
    "#5 - charts below\n",
    "\n",
    "\n",
    "score = cross_val_score(lm,X.reshape(len(X),1),y, cv=3)\n",
    "print score.mean(), score\n",
    "# Number of Business Permits vs. # of Evictions. \n"
   ]
  },
  {
   "cell_type": "code",
   "execution_count": 294,
   "metadata": {
    "collapsed": false
   },
   "outputs": [],
   "source": [
    "#6 There's a correlation between number of business permits and the number of evictions by zip code\n",
    "#\n",
    "# This makes intuitive sense, as businesses are usually clustered in high rent areas \n",
    "# with high turn over. This is compared and linked together at a zip code area, which\n",
    "# results in fewer datapoints (23). Ideally a future study would be done on a neighborhood level\n",
    "# underneath the zip codes\n",
    "\n"
   ]
  },
  {
   "cell_type": "code",
   "execution_count": null,
   "metadata": {
    "collapsed": false
   },
   "outputs": [],
   "source": []
  },
  {
   "cell_type": "markdown",
   "metadata": {},
   "source": [
    "<img src=\"http://imgur.com/xDpSobf.png\" style=\"float: left; margin: 25px 15px 0px 0px; height: 25px\">\n",
    "\n",
    "### 2.2 Explain $R^2$ vs. mean squared error (MSE)\n",
    "\n",
    "---\n",
    "\n",
    "1. If you have negative $R^2$ values in cross-validation, what does this mean? \n",
    "2. Why can $R^2$ only be negative when the model is tested on new data?"
   ]
  },
  {
   "cell_type": "code",
   "execution_count": null,
   "metadata": {
    "collapsed": true
   },
   "outputs": [],
   "source": [
    "# R^2 can only be between 0 and 1 when measured against the training data. The R2 score will tell\n",
    "# how close the predictions are to the actual values by a squared value\n",
    "#\n",
    "# when introducing new data, sometimes there's an unexpected outlier, or somethign outside the\n",
    "# trained model. as a result, the difference would be so large that there would be a negative error\n",
    "# it means that it is really wrong. And as a result, the model is worse than just using the baseline mean"
   ]
  },
  {
   "cell_type": "markdown",
   "metadata": {},
   "source": [
    "<img src=\"http://imgur.com/l5NasQj.png\" style=\"float: left; margin: 25px 15px 0px 0px; height: 25px\">\n",
    "\n",
    "### 3. Combine multiple sources of data and evaluate a model with regularized regression\n",
    "\n",
    "---\n",
    "\n",
    "**I recommend having many predictors to see benefits from regularization methods, but it's up to you.**\n",
    "\n",
    "1. Use _NEW_ sources of data for this section. It should not be related to your analysis/hypothesis from section 1.\n",
    "- Like in part 1, you should state a hypothesis and perform data cleaning and EDA _only_ on the relevant portions of your data. Don't waste time!\n",
    "- Construct and evaluate different models with cross-validated $R^2$. Compare LinearRegression, Lasso, Ridge, and ElasticNet. Find the optimal hyperparameters (alpha, l1_ratio) using gridsearch.\n",
    "- Report on which model is best, and why that might be the case (hint: does your data have multicollinearity? Irrelevant variables? Both?)\n",
    "- Plot visuals that compare the performance of the four models.\n"
   ]
  },
  {
   "cell_type": "code",
   "execution_count": 161,
   "metadata": {
    "collapsed": false
   },
   "outputs": [
    {
     "name": "stdout",
     "output_type": "stream",
     "text": [
      "    ROOMS    SQFT     LAREA  TOTAL_VALUE\n",
      "9      36  198525  57750.00     44382523\n",
      "10     19   24627  18906.25     22059143\n",
      "11      9    7073  63020.38       973585\n",
      "12      5    6800   6800.00      2089261\n",
      "14      2    4000  11000.00      1449630\n"
     ]
    }
   ],
   "source": [
    "\n",
    "#since i already did multiple joins before for problem 2, i will use a single dataset for prob 3\n",
    "# will look at assessor data, and try to \n",
    "\n",
    "file_path = '/Users/tlee010/desktop/san_francisco/san_francisco/assessor_office/assessor_data_2010_2011.csv'\n",
    "re_stuff = pd.read_csv(file_path)\n",
    "#print re_stuff.info()\n",
    "\n",
    "#RP1FXTVAL = fixture value\n",
    "#RP1IMPVAL = improvement value\n",
    "#RP1LNDVAL = Land value\n",
    "#RP1PPTVAL = personal value\n",
    "re_stuff['TOTAL_VALUE'] =re_stuff.apply(lambda x: x.RP1FXTVAL + x.RP1IMPVAL + x.RP1LNDVAL +x.RP1PPTVAL,axis=1) \n",
    "# cleaning - exclude any blanks\n",
    "re_subcol = re_stuff[(re_stuff['SQFT']!=0) &(re_stuff['ROOMS']!=0)&(re_stuff['LAREA']!=0)&(re_stuff['TOTAL_VALUE']!=0)][['ROOMS','SQFT','LAREA','TOTAL_VALUE']]\n",
    "\n",
    "# keeping sample size smaller to ensure that the lasso and ridge processes run\n",
    "re_subset = re_subcol.head(50000)\n",
    "print re_subset.head(5)\n",
    "\n"
   ]
  },
  {
   "cell_type": "code",
   "execution_count": 160,
   "metadata": {
    "collapsed": false
   },
   "outputs": [
    {
     "data": {
      "text/html": [
       "<div>\n",
       "<table border=\"1\" class=\"dataframe\">\n",
       "  <thead>\n",
       "    <tr style=\"text-align: right;\">\n",
       "      <th></th>\n",
       "      <th>ROOMS</th>\n",
       "      <th>SQFT</th>\n",
       "      <th>ROOMS</th>\n",
       "      <th>LAREA</th>\n",
       "      <th>TOTAL_VALUE</th>\n",
       "    </tr>\n",
       "  </thead>\n",
       "  <tbody>\n",
       "    <tr>\n",
       "      <th>118407</th>\n",
       "      <td>31</td>\n",
       "      <td>7000</td>\n",
       "      <td>31</td>\n",
       "      <td>2870.0</td>\n",
       "      <td>134</td>\n",
       "    </tr>\n",
       "  </tbody>\n",
       "</table>\n",
       "</div>"
      ],
      "text/plain": [
       "        ROOMS  SQFT  ROOMS   LAREA  TOTAL_VALUE\n",
       "118407     31  7000     31  2870.0          134"
      ]
     },
     "execution_count": 160,
     "metadata": {},
     "output_type": "execute_result"
    }
   ],
   "source": []
  },
  {
   "cell_type": "code",
   "execution_count": 163,
   "metadata": {
    "collapsed": false
   },
   "outputs": [
    {
     "name": "stdout",
     "output_type": "stream",
     "text": [
      "(40000, 3) (10000, 3) (40000, 1) (10000, 1)\n"
     ]
    }
   ],
   "source": [
    "from sklearn.linear_model import Ridge, Lasso, ElasticNet, LinearRegression, RidgeCV, LassoCV, ElasticNetCV\n",
    "from sklearn.preprocessing import StandardScaler\n",
    "from sklearn.cross_validation import cross_val_score, cross_val_predict, train_test_split\n",
    "from sklearn import grid_search\n",
    "import matplotlib.pyplot as plt\n",
    "\n",
    "\n",
    "import patsy\n",
    "\n",
    "formula = 'TOTAL_VALUE ~ ROOMS + SQFT + ROOMS + LAREA-1'\n",
    "y, X = patsy.dmatrices(formula, re_subset)\n",
    "scalar = StandardScaler()\n",
    "X = scalar.fit_transform(X)\n",
    "X_train, X_test, y_train, y_test = train_test_split(X,y,test_size=.2)\n",
    "print X_train.shape, X_test.shape, y_train.shape, y_test.shape"
   ]
  },
  {
   "cell_type": "code",
   "execution_count": 166,
   "metadata": {
    "collapsed": false
   },
   "outputs": [
    {
     "name": "stdout",
     "output_type": "stream",
     "text": [
      "0.615512115576\n",
      "0.345213659871 [-0.06245432 -0.10792325  0.76544884  0.45219202  0.67880501]\n"
     ]
    }
   ],
   "source": [
    "lm = LinearRegression()\n",
    "lmmodel = lm.fit(X_train,y_train)\n",
    "score = lm.score(X_train,y_train)\n",
    "print score\n",
    "CVscore = cross_val_score(lm,X_train,y_train, cv=5)\n",
    "y_CVS = cross_val_predict(lm,X_test,y_test, cv=5)\n",
    "print np.mean(CVscore), CVscore"
   ]
  },
  {
   "cell_type": "code",
   "execution_count": 168,
   "metadata": {
    "collapsed": false
   },
   "outputs": [
    {
     "name": "stdout",
     "output_type": "stream",
     "text": [
      "{'alpha': 1000000}\n",
      "1000000 0.56842611618\n",
      "[       0.          2417854.30594385        0.        ]\n"
     ]
    }
   ],
   "source": [
    "\n",
    "#------------------------------ LASSO --------------------------------#\n",
    "lasso = Lasso()\n",
    "lassoparams = {\n",
    "        'alpha': [1, 2, 5, 10, 20,50,100,1000,5000,10000,50000,100000,500000, 1000000,5000000]\n",
    "}\n",
    "lassoest = grid_search.GridSearchCV(lasso, lassoparams, cv=5)\n",
    "results = lassoest.fit(X_train,y_train)\n",
    "print results.best_params_\n",
    "#{'alpha': 1000000}\n",
    "\n",
    "lassoCV = LassoCV(alphas = [1000000],cv=5)\n",
    "lassoCVml = lassoCV.fit(X_train,np.ravel(y_train))\n",
    "print lassoCVml.alpha_, lassoCVml.score(X_train,y_train)\n",
    "print lassoCVml.coef_\n",
    "y_lassoCV = lassoCVml.predict(X_test)\n",
    "\n"
   ]
  },
  {
   "cell_type": "code",
   "execution_count": 176,
   "metadata": {
    "collapsed": false
   },
   "outputs": [
    {
     "name": "stdout",
     "output_type": "stream",
     "text": [
      "{'alpha': 50000}\n",
      "0.482892542291\n",
      "[  717871.33286621  1308553.03948535    44853.90486297]\n"
     ]
    }
   ],
   "source": [
    "\n",
    "#------------------------------ RIDGE --------------------------------#\n",
    "ridge = Ridge()\n",
    "ridgeparams = {\n",
    "        'alpha': [0.1, 1, 10, 100, 1000, 10000,50000, 100000, 500000, 1000000,10000000]\n",
    "}\n",
    "ridgeest = grid_search.GridSearchCV(ridge, ridgeparams, cv=5)\n",
    "results = ridgeest.fit(X_train,y_train)\n",
    "#ridgeCV = RidgeCV()\n",
    "print results.best_params_\n",
    "\n",
    "ridgeCV = RidgeCV(alphas=[50000], cv=5)\n",
    "ridgeCVmodel = ridgeCV.fit(X_train,np.ravel(y_train))\n",
    "print ridgeCVmodel.score(X_train,y_train)\n",
    "print ridgeCVmodel.coef_\n",
    "y_ridgeCV = ridgeCVmodel.predict(X_test)"
   ]
  },
  {
   "cell_type": "code",
   "execution_count": 177,
   "metadata": {
    "collapsed": false
   },
   "outputs": [
    {
     "name": "stdout",
     "output_type": "stream",
     "text": [
      "{'alpha': 1, 'l1_ratio': 0.2}\n",
      "0.529500924805\n"
     ]
    }
   ],
   "source": [
    "\n",
    "#------------------------------ Elasticnet --------------------------------#\n",
    "# Initialize gridsearch\n",
    "elastic = ElasticNet() \n",
    "elasticparams = {\n",
    "        'alpha': [0.001, 0.01, 0.1, 1, 10 ,100, 1000, 10000, 100000, 1000000]\n",
    "        , 'l1_ratio': [.01, .2,.3,.4,.5,.6,.7,.8,.9,.99]\n",
    "}\n",
    "enetest = grid_search.GridSearchCV(elastic, elasticparams, cv=5)\n",
    "results = enetest.fit(X_train,y_train)\n",
    "print results.best_params_\n",
    "#{'alpha': 0.1, 'l1_ratio': 0.01}\n",
    "\n",
    "elasticCV = ElasticNetCV(alphas=[1],l1_ratio=0.2)\n",
    "elasticCVmodel = elasticCV.fit(X_train,np.ravel(y_train))\n",
    "print elasticCVmodel.score(X_train,y_train)\n",
    "\n",
    "y_elasticCV = elasticCVmodel.predict(X_test)\n",
    "\n"
   ]
  },
  {
   "cell_type": "code",
   "execution_count": 181,
   "metadata": {
    "collapsed": false
   },
   "outputs": [
    {
     "data": {
      "text/plain": [
       "<matplotlib.collections.PathCollection at 0x131b8dd50>"
      ]
     },
     "execution_count": 181,
     "metadata": {},
     "output_type": "execute_result"
    },
    {
     "data": {
      "image/png": "[encoded data removed]",
      "text/plain": [
       "<matplotlib.figure.Figure at 0x140f8a090>"
      ]
     },
     "metadata": {},
     "output_type": "display_data"
    }
   ],
   "source": [
    "%matplotlib inline\n",
    "plt.scatter(y_test,y_CVS,color = 'purple', alpha=0.4)"
   ]
  },
  {
   "cell_type": "code",
   "execution_count": 180,
   "metadata": {
    "collapsed": false
   },
   "outputs": [
    {
     "data": {
      "text/plain": [
       "<matplotlib.collections.PathCollection at 0x121b6aed0>"
      ]
     },
     "execution_count": 180,
     "metadata": {},
     "output_type": "execute_result"
    },
    {
     "data": {
      "image/png": "[encoded data removed]",
      "text/plain": [
       "<matplotlib.figure.Figure at 0x13a7e6410>"
      ]
     },
     "metadata": {},
     "output_type": "display_data"
    }
   ],
   "source": [
    "\n",
    "fig = plt.figure(figsize =(10,7))\n",
    "\n",
    "plt.scatter(y_test,y_lassoCV,color = 'green', alpha=0.4)\n",
    "plt.scatter(y_test,y_ridgeCV,color = 'orange', alpha=0.4)\n",
    "plt.scatter(y_test,y_elasticCV,color = 'blue' , alpha=0.4)"
   ]
  },
  {
   "cell_type": "markdown",
   "metadata": {},
   "source": [
    "<img src=\"http://imgur.com/l5NasQj.png\" style=\"float: left; margin: 25px 15px 0px 0px; height: 25px\">\n",
    "\n",
    "### 4. Conduct another, different analysis and report on it\n",
    "\n",
    "---\n",
    "\n",
    "1. Combining multiple sources of data (csv files) is required.\n",
    "- Perform EDA and cleaning on relevant data.\n",
    "- Construct and compare different regression models with cross-validation.\n",
    "- Plot descriptive visuals you think are useful for understanding the data.\n",
    "- Report on your findings.\n",
    "\n",
    "This section is just another analysis like the first sections, but is more open-ended in what models you decide to build and why. Don't feel obligated to try every out every regularized regression model (though it doesn't hurt). \n",
    "\n"
   ]
  },
  {
   "cell_type": "code",
   "execution_count": 195,
   "metadata": {
    "collapsed": false
   },
   "outputs": [
    {
     "name": "stdout",
     "output_type": "stream",
     "text": [
      "<class 'pandas.core.frame.DataFrame'>\n",
      "RangeIndex: 44 entries, 0 to 43\n",
      "Data columns (total 4 columns):\n",
      "Neighborhood    44 non-null object\n",
      "City            44 non-null object\n",
      "Population      44 non-null object\n",
      "Polygon         44 non-null object\n",
      "dtypes: object(4)\n",
      "memory usage: 1.4+ KB\n",
      "None\n",
      "<class 'pandas.core.frame.DataFrame'>\n",
      "RangeIndex: 32455 entries, 0 to 32454\n",
      "Columns: 393 entries, business_id to worker safety\n",
      "dtypes: float64(8), int64(373), object(12)\n",
      "memory usage: 97.3+ MB\n",
      "None\n",
      "   business_id  score        date     type  violation_count  \\\n",
      "0         10.0   92.0  2014-01-14  routine              1.0   \n",
      "1         10.0   92.0  2014-01-14  routine              1.0   \n",
      "2         10.0   92.0  2014-01-14  routine              1.0   \n",
      "3         10.0   94.0  2014-07-29  routine              2.0   \n",
      "4         10.0   94.0  2014-07-29  routine              2.0   \n",
      "5         24.0  100.0  2013-11-18  routine              1.0   \n",
      "6         24.0   96.0  2014-06-12  routine              2.0   \n",
      "7         24.0   96.0  2014-06-12  routine              2.0   \n",
      "8         24.0   96.0  2014-11-24  routine              3.0   \n",
      "9         24.0   96.0  2016-03-11  routine              4.0   \n",
      "\n",
      "   days_since_first_violation                                name  \\\n",
      "0                         0.0                    TIRAMISU KITCHEN   \n",
      "1                         0.0                    TIRAMISU KITCHEN   \n",
      "2                         0.0                    TIRAMISU KITCHEN   \n",
      "3                       196.0                    TIRAMISU KITCHEN   \n",
      "4                       196.0                    TIRAMISU KITCHEN   \n",
      "5                         0.0  OMNI S.F. HOTEL - 2ND FLOOR PANTRY   \n",
      "6                       206.0  OMNI S.F. HOTEL - 2ND FLOOR PANTRY   \n",
      "7                       206.0  OMNI S.F. HOTEL - 2ND FLOOR PANTRY   \n",
      "8                       371.0  OMNI S.F. HOTEL - 2ND FLOOR PANTRY   \n",
      "9                       844.0  OMNI S.F. HOTEL - 2ND FLOOR PANTRY   \n",
      "\n",
      "                         address           city state      ...       \\\n",
      "0                  033 BELDEN PL  San Francisco    CA      ...        \n",
      "1                  033 BELDEN PL  San Francisco    CA      ...        \n",
      "2                  033 BELDEN PL  San Francisco    CA      ...        \n",
      "3                  033 BELDEN PL  San Francisco    CA      ...        \n",
      "4                  033 BELDEN PL  San Francisco    CA      ...        \n",
      "5  500 CALIFORNIA ST, 2ND  FLOOR  San Francisco    CA      ...        \n",
      "6  500 CALIFORNIA ST, 2ND  FLOOR  San Francisco    CA      ...        \n",
      "7  500 CALIFORNIA ST, 2ND  FLOOR  San Francisco    CA      ...        \n",
      "8  500 CALIFORNIA ST, 2ND  FLOOR  San Francisco    CA      ...        \n",
      "9  500 CALIFORNIA ST, 2ND  FLOOR  San Francisco    CA      ...        \n",
      "\n",
      "  washed fruits  wastewater  wastewater contamination wastewater disposal  \\\n",
      "0             0           0                         0                   0   \n",
      "1             0           0                         0                   0   \n",
      "2             0           0                         0                   0   \n",
      "3             0           0                         0                   0   \n",
      "4             0           0                         0                   0   \n",
      "5             0           0                         0                   0   \n",
      "6             0           0                         0                   0   \n",
      "7             0           0                         0                   0   \n",
      "8             0           0                         0                   0   \n",
      "9             0           0                         0                   0   \n",
      "\n",
      "   water water running wiping wiping cloths  worker worker safety  \n",
      "0      0             0      0             0       0             0  \n",
      "1      0             0      0             0       0             0  \n",
      "2      0             0      0             0       0             0  \n",
      "3      1             1      0             0       0             0  \n",
      "4      0             0      0             0       0             0  \n",
      "5      0             0      0             0       0             0  \n",
      "6      0             0      0             0       0             0  \n",
      "7      0             0      0             0       0             0  \n",
      "8      0             0      0             0       0             0  \n",
      "9      0             0      0             0       0             0  \n",
      "\n",
      "[10 rows x 393 columns]\n",
      "['business_id' 'score' 'date' 'type' 'violation_count'\n",
      " 'days_since_first_violation' 'name' 'address' 'city' 'state' 'postal_code'\n",
      " 'latitude' 'longitude' 'phone_number' 'polygon' 'neighborhood'\n",
      " 'population' 'score_code' 'business_count' 'description' '200' '200 feet'\n",
      " 'adulterated' 'adulterated food' 'advisory' 'advisory provided' 'animal'\n",
      " 'approved' 'approved commissary' 'area' 'area garbage' 'available'\n",
      " 'building' 'building permit' 'card' 'card available' 'ceilings'\n",
      " 'certificate' 'certificate food' 'certified' 'certified food' 'charge'\n",
      " 'charge food' 'clean' 'clean properly' 'cleaned' 'cleaned sanitized'\n",
      " 'cloths' 'cloths clean' 'commissary' 'communicable' 'communicable disease'\n",
      " 'condition' 'conditions' 'constructed' 'constructed toilet' 'consumer'\n",
      " 'consumer advisory' 'contact' 'contact surfaces' 'containers'\n",
      " 'containers area' 'contaminated' 'contaminated adulterated'\n",
      " 'contamination' 'control' 'control measure' 'cooking' 'cooking time'\n",
      " 'cooling' 'cooling methods' 'cottage' 'cottage food' 'defective'\n",
      " 'defective plumbing' 'degraded' 'degraded floors' 'discharge'\n",
      " 'discharge employee' 'disease' 'display' 'disposal' 'dressing'\n",
      " 'dressing rooms' 'eating' 'eating smoking' 'employee'\n",
      " 'employee communicable' 'employee eating' 'employee garments'\n",
      " 'employee nose' 'equipment' 'equipment utensils' 'eye' 'facilities'\n",
      " 'facilities equipment' 'facility' 'facility 200' 'facility operating'\n",
      " 'facility unapproved' 'feet' 'feet mobile' 'fish' 'fish tags' 'floors'\n",
      " 'floors walls' 'food' 'food contact' 'food facility' 'food handler'\n",
      " 'food holding' 'food labeling' 'food operation' 'food poor' 'food safety'\n",
      " 'food served' 'food source' 'food storage' 'foods' 'foods protected'\n",
      " 'fruits' 'fruits vegetables' 'garbage' 'garbage service' 'garments'\n",
      " 'garments hair' 'gloves' 'haacp' 'haacp plan' 'haccp' 'haccp plan' 'hair'\n",
      " 'hair nails' 'handler' 'handler card' 'hands' 'hands improper'\n",
      " 'handwashing' 'handwashing facilities' 'hazards' 'health' 'health control'\n",
      " 'high' 'high risk' 'holding' 'holding temperature' 'hot' 'hot water'\n",
      " 'identification' 'identification toxic' 'ill' 'ill employee' 'improper'\n",
      " 'improper cooking' 'improper cooling' 'improper defective' 'improper food'\n",
      " 'improper reheating' 'improper storage' 'improper thawing' 'improper use'\n",
      " 'improperly' 'improperly constructed' 'improperly washed' 'inaccessible'\n",
      " 'inaccessible handwashing' 'inadequate' 'inadequate dressing'\n",
      " 'inadequate food' 'inadequate haccp' 'inadequate inaccessible'\n",
      " 'inadequate procedures' 'inadequate sanitizer' 'inadequate sewage'\n",
      " 'inadequate unsanitary' 'inadequate ventilation' 'inadequate warewashing'\n",
      " 'inadequately' 'inadequately cleaned' 'infestation' 'inspection'\n",
      " 'inspection report' 'insufficient' 'insufficient hot' 'items' 'keeping'\n",
      " 'knowledge' 'knowledge lack' 'labeling' 'labeling menu' 'lack'\n",
      " 'lack certified' 'license' 'license inspection' 'lighting' 'linens'\n",
      " 'living' 'living quarters' 'low' 'low risk' 'machine' 'manager' 'measure'\n",
      " 'menu' 'menu misrepresentation' 'methods' 'misrepresentation' 'mobile'\n",
      " 'mobile food' 'moderate' 'moderate risk' 'mouth' 'mouth eye' 'nails' 'non'\n",
      " 'non service' 'noncompliance' 'noncompliance cottage'\n",
      " 'noncompliance haacp' 'noncompliance shell' 'noncompliance vending'\n",
      " 'nonfood' 'nonfood contact' 'nose' 'nose mouth' 'operating'\n",
      " 'operating approved' 'operating conditions' 'operation' 'permit'\n",
      " 'permit license' 'person' 'person charge' 'personal' 'personal items'\n",
      " 'plan' 'plan record' 'plan review' 'plan variance' 'plumbing' 'poor'\n",
      " 'poor condition' 'population.1' 'posted' 'previously' 'previously served'\n",
      " 'procedures' 'procedures records' 'prohibited' 'prohibited food'\n",
      " 'properly' 'properly stored' 'protected' 'protected contamination'\n",
      " 'provided' 'provided raw' 'public' 'public health' 'quarters'\n",
      " 'quarters food' 'raw' 'raw undercooked' 'record' 'record keeping'\n",
      " 'records' 'records time' 'refuse' 'refuse containers' 'reheating'\n",
      " 'reheating food' 'report' 'report posted' 'reservice'\n",
      " 'reservice previously' 'restroom' 'restroom facility' 'review'\n",
      " 'review building' 'risk' 'risk food' 'risk vermin' 'risk violation'\n",
      " 'rooms' 'rooms improper' 'running' 'running water' 'safety'\n",
      " 'safety certificate' 'safety hazards' 'safety knowledge' 'safety manager'\n",
      " 'sanitized' 'sanitized food' 'sanitizer' 'sensitive'\n",
      " 'sensitive population' 'served' 'served foods' 'served sensitive'\n",
      " 'service' 'service animal' 'sewage' 'sewage wastewater' 'shell'\n",
      " 'shell fish' 'smoking' 'source' 'storage' 'storage equipment'\n",
      " 'storage personal' 'storage use' 'stored' 'stored inadequate' 'substances'\n",
      " 'surfaces' 'tags' 'tags display' 'temperature' 'temperatures' 'thawing'\n",
      " 'thawing methods' 'thermometers' 'thermometers uncalibrated' 'time'\n",
      " 'time public' 'time temperatures' 'toilet' 'toilet facilities' 'toxic'\n",
      " 'toxic substances' 'unapproved' 'unapproved food' 'unapproved living'\n",
      " 'unapproved operating' 'unapproved unmaintained' 'unauthorized'\n",
      " 'unauthorized unsafe' 'uncalibrated' 'uncalibrated thermometers' 'unclean'\n",
      " 'unclean degraded' 'unclean hands' 'unclean nonfood'\n",
      " 'unclean unmaintained' 'unclean unsanitary' 'undercooked'\n",
      " 'undercooked foods' 'unmaintained' 'unmaintained equipment'\n",
      " 'unmaintained improperly' 'unpermitted' 'unpermitted food' 'unreported'\n",
      " 'unreported unrestricted' 'unrestricted' 'unrestricted ill' 'unsafe'\n",
      " 'unsafe use' 'unsanitary' 'unsanitary employee' 'unsanitary food'\n",
      " 'unsanitary mobile' 'unsanitary refuse' 'use' 'use gloves'\n",
      " 'use identification' 'use time' 'utensils' 'utensils linens' 'variance'\n",
      " 'vegetables' 'vending' 'vending machine' 'ventilation'\n",
      " 'ventilation lighting' 'vermin' 'vermin infestation' 'violation' 'walls'\n",
      " 'walls ceilings' 'warewashing' 'warewashing facilities' 'washed'\n",
      " 'washed fruits' 'wastewater' 'wastewater contamination'\n",
      " 'wastewater disposal' 'water' 'water running' 'wiping' 'wiping cloths'\n",
      " 'worker' 'worker safety']\n"
     ]
    }
   ],
   "source": [
    "file_path = '/Users/tlee010/desktop/san_francisco/san_francisco/yelp_sf_healthcode_violations/neighborhood_legend.csv'\n",
    "yelp_nbhood = pd.read_csv(file_path)\n",
    "print yelp_nbhood.info()\n",
    "\n",
    "\n",
    "yelp_nbhood['pop'] = yelp_nbhood.Population.map(lambda x: int(x.replace(',','')))\n",
    "yelp_nbhood.head()\n",
    "\n",
    "file_path = '/Users/tlee010/desktop/san_francisco/san_francisco/yelp_sf_healthcode_violations/violations_parsed_words.csv'\n",
    "yelp_data = pd.read_csv(file_path)\n",
    "print yelp_data.info()\n",
    "print yelp_data.head(10)\n",
    "\n",
    "print yelp_data.columns.values\n",
    "# predict: score\n",
    "# features, violation count, days since first violation, neighborhood to join, building_permit, card_available, cleaned, facilities equipment\n",
    "subcol = yelp_data[['score','violation_count',]]\n",
    "# by business ID - population, violation count, days since first violation, \n",
    "# #target is score\n",
    "\n",
    "# file_path = '/Users/tlee010/desktop/san_francisco/san_francisco/yelp_sf_healthcode_violations/neighborhood_legend.csv'\n",
    "# yelp_data = pd.read_csv(file_path)\n",
    "# print yelp_data.info()\n"
   ]
  },
  {
   "cell_type": "markdown",
   "metadata": {},
   "source": [
    "<img src=\"http://imgur.com/xDpSobf.png\" style=\"float: left; margin: 25px 15px 0px 0px; height: 25px\">\n",
    "\n",
    "### 4.2 Ploting GridSearch with Lasso, Ridge, or Elasticnet\n",
    "---\n",
    "1. Using the gridsearch results, plot your score in relation to your parameters.\n",
    "1. Plot the effect on your coefficients given alpha.\n",
    "1. Plot any other parameter change to visualize the impact of any other hyperparameter.\n",
    "\n",
    "It's helpful to understand the impact of parameters used in Gridsearch, and that you are comfortable working with the data that is generated for reporting to explore the results visually."
   ]
  },
  {
   "cell_type": "code",
   "execution_count": null,
   "metadata": {
    "collapsed": true
   },
   "outputs": [],
   "source": []
  },
  {
   "cell_type": "markdown",
   "metadata": {},
   "source": [
    "<img src=\"http://imgur.com/GCAf1UX.png\" style=\"float: left; margin: 25px 15px 0px 0px; height: 25px\">\n",
    "\n",
    "## 5. Bias-variance tradeoff\n",
    "\n",
    "---\n",
    "\n",
    "1. Select San Francisco data of your choice and construct a regularized regression model (this can be data from an earlier analysis if you like). Ideally the model should actually improve across regularization strengths...\n",
    "- Gridsearch the regularization parameters to find the optimal.\n",
    "- Plot the regularization parameter against the cross-validated $R^2$.\n",
    "- Explain how regularization and regularization strength is related to the bias-variance tradeoff.\n"
   ]
  },
  {
   "cell_type": "code",
   "execution_count": null,
   "metadata": {
    "collapsed": true
   },
   "outputs": [],
   "source": []
  },
  {
   "cell_type": "markdown",
   "metadata": {},
   "source": [
    "<img src=\"http://imgur.com/xDpSobf.png\" style=\"float: left; margin: 25px 15px 0px 0px; height: 25px\">\n",
    "\n",
    "### 5.1 Calculate the approximated $\\text{bias}^2$ and variance across regularization strengths.\n",
    "\n",
    "---\n",
    "\n",
    "You can obviously use my code from the bias-variance lab to do this. \n",
    "\n",
    "Plot the bias and variance change _with_ the cross-validated $R^2$. \n",
    "\n",
    "You'll need to scale these values somehow to put them on the same chart (I recommend (MinMaxScaler)[http://scikit-learn.org/stable/modules/generated/sklearn.preprocessing.MinMaxScaler.html] to put $\\text{bias}^2$ and variance on the same scale as cross-validated $R^2$."
   ]
  },
  {
   "cell_type": "code",
   "execution_count": null,
   "metadata": {
    "collapsed": true
   },
   "outputs": [],
   "source": []
  },
  {
   "cell_type": "markdown",
   "metadata": {},
   "source": [
    "<img src=\"http://imgur.com/HNPKfE8.png\" style=\"float: left; margin: 25px 15px 0px 0px; height: 25px\">\n",
    "\n",
    "## 6. Custom regularized regression penalties\n",
    "\n",
    "---\n",
    "\n",
    "The $\\lambda1$ and $\\lambda2$ norm regularization penalties (Lasso and Ridge) are the most commonly used regularization penalties. They have a solid foundation in statistics and evidence of effectiveness. However, these are not the only possible penalties for regression – sometimes new, customized penalties give additional performance and predictive power to models depending on the context.\n",
    "\n",
    "For example, when I worked in neuroscience [we created an effective penalized regression dubbed \"GraphNet\"](http://arxiv.org/abs/1110.4139) that combined the Lasso and Ridge penalties like in Elastic net with a third penalty that rewarded clustering of coefficients according to physical distance in FMRI brain activation data.\n",
    "\n",
    "**Devise of and implement a penalized regression for San Francisco data.** What is your rationale – why would this be useful? How does it perform compared to the standard Ridge, Lasso, and Elastic Net penalties?"
   ]
  },
  {
   "cell_type": "code",
   "execution_count": null,
   "metadata": {
    "collapsed": true
   },
   "outputs": [],
   "source": []
  }
 ],
 "metadata": {
  "anaconda-cloud": {},
  "kernelspec": {
   "display_name": "Python 2",
   "language": "python",
   "name": "python2"
  },
  "language_info": {
   "codemirror_mode": {
    "name": "ipython",
    "version": 2
   },
   "file_extension": ".py",
   "mimetype": "text/x-python",
   "name": "python",
   "nbconvert_exporter": "python",
   "pygments_lexer": "ipython2",
   "version": "2.7.11"
  }
 },
 "nbformat": 4,
 "nbformat_minor": 0
}
