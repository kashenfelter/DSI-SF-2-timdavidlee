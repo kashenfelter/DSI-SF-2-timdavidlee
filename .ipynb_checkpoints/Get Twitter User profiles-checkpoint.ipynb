{
 "cells": [
  {
   "cell_type": "code",
   "execution_count": 145,
   "metadata": {
    "collapsed": true
   },
   "outputs": [],
   "source": [
    "users = ['ASC_SolarRacing'\n",
    ",'ScientificGems'\n",
    ",'prinsolar'\n",
    ",'MidwestNPS'\n",
    ",'SCT_Ops'\n",
    ",'Team_PrISUm'\n",
    ",'UKSolarCar'\n",
    ",'UMSolarCarTeam'\n",
    ",'ruthneale'\n",
    ",'michelle_neil'\n",
    ",'ASC_WA'\n",
    ",'AppalachianSVT'\n",
    ",'FlyRwandAir'\n",
    ",'SkillsMalaysia'\n",
    ",'americancrewmx'\n",
    ",'toddbarnard'\n",
    ",'SolarMiner'\n",
    ",'whthome'\n",
    ",'auscicomm'\n",
    ",'kristinalford'\n",
    ",'Ha_Tanya'\n",
    ",'MatataChristope'\n",
    ",'MelanieShedd'\n",
    ",'_tiamaree'\n",
    ",'PJOmotorcity'\n",
    ",'americancrew'\n",
    ",'Science_Academy'\n",
    ",'Grandpois'\n",
    ",'GMatshego'\n",
    ",'BRVB_NHS'\n",
    ",'AlicePopps'\n",
    ",'AAMRI_Aus'\n",
    ",'PittRace'\n",
    ",'SCoRMembers'\n",
    ",'Jeddah_ASC'\n",
    ",'Tillsify'\n",
    ",'AfricanAirlines'\n",
    ",'MissouriSandT'\n",
    ",'sciencesarah'\n",
    ",'MidwestMeetings'\n",
    ",'crawshaw_1'\n",
    ",'coachchrispete1'\n",
    ",'AkageraAviation'\n",
    ",'UKEngineering'\n",
    ",'clairejabrown'\n",
    ",'mosupye'\n",
    ",'HotelCrow'\n",
    ",'PrinSolarSupp'\n",
    ",'Kabeeraeric'\n",
    ",'GeorgeRClarkNPS'\n",
    ",'JennieReeves'\n",
    ",'RiAus'\n",
    ",'BiancaNogrady'\n",
    ",'kelvin_kaisi'\n",
    ",'KateCCranney'\n",
    ",'TJCoff'\n",
    ",'sandtcec'\n",
    ",'RichardEvans40'\n",
    ",'CVNPNPS'\n",
    ",'TessaEEvans'\n",
    ",'drkelate'\n",
    ",'unathinotununu'\n",
    ",'GochermannSolar'\n",
    ",'body_building'\n",
    ",'janson_h'\n",
    ",'SoulShany'\n",
    ",'AstroFeldy'\n",
    ",'CarolynBurnett1'\n",
    ",'mukamana25'\n",
    ",'UMich'\n",
    ",'pintofscienceAU'\n",
    ",'BDibate'\n",
    ",'MarineSciComm'\n",
    ",'skepticscience'\n",
    ",'nhmrc_cdpc'\n",
    ",'cleared4takeof'\n",
    ",'EKayitaba'\n",
    ",'blueskysolar77'\n",
    ",'elliebm99'\n",
    ",'CatyBethXD'\n",
    ",'forcvnp'\n",
    ",'UWaterloo'\n",
    ",'fredkiige'\n",
    ",'PromiseAnagolu'\n",
    ",'funkieadeyemi'\n",
    ",'RwandaInfra'\n",
    ",'couragesings'\n",
    ",'CAA_Kenya'\n",
    ",'GuillaumeFort20'\n",
    ",'uoftengineering'\n",
    ",'HahnAirLines'\n",
    ",'USGrantNPS'\n",
    ",'holdfast915'\n",
    ",'baumeier'\n",
    ",'0o2t0e4m3o5n'\n",
    ",'NPSDeniseRyan'\n",
    ",'IowaStateUNews'\n",
    ",'reidy_76'\n",
    ",'JabulileRadebe'\n",
    ",'RRIBG'\n",
    ",'CrawfordFund'\n",
    ",'S4Pattern'\n",
    ",'JustnHarrison'\n",
    ",'skylerkat16'\n",
    ",'LabAdelaide'\n",
    ",'tifffhu'\n",
    ",'LaLaLausy'\n",
    ",'DrAStephenson'\n",
    ",'lisushi'\n",
    ",'lycrageek'\n",
    ",'AZinBNE'\n",
    ",'StantonBarry'\n",
    ",'davidlyall'\n",
    ",'ParisInstagram'\n",
    ",'Isode_Ltd'\n",
    ",'scienceinpublic'\n",
    ",'ISUResearch'\n",
    ",'dorasmith'\n",
    ",'ISUSolarCarTeam'\n",
    ",'abicwilliamson'\n",
    ",'firemouth55'\n",
    ",'Salon_Magazine'\n",
    ",'jackie_randles'\n",
    ",'BSCPG1'\n",
    ",'Jadwong'\n",
    ",'DocBMo'\n",
    ",'Jakub_Thornley'\n",
    ",'FireballsSky'\n",
    ",'fltechnics'\n",
    ",'dasgroupta'\n",
    ",'Japh_okemwa'\n",
    ",'QUTTheCube'\n",
    ",'airgatesolution'\n",
    ",'Rustibee'\n",
    ",'ASCRM41'\n",
    ",'SarahKlistorner'\n",
    ",'Jesselopod'\n",
    ",'alliance4solar'\n",
    ",'JGB_Burken'\n",
    ",'skyscraper91'\n",
    ",'JillMcCorkel'\n",
    ",'the_green_pen'\n",
    ",'jimmy_rizzu'\n",
    ",'TravelNewsRw'\n",
    ",'JohnKilcoyneCEO'\n",
    ",'CJ_Editor'\n",
    ",'JoJocm82'\n",
    ",'OntarioGermany'\n",
    ",'jonessurgery'\n",
    ",'PastorAFT'\n",
    ",'jpk466'\n",
    ",'BerkeleyCalSol'\n",
    ",'jsh1jsh1'\n",
    ",'gmusser'\n",
    ",'juliaangeles04'\n",
    ",'REZQEENHILL'\n",
    ",'AMscifest'\n",
    ",'RoboticsFun'\n",
    ",'ASCWimbledon'\n",
    ",'ademrudin'\n",
    ",'KaikuHealth'\n",
    ",'SandTChancellor'\n",
    ",'KarekeziOscar'\n",
    ",'BodybyIan'\n",
    ",'_kitvalencia'\n",
    ",'BrisConventions'\n",
    ",'AdamAmpang86'\n",
    ",'Sinchita_Roy'\n",
    ",'Ken1KTN'\n",
    ",'skyedoherty'\n",
    ",'kireton'\n",
    ",'Den15eE'\n",
    ",'auliafili'\n",
    ",'teamchunksph'\n",
    ",'KUTT995'\n",
    ",'TheSciNation'\n",
    ",'dunwoodycollege'\n",
    ",'donnadlu'\n",
    ",'fortguillaume'\n",
    ",'IFE_QUT'\n",
    ",'larry_winters'\n",
    ",'umnsvp'\n",
    ",'LegacyDG'\n",
    ",'UniversalGenes'\n",
    ",'LHConsultant'\n",
    ",'OECanalway'\n",
    ",'lhunt314'\n",
    ",'OPoppins'\n",
    ",'e__music'\n",
    ",'ParksPassport'\n",
    ",'Livnitrite'\n",
    ",'pauldiaz1776'\n",
    ",'LLDanish'\n",
    ",'davevagg'\n",
    ",'LovingLifeCR'\n",
    ",'polymtl'\n",
    ",'lwillBCSD'\n",
    ",'BigNetta24'\n",
    ",'froger84'\n",
    ",'PyanCGT'\n",
    ",'lyndalscience'\n",
    ",'adaliatakyi'\n",
    ",'m1composites'\n",
    ",'AnneteBongiwe'\n",
    ",'Mainaj'\n",
    ",'riddle43'\n",
    ",'marcoslepe'\n",
    ",'Elonheimo'\n",
    ",'vasylevsky'\n",
    ",'DavidPBLRoss'\n",
    ",'veskiorg'\n",
    ",'ErnestMushi3'\n",
    ",'WestarEnergy'\n",
    ",'davidtulauskas'\n",
    ",'AmaliaCochranMD'\n",
    ",'SarahB_MD'\n",
    ",'WitsASC'\n",
    ",'SCHROTHRACING'\n",
    ",'yhnspradipta'\n",
    ",'science_swan'\n",
    ",'DrHillaryPotter'\n",
    ",'brendam'\n",
    ",'michaelwrouse'\n",
    ",'bruunosoneeca'\n",
    ",'GabyMyt'\n",
    ",'SeamorROV'\n",
    ",'GCochevelou'\n",
    ",'Healthy_Forests'\n",
    ",'b4theabstract'\n",
    ",'SkuleAlumni'\n",
    ",'MischaAndrews'\n",
    ",'Held24'\n",
    ",'BARIKAPOOLE'\n",
    ",'BSLive16'\n",
    ",'MononInc'\n",
    ",'spacecreating'\n",
    ",'gdub_hines'\n",
    ",'eurocriminology'\n",
    ",'msHmooney'\n",
    ",'DerrickS44'\n",
    ",'CNkulikiyinka'\n",
    ",'TheHUBRoutes'\n",
    ",'MutuotaJam'\n",
    ",'fabiofitoficial'\n",
    ",'nataliepifer'\n",
    ",'tipsontap'\n",
    ",'ncyril10'\n",
    ",'Catalyst_not'\n",
    ",'NgarambeVital'\n",
    ",'tully_barnett'\n",
    ",'anais_tschanz'\n",
    ",'CitSciOZ'\n",
    ",'NokoIngrid'\n",
    ",'UMichES'\n",
    ",'norehamohd'\n",
    ",'UMPlanetBlue'\n",
    ",'NorthwesternEng'\n",
    ",'inspiringACT'\n",
    ",'AnikaTeneRich'\n",
    ",'UofMAdmissions'\n",
    ",'NQueInspiran'\n",
    ",'ishimwemaria'\n",
    ",'nsd_21'\n",
    ",'DrCassCross'\n",
    ",'B2G200'\n",
    ",'Waternet'\n",
    ",'MarissaLTD'\n",
    ",'whereisdaz'\n",
    ",'aus_synchrotron'\n",
    ",'william_vann'\n",
    ",'mattgoode0'\n",
    ",'WTWH_Tom'\n",
    ",'_nanatagabucba'\n",
    ",'yolandpongayouw'\n",
    ",'Meronamsachinho'\n",
    ",'MGRoutes']"
   ]
  },
  {
   "cell_type": "code",
   "execution_count": 2,
   "metadata": {
    "collapsed": false
   },
   "outputs": [
    {
     "name": "stdout",
     "output_type": "stream",
     "text": [
      "['ASC_SolarRacing', 'ScientificGems', 'prinsolar', 'MidwestNPS', 'SCT_Ops', 'Team_PrISUm', 'UKSolarCar', 'UMSolarCarTeam', 'ruthneale', 'michelle_neil', 'ASC_WA', 'AppalachianSVT', 'FlyRwandAir', 'SkillsMalaysia', 'americancrewmx', 'toddbarnard', 'SolarMiner', 'whthome', 'auscicomm', 'kristinalford', 'Ha_Tanya', 'MatataChristope', 'MelanieShedd', '_tiamaree', 'PJOmotorcity', 'americancrew', 'Science_Academy', 'Grandpois', 'GMatshego', 'BRVB_NHS', 'AlicePopps', 'AAMRI_Aus', 'PittRace', 'SCoRMembers', 'Jeddah_ASC', 'Tillsify', 'AfricanAirlines', 'MissouriSandT', 'sciencesarah', 'MidwestMeetings', 'crawshaw_1', 'coachchrispete1', 'AkageraAviation', 'UKEngineering', 'clairejabrown', 'mosupye', 'HotelCrow', 'PrinSolarSupp', 'Kabeeraeric', 'GeorgeRClarkNPS', 'JennieReeves', 'RiAus', 'BiancaNogrady', 'kelvin_kaisi', 'KateCCranney', 'TJCoff', 'sandtcec', 'RichardEvans40', 'CVNPNPS', 'TessaEEvans', 'drkelate', 'unathinotununu', 'GochermannSolar', 'body_building', 'janson_h', 'SoulShany', 'AstroFeldy', 'CarolynBurnett1', 'mukamana25', 'UMich', 'pintofscienceAU', 'BDibate', 'MarineSciComm', 'skepticscience', 'nhmrc_cdpc', 'cleared4takeof', 'EKayitaba', 'blueskysolar77', 'elliebm99', 'CatyBethXD', 'forcvnp', 'UWaterloo', 'fredkiige', 'PromiseAnagolu', 'funkieadeyemi', 'RwandaInfra', 'couragesings', 'CAA_Kenya', 'GuillaumeFort20', 'uoftengineering', 'HahnAirLines', 'USGrantNPS', 'holdfast915', 'baumeier', '0o2t0e4m3o5n', 'NPSDeniseRyan', 'IowaStateUNews', 'reidy_76', 'JabulileRadebe', 'RRIBG', 'CrawfordFund', 'S4Pattern', 'JustnHarrison', 'skylerkat16', 'LabAdelaide', 'tifffhu', 'LaLaLausy', 'DrAStephenson', 'lisushi', 'lycrageek', 'AZinBNE', 'StantonBarry', 'davidlyall', 'ParisInstagram', 'Isode_Ltd', 'scienceinpublic', 'ISUResearch', 'dorasmith', 'ISUSolarCarTeam', 'abicwilliamson', 'firemouth55', 'Salon_Magazine', 'jackie_randles', 'BSCPG1', 'Jadwong', 'DocBMo', 'Jakub_Thornley', 'FireballsSky', 'fltechnics', 'dasgroupta', 'Japh_okemwa', 'QUTTheCube', 'airgatesolution', 'Rustibee', 'ASCRM41', 'SarahKlistorner', 'Jesselopod', 'alliance4solar', 'JGB_Burken', 'skyscraper91', 'JillMcCorkel', 'the_green_pen', 'jimmy_rizzu', 'TravelNewsRw', 'JohnKilcoyneCEO', 'CJ_Editor', 'JoJocm82', 'OntarioGermany', 'jonessurgery', 'PastorAFT', 'jpk466', 'BerkeleyCalSol', 'jsh1jsh1', 'gmusser', 'juliaangeles04', 'REZQEENHILL', 'AMscifest', 'RoboticsFun', 'ASCWimbledon', 'ademrudin', 'KaikuHealth', 'SandTChancellor', 'KarekeziOscar', 'BodybyIan', '_kitvalencia', 'BrisConventions', 'AdamAmpang86', 'Sinchita_Roy', 'Ken1KTN', 'skyedoherty', 'kireton', 'Den15eE', 'auliafili', 'teamchunksph', 'KUTT995', 'TheSciNation', 'dunwoodycollege', 'donnadlu', 'fortguillaume', 'IFE_QUT', 'larry_winters', 'umnsvp', 'LegacyDG', 'UniversalGenes', 'LHConsultant', 'OECanalway', 'lhunt314', 'OPoppins', 'e__music', 'ParksPassport', 'Livnitrite', 'pauldiaz1776', 'LLDanish', 'davevagg', 'LovingLifeCR', 'polymtl', 'lwillBCSD', 'BigNetta24', 'froger84', 'PyanCGT', 'lyndalscience', 'adaliatakyi', 'm1composites', 'AnneteBongiwe', 'Mainaj', 'riddle43', 'marcoslepe', 'Elonheimo', 'vasylevsky', 'DavidPBLRoss', 'veskiorg', 'ErnestMushi3', 'WestarEnergy', 'davidtulauskas', 'AmaliaCochranMD', 'SarahB_MD', 'WitsASC', 'SCHROTHRACING', 'yhnspradipta', 'science_swan', 'DrHillaryPotter', 'brendam', 'michaelwrouse', 'bruunosoneeca', 'GabyMyt', 'SeamorROV', 'GCochevelou', 'Healthy_Forests', 'b4theabstract', 'SkuleAlumni', 'MischaAndrews', 'Held24', 'BARIKAPOOLE', 'BSLive16', 'MononInc', 'spacecreating', 'gdub_hines', 'eurocriminology', 'msHmooney', 'DerrickS44', 'CNkulikiyinka', 'TheHUBRoutes', 'MutuotaJam', 'fabiofitoficial', 'nataliepifer', 'tipsontap', 'ncyril10', 'Catalyst_not', 'NgarambeVital', 'tully_barnett', 'anais_tschanz', 'CitSciOZ', 'NokoIngrid', 'UMichES', 'norehamohd', 'UMPlanetBlue', 'NorthwesternEng', 'inspiringACT', 'AnikaTeneRich', 'UofMAdmissions', 'NQueInspiran', 'ishimwemaria', 'nsd_21', 'DrCassCross', 'B2G200', 'Waternet', 'MarissaLTD', 'whereisdaz', 'aus_synchrotron', 'william_vann', 'mattgoode0', 'WTWH_Tom', '_nanatagabucba', 'yolandpongayouw', 'Meronamsachinho', 'MGRoutes']\n"
     ]
    }
   ],
   "source": [
    "print users"
   ]
  },
  {
   "cell_type": "code",
   "execution_count": 101,
   "metadata": {
    "collapsed": false
   },
   "outputs": [],
   "source": [
    "from scrapy.selector import Selector\n",
    "from scrapy.http import HtmlResponse\n",
    "from pprint import pprint\n",
    "from bs4 import BeautifulSoup as bs\n",
    "\n",
    "import requests\n",
    "\n",
    "#indeed job site:\n",
    "\n",
    "target_url = 'http://www.twitter.com/DrCassCross'\n",
    "response = requests.get(target_url)\n",
    "HTML = response.text   "
   ]
  },
  {
   "cell_type": "code",
   "execution_count": 102,
   "metadata": {
    "collapsed": false
   },
   "outputs": [
    {
     "name": "stdout",
     "output_type": "stream",
     "text": [
      "[u'<div class=\"ProfileHeaderCard\">\\n  <h1 class=\"ProfileHeaderCard-name\">\\n    <a href=\"/DrCassCross\" class=\"ProfileHeaderCard-nameLink u-textInheritColor js-nav\\n\">Cassandra Cross</a>\\n  </h1>\\n\\n  <h2 class=\"ProfileHeaderCard-screenname u-inlineBlock u-dir\" dir=\"ltr\">\\n    <a class=\"ProfileHeaderCard-screennameLink u-linkComplex js-nav\" href=\"/DrCassCross\">@<span class=\"u-linkComplex-target\">DrCassCross</span></a>\\n  </h2>\\n\\n    <p class=\"ProfileHeaderCard-bio u-dir\" dir=\"ltr\">Criminologist <a href=\"/CrimeJusticeQUT\" class=\"tweet-url twitter-atreply pretty-link\" dir=\"ltr\" data-mentioned-user-id=\"0\" rel=\"nofollow\"><s>@</s><b>CrimeJusticeQUT</b></a> My research focuses on all aspects of <a href=\"/hashtag/onlinefraud?src=hash\" data-query-source=\"hashtag_click\" class=\"twitter-hashtag pretty-link js-nav\" dir=\"ltr\"><s>#</s><b>onlinefraud</b></a> including policing, prevention and victim support. <a href=\"/ChurchillTrust\" class=\"tweet-url twitter-atreply pretty-link\" dir=\"ltr\" data-mentioned-user-id=\"0\" rel=\"nofollow\"><s>@</s><b>ChurchillTrust</b></a> fellow 2011</p>\\n\\n      <div class=\"ProfileHeaderCard-location\">\\n        <span class=\"Icon Icon--geo Icon--medium\"></span>\\n        <span class=\"ProfileHeaderCard-locationText u-dir\" dir=\"ltr\">\\n            Brisbane, Australia\\n        </span>\\n      </div>\\n\\n      <div class=\"ProfileHeaderCard-url \">\\n        <span class=\"Icon Icon--url Icon--medium\"></span>\\n        <span class=\"ProfileHeaderCard-urlText u-dir\" dir=\"ltr\">  <a class=\"u-textUserColor\" target=\"_blank\" rel=\"me nofollow\" href=\"https://t.co/7DCfXWVTmg\" title=\"http://staff.qut.edu.au/staff/raymentc/\">\\n    staff.qut.edu.au/staff/raymentc/\\n  </a>\\n\\n</span>\\n      </div>\\n\\n\\n    <div class=\"ProfileHeaderCard-joinDate\">\\n      <span class=\"Icon Icon--calendar Icon--small\"></span>\\n      <span class=\"ProfileHeaderCard-joinDateText js-tooltip u-dir\" dir=\"ltr\" title=\"4:58 PM - 11 Dec 2014\">Joined December 2014</span>\\n    </div>\\n\\n      <div class=\"ProfileHeaderCard-birthdate u-hidden\">\\n        <span class=\"Icon Icon--balloon Icon--medium\"></span>\\n        <span class=\"ProfileHeaderCard-birthdateText u-dir\" dir=\"ltr\">\\n</span>\\n      </div>\\n\\n\\n</div>']\n"
     ]
    }
   ],
   "source": [
    "print Selector(text=HTML).xpath(\"//div[@class='ProfileHeaderCard']\").extract()"
   ]
  },
  {
   "cell_type": "code",
   "execution_count": 131,
   "metadata": {
    "collapsed": false
   },
   "outputs": [
    {
     "name": "stdout",
     "output_type": "stream",
     "text": [
      "[u'DrCassCross']\n",
      "[u'Cassandra Cross']\n",
      "[u'\\n            Brisbane, Australia\\n        ']\n",
      "[u'4:58 PM - 11 Dec 2014']\n",
      "[u'Criminologist ', u' My research focuses on all aspects of ', u' including policing, prevention and victim support. ', u' fellow 2011']\n",
      "[u'\\n    staff.qut.edu.au/staff/raymentc/\\n  ']\n",
      "[u'\\n']\n"
     ]
    }
   ],
   "source": [
    "#screen name\n",
    "print Selector(text=HTML).xpath(\"//div[@class='ProfileHeaderCard']/h2/a/span/text()\").extract()\n",
    "print Selector(text=HTML).xpath(\"//div[@class='ProfileHeaderCard']/h1/a/text()\").extract()\n",
    "print Selector(text=HTML).xpath(\"//div[@class='ProfileHeaderCard']/div/span[@class='ProfileHeaderCard-locationText u-dir']/text()\").extract()\n",
    "print Selector(text=HTML).xpath(\"//div[@class='ProfileHeaderCard']/div/span[@class='ProfileHeaderCard-joinDateText js-tooltip u-dir']/@title\").extract()\n",
    "print Selector(text=HTML).xpath(\"//div[@class='ProfileHeaderCard']/p/text()\").extract()\n",
    "print Selector(text=HTML).xpath('//div[@class=\"ProfileHeaderCard\"]/div/span/a/text()').extract()\n",
    "print Selector(text=HTML).xpath(\"//div[@class='ProfileHeaderCard']/div/span[@class='ProfileHeaderCard-birthdateText u-dir']/text()\").extract()\n",
    "\n"
   ]
  },
  {
   "cell_type": "code",
   "execution_count": 130,
   "metadata": {
    "collapsed": false
   },
   "outputs": [
    {
     "name": "stdout",
     "output_type": "stream",
     "text": [
      "[u'Tweets', u'Following', u'Followers', u'Likes', u'\\xa0']\n",
      "[u'5,312', u'337', u'744', u'1,848', u'More ']\n"
     ]
    }
   ],
   "source": [
    "#tweets - followers, following, tweets list\n",
    "print Selector(text=HTML).xpath('//div[@class=\"ProfileNav\"]/ul/li/a/span[@class=\"ProfileNav-label\"]/text()').extract()\n",
    "print Selector(text=HTML).xpath('//div[@class=\"ProfileNav\"]/ul/li/a/span[@class=\"ProfileNav-value\"]/text()').extract()\n"
   ]
  },
  {
   "cell_type": "code",
   "execution_count": 183,
   "metadata": {
    "collapsed": false
   },
   "outputs": [],
   "source": [
    "class tweetuser():\n",
    "    def __init__(self, screenname, name, location, joindate, profiletext, website,birthdate, statslabels, statsnumbers ):\n",
    "        self.screenname = screenname\n",
    "        self.name = name\n",
    "        self.location = location\n",
    "        self.joindate = joindate\n",
    "        self.profiletext = profiletext\n",
    "        self.website = website\n",
    "        self.birthdate = birthdate\n",
    "        self.statslabels = statslabels\n",
    "        self.statsnumbers = statsnumbers\n",
    "        \n",
    "        self.stats = {}\n",
    "        for i,j in zip(statslabels, statsnumbers):\n",
    "            self.stats[i] = j\n",
    "    def displayusers(self):\n",
    "        print 'Screen Name: %s \\n Name: %s \\n Location: %s \\n, JoinDate: %s \\n, ProfileText: %s \\n, Website: %s \\n, Birthday: %s \\n' % (self.screenname, self.name, self.location, self.joindate, self.profiletext, self.website, self.birthdate)\n",
    "        print self.stats\n",
    "    \n",
    " \n",
    "        "
   ]
  },
  {
   "cell_type": "code",
   "execution_count": 185,
   "metadata": {
    "collapsed": false
   },
   "outputs": [],
   "source": [
    "all_users = []\n",
    "def extractRecord(HTML):\n",
    "    screenname = ''.join(Selector(text=HTML).xpath(\"//div[@class='ProfileHeaderCard']/h2/a/span/text()\").extract()).strip()\n",
    "    name = ''.join(Selector(text=HTML).xpath(\"//div[@class='ProfileHeaderCard']/h1/a/text()\").extract()).strip()\n",
    "    location = ''.join(Selector(text=HTML).xpath(\"//div[@class='ProfileHeaderCard']/div/span[@class='ProfileHeaderCard-locationText u-dir']/text()\").extract()).strip()\n",
    "    joindate = ''.join(Selector(text=HTML).xpath(\"//div[@class='ProfileHeaderCard']/div/span[@class='ProfileHeaderCard-joinDateText js-tooltip u-dir']/@title\").extract()).strip()\n",
    "    profiletext = ''.join(Selector(text=HTML).xpath(\"//div[@class='ProfileHeaderCard']/p/text()\").extract()).strip()\n",
    "    website =''.join(Selector(text=HTML).xpath('//div[@class=\"ProfileHeaderCard\"]/div/span/a/text()').extract()).strip()\n",
    "    birthdate = ''.join(Selector(text=HTML).xpath(\"//div[@class='ProfileHeaderCard']/div/span[@class='ProfileHeaderCard-birthdateText u-dir']/text()\").extract()).strip()\n",
    "    statslabels =[x.encode('utf-8') for x in Selector(text=HTML).xpath('//div[@class=\"ProfileNav\"]/ul/li/a/span[@class=\"ProfileNav-label\"]/text()').extract()]\n",
    "    statsnumbers = [x.encode('utf-8') for x in Selector(text=HTML).xpath('//div[@class=\"ProfileNav\"]/ul/li/a/span[@class=\"ProfileNav-value\"]/text()').extract()]\n",
    "    all_users.append(tweetuser(screenname, name, location, joindate, profiletext, website,birthdate, statslabels, statsnumbers))\n",
    "    import time\n",
    "    import random    \n",
    "    time.sleep(random.randint(1,4))\n"
   ]
  },
  {
   "cell_type": "code",
   "execution_count": 184,
   "metadata": {
    "collapsed": false
   },
   "outputs": [
    {
     "name": "stdout",
     "output_type": "stream",
     "text": [
      "1\n",
      "2\n",
      "3\n",
      "4\n",
      "5\n",
      "6\n",
      "7\n",
      "8\n",
      "9\n",
      "10\n",
      "11\n",
      "12\n",
      "13\n",
      "14\n",
      "15\n",
      "16\n",
      "17\n",
      "18\n",
      "19\n",
      "20\n",
      "21\n",
      "22\n",
      "23\n",
      "24\n"
     ]
    },
    {
     "ename": "KeyboardInterrupt",
     "evalue": "",
     "output_type": "error",
     "traceback": [
      "\u001b[0;31m---------------------------------------------------------------------------\u001b[0m",
      "\u001b[0;31mKeyboardInterrupt\u001b[0m                         Traceback (most recent call last)",
      "\u001b[0;32m<ipython-input-184-f81284cb5daf>\u001b[0m in \u001b[0;36m<module>\u001b[0;34m()\u001b[0m\n\u001b[1;32m      6\u001b[0m     \u001b[0mresponse\u001b[0m \u001b[0;34m=\u001b[0m \u001b[0mrequests\u001b[0m\u001b[0;34m.\u001b[0m\u001b[0mget\u001b[0m\u001b[0;34m(\u001b[0m\u001b[0mtarget_url\u001b[0m\u001b[0;34m+\u001b[0m\u001b[0;34m'/'\u001b[0m\u001b[0;34m+\u001b[0m\u001b[0mx\u001b[0m\u001b[0;34m)\u001b[0m\u001b[0;34m\u001b[0m\u001b[0m\n\u001b[1;32m      7\u001b[0m     \u001b[0mHTML\u001b[0m \u001b[0;34m=\u001b[0m \u001b[0mresponse\u001b[0m\u001b[0;34m.\u001b[0m\u001b[0mtext\u001b[0m\u001b[0;34m\u001b[0m\u001b[0m\n\u001b[0;32m----> 8\u001b[0;31m     \u001b[0mextractRecord\u001b[0m\u001b[0;34m(\u001b[0m\u001b[0mHTML\u001b[0m\u001b[0;34m)\u001b[0m\u001b[0;34m\u001b[0m\u001b[0m\n\u001b[0m\u001b[1;32m      9\u001b[0m     \u001b[0mi\u001b[0m\u001b[0;34m+=\u001b[0m\u001b[0;36m1\u001b[0m\u001b[0;34m\u001b[0m\u001b[0m\n\u001b[1;32m     10\u001b[0m     \u001b[0;32mprint\u001b[0m \u001b[0mi\u001b[0m\u001b[0;34m\u001b[0m\u001b[0m\n",
      "\u001b[0;32m<ipython-input-182-7bece647af35>\u001b[0m in \u001b[0;36mextractRecord\u001b[0;34m(HTML)\u001b[0m\n\u001b[1;32m     12\u001b[0m     \u001b[0mall_users\u001b[0m\u001b[0;34m.\u001b[0m\u001b[0mappend\u001b[0m\u001b[0;34m(\u001b[0m\u001b[0mtweetuser\u001b[0m\u001b[0;34m(\u001b[0m\u001b[0mscreenname\u001b[0m\u001b[0;34m,\u001b[0m \u001b[0mname\u001b[0m\u001b[0;34m,\u001b[0m \u001b[0mlocation\u001b[0m\u001b[0;34m,\u001b[0m \u001b[0mjoindate\u001b[0m\u001b[0;34m,\u001b[0m \u001b[0mprofiletext\u001b[0m\u001b[0;34m,\u001b[0m \u001b[0mwebsite\u001b[0m\u001b[0;34m,\u001b[0m\u001b[0mbirthdate\u001b[0m\u001b[0;34m,\u001b[0m \u001b[0mstatslabels\u001b[0m\u001b[0;34m,\u001b[0m \u001b[0mstatsnumbers\u001b[0m\u001b[0;34m)\u001b[0m\u001b[0;34m)\u001b[0m\u001b[0;34m\u001b[0m\u001b[0m\n\u001b[1;32m     13\u001b[0m     \u001b[0;32mimport\u001b[0m \u001b[0mtime\u001b[0m\u001b[0;34m\u001b[0m\u001b[0m\n\u001b[0;32m---> 14\u001b[0;31m     \u001b[0mtime\u001b[0m\u001b[0;34m.\u001b[0m\u001b[0msleep\u001b[0m\u001b[0;34m(\u001b[0m\u001b[0;36m5\u001b[0m\u001b[0;34m)\u001b[0m\u001b[0;34m\u001b[0m\u001b[0m\n\u001b[0m",
      "\u001b[0;31mKeyboardInterrupt\u001b[0m: "
     ]
    }
   ],
   "source": [
    "all_users = []\n",
    "i = 0\n",
    "for x in users:\n",
    "    target_url = 'http://www.twitter.com'\n",
    "    #print target_url+'/'+x\n",
    "    response = requests.get(target_url+'/'+x)\n",
    "    HTML = response.text\n",
    "    extractRecord(HTML)\n",
    "    i+=1\n",
    "    print i\n"
   ]
  },
  {
   "cell_type": "code",
   "execution_count": 163,
   "metadata": {
    "collapsed": false
   },
   "outputs": [
    {
     "name": "stdout",
     "output_type": "stream",
     "text": [
      "<type 'instance'>\n",
      "<type 'instance'>\n",
      "<type 'instance'>\n",
      "<type 'instance'>\n",
      "<type 'instance'>\n",
      "<type 'instance'>\n",
      "<type 'instance'>\n",
      "<type 'instance'>\n",
      "<type 'instance'>\n",
      "<type 'instance'>\n",
      "<type 'instance'>\n"
     ]
    }
   ],
   "source": [
    "for y in all_users:\n",
    "    print type(y)"
   ]
  },
  {
   "cell_type": "code",
   "execution_count": null,
   "metadata": {
    "collapsed": true
   },
   "outputs": [],
   "source": []
  }
 ],
 "metadata": {
  "kernelspec": {
   "display_name": "Python [dsi]",
   "language": "python",
   "name": "Python [dsi]"
  },
  "language_info": {
   "codemirror_mode": {
    "name": "ipython",
    "version": 2
   },
   "file_extension": ".py",
   "mimetype": "text/x-python",
   "name": "python",
   "nbconvert_exporter": "python",
   "pygments_lexer": "ipython2",
   "version": "2.7.12"
  }
 },
 "nbformat": 4,
 "nbformat_minor": 0
}
